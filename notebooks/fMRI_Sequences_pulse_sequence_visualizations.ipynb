{
 "cells": [
  {
   "cell_type": "markdown",
   "id": "22969544",
   "metadata": {},
   "source": [
    "# Creating the simple pulse sequence diagram as code\n",
    "\n",
    "This will also for accuracy and flexibility when used for visualization"
   ]
  },
  {
   "cell_type": "code",
   "execution_count": null,
   "id": "194acb19",
   "metadata": {},
   "outputs": [],
   "source": [
    "import numpy as np\n",
    "from matplotlib import pyplot as plt"
   ]
  },
  {
   "cell_type": "code",
   "execution_count": null,
   "id": "5c670cdf",
   "metadata": {},
   "outputs": [],
   "source": [
    "def plt_sinc(x_start, x_dur):\n",
    "    n_vals = 100\n",
    "    sinc_vals = np.sinc(np.linspace(-4, 4, n_vals))\n",
    "    sinc_timing = np.linspace(x_start, x_start+x_dur, n_vals)\n",
    "    plt.plot(sinc_timing, sinc_vals, linewidth=0.75)\n",
    "\n",
    "def plt_sin(x_center, x_dur, n_cycles, color):\n",
    "    n_vals = 1000\n",
    "    sin_vals = np.sin(n_cycles*2*np.pi*np.linspace(0,1,n_vals))/2\n",
    "    sin_timing = np.linspace(x_center-x_dur/2, x_center+x_dur/2, n_vals)\n",
    "    plt.plot(sin_timing, sin_vals, color, linewidth=0.75)\n",
    "\n",
    "    \n",
    "def create_simple_pulse_seq(tes, read_time=None, x_axis_duration=None):\n",
    "    \"\"\"\n",
    "    \n",
    "    \"\"\"\n",
    "\n",
    "    n_echos = len(tes)\n",
    "\n",
    "    if read_time == None:\n",
    "        read_time = tes[0]/2 - 6\n",
    "\n",
    "    if n_echos == 1:\n",
    "        colorlist = ['g']\n",
    "        if x_axis_duration == None:\n",
    "            x_axis_duration = tes[-1] + 2.5*read_time\n",
    "    else:\n",
    "        colorlist = ['r', 'g', 'b', 'c', 'm', 'y', 'k']\n",
    "    if x_axis_duration == None:\n",
    "        x_axis_duration = tes[-1] + \n",
    "\n",
    "    # Always do a 2ms sinc pulse for RF excitation (shorter isn't nicely visible)\n",
    "    plt_sinc(0, 2)\n",
    "    for echo_idx, echo_val in enumerate(tes):\n",
    "        plt_sin(echo_val, read_time, 32, colorlist[echo_idx])\n",
    "    plt.xlim(0,x_axis_duration)\n",
    "\n",
    "create_simple_pulse_seq([13, 31.26, 49.52], None, 50)"
   ]
  }
 ],
 "metadata": {
  "kernelspec": {
   "display_name": "Python 3",
   "language": "python",
   "name": "python3"
  },
  "language_info": {
   "codemirror_mode": {
    "name": "ipython",
    "version": 3
   },
   "file_extension": ".py",
   "mimetype": "text/x-python",
   "name": "python",
   "nbconvert_exporter": "python",
   "pygments_lexer": "ipython3",
   "version": "3.13.2"
  }
 },
 "nbformat": 4,
 "nbformat_minor": 5
}
