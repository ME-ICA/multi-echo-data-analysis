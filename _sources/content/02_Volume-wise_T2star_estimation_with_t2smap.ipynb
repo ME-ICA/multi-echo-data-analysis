{
 "cells": [
  {
   "cell_type": "markdown",
   "id": "2782008c",
   "metadata": {},
   "source": [
    "# Volume-wise T2*/S0 estimation with `t2smap`\n",
    "\n",
    "Use `t2smap` {cite:p}`DuPre2021` to calculate volume-wise T2*/S0, as in {cite:t}`power2018ridding` and {cite:t}`HEUNIS2021118244`."
   ]
  },
  {
   "cell_type": "code",
   "execution_count": 1,
   "id": "8c3f1b41",
   "metadata": {},
   "outputs": [
    {
     "name": "stderr",
     "output_type": "stream",
     "text": [
      "/opt/hostedtoolcache/Python/3.7.12/x64/lib/python3.7/site-packages/nilearn/datasets/__init__.py:96: FutureWarning: Fetchers from the nilearn.datasets module will be updated in version 0.9 to return python strings instead of bytes and Pandas dataframes instead of Numpy arrays.\n",
      "  \"Numpy arrays.\", FutureWarning)\n",
      "Module `duecredit` not successfully imported due to \"No module named 'duecredit'\". Package functionality unaffected.\n"
     ]
    },
    {
     "name": "stderr",
     "output_type": "stream",
     "text": [
      "Failed to import duecredit due to No module named 'duecredit'\n"
     ]
    },
    {
     "name": "stdout",
     "output_type": "stream",
     "text": [
      "---- repo2data starting ----\n",
      "/opt/hostedtoolcache/Python/3.7.12/x64/lib/python3.7/site-packages/repo2data\n",
      "Config from file :\n",
      "../binder/data_requirement.json\n",
      "Destination:\n",
      "./../data/multi-echo-data-analysis\n",
      "\n",
      "Info : Starting to download from Google drive https://drive.google.com/uc?id=1t98v7EiEKsV8q8mT-uMRgoYeHaVL2JWx ...\n"
     ]
    },
    {
     "name": "stderr",
     "output_type": "stream",
     "text": [
      "Downloading...\n",
      "From: https://drive.google.com/uc?id=1t98v7EiEKsV8q8mT-uMRgoYeHaVL2JWx\n",
      "To: /home/runner/work/multi-echo-data-analysis/multi-echo-data-analysis/data/multi-echo-data-analysis/multi-echo-data-analysis.zip\n",
      "\r",
      "  0%|          | 0.00/309M [00:00<?, ?B/s]\r",
      "  1%|          | 3.15M/309M [00:00<00:09, 30.9MB/s]"
     ]
    },
    {
     "name": "stderr",
     "output_type": "stream",
     "text": [
      "\r",
      "  6%|▋         | 19.4M/309M [00:00<00:02, 107MB/s] \r",
      " 11%|█         | 34.1M/309M [00:00<00:02, 101MB/s]"
     ]
    },
    {
     "name": "stderr",
     "output_type": "stream",
     "text": [
      "\r",
      " 14%|█▍        | 44.6M/309M [00:00<00:02, 97.9MB/s]\r",
      " 18%|█▊        | 54.5M/309M [00:00<00:02, 96.2MB/s]"
     ]
    },
    {
     "name": "stderr",
     "output_type": "stream",
     "text": [
      "\r",
      " 22%|██▏       | 67.6M/309M [00:00<00:02, 95.8MB/s]\r",
      " 27%|██▋       | 84.4M/309M [00:00<00:02, 96.0MB/s]"
     ]
    },
    {
     "name": "stderr",
     "output_type": "stream",
     "text": [
      "\r",
      " 33%|███▎      | 101M/309M [00:00<00:01, 112MB/s]  \r",
      " 39%|███▊      | 119M/309M [00:01<00:01, 128MB/s]"
     ]
    },
    {
     "name": "stderr",
     "output_type": "stream",
     "text": [
      "\r",
      " 44%|████▎     | 135M/309M [00:01<00:01, 133MB/s]\r",
      " 48%|████▊     | 149M/309M [00:01<00:01, 128MB/s]"
     ]
    },
    {
     "name": "stderr",
     "output_type": "stream",
     "text": [
      "\r",
      " 53%|█████▎    | 164M/309M [00:01<00:01, 132MB/s]\r",
      " 59%|█████▊    | 181M/309M [00:01<00:00, 143MB/s]"
     ]
    },
    {
     "name": "stderr",
     "output_type": "stream",
     "text": [
      "\r",
      " 63%|██████▎   | 196M/309M [00:01<00:00, 141MB/s]\r",
      " 68%|██████▊   | 210M/309M [00:01<00:00, 143MB/s]"
     ]
    },
    {
     "name": "stderr",
     "output_type": "stream",
     "text": [
      "\r",
      " 73%|███████▎  | 226M/309M [00:01<00:00, 144MB/s]\r",
      " 79%|███████▊  | 243M/309M [00:01<00:00, 150MB/s]"
     ]
    },
    {
     "name": "stderr",
     "output_type": "stream",
     "text": [
      "\r",
      " 84%|████████▎ | 258M/309M [00:02<00:00, 148MB/s]\r",
      " 89%|████████▊ | 274M/309M [00:02<00:00, 135MB/s]"
     ]
    },
    {
     "name": "stderr",
     "output_type": "stream",
     "text": [
      "\r",
      " 95%|█████████▍| 293M/309M [00:02<00:00, 148MB/s]\r",
      "100%|█████████▉| 308M/309M [00:02<00:00, 136MB/s]\r",
      "100%|██████████| 309M/309M [00:02<00:00, 127MB/s]\n"
     ]
    },
    {
     "name": "stdout",
     "output_type": "stream",
     "text": [
      "patool: Extracting ./../data/multi-echo-data-analysis/multi-echo-data-analysis.zip ...\n",
      "patool: running /usr/bin/7z x -y -o./../data/multi-echo-data-analysis -- ./../data/multi-echo-data-analysis/multi-echo-data-analysis.zip\n"
     ]
    },
    {
     "name": "stdout",
     "output_type": "stream",
     "text": [
      "patool: ... ./../data/multi-echo-data-analysis/multi-echo-data-analysis.zip extracted to `./../data/multi-echo-data-analysis'.\n"
     ]
    },
    {
     "name": "stdout",
     "output_type": "stream",
     "text": [
      "Info : multi-echo-data-analysis.zip Decompressed\n"
     ]
    }
   ],
   "source": [
    "import os\n",
    "import matplotlib\n",
    "import matplotlib.pyplot as plt\n",
    "from glob import glob\n",
    "\n",
    "import numpy as np\n",
    "import pandas as pd\n",
    "from nilearn import image, plotting\n",
    "from tedana import workflows\n",
    "\n",
    "from repo2data.repo2data import Repo2Data\n",
    "\n",
    "# Install the data if running locally, or points to cached data if running on neurolibre\n",
    "DATA_REQ_FILE = os.path.join(\"../binder/data_requirement.json\")\n",
    "\n",
    "# Download data\n",
    "repo2data = Repo2Data(DATA_REQ_FILE)\n",
    "data_path = repo2data.install()\n",
    "data_path = os.path.join(data_path[0], \"data\")"
   ]
  },
  {
   "cell_type": "code",
   "execution_count": 2,
   "id": "5e6b8798",
   "metadata": {},
   "outputs": [],
   "source": [
    "func_dir = os.path.join(data_path, \"sub-04570/func/\")\n",
    "data_files = [\n",
    "    os.path.join(func_dir, \"sub-04570_task-rest_echo-1_space-scanner_desc-partialPreproc_bold.nii.gz\"),\n",
    "    os.path.join(func_dir, \"sub-04570_task-rest_echo-2_space-scanner_desc-partialPreproc_bold.nii.gz\"),\n",
    "    os.path.join(func_dir, \"sub-04570_task-rest_echo-3_space-scanner_desc-partialPreproc_bold.nii.gz\"),\n",
    "    os.path.join(func_dir, \"sub-04570_task-rest_echo-4_space-scanner_desc-partialPreproc_bold.nii.gz\"),\n",
    "]\n",
    "echo_times = [12., 28., 44., 60.]\n",
    "mask_file = os.path.join(func_dir, \"sub-04570_task-rest_space-scanner_desc-brain_mask.nii.gz\")\n",
    "confounds_file = os.path.join(func_dir, \"sub-04570_task-rest_desc-confounds_timeseries.tsv\")\n",
    "\n",
    "out_dir = os.path.join(data_path, \"fit\")"
   ]
  },
  {
   "cell_type": "code",
   "execution_count": 3,
   "id": "54d0200d",
   "metadata": {},
   "outputs": [
    {
     "ename": "FileNotFoundError",
     "evalue": "[Errno 2] No such file or directory: '/home/runner/work/multi-echo-data-analysis/multi-echo-data-analysis/data/multi-echo-data-analysis/data/fit'",
     "output_type": "error",
     "traceback": [
      "\u001b[0;31m---------------------------------------------------------------------------\u001b[0m",
      "\u001b[0;31mFileNotFoundError\u001b[0m                         Traceback (most recent call last)",
      "\u001b[0;32m/tmp/ipykernel_1730/2204136142.py\u001b[0m in \u001b[0;36m<module>\u001b[0;34m\u001b[0m\n\u001b[1;32m      6\u001b[0m     \u001b[0mprefix\u001b[0m\u001b[0;34m=\u001b[0m\u001b[0;34m\"sub-04570_task-rest_space-scanner\"\u001b[0m\u001b[0;34m,\u001b[0m\u001b[0;34m\u001b[0m\u001b[0;34m\u001b[0m\u001b[0m\n\u001b[1;32m      7\u001b[0m     \u001b[0mfittype\u001b[0m\u001b[0;34m=\u001b[0m\u001b[0;34m\"loglin\"\u001b[0m\u001b[0;34m,\u001b[0m\u001b[0;34m\u001b[0m\u001b[0;34m\u001b[0m\u001b[0m\n\u001b[0;32m----> 8\u001b[0;31m     \u001b[0mfitmode\u001b[0m\u001b[0;34m=\u001b[0m\u001b[0;34m\"ts\"\u001b[0m\u001b[0;34m,\u001b[0m\u001b[0;34m\u001b[0m\u001b[0;34m\u001b[0m\u001b[0m\n\u001b[0m\u001b[1;32m      9\u001b[0m )\n",
      "\u001b[0;32m/opt/hostedtoolcache/Python/3.7.12/x64/lib/python3.7/site-packages/tedana/workflows/t2smap.py\u001b[0m in \u001b[0;36mt2smap_workflow\u001b[0;34m(data, tes, out_dir, mask, prefix, convention, fittype, fitmode, combmode, debug, quiet)\u001b[0m\n\u001b[1;32m    223\u001b[0m     \u001b[0mout_dir\u001b[0m \u001b[0;34m=\u001b[0m \u001b[0mop\u001b[0m\u001b[0;34m.\u001b[0m\u001b[0mabspath\u001b[0m\u001b[0;34m(\u001b[0m\u001b[0mout_dir\u001b[0m\u001b[0;34m)\u001b[0m\u001b[0;34m\u001b[0m\u001b[0;34m\u001b[0m\u001b[0m\n\u001b[1;32m    224\u001b[0m     \u001b[0;32mif\u001b[0m \u001b[0;32mnot\u001b[0m \u001b[0mop\u001b[0m\u001b[0;34m.\u001b[0m\u001b[0misdir\u001b[0m\u001b[0;34m(\u001b[0m\u001b[0mout_dir\u001b[0m\u001b[0;34m)\u001b[0m\u001b[0;34m:\u001b[0m\u001b[0;34m\u001b[0m\u001b[0;34m\u001b[0m\u001b[0m\n\u001b[0;32m--> 225\u001b[0;31m         \u001b[0mos\u001b[0m\u001b[0;34m.\u001b[0m\u001b[0mmkdir\u001b[0m\u001b[0;34m(\u001b[0m\u001b[0mout_dir\u001b[0m\u001b[0;34m)\u001b[0m\u001b[0;34m\u001b[0m\u001b[0;34m\u001b[0m\u001b[0m\n\u001b[0m\u001b[1;32m    226\u001b[0m \u001b[0;34m\u001b[0m\u001b[0m\n\u001b[1;32m    227\u001b[0m     \u001b[0mutils\u001b[0m\u001b[0;34m.\u001b[0m\u001b[0msetup_loggers\u001b[0m\u001b[0;34m(\u001b[0m\u001b[0mquiet\u001b[0m\u001b[0;34m=\u001b[0m\u001b[0mquiet\u001b[0m\u001b[0;34m,\u001b[0m \u001b[0mdebug\u001b[0m\u001b[0;34m=\u001b[0m\u001b[0mdebug\u001b[0m\u001b[0;34m)\u001b[0m\u001b[0;34m\u001b[0m\u001b[0;34m\u001b[0m\u001b[0m\n",
      "\u001b[0;31mFileNotFoundError\u001b[0m: [Errno 2] No such file or directory: '/home/runner/work/multi-echo-data-analysis/multi-echo-data-analysis/data/multi-echo-data-analysis/data/fit'"
     ]
    }
   ],
   "source": [
    "workflows.t2smap_workflow(\n",
    "    data_files,\n",
    "    echo_times,\n",
    "    out_dir=out_dir,\n",
    "    mask=mask_file,\n",
    "    prefix=\"sub-04570_task-rest_space-scanner\",\n",
    "    fittype=\"loglin\",\n",
    "    fitmode=\"ts\",\n",
    ")"
   ]
  },
  {
   "cell_type": "code",
   "execution_count": null,
   "id": "fa92306b",
   "metadata": {},
   "outputs": [],
   "source": [
    "out_files = sorted(glob(os.path.join(out_dir, \"*\")))\n",
    "out_files = [os.path.basename(f) for f in out_files]\n",
    "print(\"\\n\".join(out_files))"
   ]
  },
  {
   "cell_type": "code",
   "execution_count": null,
   "id": "de4345f6",
   "metadata": {},
   "outputs": [],
   "source": [
    "fig, axes = plt.subplots(figsize=(16, 16), nrows=3)\n",
    "\n",
    "plotting.plot_carpet(\n",
    "    os.path.join(out_dir, \"sub-04570_task-rest_space-scanner_desc-optcom_bold.nii.gz\"),\n",
    "    axes=axes[0],\n",
    "    figure=fig,\n",
    ")\n",
    "axes[0].set_title(\"Optimally Combined Data\", fontsize=20)\n",
    "plotting.plot_carpet(\n",
    "    os.path.join(out_dir, \"sub-04570_task-rest_space-scanner_T2starmap.nii.gz\"),\n",
    "    axes=axes[1],\n",
    "    figure=fig,\n",
    ")\n",
    "axes[1].set_title(\"T2* Estimates\", fontsize=20)\n",
    "plotting.plot_carpet(\n",
    "    os.path.join(out_dir, \"sub-04570_task-rest_space-scanner_S0map.nii.gz\"),\n",
    "    axes=axes[2],\n",
    "    figure=fig,\n",
    ")\n",
    "axes[2].set_title(\"S0 Estimates\", fontsize=20)\n",
    "axes[0].xaxis.set_visible(False)\n",
    "axes[1].xaxis.set_visible(False)\n",
    "axes[0].spines[\"bottom\"].set_visible(False)\n",
    "axes[1].spines[\"bottom\"].set_visible(False)\n",
    "fig.tight_layout()\n",
    "fig.show()"
   ]
  },
  {
   "cell_type": "code",
   "execution_count": null,
   "id": "fb766b51",
   "metadata": {},
   "outputs": [],
   "source": [
    "plotting.plot_stat_map(\n",
    "    image.mean_img(os.path.join(out_dir, \"sub-04570_task-rest_space-scanner_T2starmap.nii.gz\")),\n",
    "    vmax=0.6,\n",
    "    draw_cross=False,\n",
    "    bg_img=None,\n",
    ")"
   ]
  },
  {
   "cell_type": "code",
   "execution_count": null,
   "id": "1524cd59",
   "metadata": {},
   "outputs": [],
   "source": [
    "plotting.plot_stat_map(\n",
    "    image.mean_img(os.path.join(out_dir, \"sub-04570_task-rest_space-scanner_S0map.nii.gz\")),\n",
    "    vmax=8000,\n",
    "    draw_cross=False,\n",
    "    bg_img=None,\n",
    ")"
   ]
  },
  {
   "cell_type": "code",
   "execution_count": null,
   "id": "5f290760",
   "metadata": {},
   "outputs": [],
   "source": [
    "fig, axes = plt.subplots(figsize=(16, 15), nrows=5)\n",
    "plotting.plot_epi(\n",
    "    image.mean_img(data_files[0]),\n",
    "    draw_cross=False,\n",
    "    bg_img=None,\n",
    "    cut_coords=[-10, 0, 10, 20, 30, 40, 50, 60, 70],\n",
    "    display_mode=\"z\",\n",
    "    axes=axes[0],\n",
    ")\n",
    "plotting.plot_epi(\n",
    "    image.mean_img(data_files[1]),\n",
    "    draw_cross=False,\n",
    "    bg_img=None,\n",
    "    cut_coords=[-10, 0, 10, 20, 30, 40, 50, 60, 70],\n",
    "    display_mode=\"z\",\n",
    "    axes=axes[1],\n",
    ")\n",
    "plotting.plot_epi(\n",
    "    image.mean_img(data_files[2]),\n",
    "    draw_cross=False,\n",
    "    bg_img=None,\n",
    "    cut_coords=[-10, 0, 10, 20, 30, 40, 50, 60, 70],\n",
    "    display_mode=\"z\",\n",
    "    axes=axes[2],\n",
    ")\n",
    "plotting.plot_epi(\n",
    "    image.mean_img(data_files[3]),\n",
    "    draw_cross=False,\n",
    "    bg_img=None,\n",
    "    cut_coords=[-10, 0, 10, 20, 30, 40, 50, 60, 70],\n",
    "    display_mode=\"z\",\n",
    "    axes=axes[3],\n",
    ")\n",
    "plotting.plot_epi(\n",
    "    image.mean_img(os.path.join(out_dir, \"sub-04570_task-rest_space-scanner_desc-optcom_bold.nii.gz\")),\n",
    "    draw_cross=False,\n",
    "    bg_img=None,\n",
    "    cut_coords=[-10, 0, 10, 20, 30, 40, 50, 60, 70],\n",
    "    display_mode=\"z\",\n",
    "    axes=axes[4],\n",
    ")\n",
    "fig.show()"
   ]
  },
  {
   "cell_type": "code",
   "execution_count": null,
   "id": "b3ad57e3",
   "metadata": {},
   "outputs": [],
   "source": [
    "te30_tsnr = image.math_img(\n",
    "    '(np.nanmean(img, axis=3) / np.nanstd(img, axis=3)) * mask',\n",
    "    img=data_files[1],\n",
    "    mask=mask_file,\n",
    ")\n",
    "oc_tsnr = image.math_img(\n",
    "    '(np.nanmean(img, axis=3) / np.nanstd(img, axis=3)) * mask',\n",
    "    img=os.path.join(out_dir, \"sub-04570_task-rest_space-scanner_desc-optcom_bold.nii.gz\"),\n",
    "    mask=mask_file,\n",
    ")\n",
    "vmax = np.nanmax(np.abs(oc_tsnr.get_fdata()))\n",
    "\n",
    "fig, axes = plt.subplots(figsize=(10, 8), nrows=2)\n",
    "plotting.plot_stat_map(\n",
    "    te30_tsnr,\n",
    "    draw_cross=False,\n",
    "    bg_img=None,\n",
    "    threshold=0.1,\n",
    "    cut_coords=[0, 10, 10],\n",
    "    vmax=vmax,\n",
    "    symmetric_cbar=False,\n",
    "    axes=axes[0],\n",
    ")\n",
    "axes[0].set_title(\"TE30 TSNR\", fontsize=16)\n",
    "plotting.plot_stat_map(\n",
    "    oc_tsnr,\n",
    "    draw_cross=False,\n",
    "    bg_img=None,\n",
    "    threshold=0.1,\n",
    "    cut_coords=[0, 10, 10],\n",
    "    vmax=vmax,\n",
    "    symmetric_cbar=False,\n",
    "    axes=axes[1],\n",
    ")\n",
    "axes[1].set_title(\"Optimal Combination TSNR\", fontsize=16)\n",
    "fig.show()"
   ]
  },
  {
   "cell_type": "code",
   "execution_count": null,
   "id": "466a63d3",
   "metadata": {},
   "outputs": [],
   "source": [
    "fig, ax = plt.subplots(figsize=(16, 8))\n",
    "plotting.plot_carpet(\n",
    "    data_files[1],\n",
    "    axes=ax,\n",
    ")\n",
    "fig.show()"
   ]
  },
  {
   "cell_type": "code",
   "execution_count": null,
   "id": "77662b50",
   "metadata": {},
   "outputs": [],
   "source": [
    "fig, ax = plt.subplots(figsize=(16, 8))\n",
    "plotting.plot_carpet(\n",
    "    os.path.join(out_dir, \"sub-04570_task-rest_space-scanner_desc-optcom_bold.nii.gz\"),\n",
    "    axes=ax,\n",
    ")\n",
    "fig.show()"
   ]
  }
 ],
 "metadata": {
  "jupytext": {
   "text_representation": {
    "extension": ".md",
    "format_name": "myst",
    "format_version": 0.13,
    "jupytext_version": "1.10.3"
   }
  },
  "kernelspec": {
   "display_name": "Python 3",
   "language": "python",
   "name": "python3"
  },
  "language_info": {
   "codemirror_mode": {
    "name": "ipython",
    "version": 3
   },
   "file_extension": ".py",
   "mimetype": "text/x-python",
   "name": "python",
   "nbconvert_exporter": "python",
   "pygments_lexer": "ipython3",
   "version": "3.7.12"
  },
  "source_map": [
   12,
   18,
   40,
   55,
   67,
   73,
   102,
   111,
   120,
   165,
   204,
   213
  ]
 },
 "nbformat": 4,
 "nbformat_minor": 5
}