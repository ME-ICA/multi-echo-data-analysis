{
 "cells": [
  {
   "cell_type": "markdown",
   "id": "1b757054",
   "metadata": {},
   "source": [
    "# Volume-wise T2*/S0 estimation with `t2smap`\n",
    "\n",
    "Use {py:func}`tedana.workflows.t2smap_workflow` {cite:p}`DuPre2021` to calculate volume-wise T2*/S0,\n",
    "as in {cite:t}`power2018ridding` and {cite:t}`HEUNIS2021118244`."
   ]
  },
  {
   "cell_type": "code",
   "execution_count": 1,
   "id": "90512093",
   "metadata": {},
   "outputs": [
    {
     "name": "stderr",
     "output_type": "stream",
     "text": [
      "Module `duecredit` not successfully imported due to \"No module named 'duecredit'\". Package functionality unaffected.\n"
     ]
    },
    {
     "name": "stderr",
     "output_type": "stream",
     "text": [
      "Failed to import duecredit due to No module named 'duecredit'\n"
     ]
    },
    {
     "ename": "ImportError",
     "evalue": "cannot import name 'Markup' from 'jinja2' (/opt/hostedtoolcache/Python/3.8.12/x64/lib/python3.8/site-packages/jinja2/__init__.py)",
     "output_type": "error",
     "traceback": [
      "\u001b[0;31m---------------------------------------------------------------------------\u001b[0m",
      "\u001b[0;31mImportError\u001b[0m                               Traceback (most recent call last)",
      "Input \u001b[0;32mIn [1]\u001b[0m, in \u001b[0;36m<cell line: 9>\u001b[0;34m()\u001b[0m\n\u001b[1;32m      7\u001b[0m \u001b[38;5;28;01mfrom\u001b[39;00m \u001b[38;5;21;01mnilearn\u001b[39;00m \u001b[38;5;28;01mimport\u001b[39;00m image, plotting\n\u001b[1;32m      8\u001b[0m \u001b[38;5;28;01mfrom\u001b[39;00m \u001b[38;5;21;01mrepo2data\u001b[39;00m\u001b[38;5;21;01m.\u001b[39;00m\u001b[38;5;21;01mrepo2data\u001b[39;00m \u001b[38;5;28;01mimport\u001b[39;00m Repo2Data\n\u001b[0;32m----> 9\u001b[0m \u001b[38;5;28;01mfrom\u001b[39;00m \u001b[38;5;21;01mtedana\u001b[39;00m \u001b[38;5;28;01mimport\u001b[39;00m workflows\n\u001b[1;32m     11\u001b[0m \u001b[38;5;66;03m# Install the data if running locally, or point to cached data if running on neurolibre\u001b[39;00m\n\u001b[1;32m     12\u001b[0m DATA_REQ_FILE \u001b[38;5;241m=\u001b[39m os\u001b[38;5;241m.\u001b[39mpath\u001b[38;5;241m.\u001b[39mjoin(\u001b[38;5;124m\"\u001b[39m\u001b[38;5;124m../binder/data_requirement.json\u001b[39m\u001b[38;5;124m\"\u001b[39m)\n",
      "File \u001b[0;32m/opt/hostedtoolcache/Python/3.8.12/x64/lib/python3.8/site-packages/tedana/workflows/__init__.py:7\u001b[0m, in \u001b[0;36m<module>\u001b[0;34m\u001b[0m\n\u001b[1;32m      4\u001b[0m \u001b[38;5;28;01mfrom\u001b[39;00m \u001b[38;5;21;01m.\u001b[39;00m\u001b[38;5;21;01mt2smap\u001b[39;00m \u001b[38;5;28;01mimport\u001b[39;00m t2smap_workflow\n\u001b[1;32m      6\u001b[0m \u001b[38;5;66;03m# Overrides submodules with their functions.\u001b[39;00m\n\u001b[0;32m----> 7\u001b[0m \u001b[38;5;28;01mfrom\u001b[39;00m \u001b[38;5;21;01m.\u001b[39;00m\u001b[38;5;21;01mtedana\u001b[39;00m \u001b[38;5;28;01mimport\u001b[39;00m tedana_workflow\n\u001b[1;32m      9\u001b[0m __all__ \u001b[38;5;241m=\u001b[39m [\u001b[38;5;124m\"\u001b[39m\u001b[38;5;124mtedana_workflow\u001b[39m\u001b[38;5;124m\"\u001b[39m, \u001b[38;5;124m\"\u001b[39m\u001b[38;5;124mt2smap_workflow\u001b[39m\u001b[38;5;124m\"\u001b[39m]\n",
      "File \u001b[0;32m/opt/hostedtoolcache/Python/3.8.12/x64/lib/python3.8/site-packages/tedana/workflows/tedana.py:21\u001b[0m, in \u001b[0;36m<module>\u001b[0;34m\u001b[0m\n\u001b[1;32m     18\u001b[0m \u001b[38;5;28;01mfrom\u001b[39;00m \u001b[38;5;21;01mthreadpoolctl\u001b[39;00m \u001b[38;5;28;01mimport\u001b[39;00m threadpool_limits\n\u001b[1;32m     20\u001b[0m \u001b[38;5;28;01mimport\u001b[39;00m \u001b[38;5;21;01mtedana\u001b[39;00m\u001b[38;5;21;01m.\u001b[39;00m\u001b[38;5;21;01mgscontrol\u001b[39;00m \u001b[38;5;28;01mas\u001b[39;00m \u001b[38;5;21;01mgsc\u001b[39;00m\n\u001b[0;32m---> 21\u001b[0m \u001b[38;5;28;01mfrom\u001b[39;00m \u001b[38;5;21;01mtedana\u001b[39;00m \u001b[38;5;28;01mimport\u001b[39;00m (\n\u001b[1;32m     22\u001b[0m     __version__,\n\u001b[1;32m     23\u001b[0m     combine,\n\u001b[1;32m     24\u001b[0m     decay,\n\u001b[1;32m     25\u001b[0m     decomposition,\n\u001b[1;32m     26\u001b[0m     io,\n\u001b[1;32m     27\u001b[0m     metrics,\n\u001b[1;32m     28\u001b[0m     reporting,\n\u001b[1;32m     29\u001b[0m     selection,\n\u001b[1;32m     30\u001b[0m     utils,\n\u001b[1;32m     31\u001b[0m )\n\u001b[1;32m     32\u001b[0m \u001b[38;5;28;01mfrom\u001b[39;00m \u001b[38;5;21;01mtedana\u001b[39;00m\u001b[38;5;21;01m.\u001b[39;00m\u001b[38;5;21;01mstats\u001b[39;00m \u001b[38;5;28;01mimport\u001b[39;00m computefeats2\n\u001b[1;32m     33\u001b[0m \u001b[38;5;28;01mfrom\u001b[39;00m \u001b[38;5;21;01mtedana\u001b[39;00m\u001b[38;5;21;01m.\u001b[39;00m\u001b[38;5;21;01mworkflows\u001b[39;00m\u001b[38;5;21;01m.\u001b[39;00m\u001b[38;5;21;01mparser_utils\u001b[39;00m \u001b[38;5;28;01mimport\u001b[39;00m check_tedpca_value, is_valid_file\n",
      "File \u001b[0;32m/opt/hostedtoolcache/Python/3.8.12/x64/lib/python3.8/site-packages/tedana/reporting/__init__.py:5\u001b[0m, in \u001b[0;36m<module>\u001b[0;34m\u001b[0m\n\u001b[1;32m      1\u001b[0m \u001b[38;5;124;03m\"\"\"\u001b[39;00m\n\u001b[1;32m      2\u001b[0m \u001b[38;5;124;03mReporting code for tedana\u001b[39;00m\n\u001b[1;32m      3\u001b[0m \u001b[38;5;124;03m\"\"\"\u001b[39;00m\n\u001b[0;32m----> 5\u001b[0m \u001b[38;5;28;01mfrom\u001b[39;00m \u001b[38;5;21;01m.\u001b[39;00m\u001b[38;5;21;01mhtml_report\u001b[39;00m \u001b[38;5;28;01mimport\u001b[39;00m generate_report\n\u001b[1;32m      6\u001b[0m \u001b[38;5;28;01mfrom\u001b[39;00m \u001b[38;5;21;01m.\u001b[39;00m\u001b[38;5;21;01mstatic_figures\u001b[39;00m \u001b[38;5;28;01mimport\u001b[39;00m comp_figures\n\u001b[1;32m      8\u001b[0m __all__ \u001b[38;5;241m=\u001b[39m [\u001b[38;5;124m\"\u001b[39m\u001b[38;5;124mgenerate_report\u001b[39m\u001b[38;5;124m\"\u001b[39m, \u001b[38;5;124m\"\u001b[39m\u001b[38;5;124mcomp_figures\u001b[39m\u001b[38;5;124m\"\u001b[39m]\n",
      "File \u001b[0;32m/opt/hostedtoolcache/Python/3.8.12/x64/lib/python3.8/site-packages/tedana/reporting/html_report.py:8\u001b[0m, in \u001b[0;36m<module>\u001b[0;34m\u001b[0m\n\u001b[1;32m      6\u001b[0m \u001b[38;5;28;01mimport\u001b[39;00m \u001b[38;5;21;01mpandas\u001b[39;00m \u001b[38;5;28;01mas\u001b[39;00m \u001b[38;5;21;01mpd\u001b[39;00m\n\u001b[1;32m      7\u001b[0m \u001b[38;5;28;01mfrom\u001b[39;00m \u001b[38;5;21;01mbokeh\u001b[39;00m \u001b[38;5;28;01mimport\u001b[39;00m __version__ \u001b[38;5;28;01mas\u001b[39;00m bokehversion\n\u001b[0;32m----> 8\u001b[0m \u001b[38;5;28;01mfrom\u001b[39;00m \u001b[38;5;21;01mbokeh\u001b[39;00m \u001b[38;5;28;01mimport\u001b[39;00m embed, layouts, models\n\u001b[1;32m     10\u001b[0m \u001b[38;5;28;01mfrom\u001b[39;00m \u001b[38;5;21;01mtedana\u001b[39;00m\u001b[38;5;21;01m.\u001b[39;00m\u001b[38;5;21;01minfo\u001b[39;00m \u001b[38;5;28;01mimport\u001b[39;00m __version__\n\u001b[1;32m     11\u001b[0m \u001b[38;5;28;01mfrom\u001b[39;00m \u001b[38;5;21;01mtedana\u001b[39;00m\u001b[38;5;21;01m.\u001b[39;00m\u001b[38;5;21;01mreporting\u001b[39;00m \u001b[38;5;28;01mimport\u001b[39;00m dynamic_figures \u001b[38;5;28;01mas\u001b[39;00m df\n",
      "File \u001b[0;32m/opt/hostedtoolcache/Python/3.8.12/x64/lib/python3.8/site-packages/bokeh/embed/__init__.py:23\u001b[0m, in \u001b[0;36m<module>\u001b[0;34m\u001b[0m\n\u001b[1;32m     16\u001b[0m log \u001b[38;5;241m=\u001b[39m logging\u001b[38;5;241m.\u001b[39mgetLogger(\u001b[38;5;18m__name__\u001b[39m)\n\u001b[1;32m     18\u001b[0m \u001b[38;5;66;03m#-----------------------------------------------------------------------------\u001b[39;00m\n\u001b[1;32m     19\u001b[0m \u001b[38;5;66;03m# Imports\u001b[39;00m\n\u001b[1;32m     20\u001b[0m \u001b[38;5;66;03m#-----------------------------------------------------------------------------\u001b[39;00m\n\u001b[1;32m     21\u001b[0m \n\u001b[1;32m     22\u001b[0m \u001b[38;5;66;03m# Bokeh imports\u001b[39;00m\n\u001b[0;32m---> 23\u001b[0m \u001b[38;5;28;01mfrom\u001b[39;00m \u001b[38;5;21;01m.\u001b[39;00m\u001b[38;5;21;01mserver\u001b[39;00m \u001b[38;5;28;01mimport\u001b[39;00m server_document, server_session\n\u001b[1;32m     24\u001b[0m \u001b[38;5;28;01mfrom\u001b[39;00m \u001b[38;5;21;01m.\u001b[39;00m\u001b[38;5;21;01mstandalone\u001b[39;00m \u001b[38;5;28;01mimport\u001b[39;00m autoload_static, components, file_html, json_item\n\u001b[1;32m     26\u001b[0m \u001b[38;5;66;03m#-----------------------------------------------------------------------------\u001b[39;00m\n\u001b[1;32m     27\u001b[0m \u001b[38;5;66;03m# Globals and constants\u001b[39;00m\n\u001b[1;32m     28\u001b[0m \u001b[38;5;66;03m#-----------------------------------------------------------------------------\u001b[39;00m\n",
      "File \u001b[0;32m/opt/hostedtoolcache/Python/3.8.12/x64/lib/python3.8/site-packages/bokeh/embed/server.py:25\u001b[0m, in \u001b[0;36m<module>\u001b[0;34m\u001b[0m\n\u001b[1;32m     22\u001b[0m \u001b[38;5;28;01mfrom\u001b[39;00m \u001b[38;5;21;01murllib\u001b[39;00m\u001b[38;5;21;01m.\u001b[39;00m\u001b[38;5;21;01mparse\u001b[39;00m \u001b[38;5;28;01mimport\u001b[39;00m quote_plus, urlparse\n\u001b[1;32m     24\u001b[0m \u001b[38;5;66;03m# Bokeh imports\u001b[39;00m\n\u001b[0;32m---> 25\u001b[0m \u001b[38;5;28;01mfrom\u001b[39;00m \u001b[38;5;21;01m.\u001b[39;00m\u001b[38;5;21;01m.\u001b[39;00m\u001b[38;5;21;01mcore\u001b[39;00m\u001b[38;5;21;01m.\u001b[39;00m\u001b[38;5;21;01mtemplates\u001b[39;00m \u001b[38;5;28;01mimport\u001b[39;00m AUTOLOAD_REQUEST_TAG, FILE\n\u001b[1;32m     26\u001b[0m \u001b[38;5;28;01mfrom\u001b[39;00m \u001b[38;5;21;01m.\u001b[39;00m\u001b[38;5;21;01m.\u001b[39;00m\u001b[38;5;21;01mresources\u001b[39;00m \u001b[38;5;28;01mimport\u001b[39;00m DEFAULT_SERVER_HTTP_URL\n\u001b[1;32m     27\u001b[0m \u001b[38;5;28;01mfrom\u001b[39;00m \u001b[38;5;21;01m.\u001b[39;00m\u001b[38;5;21;01m.\u001b[39;00m\u001b[38;5;21;01mutil\u001b[39;00m\u001b[38;5;21;01m.\u001b[39;00m\u001b[38;5;21;01mserialization\u001b[39;00m \u001b[38;5;28;01mimport\u001b[39;00m make_id\n",
      "File \u001b[0;32m/opt/hostedtoolcache/Python/3.8.12/x64/lib/python3.8/site-packages/bokeh/core/templates.py:42\u001b[0m, in \u001b[0;36m<module>\u001b[0;34m\u001b[0m\n\u001b[1;32m     39\u001b[0m \u001b[38;5;28;01mfrom\u001b[39;00m \u001b[38;5;21;01mos\u001b[39;00m\u001b[38;5;21;01m.\u001b[39;00m\u001b[38;5;21;01mpath\u001b[39;00m \u001b[38;5;28;01mimport\u001b[39;00m dirname, join\n\u001b[1;32m     41\u001b[0m \u001b[38;5;66;03m# External imports\u001b[39;00m\n\u001b[0;32m---> 42\u001b[0m \u001b[38;5;28;01mfrom\u001b[39;00m \u001b[38;5;21;01mjinja2\u001b[39;00m \u001b[38;5;28;01mimport\u001b[39;00m Environment, FileSystemLoader, Markup\n\u001b[1;32m     44\u001b[0m \u001b[38;5;66;03m#-----------------------------------------------------------------------------\u001b[39;00m\n\u001b[1;32m     45\u001b[0m \u001b[38;5;66;03m# Globals and constants\u001b[39;00m\n\u001b[1;32m     46\u001b[0m \u001b[38;5;66;03m#-----------------------------------------------------------------------------\u001b[39;00m\n\u001b[1;32m     48\u001b[0m __all__ \u001b[38;5;241m=\u001b[39m (\n\u001b[1;32m     49\u001b[0m     \u001b[38;5;124m'\u001b[39m\u001b[38;5;124mAUTOLOAD_JS\u001b[39m\u001b[38;5;124m'\u001b[39m,\n\u001b[1;32m     50\u001b[0m     \u001b[38;5;124m'\u001b[39m\u001b[38;5;124mAUTOLOAD_NB_JS\u001b[39m\u001b[38;5;124m'\u001b[39m,\n\u001b[0;32m   (...)\u001b[0m\n\u001b[1;32m     63\u001b[0m     \u001b[38;5;124m'\u001b[39m\u001b[38;5;124mSCRIPT_TAG\u001b[39m\u001b[38;5;124m'\u001b[39m,\n\u001b[1;32m     64\u001b[0m )\n",
      "\u001b[0;31mImportError\u001b[0m: cannot import name 'Markup' from 'jinja2' (/opt/hostedtoolcache/Python/3.8.12/x64/lib/python3.8/site-packages/jinja2/__init__.py)"
     ]
    }
   ],
   "source": [
    "import os\n",
    "from glob import glob\n",
    "\n",
    "import matplotlib.pyplot as plt\n",
    "import numpy as np\n",
    "from myst_nb import glue\n",
    "from nilearn import image, plotting\n",
    "from repo2data.repo2data import Repo2Data\n",
    "from tedana import workflows\n",
    "\n",
    "# Install the data if running locally, or point to cached data if running on neurolibre\n",
    "DATA_REQ_FILE = os.path.join(\"../binder/data_requirement.json\")\n",
    "\n",
    "# Download data\n",
    "repo2data = Repo2Data(DATA_REQ_FILE)\n",
    "data_path = repo2data.install()\n",
    "data_path = os.path.abspath(os.path.join(data_path[0], \"data\"))"
   ]
  },
  {
   "cell_type": "code",
   "execution_count": null,
   "id": "e7dbcd94",
   "metadata": {},
   "outputs": [],
   "source": [
    "func_dir = os.path.join(data_path, \"sub-04570/func/\")\n",
    "data_files = [\n",
    "    os.path.join(\n",
    "        func_dir,\n",
    "        \"sub-04570_task-rest_echo-1_space-scanner_desc-partialPreproc_bold.nii.gz\",\n",
    "    ),\n",
    "    os.path.join(\n",
    "        func_dir,\n",
    "        \"sub-04570_task-rest_echo-2_space-scanner_desc-partialPreproc_bold.nii.gz\",\n",
    "    ),\n",
    "    os.path.join(\n",
    "        func_dir,\n",
    "        \"sub-04570_task-rest_echo-3_space-scanner_desc-partialPreproc_bold.nii.gz\",\n",
    "    ),\n",
    "    os.path.join(\n",
    "        func_dir,\n",
    "        \"sub-04570_task-rest_echo-4_space-scanner_desc-partialPreproc_bold.nii.gz\",\n",
    "    ),\n",
    "]\n",
    "echo_times = [12.0, 28.0, 44.0, 60.0]\n",
    "mask_file = os.path.join(\n",
    "    func_dir, \"sub-04570_task-rest_space-scanner_desc-brain_mask.nii.gz\"\n",
    ")\n",
    "confounds_file = os.path.join(\n",
    "    func_dir, \"sub-04570_task-rest_desc-confounds_timeseries.tsv\"\n",
    ")\n",
    "\n",
    "out_dir = os.path.join(data_path, \"fit\")"
   ]
  },
  {
   "cell_type": "code",
   "execution_count": null,
   "id": "d19c655f",
   "metadata": {},
   "outputs": [],
   "source": [
    "workflows.t2smap_workflow(\n",
    "    data_files,\n",
    "    echo_times,\n",
    "    out_dir=out_dir,\n",
    "    mask=mask_file,\n",
    "    prefix=\"sub-04570_task-rest_space-scanner\",\n",
    "    fittype=\"loglin\",\n",
    "    fitmode=\"ts\",\n",
    ")"
   ]
  },
  {
   "cell_type": "code",
   "execution_count": null,
   "id": "449fecba",
   "metadata": {},
   "outputs": [],
   "source": [
    "out_files = sorted(glob(os.path.join(out_dir, \"*\")))\n",
    "out_files = [os.path.basename(f) for f in out_files]\n",
    "print(\"\\n\".join(out_files))"
   ]
  },
  {
   "cell_type": "code",
   "execution_count": null,
   "id": "9c65d16c",
   "metadata": {},
   "outputs": [],
   "source": [
    "fig, axes = plt.subplots(figsize=(16, 16), nrows=3)\n",
    "\n",
    "plotting.plot_carpet(\n",
    "    os.path.join(out_dir, \"sub-04570_task-rest_space-scanner_desc-optcom_bold.nii.gz\"),\n",
    "    axes=axes[0],\n",
    "    figure=fig,\n",
    ")\n",
    "axes[0].set_title(\"Optimally Combined Data\", fontsize=20)\n",
    "plotting.plot_carpet(\n",
    "    os.path.join(out_dir, \"sub-04570_task-rest_space-scanner_T2starmap.nii.gz\"),\n",
    "    axes=axes[1],\n",
    "    figure=fig,\n",
    ")\n",
    "axes[1].set_title(\"T2* Estimates\", fontsize=20)\n",
    "plotting.plot_carpet(\n",
    "    os.path.join(out_dir, \"sub-04570_task-rest_space-scanner_S0map.nii.gz\"),\n",
    "    axes=axes[2],\n",
    "    figure=fig,\n",
    ")\n",
    "axes[2].set_title(\"S0 Estimates\", fontsize=20)\n",
    "axes[0].xaxis.set_visible(False)\n",
    "axes[1].xaxis.set_visible(False)\n",
    "axes[0].spines[\"bottom\"].set_visible(False)\n",
    "axes[1].spines[\"bottom\"].set_visible(False)\n",
    "fig.tight_layout()\n",
    "\n",
    "glue(\"figure_volumewise_t2ss0_carpets\", fig, display=False)"
   ]
  },
  {
   "cell_type": "markdown",
   "id": "07dea1d3",
   "metadata": {},
   "source": [
    "```{glue:figure} figure_volumewise_t2ss0_carpets\n",
    ":name: \"figure_volumewise_t2ss0_carpets\"\n",
    ":align: center\n",
    "\n",
    "Carpet plots of optimally combined data, along with volume-wise T2* and S0 estimates.\n",
    "```"
   ]
  },
  {
   "cell_type": "code",
   "execution_count": null,
   "id": "7a1d7efc",
   "metadata": {},
   "outputs": [],
   "source": [
    "fig, ax = plt.subplots(figsize=(16, 8))\n",
    "plotting.plot_stat_map(\n",
    "    image.mean_img(\n",
    "        os.path.join(out_dir, \"sub-04570_task-rest_space-scanner_T2starmap.nii.gz\")\n",
    "    ),\n",
    "    vmax=0.6,\n",
    "    draw_cross=False,\n",
    "    bg_img=None,\n",
    "    figure=fig,\n",
    "    axes=ax,\n",
    ")\n",
    "glue(\"figure_mean_volumewise_t2s\", fig, display=False)"
   ]
  },
  {
   "cell_type": "markdown",
   "id": "92640bca",
   "metadata": {},
   "source": [
    "```{glue:figure} figure_mean_volumewise_t2s\n",
    ":name: \"figure_mean_volumewise_t2s\"\n",
    ":align: center\n",
    "\n",
    "Mean map from the volume-wise T2* estimation.\n",
    "```"
   ]
  },
  {
   "cell_type": "code",
   "execution_count": null,
   "id": "82398cdc",
   "metadata": {},
   "outputs": [],
   "source": [
    "fig, ax = plt.subplots(figsize=(16, 8))\n",
    "plotting.plot_stat_map(\n",
    "    image.mean_img(\n",
    "        os.path.join(out_dir, \"sub-04570_task-rest_space-scanner_S0map.nii.gz\")\n",
    "    ),\n",
    "    vmax=8000,\n",
    "    draw_cross=False,\n",
    "    bg_img=None,\n",
    "    figure=fig,\n",
    "    axes=ax,\n",
    ")\n",
    "glue(\"figure_mean_volumewise_s0\", fig, display=False)"
   ]
  },
  {
   "cell_type": "markdown",
   "id": "e9d5034e",
   "metadata": {},
   "source": [
    "```{glue:figure} figure_mean_volumewise_s0\n",
    ":name: \"figure_mean_volumewise_s0\"\n",
    ":align: center\n",
    "\n",
    "Mean map from the volume-wise S0 estimation.\n",
    "```"
   ]
  },
  {
   "cell_type": "code",
   "execution_count": null,
   "id": "e53d29a6",
   "metadata": {},
   "outputs": [],
   "source": [
    "fig, axes = plt.subplots(figsize=(16, 15), nrows=5)\n",
    "plotting.plot_epi(\n",
    "    image.mean_img(data_files[0]),\n",
    "    draw_cross=False,\n",
    "    bg_img=None,\n",
    "    cut_coords=[-10, 0, 10, 20, 30, 40, 50, 60, 70],\n",
    "    display_mode=\"z\",\n",
    "    axes=axes[0],\n",
    ")\n",
    "plotting.plot_epi(\n",
    "    image.mean_img(data_files[1]),\n",
    "    draw_cross=False,\n",
    "    bg_img=None,\n",
    "    cut_coords=[-10, 0, 10, 20, 30, 40, 50, 60, 70],\n",
    "    display_mode=\"z\",\n",
    "    axes=axes[1],\n",
    ")\n",
    "plotting.plot_epi(\n",
    "    image.mean_img(data_files[2]),\n",
    "    draw_cross=False,\n",
    "    bg_img=None,\n",
    "    cut_coords=[-10, 0, 10, 20, 30, 40, 50, 60, 70],\n",
    "    display_mode=\"z\",\n",
    "    axes=axes[2],\n",
    ")\n",
    "plotting.plot_epi(\n",
    "    image.mean_img(data_files[3]),\n",
    "    draw_cross=False,\n",
    "    bg_img=None,\n",
    "    cut_coords=[-10, 0, 10, 20, 30, 40, 50, 60, 70],\n",
    "    display_mode=\"z\",\n",
    "    axes=axes[3],\n",
    ")\n",
    "plotting.plot_epi(\n",
    "    image.mean_img(\n",
    "        os.path.join(\n",
    "            out_dir, \"sub-04570_task-rest_space-scanner_desc-optcom_bold.nii.gz\"\n",
    "        )\n",
    "    ),\n",
    "    draw_cross=False,\n",
    "    bg_img=None,\n",
    "    cut_coords=[-10, 0, 10, 20, 30, 40, 50, 60, 70],\n",
    "    display_mode=\"z\",\n",
    "    axes=axes[4],\n",
    ")\n",
    "glue(\"figure_mean_echos_and_optcom\", fig, display=False)"
   ]
  },
  {
   "cell_type": "markdown",
   "id": "9b24d543",
   "metadata": {},
   "source": [
    "```{glue:figure} figure_mean_echos_and_optcom\n",
    ":name: \"figure_mean_echos_and_optcom\"\n",
    ":align: center\n",
    "\n",
    "Mean images of the echo-wise data and the optimally combined data.\n",
    "```"
   ]
  },
  {
   "cell_type": "code",
   "execution_count": null,
   "id": "da9cede0",
   "metadata": {},
   "outputs": [],
   "source": [
    "te30_tsnr = image.math_img(\n",
    "    \"(np.nanmean(img, axis=3) / np.nanstd(img, axis=3)) * mask\",\n",
    "    img=data_files[1],\n",
    "    mask=mask_file,\n",
    ")\n",
    "oc_tsnr = image.math_img(\n",
    "    \"(np.nanmean(img, axis=3) / np.nanstd(img, axis=3)) * mask\",\n",
    "    img=os.path.join(\n",
    "        out_dir, \"sub-04570_task-rest_space-scanner_desc-optcom_bold.nii.gz\"\n",
    "    ),\n",
    "    mask=mask_file,\n",
    ")\n",
    "vmax = np.nanmax(np.abs(oc_tsnr.get_fdata()))\n",
    "\n",
    "fig, axes = plt.subplots(figsize=(10, 8), nrows=2)\n",
    "plotting.plot_stat_map(\n",
    "    te30_tsnr,\n",
    "    draw_cross=False,\n",
    "    bg_img=None,\n",
    "    threshold=0.1,\n",
    "    cut_coords=[0, 10, 10],\n",
    "    vmax=vmax,\n",
    "    symmetric_cbar=False,\n",
    "    axes=axes[0],\n",
    ")\n",
    "axes[0].set_title(\"TE30 TSNR\", fontsize=16)\n",
    "plotting.plot_stat_map(\n",
    "    oc_tsnr,\n",
    "    draw_cross=False,\n",
    "    bg_img=None,\n",
    "    threshold=0.1,\n",
    "    cut_coords=[0, 10, 10],\n",
    "    vmax=vmax,\n",
    "    symmetric_cbar=False,\n",
    "    axes=axes[1],\n",
    ")\n",
    "axes[1].set_title(\"Optimal Combination TSNR\", fontsize=16)\n",
    "glue(\"figure_t2snr_te30_and_optcom\", fig, display=False)"
   ]
  },
  {
   "cell_type": "markdown",
   "id": "fb28c61b",
   "metadata": {},
   "source": [
    "```{glue:figure} figure_t2snr_te30_and_optcom\n",
    ":name: \"figure_t2snr_te30_and_optcom\"\n",
    ":align: center\n",
    "\n",
    "TSNR map of the second echo (TE30) and the optimally combined data.\n",
    "```"
   ]
  },
  {
   "cell_type": "code",
   "execution_count": null,
   "id": "c0da4716",
   "metadata": {},
   "outputs": [],
   "source": [
    "fig, ax = plt.subplots(figsize=(16, 8))\n",
    "plotting.plot_carpet(\n",
    "    data_files[1],\n",
    "    axes=ax,\n",
    ")\n",
    "glue(\"figure_echo3_carpet\", fig, display=False)"
   ]
  },
  {
   "cell_type": "markdown",
   "id": "d92fb8fc",
   "metadata": {},
   "source": [
    "```{glue:figure} figure_echo3_carpet\n",
    ":name: \"figure_echo3_carpet\"\n",
    ":align: center\n",
    "\n",
    "Carpet plot of the third echo.\n",
    "```"
   ]
  },
  {
   "cell_type": "code",
   "execution_count": null,
   "id": "dc73694b",
   "metadata": {},
   "outputs": [],
   "source": [
    "fig, ax = plt.subplots(figsize=(16, 8))\n",
    "plotting.plot_carpet(\n",
    "    os.path.join(out_dir, \"sub-04570_task-rest_space-scanner_desc-optcom_bold.nii.gz\"),\n",
    "    axes=ax,\n",
    ")\n",
    "glue(\"figure_carpet_optcom\", fig, display=False)"
   ]
  },
  {
   "cell_type": "markdown",
   "id": "75da64f5",
   "metadata": {},
   "source": [
    "```{glue:figure} figure_carpet_optcom\n",
    ":name: \"figure_carpet_optcom\"\n",
    ":align: center\n",
    "\n",
    "Carpet plot of the optimally combined data.\n",
    "```"
   ]
  }
 ],
 "metadata": {
  "jupytext": {
   "text_representation": {
    "extension": ".md",
    "format_name": "myst",
    "format_version": 0.13,
    "jupytext_version": "1.10.3"
   }
  },
  "kernelspec": {
   "display_name": "Python 3",
   "language": "python",
   "name": "python3"
  },
  "language_info": {
   "codemirror_mode": {
    "name": "ipython",
    "version": 3
   },
   "file_extension": ".py",
   "mimetype": "text/x-python",
   "name": "python",
   "nbconvert_exporter": "python",
   "pygments_lexer": "ipython3",
   "version": "3.8.12"
  },
  "source_map": [
   12,
   19,
   39,
   70,
   82,
   88,
   116,
   125,
   138,
   147,
   160,
   169,
   216,
   225,
   264,
   273,
   280,
   289,
   296
  ]
 },
 "nbformat": 4,
 "nbformat_minor": 5
}