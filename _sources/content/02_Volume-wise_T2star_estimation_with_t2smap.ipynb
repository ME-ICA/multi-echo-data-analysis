{
 "cells": [
  {
   "cell_type": "markdown",
   "id": "83c2a72d",
   "metadata": {},
   "source": [
    "# Volume-wise T2*/S0 estimation with `t2smap`\n",
    "\n",
    "Use `t2smap` {cite:p}`DuPre2021` to calculate volume-wise T2*/S0, as in {cite:t}`power2018ridding` and {cite:t}`HEUNIS2021118244`."
   ]
  },
  {
   "cell_type": "code",
   "execution_count": 1,
   "id": "2ab70135",
   "metadata": {},
   "outputs": [
    {
     "name": "stderr",
     "output_type": "stream",
     "text": [
      "/opt/hostedtoolcache/Python/3.7.12/x64/lib/python3.7/site-packages/nilearn/datasets/__init__.py:96: FutureWarning: Fetchers from the nilearn.datasets module will be updated in version 0.9 to return python strings instead of bytes and Pandas dataframes instead of Numpy arrays.\n",
      "  \"Numpy arrays.\", FutureWarning)\n",
      "Module `duecredit` not successfully imported due to \"No module named 'duecredit'\". Package functionality unaffected.\n"
     ]
    },
    {
     "name": "stderr",
     "output_type": "stream",
     "text": [
      "Failed to import duecredit due to No module named 'duecredit'\n"
     ]
    },
    {
     "name": "stdout",
     "output_type": "stream",
     "text": [
      "---- repo2data starting ----\n",
      "/opt/hostedtoolcache/Python/3.7.12/x64/lib/python3.7/site-packages/repo2data\n",
      "Config from file :\n",
      "../binder/data_requirement.json\n",
      "Destination:\n",
      "./../data/multi-echo-data-analysis\n",
      "\n",
      "Info : Starting to download from Google drive https://drive.google.com/uc?id=1t98v7EiEKsV8q8mT-uMRgoYeHaVL2JWx ...\n"
     ]
    },
    {
     "name": "stderr",
     "output_type": "stream",
     "text": [
      "Downloading...\n",
      "From: https://drive.google.com/uc?id=1t98v7EiEKsV8q8mT-uMRgoYeHaVL2JWx\n",
      "To: /home/runner/work/multi-echo-data-analysis/multi-echo-data-analysis/data/multi-echo-data-analysis/multi-echo-data-analysis.zip\n",
      "\r",
      "  0%|          | 0.00/309M [00:00<?, ?B/s]\r",
      "  2%|▏         | 4.72M/309M [00:00<00:09, 32.9MB/s]"
     ]
    },
    {
     "name": "stderr",
     "output_type": "stream",
     "text": [
      "\r",
      "  3%|▎         | 8.91M/309M [00:00<00:08, 36.3MB/s]\r",
      "  6%|▌         | 17.3M/309M [00:00<00:05, 52.3MB/s]"
     ]
    },
    {
     "name": "stderr",
     "output_type": "stream",
     "text": [
      "\r",
      "  8%|▊         | 25.7M/309M [00:00<00:05, 55.5MB/s]\r",
      " 11%|█         | 34.1M/309M [00:00<00:04, 60.6MB/s]"
     ]
    },
    {
     "name": "stderr",
     "output_type": "stream",
     "text": [
      "\r",
      " 14%|█▍        | 42.5M/309M [00:00<00:04, 65.0MB/s]"
     ]
    },
    {
     "name": "stderr",
     "output_type": "stream",
     "text": [
      "\r",
      " 16%|█▋        | 50.9M/309M [00:00<00:04, 52.7MB/s]"
     ]
    },
    {
     "name": "stderr",
     "output_type": "stream",
     "text": [
      "\r",
      " 19%|█▉        | 59.2M/309M [00:01<00:06, 37.0MB/s]\r",
      " 22%|██▏       | 67.6M/309M [00:01<00:05, 42.8MB/s]"
     ]
    },
    {
     "name": "stderr",
     "output_type": "stream",
     "text": [
      "\r",
      " 25%|██▍       | 76.0M/309M [00:01<00:04, 50.0MB/s]\r",
      " 27%|██▋       | 84.4M/309M [00:01<00:04, 55.2MB/s]"
     ]
    },
    {
     "name": "stderr",
     "output_type": "stream",
     "text": [
      "\r",
      " 30%|███       | 92.8M/309M [00:01<00:03, 57.3MB/s]\r",
      " 33%|███▎      | 101M/309M [00:01<00:03, 59.1MB/s] "
     ]
    },
    {
     "name": "stderr",
     "output_type": "stream",
     "text": [
      "\r",
      " 35%|███▌      | 110M/309M [00:02<00:03, 64.4MB/s]\r",
      " 41%|████      | 126M/309M [00:02<00:02, 79.2MB/s]"
     ]
    },
    {
     "name": "stderr",
     "output_type": "stream",
     "text": [
      "\r",
      " 46%|████▋     | 143M/309M [00:02<00:01, 95.4MB/s]\r",
      " 51%|█████     | 158M/309M [00:02<00:01, 107MB/s] "
     ]
    },
    {
     "name": "stderr",
     "output_type": "stream",
     "text": [
      "\r",
      " 55%|█████▍    | 169M/309M [00:02<00:01, 106MB/s]\r",
      " 60%|█████▉    | 185M/309M [00:02<00:01, 118MB/s]"
     ]
    },
    {
     "name": "stderr",
     "output_type": "stream",
     "text": [
      "\r",
      " 64%|██████▍   | 197M/309M [00:02<00:00, 115MB/s]\r",
      " 68%|██████▊   | 209M/309M [00:02<00:01, 96.3MB/s]"
     ]
    },
    {
     "name": "stderr",
     "output_type": "stream",
     "text": [
      "\r",
      " 71%|███████   | 220M/309M [00:03<00:00, 92.6MB/s]\r",
      " 76%|███████▋  | 235M/309M [00:03<00:00, 95.9MB/s]"
     ]
    },
    {
     "name": "stderr",
     "output_type": "stream",
     "text": [
      "\r",
      " 82%|████████▏ | 252M/309M [00:03<00:00, 98.3MB/s]\r",
      " 87%|████████▋ | 269M/309M [00:03<00:00, 104MB/s] "
     ]
    },
    {
     "name": "stderr",
     "output_type": "stream",
     "text": [
      "\r",
      " 93%|█████████▎| 286M/309M [00:03<00:00, 105MB/s]\r",
      " 97%|█████████▋| 300M/309M [00:03<00:00, 113MB/s]\r",
      "100%|██████████| 309M/309M [00:03<00:00, 80.8MB/s]\n"
     ]
    },
    {
     "name": "stdout",
     "output_type": "stream",
     "text": [
      "patool: Extracting ./../data/multi-echo-data-analysis/multi-echo-data-analysis.zip ...\n"
     ]
    },
    {
     "name": "stdout",
     "output_type": "stream",
     "text": [
      "patool: running /usr/bin/7z x -y -o./../data/multi-echo-data-analysis -- ./../data/multi-echo-data-analysis/multi-echo-data-analysis.zip\n"
     ]
    },
    {
     "name": "stdout",
     "output_type": "stream",
     "text": [
      "patool: ... ./../data/multi-echo-data-analysis/multi-echo-data-analysis.zip extracted to `./../data/multi-echo-data-analysis'.\n"
     ]
    },
    {
     "name": "stdout",
     "output_type": "stream",
     "text": [
      "Info : multi-echo-data-analysis.zip Decompressed\n",
      "/home/runner/work/multi-echo-data-analysis/multi-echo-data-analysis/data/multi-echo-data-analysis/data\n",
      "./../data/multi-echo-data-analysis/data_requirement.json\n",
      "./../data/multi-echo-data-analysis/data/.DS_Store\n",
      "./../data/multi-echo-data-analysis/data/sub-04570/.DS_Store\n",
      "./../data/multi-echo-data-analysis/data/sub-04570/func/sub-04570_task-rest_echo-2_space-scanner_desc-partialPreproc_bold.nii.gz\n",
      "./../data/multi-echo-data-analysis/data/sub-04570/func/sub-04570_task-rest_from-T1w_to-scanner_mode-image_xfm.txt\n",
      "./../data/multi-echo-data-analysis/data/sub-04570/func/sub-04570_task-rest_echo-4_space-scanner_desc-partialPreproc_bold.nii.gz\n",
      "./../data/multi-echo-data-analysis/data/sub-04570/func/sub-04570_task-rest_echo-3_space-scanner_desc-partialPreproc_bold.nii.gz\n",
      "./../data/multi-echo-data-analysis/data/sub-04570/func/sub-04570_task-rest_echo-1_space-scanner_desc-partialPreproc_bold.nii.gz\n",
      "./../data/multi-echo-data-analysis/data/sub-04570/func/sub-04570_task-rest_space-scanner_desc-brain_mask.nii.gz\n",
      "./../data/multi-echo-data-analysis/data/sub-04570/func/sub-04570_task-rest_from-scanner_to-T1w_mode-image_xfm.txt\n",
      "./../data/multi-echo-data-analysis/data/sub-04570/func/sub-04570_task-rest_desc-confounds_timeseries.tsv\n",
      "./../data/multi-echo-data-analysis/data/sub-04570/func/sub-04570_task-rest_desc-confounds_timeseries.json\n",
      "./../data/multi-echo-data-analysis/data/sub-04570/anat/sub-04570_label-WM_probseg.nii.gz\n",
      "./../data/multi-echo-data-analysis/data/sub-04570/anat/sub-04570_space-MNI152NLin2009cAsym_res-2_desc-preproc_T1w.nii.gz\n",
      "./../data/multi-echo-data-analysis/data/sub-04570/anat/sub-04570_space-MNI152NLin2009cAsym_res-2_dseg.nii.gz\n",
      "./../data/multi-echo-data-analysis/data/sub-04570/anat/sub-04570_desc-preproc_T1w.nii.gz\n",
      "./../data/multi-echo-data-analysis/data/sub-04570/anat/sub-04570_space-MNI152NLin2009cAsym_res-2_desc-preproc_T1w.json\n",
      "./../data/multi-echo-data-analysis/data/sub-04570/anat/sub-04570_label-CSF_probseg.nii.gz\n",
      "./../data/multi-echo-data-analysis/data/sub-04570/anat/sub-04570_space-MNI152NLin2009cAsym_res-2_desc-brain_mask.json\n",
      "./../data/multi-echo-data-analysis/data/sub-04570/anat/sub-04570_desc-preproc_T1w.json\n",
      "./../data/multi-echo-data-analysis/data/sub-04570/anat/sub-04570_desc-brain_mask.json\n",
      "./../data/multi-echo-data-analysis/data/sub-04570/anat/sub-04570_space-MNI152NLin2009cAsym_res-2_label-GM_probseg.nii.gz\n",
      "./../data/multi-echo-data-analysis/data/sub-04570/anat/sub-04570_space-MNI152NLin2009cAsym_res-2_label-WM_probseg.nii.gz\n",
      "./../data/multi-echo-data-analysis/data/sub-04570/anat/sub-04570_space-MNI152NLin2009cAsym_res-2_desc-brain_mask.nii.gz\n",
      "./../data/multi-echo-data-analysis/data/sub-04570/anat/sub-04570_space-MNI152NLin2009cAsym_res-2_label-CSF_probseg.nii.gz\n",
      "./../data/multi-echo-data-analysis/data/sub-04570/anat/sub-04570_from-T1w_to-MNI152NLin2009cAsym_mode-image_xfm.h5\n",
      "./../data/multi-echo-data-analysis/data/sub-04570/anat/sub-04570_desc-brain_mask.nii.gz\n",
      "./../data/multi-echo-data-analysis/data/sub-04570/anat/sub-04570_dseg.nii.gz\n",
      "./../data/multi-echo-data-analysis/data/sub-04570/anat/sub-04570_label-GM_probseg.nii.gz\n",
      "./../data/multi-echo-data-analysis/__MACOSX/data/._.DS_Store\n",
      "./../data/multi-echo-data-analysis/__MACOSX/data/._sub-04570\n",
      "./../data/multi-echo-data-analysis/__MACOSX/data/sub-04570/._.DS_Store\n",
      "./../data/multi-echo-data-analysis/__MACOSX/data/sub-04570/func/._sub-04570_task-rest_echo-2_space-scanner_desc-partialPreproc_bold.nii.gz\n",
      "./../data/multi-echo-data-analysis/__MACOSX/data/sub-04570/func/._sub-04570_task-rest_echo-3_space-scanner_desc-partialPreproc_bold.nii.gz\n",
      "./../data/multi-echo-data-analysis/__MACOSX/data/sub-04570/func/._sub-04570_task-rest_echo-4_space-scanner_desc-partialPreproc_bold.nii.gz\n",
      "./../data/multi-echo-data-analysis/__MACOSX/data/sub-04570/func/._sub-04570_task-rest_space-scanner_desc-brain_mask.nii.gz\n",
      "./../data/multi-echo-data-analysis/__MACOSX/data/sub-04570/func/._sub-04570_task-rest_echo-1_space-scanner_desc-partialPreproc_bold.nii.gz\n",
      "./../data/multi-echo-data-analysis/__MACOSX/data/sub-04570/func/._sub-04570_task-rest_from-scanner_to-T1w_mode-image_xfm.txt\n",
      "./../data/multi-echo-data-analysis/__MACOSX/data/sub-04570/func/._sub-04570_task-rest_desc-confounds_timeseries.json\n",
      "./../data/multi-echo-data-analysis/__MACOSX/data/sub-04570/func/._sub-04570_task-rest_desc-confounds_timeseries.tsv\n",
      "./../data/multi-echo-data-analysis/__MACOSX/data/sub-04570/func/._sub-04570_task-rest_from-T1w_to-scanner_mode-image_xfm.txt\n",
      "./../data/multi-echo-data-analysis/__MACOSX/data/sub-04570/anat/._sub-04570_label-GM_probseg.nii.gz\n",
      "./../data/multi-echo-data-analysis/__MACOSX/data/sub-04570/anat/._sub-04570_space-MNI152NLin2009cAsym_res-2_label-WM_probseg.nii.gz\n",
      "./../data/multi-echo-data-analysis/__MACOSX/data/sub-04570/anat/._sub-04570_desc-brain_mask.json\n",
      "./../data/multi-echo-data-analysis/__MACOSX/data/sub-04570/anat/._sub-04570_label-WM_probseg.nii.gz\n",
      "./../data/multi-echo-data-analysis/__MACOSX/data/sub-04570/anat/._sub-04570_dseg.nii.gz\n",
      "./../data/multi-echo-data-analysis/__MACOSX/data/sub-04570/anat/._sub-04570_from-T1w_to-MNI152NLin2009cAsym_mode-image_xfm.h5\n",
      "./../data/multi-echo-data-analysis/__MACOSX/data/sub-04570/anat/._sub-04570_space-MNI152NLin2009cAsym_res-2_dseg.nii.gz\n",
      "./../data/multi-echo-data-analysis/__MACOSX/data/sub-04570/anat/._sub-04570_desc-preproc_T1w.json\n",
      "./../data/multi-echo-data-analysis/__MACOSX/data/sub-04570/anat/._sub-04570_space-MNI152NLin2009cAsym_res-2_label-GM_probseg.nii.gz\n",
      "./../data/multi-echo-data-analysis/__MACOSX/data/sub-04570/anat/._sub-04570_space-MNI152NLin2009cAsym_res-2_desc-preproc_T1w.json\n",
      "./../data/multi-echo-data-analysis/__MACOSX/data/sub-04570/anat/._sub-04570_label-CSF_probseg.nii.gz\n",
      "./../data/multi-echo-data-analysis/__MACOSX/data/sub-04570/anat/._sub-04570_desc-brain_mask.nii.gz\n",
      "./../data/multi-echo-data-analysis/__MACOSX/data/sub-04570/anat/._sub-04570_space-MNI152NLin2009cAsym_res-2_desc-preproc_T1w.nii.gz\n",
      "./../data/multi-echo-data-analysis/__MACOSX/data/sub-04570/anat/._sub-04570_space-MNI152NLin2009cAsym_res-2_desc-brain_mask.json\n",
      "./../data/multi-echo-data-analysis/__MACOSX/data/sub-04570/anat/._sub-04570_space-MNI152NLin2009cAsym_res-2_label-CSF_probseg.nii.gz\n",
      "./../data/multi-echo-data-analysis/__MACOSX/data/sub-04570/anat/._sub-04570_space-MNI152NLin2009cAsym_res-2_desc-brain_mask.nii.gz\n",
      "./../data/multi-echo-data-analysis/__MACOSX/data/sub-04570/anat/._sub-04570_desc-preproc_T1w.nii.gz\n"
     ]
    }
   ],
   "source": [
    "import os\n",
    "import matplotlib\n",
    "import matplotlib.pyplot as plt\n",
    "from glob import glob\n",
    "\n",
    "import numpy as np\n",
    "import pandas as pd\n",
    "from nilearn import image, plotting\n",
    "from tedana import workflows\n",
    "\n",
    "from repo2data.repo2data import Repo2Data\n",
    "\n",
    "# Install the data if running locally, or points to cached data if running on neurolibre\n",
    "DATA_REQ_FILE = os.path.join(\"../binder/data_requirement.json\")\n",
    "\n",
    "# Download data\n",
    "repo2data = Repo2Data(DATA_REQ_FILE)\n",
    "orig_data_path = repo2data.install()\n",
    "data_path = os.path.abspath(os.path.join(orig_data_path[0], \"data\"))\n",
    "print(data_path)\n",
    "for path, directories, files in os.walk(orig_data_path[0]):\n",
    "    for f in files:\n",
    "        print(os.path.join(path, f))"
   ]
  },
  {
   "cell_type": "code",
   "execution_count": 2,
   "id": "d4c26e49",
   "metadata": {},
   "outputs": [],
   "source": [
    "func_dir = os.path.join(data_path, \"sub-04570/func/\")\n",
    "data_files = [\n",
    "    os.path.join(func_dir, \"sub-04570_task-rest_echo-1_space-scanner_desc-partialPreproc_bold.nii.gz\"),\n",
    "    os.path.join(func_dir, \"sub-04570_task-rest_echo-2_space-scanner_desc-partialPreproc_bold.nii.gz\"),\n",
    "    os.path.join(func_dir, \"sub-04570_task-rest_echo-3_space-scanner_desc-partialPreproc_bold.nii.gz\"),\n",
    "    os.path.join(func_dir, \"sub-04570_task-rest_echo-4_space-scanner_desc-partialPreproc_bold.nii.gz\"),\n",
    "]\n",
    "echo_times = [12., 28., 44., 60.]\n",
    "mask_file = os.path.join(func_dir, \"sub-04570_task-rest_space-scanner_desc-brain_mask.nii.gz\")\n",
    "confounds_file = os.path.join(func_dir, \"sub-04570_task-rest_desc-confounds_timeseries.tsv\")\n",
    "\n",
    "out_dir = os.path.join(data_path, \"fit\")"
   ]
  },
  {
   "cell_type": "code",
   "execution_count": 3,
   "id": "bee0f601",
   "metadata": {},
   "outputs": [
    {
     "name": "stderr",
     "output_type": "stream",
     "text": [
      "INFO     t2smap:t2smap_workflow:229 Using output directory: /home/runner/work/multi-echo-data-analysis/multi-echo-data-analysis/data/multi-echo-data-analysis/data/fit\n"
     ]
    },
    {
     "name": "stderr",
     "output_type": "stream",
     "text": [
      "INFO     t2smap:t2smap_workflow:239 Loading input data: ['/home/runner/work/multi-echo-data-analysis/multi-echo-data-analysis/data/multi-echo-data-analysis/data/sub-04570/func/sub-04570_task-rest_echo-1_space-scanner_desc-partialPreproc_bold.nii.gz', '/home/runner/work/multi-echo-data-analysis/multi-echo-data-analysis/data/multi-echo-data-analysis/data/sub-04570/func/sub-04570_task-rest_echo-2_space-scanner_desc-partialPreproc_bold.nii.gz', '/home/runner/work/multi-echo-data-analysis/multi-echo-data-analysis/data/multi-echo-data-analysis/data/sub-04570/func/sub-04570_task-rest_echo-3_space-scanner_desc-partialPreproc_bold.nii.gz', '/home/runner/work/multi-echo-data-analysis/multi-echo-data-analysis/data/multi-echo-data-analysis/data/sub-04570/func/sub-04570_task-rest_echo-4_space-scanner_desc-partialPreproc_bold.nii.gz']\n"
     ]
    },
    {
     "name": "stderr",
     "output_type": "stream",
     "text": [
      "INFO     t2smap:t2smap_workflow:255 Using user-defined mask\n"
     ]
    },
    {
     "name": "stderr",
     "output_type": "stream",
     "text": [
      "INFO     t2smap:t2smap_workflow:258 Computing adaptive T2* map\n"
     ]
    },
    {
     "name": "stderr",
     "output_type": "stream",
     "text": [
      "INFO     t2smap:t2smap_workflow:275 Computing optimal combination\n"
     ]
    },
    {
     "name": "stderr",
     "output_type": "stream",
     "text": [
      "INFO     combine:make_optcom:242 Optimally combining data with voxel- and volume-wise T2* estimates\n"
     ]
    },
    {
     "name": "stderr",
     "output_type": "stream",
     "text": [
      "INFO     t2smap:t2smap_workflow:320 Workflow completed\n"
     ]
    }
   ],
   "source": [
    "workflows.t2smap_workflow(\n",
    "    data_files,\n",
    "    echo_times,\n",
    "    out_dir=out_dir,\n",
    "    mask=mask_file,\n",
    "    prefix=\"sub-04570_task-rest_space-scanner\",\n",
    "    fittype=\"loglin\",\n",
    "    fitmode=\"ts\",\n",
    ")"
   ]
  },
  {
   "cell_type": "code",
   "execution_count": 4,
   "id": "a76ffaf7",
   "metadata": {},
   "outputs": [
    {
     "name": "stdout",
     "output_type": "stream",
     "text": [
      "sub-04570_task-rest_space-scanner_S0map.nii.gz\n",
      "sub-04570_task-rest_space-scanner_T2starmap.nii.gz\n",
      "sub-04570_task-rest_space-scanner_dataset_description.json\n",
      "sub-04570_task-rest_space-scanner_desc-limited_S0map.nii.gz\n",
      "sub-04570_task-rest_space-scanner_desc-limited_T2starmap.nii.gz\n",
      "sub-04570_task-rest_space-scanner_desc-optcom_bold.nii.gz\n"
     ]
    }
   ],
   "source": [
    "out_files = sorted(glob(os.path.join(out_dir, \"*\")))\n",
    "out_files = [os.path.basename(f) for f in out_files]\n",
    "print(\"\\n\".join(out_files))"
   ]
  },
  {
   "cell_type": "code",
   "execution_count": 5,
   "id": "ed87f8b1",
   "metadata": {},
   "outputs": [],
   "source": [
    "fig, axes = plt.subplots(figsize=(16, 16), nrows=3)\n",
    "\n",
    "plotting.plot_carpet(\n",
    "    os.path.join(out_dir, \"sub-04570_task-rest_space-scanner_desc-optcom_bold.nii.gz\"),\n",
    "    axes=axes[0],\n",
    "    figure=fig,\n",
    ")\n",
    "axes[0].set_title(\"Optimally Combined Data\", fontsize=20)\n",
    "plotting.plot_carpet(\n",
    "    os.path.join(out_dir, \"sub-04570_task-rest_space-scanner_T2starmap.nii.gz\"),\n",
    "    axes=axes[1],\n",
    "    figure=fig,\n",
    ")\n",
    "axes[1].set_title(\"T2* Estimates\", fontsize=20)\n",
    "plotting.plot_carpet(\n",
    "    os.path.join(out_dir, \"sub-04570_task-rest_space-scanner_S0map.nii.gz\"),\n",
    "    axes=axes[2],\n",
    "    figure=fig,\n",
    ")\n",
    "axes[2].set_title(\"S0 Estimates\", fontsize=20)\n",
    "axes[0].xaxis.set_visible(False)\n",
    "axes[1].xaxis.set_visible(False)\n",
    "axes[0].spines[\"bottom\"].set_visible(False)\n",
    "axes[1].spines[\"bottom\"].set_visible(False)\n",
    "fig.tight_layout()\n",
    "fig.show()"
   ]
  },
  {
   "cell_type": "code",
   "execution_count": 6,
   "id": "8af4e467",
   "metadata": {},
   "outputs": [
    {
     "data": {
      "text/plain": [
       "<nilearn.plotting.displays.OrthoSlicer at 0x7f0194e76f10>"
      ]
     },
     "execution_count": 6,
     "metadata": {},
     "output_type": "execute_result"
    }
   ],
   "source": [
    "plotting.plot_stat_map(\n",
    "    image.mean_img(os.path.join(out_dir, \"sub-04570_task-rest_space-scanner_T2starmap.nii.gz\")),\n",
    "    vmax=0.6,\n",
    "    draw_cross=False,\n",
    "    bg_img=None,\n",
    ")"
   ]
  },
  {
   "cell_type": "code",
   "execution_count": 7,
   "id": "e1855d8c",
   "metadata": {},
   "outputs": [
    {
     "data": {
      "text/plain": [
       "<nilearn.plotting.displays.OrthoSlicer at 0x7f017e3588d0>"
      ]
     },
     "execution_count": 7,
     "metadata": {},
     "output_type": "execute_result"
    }
   ],
   "source": [
    "plotting.plot_stat_map(\n",
    "    image.mean_img(os.path.join(out_dir, \"sub-04570_task-rest_space-scanner_S0map.nii.gz\")),\n",
    "    vmax=8000,\n",
    "    draw_cross=False,\n",
    "    bg_img=None,\n",
    ")"
   ]
  },
  {
   "cell_type": "code",
   "execution_count": 8,
   "id": "2042d278",
   "metadata": {},
   "outputs": [],
   "source": [
    "fig, axes = plt.subplots(figsize=(16, 15), nrows=5)\n",
    "plotting.plot_epi(\n",
    "    image.mean_img(data_files[0]),\n",
    "    draw_cross=False,\n",
    "    bg_img=None,\n",
    "    cut_coords=[-10, 0, 10, 20, 30, 40, 50, 60, 70],\n",
    "    display_mode=\"z\",\n",
    "    axes=axes[0],\n",
    ")\n",
    "plotting.plot_epi(\n",
    "    image.mean_img(data_files[1]),\n",
    "    draw_cross=False,\n",
    "    bg_img=None,\n",
    "    cut_coords=[-10, 0, 10, 20, 30, 40, 50, 60, 70],\n",
    "    display_mode=\"z\",\n",
    "    axes=axes[1],\n",
    ")\n",
    "plotting.plot_epi(\n",
    "    image.mean_img(data_files[2]),\n",
    "    draw_cross=False,\n",
    "    bg_img=None,\n",
    "    cut_coords=[-10, 0, 10, 20, 30, 40, 50, 60, 70],\n",
    "    display_mode=\"z\",\n",
    "    axes=axes[2],\n",
    ")\n",
    "plotting.plot_epi(\n",
    "    image.mean_img(data_files[3]),\n",
    "    draw_cross=False,\n",
    "    bg_img=None,\n",
    "    cut_coords=[-10, 0, 10, 20, 30, 40, 50, 60, 70],\n",
    "    display_mode=\"z\",\n",
    "    axes=axes[3],\n",
    ")\n",
    "plotting.plot_epi(\n",
    "    image.mean_img(os.path.join(out_dir, \"sub-04570_task-rest_space-scanner_desc-optcom_bold.nii.gz\")),\n",
    "    draw_cross=False,\n",
    "    bg_img=None,\n",
    "    cut_coords=[-10, 0, 10, 20, 30, 40, 50, 60, 70],\n",
    "    display_mode=\"z\",\n",
    "    axes=axes[4],\n",
    ")\n",
    "fig.show()"
   ]
  },
  {
   "cell_type": "code",
   "execution_count": 9,
   "id": "4878029b",
   "metadata": {},
   "outputs": [
    {
     "name": "stderr",
     "output_type": "stream",
     "text": [
      "<string>:1: RuntimeWarning: invalid value encountered in true_divide\n"
     ]
    },
    {
     "name": "stderr",
     "output_type": "stream",
     "text": [
      "/opt/hostedtoolcache/Python/3.7.12/x64/lib/python3.7/site-packages/nilearn/_utils/niimg.py:62: UserWarning: Non-finite values detected. These values will be replaced with zeros.\n",
      "  \"Non-finite values detected. \"\n"
     ]
    }
   ],
   "source": [
    "te30_tsnr = image.math_img(\n",
    "    '(np.nanmean(img, axis=3) / np.nanstd(img, axis=3)) * mask',\n",
    "    img=data_files[1],\n",
    "    mask=mask_file,\n",
    ")\n",
    "oc_tsnr = image.math_img(\n",
    "    '(np.nanmean(img, axis=3) / np.nanstd(img, axis=3)) * mask',\n",
    "    img=os.path.join(out_dir, \"sub-04570_task-rest_space-scanner_desc-optcom_bold.nii.gz\"),\n",
    "    mask=mask_file,\n",
    ")\n",
    "vmax = np.nanmax(np.abs(oc_tsnr.get_fdata()))\n",
    "\n",
    "fig, axes = plt.subplots(figsize=(10, 8), nrows=2)\n",
    "plotting.plot_stat_map(\n",
    "    te30_tsnr,\n",
    "    draw_cross=False,\n",
    "    bg_img=None,\n",
    "    threshold=0.1,\n",
    "    cut_coords=[0, 10, 10],\n",
    "    vmax=vmax,\n",
    "    symmetric_cbar=False,\n",
    "    axes=axes[0],\n",
    ")\n",
    "axes[0].set_title(\"TE30 TSNR\", fontsize=16)\n",
    "plotting.plot_stat_map(\n",
    "    oc_tsnr,\n",
    "    draw_cross=False,\n",
    "    bg_img=None,\n",
    "    threshold=0.1,\n",
    "    cut_coords=[0, 10, 10],\n",
    "    vmax=vmax,\n",
    "    symmetric_cbar=False,\n",
    "    axes=axes[1],\n",
    ")\n",
    "axes[1].set_title(\"Optimal Combination TSNR\", fontsize=16)\n",
    "fig.show()"
   ]
  },
  {
   "cell_type": "code",
   "execution_count": 10,
   "id": "c8d1a648",
   "metadata": {},
   "outputs": [],
   "source": [
    "fig, ax = plt.subplots(figsize=(16, 8))\n",
    "plotting.plot_carpet(\n",
    "    data_files[1],\n",
    "    axes=ax,\n",
    ")\n",
    "fig.show()"
   ]
  },
  {
   "cell_type": "code",
   "execution_count": 11,
   "id": "fa3ffcc8",
   "metadata": {},
   "outputs": [],
   "source": [
    "fig, ax = plt.subplots(figsize=(16, 8))\n",
    "plotting.plot_carpet(\n",
    "    os.path.join(out_dir, \"sub-04570_task-rest_space-scanner_desc-optcom_bold.nii.gz\"),\n",
    "    axes=ax,\n",
    ")\n",
    "fig.show()"
   ]
  }
 ],
 "metadata": {
  "jupytext": {
   "text_representation": {
    "extension": ".md",
    "format_name": "myst",
    "format_version": 0.13,
    "jupytext_version": "1.10.3"
   }
  },
  "kernelspec": {
   "display_name": "Python 3",
   "language": "python",
   "name": "python3"
  },
  "language_info": {
   "codemirror_mode": {
    "name": "ipython",
    "version": 3
   },
   "file_extension": ".py",
   "mimetype": "text/x-python",
   "name": "python",
   "nbconvert_exporter": "python",
   "pygments_lexer": "ipython3",
   "version": "3.7.12"
  },
  "source_map": [
   12,
   18,
   44,
   59,
   71,
   77,
   106,
   115,
   124,
   169,
   208,
   217
  ]
 },
 "nbformat": 4,
 "nbformat_minor": 5
}