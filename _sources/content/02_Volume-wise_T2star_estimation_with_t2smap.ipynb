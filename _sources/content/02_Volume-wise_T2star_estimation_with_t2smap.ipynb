{
 "cells": [
  {
   "cell_type": "markdown",
   "id": "870034fb",
   "metadata": {},
   "source": [
    "# Volume-wise T2*/S0 estimation with `t2smap`\n",
    "\n",
    "Use `t2smap` {cite:p}`DuPre2021` to calculate volume-wise T2*/S0, as in {cite:t}`power2018ridding` and {cite:t}`HEUNIS2021118244`."
   ]
  },
  {
   "cell_type": "code",
   "execution_count": 1,
   "id": "a92c9a19",
   "metadata": {},
   "outputs": [
    {
     "name": "stderr",
     "output_type": "stream",
     "text": [
      "/opt/hostedtoolcache/Python/3.7.12/x64/lib/python3.7/site-packages/nilearn/datasets/__init__.py:96: FutureWarning: Fetchers from the nilearn.datasets module will be updated in version 0.9 to return python strings instead of bytes and Pandas dataframes instead of Numpy arrays.\n",
      "  \"Numpy arrays.\", FutureWarning)\n",
      "Module `duecredit` not successfully imported due to \"No module named 'duecredit'\". Package functionality unaffected.\n"
     ]
    },
    {
     "name": "stderr",
     "output_type": "stream",
     "text": [
      "Failed to import duecredit due to No module named 'duecredit'\n"
     ]
    },
    {
     "name": "stdout",
     "output_type": "stream",
     "text": [
      "---- repo2data starting ----\n",
      "/opt/hostedtoolcache/Python/3.7.12/x64/lib/python3.7/site-packages/repo2data\n",
      "Config from file :\n",
      "../binder/data_requirement.json\n",
      "Destination:\n",
      "./../data/multi-echo-data-analysis\n",
      "\n",
      "Info : Starting to download from Google drive https://drive.google.com/uc?id=1t98v7EiEKsV8q8mT-uMRgoYeHaVL2JWx ...\n"
     ]
    },
    {
     "name": "stderr",
     "output_type": "stream",
     "text": [
      "Downloading...\n",
      "From: https://drive.google.com/uc?id=1t98v7EiEKsV8q8mT-uMRgoYeHaVL2JWx\n",
      "To: /home/runner/work/multi-echo-data-analysis/multi-echo-data-analysis/data/multi-echo-data-analysis/multi-echo-data-analysis.zip\n",
      "\r",
      "  0%|          | 0.00/309M [00:00<?, ?B/s]\r",
      "  1%|          | 3.67M/309M [00:00<00:08, 36.6MB/s]"
     ]
    },
    {
     "name": "stderr",
     "output_type": "stream",
     "text": [
      "\r",
      "  6%|▌         | 17.3M/309M [00:00<00:03, 80.5MB/s]\r",
      "  8%|▊         | 25.7M/309M [00:00<00:03, 81.1MB/s]"
     ]
    },
    {
     "name": "stderr",
     "output_type": "stream",
     "text": [
      "\r",
      " 11%|█         | 34.1M/309M [00:00<00:03, 75.9MB/s]\r",
      " 14%|█▍        | 42.5M/309M [00:00<00:03, 72.6MB/s]"
     ]
    },
    {
     "name": "stderr",
     "output_type": "stream",
     "text": [
      "\r",
      " 16%|█▋        | 50.9M/309M [00:00<00:03, 75.2MB/s]\r",
      " 21%|██        | 65.0M/309M [00:00<00:02, 95.0MB/s]"
     ]
    },
    {
     "name": "stderr",
     "output_type": "stream",
     "text": [
      "\r",
      " 26%|██▌       | 80.2M/309M [00:00<00:02, 111MB/s] \r",
      " 31%|███▏      | 97.0M/309M [00:00<00:01, 128MB/s]"
     ]
    },
    {
     "name": "stderr",
     "output_type": "stream",
     "text": [
      "\r",
      " 38%|███▊      | 116M/309M [00:01<00:01, 146MB/s] \r",
      " 42%|████▏     | 131M/309M [00:01<00:01, 142MB/s]\r",
      " 47%|████▋     | 146M/309M [00:01<00:01, 140MB/s]"
     ]
    },
    {
     "name": "stderr",
     "output_type": "stream",
     "text": [
      "\r",
      " 52%|█████▏    | 161M/309M [00:01<00:01, 144MB/s]\r",
      " 58%|█████▊    | 178M/309M [00:01<00:00, 150MB/s]"
     ]
    },
    {
     "name": "stderr",
     "output_type": "stream",
     "text": [
      "\r",
      " 63%|██████▎   | 195M/309M [00:01<00:00, 154MB/s]\r",
      " 68%|██████▊   | 210M/309M [00:01<00:00, 154MB/s]"
     ]
    },
    {
     "name": "stderr",
     "output_type": "stream",
     "text": [
      "\r",
      " 74%|███████▍  | 228M/309M [00:01<00:00, 161MB/s]\r",
      " 79%|███████▉  | 244M/309M [00:01<00:00, 158MB/s]"
     ]
    },
    {
     "name": "stderr",
     "output_type": "stream",
     "text": [
      "\r",
      " 84%|████████▍ | 261M/309M [00:02<00:00, 155MB/s]\r",
      " 90%|████████▉ | 277M/309M [00:02<00:00, 158MB/s]"
     ]
    },
    {
     "name": "stderr",
     "output_type": "stream",
     "text": [
      "\r",
      " 96%|█████████▋| 297M/309M [00:02<00:00, 169MB/s]\r",
      "100%|██████████| 309M/309M [00:02<00:00, 134MB/s]\n"
     ]
    },
    {
     "name": "stdout",
     "output_type": "stream",
     "text": [
      "patool: Extracting ./../data/multi-echo-data-analysis/multi-echo-data-analysis.zip ...\n",
      "patool: running /usr/bin/7z x -y -o./../data/multi-echo-data-analysis -- ./../data/multi-echo-data-analysis/multi-echo-data-analysis.zip\n"
     ]
    },
    {
     "name": "stdout",
     "output_type": "stream",
     "text": [
      "patool: ... ./../data/multi-echo-data-analysis/multi-echo-data-analysis.zip extracted to `./../data/multi-echo-data-analysis'.\n",
      "Info : multi-echo-data-analysis.zip Decompressed\n"
     ]
    },
    {
     "name": "stdout",
     "output_type": "stream",
     "text": [
      "/home/runner/work/multi-echo-data-analysis/multi-echo-data-analysis/data/multi-echo-data-analysis/data\n",
      "./../data/multi-echo-data-analysis/data_requirement.json\n",
      "./../data/multi-echo-data-analysis/multi-echo-data-analysis/sub-04570/.DS_Store\n",
      "./../data/multi-echo-data-analysis/multi-echo-data-analysis/sub-04570/func/sub-04570_task-rest_echo-2_space-scanner_desc-partialPreproc_bold.nii.gz\n",
      "./../data/multi-echo-data-analysis/multi-echo-data-analysis/sub-04570/func/sub-04570_task-rest_from-T1w_to-scanner_mode-image_xfm.txt\n",
      "./../data/multi-echo-data-analysis/multi-echo-data-analysis/sub-04570/func/sub-04570_task-rest_echo-4_space-scanner_desc-partialPreproc_bold.nii.gz\n",
      "./../data/multi-echo-data-analysis/multi-echo-data-analysis/sub-04570/func/sub-04570_task-rest_echo-3_space-scanner_desc-partialPreproc_bold.nii.gz\n",
      "./../data/multi-echo-data-analysis/multi-echo-data-analysis/sub-04570/func/sub-04570_task-rest_echo-1_space-scanner_desc-partialPreproc_bold.nii.gz\n",
      "./../data/multi-echo-data-analysis/multi-echo-data-analysis/sub-04570/func/sub-04570_task-rest_space-scanner_desc-brain_mask.nii.gz\n",
      "./../data/multi-echo-data-analysis/multi-echo-data-analysis/sub-04570/func/sub-04570_task-rest_from-scanner_to-T1w_mode-image_xfm.txt\n",
      "./../data/multi-echo-data-analysis/multi-echo-data-analysis/sub-04570/func/sub-04570_task-rest_desc-confounds_timeseries.tsv\n",
      "./../data/multi-echo-data-analysis/multi-echo-data-analysis/sub-04570/func/sub-04570_task-rest_desc-confounds_timeseries.json\n",
      "./../data/multi-echo-data-analysis/multi-echo-data-analysis/sub-04570/anat/sub-04570_label-WM_probseg.nii.gz\n",
      "./../data/multi-echo-data-analysis/multi-echo-data-analysis/sub-04570/anat/sub-04570_space-MNI152NLin2009cAsym_res-2_desc-preproc_T1w.nii.gz\n",
      "./../data/multi-echo-data-analysis/multi-echo-data-analysis/sub-04570/anat/sub-04570_space-MNI152NLin2009cAsym_res-2_dseg.nii.gz\n",
      "./../data/multi-echo-data-analysis/multi-echo-data-analysis/sub-04570/anat/sub-04570_desc-preproc_T1w.nii.gz\n",
      "./../data/multi-echo-data-analysis/multi-echo-data-analysis/sub-04570/anat/sub-04570_space-MNI152NLin2009cAsym_res-2_desc-preproc_T1w.json\n",
      "./../data/multi-echo-data-analysis/multi-echo-data-analysis/sub-04570/anat/sub-04570_label-CSF_probseg.nii.gz\n",
      "./../data/multi-echo-data-analysis/multi-echo-data-analysis/sub-04570/anat/sub-04570_space-MNI152NLin2009cAsym_res-2_desc-brain_mask.json\n",
      "./../data/multi-echo-data-analysis/multi-echo-data-analysis/sub-04570/anat/sub-04570_desc-preproc_T1w.json\n",
      "./../data/multi-echo-data-analysis/multi-echo-data-analysis/sub-04570/anat/sub-04570_desc-brain_mask.json\n",
      "./../data/multi-echo-data-analysis/multi-echo-data-analysis/sub-04570/anat/sub-04570_space-MNI152NLin2009cAsym_res-2_label-GM_probseg.nii.gz\n",
      "./../data/multi-echo-data-analysis/multi-echo-data-analysis/sub-04570/anat/sub-04570_space-MNI152NLin2009cAsym_res-2_label-WM_probseg.nii.gz\n",
      "./../data/multi-echo-data-analysis/multi-echo-data-analysis/sub-04570/anat/sub-04570_space-MNI152NLin2009cAsym_res-2_desc-brain_mask.nii.gz\n",
      "./../data/multi-echo-data-analysis/multi-echo-data-analysis/sub-04570/anat/sub-04570_space-MNI152NLin2009cAsym_res-2_label-CSF_probseg.nii.gz\n",
      "./../data/multi-echo-data-analysis/multi-echo-data-analysis/sub-04570/anat/sub-04570_from-T1w_to-MNI152NLin2009cAsym_mode-image_xfm.h5\n",
      "./../data/multi-echo-data-analysis/multi-echo-data-analysis/sub-04570/anat/sub-04570_desc-brain_mask.nii.gz\n",
      "./../data/multi-echo-data-analysis/multi-echo-data-analysis/sub-04570/anat/sub-04570_dseg.nii.gz\n",
      "./../data/multi-echo-data-analysis/multi-echo-data-analysis/sub-04570/anat/sub-04570_label-GM_probseg.nii.gz\n",
      "./../data/multi-echo-data-analysis/__MACOSX/multi-echo-data-analysis/._sub-04570\n",
      "./../data/multi-echo-data-analysis/__MACOSX/multi-echo-data-analysis/sub-04570/._.DS_Store\n",
      "./../data/multi-echo-data-analysis/__MACOSX/multi-echo-data-analysis/sub-04570/func/._sub-04570_task-rest_echo-2_space-scanner_desc-partialPreproc_bold.nii.gz\n",
      "./../data/multi-echo-data-analysis/__MACOSX/multi-echo-data-analysis/sub-04570/func/._sub-04570_task-rest_echo-3_space-scanner_desc-partialPreproc_bold.nii.gz\n",
      "./../data/multi-echo-data-analysis/__MACOSX/multi-echo-data-analysis/sub-04570/func/._sub-04570_task-rest_echo-4_space-scanner_desc-partialPreproc_bold.nii.gz\n",
      "./../data/multi-echo-data-analysis/__MACOSX/multi-echo-data-analysis/sub-04570/func/._sub-04570_task-rest_space-scanner_desc-brain_mask.nii.gz\n",
      "./../data/multi-echo-data-analysis/__MACOSX/multi-echo-data-analysis/sub-04570/func/._sub-04570_task-rest_echo-1_space-scanner_desc-partialPreproc_bold.nii.gz\n",
      "./../data/multi-echo-data-analysis/__MACOSX/multi-echo-data-analysis/sub-04570/func/._sub-04570_task-rest_from-scanner_to-T1w_mode-image_xfm.txt\n",
      "./../data/multi-echo-data-analysis/__MACOSX/multi-echo-data-analysis/sub-04570/func/._sub-04570_task-rest_desc-confounds_timeseries.json\n",
      "./../data/multi-echo-data-analysis/__MACOSX/multi-echo-data-analysis/sub-04570/func/._sub-04570_task-rest_desc-confounds_timeseries.tsv\n",
      "./../data/multi-echo-data-analysis/__MACOSX/multi-echo-data-analysis/sub-04570/func/._sub-04570_task-rest_from-T1w_to-scanner_mode-image_xfm.txt\n",
      "./../data/multi-echo-data-analysis/__MACOSX/multi-echo-data-analysis/sub-04570/anat/._sub-04570_label-GM_probseg.nii.gz\n",
      "./../data/multi-echo-data-analysis/__MACOSX/multi-echo-data-analysis/sub-04570/anat/._sub-04570_space-MNI152NLin2009cAsym_res-2_label-WM_probseg.nii.gz\n",
      "./../data/multi-echo-data-analysis/__MACOSX/multi-echo-data-analysis/sub-04570/anat/._sub-04570_desc-brain_mask.json\n",
      "./../data/multi-echo-data-analysis/__MACOSX/multi-echo-data-analysis/sub-04570/anat/._sub-04570_label-WM_probseg.nii.gz\n",
      "./../data/multi-echo-data-analysis/__MACOSX/multi-echo-data-analysis/sub-04570/anat/._sub-04570_dseg.nii.gz\n",
      "./../data/multi-echo-data-analysis/__MACOSX/multi-echo-data-analysis/sub-04570/anat/._sub-04570_from-T1w_to-MNI152NLin2009cAsym_mode-image_xfm.h5\n",
      "./../data/multi-echo-data-analysis/__MACOSX/multi-echo-data-analysis/sub-04570/anat/._sub-04570_space-MNI152NLin2009cAsym_res-2_dseg.nii.gz\n",
      "./../data/multi-echo-data-analysis/__MACOSX/multi-echo-data-analysis/sub-04570/anat/._sub-04570_desc-preproc_T1w.json\n",
      "./../data/multi-echo-data-analysis/__MACOSX/multi-echo-data-analysis/sub-04570/anat/._sub-04570_space-MNI152NLin2009cAsym_res-2_label-GM_probseg.nii.gz\n",
      "./../data/multi-echo-data-analysis/__MACOSX/multi-echo-data-analysis/sub-04570/anat/._sub-04570_space-MNI152NLin2009cAsym_res-2_desc-preproc_T1w.json\n",
      "./../data/multi-echo-data-analysis/__MACOSX/multi-echo-data-analysis/sub-04570/anat/._sub-04570_label-CSF_probseg.nii.gz\n",
      "./../data/multi-echo-data-analysis/__MACOSX/multi-echo-data-analysis/sub-04570/anat/._sub-04570_desc-brain_mask.nii.gz\n",
      "./../data/multi-echo-data-analysis/__MACOSX/multi-echo-data-analysis/sub-04570/anat/._sub-04570_space-MNI152NLin2009cAsym_res-2_desc-preproc_T1w.nii.gz\n",
      "./../data/multi-echo-data-analysis/__MACOSX/multi-echo-data-analysis/sub-04570/anat/._sub-04570_space-MNI152NLin2009cAsym_res-2_desc-brain_mask.json\n",
      "./../data/multi-echo-data-analysis/__MACOSX/multi-echo-data-analysis/sub-04570/anat/._sub-04570_space-MNI152NLin2009cAsym_res-2_label-CSF_probseg.nii.gz\n",
      "./../data/multi-echo-data-analysis/__MACOSX/multi-echo-data-analysis/sub-04570/anat/._sub-04570_space-MNI152NLin2009cAsym_res-2_desc-brain_mask.nii.gz\n",
      "./../data/multi-echo-data-analysis/__MACOSX/multi-echo-data-analysis/sub-04570/anat/._sub-04570_desc-preproc_T1w.nii.gz\n"
     ]
    }
   ],
   "source": [
    "import os\n",
    "import matplotlib\n",
    "import matplotlib.pyplot as plt\n",
    "from glob import glob\n",
    "\n",
    "import numpy as np\n",
    "import pandas as pd\n",
    "from nilearn import image, plotting\n",
    "from tedana import workflows\n",
    "\n",
    "from repo2data.repo2data import Repo2Data\n",
    "\n",
    "# Install the data if running locally, or points to cached data if running on neurolibre\n",
    "DATA_REQ_FILE = os.path.join(\"../binder/data_requirement.json\")\n",
    "\n",
    "# Download data\n",
    "repo2data = Repo2Data(DATA_REQ_FILE)\n",
    "orig_data_path = repo2data.install()\n",
    "data_path = os.path.abspath(os.path.join(orig_data_path[0], \"data\"))\n",
    "print(data_path)\n",
    "for path, directories, files in os.walk(orig_data_path[0]):\n",
    "    for f in files:\n",
    "        print(os.path.join(path, f))"
   ]
  },
  {
   "cell_type": "code",
   "execution_count": 2,
   "id": "a2e4fee8",
   "metadata": {},
   "outputs": [],
   "source": [
    "func_dir = os.path.join(data_path, \"sub-04570/func/\")\n",
    "data_files = [\n",
    "    os.path.join(func_dir, \"sub-04570_task-rest_echo-1_space-scanner_desc-partialPreproc_bold.nii.gz\"),\n",
    "    os.path.join(func_dir, \"sub-04570_task-rest_echo-2_space-scanner_desc-partialPreproc_bold.nii.gz\"),\n",
    "    os.path.join(func_dir, \"sub-04570_task-rest_echo-3_space-scanner_desc-partialPreproc_bold.nii.gz\"),\n",
    "    os.path.join(func_dir, \"sub-04570_task-rest_echo-4_space-scanner_desc-partialPreproc_bold.nii.gz\"),\n",
    "]\n",
    "echo_times = [12., 28., 44., 60.]\n",
    "mask_file = os.path.join(func_dir, \"sub-04570_task-rest_space-scanner_desc-brain_mask.nii.gz\")\n",
    "confounds_file = os.path.join(func_dir, \"sub-04570_task-rest_desc-confounds_timeseries.tsv\")\n",
    "\n",
    "out_dir = os.path.join(data_path, \"fit\")"
   ]
  },
  {
   "cell_type": "code",
   "execution_count": 3,
   "id": "c37a9e90",
   "metadata": {},
   "outputs": [
    {
     "ename": "FileNotFoundError",
     "evalue": "[Errno 2] No such file or directory: '/home/runner/work/multi-echo-data-analysis/multi-echo-data-analysis/data/multi-echo-data-analysis/data/fit'",
     "output_type": "error",
     "traceback": [
      "\u001b[0;31m---------------------------------------------------------------------------\u001b[0m",
      "\u001b[0;31mFileNotFoundError\u001b[0m                         Traceback (most recent call last)",
      "\u001b[0;32m/tmp/ipykernel_1730/2204136142.py\u001b[0m in \u001b[0;36m<module>\u001b[0;34m\u001b[0m\n\u001b[1;32m      6\u001b[0m     \u001b[0mprefix\u001b[0m\u001b[0;34m=\u001b[0m\u001b[0;34m\"sub-04570_task-rest_space-scanner\"\u001b[0m\u001b[0;34m,\u001b[0m\u001b[0;34m\u001b[0m\u001b[0;34m\u001b[0m\u001b[0m\n\u001b[1;32m      7\u001b[0m     \u001b[0mfittype\u001b[0m\u001b[0;34m=\u001b[0m\u001b[0;34m\"loglin\"\u001b[0m\u001b[0;34m,\u001b[0m\u001b[0;34m\u001b[0m\u001b[0;34m\u001b[0m\u001b[0m\n\u001b[0;32m----> 8\u001b[0;31m     \u001b[0mfitmode\u001b[0m\u001b[0;34m=\u001b[0m\u001b[0;34m\"ts\"\u001b[0m\u001b[0;34m,\u001b[0m\u001b[0;34m\u001b[0m\u001b[0;34m\u001b[0m\u001b[0m\n\u001b[0m\u001b[1;32m      9\u001b[0m )\n",
      "\u001b[0;32m/opt/hostedtoolcache/Python/3.7.12/x64/lib/python3.7/site-packages/tedana/workflows/t2smap.py\u001b[0m in \u001b[0;36mt2smap_workflow\u001b[0;34m(data, tes, out_dir, mask, prefix, convention, fittype, fitmode, combmode, debug, quiet)\u001b[0m\n\u001b[1;32m    223\u001b[0m     \u001b[0mout_dir\u001b[0m \u001b[0;34m=\u001b[0m \u001b[0mop\u001b[0m\u001b[0;34m.\u001b[0m\u001b[0mabspath\u001b[0m\u001b[0;34m(\u001b[0m\u001b[0mout_dir\u001b[0m\u001b[0;34m)\u001b[0m\u001b[0;34m\u001b[0m\u001b[0;34m\u001b[0m\u001b[0m\n\u001b[1;32m    224\u001b[0m     \u001b[0;32mif\u001b[0m \u001b[0;32mnot\u001b[0m \u001b[0mop\u001b[0m\u001b[0;34m.\u001b[0m\u001b[0misdir\u001b[0m\u001b[0;34m(\u001b[0m\u001b[0mout_dir\u001b[0m\u001b[0;34m)\u001b[0m\u001b[0;34m:\u001b[0m\u001b[0;34m\u001b[0m\u001b[0;34m\u001b[0m\u001b[0m\n\u001b[0;32m--> 225\u001b[0;31m         \u001b[0mos\u001b[0m\u001b[0;34m.\u001b[0m\u001b[0mmkdir\u001b[0m\u001b[0;34m(\u001b[0m\u001b[0mout_dir\u001b[0m\u001b[0;34m)\u001b[0m\u001b[0;34m\u001b[0m\u001b[0;34m\u001b[0m\u001b[0m\n\u001b[0m\u001b[1;32m    226\u001b[0m \u001b[0;34m\u001b[0m\u001b[0m\n\u001b[1;32m    227\u001b[0m     \u001b[0mutils\u001b[0m\u001b[0;34m.\u001b[0m\u001b[0msetup_loggers\u001b[0m\u001b[0;34m(\u001b[0m\u001b[0mquiet\u001b[0m\u001b[0;34m=\u001b[0m\u001b[0mquiet\u001b[0m\u001b[0;34m,\u001b[0m \u001b[0mdebug\u001b[0m\u001b[0;34m=\u001b[0m\u001b[0mdebug\u001b[0m\u001b[0;34m)\u001b[0m\u001b[0;34m\u001b[0m\u001b[0;34m\u001b[0m\u001b[0m\n",
      "\u001b[0;31mFileNotFoundError\u001b[0m: [Errno 2] No such file or directory: '/home/runner/work/multi-echo-data-analysis/multi-echo-data-analysis/data/multi-echo-data-analysis/data/fit'"
     ]
    }
   ],
   "source": [
    "workflows.t2smap_workflow(\n",
    "    data_files,\n",
    "    echo_times,\n",
    "    out_dir=out_dir,\n",
    "    mask=mask_file,\n",
    "    prefix=\"sub-04570_task-rest_space-scanner\",\n",
    "    fittype=\"loglin\",\n",
    "    fitmode=\"ts\",\n",
    ")"
   ]
  },
  {
   "cell_type": "code",
   "execution_count": null,
   "id": "9d74ffe4",
   "metadata": {},
   "outputs": [],
   "source": [
    "out_files = sorted(glob(os.path.join(out_dir, \"*\")))\n",
    "out_files = [os.path.basename(f) for f in out_files]\n",
    "print(\"\\n\".join(out_files))"
   ]
  },
  {
   "cell_type": "code",
   "execution_count": null,
   "id": "76aa23d4",
   "metadata": {},
   "outputs": [],
   "source": [
    "fig, axes = plt.subplots(figsize=(16, 16), nrows=3)\n",
    "\n",
    "plotting.plot_carpet(\n",
    "    os.path.join(out_dir, \"sub-04570_task-rest_space-scanner_desc-optcom_bold.nii.gz\"),\n",
    "    axes=axes[0],\n",
    "    figure=fig,\n",
    ")\n",
    "axes[0].set_title(\"Optimally Combined Data\", fontsize=20)\n",
    "plotting.plot_carpet(\n",
    "    os.path.join(out_dir, \"sub-04570_task-rest_space-scanner_T2starmap.nii.gz\"),\n",
    "    axes=axes[1],\n",
    "    figure=fig,\n",
    ")\n",
    "axes[1].set_title(\"T2* Estimates\", fontsize=20)\n",
    "plotting.plot_carpet(\n",
    "    os.path.join(out_dir, \"sub-04570_task-rest_space-scanner_S0map.nii.gz\"),\n",
    "    axes=axes[2],\n",
    "    figure=fig,\n",
    ")\n",
    "axes[2].set_title(\"S0 Estimates\", fontsize=20)\n",
    "axes[0].xaxis.set_visible(False)\n",
    "axes[1].xaxis.set_visible(False)\n",
    "axes[0].spines[\"bottom\"].set_visible(False)\n",
    "axes[1].spines[\"bottom\"].set_visible(False)\n",
    "fig.tight_layout()\n",
    "fig.show()"
   ]
  },
  {
   "cell_type": "code",
   "execution_count": null,
   "id": "899a4cb7",
   "metadata": {},
   "outputs": [],
   "source": [
    "plotting.plot_stat_map(\n",
    "    image.mean_img(os.path.join(out_dir, \"sub-04570_task-rest_space-scanner_T2starmap.nii.gz\")),\n",
    "    vmax=0.6,\n",
    "    draw_cross=False,\n",
    "    bg_img=None,\n",
    ")"
   ]
  },
  {
   "cell_type": "code",
   "execution_count": null,
   "id": "b3bad0a7",
   "metadata": {},
   "outputs": [],
   "source": [
    "plotting.plot_stat_map(\n",
    "    image.mean_img(os.path.join(out_dir, \"sub-04570_task-rest_space-scanner_S0map.nii.gz\")),\n",
    "    vmax=8000,\n",
    "    draw_cross=False,\n",
    "    bg_img=None,\n",
    ")"
   ]
  },
  {
   "cell_type": "code",
   "execution_count": null,
   "id": "1f253701",
   "metadata": {},
   "outputs": [],
   "source": [
    "fig, axes = plt.subplots(figsize=(16, 15), nrows=5)\n",
    "plotting.plot_epi(\n",
    "    image.mean_img(data_files[0]),\n",
    "    draw_cross=False,\n",
    "    bg_img=None,\n",
    "    cut_coords=[-10, 0, 10, 20, 30, 40, 50, 60, 70],\n",
    "    display_mode=\"z\",\n",
    "    axes=axes[0],\n",
    ")\n",
    "plotting.plot_epi(\n",
    "    image.mean_img(data_files[1]),\n",
    "    draw_cross=False,\n",
    "    bg_img=None,\n",
    "    cut_coords=[-10, 0, 10, 20, 30, 40, 50, 60, 70],\n",
    "    display_mode=\"z\",\n",
    "    axes=axes[1],\n",
    ")\n",
    "plotting.plot_epi(\n",
    "    image.mean_img(data_files[2]),\n",
    "    draw_cross=False,\n",
    "    bg_img=None,\n",
    "    cut_coords=[-10, 0, 10, 20, 30, 40, 50, 60, 70],\n",
    "    display_mode=\"z\",\n",
    "    axes=axes[2],\n",
    ")\n",
    "plotting.plot_epi(\n",
    "    image.mean_img(data_files[3]),\n",
    "    draw_cross=False,\n",
    "    bg_img=None,\n",
    "    cut_coords=[-10, 0, 10, 20, 30, 40, 50, 60, 70],\n",
    "    display_mode=\"z\",\n",
    "    axes=axes[3],\n",
    ")\n",
    "plotting.plot_epi(\n",
    "    image.mean_img(os.path.join(out_dir, \"sub-04570_task-rest_space-scanner_desc-optcom_bold.nii.gz\")),\n",
    "    draw_cross=False,\n",
    "    bg_img=None,\n",
    "    cut_coords=[-10, 0, 10, 20, 30, 40, 50, 60, 70],\n",
    "    display_mode=\"z\",\n",
    "    axes=axes[4],\n",
    ")\n",
    "fig.show()"
   ]
  },
  {
   "cell_type": "code",
   "execution_count": null,
   "id": "5b86bfbf",
   "metadata": {},
   "outputs": [],
   "source": [
    "te30_tsnr = image.math_img(\n",
    "    '(np.nanmean(img, axis=3) / np.nanstd(img, axis=3)) * mask',\n",
    "    img=data_files[1],\n",
    "    mask=mask_file,\n",
    ")\n",
    "oc_tsnr = image.math_img(\n",
    "    '(np.nanmean(img, axis=3) / np.nanstd(img, axis=3)) * mask',\n",
    "    img=os.path.join(out_dir, \"sub-04570_task-rest_space-scanner_desc-optcom_bold.nii.gz\"),\n",
    "    mask=mask_file,\n",
    ")\n",
    "vmax = np.nanmax(np.abs(oc_tsnr.get_fdata()))\n",
    "\n",
    "fig, axes = plt.subplots(figsize=(10, 8), nrows=2)\n",
    "plotting.plot_stat_map(\n",
    "    te30_tsnr,\n",
    "    draw_cross=False,\n",
    "    bg_img=None,\n",
    "    threshold=0.1,\n",
    "    cut_coords=[0, 10, 10],\n",
    "    vmax=vmax,\n",
    "    symmetric_cbar=False,\n",
    "    axes=axes[0],\n",
    ")\n",
    "axes[0].set_title(\"TE30 TSNR\", fontsize=16)\n",
    "plotting.plot_stat_map(\n",
    "    oc_tsnr,\n",
    "    draw_cross=False,\n",
    "    bg_img=None,\n",
    "    threshold=0.1,\n",
    "    cut_coords=[0, 10, 10],\n",
    "    vmax=vmax,\n",
    "    symmetric_cbar=False,\n",
    "    axes=axes[1],\n",
    ")\n",
    "axes[1].set_title(\"Optimal Combination TSNR\", fontsize=16)\n",
    "fig.show()"
   ]
  },
  {
   "cell_type": "code",
   "execution_count": null,
   "id": "f5391346",
   "metadata": {},
   "outputs": [],
   "source": [
    "fig, ax = plt.subplots(figsize=(16, 8))\n",
    "plotting.plot_carpet(\n",
    "    data_files[1],\n",
    "    axes=ax,\n",
    ")\n",
    "fig.show()"
   ]
  },
  {
   "cell_type": "code",
   "execution_count": null,
   "id": "7e00684c",
   "metadata": {},
   "outputs": [],
   "source": [
    "fig, ax = plt.subplots(figsize=(16, 8))\n",
    "plotting.plot_carpet(\n",
    "    os.path.join(out_dir, \"sub-04570_task-rest_space-scanner_desc-optcom_bold.nii.gz\"),\n",
    "    axes=ax,\n",
    ")\n",
    "fig.show()"
   ]
  }
 ],
 "metadata": {
  "jupytext": {
   "text_representation": {
    "extension": ".md",
    "format_name": "myst",
    "format_version": 0.13,
    "jupytext_version": "1.10.3"
   }
  },
  "kernelspec": {
   "display_name": "Python 3",
   "language": "python",
   "name": "python3"
  },
  "language_info": {
   "codemirror_mode": {
    "name": "ipython",
    "version": 3
   },
   "file_extension": ".py",
   "mimetype": "text/x-python",
   "name": "python",
   "nbconvert_exporter": "python",
   "pygments_lexer": "ipython3",
   "version": "3.7.12"
  },
  "source_map": [
   12,
   18,
   44,
   59,
   71,
   77,
   106,
   115,
   124,
   169,
   208,
   217
  ]
 },
 "nbformat": 4,
 "nbformat_minor": 5
}