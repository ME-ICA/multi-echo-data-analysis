{
 "cells": [
  {
   "cell_type": "markdown",
   "id": "0f0d5de8",
   "metadata": {},
   "source": [
    "# Course Overview\n",
    "\n",
    "This book is a work-in-progress.\n",
    "\n",
    "The overall goal is to provide an understanding of how to think through\n",
    "collecting, analyzing, and interpreting multi-echo fMRI data.\n",
    "We tried to make this book accessible to someone without much\n",
    "math and physics expertise,\n",
    "but we also include equations to support people who want to understand\n",
    "multi-echo fMRI at a deeper level.\n",
    "Whenever we include equations, we try to explain the take-home message\n",
    "so that readers can follow the overall message without needing to study\n",
    "and understand every equation.\n",
    "\n",
    "This book covers several topics:\n",
    "\n",
    "- How to install the data and programs needed for running interactive examples\n",
    "- Information for understanding and thinking about acquiring multi-echo fMRI\n",
    "- How multi-echo information can be used to support noise removal in data\n",
    "- Examples and pipelines for processing and visualizing multi-echo data using multiple tools, such as AFNI, fMRIPrep and tedana.\n",
    "\n",
    "A good place to ask additional questions about multi-echo fMRI and processing is at\n",
    "[neurostars.org/](https://neurostars.org/) using the `multi-echo` or `tedana` tags.\n",
    "\n",
    "If you have ideas for future multi-echo fMRI methods or issues with the tedana code,\n",
    "you can post issues at [github.com/ME-ICA/tedana/issues](https://github.com/ME-ICA/tedana/issues) or\n",
    "start a discussion at [github.com/ME-ICA/tedana/discussions](https://github.com/ME-ICA/tedana/discussions).\n",
    "You can also join [mattermost.brainhack.org/brainhack/channels/tedana](https://mattermost.brainhack.org/brainhack/channels/tedana) for additional discussions with tedana developers."
   ]
  }
 ],
 "metadata": {
  "jupytext": {
   "text_representation": {
    "extension": ".md",
    "format_name": "myst",
    "format_version": 0.13,
    "jupytext_version": "1.10.3"
   }
  },
  "kernelspec": {
   "display_name": "Python 3",
   "language": "python",
   "name": "python3"
  },
  "source_map": [
   12
  ]
 },
 "nbformat": 4,
 "nbformat_minor": 5
}