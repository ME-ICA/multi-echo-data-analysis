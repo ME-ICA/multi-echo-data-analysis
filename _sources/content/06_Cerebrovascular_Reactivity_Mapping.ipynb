{
 "cells": [
  {
   "cell_type": "markdown",
   "id": "811f383f",
   "metadata": {},
   "source": [
    "# Cerebrovascular Reactivity Mapping\n",
    "\n",
    "Check out {cite:t}`MOIA2021117914` and {cite:t}`cohen2019improving`."
   ]
  }
 ],
 "metadata": {
  "jupytext": {
   "text_representation": {
    "extension": ".md",
    "format_name": "myst",
    "format_version": 0.13,
    "jupytext_version": "1.10.3"
   }
  },
  "kernelspec": {
   "display_name": "Python 3",
   "language": "python",
   "name": "python3"
  },
  "source_map": [
   12
  ]
 },
 "nbformat": 4,
 "nbformat_minor": 5
}