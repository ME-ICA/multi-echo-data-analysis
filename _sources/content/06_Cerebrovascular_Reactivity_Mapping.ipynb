{
 "cells": [
  {
   "cell_type": "markdown",
   "id": "ef52e907",
   "metadata": {},
   "source": [
    "# Cerebrovascular Reactivity Mapping\n",
    "\n",
    "Check out {cite:t}`MOIA2021117914` and {cite:t}`cohen2019improving`."
   ]
  }
 ],
 "metadata": {
  "jupytext": {
   "text_representation": {
    "extension": ".md",
    "format_name": "myst",
    "jupytext_version": "1.18.1"
   }
  },
  "kernelspec": {
   "display_name": "Python 3",
   "language": "python",
   "name": "python3"
  },
  "source_map": [
   11
  ]
 },
 "nbformat": 4,
 "nbformat_minor": 5
}