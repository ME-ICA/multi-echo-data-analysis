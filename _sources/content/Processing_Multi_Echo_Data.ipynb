{
 "cells": [
  {
   "cell_type": "markdown",
   "id": "50b79d9d",
   "metadata": {},
   "source": [
    "# Processing Multi-Echo Data\n",
    "\n",
    "Most multi-echo denoising methods, including `tedana`,\n",
    "must be called in the context of a larger ME-EPI preprocessing pipeline.\n",
    "Two common pipelines which support ME-EPI processing include\n",
    "[fMRIPrep](https://fmriprep.readthedocs.io) and\n",
    "[afni_proc.py](https://afni.nimh.nih.gov/pub/dist/doc/program_help/afni_proc.py.html).\n",
    "\n",
    "Users can also construct their own preprocessing pipeline for ME-EPI data from which to call the\n",
    "multi-echo denoising method of their choice.\n",
    "There are several general principles to keep in mind when constructing ME-EPI processing pipelines.\n",
    "\n",
    "In general, we recommend the following:\n",
    "\n",
    "\n",
    "## 1. Estimate motion correction parameters from one echo and apply those parameters to all echoes\n",
    "\n",
    "When preparing ME-EPI data for multi-echo denoising with a tool like `tedana`,\n",
    "it is important not to do anything that mean shifts the data or otherwise separately\n",
    "scales the voxelwise values at each echo.\n",
    "\n",
    "For example, head-motion correction parameters should *not* be calculated and applied at an\n",
    "individual echo level (see above).\n",
    "Instead, we recommend that researchers apply the same transforms to all echoes in an ME-EPI series.\n",
    "That is, that they calculate head motion correction parameters from one echo\n",
    "and apply the resulting transformation to all echoes.\n",
    "\n",
    "\n",
    "## 2. Perform slice timing correction and motion correction **before** multi-echo denoising\n",
    "\n",
    "Similarly to single-echo EPI data, slice time correction allows us to assume that voxels across\n",
    "slices represent roughly simultaneous events.\n",
    "If the TR is slow enough to necessitate slice-timing (i.e., TR >= 1 sec., as a rule of thumb), then\n",
    "slice-timing correction should be done before `tedana`.\n",
    "This is because slice timing differences may impact echo-dependent estimates.\n",
    "\n",
    "The slice time is generally defined as the excitation pulse time for each slice.\n",
    "For single-echo EPI data, that excitation time would be the same regardless of the echo time,\n",
    "and the same is true when one is collecting multiple echoes after a single excitation pulse.\n",
    "Therefore, we suggest using the same slice timing for all echoes in an ME-EPI series.\n",
    "\n",
    "\n",
    "## 3. Perform distortion correction, spatial normalization, smoothing, and any rescaling or filtering **after** denoising\n",
    "\n",
    "Any step that will alter the relationship of signal magnitudes between echoes should occur after denoising and combining\n",
    "of the echoes. For example, if echo is separately scaled by its mean signal over time, then resulting intensity gradients\n",
    "and the subsequent calculation of voxelwise T2* values will be distorted or incorrect. An aggressive temporal filter\n",
    "(e.g., a 0.1Hz low pass filter) or spatial smoothing could similarly distort the relationship between the echoes at each\n",
    "time point.\n",
    "\n",
    "```{note}\n",
    "We are assuming that spatial normalization and distortion correction, particularly non-linear normalization methods\n",
    "with higher order interpolation functions, are likely to distort the relationship between echoes while rigid body\n",
    "motion correction would linearly alter each echo in a similar manner. This assumption has not yet been empirically\n",
    "tested and an affine normalzation with bilinear interpolation may not distort the relationship between echoes.\n",
    "Additionally, there are benefits to applying only one spatial transform to data rather than applying one spatial\n",
    "transform for motion correction and a later transform for normalization and distortion correction. Our advice\n",
    "against doing normalization and distortion correction is a conservative choice and we encourage additional\n",
    "research to better understand how these steps can be applied before denoising.\n",
    "```"
   ]
  }
 ],
 "metadata": {
  "jupytext": {
   "text_representation": {
    "extension": ".md",
    "format_name": "myst",
    "format_version": 0.13,
    "jupytext_version": "1.10.3"
   }
  },
  "kernelspec": {
   "display_name": "Python 3",
   "language": "python",
   "name": "python3"
  },
  "source_map": [
   12
  ]
 },
 "nbformat": 4,
 "nbformat_minor": 5
}