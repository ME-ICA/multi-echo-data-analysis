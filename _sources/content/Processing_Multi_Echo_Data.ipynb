{
 "cells": [
  {
   "cell_type": "markdown",
   "id": "b9e93d44",
   "metadata": {},
   "source": [
    "# Processing Multi-Echo Data"
   ]
  }
 ],
 "metadata": {
  "jupytext": {
   "text_representation": {
    "extension": ".md",
    "format_name": "myst",
    "format_version": 0.13,
    "jupytext_version": "1.10.3"
   }
  },
  "kernelspec": {
   "display_name": "Python 3",
   "language": "python",
   "name": "python3"
  },
  "source_map": [
   12
  ]
 },
 "nbformat": 4,
 "nbformat_minor": 5
}