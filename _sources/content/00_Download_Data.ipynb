{
 "cells": [
  {
   "cell_type": "markdown",
   "id": "c009ceea",
   "metadata": {},
   "source": [
    "# Download Data\n",
    "\n",
    "For the tutorials in this book,\n",
    "we will use partially-preprocessed data from two open multi-echo datasets: Euskalibur and Cambridge.\n",
    "For more information about these datasets, see {ref}`content:open-datasets`.\n",
    "\n",
    "```python\n",
    "import os\n",
    "from pprint import pprint\n",
    "\n",
    "from tedana import datasets\n",
    "\n",
    "DATA_DIR = os.path.abspath(\"../data\")\n",
    "\n",
    "euskalibur_dataset = datasets.fetch_euskalibur(\n",
    "    n_subjects=5,\n",
    "    low_resolution=False,\n",
    "    data_dir=DATA_DIR,\n",
    ")\n",
    "pprint(euskalibur_dataset)\n",
    "\n",
    "cambridge_dataset = datasets.fetch_cambridge(\n",
    "    n_subjects=5,\n",
    "    low_resolution=False,\n",
    "    data_dir=DATA_DIR,\n",
    ")\n",
    "pprint(cambridge_dataset)\n",
    "```\n",
    "\n",
    "For now, we will use repo2data to download some data we're storing on Google Drive."
   ]
  },
  {
   "cell_type": "code",
   "execution_count": 1,
   "id": "0f41cf5f",
   "metadata": {},
   "outputs": [
    {
     "name": "stdout",
     "output_type": "stream",
     "text": [
      "---- repo2data starting ----\n",
      "/opt/hostedtoolcache/Python/3.8.18/x64/lib/python3.8/site-packages/repo2data\n",
      "Config from file :\n",
      "../binder/data_requirement.json\n",
      "Destination:\n",
      "./../data/multi-echo-data-analysis\n",
      "\n",
      "Info : Starting to download from Google drive https://drive.google.com/uc?id=1SVPP1vd2UobKf1djztpi-DcYAFOFXQtF ...\n"
     ]
    },
    {
     "name": "stderr",
     "output_type": "stream",
     "text": [
      "Downloading...\n",
      "From (original): https://drive.google.com/uc?id=1SVPP1vd2UobKf1djztpi-DcYAFOFXQtF\n",
      "From (redirected): https://drive.google.com/uc?id=1SVPP1vd2UobKf1djztpi-DcYAFOFXQtF&confirm=t&uuid=74e32a11-b046-4d4d-9508-1d1463aaf0ea\n",
      "To: /home/runner/work/multi-echo-data-analysis/multi-echo-data-analysis/data/multi-echo-data-analysis/sub-04570.zip\n",
      "\r",
      "  0%|          | 0.00/315M [00:00<?, ?B/s]"
     ]
    },
    {
     "name": "stderr",
     "output_type": "stream",
     "text": [
      "\r",
      "  2%|▏         | 4.72M/315M [00:00<00:22, 13.5MB/s]\r",
      "  8%|▊         | 26.2M/315M [00:00<00:04, 71.7MB/s]"
     ]
    },
    {
     "name": "stderr",
     "output_type": "stream",
     "text": [
      "\r",
      " 13%|█▎        | 39.3M/315M [00:00<00:04, 63.7MB/s]\r",
      " 16%|█▌        | 50.9M/315M [00:00<00:04, 65.1MB/s]"
     ]
    },
    {
     "name": "stderr",
     "output_type": "stream",
     "text": [
      "\r",
      " 22%|██▏       | 67.6M/315M [00:01<00:03, 67.6MB/s]\r",
      " 28%|██▊       | 89.1M/315M [00:01<00:02, 96.3MB/s]"
     ]
    },
    {
     "name": "stderr",
     "output_type": "stream",
     "text": [
      "\r",
      " 32%|███▏      | 102M/315M [00:01<00:02, 73.8MB/s] \r",
      " 38%|███▊      | 118M/315M [00:01<00:02, 83.2MB/s]"
     ]
    },
    {
     "name": "stderr",
     "output_type": "stream",
     "text": [
      "\r",
      " 43%|████▎     | 135M/315M [00:01<00:02, 82.6MB/s]\r",
      " 48%|████▊     | 152M/315M [00:01<00:01, 94.4MB/s]"
     ]
    },
    {
     "name": "stderr",
     "output_type": "stream",
     "text": [
      "\r",
      " 53%|█████▎    | 167M/315M [00:02<00:01, 106MB/s] "
     ]
    },
    {
     "name": "stderr",
     "output_type": "stream",
     "text": [
      "\r",
      " 57%|█████▋    | 179M/315M [00:02<00:02, 66.4MB/s]\r",
      " 62%|██████▏   | 196M/315M [00:02<00:01, 81.9MB/s]"
     ]
    },
    {
     "name": "stderr",
     "output_type": "stream",
     "text": [
      "\r",
      " 66%|██████▌   | 207M/315M [00:02<00:01, 74.5MB/s]\r",
      " 72%|███████▏  | 227M/315M [00:02<00:00, 90.9MB/s]"
     ]
    },
    {
     "name": "stderr",
     "output_type": "stream",
     "text": [
      "\r",
      " 76%|███████▌  | 239M/315M [00:03<00:00, 87.1MB/s]\r",
      " 80%|████████  | 252M/315M [00:03<00:00, 89.2MB/s]"
     ]
    },
    {
     "name": "stderr",
     "output_type": "stream",
     "text": [
      "\r",
      " 86%|████████▌ | 269M/315M [00:03<00:00, 95.0MB/s]"
     ]
    },
    {
     "name": "stderr",
     "output_type": "stream",
     "text": [
      "\r",
      " 91%|█████████ | 286M/315M [00:03<00:00, 90.9MB/s]\r",
      " 98%|█████████▊| 309M/315M [00:03<00:00, 119MB/s] \r",
      "100%|██████████| 315M/315M [00:03<00:00, 86.1MB/s]\n"
     ]
    },
    {
     "name": "stdout",
     "output_type": "stream",
     "text": [
      "patool: Extracting ./../data/multi-echo-data-analysis/sub-04570.zip ...\n",
      "patool: running /usr/bin/7z x -y -o./../data/multi-echo-data-analysis -- ./../data/multi-echo-data-analysis/sub-04570.zip\n"
     ]
    },
    {
     "name": "stdout",
     "output_type": "stream",
     "text": [
      "patool: ... ./../data/multi-echo-data-analysis/sub-04570.zip extracted to `./../data/multi-echo-data-analysis'.\n",
      "Info : sub-04570.zip Decompressed\n"
     ]
    }
   ],
   "source": [
    "import os\n",
    "\n",
    "from repo2data.repo2data import Repo2Data\n",
    "\n",
    "# Install the data if running locally, or point to cached data if running on neurolibre\n",
    "DATA_REQ_FILE = os.path.join(\"../binder/data_requirement.json\")\n",
    "\n",
    "# Download data\n",
    "repo2data = Repo2Data(DATA_REQ_FILE)\n",
    "data_path = repo2data.install()\n",
    "data_path = os.path.abspath(data_path[0])"
   ]
  }
 ],
 "metadata": {
  "jupytext": {
   "text_representation": {
    "extension": ".md",
    "format_name": "myst",
    "format_version": 0.13,
    "jupytext_version": "1.10.3"
   }
  },
  "kernelspec": {
   "display_name": "Python 3",
   "language": "python",
   "name": "python3"
  },
  "language_info": {
   "codemirror_mode": {
    "name": "ipython",
    "version": 3
   },
   "file_extension": ".py",
   "mimetype": "text/x-python",
   "name": "python",
   "nbconvert_exporter": "python",
   "pygments_lexer": "ipython3",
   "version": "3.8.18"
  },
  "source_map": [
   12,
   45
  ]
 },
 "nbformat": 4,
 "nbformat_minor": 5
}