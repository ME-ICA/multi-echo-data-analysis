{
 "cells": [
  {
   "cell_type": "markdown",
   "id": "71551083",
   "metadata": {},
   "source": [
    "# Download Data\n",
    "\n",
    "For the tutorials in this book,\n",
    "we will use partially-preprocessed data from two open multi-echo datasets: Euskalibur and Cambridge.\n",
    "For more information about these datasets, see {ref}`content:open-datasets`."
   ]
  },
  {
   "cell_type": "code",
   "execution_count": 1,
   "id": "e414acf4",
   "metadata": {},
   "outputs": [
    {
     "name": "stdout",
     "output_type": "stream",
     "text": [
      "---- repo2data starting ----\n",
      "/opt/hostedtoolcache/Python/3.7.12/x64/lib/python3.7/site-packages/repo2data\n",
      "Config from file :\n",
      "../binder/data_requirement.json\n",
      "Destination:\n",
      "./../data/multi-echo-data-analysis\n",
      "\n",
      "Info : Starting to download from Google drive https://drive.google.com/uc?id=1t98v7EiEKsV8q8mT-uMRgoYeHaVL2JWx ...\n"
     ]
    },
    {
     "name": "stderr",
     "output_type": "stream",
     "text": [
      "Downloading...\n",
      "From: https://drive.google.com/uc?id=1t98v7EiEKsV8q8mT-uMRgoYeHaVL2JWx\n",
      "To: /home/runner/work/multi-echo-data-analysis/multi-echo-data-analysis/data/multi-echo-data-analysis/multi-echo-data-analysis.zip\n",
      "\r",
      "  0%|          | 0.00/309M [00:00<?, ?B/s]\r",
      "  3%|▎         | 8.91M/309M [00:00<00:05, 58.3MB/s]"
     ]
    },
    {
     "name": "stderr",
     "output_type": "stream",
     "text": [
      "\r",
      "  9%|▉         | 27.3M/309M [00:00<00:02, 118MB/s] \r",
      " 14%|█▍        | 43.0M/309M [00:00<00:02, 130MB/s]"
     ]
    },
    {
     "name": "stderr",
     "output_type": "stream",
     "text": [
      "\r",
      " 21%|██        | 64.5M/309M [00:00<00:01, 160MB/s]\r",
      " 26%|██▋       | 81.3M/309M [00:00<00:01, 154MB/s]"
     ]
    },
    {
     "name": "stderr",
     "output_type": "stream",
     "text": [
      "\r",
      " 32%|███▏      | 97.5M/309M [00:00<00:01, 154MB/s]\r",
      " 38%|███▊      | 118M/309M [00:00<00:01, 135MB/s] "
     ]
    },
    {
     "name": "stderr",
     "output_type": "stream",
     "text": [
      "\r",
      " 44%|████▍     | 136M/309M [00:00<00:01, 147MB/s]\r",
      " 49%|████▉     | 152M/309M [00:01<00:01, 147MB/s]"
     ]
    },
    {
     "name": "stderr",
     "output_type": "stream",
     "text": [
      "\r",
      " 55%|█████▌    | 170M/309M [00:01<00:00, 157MB/s]\r",
      " 60%|██████    | 187M/309M [00:01<00:00, 159MB/s]\r",
      " 66%|██████▌   | 203M/309M [00:01<00:00, 161MB/s]"
     ]
    },
    {
     "name": "stderr",
     "output_type": "stream",
     "text": [
      "\r",
      " 73%|███████▎  | 226M/309M [00:01<00:00, 181MB/s]\r",
      " 79%|███████▉  | 245M/309M [00:01<00:00, 155MB/s]"
     ]
    },
    {
     "name": "stderr",
     "output_type": "stream",
     "text": [
      "\r",
      " 85%|████████▍ | 262M/309M [00:01<00:00, 105MB/s]\r",
      " 92%|█████████▏| 285M/309M [00:02<00:00, 131MB/s]"
     ]
    },
    {
     "name": "stderr",
     "output_type": "stream",
     "text": [
      "\r",
      " 98%|█████████▊| 304M/309M [00:02<00:00, 139MB/s]\r",
      "100%|██████████| 309M/309M [00:02<00:00, 143MB/s]\n"
     ]
    },
    {
     "name": "stdout",
     "output_type": "stream",
     "text": [
      "patool: Extracting ./../data/multi-echo-data-analysis/multi-echo-data-analysis.zip ...\n",
      "patool: running /usr/bin/7z x -y -o./../data/multi-echo-data-analysis -- ./../data/multi-echo-data-analysis/multi-echo-data-analysis.zip\n"
     ]
    },
    {
     "name": "stdout",
     "output_type": "stream",
     "text": [
      "patool: ... ./../data/multi-echo-data-analysis/multi-echo-data-analysis.zip extracted to `./../data/multi-echo-data-analysis'.\n"
     ]
    },
    {
     "name": "stdout",
     "output_type": "stream",
     "text": [
      "Info : multi-echo-data-analysis.zip Decompressed\n"
     ]
    }
   ],
   "source": [
    "import os\n",
    "\n",
    "from repo2data.repo2data import Repo2Data\n",
    "\n",
    "# Install the data if running locally, or point to cached data if running on neurolibre\n",
    "DATA_REQ_FILE = os.path.join(\"../binder/data_requirement.json\")\n",
    "\n",
    "# Download data\n",
    "repo2data = Repo2Data(DATA_REQ_FILE)\n",
    "data_path = repo2data.install()\n",
    "data_path = os.path.abspath(os.path.join(data_path[0], \"data\"))"
   ]
  }
 ],
 "metadata": {
  "jupytext": {
   "text_representation": {
    "extension": ".md",
    "format_name": "myst",
    "format_version": 0.13,
    "jupytext_version": "1.10.3"
   }
  },
  "kernelspec": {
   "display_name": "Python 3",
   "language": "python",
   "name": "python3"
  },
  "language_info": {
   "codemirror_mode": {
    "name": "ipython",
    "version": 3
   },
   "file_extension": ".py",
   "mimetype": "text/x-python",
   "name": "python",
   "nbconvert_exporter": "python",
   "pygments_lexer": "ipython3",
   "version": "3.7.12"
  },
  "source_map": [
   12,
   20
  ]
 },
 "nbformat": 4,
 "nbformat_minor": 5
}