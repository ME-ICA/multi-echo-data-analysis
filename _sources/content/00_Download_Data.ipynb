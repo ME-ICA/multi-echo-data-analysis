{
 "cells": [
  {
   "cell_type": "markdown",
   "id": "645e8373",
   "metadata": {},
   "source": [
    "# Download Data\n",
    "\n",
    "For the tutorials in this book,\n",
    "we will use partially-preprocessed data from two open multi-echo datasets: Euskalibur and Cambridge.\n",
    "For more information about these datasets, see {ref}`content:open-datasets`.\n",
    "\n",
    "```python\n",
    "import os\n",
    "from pprint import pprint\n",
    "\n",
    "from tedana import datasets\n",
    "\n",
    "DATA_DIR = os.path.abspath(\"../data\")\n",
    "\n",
    "euskalibur_dataset = datasets.fetch_euskalibur(\n",
    "    n_subjects=5,\n",
    "    low_resolution=False,\n",
    "    data_dir=DATA_DIR,\n",
    ")\n",
    "pprint(euskalibur_dataset)\n",
    "\n",
    "cambridge_dataset = datasets.fetch_cambridge(\n",
    "    n_subjects=5,\n",
    "    low_resolution=False,\n",
    "    data_dir=DATA_DIR,\n",
    ")\n",
    "pprint(cambridge_dataset)\n",
    "```\n",
    "\n",
    "For now, we will use repo2data to download some data we're storing on Google Drive."
   ]
  },
  {
   "cell_type": "code",
   "execution_count": 1,
   "id": "893457ae",
   "metadata": {},
   "outputs": [
    {
     "name": "stdout",
     "output_type": "stream",
     "text": [
      "---- repo2data starting ----\n",
      "/opt/hostedtoolcache/Python/3.10.18/x64/lib/python3.10/site-packages/repo2data\n",
      "Config from file :\n",
      "../binder/data_requirement.json\n",
      "Destination:\n",
      "./../data/multi-echo-data-analysis\n",
      "\n",
      "Info : Starting to download from Google drive https://drive.google.com/uc?id=1SVPP1vd2UobKf1djztpi-DcYAFOFXQtF ...\n"
     ]
    },
    {
     "name": "stderr",
     "output_type": "stream",
     "text": [
      "Downloading...\n",
      "From (original): https://drive.google.com/uc?id=1SVPP1vd2UobKf1djztpi-DcYAFOFXQtF\n",
      "From (redirected): https://drive.google.com/uc?id=1SVPP1vd2UobKf1djztpi-DcYAFOFXQtF&confirm=t&uuid=12e1c668-b9fc-414a-afe4-af371252a08e\n",
      "To: /home/runner/work/multi-echo-data-analysis/multi-echo-data-analysis/data/multi-echo-data-analysis/sub-04570.zip\n",
      "\r",
      "  0%|          | 0.00/315M [00:00<?, ?B/s]\r",
      "  2%|▏         | 4.72M/315M [00:00<00:08, 38.3MB/s]"
     ]
    },
    {
     "name": "stderr",
     "output_type": "stream",
     "text": [
      "\r",
      "  3%|▎         | 10.5M/315M [00:00<00:06, 48.2MB/s]\r",
      "  6%|▌         | 19.4M/315M [00:00<00:04, 62.5MB/s]"
     ]
    },
    {
     "name": "stderr",
     "output_type": "stream",
     "text": [
      "\r",
      "  8%|▊         | 25.7M/315M [00:00<00:05, 54.9MB/s]\r",
      " 12%|█▏        | 36.2M/315M [00:00<00:03, 69.7MB/s]"
     ]
    },
    {
     "name": "stderr",
     "output_type": "stream",
     "text": [
      "\r",
      " 14%|█▍        | 43.5M/315M [00:00<00:04, 65.3MB/s]\r",
      " 18%|█▊        | 55.1M/315M [00:00<00:03, 71.9MB/s]"
     ]
    },
    {
     "name": "stderr",
     "output_type": "stream",
     "text": [
      "\r",
      " 20%|█▉        | 62.4M/315M [00:00<00:03, 72.3MB/s]\r",
      " 23%|██▎       | 71.8M/315M [00:01<00:03, 76.0MB/s]"
     ]
    },
    {
     "name": "stderr",
     "output_type": "stream",
     "text": [
      "\r",
      " 25%|██▌       | 79.7M/315M [00:01<00:03, 64.0MB/s]\r",
      " 30%|██▉       | 93.8M/315M [00:01<00:02, 83.0MB/s]"
     ]
    },
    {
     "name": "stderr",
     "output_type": "stream",
     "text": [
      "\r",
      " 33%|███▎      | 103M/315M [00:01<00:03, 64.5MB/s] \r",
      " 38%|███▊      | 120M/315M [00:01<00:02, 86.7MB/s]"
     ]
    },
    {
     "name": "stderr",
     "output_type": "stream",
     "text": [
      "\r",
      " 42%|████▏     | 131M/315M [00:01<00:02, 89.2MB/s]\r",
      " 45%|████▌     | 142M/315M [00:01<00:01, 94.4MB/s]"
     ]
    },
    {
     "name": "stderr",
     "output_type": "stream",
     "text": [
      "\r",
      " 49%|████▊     | 153M/315M [00:01<00:01, 99.2MB/s]"
     ]
    },
    {
     "name": "stderr",
     "output_type": "stream",
     "text": [
      "\r",
      " 52%|█████▏    | 164M/315M [00:02<00:01, 79.7MB/s]\r",
      " 58%|█████▊    | 181M/315M [00:02<00:01, 100MB/s] "
     ]
    },
    {
     "name": "stderr",
     "output_type": "stream",
     "text": [
      "\r",
      " 61%|██████▏   | 193M/315M [00:02<00:01, 67.6MB/s]"
     ]
    },
    {
     "name": "stderr",
     "output_type": "stream",
     "text": [
      "\r",
      " 67%|██████▋   | 210M/315M [00:02<00:01, 73.1MB/s]\r",
      " 73%|███████▎  | 230M/315M [00:02<00:00, 95.0MB/s]"
     ]
    },
    {
     "name": "stderr",
     "output_type": "stream",
     "text": [
      "\r",
      " 77%|███████▋  | 242M/315M [00:03<00:00, 73.5MB/s]"
     ]
    },
    {
     "name": "stderr",
     "output_type": "stream",
     "text": [
      "\r",
      " 83%|████████▎ | 261M/315M [00:03<00:00, 70.9MB/s]\r",
      " 89%|████████▉ | 281M/315M [00:03<00:00, 92.3MB/s]"
     ]
    },
    {
     "name": "stderr",
     "output_type": "stream",
     "text": [
      "\r",
      " 93%|█████████▎| 294M/315M [00:03<00:00, 98.0MB/s]\r",
      " 98%|█████████▊| 309M/315M [00:03<00:00, 109MB/s] \r",
      "100%|██████████| 315M/315M [00:03<00:00, 83.0MB/s]\n",
      "INFO patool: Extracting ./../data/multi-echo-data-analysis/sub-04570.zip ...\n"
     ]
    },
    {
     "name": "stderr",
     "output_type": "stream",
     "text": [
      "INFO patool: running /usr/bin/7z x -y -p- -aou -o./../data/multi-echo-data-analysis -- ./../data/multi-echo-data-analysis/sub-04570.zip\n"
     ]
    },
    {
     "name": "stderr",
     "output_type": "stream",
     "text": [
      "INFO patool: ... ./../data/multi-echo-data-analysis/sub-04570.zip extracted to `./../data/multi-echo-data-analysis'.\n"
     ]
    },
    {
     "name": "stdout",
     "output_type": "stream",
     "text": [
      "Info : sub-04570.zip Decompressed\n"
     ]
    }
   ],
   "source": [
    "import os\n",
    "\n",
    "from repo2data.repo2data import Repo2Data\n",
    "\n",
    "# Install the data if running locally, or point to cached data if running on neurolibre\n",
    "DATA_REQ_FILE = os.path.join(\"../binder/data_requirement.json\")\n",
    "\n",
    "# Download data\n",
    "repo2data = Repo2Data(DATA_REQ_FILE)\n",
    "data_path = repo2data.install()\n",
    "data_path = os.path.abspath(data_path[0])"
   ]
  }
 ],
 "metadata": {
  "jupytext": {
   "text_representation": {
    "extension": ".md",
    "format_name": "myst",
    "format_version": 0.13,
    "jupytext_version": "1.10.3"
   }
  },
  "kernelspec": {
   "display_name": "Python 3",
   "language": "python",
   "name": "python3"
  },
  "language_info": {
   "codemirror_mode": {
    "name": "ipython",
    "version": 3
   },
   "file_extension": ".py",
   "mimetype": "text/x-python",
   "name": "python",
   "nbconvert_exporter": "python",
   "pygments_lexer": "ipython3",
   "version": "3.10.18"
  },
  "source_map": [
   12,
   45
  ]
 },
 "nbformat": 4,
 "nbformat_minor": 5
}