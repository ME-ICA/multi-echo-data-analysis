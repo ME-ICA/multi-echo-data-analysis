{
 "cells": [
  {
   "cell_type": "markdown",
   "id": "c46e559f",
   "metadata": {},
   "source": [
    "# Download Data\n",
    "\n",
    "For the tutorials in this book,\n",
    "we will use partially-preprocessed data from two open multi-echo datasets: Euskalibur and Cambridge.\n",
    "For more information about these datasets, see {ref}`content:open-datasets`.\n",
    "\n",
    "```python\n",
    "import os\n",
    "from pprint import pprint\n",
    "\n",
    "from tedana import datasets\n",
    "\n",
    "DATA_DIR = os.path.abspath(\"../data\")\n",
    "\n",
    "euskalibur_dataset = datasets.fetch_euskalibur(\n",
    "    n_subjects=5,\n",
    "    low_resolution=False,\n",
    "    data_dir=DATA_DIR,\n",
    ")\n",
    "pprint(euskalibur_dataset)\n",
    "\n",
    "cambridge_dataset = datasets.fetch_cambridge(\n",
    "    n_subjects=5,\n",
    "    low_resolution=False,\n",
    "    data_dir=DATA_DIR,\n",
    ")\n",
    "pprint(cambridge_dataset)\n",
    "```\n",
    "\n",
    "For now, we will use repo2data to download some data we're storing on Google Drive."
   ]
  },
  {
   "cell_type": "code",
   "execution_count": 1,
   "id": "da7a44bd",
   "metadata": {},
   "outputs": [
    {
     "name": "stdout",
     "output_type": "stream",
     "text": [
      "---- repo2data starting ----\n",
      "/opt/hostedtoolcache/Python/3.10.14/x64/lib/python3.10/site-packages/repo2data\n",
      "Config from file :\n",
      "../binder/data_requirement.json\n",
      "Destination:\n",
      "./../data/multi-echo-data-analysis\n",
      "\n",
      "Info : Starting to download from Google drive https://drive.google.com/uc?id=1SVPP1vd2UobKf1djztpi-DcYAFOFXQtF ...\n"
     ]
    },
    {
     "name": "stderr",
     "output_type": "stream",
     "text": [
      "Downloading...\n",
      "From (original): https://drive.google.com/uc?id=1SVPP1vd2UobKf1djztpi-DcYAFOFXQtF\n",
      "From (redirected): https://drive.google.com/uc?id=1SVPP1vd2UobKf1djztpi-DcYAFOFXQtF&confirm=t&uuid=e28a7061-b546-4f60-b7c1-906f7ec75b5a\n",
      "To: /home/runner/work/multi-echo-data-analysis/multi-echo-data-analysis/data/multi-echo-data-analysis/sub-04570.zip\n",
      "\r",
      "  0%|          | 0.00/315M [00:00<?, ?B/s]\r",
      "  0%|          | 524k/315M [00:00<01:04, 4.88MB/s]"
     ]
    },
    {
     "name": "stderr",
     "output_type": "stream",
     "text": [
      "\r",
      "  3%|▎         | 7.86M/315M [00:00<00:07, 42.9MB/s]\r",
      "  7%|▋         | 22.0M/315M [00:00<00:03, 84.1MB/s]"
     ]
    },
    {
     "name": "stderr",
     "output_type": "stream",
     "text": [
      "\r",
      " 11%|█▏        | 35.7M/315M [00:00<00:02, 103MB/s] \r",
      " 16%|█▌        | 50.3M/315M [00:00<00:02, 118MB/s]"
     ]
    },
    {
     "name": "stderr",
     "output_type": "stream",
     "text": [
      "\r",
      " 20%|██        | 64.0M/315M [00:00<00:02, 124MB/s]\r",
      " 25%|██▌       | 79.2M/315M [00:00<00:01, 132MB/s]"
     ]
    },
    {
     "name": "stderr",
     "output_type": "stream",
     "text": [
      "\r",
      " 30%|███       | 94.9M/315M [00:00<00:01, 139MB/s]\r",
      " 35%|███▍      | 109M/315M [00:00<00:01, 138MB/s] "
     ]
    },
    {
     "name": "stderr",
     "output_type": "stream",
     "text": [
      "\r",
      " 39%|███▉      | 124M/315M [00:01<00:01, 140MB/s]\r",
      " 45%|████▍     | 140M/315M [00:01<00:01, 144MB/s]"
     ]
    },
    {
     "name": "stderr",
     "output_type": "stream",
     "text": [
      "\r",
      " 50%|████▉     | 156M/315M [00:01<00:01, 148MB/s]\r",
      " 55%|█████▍    | 171M/315M [00:01<00:00, 149MB/s]"
     ]
    },
    {
     "name": "stderr",
     "output_type": "stream",
     "text": [
      "\r",
      " 60%|█████▉    | 187M/315M [00:01<00:00, 147MB/s]\r",
      " 64%|██████▍   | 202M/315M [00:01<00:00, 146MB/s]"
     ]
    },
    {
     "name": "stderr",
     "output_type": "stream",
     "text": [
      "\r",
      " 69%|██████▉   | 217M/315M [00:01<00:00, 140MB/s]\r",
      " 74%|███████▍  | 233M/315M [00:01<00:00, 145MB/s]"
     ]
    },
    {
     "name": "stderr",
     "output_type": "stream",
     "text": [
      "\r",
      " 79%|███████▉  | 248M/315M [00:01<00:00, 144MB/s]\r",
      " 84%|████████▎ | 263M/315M [00:01<00:00, 138MB/s]"
     ]
    },
    {
     "name": "stderr",
     "output_type": "stream",
     "text": [
      "\r",
      " 88%|████████▊ | 277M/315M [00:02<00:00, 124MB/s]\r",
      " 92%|█████████▏| 290M/315M [00:02<00:00, 117MB/s]"
     ]
    },
    {
     "name": "stderr",
     "output_type": "stream",
     "text": [
      "\r",
      " 96%|█████████▌| 302M/315M [00:02<00:00, 110MB/s]\r",
      "100%|█████████▉| 314M/315M [00:02<00:00, 100MB/s]\r",
      "100%|██████████| 315M/315M [00:02<00:00, 124MB/s]\n",
      "INFO patool: Extracting ./../data/multi-echo-data-analysis/sub-04570.zip ...\n"
     ]
    },
    {
     "name": "stderr",
     "output_type": "stream",
     "text": [
      "INFO patool: running /usr/bin/7z x -y -p- -o./../data/multi-echo-data-analysis -- ./../data/multi-echo-data-analysis/sub-04570.zip\n"
     ]
    },
    {
     "name": "stderr",
     "output_type": "stream",
     "text": [
      "INFO patool:     with input=''\n"
     ]
    },
    {
     "name": "stderr",
     "output_type": "stream",
     "text": [
      "INFO patool: ... ./../data/multi-echo-data-analysis/sub-04570.zip extracted to `./../data/multi-echo-data-analysis'.\n"
     ]
    },
    {
     "name": "stdout",
     "output_type": "stream",
     "text": [
      "Info : sub-04570.zip Decompressed\n"
     ]
    }
   ],
   "source": [
    "import os\n",
    "\n",
    "from repo2data.repo2data import Repo2Data\n",
    "\n",
    "# Install the data if running locally, or point to cached data if running on neurolibre\n",
    "DATA_REQ_FILE = os.path.join(\"../binder/data_requirement.json\")\n",
    "\n",
    "# Download data\n",
    "repo2data = Repo2Data(DATA_REQ_FILE)\n",
    "data_path = repo2data.install()\n",
    "data_path = os.path.abspath(data_path[0])"
   ]
  }
 ],
 "metadata": {
  "jupytext": {
   "text_representation": {
    "extension": ".md",
    "format_name": "myst",
    "format_version": 0.13,
    "jupytext_version": "1.10.3"
   }
  },
  "kernelspec": {
   "display_name": "Python 3",
   "language": "python",
   "name": "python3"
  },
  "language_info": {
   "codemirror_mode": {
    "name": "ipython",
    "version": 3
   },
   "file_extension": ".py",
   "mimetype": "text/x-python",
   "name": "python",
   "nbconvert_exporter": "python",
   "pygments_lexer": "ipython3",
   "version": "3.10.14"
  },
  "source_map": [
   12,
   45
  ]
 },
 "nbformat": 4,
 "nbformat_minor": 5
}