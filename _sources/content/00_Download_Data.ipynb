{
 "cells": [
  {
   "cell_type": "markdown",
   "id": "0253412a",
   "metadata": {},
   "source": [
    "# Download Data\n",
    "\n",
    "For the tutorials in this book,\n",
    "we will use partially-preprocessed data from two open multi-echo datasets: Euskalibur and Cambridge.\n",
    "For more information about these datasets, see {ref}`content:open-datasets`.\n",
    "\n",
    "```python\n",
    "import os\n",
    "\n",
    "from datalad import api as dapi\n",
    "\n",
    "DATA_DIR = os.path.abspath('../data')\n",
    "\n",
    "# Download PAFIN fMRIPrep data\n",
    "dset_dir = os.path.join(DATA_DIR, 'ds006185')\n",
    "os.makedirs(dset_dir, exist_ok=True)\n",
    "dapi.install(\n",
    "    path=dset_dir,\n",
    "    source='https://github.com/OpenNeuroDatasets/ds006185.git',\n",
    ")\n",
    "dapi.get(os.path.join(dset_dir, 'sub-24053', 'ses-1', 'func', 'sub-24053_ses-1_task-rat_rec-nordic_*'), recursive=True)\n",
    "dapi.get(os.path.join(dset_dir, 'sub-24053', 'ses-1', 'anat', 'sub-24053_ses-1_*'), recursive=True)\n",
    "```\n",
    "\n",
    "For now, we will use the Datalab API to download some data we're storing on OpenNeuro."
   ]
  },
  {
   "cell_type": "code",
   "execution_count": 1,
   "id": "3f31877f",
   "metadata": {
    "tags": [
     "hide-output"
    ]
   },
   "outputs": [
    {
     "name": "stderr",
     "output_type": "stream",
     "text": [
      "It is highly recommended to configure Git before using DataLad. Set both 'user.name' and 'user.email' configuration variables.\n"
     ]
    },
    {
     "name": "stderr",
     "output_type": "stream",
     "text": [
      "[INFO] Attempting a clone into /home/runner/work/multi-echo-data-analysis/multi-echo-data-analysis/data/ds006185 \n"
     ]
    },
    {
     "name": "stderr",
     "output_type": "stream",
     "text": [
      "[INFO] Attempting to clone from https://github.com/OpenNeuroDatasets/ds006185.git to /home/runner/work/multi-echo-data-analysis/multi-echo-data-analysis/data/ds006185 \n"
     ]
    },
    {
     "name": "stderr",
     "output_type": "stream",
     "text": [
      "[INFO] Start enumerating objects \n"
     ]
    },
    {
     "name": "stderr",
     "output_type": "stream",
     "text": [
      "[INFO] Start counting objects \n"
     ]
    },
    {
     "name": "stderr",
     "output_type": "stream",
     "text": [
      "[INFO] Start compressing objects \n"
     ]
    },
    {
     "name": "stderr",
     "output_type": "stream",
     "text": [
      "[INFO] Start receiving objects \n"
     ]
    },
    {
     "name": "stderr",
     "output_type": "stream",
     "text": [
      "[INFO] Start resolving deltas \n"
     ]
    },
    {
     "name": "stderr",
     "output_type": "stream",
     "text": [
      "[INFO] Completed clone attempts for Dataset(/home/runner/work/multi-echo-data-analysis/multi-echo-data-analysis/data/ds006185) \n"
     ]
    },
    {
     "name": "stderr",
     "output_type": "stream",
     "text": [
      "[INFO] Remote origin not usable by git-annex; setting annex-ignore \n"
     ]
    },
    {
     "name": "stderr",
     "output_type": "stream",
     "text": [
      "[INFO] https://github.com/OpenNeuroDatasets/ds006185.git/config download failed: Not Found \n"
     ]
    },
    {
     "name": "stderr",
     "output_type": "stream",
     "text": [
      "[INFO] Cannot run git-annex-remote-openneuro -- It is not installed in PATH (/usr/lib/git-core:/opt/hostedtoolcache/Python/3.12.11/x64/bin:/opt/hostedtoolcache/Python/3.12.11/x64:/snap/bin:/home/runner/.local/bin:/opt/pipx_bin:/home/runner/.cargo/bin:/home/runner/.config/composer/vendor/bin:/usr/local/.ghcup/bin:/home/runner/.dotnet/tools:/usr/local/sbin:/usr/local/bin:/usr/sbin:/usr/bin:/sbin:/bin:/usr/games:/usr/local/games:/snap/bin) \n"
     ]
    },
    {
     "name": "stderr",
     "output_type": "stream",
     "text": [
      "[INFO] Cannot run git-annex-remote-openneuro -- It is not installed in PATH (/usr/lib/git-core:/opt/hostedtoolcache/Python/3.12.11/x64/bin:/opt/hostedtoolcache/Python/3.12.11/x64:/snap/bin:/home/runner/.local/bin:/opt/pipx_bin:/home/runner/.cargo/bin:/home/runner/.config/composer/vendor/bin:/usr/local/.ghcup/bin:/home/runner/.dotnet/tools:/usr/local/sbin:/usr/local/bin:/usr/sbin:/usr/bin:/sbin:/bin:/usr/games:/usr/local/games:/snap/bin) \n"
     ]
    },
    {
     "name": "stderr",
     "output_type": "stream",
     "text": [
      "[INFO] unable to use external special remote git-annex-remote-openneuro \n"
     ]
    },
    {
     "name": "stderr",
     "output_type": "stream",
     "text": [
      "[INFO] Author identity unknown\n",
      "| \n",
      "| *** Please tell me who you are.\n",
      "| \n",
      "| Run\n",
      "| \n",
      "|   git config --global user.email \"you@example.com\"\n",
      "|   git config --global user.name \"Your Name\"\n",
      "| \n",
      "| to set your account's default identity.\n",
      "| Omit --global to set the identity only in this repository.\n",
      "| \n",
      "| fatal: unable to auto-detect email address (got 'runner@runnervmwhb2z.(none)') \n"
     ]
    },
    {
     "name": "stderr",
     "output_type": "stream",
     "text": [
      "[INFO] git-annex: failed to read sha from git commit-tree \n"
     ]
    },
    {
     "name": "stdout",
     "output_type": "stream",
     "text": [
      "\u001b[1;1minstall\u001b[0m(\u001b[1;31merror\u001b[0m): /home/runner/work/multi-echo-data-analysis/multi-echo-data-analysis/data/ds006185 (\u001b[1;35mdataset\u001b[0m) [CommandError: 'git -c diff.ignoreSubmodules=none -c core.quotepath=false annex init -c annex.dotfiles=true' failed with exitcode 1 under /home/runner/work/multi-echo-data-analysis/multi-echo-data-analysis/data/ds006185]\u001b[1;31m [CommandError: 'git -c diff.ignoreSubmodules=none -c core.quotepath=false annex init -c annex.dotfiles=true' failed with exitcode 1 under /home/runner/work/multi-echo-data-analysis/multi-echo-data-analysis/data/ds006185]\u001b[0m\n"
     ]
    },
    {
     "ename": "IncompleteResultsError",
     "evalue": "Command did not complete successfully. 1 failed:\n[{'action': 'install',\n  'error_message': \"CommandError: 'git -c diff.ignoreSubmodules=none -c \"\n                   \"core.quotepath=false annex init -c annex.dotfiles=true' \"\n                   'failed with exitcode 1 under '\n                   '/home/runner/work/multi-echo-data-analysis/multi-echo-data-analysis/data/ds006185',\n  'exception': CommandError: 'git -c diff.ignoreSubmodules=none -c core.quotepath=false annex init -c annex.dotfiles=true' failed with exitcode 1 under /home/runner/work/multi-echo-data-analysis/multi-echo-data-analysis/data/ds006185 [clone.py:clone_dataset:521,clone.py:_post_gitclone_processing_:589,clone.py:_annex_init:700,annexrepo.py:_init:1539,annexrepo.py:_call_annex:996,runner.py:run:243],\n  'exception_traceback': '[clone.py:clone_dataset:521,clone.py:_post_gitclone_processing_:589,clone.py:_annex_init:700,annexrepo.py:_init:1539,annexrepo.py:_call_annex:996,runner.py:run:243]',\n  'message': \"CommandError: 'git -c diff.ignoreSubmodules=none -c \"\n             \"core.quotepath=false annex init -c annex.dotfiles=true' failed \"\n             'with exitcode 1 under '\n             '/home/runner/work/multi-echo-data-analysis/multi-echo-data-analysis/data/ds006185',\n  'path': '/home/runner/work/multi-echo-data-analysis/multi-echo-data-analysis/data/ds006185',\n  'refds': None,\n  'source': {'default_destpath': 'ds006185',\n             'giturl': 'https://github.com/OpenNeuroDatasets/ds006185.git',\n             'source': 'https://github.com/OpenNeuroDatasets/ds006185.git',\n             'type': 'giturl',\n             'version': None},\n  'source_url': 'https://github.com/OpenNeuroDatasets/ds006185.git',\n  'status': 'error',\n  'type': 'dataset'}]",
     "output_type": "error",
     "traceback": [
      "\u001b[31m---------------------------------------------------------------------------\u001b[39m",
      "\u001b[31mIncompleteResultsError\u001b[39m                    Traceback (most recent call last)",
      "\u001b[36mCell\u001b[39m\u001b[36m \u001b[39m\u001b[32mIn[1]\u001b[39m\u001b[32m, line 11\u001b[39m\n\u001b[32m      9\u001b[39m dset_dir = os.path.join(DATA_DIR, \u001b[33m'\u001b[39m\u001b[33mds006185\u001b[39m\u001b[33m'\u001b[39m)\n\u001b[32m     10\u001b[39m os.makedirs(dset_dir, exist_ok=\u001b[38;5;28;01mTrue\u001b[39;00m)\n\u001b[32m---> \u001b[39m\u001b[32m11\u001b[39m \u001b[43mdapi\u001b[49m\u001b[43m.\u001b[49m\u001b[43minstall\u001b[49m\u001b[43m(\u001b[49m\n\u001b[32m     12\u001b[39m \u001b[43m    \u001b[49m\u001b[43mpath\u001b[49m\u001b[43m=\u001b[49m\u001b[43mdset_dir\u001b[49m\u001b[43m,\u001b[49m\n\u001b[32m     13\u001b[39m \u001b[43m    \u001b[49m\u001b[43msource\u001b[49m\u001b[43m=\u001b[49m\u001b[33;43m'\u001b[39;49m\u001b[33;43mhttps://github.com/OpenNeuroDatasets/ds006185.git\u001b[39;49m\u001b[33;43m'\u001b[39;49m\u001b[43m,\u001b[49m\n\u001b[32m     14\u001b[39m \u001b[43m)\u001b[49m\n\u001b[32m     15\u001b[39m subj_dir = os.path.join(dset_dir, \u001b[33m'\u001b[39m\u001b[33msub-24053\u001b[39m\u001b[33m'\u001b[39m, \u001b[33m'\u001b[39m\u001b[33mses-1\u001b[39m\u001b[33m'\u001b[39m)\n\u001b[32m     16\u001b[39m func_dir = Path(os.path.join(subj_dir, \u001b[33m'\u001b[39m\u001b[33mfunc\u001b[39m\u001b[33m'\u001b[39m))\n",
      "\u001b[36mFile \u001b[39m\u001b[32m/opt/hostedtoolcache/Python/3.12.11/x64/lib/python3.12/site-packages/datalad/interface/base.py:772\u001b[39m, in \u001b[36meval_results.<locals>.eval_func\u001b[39m\u001b[34m(*args, **kwargs)\u001b[39m\n\u001b[32m    767\u001b[39m         \u001b[38;5;28;01mreturn\u001b[39;00m results\n\u001b[32m    769\u001b[39m lgr.log(\u001b[32m2\u001b[39m,\n\u001b[32m    770\u001b[39m         \u001b[33m\"\u001b[39m\u001b[33mReturning return_func from eval_func for \u001b[39m\u001b[38;5;132;01m%s\u001b[39;00m\u001b[33m\"\u001b[39m,\n\u001b[32m    771\u001b[39m         wrapped_class)\n\u001b[32m--> \u001b[39m\u001b[32m772\u001b[39m \u001b[38;5;28;01mreturn\u001b[39;00m \u001b[43mreturn_func\u001b[49m\u001b[43m(\u001b[49m\u001b[43m*\u001b[49m\u001b[43margs\u001b[49m\u001b[43m,\u001b[49m\u001b[43m \u001b[49m\u001b[43m*\u001b[49m\u001b[43m*\u001b[49m\u001b[43mkwargs\u001b[49m\u001b[43m)\u001b[49m\n",
      "\u001b[36mFile \u001b[39m\u001b[32m/opt/hostedtoolcache/Python/3.12.11/x64/lib/python3.12/site-packages/datalad/interface/base.py:762\u001b[39m, in \u001b[36meval_results.<locals>.eval_func.<locals>.return_func\u001b[39m\u001b[34m(*args_, **kwargs_)\u001b[39m\n\u001b[32m    752\u001b[39m results = _execute_command_(\n\u001b[32m    753\u001b[39m     interface=wrapped_class,\n\u001b[32m    754\u001b[39m     cmd=wrapped,\n\u001b[32m   (...)\u001b[39m\u001b[32m    757\u001b[39m     exec_kwargs=common_params,\n\u001b[32m    758\u001b[39m )\n\u001b[32m    759\u001b[39m \u001b[38;5;28;01mif\u001b[39;00m inspect.isgenerator(results):\n\u001b[32m    760\u001b[39m     \u001b[38;5;66;03m# unwind generator if there is one, this actually runs\u001b[39;00m\n\u001b[32m    761\u001b[39m     \u001b[38;5;66;03m# any processing\u001b[39;00m\n\u001b[32m--> \u001b[39m\u001b[32m762\u001b[39m     results = \u001b[38;5;28;43mlist\u001b[39;49m\u001b[43m(\u001b[49m\u001b[43mresults\u001b[49m\u001b[43m)\u001b[49m\n\u001b[32m    763\u001b[39m \u001b[38;5;28;01mif\u001b[39;00m return_type == \u001b[33m'\u001b[39m\u001b[33mitem-or-list\u001b[39m\u001b[33m'\u001b[39m \u001b[38;5;129;01mand\u001b[39;00m \\\n\u001b[32m    764\u001b[39m         \u001b[38;5;28mlen\u001b[39m(results) < \u001b[32m2\u001b[39m:\n\u001b[32m    765\u001b[39m     \u001b[38;5;28;01mreturn\u001b[39;00m results[\u001b[32m0\u001b[39m] \u001b[38;5;28;01mif\u001b[39;00m results \u001b[38;5;28;01melse\u001b[39;00m \u001b[38;5;28;01mNone\u001b[39;00m\n",
      "\u001b[36mFile \u001b[39m\u001b[32m/opt/hostedtoolcache/Python/3.12.11/x64/lib/python3.12/site-packages/datalad/interface/base.py:939\u001b[39m, in \u001b[36m_execute_command_\u001b[39m\u001b[34m(interface, cmd, cmd_args, cmd_kwargs, exec_kwargs)\u001b[39m\n\u001b[32m    936\u001b[39m     render_action_summary(action_summary)\n\u001b[32m    938\u001b[39m \u001b[38;5;28;01mif\u001b[39;00m incomplete_results:\n\u001b[32m--> \u001b[39m\u001b[32m939\u001b[39m     \u001b[38;5;28;01mraise\u001b[39;00m IncompleteResultsError(\n\u001b[32m    940\u001b[39m         failed=incomplete_results,\n\u001b[32m    941\u001b[39m         msg=\u001b[33m\"\u001b[39m\u001b[33mCommand did not complete successfully\u001b[39m\u001b[33m\"\u001b[39m)\n",
      "\u001b[31mIncompleteResultsError\u001b[39m: Command did not complete successfully. 1 failed:\n[{'action': 'install',\n  'error_message': \"CommandError: 'git -c diff.ignoreSubmodules=none -c \"\n                   \"core.quotepath=false annex init -c annex.dotfiles=true' \"\n                   'failed with exitcode 1 under '\n                   '/home/runner/work/multi-echo-data-analysis/multi-echo-data-analysis/data/ds006185',\n  'exception': CommandError: 'git -c diff.ignoreSubmodules=none -c core.quotepath=false annex init -c annex.dotfiles=true' failed with exitcode 1 under /home/runner/work/multi-echo-data-analysis/multi-echo-data-analysis/data/ds006185 [clone.py:clone_dataset:521,clone.py:_post_gitclone_processing_:589,clone.py:_annex_init:700,annexrepo.py:_init:1539,annexrepo.py:_call_annex:996,runner.py:run:243],\n  'exception_traceback': '[clone.py:clone_dataset:521,clone.py:_post_gitclone_processing_:589,clone.py:_annex_init:700,annexrepo.py:_init:1539,annexrepo.py:_call_annex:996,runner.py:run:243]',\n  'message': \"CommandError: 'git -c diff.ignoreSubmodules=none -c \"\n             \"core.quotepath=false annex init -c annex.dotfiles=true' failed \"\n             'with exitcode 1 under '\n             '/home/runner/work/multi-echo-data-analysis/multi-echo-data-analysis/data/ds006185',\n  'path': '/home/runner/work/multi-echo-data-analysis/multi-echo-data-analysis/data/ds006185',\n  'refds': None,\n  'source': {'default_destpath': 'ds006185',\n             'giturl': 'https://github.com/OpenNeuroDatasets/ds006185.git',\n             'source': 'https://github.com/OpenNeuroDatasets/ds006185.git',\n             'type': 'giturl',\n             'version': None},\n  'source_url': 'https://github.com/OpenNeuroDatasets/ds006185.git',\n  'status': 'error',\n  'type': 'dataset'}]"
     ]
    }
   ],
   "source": [
    "import os\n",
    "from pathlib import Path\n",
    "\n",
    "from datalad import api as dapi\n",
    "\n",
    "DATA_DIR = os.path.abspath('../data')\n",
    "\n",
    "# Download PAFIN fMRIPrep data\n",
    "dset_dir = os.path.join(DATA_DIR, 'ds006185')\n",
    "os.makedirs(dset_dir, exist_ok=True)\n",
    "dapi.install(\n",
    "    path=dset_dir,\n",
    "    source='https://github.com/OpenNeuroDatasets/ds006185.git',\n",
    ")\n",
    "subj_dir = os.path.join(dset_dir, 'sub-24053', 'ses-1')\n",
    "func_dir = Path(os.path.join(subj_dir, 'func'))\n",
    "func_files = list(func_dir.glob('sub-24053_ses-1_task-rat_rec-nordic_*'))\n",
    "for f in func_files:\n",
    "    dapi.get(f)\n",
    "\n",
    "anat_dir = Path(os.path.join(subj_dir, 'anat'))\n",
    "anat_files = list(anat_dir.glob('*'))\n",
    "for f in anat_files:\n",
    "    dapi.get(f)"
   ]
  }
 ],
 "metadata": {
  "jupytext": {
   "text_representation": {
    "extension": ".md",
    "format_name": "myst",
    "jupytext_version": "1.18.1"
   }
  },
  "kernelspec": {
   "display_name": "Python 3",
   "language": "python",
   "name": "python3"
  },
  "language_info": {
   "codemirror_mode": {
    "name": "ipython",
    "version": 3
   },
   "file_extension": ".py",
   "mimetype": "text/x-python",
   "name": "python",
   "nbconvert_exporter": "python",
   "pygments_lexer": "ipython3",
   "version": "3.12.11"
  },
  "source_map": [
   11,
   39
  ]
 },
 "nbformat": 4,
 "nbformat_minor": 5
}