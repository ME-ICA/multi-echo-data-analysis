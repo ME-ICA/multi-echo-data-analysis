{
 "cells": [
  {
   "cell_type": "markdown",
   "id": "1d2383a7",
   "metadata": {},
   "source": [
    "# Download Data\n",
    "\n",
    "For the tutorials in this book,\n",
    "we will use partially-preprocessed data from two open multi-echo datasets: Euskalibur and Cambridge.\n",
    "For more information about these datasets, see {ref}`content:open-datasets`.\n",
    "\n",
    "```python\n",
    "import os\n",
    "from pprint import pprint\n",
    "\n",
    "from tedana import datasets\n",
    "\n",
    "DATA_DIR = os.path.abspath(\"../data\")\n",
    "\n",
    "euskalibur_dataset = datasets.fetch_euskalibur(\n",
    "    n_subjects=5,\n",
    "    low_resolution=False,\n",
    "    data_dir=DATA_DIR,\n",
    ")\n",
    "pprint(euskalibur_dataset)\n",
    "\n",
    "cambridge_dataset = datasets.fetch_cambridge(\n",
    "    n_subjects=5,\n",
    "    low_resolution=False,\n",
    "    data_dir=DATA_DIR,\n",
    ")\n",
    "pprint(cambridge_dataset)\n",
    "```\n",
    "\n",
    "For now, we will use repo2data to download some data we're storing on Google Drive."
   ]
  },
  {
   "cell_type": "code",
   "execution_count": 1,
   "id": "c692401d",
   "metadata": {},
   "outputs": [
    {
     "name": "stdout",
     "output_type": "stream",
     "text": [
      "---- repo2data starting ----\n",
      "/opt/hostedtoolcache/Python/3.8.18/x64/lib/python3.8/site-packages/repo2data\n",
      "Config from file :\n",
      "../binder/data_requirement.json\n",
      "Destination:\n",
      "./../data/multi-echo-data-analysis\n",
      "\n",
      "Info : Starting to download from Google drive https://drive.google.com/uc?id=1SVPP1vd2UobKf1djztpi-DcYAFOFXQtF ...\n"
     ]
    },
    {
     "name": "stderr",
     "output_type": "stream",
     "text": [
      "Downloading...\n",
      "From (original): https://drive.google.com/uc?id=1SVPP1vd2UobKf1djztpi-DcYAFOFXQtF\n",
      "From (redirected): https://drive.google.com/uc?id=1SVPP1vd2UobKf1djztpi-DcYAFOFXQtF&confirm=t&uuid=87c533b4-2de8-4f42-9c3a-6d7c14541e7c\n",
      "To: /home/runner/work/multi-echo-data-analysis/multi-echo-data-analysis/data/multi-echo-data-analysis/sub-04570.zip\n",
      "\r",
      "  0%|          | 0.00/315M [00:00<?, ?B/s]"
     ]
    },
    {
     "name": "stderr",
     "output_type": "stream",
     "text": [
      "\r",
      "  0%|          | 524k/315M [00:00<04:11, 1.25MB/s]\r",
      "  0%|          | 1.05M/315M [00:00<02:28, 2.11MB/s]"
     ]
    },
    {
     "name": "stderr",
     "output_type": "stream",
     "text": [
      "\r",
      "  1%|          | 2.10M/315M [00:00<01:17, 4.03MB/s]\r",
      "  1%|▏         | 4.19M/315M [00:00<00:38, 8.02MB/s]"
     ]
    },
    {
     "name": "stderr",
     "output_type": "stream",
     "text": [
      "\r",
      "  2%|▏         | 7.34M/315M [00:00<00:25, 12.3MB/s]\r",
      "  4%|▎         | 11.5M/315M [00:01<00:16, 18.3MB/s]"
     ]
    },
    {
     "name": "stderr",
     "output_type": "stream",
     "text": [
      "\r",
      "  5%|▍         | 15.2M/315M [00:01<00:13, 21.9MB/s]\r",
      "  6%|▌         | 18.9M/315M [00:01<00:12, 24.5MB/s]"
     ]
    },
    {
     "name": "stderr",
     "output_type": "stream",
     "text": [
      "\r",
      "  7%|▋         | 23.1M/315M [00:01<00:10, 27.0MB/s]\r",
      "  9%|▊         | 26.7M/315M [00:01<00:10, 28.3MB/s]"
     ]
    },
    {
     "name": "stderr",
     "output_type": "stream",
     "text": [
      "\r",
      " 10%|▉         | 30.4M/315M [00:01<00:09, 29.0MB/s]\r",
      " 11%|█         | 34.1M/315M [00:01<00:09, 29.5MB/s]"
     ]
    },
    {
     "name": "stderr",
     "output_type": "stream",
     "text": [
      "\r",
      " 12%|█▏        | 38.3M/315M [00:01<00:09, 30.6MB/s]\r",
      " 13%|█▎        | 41.9M/315M [00:02<00:08, 30.7MB/s]"
     ]
    },
    {
     "name": "stderr",
     "output_type": "stream",
     "text": [
      "\r",
      " 15%|█▍        | 45.6M/315M [00:02<00:08, 30.3MB/s]\r",
      " 16%|█▌        | 48.8M/315M [00:02<00:08, 29.9MB/s]"
     ]
    },
    {
     "name": "stderr",
     "output_type": "stream",
     "text": [
      "\r",
      " 17%|█▋        | 51.9M/315M [00:02<00:09, 28.8MB/s]\r",
      " 18%|█▊        | 55.1M/315M [00:02<00:09, 28.8MB/s]"
     ]
    },
    {
     "name": "stderr",
     "output_type": "stream",
     "text": [
      "\r",
      " 19%|█▊        | 58.7M/315M [00:02<00:08, 29.4MB/s]\r",
      " 20%|█▉        | 62.4M/315M [00:02<00:08, 29.8MB/s]"
     ]
    },
    {
     "name": "stderr",
     "output_type": "stream",
     "text": [
      "\r",
      " 21%|██        | 66.1M/315M [00:02<00:08, 29.9MB/s]\r",
      " 22%|██▏       | 70.3M/315M [00:02<00:07, 31.1MB/s]"
     ]
    },
    {
     "name": "stderr",
     "output_type": "stream",
     "text": [
      "\r",
      " 24%|██▎       | 73.9M/315M [00:03<00:08, 29.4MB/s]\r",
      " 25%|██▍       | 78.1M/315M [00:03<00:08, 28.8MB/s]"
     ]
    },
    {
     "name": "stderr",
     "output_type": "stream",
     "text": [
      "\r",
      " 26%|██▌       | 81.8M/315M [00:03<00:07, 30.6MB/s]\r",
      " 27%|██▋       | 86.0M/315M [00:03<00:07, 30.5MB/s]"
     ]
    },
    {
     "name": "stderr",
     "output_type": "stream",
     "text": [
      "\r",
      " 29%|██▊       | 89.7M/315M [00:03<00:07, 30.6MB/s]\r",
      " 30%|██▉       | 93.3M/315M [00:03<00:07, 30.8MB/s]"
     ]
    },
    {
     "name": "stderr",
     "output_type": "stream",
     "text": [
      "\r",
      " 31%|███       | 97.5M/315M [00:03<00:06, 31.6MB/s]\r",
      " 32%|███▏      | 101M/315M [00:03<00:06, 31.4MB/s] "
     ]
    },
    {
     "name": "stderr",
     "output_type": "stream",
     "text": [
      "\r",
      " 33%|███▎      | 105M/315M [00:04<00:06, 31.2MB/s]\r",
      " 35%|███▍      | 109M/315M [00:04<00:06, 31.0MB/s]"
     ]
    },
    {
     "name": "stderr",
     "output_type": "stream",
     "text": [
      "\r",
      " 36%|███▌      | 113M/315M [00:04<00:06, 31.7MB/s]\r",
      " 37%|███▋      | 116M/315M [00:04<00:06, 31.4MB/s]"
     ]
    },
    {
     "name": "stderr",
     "output_type": "stream",
     "text": [
      "\r",
      " 38%|███▊      | 121M/315M [00:04<00:06, 31.1MB/s]\r",
      " 40%|███▉      | 124M/315M [00:04<00:05, 32.0MB/s]"
     ]
    },
    {
     "name": "stderr",
     "output_type": "stream",
     "text": [
      "\r",
      " 41%|████      | 128M/315M [00:04<00:05, 31.6MB/s]\r",
      " 42%|████▏     | 132M/315M [00:04<00:05, 31.2MB/s]"
     ]
    },
    {
     "name": "stderr",
     "output_type": "stream",
     "text": [
      "\r",
      " 43%|████▎     | 136M/315M [00:05<00:05, 32.1MB/s]\r",
      " 44%|████▍     | 139M/315M [00:05<00:05, 31.7MB/s]"
     ]
    },
    {
     "name": "stderr",
     "output_type": "stream",
     "text": [
      "\r",
      " 46%|████▌     | 143M/315M [00:05<00:05, 31.4MB/s]\r",
      " 47%|████▋     | 147M/315M [00:05<00:05, 32.1MB/s]"
     ]
    },
    {
     "name": "stderr",
     "output_type": "stream",
     "text": [
      "\r",
      " 48%|████▊     | 151M/315M [00:05<00:05, 31.6MB/s]\r",
      " 49%|████▉     | 155M/315M [00:05<00:05, 31.4MB/s]"
     ]
    },
    {
     "name": "stderr",
     "output_type": "stream",
     "text": [
      "\r",
      " 51%|█████     | 159M/315M [00:05<00:04, 32.0MB/s]\r",
      " 52%|█████▏    | 163M/315M [00:05<00:04, 31.7MB/s]"
     ]
    },
    {
     "name": "stderr",
     "output_type": "stream",
     "text": [
      "\r",
      " 53%|█████▎    | 166M/315M [00:06<00:04, 31.4MB/s]\r",
      " 54%|█████▍    | 169M/315M [00:06<00:05, 28.0MB/s]"
     ]
    },
    {
     "name": "stderr",
     "output_type": "stream",
     "text": [
      "\r",
      " 55%|█████▍    | 172M/315M [00:06<00:05, 25.9MB/s]\r",
      " 56%|█████▌    | 176M/315M [00:06<00:05, 26.3MB/s]"
     ]
    },
    {
     "name": "stderr",
     "output_type": "stream",
     "text": [
      "\r",
      " 57%|█████▋    | 179M/315M [00:06<00:04, 28.6MB/s]\r",
      " 58%|█████▊    | 182M/315M [00:06<00:04, 28.4MB/s]"
     ]
    },
    {
     "name": "stderr",
     "output_type": "stream",
     "text": [
      "\r",
      " 59%|█████▉    | 186M/315M [00:06<00:04, 30.2MB/s]\r",
      " 60%|██████    | 190M/315M [00:06<00:04, 30.3MB/s]"
     ]
    },
    {
     "name": "stderr",
     "output_type": "stream",
     "text": [
      "\r",
      " 62%|██████▏   | 193M/315M [00:07<00:04, 29.3MB/s]\r",
      " 63%|██████▎   | 197M/315M [00:07<00:03, 29.8MB/s]"
     ]
    },
    {
     "name": "stderr",
     "output_type": "stream",
     "text": [
      "\r",
      " 64%|██████▍   | 201M/315M [00:07<00:03, 30.1MB/s]\r",
      " 65%|██████▌   | 205M/315M [00:07<00:03, 31.1MB/s]"
     ]
    },
    {
     "name": "stderr",
     "output_type": "stream",
     "text": [
      "\r",
      " 66%|██████▋   | 209M/315M [00:07<00:03, 31.1MB/s]\r",
      " 68%|██████▊   | 212M/315M [00:07<00:03, 30.9MB/s]"
     ]
    },
    {
     "name": "stderr",
     "output_type": "stream",
     "text": [
      "\r",
      " 69%|██████▉   | 217M/315M [00:07<00:03, 31.7MB/s]\r",
      " 70%|███████   | 220M/315M [00:07<00:02, 31.5MB/s]"
     ]
    },
    {
     "name": "stderr",
     "output_type": "stream",
     "text": [
      "\r",
      " 71%|███████   | 224M/315M [00:08<00:02, 31.2MB/s]\r",
      " 72%|███████▏  | 228M/315M [00:08<00:02, 31.1MB/s]"
     ]
    },
    {
     "name": "stderr",
     "output_type": "stream",
     "text": [
      "\r",
      " 74%|███████▎  | 232M/315M [00:08<00:02, 31.9MB/s]\r",
      " 75%|███████▍  | 235M/315M [00:08<00:02, 31.6MB/s]"
     ]
    },
    {
     "name": "stderr",
     "output_type": "stream",
     "text": [
      "\r",
      " 76%|███████▌  | 239M/315M [00:08<00:02, 31.2MB/s]\r",
      " 77%|███████▋  | 242M/315M [00:08<00:02, 30.9MB/s]"
     ]
    },
    {
     "name": "stderr",
     "output_type": "stream",
     "text": [
      "\r",
      " 78%|███████▊  | 245M/315M [00:08<00:02, 29.8MB/s]\r",
      " 79%|███████▉  | 249M/315M [00:08<00:02, 29.3MB/s]"
     ]
    },
    {
     "name": "stderr",
     "output_type": "stream",
     "text": [
      "\r",
      " 80%|████████  | 252M/315M [00:09<00:02, 24.7MB/s]\r",
      " 81%|████████▏ | 256M/315M [00:09<00:02, 26.3MB/s]"
     ]
    },
    {
     "name": "stderr",
     "output_type": "stream",
     "text": [
      "\r",
      " 83%|████████▎ | 260M/315M [00:09<00:01, 27.5MB/s]\r",
      " 84%|████████▍ | 264M/315M [00:09<00:01, 29.3MB/s]"
     ]
    },
    {
     "name": "stderr",
     "output_type": "stream",
     "text": [
      "\r",
      " 85%|████████▌ | 267M/315M [00:09<00:01, 29.4MB/s]\r",
      " 86%|████████▌ | 271M/315M [00:09<00:01, 30.0MB/s]"
     ]
    },
    {
     "name": "stderr",
     "output_type": "stream",
     "text": [
      "\r",
      " 88%|████████▊ | 275M/315M [00:09<00:01, 31.1MB/s]\r",
      " 89%|████████▊ | 279M/315M [00:09<00:01, 31.0MB/s]"
     ]
    },
    {
     "name": "stderr",
     "output_type": "stream",
     "text": [
      "\r",
      " 90%|████████▉ | 283M/315M [00:09<00:01, 30.8MB/s]\r",
      " 91%|█████████ | 287M/315M [00:10<00:00, 31.6MB/s]"
     ]
    },
    {
     "name": "stderr",
     "output_type": "stream",
     "text": [
      "\r",
      " 92%|█████████▏| 290M/315M [00:10<00:00, 31.4MB/s]\r",
      " 94%|█████████▎| 294M/315M [00:10<00:00, 31.1MB/s]"
     ]
    },
    {
     "name": "stderr",
     "output_type": "stream",
     "text": [
      "\r",
      " 95%|█████████▍| 298M/315M [00:10<00:00, 31.9MB/s]\r",
      " 96%|█████████▌| 302M/315M [00:10<00:00, 31.6MB/s]"
     ]
    },
    {
     "name": "stderr",
     "output_type": "stream",
     "text": [
      "\r",
      " 97%|█████████▋| 306M/315M [00:10<00:00, 31.3MB/s]\r",
      " 99%|█████████▊| 310M/315M [00:10<00:00, 32.0MB/s]"
     ]
    },
    {
     "name": "stderr",
     "output_type": "stream",
     "text": [
      "\r",
      "100%|█████████▉| 314M/315M [00:10<00:00, 31.6MB/s]\r",
      "100%|██████████| 315M/315M [00:10<00:00, 28.7MB/s]\n"
     ]
    },
    {
     "name": "stdout",
     "output_type": "stream",
     "text": [
      "patool: Extracting ./../data/multi-echo-data-analysis/sub-04570.zip ...\n",
      "patool: running /usr/bin/7z x -y -o./../data/multi-echo-data-analysis -- ./../data/multi-echo-data-analysis/sub-04570.zip\n"
     ]
    },
    {
     "name": "stdout",
     "output_type": "stream",
     "text": [
      "patool: ... ./../data/multi-echo-data-analysis/sub-04570.zip extracted to `./../data/multi-echo-data-analysis'.\n",
      "Info : sub-04570.zip Decompressed\n"
     ]
    }
   ],
   "source": [
    "import os\n",
    "\n",
    "from repo2data.repo2data import Repo2Data\n",
    "\n",
    "# Install the data if running locally, or point to cached data if running on neurolibre\n",
    "DATA_REQ_FILE = os.path.join(\"../binder/data_requirement.json\")\n",
    "\n",
    "# Download data\n",
    "repo2data = Repo2Data(DATA_REQ_FILE)\n",
    "data_path = repo2data.install()\n",
    "data_path = os.path.abspath(data_path[0])"
   ]
  }
 ],
 "metadata": {
  "jupytext": {
   "text_representation": {
    "extension": ".md",
    "format_name": "myst",
    "format_version": 0.13,
    "jupytext_version": "1.10.3"
   }
  },
  "kernelspec": {
   "display_name": "Python 3",
   "language": "python",
   "name": "python3"
  },
  "language_info": {
   "codemirror_mode": {
    "name": "ipython",
    "version": 3
   },
   "file_extension": ".py",
   "mimetype": "text/x-python",
   "name": "python",
   "nbconvert_exporter": "python",
   "pygments_lexer": "ipython3",
   "version": "3.8.18"
  },
  "source_map": [
   12,
   45
  ]
 },
 "nbformat": 4,
 "nbformat_minor": 5
}