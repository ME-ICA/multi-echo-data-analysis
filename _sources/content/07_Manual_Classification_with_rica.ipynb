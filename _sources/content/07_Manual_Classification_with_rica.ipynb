{
 "cells": [
  {
   "cell_type": "markdown",
   "id": "2b02b5cc",
   "metadata": {},
   "source": [
    "# Manual Classification with `rica`\n",
    "\n",
    "Reports for ICA (`rica`) is a web app that allows users to manually classify ICA components from decomposition-based denoising tools,\n",
    "like `tedana` and (some day) `aroma`.\n",
    "You can access the app at http://rica-fmri.netlify.app/."
   ]
  },
  {
   "cell_type": "code",
   "execution_count": 1,
   "id": "20024362",
   "metadata": {},
   "outputs": [
    {
     "data": {
      "text/html": [
       "\n",
       "        <iframe\n",
       "            width=\"100%\"\n",
       "            height=\"300\"\n",
       "            src=\"https://www.loom.com/embed/ad37cf6f3c2d41e48721f62168a8284e\"\n",
       "            frameborder=\"0\"\n",
       "            allowfullscreen\n",
       "            \n",
       "        ></iframe>\n",
       "        "
      ],
      "text/plain": [
       "<IPython.lib.display.IFrame at 0x7f1af4accb20>"
      ]
     },
     "execution_count": 1,
     "metadata": {},
     "output_type": "execute_result"
    }
   ],
   "source": [
    "from IPython.display import IFrame\n",
    "\n",
    "IFrame(src=\"https://www.loom.com/embed/ad37cf6f3c2d41e48721f62168a8284e\", width=\"100%\", height=300)"
   ]
  }
 ],
 "metadata": {
  "jupytext": {
   "text_representation": {
    "extension": ".md",
    "format_name": "myst",
    "format_version": 0.13,
    "jupytext_version": "1.10.3"
   }
  },
  "kernelspec": {
   "display_name": "Python 3",
   "language": "python",
   "name": "python3"
  },
  "language_info": {
   "codemirror_mode": {
    "name": "ipython",
    "version": 3
   },
   "file_extension": ".py",
   "mimetype": "text/x-python",
   "name": "python",
   "nbconvert_exporter": "python",
   "pygments_lexer": "ipython3",
   "version": "3.8.18"
  },
  "source_map": [
   12,
   20
  ]
 },
 "nbformat": 4,
 "nbformat_minor": 5
}