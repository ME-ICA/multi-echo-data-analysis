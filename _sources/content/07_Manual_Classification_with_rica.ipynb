{
 "cells": [
  {
   "cell_type": "markdown",
   "id": "66c0db8b",
   "metadata": {},
   "source": [
    "# Manual Classification with `rica`"
   ]
  }
 ],
 "metadata": {
  "jupytext": {
   "text_representation": {
    "extension": ".md",
    "format_name": "myst",
    "format_version": 0.13,
    "jupytext_version": "1.10.3"
   }
  },
  "kernelspec": {
   "display_name": "Python 3",
   "language": "python",
   "name": "python3"
  },
  "source_map": [
   12
  ]
 },
 "nbformat": 4,
 "nbformat_minor": 5
}