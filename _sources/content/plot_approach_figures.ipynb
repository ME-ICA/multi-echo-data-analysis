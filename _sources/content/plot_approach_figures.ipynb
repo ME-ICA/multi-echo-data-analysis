{
 "cells": [
  {
   "cell_type": "markdown",
   "id": "14e6d1af",
   "metadata": {},
   "source": [
    "# Generate tedana walkthrough figures\n",
    "\n",
    "```{important}\n",
    "The contents of this chapter will be moved into TE_Dependence and, to a lesser extent, Signal_Decay,\n",
    "and this chapter will be removed.\n",
    "```"
   ]
  },
  {
   "cell_type": "code",
   "execution_count": 1,
   "id": "9d4d4120",
   "metadata": {
    "tags": [
     "hide-cell"
    ]
   },
   "outputs": [
    {
     "name": "stdout",
     "output_type": "stream",
     "text": [
      "---- repo2data starting ----\n",
      "/opt/hostedtoolcache/Python/3.7.13/x64/lib/python3.7/site-packages/repo2data\n",
      "Config from file :\n",
      "../binder/data_requirement.json\n",
      "Destination:\n",
      "./../data/multi-echo-data-analysis\n",
      "\n",
      "Info : ./../data/multi-echo-data-analysis already downloaded\n"
     ]
    }
   ],
   "source": [
    "import os\n",
    "\n",
    "import matplotlib.pyplot as plt\n",
    "import nitransforms as nit\n",
    "import numpy as np\n",
    "import pandas as pd\n",
    "import seaborn as sns\n",
    "from myst_nb import glue\n",
    "from nilearn import image, masking, plotting\n",
    "from repo2data.repo2data import Repo2Data\n",
    "from tedana.io import load_data, new_nii_like\n",
    "from tedana.utils import make_adaptive_mask\n",
    "\n",
    "# Install the data if running locally, or point to cached data if running on neurolibre\n",
    "DATA_REQ_FILE = os.path.join(\"../binder/data_requirement.json\")\n",
    "\n",
    "# Download data\n",
    "repo2data = Repo2Data(DATA_REQ_FILE)\n",
    "data_path = repo2data.install()\n",
    "data_path = os.path.abspath(os.path.join(data_path[0], \"data\"))\n",
    "\n",
    "ted_dir = os.path.join(data_path, \"tedana\")"
   ]
  },
  {
   "cell_type": "markdown",
   "id": "68edaf43",
   "metadata": {},
   "source": [
    "## Load data"
   ]
  },
  {
   "cell_type": "code",
   "execution_count": 2,
   "id": "540c9fb0",
   "metadata": {
    "tags": [
     "hide-cell"
    ]
   },
   "outputs": [
    {
     "ename": "ValueError",
     "evalue": "(\"Input images cannot be compared, you provided 'dict_values(['/home/runner/work/multi-echo-data-analysis/multi-echo-data-analysis/data/multi-echo-data-analysis/data/tedana/sub-04570_task-rest_space-scanner_desc-adaptiveGoodSignal_mask.nii.gz'])',\", \"File not found: '/home/runner/work/multi-echo-data-analysis/multi-echo-data-analysis/data/multi-echo-data-analysis/data/tedana/sub-04570_task-rest_space-scanner_desc-adaptiveGoodSignal_mask.nii.gz'\")",
     "output_type": "error",
     "traceback": [
      "\u001b[0;31m---------------------------------------------------------------------------\u001b[0m",
      "\u001b[0;31mValueError\u001b[0m                                Traceback (most recent call last)",
      "\u001b[0;32m/tmp/ipykernel_2225/1468567380.py\u001b[0m in \u001b[0;36m<module>\u001b[0;34m\u001b[0m\n\u001b[1;32m     32\u001b[0m     \u001b[0mted_dir\u001b[0m\u001b[0;34m,\u001b[0m \u001b[0;34m\"sub-04570_task-rest_space-scanner_desc-adaptiveGoodSignal_mask.nii.gz\"\u001b[0m\u001b[0;34m\u001b[0m\u001b[0;34m\u001b[0m\u001b[0m\n\u001b[1;32m     33\u001b[0m )\n\u001b[0;32m---> 34\u001b[0;31m \u001b[0mmask\u001b[0m \u001b[0;34m=\u001b[0m \u001b[0mimage\u001b[0m\u001b[0;34m.\u001b[0m\u001b[0mmath_img\u001b[0m\u001b[0;34m(\u001b[0m\u001b[0;34m\"img >= 3\"\u001b[0m\u001b[0;34m,\u001b[0m \u001b[0mimg\u001b[0m\u001b[0;34m=\u001b[0m\u001b[0madaptive_mask_file\u001b[0m\u001b[0;34m)\u001b[0m\u001b[0;34m\u001b[0m\u001b[0;34m\u001b[0m\u001b[0m\n\u001b[0m\u001b[1;32m     35\u001b[0m \u001b[0;34m\u001b[0m\u001b[0m\n\u001b[1;32m     36\u001b[0m \u001b[0;31m# Optimally combined data\u001b[0m\u001b[0;34m\u001b[0m\u001b[0;34m\u001b[0m\u001b[0;34m\u001b[0m\u001b[0m\n",
      "\u001b[0;32m/opt/hostedtoolcache/Python/3.7.13/x64/lib/python3.7/site-packages/nilearn/image/image.py\u001b[0m in \u001b[0;36mmath_img\u001b[0;34m(formula, **imgs)\u001b[0m\n\u001b[1;32m    986\u001b[0m         \u001b[0mniimgs\u001b[0m \u001b[0;34m=\u001b[0m \u001b[0;34m[\u001b[0m\u001b[0;34m]\u001b[0m\u001b[0;34m\u001b[0m\u001b[0;34m\u001b[0m\u001b[0m\n\u001b[1;32m    987\u001b[0m         \u001b[0;32mfor\u001b[0m \u001b[0mimage\u001b[0m \u001b[0;32min\u001b[0m \u001b[0mimgs\u001b[0m\u001b[0;34m.\u001b[0m\u001b[0mvalues\u001b[0m\u001b[0;34m(\u001b[0m\u001b[0;34m)\u001b[0m\u001b[0;34m:\u001b[0m\u001b[0;34m\u001b[0m\u001b[0;34m\u001b[0m\u001b[0m\n\u001b[0;32m--> 988\u001b[0;31m             \u001b[0mniimgs\u001b[0m\u001b[0;34m.\u001b[0m\u001b[0mappend\u001b[0m\u001b[0;34m(\u001b[0m\u001b[0mcheck_niimg\u001b[0m\u001b[0;34m(\u001b[0m\u001b[0mimage\u001b[0m\u001b[0;34m)\u001b[0m\u001b[0;34m)\u001b[0m\u001b[0;34m\u001b[0m\u001b[0;34m\u001b[0m\u001b[0m\n\u001b[0m\u001b[1;32m    989\u001b[0m         \u001b[0m_check_same_fov\u001b[0m\u001b[0;34m(\u001b[0m\u001b[0;34m*\u001b[0m\u001b[0mniimgs\u001b[0m\u001b[0;34m,\u001b[0m \u001b[0mraise_error\u001b[0m\u001b[0;34m=\u001b[0m\u001b[0;32mTrue\u001b[0m\u001b[0;34m)\u001b[0m\u001b[0;34m\u001b[0m\u001b[0;34m\u001b[0m\u001b[0m\n\u001b[1;32m    990\u001b[0m     \u001b[0;32mexcept\u001b[0m \u001b[0mException\u001b[0m \u001b[0;32mas\u001b[0m \u001b[0mexc\u001b[0m\u001b[0;34m:\u001b[0m\u001b[0;34m\u001b[0m\u001b[0;34m\u001b[0m\u001b[0m\n",
      "\u001b[0;32m/opt/hostedtoolcache/Python/3.7.13/x64/lib/python3.7/site-packages/nilearn/_utils/niimg_conversions.py\u001b[0m in \u001b[0;36mcheck_niimg\u001b[0;34m(niimg, ensure_ndim, atleast_4d, dtype, return_iterator, wildcards)\u001b[0m\n\u001b[1;32m    269\u001b[0m                 \u001b[0;32mraise\u001b[0m \u001b[0mValueError\u001b[0m\u001b[0;34m(\u001b[0m\u001b[0mmessage\u001b[0m\u001b[0;34m)\u001b[0m\u001b[0;34m\u001b[0m\u001b[0;34m\u001b[0m\u001b[0m\n\u001b[1;32m    270\u001b[0m             \u001b[0;32melse\u001b[0m\u001b[0;34m:\u001b[0m\u001b[0;34m\u001b[0m\u001b[0;34m\u001b[0m\u001b[0m\n\u001b[0;32m--> 271\u001b[0;31m                 \u001b[0;32mraise\u001b[0m \u001b[0mValueError\u001b[0m\u001b[0;34m(\u001b[0m\u001b[0;34m\"File not found: '%s'\"\u001b[0m \u001b[0;34m%\u001b[0m \u001b[0mniimg\u001b[0m\u001b[0;34m)\u001b[0m\u001b[0;34m\u001b[0m\u001b[0;34m\u001b[0m\u001b[0m\n\u001b[0m\u001b[1;32m    272\u001b[0m         \u001b[0;32melif\u001b[0m \u001b[0;32mnot\u001b[0m \u001b[0mos\u001b[0m\u001b[0;34m.\u001b[0m\u001b[0mpath\u001b[0m\u001b[0;34m.\u001b[0m\u001b[0mexists\u001b[0m\u001b[0;34m(\u001b[0m\u001b[0mniimg\u001b[0m\u001b[0;34m)\u001b[0m\u001b[0;34m:\u001b[0m\u001b[0;34m\u001b[0m\u001b[0;34m\u001b[0m\u001b[0m\n\u001b[1;32m    273\u001b[0m             \u001b[0;32mraise\u001b[0m \u001b[0mValueError\u001b[0m\u001b[0;34m(\u001b[0m\u001b[0;34m\"File not found: '%s'\"\u001b[0m \u001b[0;34m%\u001b[0m \u001b[0mniimg\u001b[0m\u001b[0;34m)\u001b[0m\u001b[0;34m\u001b[0m\u001b[0;34m\u001b[0m\u001b[0m\n",
      "\u001b[0;31mValueError\u001b[0m: (\"Input images cannot be compared, you provided 'dict_values(['/home/runner/work/multi-echo-data-analysis/multi-echo-data-analysis/data/multi-echo-data-analysis/data/tedana/sub-04570_task-rest_space-scanner_desc-adaptiveGoodSignal_mask.nii.gz'])',\", \"File not found: '/home/runner/work/multi-echo-data-analysis/multi-echo-data-analysis/data/multi-echo-data-analysis/data/tedana/sub-04570_task-rest_space-scanner_desc-adaptiveGoodSignal_mask.nii.gz'\")"
     ]
    }
   ],
   "source": [
    "func_dir = os.path.join(data_path, \"sub-04570/func/\")\n",
    "data_files = [\n",
    "    os.path.join(\n",
    "        func_dir,\n",
    "        \"sub-04570_task-rest_echo-1_space-scanner_desc-partialPreproc_bold.nii.gz\",\n",
    "    ),\n",
    "    os.path.join(\n",
    "        func_dir,\n",
    "        \"sub-04570_task-rest_echo-2_space-scanner_desc-partialPreproc_bold.nii.gz\",\n",
    "    ),\n",
    "    os.path.join(\n",
    "        func_dir,\n",
    "        \"sub-04570_task-rest_echo-3_space-scanner_desc-partialPreproc_bold.nii.gz\",\n",
    "    ),\n",
    "    os.path.join(\n",
    "        func_dir,\n",
    "        \"sub-04570_task-rest_echo-4_space-scanner_desc-partialPreproc_bold.nii.gz\",\n",
    "    ),\n",
    "]\n",
    "echo_times = np.array([12.0, 28.0, 44.0, 60.0])\n",
    "\n",
    "# Background anatomical image\n",
    "xfm = os.path.join(\n",
    "    func_dir, \"sub-04570_task-rest_from-T1w_to-scanner_mode-image_xfm.txt\"\n",
    ")\n",
    "xfm = nit.linear.load(xfm, fmt=\"itk\")\n",
    "t1_file = os.path.join(data_path, \"sub-04570/anat/sub-04570_desc-preproc_T1w.nii.gz\")\n",
    "bg_img = xfm.apply(spatialimage=t1_file, reference=data_files[0])\n",
    "\n",
    "# Tedana outputs\n",
    "adaptive_mask_file = os.path.join(\n",
    "    ted_dir, \"sub-04570_task-rest_space-scanner_desc-adaptiveGoodSignal_mask.nii.gz\"\n",
    ")\n",
    "mask = image.math_img(\"img >= 3\", img=adaptive_mask_file)\n",
    "\n",
    "# Optimally combined data\n",
    "oc = masking.apply_mask(\n",
    "    os.path.join(ted_dir, \"sub-04570_task-rest_space-scanner_desc-optcom_bold.nii.gz\"),\n",
    "    mask,\n",
    ")\n",
    "oc_z = (oc - np.mean(oc, axis=0)) / np.std(oc, axis=0)\n",
    "\n",
    "# Results from MEPCA\n",
    "mepca_mmix = pd.read_table(\n",
    "    os.path.join(ted_dir, \"sub-04570_task-rest_space-scanner_desc-PCA_mixing.tsv\"),\n",
    ").values\n",
    "oc_red = masking.apply_mask(\n",
    "    os.path.join(\n",
    "        ted_dir, \"sub-04570_task-rest_space-scanner_desc-optcomPCAReduced_bold.nii.gz\"\n",
    "    ),\n",
    "    mask,\n",
    ")\n",
    "\n",
    "# Results from MEICA\n",
    "meica_mmix = pd.read_table(\n",
    "    os.path.join(ted_dir, \"sub-04570_task-rest_space-scanner_desc-ICA_mixing.tsv\"),\n",
    ").values\n",
    "norm_weights = masking.apply_mask(\n",
    "    os.path.join(\n",
    "        ted_dir,\n",
    "        \"sub-04570_task-rest_space-scanner_desc-ICAAveragingWeights_components.nii.gz\",\n",
    "    ),\n",
    "    mask,\n",
    ")\n",
    "meica_betas = np.dstack(\n",
    "    (\n",
    "        masking.apply_mask(\n",
    "            os.path.join(\n",
    "                ted_dir,\n",
    "                \"sub-04570_task-rest_space-scanner_echo-1_desc-ICA_components.nii.gz\",\n",
    "            ),\n",
    "            mask,\n",
    "        ).T,\n",
    "        masking.apply_mask(\n",
    "            os.path.join(\n",
    "                ted_dir,\n",
    "                \"sub-04570_task-rest_space-scanner_echo-2_desc-ICA_components.nii.gz\",\n",
    "            ),\n",
    "            mask,\n",
    "        ).T,\n",
    "        masking.apply_mask(\n",
    "            os.path.join(\n",
    "                ted_dir,\n",
    "                \"sub-04570_task-rest_space-scanner_echo-3_desc-ICA_components.nii.gz\",\n",
    "            ),\n",
    "            mask,\n",
    "        ).T,\n",
    "        masking.apply_mask(\n",
    "            os.path.join(\n",
    "                ted_dir,\n",
    "                \"sub-04570_task-rest_space-scanner_echo-4_desc-ICA_components.nii.gz\",\n",
    "            ),\n",
    "            mask,\n",
    "        ).T,\n",
    "    )\n",
    ")\n",
    "meica_betas = np.swapaxes(meica_betas, 1, 2)\n",
    "r2_pred_betas = np.dstack(\n",
    "    (\n",
    "        masking.apply_mask(\n",
    "            os.path.join(\n",
    "                ted_dir,\n",
    "                \"sub-04570_task-rest_space-scanner_echo-1_desc-ICAT2ModelPredictions_components.nii.gz\",\n",
    "            ),\n",
    "            mask,\n",
    "        ).T,\n",
    "        masking.apply_mask(\n",
    "            os.path.join(\n",
    "                ted_dir,\n",
    "                \"sub-04570_task-rest_space-scanner_echo-2_desc-ICAT2ModelPredictions_components.nii.gz\",\n",
    "            ),\n",
    "            mask,\n",
    "        ).T,\n",
    "        masking.apply_mask(\n",
    "            os.path.join(\n",
    "                ted_dir,\n",
    "                \"sub-04570_task-rest_space-scanner_echo-3_desc-ICAT2ModelPredictions_components.nii.gz\",\n",
    "            ),\n",
    "            mask,\n",
    "        ).T,\n",
    "        masking.apply_mask(\n",
    "            os.path.join(\n",
    "                ted_dir,\n",
    "                \"sub-04570_task-rest_space-scanner_echo-4_desc-ICAT2ModelPredictions_components.nii.gz\",\n",
    "            ),\n",
    "            mask,\n",
    "        ).T,\n",
    "    )\n",
    ")\n",
    "r2_pred_betas = np.swapaxes(r2_pred_betas, 1, 2)\n",
    "s0_pred_betas = np.dstack(\n",
    "    (\n",
    "        masking.apply_mask(\n",
    "            os.path.join(\n",
    "                ted_dir,\n",
    "                \"sub-04570_task-rest_space-scanner_echo-1_desc-ICAS0ModelPredictions_components.nii.gz\",\n",
    "            ),\n",
    "            mask,\n",
    "        ).T,\n",
    "        masking.apply_mask(\n",
    "            os.path.join(\n",
    "                ted_dir,\n",
    "                \"sub-04570_task-rest_space-scanner_echo-2_desc-ICAS0ModelPredictions_components.nii.gz\",\n",
    "            ),\n",
    "            mask,\n",
    "        ).T,\n",
    "        masking.apply_mask(\n",
    "            os.path.join(\n",
    "                ted_dir,\n",
    "                \"sub-04570_task-rest_space-scanner_echo-3_desc-ICAS0ModelPredictions_components.nii.gz\",\n",
    "            ),\n",
    "            mask,\n",
    "        ).T,\n",
    "        masking.apply_mask(\n",
    "            os.path.join(\n",
    "                ted_dir,\n",
    "                \"sub-04570_task-rest_space-scanner_echo-4_desc-ICAS0ModelPredictions_components.nii.gz\",\n",
    "            ),\n",
    "            mask,\n",
    "        ).T,\n",
    "    )\n",
    ")\n",
    "s0_pred_betas = np.swapaxes(s0_pred_betas, 1, 2)\n",
    "\n",
    "# Component parameter estimates\n",
    "betas_file = os.path.join(\n",
    "    ted_dir, \"sub-04570_task-rest_space-scanner_desc-ICA_components.nii.gz\"\n",
    ")\n",
    "beta_maps = masking.apply_mask(betas_file, mask)\n",
    "\n",
    "# Multi-echo denoised data\n",
    "dn_data = masking.apply_mask(\n",
    "    os.path.join(\n",
    "        ted_dir, \"sub-04570_task-rest_space-scanner_desc-optcomDenoised_bold.nii.gz\"\n",
    "    ),\n",
    "    mask,\n",
    ")\n",
    "hk_data = masking.apply_mask(\n",
    "    os.path.join(\n",
    "        ted_dir, \"sub-04570_task-rest_space-scanner_desc-optcomAccepted_bold.nii.gz\"\n",
    "    ),\n",
    "    mask,\n",
    ")\n",
    "\n",
    "# Post-processed data\n",
    "dn_t1c_data = masking.apply_mask(\n",
    "    os.path.join(\n",
    "        ted_dir, \"sub-04570_task-rest_space-scanner_desc-optcomMIRDenoised_bold.nii.gz\"\n",
    "    ),\n",
    "    mask,\n",
    ")\n",
    "hk_t1c_data = masking.apply_mask(\n",
    "    os.path.join(\n",
    "        ted_dir, \"sub-04570_task-rest_space-scanner_desc-optcomAccepted_bold.nii.gz\"\n",
    "    ),\n",
    "    mask,\n",
    ")\n",
    "\n",
    "# Component table\n",
    "comp_tbl = pd.read_table(\n",
    "    os.path.join(ted_dir, \"sub-04570_task-rest_space-scanner_desc-tedana_metrics.tsv\"),\n",
    "    index_col=\"Component\",\n",
    ")\n",
    "\n",
    "# Get voxel index for voxel most related to component with highest kappa value\n",
    "acc_comp_tbl = comp_tbl.loc[comp_tbl[\"classification\"] == \"accepted\"]\n",
    "high_kappa_comp = acc_comp_tbl.sort_values(by=\"kappa\", ascending=False).index.values[0]\n",
    "high_kappa_comp_val = int(high_kappa_comp.split(\"_\")[1])\n",
    "voxel_idx = np.where(\n",
    "    beta_maps[high_kappa_comp_val, :] == np.max(beta_maps[high_kappa_comp_val, :])\n",
    ")[0][0]\n",
    "\n",
    "rej_comp_tbl = comp_tbl.loc[comp_tbl[\"classification\"] == \"rejected\"]\n",
    "low_kappa_comp = rej_comp_tbl.sort_values(by=\"rho\", ascending=False).index.values[0]\n",
    "\n",
    "# load data\n",
    "data = [masking.apply_mask(f, mask) for f in data_files]\n",
    "ts = [d[:, voxel_idx] for d in data]\n",
    "ts_1d = np.hstack(ts)\n",
    "\n",
    "n_echoes = len(echo_times)\n",
    "n_trs = data[0].shape[0]\n",
    "\n",
    "pal = sns.color_palette(\"cubehelix\", n_echoes)"
   ]
  },
  {
   "cell_type": "code",
   "execution_count": null,
   "id": "23902a45",
   "metadata": {
    "tags": [
     "hide-cell"
    ]
   },
   "outputs": [],
   "source": [
    "# Prepare data for model\n",
    "log_data = np.log(np.abs(ts_1d) + 1)\n",
    "# log_data = np.log(ts_1d)  # in a perfect world...\n",
    "x = np.column_stack([np.ones(n_echoes), -1 * echo_times])\n",
    "X = np.repeat(x, n_trs, axis=0)  # T * E\n",
    "\n",
    "# Model fit\n",
    "betas = np.linalg.lstsq(X, log_data, rcond=None)[0]\n",
    "s0 = np.exp(betas[0])\n",
    "r2s = betas[1]\n",
    "t2s = 1.0 / r2s\n",
    "\n",
    "# Values for plots\n",
    "# Values from log-linear model\n",
    "log_x = np.arange(-1000, 0, 0.01)\n",
    "log_y = betas[0] + log_x * betas[1]\n",
    "\n",
    "# Values from monoexponential decay model\n",
    "mono_x = np.arange(0, 1000, 0.01)\n",
    "mono_y = np.exp(-1 * betas[1] * mono_x) * s0\n",
    "\n",
    "# Get weights for optimal combination\n",
    "alpha = echo_times * np.exp(-echo_times / t2s)\n",
    "alpha = alpha / np.sum(alpha)  # unnecessary but good for bar plot below\n",
    "\n",
    "# Combine data across echoes\n",
    "oc_manual = np.average(np.vstack(ts), axis=0, weights=alpha)"
   ]
  },
  {
   "cell_type": "markdown",
   "id": "602b8bd1",
   "metadata": {},
   "source": [
    "### Echo-specific timeseries"
   ]
  },
  {
   "cell_type": "code",
   "execution_count": null,
   "id": "e097aba8",
   "metadata": {
    "tags": [
     "hide-cell"
    ]
   },
   "outputs": [],
   "source": [
    "fig, axes = plt.subplots(n_echoes, sharex=True, sharey=False, figsize=(14, 6))\n",
    "for i_echo in range(n_echoes):\n",
    "    axes[i_echo].plot(ts[i_echo], color=pal[i_echo])\n",
    "    axes[i_echo].set_ylabel(\n",
    "        f\"{echo_times[i_echo]}ms\", rotation=0, va=\"center\", ha=\"right\", fontsize=14\n",
    "    )\n",
    "    axes[i_echo].set_yticks([])\n",
    "    axes[i_echo].set_xticks([])\n",
    "\n",
    "axes[-1].set_xlabel(\"Time\", fontsize=16)\n",
    "axes[-1].set_xlim(0, len(ts[i_echo]) - 1)\n",
    "fig.tight_layout()\n",
    "glue(\"fig_echo_timeseries2\", fig, display=False)"
   ]
  },
  {
   "cell_type": "markdown",
   "id": "b77e879c",
   "metadata": {},
   "source": [
    "```{glue:figure} fig_echo_timeseries2\n",
    ":name: fig_echo_timeseries2\n",
    ":align: center\n",
    "\n",
    "Time series from a voxel for each echo.\n",
    "```\n",
    "\n",
    "### Echo-specific data and echo time"
   ]
  },
  {
   "cell_type": "code",
   "execution_count": null,
   "id": "28b36f9f",
   "metadata": {
    "tags": [
     "hide-cell"
    ]
   },
   "outputs": [],
   "source": [
    "fig, ax = plt.subplots(figsize=(14, 6))\n",
    "values = [i[0] for i in ts]\n",
    "for i_echo in range(n_echoes):\n",
    "    rep_echo_times = np.ones(n_trs) * echo_times[i_echo]\n",
    "    ax.scatter(rep_echo_times, ts[i_echo], alpha=0.05, color=pal[i_echo])\n",
    "\n",
    "ax.set_ylabel(\"BOLD signal\", fontsize=16)\n",
    "ax.set_xlabel(\"Echo Time (ms)\", fontsize=16)\n",
    "ax.set_xticks(echo_times)\n",
    "ax.tick_params(axis=\"both\", which=\"major\", labelsize=14)\n",
    "ax.set_xlim(0, 70)\n",
    "ax.set_ylim(0, 3000)\n",
    "fig.tight_layout()\n",
    "glue(\"fig_echo_scatter2\", fig, display=False)"
   ]
  },
  {
   "cell_type": "markdown",
   "id": "935c609b",
   "metadata": {},
   "source": [
    "```{glue:figure} fig_echo_scatter2\n",
    ":name: fig_echo_scatter2\n",
    ":align: center\n",
    "\n",
    "Scatter plot of voxel's values by echo time.\n",
    "```\n",
    "\n",
    "### Adaptive mask\n",
    "Longer echo times are more susceptible to signal dropout, which means that certain brain regions\n",
    "(e.g., orbitofrontal cortex, temporal poles) will only have good signal for some echoes.\n",
    "In order to avoid using bad signal from affected echoes in calculating $T_{2}^*$ and $S_{0}$ for a given voxel,\n",
    "`tedana` generates an adaptive mask, where the value for each voxel is the number of echoes with \"good\" signal.\n",
    "When $T_{2}^*$ and $S_{0}$ are calculated below, each voxel's values are only calculated from the first $n$ echoes,\n",
    "where $n$ is the value for that voxel in the adaptive mask."
   ]
  },
  {
   "cell_type": "code",
   "execution_count": null,
   "id": "a20e67f6",
   "metadata": {
    "tags": [
     "hide-cell"
    ]
   },
   "outputs": [],
   "source": [
    "mask_img = masking.compute_epi_mask(data_files[0])\n",
    "data, img = load_data(data_files, len(echo_times))\n",
    "mask, adaptive_mask = make_adaptive_mask(data, mask=mask_img, getsum=True)\n",
    "\n",
    "adaptive_mask_img = new_nii_like(img, adaptive_mask)\n",
    "\n",
    "fig, ax = plt.subplots(figsize=(10, 4))\n",
    "palette = sns.color_palette(\"BuGn_r\", 10)\n",
    "plotting.plot_stat_map(\n",
    "    adaptive_mask_img,\n",
    "    vmax=n_echoes,\n",
    "    # alpha=0.5,\n",
    "    threshold=1.0,\n",
    "    draw_cross=False,\n",
    "    colorbar=True,\n",
    "    cmap=\"Blues\",\n",
    "    annotate=False,\n",
    "    bg_img=bg_img,\n",
    "    figure=fig,\n",
    "    axes=ax,\n",
    ")\n",
    "glue(\"fig_adaptive_mask\", fig, display=False)"
   ]
  },
  {
   "cell_type": "markdown",
   "id": "c4f24008",
   "metadata": {},
   "source": [
    "```{glue:figure} fig_adaptive_mask\n",
    ":name: fig_adaptive_mask\n",
    ":align: center\n",
    "\n",
    "Adaptive mask.\n",
    "```\n",
    "\n",
    "### Log-linear transformation"
   ]
  },
  {
   "cell_type": "code",
   "execution_count": null,
   "id": "0d31db99",
   "metadata": {
    "tags": [
     "hide-cell"
    ]
   },
   "outputs": [],
   "source": [
    "fig, ax = plt.subplots(figsize=(14, 6))\n",
    "for i_echo in range(n_echoes):\n",
    "    rep_echo_times = -1 * np.ones(n_trs) * echo_times[i_echo]\n",
    "    log_echo_data = np.log((np.abs(ts[i_echo]) + 1))\n",
    "    ax.scatter(rep_echo_times, log_echo_data, alpha=0.05, color=pal[i_echo])\n",
    "\n",
    "ax.set_ylabel(\"log(BOLD signal)\", fontsize=16)\n",
    "ax.set_xlabel(\"Negative Echo Time (ms)\", fontsize=16)\n",
    "ax.set_xticks(-1 * echo_times)\n",
    "ax.set_xlim(-70, 0)\n",
    "ax.set_ylim(4, 8)\n",
    "ax.tick_params(axis=\"both\", which=\"major\", labelsize=14)\n",
    "\n",
    "fig.tight_layout()\n",
    "glue(\"fig_loglin_scatter\", fig, display=False)"
   ]
  },
  {
   "cell_type": "markdown",
   "id": "43af2c3f",
   "metadata": {},
   "source": [
    "```{glue:figure} fig_loglin_scatter\n",
    ":name: fig_loglin_scatter\n",
    ":align: center\n",
    "\n",
    "Scatter plot of voxel's signal for each echo, after log-linear transformation.\n",
    "```\n",
    "\n",
    "### Log-linear model\n",
    "Let $S$ be the BOLD signal for a given echo.\n",
    "\n",
    "Let $TE$ be the echo time in milliseconds.\n",
    "\n",
    "```{math}\n",
    ":label: log_linear_model\n",
    "\\log_{e}(\\left|\\begin{pmatrix}\n",
    "S(TE_{1}) \\\\\n",
    "S(TE_{2}) \\\\\n",
    "\\vdots \\\\\n",
    "S(TE_{n})\\end{pmatrix}\\right|\n",
    "+\n",
    "\\begin{pmatrix}\n",
    "1 \\\\\n",
    "1 \\\\\n",
    "\\vdots \\\\\n",
    "1\\end{pmatrix}\n",
    ") = B_{1}\n",
    "\\begin{pmatrix}\n",
    "-TE_{1} \\\\\n",
    "-TE_{2} \\\\\n",
    "\\vdots \\\\\n",
    "-TE_{n}\\end{pmatrix} +\n",
    "\\begin{pmatrix}\n",
    "B_{0} \\\\\n",
    "B_{0} \\\\\n",
    "\\vdots \\\\\n",
    "B_{0}\\end{pmatrix}\n",
    "```"
   ]
  },
  {
   "cell_type": "code",
   "execution_count": null,
   "id": "4f44f8e4",
   "metadata": {
    "tags": [
     "hide-cell"
    ]
   },
   "outputs": [],
   "source": [
    "fig, ax = plt.subplots(figsize=(14, 6))\n",
    "for i_echo in range(n_echoes):\n",
    "    rep_echo_times = -1 * np.ones(n_trs) * echo_times[i_echo]\n",
    "    log_echo_data = np.log((np.abs(ts[i_echo]) + 1))\n",
    "    ax.scatter(rep_echo_times, log_echo_data, alpha=0.05, color=pal[i_echo])\n",
    "\n",
    "ax.plot(log_x, log_y)\n",
    "\n",
    "ax.set_ylabel(\"log(BOLD signal)\", fontsize=16)\n",
    "ax.set_xlabel(\"Negative Echo Time (ms)\", fontsize=16)\n",
    "ax.set_xticks(-1 * echo_times)\n",
    "ax.set_xlim(-70, 0)\n",
    "ax.set_ylim(5, 8)\n",
    "ax.tick_params(axis=\"both\", which=\"major\", labelsize=14)\n",
    "\n",
    "ax.annotate(\n",
    "    \"$B_0$: {0:.02f}\\n$B_1$: {1:.02f}\".format(betas[0], betas[1]),\n",
    "    xy=(-70, 9.5),\n",
    "    fontsize=16,\n",
    "    bbox=dict(fc=\"white\", ec=\"black\", lw=1),\n",
    ")\n",
    "\n",
    "fig.tight_layout()\n",
    "glue(\"fig_loglin_scatter_with_line\", fig, display=False)"
   ]
  },
  {
   "cell_type": "markdown",
   "id": "d56a7513",
   "metadata": {},
   "source": [
    "```{glue:figure} fig_loglin_scatter_with_line\n",
    ":name: fig_loglin_scatter_with_line\n",
    ":align: center\n",
    "\n",
    "Scatter plot of voxel's signal for each echo, after log-linear transformation, with fitted line.\n",
    "```\n",
    "\n",
    "## Monoexponential decay model\n",
    "Calculation of $S_{0}$ and $T_{2}^{*}$\n",
    "\n",
    "```{math}\n",
    ":label: monoexponential_decay_s0\n",
    "S_{0} = e^{B_{0}}\n",
    "```\n",
    "\n",
    "```{math}\n",
    ":label: monoexponential_decay_t2s\n",
    "T_{2}^{*} = \\frac{1}{B_{1}}\n",
    "```"
   ]
  },
  {
   "cell_type": "code",
   "execution_count": null,
   "id": "8fb9e814",
   "metadata": {
    "tags": [
     "hide-cell"
    ]
   },
   "outputs": [],
   "source": [
    "fig, ax = plt.subplots(figsize=(14, 6))\n",
    "for i_echo in range(n_echoes):\n",
    "    rep_echo_times = np.ones(n_trs) * echo_times[i_echo]\n",
    "    ax.scatter(rep_echo_times, ts[i_echo], alpha=0.05, color=pal[i_echo])\n",
    "\n",
    "ax.plot(mono_x, mono_y)\n",
    "\n",
    "ax.set_ylabel(\"BOLD signal\", fontsize=16)\n",
    "ax.set_xlabel(\"Echo Time (ms)\", fontsize=16)\n",
    "ax.set_xticks(echo_times)\n",
    "ax.set_xlim(0, 70)\n",
    "ax.set_ylim(0, 3000)\n",
    "ax.tick_params(axis=\"both\", which=\"major\", labelsize=14)\n",
    "ax.annotate(\n",
    "    \"$S_0$: {0:.02f}\\n$T_2^*$: {1:.02f}\".format(s0, t2s),\n",
    "    xy=(86.5, 13500),\n",
    "    fontsize=16,\n",
    "    bbox=dict(fc=\"white\", ec=\"black\", lw=1),\n",
    ")\n",
    "\n",
    "fig.tight_layout()\n",
    "glue(\"fig_loglin_scatter_with_t2s\", fig, display=False)"
   ]
  },
  {
   "cell_type": "markdown",
   "id": "094a0794",
   "metadata": {},
   "source": [
    "```{glue:figure} fig_loglin_scatter_with_t2s\n",
    ":name: fig_loglin_scatter_with_t2s\n",
    ":align: center\n",
    "\n",
    "Scatter plot of voxel's signal for each echo, after log-linear transformation, with fitted line and T2* estimate.\n",
    "```\n",
    "\n",
    "### T2*"
   ]
  },
  {
   "cell_type": "code",
   "execution_count": null,
   "id": "fa7e02a3",
   "metadata": {
    "tags": [
     "hide-cell"
    ]
   },
   "outputs": [],
   "source": [
    "fig, ax = plt.subplots(figsize=(14, 6))\n",
    "for i_echo in range(n_echoes):\n",
    "    rep_echo_times = np.ones(n_trs) * echo_times[i_echo]\n",
    "    ax.scatter(rep_echo_times, ts[i_echo], alpha=0.05, color=pal[i_echo])\n",
    "\n",
    "ax.plot(mono_x, mono_y)\n",
    "\n",
    "ax.axvline(t2s, 0, 1, label=\"$T_2^*$\", color=\"black\", linestyle=\"--\", alpha=0.5)\n",
    "ax.set_ylabel(\"BOLD signal\", fontsize=16)\n",
    "ax.set_xlabel(\"Echo Time (ms)\", fontsize=16)\n",
    "ax.set_xticks(np.hstack((echo_times, [np.round(t2s, 1)])))\n",
    "ax.set_xlim(0, 70)\n",
    "ax.set_ylim(0, 3000)\n",
    "ax.tick_params(axis=\"both\", which=\"major\", labelsize=14)\n",
    "ax.xaxis.get_major_ticks()[-1].set_pad(20)\n",
    "\n",
    "legend = ax.legend(frameon=True, fontsize=16)\n",
    "\n",
    "fig.tight_layout()\n",
    "glue(\"fig_scatter_with_t2s\", fig, display=False)"
   ]
  },
  {
   "cell_type": "markdown",
   "id": "77995f8e",
   "metadata": {},
   "source": [
    "```{glue:figure} fig_scatter_with_t2s\n",
    ":name: fig_scatter_with_t2s\n",
    ":align: center\n",
    "\n",
    "Scatter plot of voxel's signal for each echo with T2* estimate.\n",
    "```\n",
    "### Optimal combination weights"
   ]
  },
  {
   "cell_type": "code",
   "execution_count": null,
   "id": "03142557",
   "metadata": {
    "tags": [
     "hide-cell"
    ]
   },
   "outputs": [],
   "source": [
    "fig, ax = plt.subplots()\n",
    "sns.barplot(echo_times, alpha, ax=ax, palette=pal)\n",
    "ax.set_ylabel(\"Weight\", fontsize=16)\n",
    "ax.set_xlabel(\"Echo Time (ms)\", fontsize=16)\n",
    "ax.tick_params(axis=\"both\", which=\"major\", labelsize=14)\n",
    "fig.tight_layout()\n",
    "glue(\"fig_optcom_weights\", fig, display=False)"
   ]
  },
  {
   "cell_type": "markdown",
   "id": "404a9fe0",
   "metadata": {},
   "source": [
    "```{glue:figure} fig_optcom_weights\n",
    ":name: fig_optcom_weights\n",
    ":align: center\n",
    "\n",
    "Averaging weights for optimal combination.\n",
    "```\n",
    "\n",
    "### Optimally combined timeseries"
   ]
  },
  {
   "cell_type": "code",
   "execution_count": null,
   "id": "7a413aac",
   "metadata": {
    "tags": [
     "hide-cell"
    ]
   },
   "outputs": [],
   "source": [
    "fig, ax = plt.subplots(figsize=(14, 6))\n",
    "for i_echo in range(n_echoes):\n",
    "    rep_echo_times = np.ones(n_trs) * echo_times[i_echo]\n",
    "    ax.scatter(rep_echo_times, ts[i_echo], alpha=0.05, color=pal[i_echo])\n",
    "\n",
    "ax.plot(mono_x, mono_y)\n",
    "\n",
    "# Optimal combination\n",
    "rep_t2s = np.ones(n_trs) * t2s\n",
    "ax.scatter(\n",
    "    rep_t2s, oc_manual, alpha=0.9, color=\"red\", label=\"Optimally\\ncombined\\ndata\"\n",
    ")\n",
    "\n",
    "ax.axvline(t2s, 0, 20000, label=\"$T_2^*$\", color=\"black\", linestyle=\"--\", alpha=0.5)\n",
    "ax.set_ylabel(\"BOLD signal\", fontsize=16)\n",
    "ax.set_xlabel(\"Echo Time (ms)\", fontsize=16)\n",
    "ax.set_xticks(np.hstack((echo_times, [np.round(t2s, 1)])))\n",
    "ax.set_xlim(0, 70)\n",
    "ax.set_ylim(0, 3000)\n",
    "ax.tick_params(axis=\"both\", which=\"major\", labelsize=14)\n",
    "ax.xaxis.get_major_ticks()[-1].set_pad(20)\n",
    "\n",
    "legend = ax.legend(frameon=True, fontsize=16)\n",
    "\n",
    "fig.tight_layout()\n",
    "glue(\"fig_scatter_with_optcom\", fig, display=False)"
   ]
  },
  {
   "cell_type": "markdown",
   "id": "2dc94caf",
   "metadata": {},
   "source": [
    "```{glue:figure} fig_scatter_with_optcom\n",
    ":name: fig_scatter_with_optcom\n",
    ":align: center\n",
    "\n",
    "Scatter plot of voxel's signal for each echo with optimally combined signal as well.\n",
    "```\n",
    "\n",
    "### Optimally combined timeseries"
   ]
  },
  {
   "cell_type": "code",
   "execution_count": null,
   "id": "89421672",
   "metadata": {
    "tags": [
     "hide-cell"
    ]
   },
   "outputs": [],
   "source": [
    "fig, axes = plt.subplots(n_echoes + 1, sharex=True, sharey=False, figsize=(14, 6))\n",
    "for i_echo in range(n_echoes):\n",
    "    axes[i_echo].plot(ts[i_echo], color=pal[i_echo])\n",
    "    axes[i_echo].set_ylabel(\n",
    "        f\"{echo_times[i_echo]}ms\", rotation=0, va=\"center\", ha=\"right\", fontsize=14\n",
    "    )\n",
    "    axes[i_echo].set_yticks([])\n",
    "    axes[i_echo].set_xticks([])\n",
    "\n",
    "axes[-1].plot(oc_manual, color=\"red\")\n",
    "axes[-1].set_ylabel(\n",
    "    \"Optimally\\ncombined\\ndata\", rotation=0, va=\"center\", ha=\"right\", fontsize=14\n",
    ")\n",
    "axes[-1].set_xlabel(\"Time\", fontsize=16)\n",
    "axes[-1].set_yticks([])\n",
    "axes[-1].set_xticks([])\n",
    "axes[-1].set_xlim(0, len(ts[i_echo]) - 1)\n",
    "ax.tick_params(axis=\"both\", which=\"major\", labelsize=14)\n",
    "fig.tight_layout()\n",
    "glue(\"fig_echo_timeseries_with_optcom\", fig, display=False)"
   ]
  },
  {
   "cell_type": "markdown",
   "id": "ab01891f",
   "metadata": {},
   "source": [
    "```{glue:figure} fig_echo_timeseries_with_optcom\n",
    ":name: fig_echo_timeseries_with_optcom\n",
    ":align: center\n",
    "\n",
    "Echo-wise time series for a voxel, including the optimally combined time series.\n",
    "```\n",
    "\n",
    "### Multi-Echo Principal Components Analysis\n",
    "Optimally combined data are decomposed with PCA.\n",
    "The PCA components are selected according to one of multiple possible approaches.\n",
    "Two possible approaches are a decision tree and a threshold using the percentage of variance explained by each component."
   ]
  },
  {
   "cell_type": "code",
   "execution_count": null,
   "id": "49186778",
   "metadata": {
    "tags": [
     "hide-cell"
    ]
   },
   "outputs": [],
   "source": [
    "fig, axes = plt.subplots(3, sharex=True, figsize=(14, 6))\n",
    "axes[-1].set_xlim(0, mepca_mmix.shape[0] - 1)\n",
    "axes[-1].set_xticks([])\n",
    "axes[-1].set_xlabel(\"Time\", fontsize=16)\n",
    "\n",
    "for comp_to_plot in [0, 1, 2]:\n",
    "    axes[comp_to_plot].plot(mepca_mmix[:, comp_to_plot])\n",
    "    axes[comp_to_plot].set_title(f\"PCA Component {comp_to_plot}\", fontsize=16)\n",
    "    axes[comp_to_plot].tick_params(axis=\"both\", which=\"major\", labelsize=12)\n",
    "\n",
    "fig.tight_layout()\n",
    "glue(\"fig_pca_timeseries\", fig, display=False)"
   ]
  },
  {
   "cell_type": "markdown",
   "id": "23e7b13d",
   "metadata": {},
   "source": [
    "```{glue:figure} fig_pca_timeseries\n",
    ":name: fig_pca_timeseries\n",
    ":align: center\n",
    "\n",
    "Time series of three PCA components.\n",
    "```\n",
    "\n",
    "## Data Whitening\n",
    "The selected components from the PCA are recombined to produce a whitened version of the optimally combined data."
   ]
  },
  {
   "cell_type": "code",
   "execution_count": null,
   "id": "83a8d398",
   "metadata": {
    "tags": [
     "hide-cell"
    ]
   },
   "outputs": [],
   "source": [
    "fig, ax = plt.subplots(figsize=(14, 6))\n",
    "ax.plot(oc_red[:, voxel_idx], label=\"Dimensionally reduced timeseries\", zorder=1.0)\n",
    "ax.plot(\n",
    "    oc_z[:, voxel_idx], label=\"Original timeseries\", alpha=0.5, zorder=0.0, linewidth=3\n",
    ")\n",
    "legend = ax.legend(frameon=True, fontsize=16, loc=\"upper right\", framealpha=1)\n",
    "ax.set_xlim(0, oc_z.shape[0] - 1)\n",
    "ax.set_xticks([])\n",
    "ax.set_xlabel(\"Time\", fontsize=16)\n",
    "ax.tick_params(axis=\"both\", which=\"major\", labelsize=14)\n",
    "glue(\"fig_optcom_reduced_timeseries\", fig, display=False)"
   ]
  },
  {
   "cell_type": "markdown",
   "id": "7c9346fc",
   "metadata": {},
   "source": [
    "```{glue:figure} fig_optcom_reduced_timeseries\n",
    ":name: fig_optcom_reduced_timeseries\n",
    ":align: center\n",
    "\n",
    "Time series of optimally combined data from a voxel, before and after dimensionality reduction with PCA.\n",
    "```\n",
    "\n",
    "### Multi-Echo Independent Components Analysis\n",
    "The whitened optimally combined data are then decomposed with ICA.\n",
    "The number of ICA components is limited to the number of retained components from the PCA,\n",
    "in order to reflect the true dimensionality of the data.\n",
    "ICA produces a mixing matrix (i.e., timeseries for each component)."
   ]
  },
  {
   "cell_type": "code",
   "execution_count": null,
   "id": "e124e00d",
   "metadata": {
    "tags": [
     "hide-cell"
    ]
   },
   "outputs": [],
   "source": [
    "fig, axes = plt.subplots(3, sharex=True, figsize=(14, 6))\n",
    "\n",
    "comps_to_plot = [high_kappa_comp, low_kappa_comp, \"ICA_00\"]\n",
    "\n",
    "for i_comp, comp_to_plot in enumerate(comps_to_plot):\n",
    "    idx = int(comp_to_plot.split(\"_\")[1])\n",
    "    k = comp_tbl.loc[comp_to_plot, \"kappa\"]\n",
    "    r = comp_tbl.loc[comp_to_plot, \"rho\"]\n",
    "    c = comp_tbl.loc[comp_to_plot, \"classification\"]\n",
    "    axes[i_comp].plot(meica_mmix[:, idx])\n",
    "    axes[i_comp].set_title(\n",
    "        \"ICA Component {0}; $\\\\kappa$ = {1:.02f}; $\\\\rho$ = {2:.02f}; {3}\".format(\n",
    "            comp_to_plot, k, r, c\n",
    "        ),\n",
    "        fontsize=16,\n",
    "    )\n",
    "\n",
    "axes[0].set_xlim(0, meica_mmix.shape[0] - 1)\n",
    "axes[2].set_xticks([])\n",
    "axes[2].set_xlabel(\"Time\", fontsize=16)\n",
    "axes[0].tick_params(axis=\"both\", which=\"major\", labelsize=12)\n",
    "axes[1].tick_params(axis=\"both\", which=\"major\", labelsize=12)\n",
    "axes[2].tick_params(axis=\"both\", which=\"major\", labelsize=12)\n",
    "fig.tight_layout()\n",
    "glue(\"fig_ica_timeseries\", fig, display=False)"
   ]
  },
  {
   "cell_type": "markdown",
   "id": "2a75d16f",
   "metadata": {},
   "source": [
    "```{glue:figure} fig_ica_timeseries\n",
    ":name: fig_ica_timeseries\n",
    ":align: center\n",
    "\n",
    "Time series of three ICA components.\n",
    "```\n",
    "\n",
    "## $R_2$ and $S_0$ Model Fit\n",
    "Linear regression is used to fit the component timeseries to each voxel in each echo from the original, echo-specific data.\n",
    "This results in echo- and voxel-specific betas for each of the components.\n",
    "TE-dependence ($R_2$) and TE-independence ($S_0$) models can then be fit to these betas.\n",
    "\n",
    "These models allow calculation of F-statistics for the $R_2$ and $S_0$ models (referred to as $\\kappa$ and $\\rho$, respectively).\n",
    "\n",
    "Note that the values here are for a single voxel (the highest-weighted one for the component),\n",
    "but $\\kappa$ and $\\rho$ are averaged across voxels."
   ]
  },
  {
   "cell_type": "code",
   "execution_count": null,
   "id": "8f7d95ee",
   "metadata": {
    "tags": [
     "hide-cell"
    ]
   },
   "outputs": [],
   "source": [
    "fig, axes = plt.subplots(3, sharex=True, figsize=(14, 9))\n",
    "axes[-1].set_xticks(echo_times)\n",
    "axes[-1].tick_params(axis=\"both\", which=\"major\", labelsize=12)\n",
    "axes[-1].set_xlabel(\"Echo Time (ms)\", fontsize=16)\n",
    "\n",
    "for i_comp, comp in enumerate(\n",
    "    comps_to_plot\n",
    "):  # only generate plots for a few components\n",
    "    comp_voxel_idx = np.where(beta_maps[i_comp, :] == np.max(beta_maps[i_comp, :]))[0][\n",
    "        0\n",
    "    ]\n",
    "    # Use weight map to average as fitmodels_direct does\n",
    "    comp_weights = meica_betas[comp_voxel_idx, :, i_comp]\n",
    "    r2_pred_weights = r2_pred_betas[comp_voxel_idx, :, i_comp]\n",
    "    s0_pred_weights = s0_pred_betas[comp_voxel_idx, :, i_comp]\n",
    "\n",
    "    axes[i_comp].plot(\n",
    "        echo_times,\n",
    "        comp_weights,\n",
    "        c=\"black\",\n",
    "        alpha=0.5,\n",
    "        linewidth=5,\n",
    "        label=\"Component PEs\",\n",
    "    )\n",
    "    axes[i_comp].plot(\n",
    "        echo_times, r2_pred_weights, c=\"blue\", label=\"Predicted T2* model values\"\n",
    "    )\n",
    "    axes[i_comp].plot(\n",
    "        echo_times, s0_pred_weights, c=\"red\", label=\"Predicted S0 model values\"\n",
    "    )\n",
    "\n",
    "    # Set yticklabels\n",
    "    temp = np.hstack((comp_weights, s0_pred_weights, r2_pred_weights))\n",
    "    lim = np.mean(temp) * 0.05\n",
    "    axes[i_comp].set_ylim(np.floor(np.min(temp)) - lim, np.ceil(np.max(temp)) + lim)\n",
    "    legend = axes[i_comp].legend(frameon=True, fontsize=14, ncol=3)\n",
    "    axes[i_comp].set_title(f\"ICA Component {comp}\", fontsize=16)\n",
    "\n",
    "fig.tight_layout()\n",
    "glue(\"fig_ica_weights\", fig, display=False)"
   ]
  },
  {
   "cell_type": "markdown",
   "id": "bfb24f7f",
   "metadata": {},
   "source": [
    "```{glue:figure} fig_ica_weights\n",
    ":name: fig_ica_weights\n",
    ":align: center\n",
    "\n",
    "Echo-wise model weights for three ICA components.\n",
    "```\n",
    "\n",
    "## ICA Component Selection and Multi-Echo Denoising\n",
    "A decision tree is applied to $\\kappa$, $\\rho$, and other metrics in order to classify ICA components as TE-dependent (BOLD signal),\n",
    "TE-independent (non-BOLD noise), or neither (to be ignored).\n",
    "\n",
    "The ICA components are fitted to the original (not whitened) optimally combined data with linear regression,\n",
    "which is used to weight the components for construction of the denoised data.\n",
    "The residuals from this regression will thus include the variance that was not included in the PCA-whitened optimally combined data.\n",
    "\n",
    "The {term}`MEDN` dataset is constructed from the accepted (BOLD) and ignored components,\n",
    "as well as the residual variance not explained by the ICA.\n",
    "The {term}`MEHK` dataset is constructed just from the accepted (BOLD) components.\n",
    "This means that ignored components and residual variance not explained by the ICA are not included in the resulting dataset."
   ]
  },
  {
   "cell_type": "code",
   "execution_count": null,
   "id": "2eb76cb5",
   "metadata": {
    "tags": [
     "hide-cell"
    ]
   },
   "outputs": [],
   "source": [
    "dn_data_z = (dn_data - np.mean(dn_data, axis=0)) / np.std(dn_data, axis=0)\n",
    "hk_data_z = (hk_data - np.mean(hk_data, axis=0)) / np.std(hk_data, axis=0)\n",
    "\n",
    "fig, axes = plt.subplots(3, sharex=True, figsize=(14, 6))\n",
    "axes[0].plot(oc_z[:, voxel_idx], label=\"Optimally combined\")\n",
    "axes[0].set_title(\"Optimally combined\", fontsize=16)\n",
    "\n",
    "axes[1].plot(dn_data_z[:, voxel_idx], label=\"ME-DN\")\n",
    "axes[1].set_title(\"ME-DN\", fontsize=16)\n",
    "\n",
    "axes[2].plot(hk_data_z[:, voxel_idx])\n",
    "axes[2].set_title(\"ME-HK\", fontsize=16)\n",
    "legend = ax.legend(frameon=True)\n",
    "axes[0].set_xlim(0, oc_z.shape[0] - 1)\n",
    "axes[2].set_xticks([])\n",
    "axes[2].set_xlabel(\"Time\", fontsize=16)\n",
    "axes[0].tick_params(axis=\"both\", which=\"major\", labelsize=12)\n",
    "axes[1].tick_params(axis=\"both\", which=\"major\", labelsize=12)\n",
    "axes[2].tick_params(axis=\"both\", which=\"major\", labelsize=12)\n",
    "fig.tight_layout()\n",
    "\n",
    "glue(\"fig_medn_timeseries\", fig, display=False)"
   ]
  },
  {
   "cell_type": "markdown",
   "id": "ed36a70e",
   "metadata": {},
   "source": [
    "```{glue:figure} fig_medn_timeseries\n",
    ":name: fig_medn_timeseries\n",
    ":align: center\n",
    "\n",
    "Time series for optimally combined, denoised, and high-kappa data for a single voxel.\n",
    "```\n",
    "\n",
    "## Post-processing to remove spatially diffuse noise\n",
    "Due to the constraints of ICA, MEICA is able to identify and remove spatially localized noise components,\n",
    "but it cannot identify components that are spread out throughout the whole brain.\n",
    "\n",
    "One of several post-processing strategies may be applied to the ME-DN or ME-HK datasets in order to remove spatially diffuse\n",
    "(ostensibly respiration-related) noise.\n",
    "Methods which have been employed in the past include global signal regression (GSR),\n",
    "{prf:ref}`Minimum Image Regression <minimum-image-regression>`, anatomical CompCor, Go Decomposition (GODEC), and robust PCA."
   ]
  },
  {
   "cell_type": "code",
   "execution_count": null,
   "id": "6d42fb0a",
   "metadata": {
    "tags": [
     "hide-cell"
    ]
   },
   "outputs": [],
   "source": [
    "dn_t1c_data_z = (dn_t1c_data - np.mean(dn_t1c_data, axis=0)) / np.std(\n",
    "    dn_t1c_data, axis=0\n",
    ")\n",
    "hk_t1c_data_z = (hk_t1c_data - np.mean(hk_t1c_data, axis=0)) / np.std(\n",
    "    hk_t1c_data, axis=0\n",
    ")\n",
    "\n",
    "fig, axes = plt.subplots(2, sharex=True, figsize=(14, 6))\n",
    "axes[0].plot(dn_t1c_data_z[:, voxel_idx], label=\"ME-DN T1c\")\n",
    "axes[0].plot(dn_data_z[:, voxel_idx], label=\"ME-DN\", alpha=0.5, linewidth=3, zorder=0.0)\n",
    "axes[0].set_title(\"ME-DN\", fontsize=16)\n",
    "legend = axes[0].legend(frameon=True, loc=\"upper right\")\n",
    "\n",
    "axes[1].plot(hk_t1c_data_z[:, voxel_idx], label=\"ME-HK T1c\")\n",
    "axes[1].plot(hk_data_z[:, voxel_idx], label=\"ME-HK\", alpha=0.5, linewidth=3, zorder=0.0)\n",
    "axes[1].set_title(\"ME-HK\", fontsize=16)\n",
    "legend = axes[1].legend(frameon=True)\n",
    "axes[0].set_xlim(0, oc_z.shape[0] - 1)\n",
    "axes[1].set_xticks([])\n",
    "axes[1].set_xlabel(\"Time\", fontsize=16)\n",
    "axes[0].tick_params(axis=\"both\", which=\"major\", labelsize=12)\n",
    "axes[1].tick_params(axis=\"both\", which=\"major\", labelsize=12)\n",
    "fig.tight_layout()\n",
    "glue(\"fig_mir_timeseries\", fig, display=False)"
   ]
  },
  {
   "cell_type": "markdown",
   "id": "4700caa4",
   "metadata": {},
   "source": [
    "```{glue:figure} fig_mir_timeseries\n",
    ":name: fig_mir_timeseries\n",
    ":align: center\n",
    "\n",
    "Time series from a voxel before and after {prf:ref}`minimum image regression <minimum-image-regression>`.\n",
    "```"
   ]
  }
 ],
 "metadata": {
  "jupytext": {
   "text_representation": {
    "extension": ".md",
    "format_name": "myst",
    "format_version": 0.13,
    "jupytext_version": "1.10.3"
   }
  },
  "kernelspec": {
   "display_name": "Python 3",
   "language": "python",
   "name": "python3"
  },
  "language_info": {
   "codemirror_mode": {
    "name": "ipython",
    "version": 3
   },
   "file_extension": ".py",
   "mimetype": "text/x-python",
   "name": "python",
   "nbconvert_exporter": "python",
   "pygments_lexer": "ipython3",
   "version": "3.7.13"
  },
  "source_map": [
   12,
   21,
   45,
   48,
   276,
   305,
   309,
   324,
   335,
   351,
   368,
   392,
   403,
   420,
   460,
   486,
   508,
   532,
   543,
   565,
   575,
   584,
   595,
   623,
   634,
   656,
   670,
   684,
   696,
   709,
   724,
   751,
   770,
   812,
   834,
   858,
   876,
   902
  ]
 },
 "nbformat": 4,
 "nbformat_minor": 5
}