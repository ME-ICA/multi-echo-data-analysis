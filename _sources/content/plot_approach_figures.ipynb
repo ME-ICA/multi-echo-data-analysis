{
 "cells": [
  {
   "cell_type": "markdown",
   "id": "c53b9358",
   "metadata": {},
   "source": [
    "# Generate tedana walkthrough figures"
   ]
  },
  {
   "cell_type": "code",
   "execution_count": 1,
   "id": "579cf402",
   "metadata": {},
   "outputs": [
    {
     "name": "stdout",
     "output_type": "stream",
     "text": [
      "---- repo2data starting ----\n",
      "/opt/hostedtoolcache/Python/3.7.12/x64/lib/python3.7/site-packages/repo2data\n",
      "Config from file :\n",
      "../binder/data_requirement.json\n",
      "Destination:\n",
      "./../data/multi-echo-data-analysis\n",
      "\n",
      "Info : ./../data/multi-echo-data-analysis already downloaded\n"
     ]
    },
    {
     "name": "stderr",
     "output_type": "stream",
     "text": [
      "/opt/hostedtoolcache/Python/3.7.12/x64/lib/python3.7/site-packages/nilearn/datasets/__init__.py:96: FutureWarning: Fetchers from the nilearn.datasets module will be updated in version 0.9 to return python strings instead of bytes and Pandas dataframes instead of Numpy arrays.\n",
      "  \"Numpy arrays.\", FutureWarning)\n"
     ]
    }
   ],
   "source": [
    "%matplotlib inline\n",
    "import os\n",
    "from glob import glob\n",
    "\n",
    "import numpy as np\n",
    "import nibabel as nib\n",
    "import pandas as pd\n",
    "import seaborn as sns\n",
    "import matplotlib.pyplot as plt\n",
    "from nilearn import plotting, masking\n",
    "from nilearn.image import math_img\n",
    "from repo2data.repo2data import Repo2Data\n",
    "\n",
    "# Install the data if running locally, or point to cached data if running on neurolibre\n",
    "DATA_REQ_FILE = os.path.join(\"../binder/data_requirement.json\")\n",
    "\n",
    "# Download data\n",
    "repo2data = Repo2Data(DATA_REQ_FILE)\n",
    "data_path = repo2data.install()\n",
    "data_path = os.path.abspath(os.path.join(data_path[0], \"data\"))\n",
    "\n",
    "ted_dir = os.path.join(data_path, \"tedana\")"
   ]
  },
  {
   "cell_type": "markdown",
   "id": "803dcf19",
   "metadata": {},
   "source": [
    "## Load data"
   ]
  },
  {
   "cell_type": "code",
   "execution_count": 2,
   "id": "69c61055",
   "metadata": {},
   "outputs": [
    {
     "ename": "ValueError",
     "evalue": "Index component invalid",
     "output_type": "error",
     "traceback": [
      "\u001b[0;31m---------------------------------------------------------------------------\u001b[0m",
      "\u001b[0;31mValueError\u001b[0m                                Traceback (most recent call last)",
      "\u001b[0;32m/tmp/ipykernel_2300/2165346729.py\u001b[0m in \u001b[0;36m<module>\u001b[0;34m\u001b[0m\n\u001b[1;32m     98\u001b[0m df = pd.read_table(\n\u001b[1;32m     99\u001b[0m     \u001b[0mos\u001b[0m\u001b[0;34m.\u001b[0m\u001b[0mpath\u001b[0m\u001b[0;34m.\u001b[0m\u001b[0mjoin\u001b[0m\u001b[0;34m(\u001b[0m\u001b[0mted_dir\u001b[0m\u001b[0;34m,\u001b[0m \u001b[0;34m\"sub-04570_task-rest_space-scanner_desc-tedana_metrics.tsv\"\u001b[0m\u001b[0;34m)\u001b[0m\u001b[0;34m,\u001b[0m\u001b[0;34m\u001b[0m\u001b[0;34m\u001b[0m\u001b[0m\n\u001b[0;32m--> 100\u001b[0;31m     \u001b[0mindex_col\u001b[0m\u001b[0;34m=\u001b[0m\u001b[0;34m\"component\"\u001b[0m\u001b[0;34m,\u001b[0m\u001b[0;34m\u001b[0m\u001b[0;34m\u001b[0m\u001b[0m\n\u001b[0m\u001b[1;32m    101\u001b[0m )\n\u001b[1;32m    102\u001b[0m \u001b[0;34m\u001b[0m\u001b[0m\n",
      "\u001b[0;32m/opt/hostedtoolcache/Python/3.7.12/x64/lib/python3.7/site-packages/pandas/util/_decorators.py\u001b[0m in \u001b[0;36mwrapper\u001b[0;34m(*args, **kwargs)\u001b[0m\n\u001b[1;32m    309\u001b[0m                     \u001b[0mstacklevel\u001b[0m\u001b[0;34m=\u001b[0m\u001b[0mstacklevel\u001b[0m\u001b[0;34m,\u001b[0m\u001b[0;34m\u001b[0m\u001b[0;34m\u001b[0m\u001b[0m\n\u001b[1;32m    310\u001b[0m                 )\n\u001b[0;32m--> 311\u001b[0;31m             \u001b[0;32mreturn\u001b[0m \u001b[0mfunc\u001b[0m\u001b[0;34m(\u001b[0m\u001b[0;34m*\u001b[0m\u001b[0margs\u001b[0m\u001b[0;34m,\u001b[0m \u001b[0;34m**\u001b[0m\u001b[0mkwargs\u001b[0m\u001b[0;34m)\u001b[0m\u001b[0;34m\u001b[0m\u001b[0;34m\u001b[0m\u001b[0m\n\u001b[0m\u001b[1;32m    312\u001b[0m \u001b[0;34m\u001b[0m\u001b[0m\n\u001b[1;32m    313\u001b[0m         \u001b[0;32mreturn\u001b[0m \u001b[0mwrapper\u001b[0m\u001b[0;34m\u001b[0m\u001b[0;34m\u001b[0m\u001b[0m\n",
      "\u001b[0;32m/opt/hostedtoolcache/Python/3.7.12/x64/lib/python3.7/site-packages/pandas/io/parsers/readers.py\u001b[0m in \u001b[0;36mread_table\u001b[0;34m(filepath_or_buffer, sep, delimiter, header, names, index_col, usecols, squeeze, prefix, mangle_dupe_cols, dtype, engine, converters, true_values, false_values, skipinitialspace, skiprows, skipfooter, nrows, na_values, keep_default_na, na_filter, verbose, skip_blank_lines, parse_dates, infer_datetime_format, keep_date_col, date_parser, dayfirst, cache_dates, iterator, chunksize, compression, thousands, decimal, lineterminator, quotechar, quoting, doublequote, escapechar, comment, encoding, dialect, error_bad_lines, warn_bad_lines, on_bad_lines, encoding_errors, delim_whitespace, low_memory, memory_map, float_precision)\u001b[0m\n\u001b[1;32m    681\u001b[0m     \u001b[0mkwds\u001b[0m\u001b[0;34m.\u001b[0m\u001b[0mupdate\u001b[0m\u001b[0;34m(\u001b[0m\u001b[0mkwds_defaults\u001b[0m\u001b[0;34m)\u001b[0m\u001b[0;34m\u001b[0m\u001b[0;34m\u001b[0m\u001b[0m\n\u001b[1;32m    682\u001b[0m \u001b[0;34m\u001b[0m\u001b[0m\n\u001b[0;32m--> 683\u001b[0;31m     \u001b[0;32mreturn\u001b[0m \u001b[0m_read\u001b[0m\u001b[0;34m(\u001b[0m\u001b[0mfilepath_or_buffer\u001b[0m\u001b[0;34m,\u001b[0m \u001b[0mkwds\u001b[0m\u001b[0;34m)\u001b[0m\u001b[0;34m\u001b[0m\u001b[0;34m\u001b[0m\u001b[0m\n\u001b[0m\u001b[1;32m    684\u001b[0m \u001b[0;34m\u001b[0m\u001b[0m\n\u001b[1;32m    685\u001b[0m \u001b[0;34m\u001b[0m\u001b[0m\n",
      "\u001b[0;32m/opt/hostedtoolcache/Python/3.7.12/x64/lib/python3.7/site-packages/pandas/io/parsers/readers.py\u001b[0m in \u001b[0;36m_read\u001b[0;34m(filepath_or_buffer, kwds)\u001b[0m\n\u001b[1;32m    486\u001b[0m \u001b[0;34m\u001b[0m\u001b[0m\n\u001b[1;32m    487\u001b[0m     \u001b[0;32mwith\u001b[0m \u001b[0mparser\u001b[0m\u001b[0;34m:\u001b[0m\u001b[0;34m\u001b[0m\u001b[0;34m\u001b[0m\u001b[0m\n\u001b[0;32m--> 488\u001b[0;31m         \u001b[0;32mreturn\u001b[0m \u001b[0mparser\u001b[0m\u001b[0;34m.\u001b[0m\u001b[0mread\u001b[0m\u001b[0;34m(\u001b[0m\u001b[0mnrows\u001b[0m\u001b[0;34m)\u001b[0m\u001b[0;34m\u001b[0m\u001b[0;34m\u001b[0m\u001b[0m\n\u001b[0m\u001b[1;32m    489\u001b[0m \u001b[0;34m\u001b[0m\u001b[0m\n\u001b[1;32m    490\u001b[0m \u001b[0;34m\u001b[0m\u001b[0m\n",
      "\u001b[0;32m/opt/hostedtoolcache/Python/3.7.12/x64/lib/python3.7/site-packages/pandas/io/parsers/readers.py\u001b[0m in \u001b[0;36mread\u001b[0;34m(self, nrows)\u001b[0m\n\u001b[1;32m   1045\u001b[0m     \u001b[0;32mdef\u001b[0m \u001b[0mread\u001b[0m\u001b[0;34m(\u001b[0m\u001b[0mself\u001b[0m\u001b[0;34m,\u001b[0m \u001b[0mnrows\u001b[0m\u001b[0;34m=\u001b[0m\u001b[0;32mNone\u001b[0m\u001b[0;34m)\u001b[0m\u001b[0;34m:\u001b[0m\u001b[0;34m\u001b[0m\u001b[0;34m\u001b[0m\u001b[0m\n\u001b[1;32m   1046\u001b[0m         \u001b[0mnrows\u001b[0m \u001b[0;34m=\u001b[0m \u001b[0mvalidate_integer\u001b[0m\u001b[0;34m(\u001b[0m\u001b[0;34m\"nrows\"\u001b[0m\u001b[0;34m,\u001b[0m \u001b[0mnrows\u001b[0m\u001b[0;34m)\u001b[0m\u001b[0;34m\u001b[0m\u001b[0;34m\u001b[0m\u001b[0m\n\u001b[0;32m-> 1047\u001b[0;31m         \u001b[0mindex\u001b[0m\u001b[0;34m,\u001b[0m \u001b[0mcolumns\u001b[0m\u001b[0;34m,\u001b[0m \u001b[0mcol_dict\u001b[0m \u001b[0;34m=\u001b[0m \u001b[0mself\u001b[0m\u001b[0;34m.\u001b[0m\u001b[0m_engine\u001b[0m\u001b[0;34m.\u001b[0m\u001b[0mread\u001b[0m\u001b[0;34m(\u001b[0m\u001b[0mnrows\u001b[0m\u001b[0;34m)\u001b[0m\u001b[0;34m\u001b[0m\u001b[0;34m\u001b[0m\u001b[0m\n\u001b[0m\u001b[1;32m   1048\u001b[0m \u001b[0;34m\u001b[0m\u001b[0m\n\u001b[1;32m   1049\u001b[0m         \u001b[0;32mif\u001b[0m \u001b[0mindex\u001b[0m \u001b[0;32mis\u001b[0m \u001b[0;32mNone\u001b[0m\u001b[0;34m:\u001b[0m\u001b[0;34m\u001b[0m\u001b[0;34m\u001b[0m\u001b[0m\n",
      "\u001b[0;32m/opt/hostedtoolcache/Python/3.7.12/x64/lib/python3.7/site-packages/pandas/io/parsers/c_parser_wrapper.py\u001b[0m in \u001b[0;36mread\u001b[0;34m(self, nrows)\u001b[0m\n\u001b[1;32m    308\u001b[0m \u001b[0;34m\u001b[0m\u001b[0m\n\u001b[1;32m    309\u001b[0m             \u001b[0mnames\u001b[0m\u001b[0;34m,\u001b[0m \u001b[0mdata\u001b[0m \u001b[0;34m=\u001b[0m \u001b[0mself\u001b[0m\u001b[0;34m.\u001b[0m\u001b[0m_do_date_conversions\u001b[0m\u001b[0;34m(\u001b[0m\u001b[0mnames\u001b[0m\u001b[0;34m,\u001b[0m \u001b[0mdata\u001b[0m\u001b[0;34m)\u001b[0m\u001b[0;34m\u001b[0m\u001b[0;34m\u001b[0m\u001b[0m\n\u001b[0;32m--> 310\u001b[0;31m             \u001b[0mindex\u001b[0m\u001b[0;34m,\u001b[0m \u001b[0mnames\u001b[0m \u001b[0;34m=\u001b[0m \u001b[0mself\u001b[0m\u001b[0;34m.\u001b[0m\u001b[0m_make_index\u001b[0m\u001b[0;34m(\u001b[0m\u001b[0mdata\u001b[0m\u001b[0;34m,\u001b[0m \u001b[0malldata\u001b[0m\u001b[0;34m,\u001b[0m \u001b[0mnames\u001b[0m\u001b[0;34m)\u001b[0m\u001b[0;34m\u001b[0m\u001b[0;34m\u001b[0m\u001b[0m\n\u001b[0m\u001b[1;32m    311\u001b[0m \u001b[0;34m\u001b[0m\u001b[0m\n\u001b[1;32m    312\u001b[0m         \u001b[0;31m# maybe create a mi on the columns\u001b[0m\u001b[0;34m\u001b[0m\u001b[0;34m\u001b[0m\u001b[0;34m\u001b[0m\u001b[0m\n",
      "\u001b[0;32m/opt/hostedtoolcache/Python/3.7.12/x64/lib/python3.7/site-packages/pandas/io/parsers/base_parser.py\u001b[0m in \u001b[0;36m_make_index\u001b[0;34m(self, data, alldata, columns, indexnamerow)\u001b[0m\n\u001b[1;32m    413\u001b[0m \u001b[0;34m\u001b[0m\u001b[0m\n\u001b[1;32m    414\u001b[0m         \u001b[0;32melif\u001b[0m \u001b[0;32mnot\u001b[0m \u001b[0mself\u001b[0m\u001b[0;34m.\u001b[0m\u001b[0m_has_complex_date_col\u001b[0m\u001b[0;34m:\u001b[0m\u001b[0;34m\u001b[0m\u001b[0;34m\u001b[0m\u001b[0m\n\u001b[0;32m--> 415\u001b[0;31m             \u001b[0mindex\u001b[0m \u001b[0;34m=\u001b[0m \u001b[0mself\u001b[0m\u001b[0;34m.\u001b[0m\u001b[0m_get_simple_index\u001b[0m\u001b[0;34m(\u001b[0m\u001b[0malldata\u001b[0m\u001b[0;34m,\u001b[0m \u001b[0mcolumns\u001b[0m\u001b[0;34m)\u001b[0m\u001b[0;34m\u001b[0m\u001b[0;34m\u001b[0m\u001b[0m\n\u001b[0m\u001b[1;32m    416\u001b[0m             \u001b[0mindex\u001b[0m \u001b[0;34m=\u001b[0m \u001b[0mself\u001b[0m\u001b[0;34m.\u001b[0m\u001b[0m_agg_index\u001b[0m\u001b[0;34m(\u001b[0m\u001b[0mindex\u001b[0m\u001b[0;34m)\u001b[0m\u001b[0;34m\u001b[0m\u001b[0;34m\u001b[0m\u001b[0m\n\u001b[1;32m    417\u001b[0m         \u001b[0;32melif\u001b[0m \u001b[0mself\u001b[0m\u001b[0;34m.\u001b[0m\u001b[0m_has_complex_date_col\u001b[0m\u001b[0;34m:\u001b[0m\u001b[0;34m\u001b[0m\u001b[0;34m\u001b[0m\u001b[0m\n",
      "\u001b[0;32m/opt/hostedtoolcache/Python/3.7.12/x64/lib/python3.7/site-packages/pandas/io/parsers/base_parser.py\u001b[0m in \u001b[0;36m_get_simple_index\u001b[0;34m(self, data, columns)\u001b[0m\n\u001b[1;32m    445\u001b[0m         \u001b[0mindex\u001b[0m \u001b[0;34m=\u001b[0m \u001b[0;34m[\u001b[0m\u001b[0;34m]\u001b[0m\u001b[0;34m\u001b[0m\u001b[0;34m\u001b[0m\u001b[0m\n\u001b[1;32m    446\u001b[0m         \u001b[0;32mfor\u001b[0m \u001b[0midx\u001b[0m \u001b[0;32min\u001b[0m \u001b[0mself\u001b[0m\u001b[0;34m.\u001b[0m\u001b[0mindex_col\u001b[0m\u001b[0;34m:\u001b[0m\u001b[0;34m\u001b[0m\u001b[0;34m\u001b[0m\u001b[0m\n\u001b[0;32m--> 447\u001b[0;31m             \u001b[0mi\u001b[0m \u001b[0;34m=\u001b[0m \u001b[0mix\u001b[0m\u001b[0;34m(\u001b[0m\u001b[0midx\u001b[0m\u001b[0;34m)\u001b[0m\u001b[0;34m\u001b[0m\u001b[0;34m\u001b[0m\u001b[0m\n\u001b[0m\u001b[1;32m    448\u001b[0m             \u001b[0mto_remove\u001b[0m\u001b[0;34m.\u001b[0m\u001b[0mappend\u001b[0m\u001b[0;34m(\u001b[0m\u001b[0mi\u001b[0m\u001b[0;34m)\u001b[0m\u001b[0;34m\u001b[0m\u001b[0;34m\u001b[0m\u001b[0m\n\u001b[1;32m    449\u001b[0m             \u001b[0mindex\u001b[0m\u001b[0;34m.\u001b[0m\u001b[0mappend\u001b[0m\u001b[0;34m(\u001b[0m\u001b[0mdata\u001b[0m\u001b[0;34m[\u001b[0m\u001b[0mi\u001b[0m\u001b[0;34m]\u001b[0m\u001b[0;34m)\u001b[0m\u001b[0;34m\u001b[0m\u001b[0;34m\u001b[0m\u001b[0m\n",
      "\u001b[0;32m/opt/hostedtoolcache/Python/3.7.12/x64/lib/python3.7/site-packages/pandas/io/parsers/base_parser.py\u001b[0m in \u001b[0;36mix\u001b[0;34m(col)\u001b[0m\n\u001b[1;32m    440\u001b[0m             \u001b[0;32mif\u001b[0m \u001b[0;32mnot\u001b[0m \u001b[0misinstance\u001b[0m\u001b[0;34m(\u001b[0m\u001b[0mcol\u001b[0m\u001b[0;34m,\u001b[0m \u001b[0mstr\u001b[0m\u001b[0;34m)\u001b[0m\u001b[0;34m:\u001b[0m\u001b[0;34m\u001b[0m\u001b[0;34m\u001b[0m\u001b[0m\n\u001b[1;32m    441\u001b[0m                 \u001b[0;32mreturn\u001b[0m \u001b[0mcol\u001b[0m\u001b[0;34m\u001b[0m\u001b[0;34m\u001b[0m\u001b[0m\n\u001b[0;32m--> 442\u001b[0;31m             \u001b[0;32mraise\u001b[0m \u001b[0mValueError\u001b[0m\u001b[0;34m(\u001b[0m\u001b[0;34mf\"Index {col} invalid\"\u001b[0m\u001b[0;34m)\u001b[0m\u001b[0;34m\u001b[0m\u001b[0;34m\u001b[0m\u001b[0m\n\u001b[0m\u001b[1;32m    443\u001b[0m \u001b[0;34m\u001b[0m\u001b[0m\n\u001b[1;32m    444\u001b[0m         \u001b[0mto_remove\u001b[0m \u001b[0;34m=\u001b[0m \u001b[0;34m[\u001b[0m\u001b[0;34m]\u001b[0m\u001b[0;34m\u001b[0m\u001b[0;34m\u001b[0m\u001b[0m\n",
      "\u001b[0;31mValueError\u001b[0m: Index component invalid"
     ]
    }
   ],
   "source": [
    "func_dir = os.path.join(data_path, \"sub-04570/func/\")\n",
    "data_files = [\n",
    "    os.path.join(func_dir, \"sub-04570_task-rest_echo-1_space-scanner_desc-partialPreproc_bold.nii.gz\"),\n",
    "    os.path.join(func_dir, \"sub-04570_task-rest_echo-2_space-scanner_desc-partialPreproc_bold.nii.gz\"),\n",
    "    os.path.join(func_dir, \"sub-04570_task-rest_echo-3_space-scanner_desc-partialPreproc_bold.nii.gz\"),\n",
    "    os.path.join(func_dir, \"sub-04570_task-rest_echo-4_space-scanner_desc-partialPreproc_bold.nii.gz\"),\n",
    "]\n",
    "echo_times = [12., 28., 44., 60.]\n",
    "\n",
    "adaptive_mask_file = os.path.join(ted_dir, \"sub-04570_task-rest_space-scanner_desc-adaptiveGoodSignal_mask.nii.gz\")\n",
    "mask = math_img('img >= 3', img=adaptive_mask_file)\n",
    "\n",
    "# Optimally combined data\n",
    "oc = masking.apply_mask(os.path.join(ted_dir, \"sub-04570_task-rest_space-scanner_desc-optcom_bold.nii.gz\"), mask)\n",
    "oc_z = (oc - np.mean(oc, axis=0)) / np.std(oc, axis=0)\n",
    "\n",
    "# Results from MEPCA\n",
    "mepca_mmix = pd.read_table(\n",
    "    os.path.join(ted_dir, \"sub-04570_task-rest_space-scanner_desc-PCA_mixing.tsv\"),\n",
    ")\n",
    "oc_red = masking.apply_mask(\n",
    "    os.path.join(ted_dir, \"sub-04570_task-rest_space-scanner_desc-optcomPCAReduced_bold.nii.gz\"),\n",
    "    mask,\n",
    ")\n",
    "\n",
    "# Results from MEICA\n",
    "meica_mmix = pd.read_table(\n",
    "    os.path.join(ted_dir, \"sub-04570_task-rest_space-scanner_desc-ICA_mixing.tsv\"),\n",
    ")\n",
    "norm_weights = masking.apply_mask(\n",
    "    os.path.join(ted_dir, \"sub-04570_task-rest_space-scanner_desc-ICAAveragingWeights_components.nii.gz\"),\n",
    "    mask,\n",
    ")\n",
    "meica_betas = masking.apply_mask(\n",
    "    [\n",
    "        os.path.join(ted_dir, \"sub-04570_task-rest_space-scanner_echo-1_desc-ICA_components.nii.gz\"),\n",
    "        os.path.join(ted_dir, \"sub-04570_task-rest_space-scanner_echo-2_desc-ICA_components.nii.gz\"),\n",
    "        os.path.join(ted_dir, \"sub-04570_task-rest_space-scanner_echo-3_desc-ICA_components.nii.gz\"),\n",
    "        os.path.join(ted_dir, \"sub-04570_task-rest_space-scanner_echo-4_desc-ICA_components.nii.gz\"),\n",
    "    ],\n",
    "    mask,\n",
    ")\n",
    "r2_pred_betas = masking.apply_mask(\n",
    "    [\n",
    "        os.path.join(ted_dir, \"sub-04570_task-rest_space-scanner_echo-1_desc-ICAT2ModelPredictions_components.nii.gz\"),\n",
    "        os.path.join(ted_dir, \"sub-04570_task-rest_space-scanner_echo-2_desc-ICAT2ModelPredictions_components.nii.gz\"),\n",
    "        os.path.join(ted_dir, \"sub-04570_task-rest_space-scanner_echo-3_desc-ICAT2ModelPredictions_components.nii.gz\"),\n",
    "        os.path.join(ted_dir, \"sub-04570_task-rest_space-scanner_echo-4_desc-ICAT2ModelPredictions_components.nii.gz\"),\n",
    "    ],\n",
    "    mask,\n",
    ")\n",
    "s0_pred_betas = masking.apply_mask(\n",
    "    [\n",
    "        os.path.join(ted_dir, \"sub-04570_task-rest_space-scanner_echo-1_desc-ICAS0ModelPredictions_components.nii.gz\"),\n",
    "        os.path.join(ted_dir, \"sub-04570_task-rest_space-scanner_echo-2_desc-ICAS0ModelPredictions_components.nii.gz\"),\n",
    "        os.path.join(ted_dir, \"sub-04570_task-rest_space-scanner_echo-3_desc-ICAS0ModelPredictions_components.nii.gz\"),\n",
    "        os.path.join(ted_dir, \"sub-04570_task-rest_space-scanner_echo-4_desc-ICAS0ModelPredictions_components.nii.gz\"),\n",
    "    ],\n",
    "    mask,\n",
    ")\n",
    "\n",
    "# Component betas\n",
    "betas_file = os.path.join(ted_dir, \"sub-04570_task-rest_space-scanner_desc-ICA_components.nii.gz\")\n",
    "beta_maps = masking.apply_mask(betas_file, mask)\n",
    "\n",
    "# Multi-echo denoised data\n",
    "dn_data = masking.apply_mask(\n",
    "    os.path.join(ted_dir, \"sub-04570_task-rest_space-scanner_desc-optcomDenoised_bold.nii.gz\"),\n",
    "    mask,\n",
    ")\n",
    "hk_data = masking.apply_mask(\n",
    "    os.path.join(ted_dir, \"sub-04570_task-rest_space-scanner_desc-optcomAccepted_bold.nii.gz\"),\n",
    "    mask,\n",
    ")\n",
    "\n",
    "# Post-processed data\n",
    "dn_t1c_data = masking.apply_mask(\n",
    "    os.path.join(ted_dir, \"sub-04570_task-rest_space-scanner_desc-optcomMIRDenoised_bold.nii.gz\"),\n",
    "    mask,\n",
    ")\n",
    "hk_t1c_data = masking.apply_mask(\n",
    "    os.path.join(ted_dir, \"sub-04570_task-rest_space-scanner_desc-optcomAccepted_bold.nii.gz\"),\n",
    "    mask,\n",
    ")\n",
    "\n",
    "# Get voxel index for most related to first component (checkerboard)\n",
    "voxel_idx = np.where(beta_maps[0, :] == np.max(beta_maps[0, :]))[0][0]\n",
    "\n",
    "# load data\n",
    "data = [masking.apply_mask(f, mask) for f in data_files]\n",
    "ts = [d[:, voxel_idx] for d in data]\n",
    "ts_1d = np.hstack(ts)\n",
    "\n",
    "n_echoes = len(data)\n",
    "n_trs = data[0].shape[0]\n",
    "\n",
    "# Component table\n",
    "df = pd.read_table(\n",
    "    os.path.join(ted_dir, \"sub-04570_task-rest_space-scanner_desc-tedana_metrics.tsv\"),\n",
    "    index_col=\"component\",\n",
    ")\n",
    "\n",
    "pal = sns.color_palette('cubehelix', n_echoes)"
   ]
  },
  {
   "cell_type": "code",
   "execution_count": null,
   "id": "b5c28905",
   "metadata": {},
   "outputs": [],
   "source": [
    "# Prepare data for model\n",
    "log_data = np.log(np.abs(ts_1d) + 1)\n",
    "# log_data = np.log(ts_1d)  # in a perfect world...\n",
    "x = np.column_stack([np.ones(n_echoes), -1 * echo_times])\n",
    "X = np.repeat(x, n_trs, axis=0)  # T * E\n",
    "\n",
    "# Model fit\n",
    "betas = np.linalg.lstsq(X, log_data, rcond=None)[0]\n",
    "s0 = np.exp(betas[0])\n",
    "r2s = betas[1]\n",
    "t2s = 1. / r2s\n",
    "\n",
    "# Values for plots\n",
    "# Values from log-linear model\n",
    "log_x = np.arange(-1000, 0, .01)\n",
    "log_y = betas[0] + log_x*betas[1]\n",
    "\n",
    "# Values from monoexponential decay model\n",
    "mono_x = np.arange(0, 1000, .01)\n",
    "mono_y = np.exp(-1*betas[1]*mono_x) * s0\n",
    "\n",
    "# Get weights for optimal combination\n",
    "alpha = echo_times * np.exp(-echo_times / t2s)\n",
    "alpha = alpha / np.sum(alpha)  # unnecessary but good for bar plot below\n",
    "\n",
    "# Combine data across echoes\n",
    "oc_manual = np.average(np.vstack(ts), axis=0, weights=alpha)"
   ]
  },
  {
   "cell_type": "markdown",
   "id": "9f8ec4cb",
   "metadata": {},
   "source": [
    "### Echo-specific timeseries"
   ]
  },
  {
   "cell_type": "code",
   "execution_count": null,
   "id": "1c3478c8",
   "metadata": {},
   "outputs": [],
   "source": [
    "fig, axes = plt.subplots(n_echoes, sharex=True, sharey=False, figsize=(14, 6))\n",
    "for i_echo in range(n_echoes):\n",
    "    axes[i_echo].plot(ts[i_echo], color=pal[i_echo])\n",
    "    axes[i_echo].set_ylabel('{0}ms'.format(echo_times[i_echo]), rotation=0, va='center', ha='right', fontsize=14)\n",
    "    axes[i_echo].set_yticks([])\n",
    "    axes[i_echo].set_xticks([])\n",
    "\n",
    "axes[-1].set_xlabel('Time', fontsize=16)\n",
    "axes[-1].set_xlim(0, len(ts[i_echo])-1)\n",
    "fig.tight_layout()\n",
    "fig.show()"
   ]
  },
  {
   "cell_type": "markdown",
   "id": "38258cc4",
   "metadata": {},
   "source": [
    "### Echo-specific data and echo time"
   ]
  },
  {
   "cell_type": "code",
   "execution_count": null,
   "id": "fd4178bc",
   "metadata": {},
   "outputs": [],
   "source": [
    "fig, ax = plt.subplots(figsize=(14, 6))\n",
    "values = [i[0] for i in ts]\n",
    "for i_echo in range(n_echoes):\n",
    "    rep_echo_times = np.ones(n_trs) * echo_times[i_echo]\n",
    "    ax.scatter(rep_echo_times, ts[i_echo], alpha=0.05, color=pal[i_echo])\n",
    "\n",
    "ax.set_ylabel('BOLD signal', fontsize=16)\n",
    "ax.set_xlabel('Echo Time (ms)', fontsize=16)\n",
    "ax.set_xticks(echo_times)\n",
    "ax.tick_params(axis='both', which='major', labelsize=14)\n",
    "ax.set_xlim(0, 100)\n",
    "ax.set_ylim(0, 16000)\n",
    "fig.tight_layout()\n",
    "fig.show()"
   ]
  },
  {
   "cell_type": "markdown",
   "id": "c76ba5c9",
   "metadata": {},
   "source": [
    "### Adaptive mask\n",
    "Longer echo times are more susceptible to signal dropout, which means that certain brain regions\n",
    "(e.g., orbitofrontal cortex, temporal poles) will only have good signal for some echoes.\n",
    "In order to avoid using bad signal from affected echoes in calculating $T_{2}^*$ and $S_{0}$ for a given voxel,\n",
    "`tedana` generates an adaptive mask, where the value for each voxel is the number of echoes with \"good\" signal.\n",
    "When $T_{2}^*$ and $S_{0}$ are calculated below, each voxel's values are only calculated from the first $n$ echoes,\n",
    "where $n$ is the value for that voxel in the adaptive mask."
   ]
  },
  {
   "cell_type": "code",
   "execution_count": null,
   "id": "7f3dc251",
   "metadata": {},
   "outputs": [],
   "source": [
    "from tedana.io import load_data, new_nii_like\n",
    "from tedana.utils import make_adaptive_mask\n",
    "from nilearn.masking import compute_epi_mask\n",
    "\n",
    "mask_img = compute_epi_mask(data_files[0])\n",
    "data, img = load_data(data_files, len(echo_times))\n",
    "mask, adaptive_mask = make_adaptive_mask(data, mask=mask_img, getsum=True)"
   ]
  },
  {
   "cell_type": "code",
   "execution_count": null,
   "id": "7e66c6a7",
   "metadata": {},
   "outputs": [],
   "source": [
    "adaptive_mask_img = new_nii_like(img, adaptive_mask)"
   ]
  },
  {
   "cell_type": "code",
   "execution_count": null,
   "id": "73673980",
   "metadata": {},
   "outputs": [],
   "source": [
    "import seaborn as sns\n",
    "fig, ax = plt.subplots(figsize=(10, 4))\n",
    "palette = sns.color_palette(\"BuGn_r\", 10)\n",
    "plotting.plot_epi(adaptive_mask_img, vmax=8, alpha=1,\n",
    "                  draw_cross=False, colorbar=True,\n",
    "                  cmap='Blues', black_bg=False,\n",
    "                  annotate=False, bg_img=None, figure=fig, axes=ax)\n",
    "fig.show()"
   ]
  },
  {
   "cell_type": "markdown",
   "id": "0fc730c3",
   "metadata": {},
   "source": [
    "### Log-linear transformation"
   ]
  },
  {
   "cell_type": "code",
   "execution_count": null,
   "id": "85969d38",
   "metadata": {},
   "outputs": [],
   "source": [
    "fig, ax = plt.subplots(figsize=(14, 6))\n",
    "for i_echo in range(n_echoes):\n",
    "    rep_echo_times = -1 * np.ones(n_trs) * echo_times[i_echo]\n",
    "    log_echo_data = np.log((np.abs(ts[i_echo]) + 1))\n",
    "    ax.scatter(rep_echo_times, log_echo_data, alpha=0.05, color=pal[i_echo])\n",
    "\n",
    "ax.set_ylabel('log(BOLD signal)', fontsize=16)\n",
    "ax.set_xlabel('Negative Echo Time (ms)', fontsize=16)\n",
    "ax.set_xticks(-1 * echo_times)\n",
    "ax.set_xlim(-100, 0)\n",
    "ax.set_ylim(7, 10)\n",
    "ax.tick_params(axis='both', which='major', labelsize=14)\n",
    "\n",
    "fig.tight_layout()\n",
    "fig.show()"
   ]
  },
  {
   "cell_type": "markdown",
   "id": "28d14312",
   "metadata": {},
   "source": [
    "### Log-linear model\n",
    "Let $S$ be the BOLD signal for a given echo.\n",
    "\n",
    "Let $TE$ be the echo time in milliseconds.\n",
    "\n",
    "$$\\log_{e}(\\left|\\begin{pmatrix}\n",
    "S(TE_{1}) \\\\\n",
    "S(TE_{2}) \\\\\n",
    "\\vdots \\\\\n",
    "S(TE_{n})\\end{pmatrix}\\right|\n",
    "+\n",
    "\\begin{pmatrix}\n",
    "1 \\\\\n",
    "1 \\\\\n",
    "\\vdots \\\\\n",
    "1\\end{pmatrix}\n",
    ") = B_{1}\n",
    "\\begin{pmatrix}\n",
    "-TE_{1} \\\\\n",
    "-TE_{2} \\\\\n",
    "\\vdots \\\\\n",
    "-TE_{n}\\end{pmatrix} +\n",
    "\\begin{pmatrix}\n",
    "B_{0} \\\\\n",
    "B_{0} \\\\\n",
    "\\vdots \\\\\n",
    "B_{0}\\end{pmatrix}$$"
   ]
  },
  {
   "cell_type": "code",
   "execution_count": null,
   "id": "fd42eccd",
   "metadata": {},
   "outputs": [],
   "source": [
    "fig, ax = plt.subplots(figsize=(14, 6))\n",
    "for i_echo in range(n_echoes):\n",
    "    rep_echo_times = -1 * np.ones(n_trs) * echo_times[i_echo]\n",
    "    log_echo_data = np.log((np.abs(ts[i_echo]) + 1))\n",
    "    ax.scatter(rep_echo_times, log_echo_data, alpha=0.05, color=pal[i_echo])\n",
    "\n",
    "ax.plot(log_x, log_y)\n",
    "\n",
    "ax.set_ylabel('log(BOLD signal)', fontsize=16)\n",
    "ax.set_xlabel('Negative Echo Time (ms)', fontsize=16)\n",
    "ax.set_xticks(-1 * echo_times)\n",
    "ax.set_xlim(-100, 0)\n",
    "ax.set_ylim(7, 10)\n",
    "ax.tick_params(axis='both', which='major', labelsize=14)\n",
    "\n",
    "ax.annotate('$B_0$: {0:.02f}\\n$B_1$: {1:.02f}'.format(betas[0], betas[1]),\n",
    "            xy=(-70, 9.5), fontsize=16,\n",
    "            bbox=dict(fc=\"white\", ec=\"black\", lw=1))\n",
    "\n",
    "fig.tight_layout()\n",
    "fig.show()"
   ]
  },
  {
   "cell_type": "markdown",
   "id": "2cdc46e8",
   "metadata": {},
   "source": [
    "## Monoexponential decay model\n",
    "Calculation of $S_{0}$ and $T_{2}^{*}$\n",
    "$$S_{0} = e^{B_{0}}$$\n",
    "\n",
    "$$T_{2}^{*} = \\frac{1}{B_{1}}$$"
   ]
  },
  {
   "cell_type": "code",
   "execution_count": null,
   "id": "b98e5642",
   "metadata": {},
   "outputs": [],
   "source": [
    "fig, ax = plt.subplots(figsize=(14, 6))\n",
    "for i_echo in range(n_echoes):\n",
    "    rep_echo_times = np.ones(n_trs) * echo_times[i_echo]\n",
    "    ax.scatter(rep_echo_times, ts[i_echo], alpha=0.05, color=pal[i_echo])\n",
    "\n",
    "ax.plot(mono_x, mono_y)\n",
    "\n",
    "ax.set_ylabel('BOLD signal', fontsize=16)\n",
    "ax.set_xlabel('Echo Time (ms)', fontsize=16)\n",
    "ax.set_xticks(echo_times)\n",
    "ax.set_xlim(0, 100)\n",
    "ax.set_ylim(0, 16000)\n",
    "ax.tick_params(axis='both', which='major', labelsize=14)\n",
    "ax.annotate('$S_0$: {0:.02f}\\n$T_2^*$: {1:.02f}'.format(s0, t2s),\n",
    "            xy=(86.5, 13500), fontsize=16,\n",
    "            bbox=dict(fc=\"white\", ec=\"black\", lw=1))\n",
    "\n",
    "fig.tight_layout()\n",
    "fig.show()"
   ]
  },
  {
   "cell_type": "markdown",
   "id": "218c9c34",
   "metadata": {},
   "source": [
    "### T2*"
   ]
  },
  {
   "cell_type": "code",
   "execution_count": null,
   "id": "f6c100ad",
   "metadata": {},
   "outputs": [],
   "source": [
    "fig, ax = plt.subplots(figsize=(14, 6))\n",
    "for i_echo in range(n_echoes):\n",
    "    rep_echo_times = np.ones(n_trs) * echo_times[i_echo]\n",
    "    ax.scatter(rep_echo_times, ts[i_echo], alpha=0.05, color=pal[i_echo])\n",
    "\n",
    "ax.plot(mono_x, mono_y)\n",
    "\n",
    "ax.axvline(t2s, 0, 1, label='$T_2^*$', color='black', linestyle='--', alpha=0.5)\n",
    "ax.set_ylabel('BOLD signal', fontsize=16)\n",
    "ax.set_xlabel('Echo Time (ms)', fontsize=16)\n",
    "ax.set_xticks(np.hstack((echo_times, [np.round(t2s, 1)])))\n",
    "ax.set_xlim(0, 100)\n",
    "ax.set_ylim(0, 16000)\n",
    "ax.tick_params(axis='both', which='major', labelsize=14)\n",
    "ax.xaxis.get_major_ticks()[-1].set_pad(20)\n",
    "\n",
    "legend = ax.legend(frameon=True, fontsize=16)\n",
    "\n",
    "fig.tight_layout()\n",
    "fig.show()"
   ]
  },
  {
   "cell_type": "markdown",
   "id": "cdde2c45",
   "metadata": {},
   "source": [
    "### Optimal combination weights"
   ]
  },
  {
   "cell_type": "code",
   "execution_count": null,
   "id": "36c07ed3",
   "metadata": {},
   "outputs": [],
   "source": [
    "fig, ax = plt.subplots()\n",
    "sns.barplot(echo_times, alpha, ax=ax, palette=pal)\n",
    "ax.set_ylabel('Weight', fontsize=16)\n",
    "ax.set_xlabel('Echo Time (ms)', fontsize=16)\n",
    "ax.tick_params(axis='both', which='major', labelsize=14)\n",
    "fig.tight_layout()\n",
    "fig.show()"
   ]
  },
  {
   "cell_type": "markdown",
   "id": "02c0b3c2",
   "metadata": {},
   "source": [
    "### Optimally combined timeseries"
   ]
  },
  {
   "cell_type": "code",
   "execution_count": null,
   "id": "67f94c29",
   "metadata": {},
   "outputs": [],
   "source": [
    "fig, ax = plt.subplots(figsize=(14, 6))\n",
    "for i_echo in range(n_echoes):\n",
    "    rep_echo_times = np.ones(n_trs) * echo_times[i_echo]\n",
    "    ax.scatter(rep_echo_times, ts[i_echo], alpha=0.05, color=pal[i_echo])\n",
    "\n",
    "ax.plot(mono_x, mono_y)\n",
    "\n",
    "# Optimal combination\n",
    "rep_t2s = np.ones(n_trs) * t2s\n",
    "ax.scatter(rep_t2s, oc_manual, alpha=1, color='red', label='Optimally\\ncombined\\ndata')\n",
    "\n",
    "ax.axvline(t2s, 0, 20000, label='$T_2^*$', color='black', linestyle='--', alpha=0.5)\n",
    "ax.set_ylabel('BOLD signal', fontsize=16)\n",
    "ax.set_xlabel('Echo Time (ms)', fontsize=16)\n",
    "ax.set_xticks(np.hstack((echo_times, [np.round(t2s, 1)])))\n",
    "ax.set_xlim(0, 100)\n",
    "ax.set_ylim(0, 16000)\n",
    "ax.tick_params(axis='both', which='major', labelsize=14)\n",
    "ax.xaxis.get_major_ticks()[-1].set_pad(20)\n",
    "\n",
    "legend = ax.legend(frameon=True, fontsize=16)\n",
    "\n",
    "fig.tight_layout()\n",
    "fig.show()"
   ]
  },
  {
   "cell_type": "markdown",
   "id": "fc527be6",
   "metadata": {},
   "source": [
    "### Optimally combined timeseries"
   ]
  },
  {
   "cell_type": "code",
   "execution_count": null,
   "id": "721e2038",
   "metadata": {},
   "outputs": [],
   "source": [
    "fig, axes = plt.subplots(n_echoes+1, sharex=True, sharey=False, figsize=(14, 6))\n",
    "for i_echo in range(n_echoes):\n",
    "    axes[i_echo].plot(ts[i_echo], color=pal[i_echo])\n",
    "    axes[i_echo].set_ylabel('{0}ms'.format(echo_times[i_echo]), rotation=0, va='center', ha='right', fontsize=14)\n",
    "    axes[i_echo].set_yticks([])\n",
    "    axes[i_echo].set_xticks([])\n",
    "\n",
    "axes[-1].plot(oc_manual, color='red')\n",
    "axes[-1].set_ylabel('Optimally\\ncombined\\ndata', rotation=0, va='center', ha='right', fontsize=14)\n",
    "axes[-1].set_xlabel('Time', fontsize=16)\n",
    "axes[-1].set_yticks([])\n",
    "axes[-1].set_xticks([])\n",
    "axes[-1].set_xlim(0, len(ts[i_echo])-1)\n",
    "ax.tick_params(axis='both', which='major', labelsize=14)\n",
    "fig.tight_layout()\n",
    "fig.show()"
   ]
  },
  {
   "cell_type": "markdown",
   "id": "1116d2d4",
   "metadata": {},
   "source": [
    "### Multi-Echo Principal Components Analysis\n",
    "Optimally combined data are decomposed with PCA.\n",
    "The PCA components are selected according to one of multiple possible approaches.\n",
    "Two possible approaches are a decision tree and a threshold using the percentage of variance explained by each component."
   ]
  },
  {
   "cell_type": "code",
   "execution_count": null,
   "id": "2cbf2d07",
   "metadata": {},
   "outputs": [],
   "source": [
    "fig, axes = plt.subplots(3, sharex=True, figsize=(14, 6))\n",
    "\n",
    "i = 0\n",
    "axes[0].plot(mepca_mmix[:, i])\n",
    "axes[0].set_title('PCA Component {}'.format(i), fontsize=16)\n",
    "\n",
    "i = 3\n",
    "axes[1].plot(mepca_mmix[:, i])\n",
    "axes[1].set_title('PCA Component {}'.format(i), fontsize=16)\n",
    "\n",
    "i = 100\n",
    "axes[2].plot(mepca_mmix[:, i])\n",
    "axes[2].set_title('PCA Component {}'.format(i), fontsize=16)\n",
    "\n",
    "axes[2].set_xlim(0, mepca_mmix.shape[0]-1)\n",
    "axes[2].set_xticks([])\n",
    "axes[2].set_xlabel('Time', fontsize=16)\n",
    "axes[0].tick_params(axis='both', which='major', labelsize=12)\n",
    "axes[1].tick_params(axis='both', which='major', labelsize=12)\n",
    "axes[2].tick_params(axis='both', which='major', labelsize=12)\n",
    "fig.tight_layout()\n",
    "fig.show()"
   ]
  },
  {
   "cell_type": "markdown",
   "id": "c55296b5",
   "metadata": {},
   "source": [
    "## Data Whitening\n",
    "The selected components from the PCA are recombined to produce a whitened version of the optimally combined data."
   ]
  },
  {
   "cell_type": "code",
   "execution_count": null,
   "id": "6451f028",
   "metadata": {},
   "outputs": [],
   "source": [
    "fig, ax = plt.subplots(figsize=(14, 6))\n",
    "ax.plot(oc_red[:, voxel_idx], label='Dimensionally reduced timeseries', zorder=1.)\n",
    "ax.plot(oc_z[:, voxel_idx], label='Original timeseries', alpha=0.5, zorder=0., linewidth=3)\n",
    "legend = ax.legend(frameon=True, fontsize=16, loc='upper right', framealpha=1)\n",
    "ax.set_xlim(0, oc_z.shape[0]-1)\n",
    "ax.set_xticks([])\n",
    "ax.set_xlabel('Time', fontsize=16)\n",
    "ax.tick_params(axis='both', which='major', labelsize=14)\n",
    "fig.show()"
   ]
  },
  {
   "cell_type": "markdown",
   "id": "9098d3a8",
   "metadata": {},
   "source": [
    "### Multi-Echo Independent Components Analysis\n",
    "The whitened optimally combined data are then decomposed with ICA.\n",
    "The number of ICA components is limited to the number of retained components from the PCA,\n",
    "in order to reflect the true dimensionality of the data.\n",
    "ICA produces a mixing matrix (i.e., timeseries for each component)."
   ]
  },
  {
   "cell_type": "code",
   "execution_count": null,
   "id": "01ba1b41",
   "metadata": {},
   "outputs": [],
   "source": [
    "fig, axes = plt.subplots(3, sharex=True, figsize=(14, 6))\n",
    "i = 0\n",
    "k = df.loc[i, 'kappa']\n",
    "r = df.loc[i, 'rho']\n",
    "c = df.loc[i, 'classification']\n",
    "axes[0].plot(meica_mmix[:, i])\n",
    "axes[0].set_title('ICA Component {0}; $\\\\kappa$ = {1:.02f}; $\\\\rho$ = {2:.02f}; {3}'.format(i, k, r, c), fontsize=16)\n",
    "\n",
    "i = 3\n",
    "k = df.loc[i, 'kappa']\n",
    "r = df.loc[i, 'rho']\n",
    "c = df.loc[i, 'classification']\n",
    "axes[1].plot(meica_mmix[:, i])\n",
    "axes[1].set_title('ICA Component {0}; $\\\\kappa$ = {1:.02f}; $\\\\rho$ = {2:.02f}; {3}'.format(i, k, r, c), fontsize=16)\n",
    "\n",
    "i = 44\n",
    "k = df.loc[i, 'kappa']\n",
    "r = df.loc[i, 'rho']\n",
    "c = df.loc[i, 'classification']\n",
    "axes[2].plot(meica_mmix[:, i])\n",
    "axes[2].set_title('ICA Component {0}; $\\\\kappa$ = {1:.02f}; $\\\\rho$ = {2:.02f}; {3}'.format(i, k, r, c), fontsize=16)\n",
    "\n",
    "axes[0].set_xlim(0, meica_mmix.shape[0]-1)\n",
    "axes[2].set_xticks([])\n",
    "axes[2].set_xlabel('Time', fontsize=16)\n",
    "axes[0].tick_params(axis='both', which='major', labelsize=12)\n",
    "axes[1].tick_params(axis='both', which='major', labelsize=12)\n",
    "axes[2].tick_params(axis='both', which='major', labelsize=12)\n",
    "fig.tight_layout()\n",
    "fig.show()"
   ]
  },
  {
   "cell_type": "markdown",
   "id": "31045b24",
   "metadata": {},
   "source": [
    "## $R_2$ and $S_0$ Model Fit\n",
    "Linear regression is used to fit the component timeseries to each voxel in each echo from the original, echo-specific data.\n",
    "This results in echo- and voxel-specific betas for each of the components.\n",
    "TE-dependence ($R_2$) and TE-independence ($S_0$) models can then be fit to these betas.\n",
    "\n",
    "These models allow calculation of F-statistics for the $R_2$ and $S_0$ models (referred to as $\\kappa$ and $\\rho$, respectively).\n",
    "\n",
    "Note that the values here are for a single voxel (the highest-weighted one for the component),\n",
    "but $\\kappa$ and $\\rho$ are averaged across voxels."
   ]
  },
  {
   "cell_type": "code",
   "execution_count": null,
   "id": "2e4f7e1f",
   "metadata": {},
   "outputs": [],
   "source": [
    "components = [0, 3, 44]\n",
    "for i, comp in enumerate(components):  # only generate plots for a few components\n",
    "    comp_voxel_idx = np.where(beta_maps[comp, :] == np.max(beta_maps[comp, :]))[0][0]\n",
    "    # Use weight map to average as fitmodels_direct does\n",
    "    comp_weights = meica_betas[comp, :, comp_voxel_idx]\n",
    "    r2_pred_weights = r2_pred_betas[comp, :, comp_voxel_idx]\n",
    "    s0_pred_weights = s0_pred_betas[comp, :, comp_voxel_idx]\n",
    "\n",
    "    fig, ax = plt.subplots(figsize=(16, 4))\n",
    "    ax.plot(echo_times, comp_weights, c='black', alpha=0.5, linewidth=5, label='Component PEs')\n",
    "    ax.plot(echo_times, r2_pred_weights, c='blue', label='Predicted T2* model values')\n",
    "    ax.plot(echo_times, s0_pred_weights, c='red', label='Predicted S0 model values')\n",
    "    ax.set_xticks(echo_times)\n",
    "    ax.tick_params(axis='both', which='major', labelsize=12)\n",
    "    ax.set_xlabel('Echo Time (ms)', fontsize=16)\n",
    "    temp = np.hstack((comp_weights, s0_pred_weights, r2_pred_weights))\n",
    "    lim = np.mean(temp) * .05\n",
    "    ax.set_ylim(np.floor(np.min(temp)) - lim, np.ceil(np.max(temp)) + lim)\n",
    "    legend = ax.legend(frameon=True, fontsize=14, ncol=3)\n",
    "    ax.set_title('ICA Component {}'.format(comp), fontsize=16)\n",
    "    fig.tight_layout()\n",
    "    fig.show()"
   ]
  },
  {
   "cell_type": "markdown",
   "id": "091cc84a",
   "metadata": {},
   "source": [
    "## ICA Component Selection and Multi-Echo Denoising\n",
    "A decision tree is applied to $\\kappa$, $\\rho$, and other metrics in order to classify ICA components as TE-dependent (BOLD signal),\n",
    "TE-independent (non-BOLD noise), or neither (to be ignored).\n",
    "\n",
    "The ICA components are fitted to the original (not whitened) optimally combined data with linear regression,\n",
    "which is used to weight the components for construction of the denoised data.\n",
    "The residuals from this regression will thus include the variance that was not included in the PCA-whitened optimally combined data.\n",
    "\n",
    "The ME-DN dataset is constructed from the accepted (BOLD) and ignored components, as well as the residual variance not explained by the ICA.\n",
    "The ME-HK dataset is constructed just from the accepted (BOLD) components.\n",
    "This means that ignored components and residual variance not explained by the ICA are not included in the resulting dataset."
   ]
  },
  {
   "cell_type": "code",
   "execution_count": null,
   "id": "09330c98",
   "metadata": {},
   "outputs": [],
   "source": [
    "dn_data_z = (dn_data - np.mean(dn_data, axis=0)) / np.std(dn_data, axis=0)\n",
    "hk_data_z = (hk_data - np.mean(hk_data, axis=0)) / np.std(hk_data, axis=0)\n",
    "\n",
    "fig, axes = plt.subplots(3, sharex=True, figsize=(14, 6))\n",
    "axes[0].plot(oc_z[:, voxel_idx], label='Optimally combined')\n",
    "axes[0].set_title('Optimally combined', fontsize=16)\n",
    "\n",
    "axes[1].plot(dn_data_z[:, voxel_idx], label='ME-DN')\n",
    "axes[1].set_title('ME-DN', fontsize=16)\n",
    "\n",
    "axes[2].plot(hk_data_z[:, voxel_idx])\n",
    "axes[2].set_title('ME-HK', fontsize=16)\n",
    "legend = ax.legend(frameon=True)\n",
    "axes[0].set_xlim(0, oc_z.shape[0]-1)\n",
    "axes[2].set_xticks([])\n",
    "axes[2].set_xlabel('Time', fontsize=16)\n",
    "axes[0].tick_params(axis='both', which='major', labelsize=12)\n",
    "axes[1].tick_params(axis='both', which='major', labelsize=12)\n",
    "axes[2].tick_params(axis='both', which='major', labelsize=12)\n",
    "fig.tight_layout()\n",
    "\n",
    "fig.show()"
   ]
  },
  {
   "cell_type": "markdown",
   "id": "958caef7",
   "metadata": {},
   "source": [
    "## Post-processing to remove spatially diffuse noise\n",
    "Due to the constraints of ICA, MEICA is able to identify and remove spatially localized noise components,\n",
    "but it cannot identify components that are spread out throughout the whole brain.\n",
    "\n",
    "One of several post-processing strategies may be applied to the ME-DN or ME-HK datasets in order to remove spatially diffuse\n",
    "(ostensibly respiration-related) noise.\n",
    "Methods which have been employed in the past include global signal regression (GSR), T1c-GSR, anatomical CompCor,\n",
    "Go Decomposition (GODEC), and robust PCA."
   ]
  },
  {
   "cell_type": "code",
   "execution_count": null,
   "id": "ad9dddc4",
   "metadata": {},
   "outputs": [],
   "source": [
    "dn_t1c_data_z = (dn_t1c_data - np.mean(dn_t1c_data, axis=0)) / np.std(dn_t1c_data, axis=0)\n",
    "hk_t1c_data_z = (hk_t1c_data - np.mean(hk_t1c_data, axis=0)) / np.std(hk_t1c_data, axis=0)\n",
    "\n",
    "fig, axes = plt.subplots(2, sharex=True, figsize=(14, 6))\n",
    "axes[0].plot(dn_t1c_data_z[:, voxel_idx], label='ME-DN T1c')\n",
    "axes[0].plot(dn_data_z[:, voxel_idx], label='ME-DN', alpha=0.5, linewidth=3, zorder=0.)\n",
    "axes[0].set_title('ME-DN', fontsize=16)\n",
    "legend = axes[0].legend(frameon=True, loc='upper right')\n",
    "\n",
    "axes[1].plot(hk_t1c_data_z[:, voxel_idx], label='ME-HK T1c')\n",
    "axes[1].plot(hk_data_z[:, voxel_idx], label='ME-HK', alpha=0.5, linewidth=3, zorder=0.)\n",
    "axes[1].set_title('ME-HK', fontsize=16)\n",
    "legend = axes[1].legend(frameon=True)\n",
    "axes[0].set_xlim(0, oc_z.shape[0]-1)\n",
    "axes[1].set_xticks([])\n",
    "axes[1].set_xlabel('Time', fontsize=16)\n",
    "axes[0].tick_params(axis='both', which='major', labelsize=12)\n",
    "axes[1].tick_params(axis='both', which='major', labelsize=12)\n",
    "fig.tight_layout()\n",
    "fig.show()"
   ]
  }
 ],
 "metadata": {
  "jupytext": {
   "text_representation": {
    "extension": ".md",
    "format_name": "myst",
    "format_version": 0.13,
    "jupytext_version": "1.10.3"
   }
  },
  "kernelspec": {
   "display_name": "Python 3",
   "language": "python",
   "name": "python3"
  },
  "language_info": {
   "codemirror_mode": {
    "name": "ipython",
    "version": 3
   },
   "file_extension": ".py",
   "mimetype": "text/x-python",
   "name": "python",
   "nbconvert_exporter": "python",
   "pygments_lexer": "ipython3",
   "version": "3.7.12"
  },
  "source_map": [
   12,
   16,
   39,
   42,
   148,
   176,
   180,
   192,
   196,
   211,
   221,
   231,
   235,
   244,
   248,
   264,
   294,
   316,
   324,
   344,
   348,
   369,
   373,
   381,
   385,
   410,
   414,
   431,
   438,
   461,
   466,
   476,
   484,
   515,
   527,
   550,
   564,
   587,
   598
  ]
 },
 "nbformat": 4,
 "nbformat_minor": 5
}