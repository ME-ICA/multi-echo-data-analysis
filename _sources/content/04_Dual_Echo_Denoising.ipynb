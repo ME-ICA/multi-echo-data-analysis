{
 "cells": [
  {
   "cell_type": "markdown",
   "id": "8da20120",
   "metadata": {},
   "source": [
    "# Dual-Echo Denoising with `nilearn`\n",
    "\n",
    "Dual-echo fMRI leverages one of the same principles motivating multi-echo fMRI;\n",
    "namely, that BOLD contrast increases with echo time, so earlier echoes tend to be more affected by non-BOLD noise than later ones.\n",
    "At an early enough echo time (<5ms for 3T scanners), the signal is almost entirely driven by non-BOLD noise.\n",
    "When it comes to denoising, this means that, if you acquire data with both an early echo time and a more typical echo time (~30ms for 3T),\n",
    "you can simply regress the earlier echo's time series out of the later echo's time series, which will remove a lot of non-BOLD noise.\n",
    "\n",
    "Additionally, dual-echo fMRI comes at no real cost in terms of temporal or spatial resolution, unlike multi-echo fMRI.\n",
    "For multi-echo denoising to work, you need to have at least one echo time that is _later_ than the typical echo time,\n",
    "which means decreasing your temporal resolution, all else remaining equal. In the case of dual-echo fMRI,\n",
    "you only need a _shorter_ echo time, which occurs in what is essentially \"dead time\" in the pulse sequence.\n",
    "\n",
    "Dual-echo denoising was originally proposed in [Bright & Murphy (2013)](https://dx.doi.org/10.1016%2Fj.neuroimage.2012.09.043)."
   ]
  },
  {
   "cell_type": "code",
   "execution_count": 1,
   "id": "d737f2e2",
   "metadata": {},
   "outputs": [],
   "source": [
    "import json\n",
    "import os\n",
    "from glob import glob\n",
    "\n",
    "import matplotlib.pyplot as plt\n",
    "import nibabel as nb\n",
    "from book_utils import regress_one_image_out_of_another\n",
    "from myst_nb import glue\n",
    "from nilearn import plotting\n",
    "\n",
    "data_path = os.path.abspath('../DATA')"
   ]
  },
  {
   "cell_type": "code",
   "execution_count": 2,
   "id": "7313675f",
   "metadata": {},
   "outputs": [
    {
     "ename": "ValueError",
     "evalue": "File not found: '/home/runner/work/multi-echo-data-analysis/multi-echo-data-analysis/DATA/ds006185/sub-24053/ses-1/func/sub-24053_ses-1_task-rat_rec-nordic_dir-PA_run-01_echo-2_part-mag_desc-preproc_bold.nii.gz'",
     "output_type": "error",
     "traceback": [
      "\u001b[31m---------------------------------------------------------------------------\u001b[39m",
      "\u001b[31mValueError\u001b[39m                                Traceback (most recent call last)",
      "\u001b[36mCell\u001b[39m\u001b[36m \u001b[39m\u001b[32mIn[2]\u001b[39m\u001b[32m, line 14\u001b[39m\n\u001b[32m      6\u001b[39m te2_img = os.path.join(\n\u001b[32m      7\u001b[39m     func_dir,\n\u001b[32m      8\u001b[39m     \u001b[33m\"\u001b[39m\u001b[33msub-24053_ses-1_task-rat_rec-nordic_dir-PA_run-01_echo-2_part-mag_desc-preproc_bold.nii.gz\u001b[39m\u001b[33m\"\u001b[39m,\n\u001b[32m      9\u001b[39m )\n\u001b[32m     10\u001b[39m mask_img = os.path.join(\n\u001b[32m     11\u001b[39m     func_dir,\n\u001b[32m     12\u001b[39m     \u001b[33m\"\u001b[39m\u001b[33msub-24053_ses-1_task-rat_rec-nordic_dir-PA_run-01_part-mag_desc-brain_mask.nii.gz\u001b[39m\u001b[33m\"\u001b[39m\n\u001b[32m     13\u001b[39m )\n\u001b[32m---> \u001b[39m\u001b[32m14\u001b[39m denoised_img = \u001b[43mregress_one_image_out_of_another\u001b[49m\u001b[43m(\u001b[49m\u001b[43mte2_img\u001b[49m\u001b[43m,\u001b[49m\u001b[43m \u001b[49m\u001b[43mte1_img\u001b[49m\u001b[43m,\u001b[49m\u001b[43m \u001b[49m\u001b[43mmask_img\u001b[49m\u001b[43m)\u001b[49m\n",
      "\u001b[36mFile \u001b[39m\u001b[32m~/work/multi-echo-data-analysis/multi-echo-data-analysis/content/book_utils.py:10\u001b[39m, in \u001b[36mregress_one_image_out_of_another\u001b[39m\u001b[34m(data_img, nuis_img, mask_img)\u001b[39m\n\u001b[32m      8\u001b[39m \u001b[38;5;250m\u001b[39m\u001b[33;03m\"\"\"Do what it says on the tin.\"\"\"\u001b[39;00m\n\u001b[32m      9\u001b[39m \u001b[38;5;66;03m# First, mean-center each image over time\u001b[39;00m\n\u001b[32m---> \u001b[39m\u001b[32m10\u001b[39m mean_data_img = \u001b[43mimage\u001b[49m\u001b[43m.\u001b[49m\u001b[43mmean_img\u001b[49m\u001b[43m(\u001b[49m\u001b[43mdata_img\u001b[49m\u001b[43m)\u001b[49m\n\u001b[32m     11\u001b[39m mean_nuis_img = image.mean_img(nuis_img)\n\u001b[32m     13\u001b[39m data_img_mc = image.math_img(\n\u001b[32m     14\u001b[39m     \u001b[33m\"\u001b[39m\u001b[33mimg - avg_img[..., None]\u001b[39m\u001b[33m\"\u001b[39m,\n\u001b[32m     15\u001b[39m     img=data_img,\n\u001b[32m     16\u001b[39m     avg_img=mean_data_img,\n\u001b[32m     17\u001b[39m )\n",
      "\u001b[36mFile \u001b[39m\u001b[32m/opt/hostedtoolcache/Python/3.12.11/x64/lib/python3.12/site-packages/nilearn/image/image.py:548\u001b[39m, in \u001b[36mmean_img\u001b[39m\u001b[34m(imgs, target_affine, target_shape, verbose, n_jobs)\u001b[39m\n\u001b[32m    543\u001b[39m     imgs = [\n\u001b[32m    544\u001b[39m         imgs,\n\u001b[32m    545\u001b[39m     ]\n\u001b[32m    547\u001b[39m imgs_iter = \u001b[38;5;28miter\u001b[39m(imgs)\n\u001b[32m--> \u001b[39m\u001b[32m548\u001b[39m first_img = \u001b[43mcheck_niimg\u001b[49m\u001b[43m(\u001b[49m\u001b[38;5;28;43mnext\u001b[39;49m\u001b[43m(\u001b[49m\u001b[43mimgs_iter\u001b[49m\u001b[43m)\u001b[49m\u001b[43m)\u001b[49m\n\u001b[32m    550\u001b[39m \u001b[38;5;66;03m# Compute the first mean to retrieve the reference\u001b[39;00m\n\u001b[32m    551\u001b[39m \u001b[38;5;66;03m# target_affine and target_shape if_needed\u001b[39;00m\n\u001b[32m    552\u001b[39m n_imgs = \u001b[32m1\u001b[39m\n",
      "\u001b[36mFile \u001b[39m\u001b[32m/opt/hostedtoolcache/Python/3.12.11/x64/lib/python3.12/site-packages/nilearn/_utils/niimg_conversions.py:300\u001b[39m, in \u001b[36mcheck_niimg\u001b[39m\u001b[34m(niimg, ensure_ndim, atleast_4d, dtype, return_iterator, wildcards)\u001b[39m\n\u001b[32m    298\u001b[39m         \u001b[38;5;28;01mraise\u001b[39;00m \u001b[38;5;167;01mValueError\u001b[39;00m(message)\n\u001b[32m    299\u001b[39m     \u001b[38;5;28;01melse\u001b[39;00m:\n\u001b[32m--> \u001b[39m\u001b[32m300\u001b[39m         \u001b[38;5;28;01mraise\u001b[39;00m \u001b[38;5;167;01mValueError\u001b[39;00m(\u001b[33mf\u001b[39m\u001b[33m\"\u001b[39m\u001b[33mFile not found: \u001b[39m\u001b[33m'\u001b[39m\u001b[38;5;132;01m{\u001b[39;00mniimg\u001b[38;5;132;01m}\u001b[39;00m\u001b[33m'\u001b[39m\u001b[33m\"\u001b[39m)\n\u001b[32m    301\u001b[39m \u001b[38;5;28;01melif\u001b[39;00m \u001b[38;5;129;01mnot\u001b[39;00m os.path.exists(niimg):\n\u001b[32m    302\u001b[39m     \u001b[38;5;28;01mraise\u001b[39;00m \u001b[38;5;167;01mValueError\u001b[39;00m(\u001b[33mf\u001b[39m\u001b[33m\"\u001b[39m\u001b[33mFile not found: \u001b[39m\u001b[33m'\u001b[39m\u001b[38;5;132;01m{\u001b[39;00mniimg\u001b[38;5;132;01m}\u001b[39;00m\u001b[33m'\u001b[39m\u001b[33m\"\u001b[39m)\n",
      "\u001b[31mValueError\u001b[39m: File not found: '/home/runner/work/multi-echo-data-analysis/multi-echo-data-analysis/DATA/ds006185/sub-24053/ses-1/func/sub-24053_ses-1_task-rat_rec-nordic_dir-PA_run-01_echo-2_part-mag_desc-preproc_bold.nii.gz'"
     ]
    }
   ],
   "source": [
    "func_dir = os.path.join(data_path, \"ds006185/sub-24053/ses-1/func/\")\n",
    "te1_img = os.path.join(\n",
    "    func_dir,\n",
    "    \"sub-24053_ses-1_task-rat_rec-nordic_dir-PA_run-01_echo-1_part-mag_desc-preproc_bold.nii.gz\",\n",
    ")\n",
    "te2_img = os.path.join(\n",
    "    func_dir,\n",
    "    \"sub-24053_ses-1_task-rat_rec-nordic_dir-PA_run-01_echo-2_part-mag_desc-preproc_bold.nii.gz\",\n",
    ")\n",
    "mask_img = os.path.join(\n",
    "    func_dir,\n",
    "    \"sub-24053_ses-1_task-rat_rec-nordic_dir-PA_run-01_part-mag_desc-brain_mask.nii.gz\"\n",
    ")\n",
    "denoised_img = regress_one_image_out_of_another(te2_img, te1_img, mask_img)"
   ]
  },
  {
   "cell_type": "code",
   "execution_count": null,
   "id": "9c7d7587",
   "metadata": {},
   "outputs": [],
   "source": [
    "fig, axes = plt.subplots(figsize=(16, 16), nrows=3)\n",
    "\n",
    "plotting.plot_carpet(te2_img, axes=axes[0], figure=fig)\n",
    "axes[0].set_title(\"First Echo (BAD)\", fontsize=20)\n",
    "plotting.plot_carpet(te1_img, axes=axes[1], figure=fig)\n",
    "axes[1].set_title(\"Second Echo (GOOD)\", fontsize=20)\n",
    "plotting.plot_carpet(denoised_img, axes=axes[2], figure=fig)\n",
    "axes[2].set_title(\"Denoised Data (GREAT)\", fontsize=20)\n",
    "axes[0].xaxis.set_visible(False)\n",
    "axes[1].xaxis.set_visible(False)\n",
    "axes[0].spines[\"bottom\"].set_visible(False)\n",
    "axes[1].spines[\"bottom\"].set_visible(False)\n",
    "fig.tight_layout()\n",
    "glue(\"figure_dual_echo_results\", fig, display=False)"
   ]
  },
  {
   "cell_type": "markdown",
   "id": "9b049698",
   "metadata": {},
   "source": [
    "```{glue:figure} figure_dual_echo_results\n",
    ":name: \"figure_dual_echo_results\"\n",
    ":align: center\n",
    "\n",
    "Results of dual-echo regression.\n",
    "```"
   ]
  }
 ],
 "metadata": {
  "jupytext": {
   "text_representation": {
    "extension": ".md",
    "format_name": "myst",
    "jupytext_version": "1.18.1"
   }
  },
  "kernelspec": {
   "display_name": "Python 3",
   "language": "python",
   "name": "python3"
  },
  "language_info": {
   "codemirror_mode": {
    "name": "ipython",
    "version": 3
   },
   "file_extension": ".py",
   "mimetype": "text/x-python",
   "name": "python",
   "nbconvert_exporter": "python",
   "pygments_lexer": "ipython3",
   "version": "3.12.11"
  },
  "source_map": [
   11,
   29,
   43,
   60,
   75
  ]
 },
 "nbformat": 4,
 "nbformat_minor": 5
}