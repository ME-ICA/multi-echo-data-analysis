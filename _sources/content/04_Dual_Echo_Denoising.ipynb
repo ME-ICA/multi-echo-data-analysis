{
 "cells": [
  {
   "cell_type": "markdown",
   "id": "ea895abb",
   "metadata": {},
   "source": [
    "# Dual-Echo Denoising with nilearn\n",
    "\n",
    "Dual-echo fMRI leverages one of the same principles motivating multi-echo fMRI; namely, that BOLD contrast increases with echo time, so earlier echoes tend to be more affected by non-BOLD noise than later ones. At an early enough echo time (<5ms for 3T scanners), the signal is almost entirely driven by non-BOLD noise. When it comes to denoising, this means that, if you acquire data with both an early echo time and a more typical echo time (~30ms for 3T), you can simply regress the earlier echo's time series out of the later echo's time series, which will remove a lot of non-BOLD noise.\n",
    "\n",
    "Additionally, dual-echo fMRI comes at no real cost in terms of temporal or spatial resolution, unlike multi-echo fMRI. For multi-echo denoising to work, you need to have at least one echo time that is _later_ than the typical echo time, which means decreasing your temporal resolution, all else remaining equal. In the case of dual-echo fMRI, you only need a _shorter_ echo time, which occurs in what is essentially \"dead time\" in the pulse sequence.\n",
    "\n",
    "Dual-echo denoising was originally proposed in [Bright & Murphy (2013)](https://dx.doi.org/10.1016%2Fj.neuroimage.2012.09.043)."
   ]
  },
  {
   "cell_type": "code",
   "execution_count": null,
   "id": "6e12de37",
   "metadata": {},
   "outputs": [],
   "source": [
    "import matplotlib.pyplot as plt\n",
    "import numpy as np\n",
    "from nilearn import image, masking, plotting\n",
    "\n",
    "\n",
    "def regress_one_image_out_of_another(data_img, nuis_img, mask_img):\n",
    "    # First, mean-center each image over time\n",
    "    mean_data_img = image.mean_img(data_img)\n",
    "    mean_nuis_img = image.mean_img(nuis_img)\n",
    "\n",
    "    data_img_mc = image.math_img(\n",
    "        \"img - avg_img[..., None]\",\n",
    "        img=data_img,\n",
    "        avg_img=mean_data_img,\n",
    "    )\n",
    "    nuis_img_mc = image.math_img(\n",
    "        \"img - avg_img[..., None]\",\n",
    "        img=nuis_img,\n",
    "        avg_img=mean_nuis_img,\n",
    "    )\n",
    "\n",
    "    # Now get the masked data in 2D format\n",
    "    data_mc = masking.apply_mask(data_img_mc, mask_img)\n",
    "    nuis_mc = masking.apply_mask(nuis_img_mc, mask_img)\n",
    "    nuis_mean = masking.apply_mask(mean_nuis_img, mask_img)\n",
    "    data_mean = masking.apply_mask(mean_data_img, mask_img)\n",
    "\n",
    "    # Build beta map by performing regression on each voxel\n",
    "    betas = np.zeros(data_mc.shape[1])\n",
    "    for i_voxel in range(data_mc.shape[1]):\n",
    "        temp_data = np.stack((data_mc[:, i_voxel], np.ones(data_mc.shape[0])), -1)\n",
    "        betas = np.linalg.lstsq(temp_data, nuis_mc[:, i_voxel], rcond=None)[0][0]\n",
    "\n",
    "    # Construct denoised time series\n",
    "    scaled_nuis = (nuis_mc * betas)\n",
    "    errorts = (data_mc - scaled_nuis) + data_mean\n",
    "    errorts_img = masking.unmask(errorts, mask_img)\n",
    "\n",
    "    return errorts_img"
   ]
  },
  {
   "cell_type": "code",
   "execution_count": null,
   "id": "f131e8c6",
   "metadata": {},
   "outputs": [],
   "source": [
    "te1_img = \"../data/sub-04570/func/sub-04570_task-rest_echo-1_space-scanner_desc-partialPreproc_bold.nii.gz\"\n",
    "te2_img = \"../data/sub-04570/func/sub-04570_task-rest_echo-2_space-scanner_desc-partialPreproc_bold.nii.gz\"\n",
    "mask_img = \"../data/sub-04570/func/sub-04570_task-rest_space-scanner_desc-brain_mask.nii.gz\"\n",
    "denoised_img = regress_one_image_out_of_another(te2_img, te1_img, mask_img)"
   ]
  },
  {
   "cell_type": "code",
   "execution_count": null,
   "id": "83953ab0",
   "metadata": {},
   "outputs": [],
   "source": [
    "fig, axes = plt.subplots(figsize=(16, 16), nrows=3)\n",
    "\n",
    "plotting.plot_carpet(te2_img, axes=axes[0], figure=fig)\n",
    "axes[0].set_title(\"First Echo (BAD)\", fontsize=20)\n",
    "plotting.plot_carpet(te1_img, axes=axes[1], figure=fig)\n",
    "axes[1].set_title(\"Second Echo (GOOD)\", fontsize=20)\n",
    "plotting.plot_carpet(denoised_img, axes=axes[2], figure=fig)\n",
    "axes[2].set_title(\"Denoised Data (GREAT)\", fontsize=20)\n",
    "axes[0].xaxis.set_visible(False)\n",
    "axes[1].xaxis.set_visible(False)\n",
    "axes[0].spines[\"bottom\"].set_visible(False)\n",
    "axes[1].spines[\"bottom\"].set_visible(False)\n",
    "fig.tight_layout()\n",
    "fig.show()"
   ]
  }
 ],
 "metadata": {
  "jupytext": {
   "text_representation": {
    "extension": ".md",
    "format_name": "myst",
    "format_version": 0.13,
    "jupytext_version": "1.10.3"
   }
  },
  "kernelspec": {
   "display_name": "Python 3",
   "language": "python",
   "name": "python3"
  },
  "source_map": [
   12,
   23,
   65,
   73
  ]
 },
 "nbformat": 4,
 "nbformat_minor": 5
}