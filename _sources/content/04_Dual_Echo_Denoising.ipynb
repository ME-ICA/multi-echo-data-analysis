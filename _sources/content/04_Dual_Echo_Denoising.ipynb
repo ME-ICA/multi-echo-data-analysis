{
 "cells": [
  {
   "cell_type": "markdown",
   "id": "568d3d48",
   "metadata": {},
   "source": [
    "# Dual-Echo Denoising with `nilearn`\n",
    "\n",
    "Dual-echo fMRI leverages one of the same principles motivating multi-echo fMRI;\n",
    "namely, that BOLD contrast increases with echo time, so earlier echoes tend to be more affected by non-BOLD noise than later ones.\n",
    "At an early enough echo time (<5ms for 3T scanners), the signal is almost entirely driven by non-BOLD noise.\n",
    "When it comes to denoising, this means that, if you acquire data with both an early echo time and a more typical echo time (~30ms for 3T),\n",
    "you can simply regress the earlier echo's time series out of the later echo's time series, which will remove a lot of non-BOLD noise.\n",
    "\n",
    "Additionally, dual-echo fMRI comes at no real cost in terms of temporal or spatial resolution, unlike multi-echo fMRI.\n",
    "For multi-echo denoising to work, you need to have at least one echo time that is _later_ than the typical echo time,\n",
    "which means decreasing your temporal resolution, all else remaining equal. In the case of dual-echo fMRI,\n",
    "you only need a _shorter_ echo time, which occurs in what is essentially \"dead time\" in the pulse sequence.\n",
    "\n",
    "Dual-echo denoising was originally proposed in [Bright & Murphy (2013)](https://dx.doi.org/10.1016%2Fj.neuroimage.2012.09.043)."
   ]
  },
  {
   "cell_type": "code",
   "execution_count": 1,
   "id": "94700651",
   "metadata": {},
   "outputs": [
    {
     "name": "stdout",
     "output_type": "stream",
     "text": [
      "---- repo2data starting ----\n",
      "/opt/hostedtoolcache/Python/3.8.18/x64/lib/python3.8/site-packages/repo2data\n",
      "Config from file :\n",
      "../binder/data_requirement.json\n",
      "Destination:\n",
      "./../data/multi-echo-data-analysis\n",
      "\n",
      "Info : ./../data/multi-echo-data-analysis already downloaded\n"
     ]
    }
   ],
   "source": [
    "import os\n",
    "\n",
    "import matplotlib.pyplot as plt\n",
    "from book_utils import regress_one_image_out_of_another\n",
    "from myst_nb import glue\n",
    "from nilearn import plotting\n",
    "from repo2data.repo2data import Repo2Data\n",
    "\n",
    "# Install the data if running locally, or point to cached data if running on neurolibre\n",
    "DATA_REQ_FILE = os.path.join(\"../binder/data_requirement.json\")\n",
    "\n",
    "# Download data\n",
    "repo2data = Repo2Data(DATA_REQ_FILE)\n",
    "data_path = repo2data.install()\n",
    "data_path = os.path.abspath(data_path[0])"
   ]
  },
  {
   "cell_type": "code",
   "execution_count": 2,
   "id": "77d04e12",
   "metadata": {},
   "outputs": [
    {
     "ename": "ValueError",
     "evalue": "File not found: '/home/runner/work/multi-echo-data-analysis/multi-echo-data-analysis/data/multi-echo-data-analysis/sub-04570/func/sub-04570_task-rest_echo-2_space-scanner_desc-partialPreproc_bold.nii.gz'",
     "output_type": "error",
     "traceback": [
      "\u001b[0;31m---------------------------------------------------------------------------\u001b[0m",
      "\u001b[0;31mValueError\u001b[0m                                Traceback (most recent call last)",
      "Cell \u001b[0;32mIn[2], line 12\u001b[0m\n\u001b[1;32m      5\u001b[0m te2_img \u001b[38;5;241m=\u001b[39m os\u001b[38;5;241m.\u001b[39mpath\u001b[38;5;241m.\u001b[39mjoin(\n\u001b[1;32m      6\u001b[0m     data_path,\n\u001b[1;32m      7\u001b[0m     \u001b[38;5;124m\"\u001b[39m\u001b[38;5;124msub-04570/func/sub-04570_task-rest_echo-2_space-scanner_desc-partialPreproc_bold.nii.gz\u001b[39m\u001b[38;5;124m\"\u001b[39m,\n\u001b[1;32m      8\u001b[0m )\n\u001b[1;32m      9\u001b[0m mask_img \u001b[38;5;241m=\u001b[39m os\u001b[38;5;241m.\u001b[39mpath\u001b[38;5;241m.\u001b[39mjoin(\n\u001b[1;32m     10\u001b[0m     data_path, \u001b[38;5;124m\"\u001b[39m\u001b[38;5;124msub-04570/func/sub-04570_task-rest_space-scanner_desc-brain_mask.nii.gz\u001b[39m\u001b[38;5;124m\"\u001b[39m\n\u001b[1;32m     11\u001b[0m )\n\u001b[0;32m---> 12\u001b[0m denoised_img \u001b[38;5;241m=\u001b[39m \u001b[43mregress_one_image_out_of_another\u001b[49m\u001b[43m(\u001b[49m\u001b[43mte2_img\u001b[49m\u001b[43m,\u001b[49m\u001b[43m \u001b[49m\u001b[43mte1_img\u001b[49m\u001b[43m,\u001b[49m\u001b[43m \u001b[49m\u001b[43mmask_img\u001b[49m\u001b[43m)\u001b[49m\n",
      "File \u001b[0;32m~/work/multi-echo-data-analysis/multi-echo-data-analysis/content/book_utils.py:9\u001b[0m, in \u001b[0;36mregress_one_image_out_of_another\u001b[0;34m(data_img, nuis_img, mask_img)\u001b[0m\n\u001b[1;32m      7\u001b[0m \u001b[38;5;250m\u001b[39m\u001b[38;5;124;03m\"\"\"Do what it says on the tin.\"\"\"\u001b[39;00m\n\u001b[1;32m      8\u001b[0m \u001b[38;5;66;03m# First, mean-center each image over time\u001b[39;00m\n\u001b[0;32m----> 9\u001b[0m mean_data_img \u001b[38;5;241m=\u001b[39m \u001b[43mimage\u001b[49m\u001b[38;5;241;43m.\u001b[39;49m\u001b[43mmean_img\u001b[49m\u001b[43m(\u001b[49m\u001b[43mdata_img\u001b[49m\u001b[43m)\u001b[49m\n\u001b[1;32m     10\u001b[0m mean_nuis_img \u001b[38;5;241m=\u001b[39m image\u001b[38;5;241m.\u001b[39mmean_img(nuis_img)\n\u001b[1;32m     12\u001b[0m data_img_mc \u001b[38;5;241m=\u001b[39m image\u001b[38;5;241m.\u001b[39mmath_img(\n\u001b[1;32m     13\u001b[0m     \u001b[38;5;124m\"\u001b[39m\u001b[38;5;124mimg - avg_img[..., None]\u001b[39m\u001b[38;5;124m\"\u001b[39m,\n\u001b[1;32m     14\u001b[0m     img\u001b[38;5;241m=\u001b[39mdata_img,\n\u001b[1;32m     15\u001b[0m     avg_img\u001b[38;5;241m=\u001b[39mmean_data_img,\n\u001b[1;32m     16\u001b[0m )\n",
      "File \u001b[0;32m/opt/hostedtoolcache/Python/3.8.18/x64/lib/python3.8/site-packages/nilearn/image/image.py:531\u001b[0m, in \u001b[0;36mmean_img\u001b[0;34m(imgs, target_affine, target_shape, verbose, n_jobs)\u001b[0m\n\u001b[1;32m    528\u001b[0m     imgs \u001b[38;5;241m=\u001b[39m [imgs, ]\n\u001b[1;32m    530\u001b[0m imgs_iter \u001b[38;5;241m=\u001b[39m \u001b[38;5;28miter\u001b[39m(imgs)\n\u001b[0;32m--> 531\u001b[0m first_img \u001b[38;5;241m=\u001b[39m \u001b[43mcheck_niimg\u001b[49m\u001b[43m(\u001b[49m\u001b[38;5;28;43mnext\u001b[39;49m\u001b[43m(\u001b[49m\u001b[43mimgs_iter\u001b[49m\u001b[43m)\u001b[49m\u001b[43m)\u001b[49m\n\u001b[1;32m    533\u001b[0m \u001b[38;5;66;03m# Compute the first mean to retrieve the reference\u001b[39;00m\n\u001b[1;32m    534\u001b[0m \u001b[38;5;66;03m# target_affine and target_shape if_needed\u001b[39;00m\n\u001b[1;32m    535\u001b[0m n_imgs \u001b[38;5;241m=\u001b[39m \u001b[38;5;241m1\u001b[39m\n",
      "File \u001b[0;32m/opt/hostedtoolcache/Python/3.8.18/x64/lib/python3.8/site-packages/nilearn/_utils/niimg_conversions.py:271\u001b[0m, in \u001b[0;36mcheck_niimg\u001b[0;34m(niimg, ensure_ndim, atleast_4d, dtype, return_iterator, wildcards)\u001b[0m\n\u001b[1;32m    269\u001b[0m         \u001b[38;5;28;01mraise\u001b[39;00m \u001b[38;5;167;01mValueError\u001b[39;00m(message)\n\u001b[1;32m    270\u001b[0m     \u001b[38;5;28;01melse\u001b[39;00m:\n\u001b[0;32m--> 271\u001b[0m         \u001b[38;5;28;01mraise\u001b[39;00m \u001b[38;5;167;01mValueError\u001b[39;00m(\u001b[38;5;124m\"\u001b[39m\u001b[38;5;124mFile not found: \u001b[39m\u001b[38;5;124m'\u001b[39m\u001b[38;5;132;01m%s\u001b[39;00m\u001b[38;5;124m'\u001b[39m\u001b[38;5;124m\"\u001b[39m \u001b[38;5;241m%\u001b[39m niimg)\n\u001b[1;32m    272\u001b[0m \u001b[38;5;28;01melif\u001b[39;00m \u001b[38;5;129;01mnot\u001b[39;00m os\u001b[38;5;241m.\u001b[39mpath\u001b[38;5;241m.\u001b[39mexists(niimg):\n\u001b[1;32m    273\u001b[0m     \u001b[38;5;28;01mraise\u001b[39;00m \u001b[38;5;167;01mValueError\u001b[39;00m(\u001b[38;5;124m\"\u001b[39m\u001b[38;5;124mFile not found: \u001b[39m\u001b[38;5;124m'\u001b[39m\u001b[38;5;132;01m%s\u001b[39;00m\u001b[38;5;124m'\u001b[39m\u001b[38;5;124m\"\u001b[39m \u001b[38;5;241m%\u001b[39m niimg)\n",
      "\u001b[0;31mValueError\u001b[0m: File not found: '/home/runner/work/multi-echo-data-analysis/multi-echo-data-analysis/data/multi-echo-data-analysis/sub-04570/func/sub-04570_task-rest_echo-2_space-scanner_desc-partialPreproc_bold.nii.gz'"
     ]
    }
   ],
   "source": [
    "te1_img = os.path.join(\n",
    "    data_path,\n",
    "    \"sub-04570/func/sub-04570_task-rest_echo-1_space-scanner_desc-partialPreproc_bold.nii.gz\",\n",
    ")\n",
    "te2_img = os.path.join(\n",
    "    data_path,\n",
    "    \"sub-04570/func/sub-04570_task-rest_echo-2_space-scanner_desc-partialPreproc_bold.nii.gz\",\n",
    ")\n",
    "mask_img = os.path.join(\n",
    "    data_path, \"sub-04570/func/sub-04570_task-rest_space-scanner_desc-brain_mask.nii.gz\"\n",
    ")\n",
    "denoised_img = regress_one_image_out_of_another(te2_img, te1_img, mask_img)"
   ]
  },
  {
   "cell_type": "code",
   "execution_count": null,
   "id": "7486922d",
   "metadata": {},
   "outputs": [],
   "source": [
    "fig, axes = plt.subplots(figsize=(16, 16), nrows=3)\n",
    "\n",
    "plotting.plot_carpet(te2_img, axes=axes[0], figure=fig)\n",
    "axes[0].set_title(\"First Echo (BAD)\", fontsize=20)\n",
    "plotting.plot_carpet(te1_img, axes=axes[1], figure=fig)\n",
    "axes[1].set_title(\"Second Echo (GOOD)\", fontsize=20)\n",
    "plotting.plot_carpet(denoised_img, axes=axes[2], figure=fig)\n",
    "axes[2].set_title(\"Denoised Data (GREAT)\", fontsize=20)\n",
    "axes[0].xaxis.set_visible(False)\n",
    "axes[1].xaxis.set_visible(False)\n",
    "axes[0].spines[\"bottom\"].set_visible(False)\n",
    "axes[1].spines[\"bottom\"].set_visible(False)\n",
    "fig.tight_layout()\n",
    "glue(\"figure_dual_echo_results\", fig, display=False)"
   ]
  },
  {
   "cell_type": "markdown",
   "id": "787fdbbc",
   "metadata": {},
   "source": [
    "```{glue:figure} figure_dual_echo_results\n",
    ":name: \"figure_dual_echo_results\"\n",
    ":align: center\n",
    "\n",
    "Results of dual-echo regression.\n",
    "```"
   ]
  }
 ],
 "metadata": {
  "jupytext": {
   "text_representation": {
    "extension": ".md",
    "format_name": "myst",
    "format_version": 0.13,
    "jupytext_version": "1.10.3"
   }
  },
  "kernelspec": {
   "display_name": "Python 3",
   "language": "python",
   "name": "python3"
  },
  "language_info": {
   "codemirror_mode": {
    "name": "ipython",
    "version": 3
   },
   "file_extension": ".py",
   "mimetype": "text/x-python",
   "name": "python",
   "nbconvert_exporter": "python",
   "pygments_lexer": "ipython3",
   "version": "3.8.18"
  },
  "source_map": [
   12,
   30,
   48,
   63,
   78
  ]
 },
 "nbformat": 4,
 "nbformat_minor": 5
}