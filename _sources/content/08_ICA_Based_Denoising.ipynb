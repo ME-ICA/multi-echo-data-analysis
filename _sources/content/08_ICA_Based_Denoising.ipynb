{
 "cells": [
  {
   "cell_type": "markdown",
   "id": "a5141149",
   "metadata": {},
   "source": [
    "# Denoising Data with ICA\n",
    "\n",
    "## Aggressive Denoising\n",
    "\n",
    "````{tab} Python\n",
    "```python\n",
    "from nilearn import glm\n",
    "```\n",
    "````\n",
    "````{tab} AFNI\n",
    "```bash\n",
    "3dcalc --input stuff\n",
    "```\n",
    "````\n",
    "\n",
    "## Non-Aggressive Denoising\n",
    "\n",
    "\n",
    "## Component orthogonalization"
   ]
  }
 ],
 "metadata": {
  "jupytext": {
   "text_representation": {
    "extension": ".md",
    "format_name": "myst",
    "format_version": 0.13,
    "jupytext_version": "1.10.3"
   }
  },
  "kernelspec": {
   "display_name": "Python 3",
   "language": "python",
   "name": "python3"
  },
  "source_map": [
   12
  ]
 },
 "nbformat": 4,
 "nbformat_minor": 5
}