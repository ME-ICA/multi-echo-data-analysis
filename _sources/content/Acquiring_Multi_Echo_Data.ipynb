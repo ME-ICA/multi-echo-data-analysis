{
 "cells": [
  {
   "cell_type": "markdown",
   "id": "67bcad56",
   "metadata": {},
   "source": [
    "# Acquiring Multi-Echo Data\n",
    "\n",
    "## Available multi-echo fMRI sequences\n",
    "\n",
    "We have attempted to compile some basic multi-echo fMRI protocols in an [OSF project](https://osf.io/ebkrp/).\n",
    "The parameter choices in these protocols run and seem reasonable, but they have\n",
    "not been optimized for a specific situation.\n",
    "They are a good starting point for someone designing a study, but should not be\n",
    "considered canonical.\n",
    "If you would like to use one of them, please customize it for your own purposes\n",
    "and make sure to run pilot scans to test your choices.\n",
    "\n",
    "### Siemens\n",
    "\n",
    "**For Siemens users**, there are two options for Works In Progress (WIPs) Sequences.\n",
    "\n",
    "- The Center for Magnetic Resonance Research at the University of Minnesota\n",
    "  provides a custom MR sequence that allows users to collect multiple echoes\n",
    "  (termed **Contrasts**). The sequence and documentation can be [found here](https://www.cmrr.umn.edu/multiband/).\n",
    "  For details on obtaining a license follow\n",
    "  [this link](http://license.umn.edu/technologies/cmrr_center-for-magnetic-resonance-research-software-for-siemens-mri-scanners).\n",
    "  By default the number of contrasts is 1, yielding a single-echo sequence.\n",
    "  In order to collect multiple echoes, increase number of Contrasts on the\n",
    "  **Sequence Tab, Part 1** on the MR console.\n",
    "- The Martinos Center at Harvard also has a MR sequence available, with the details\n",
    "  [available here](https://www.nmr.mgh.harvard.edu/software/c2p/sms).\n",
    "  The number of echoes can be specified on the **Sequence, Special** tab in this sequence.\n",
    "\n",
    "### GE\n",
    "\n",
    "**For GE users**, there are currently two sharable pulse sequences:\n",
    "\n",
    "- Multi-echo EPI (MEPI) – Software releases: DV24, MP24 and DV25 (with offline recon)\n",
    "- Hyperband Multi-echo EPI (HyperMEPI) - Software releases: DV26, MP26, DV27, RX27\n",
    "  (here hyperband can be deactivated to do simple Multi-echo EPI – online recon)\n",
    "\n",
    "Please reach out to the GE Research Operation team or each pulse sequence’s\n",
    "author to begin the process of obtaining this software.\n",
    "More information can be found on the [GE Collaboration Portal](https://collaborate.mr.gehealthcare.com).\n",
    "\n",
    "Once logged in, go to Groups > GE Works-in-Progress you can find the description\n",
    "of the current ATSM (i.e. prototypes).\n",
    "\n",
    "### Philips\n",
    "\n",
    "**For Philips users**, sequences can be defined using product software.\n",
    "\n",
    "Multi-echo EPI (ME-EPI) can be acquired using the product software and can be combined with\n",
    "SENSE parallel imaging and MultiBand.\n",
    "The combination with MultiBand requires a SW release >R5.1 and MultiBand functionality to be present.\n",
    "No default ME-EPI are provided, but existing single-echo EPI sequences from the BOLD fMRI folder can be\n",
    "modified into multi-echo sequences by increasing the number of echoes.\n",
    "As a starting point to develop a 3 echo EPI protocol start by opening the default fMRI protocol and\n",
    "modify the following: increase number of echoes to 3 on the Contrast tab, set SENSE = 3, MB-SENSE = 3,\n",
    "set to 3mm isotropic voxels and adjust TEs to your preference.\n",
    "\n",
    "## Other available multi-echo MRI sequences\n",
    "\n",
    "In addition to ME-fMRI, other MR sequences benefit from acquiring multiple\n",
    "echoes, including T1-weighted imaging (MEMPRAGE) and susceptibility weighted imaging.\n",
    "While most of these kinds of sequences fall outside the purview of this documentation,\n",
    "quantitative T2* mapping is relevant since a baseline T2* map is used in several\n",
    "processing steps including :ref:`optimal combination`.\n",
    "While the T2* map estimated directly from fMRI time series is noisy, no current\n",
    "study quantifies the benefit to optimal combination or tedana denoising if a\n",
    "higher quality T2* map is used.\n",
    "Some benefit is likely, so, if a T2* map is independently calculated, it can be\n",
    "used as an input to many functions in the tedana workflow.\n",
    "\n",
    ".. warning::\n",
    "    While tedana allows the input of a T2* map from any source, and a more\n",
    "    accurate T2* map should lead to better results, this hasn't been\n",
    "    systematically evaluated yet.\n",
    "\n",
    "There are many ways to calculate T2* maps, with some using multi-echo acquisitions.\n",
    "We are not presenting an expansive review of this literature here,\n",
    "but [Cohen-Adad et al. (2012)](https://doi.org/10.1016/j.neuroimage.2012.01.053)\n",
    "and [Ruuth et al. (2019)](https://doi.org/10.1016/j.ejro.2018.12.006) are good places to start\n",
    "learning more about this topic.\n",
    "\n",
    "## Acquisition parameter recommendations\n",
    "\n",
    "There is no empirically tested best parameter set for multi-echo fMRI acquisition.\n",
    "The guidelines for optimizing parameters are similar to single-echo fMRI.\n",
    "For multi-echo fMRI, the same factors that may guide priorities for single echo\n",
    "fMRI sequences are also relevant.\n",
    "Choose sequence parameters that meet the priorities of a study with regards to spatial resolution,\n",
    "spatial coverage, sample rate, signal-to-noise ratio, signal drop-out, distortion, and artifacts.\n",
    "\n",
    "A minimum of 3 echoes is required for running the current implementation fo TE-dependent denoising in\n",
    "``tedana``.\n",
    "It may be useful to have at least one echo that is earlier and one echo that is later than the\n",
    "TE one would use for single-echo T2* weighted fMRI.\n",
    "\n",
    "```{note}\n",
    "This is in contrast to the **dual echo** denoising method which uses a very early (~5ms)\n",
    "first echo in order to clean data. For more information on this method, see\n",
    "[Bright and Murphy (2013)](https://www.ncbi.nlm.nih.gov/pmc/articles/PMC3518782/).\n",
    "```\n",
    "\n",
    "More than 3 echoes may be useful, because that would allow for more accurate\n",
    "estimates of BOLD and non-BOLD weighted fluctuations, but more echoes have an\n",
    "additional time cost, which would result in either less spatiotemporal coverage\n",
    "or more acceleration.\n",
    "Where the benefits of more echoes balance out the additional costs is an open research question.\n",
    "\n",
    "We are not recommending specific parameter options at this time.\n",
    "There are multiple ways to balance the slight time cost from the added echoes that have\n",
    "resulted in research publications.\n",
    "We suggest new multi-echo fMRI users examine the :ref:`spreadsheet of publications` that use\n",
    "multi-echo fMRI to identify studies with similar acquisition priorities,\n",
    "and use the parameters from those studies as a starting point.\n",
    "More complete recommendations and guidelines are discussed in the\n",
    "[appendix of Dipasquale et al. (2017)](https://journals.plos.org/plosone/article?id=10.1371/journal.pone.0173289).\n",
    "\n",
    "```{note}\n",
    "In order to increase the number of contrasts (\"echoes\") you may need to first increase the TR, shorten the\n",
    "first TE and/or enable in-plane acceleration.\n",
    "For typically used parameters see the **ME-fMRI parameters** section below.\n",
    "```\n",
    "\n",
    "## ME-fMRI parameters\n",
    "\n",
    "The following section highlights a selection of parameters collected from published papers that have\n",
    "used multi-echo fMRI.\n",
    "You can see the spreadsheet of publications at\n",
    "[spreadsheet of publications](https://docs.google.com/spreadsheets/d/1WERojJyxFoqcg_tndUm5Kj0H1UfUc9Ban0jFGGfPaBk/edit#gid=0).\n",
    "\n",
    "The following plots reflect the average values for studies conducted at 3 Tesla."
   ]
  },
  {
   "cell_type": "code",
   "execution_count": 1,
   "id": "3ccc5f95",
   "metadata": {},
   "outputs": [
    {
     "data": {
      "image/png": "[encoded data removed]",
      "text/plain": [
       "<Figure size 432x288 with 1 Axes>"
      ]
     },
     "metadata": {
      "filenames": {
       "image/png": "/home/runner/work/multi-echo-data-analysis/multi-echo-data-analysis/_build/jupyter_execute/content/Acquiring_Multi_Echo_Data_1_0.png"
      },
      "needs_background": "light"
     },
     "output_type": "display_data"
    },
    {
     "data": {
      "image/png": "[encoded data removed]",
      "text/plain": [
       "<Figure size 432x288 with 1 Axes>"
      ]
     },
     "metadata": {
      "filenames": {
       "image/png": "/home/runner/work/multi-echo-data-analysis/multi-echo-data-analysis/_build/jupyter_execute/content/Acquiring_Multi_Echo_Data_1_1.png"
      },
      "needs_background": "light"
     },
     "output_type": "display_data"
    },
    {
     "name": "stderr",
     "output_type": "stream",
     "text": [
      "/tmp/ipykernel_2145/3298299946.py:36: RuntimeWarning: Mean of empty slice\n",
      "  plt.hist(np.nanmean([x_vox, y_vox, z_vox], 0))\n"
     ]
    },
    {
     "data": {
      "image/png": "[encoded data removed]",
      "text/plain": [
       "<Figure size 432x288 with 1 Axes>"
      ]
     },
     "metadata": {
      "filenames": {
       "image/png": "/home/runner/work/multi-echo-data-analysis/multi-echo-data-analysis/_build/jupyter_execute/content/Acquiring_Multi_Echo_Data_1_3.png"
      },
      "needs_background": "light"
     },
     "output_type": "display_data"
    }
   ],
   "source": [
    "import matplotlib.pyplot as plt\n",
    "import numpy as np\n",
    "import pandas as pd\n",
    "\n",
    "# TODO: deal with the issue that the plot doesn't regenerate (ie isn't alive)\n",
    "# Unless the code is updated.\n",
    "metable = pd.read_csv(\n",
    "    \"https://docs.google.com/spreadsheets/d/1WERojJyxFoqcg_tndUm5Kj0H1UfUc9Ban0jFGGfPaBk/export?gid=0&format=csv\",\n",
    "    header=0,\n",
    ")\n",
    "TEs = [\n",
    "    metable.TE1.mean(),\n",
    "    metable.TE2.mean(),\n",
    "    metable.TE3.mean(),\n",
    "    metable.TE4.mean(),\n",
    "    metable.TE5.mean(),\n",
    "]\n",
    "TE_labels = [\"TE1\", \"TE2\", \"TE3\", \"TE4\", \"TE5\"]\n",
    "plt.bar([1, 2, 3, 4, 5], TEs)\n",
    "plt.title(\"Echo Times\", fontsize=18)\n",
    "pub_count = metable.TE1.count()\n",
    "plt.text(0.5, 60, \"Average from {} studies\".format(pub_count))\n",
    "plt.xlabel(\"Echo Number\")\n",
    "plt.ylabel(\"Echo Time (ms)\")\n",
    "plt.show()\n",
    "\n",
    "plt.hist(metable.TR.to_numpy())\n",
    "plt.title(\"Repetition Times\", fontsize=18)\n",
    "plt.xlabel(\"Repetition Time (s)\")\n",
    "plt.ylabel(\"Count\")\n",
    "plt.show()\n",
    "\n",
    "x_vox = metable.x.to_numpy()\n",
    "y_vox = metable.y.to_numpy()\n",
    "z_vox = metable.z.to_numpy()\n",
    "plt.hist(np.nanmean([x_vox, y_vox, z_vox], 0))\n",
    "plt.title(\"Voxel Dimensions\", fontsize=18)\n",
    "plt.xlabel(\"Average Voxel dimension (mm)\")\n",
    "plt.ylabel(\"Count\")\n",
    "plt.show()"
   ]
  }
 ],
 "metadata": {
  "jupytext": {
   "text_representation": {
    "extension": ".md",
    "format_name": "myst",
    "format_version": 0.13,
    "jupytext_version": "1.10.3"
   }
  },
  "kernelspec": {
   "display_name": "Python 3",
   "language": "python",
   "name": "python3"
  },
  "language_info": {
   "codemirror_mode": {
    "name": "ipython",
    "version": 3
   },
   "file_extension": ".py",
   "mimetype": "text/x-python",
   "name": "python",
   "nbconvert_exporter": "python",
   "pygments_lexer": "ipython3",
   "version": "3.8.12"
  },
  "source_map": [
   12,
   144
  ]
 },
 "nbformat": 4,
 "nbformat_minor": 5
}