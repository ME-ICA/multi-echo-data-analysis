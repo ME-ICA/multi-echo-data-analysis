{
 "cells": [
  {
   "cell_type": "markdown",
   "id": "19057b0a",
   "metadata": {},
   "source": [
    "# 3dMEPFM\n",
    "\n",
    "Requirements:\n",
    "\n",
    "- abind\n",
    "- lars\n",
    "- genlasso\n",
    "- wavethresh\n",
    "- snow"
   ]
  }
 ],
 "metadata": {
  "jupytext": {
   "text_representation": {
    "extension": ".md",
    "format_name": "myst",
    "format_version": 0.13,
    "jupytext_version": "1.10.3"
   }
  },
  "kernelspec": {
   "display_name": "Python 3",
   "language": "python",
   "name": "python3"
  },
  "source_map": [
   12
  ]
 },
 "nbformat": 4,
 "nbformat_minor": 5
}