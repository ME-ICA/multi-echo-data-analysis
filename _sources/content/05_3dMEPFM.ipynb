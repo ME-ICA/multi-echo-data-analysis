{
 "cells": [
  {
   "cell_type": "markdown",
   "id": "d5dccf24",
   "metadata": {},
   "source": [
    "# Model-free deconvolution with `pySPFM`"
   ]
  },
  {
   "cell_type": "code",
   "execution_count": 1,
   "id": "0b98ebc0",
   "metadata": {},
   "outputs": [],
   "source": [
    "import json\n",
    "import os\n",
    "from glob import glob\n",
    "\n",
    "import nibabel as nb\n",
    "\n",
    "data_path = os.path.abspath('../DATA')"
   ]
  },
  {
   "cell_type": "code",
   "execution_count": 2,
   "id": "6d666b55",
   "metadata": {},
   "outputs": [],
   "source": [
    "func_dir = os.path.join(data_path, \"ds006185/sub-24053/ses-1/func/\")\n",
    "data_files = sorted(\n",
    "    glob(\n",
    "        os.path.join(\n",
    "            func_dir,\n",
    "            \"sub-24053_ses-1_task-rat_rec-nordic_dir-PA_run-01_echo-*_part-mag_desc-preproc_bold.nii.gz\",\n",
    "        ),\n",
    "    ),\n",
    ")\n",
    "echo_times = []\n",
    "for f in data_files:\n",
    "    json_file = f.replace('.nii.gz', '.json')\n",
    "    with open(json_file, 'r') as fo:\n",
    "        metadata = json.load(fo)\n",
    "    echo_times.append(metadata['EchoTime'] * 1000)\n",
    "mask_file = os.path.join(\n",
    "    func_dir,\n",
    "    \"sub-24053_ses-1_task-rat_rec-nordic_dir-PA_run-01_part-mag_desc-brain_mask.nii.gz\"\n",
    ")\n",
    "confounds_file = os.path.join(\n",
    "    func_dir,\n",
    "    \"sub-24053_ses-1_task-rat_rec-nordic_dir-PA_run-01_part-mag_desc-confounds_timeseries.tsv\",\n",
    ")\n",
    "\n",
    "out_dir = os.path.join(data_path, \"pySPFM\")"
   ]
  },
  {
   "cell_type": "code",
   "execution_count": 3,
   "id": "3a2936bb",
   "metadata": {
    "tags": [
     "output_scroll"
    ]
   },
   "outputs": [
    {
     "ename": "ImportError",
     "evalue": "cannot import name 'pySPFM' from 'pySPFM' (/opt/hostedtoolcache/Python/3.12.11/x64/lib/python3.12/site-packages/pySPFM/__init__.py)",
     "output_type": "error",
     "traceback": [
      "\u001b[31m---------------------------------------------------------------------------\u001b[39m",
      "\u001b[31mImportError\u001b[39m                               Traceback (most recent call last)",
      "\u001b[36mCell\u001b[39m\u001b[36m \u001b[39m\u001b[32mIn[3]\u001b[39m\u001b[32m, line 1\u001b[39m\n\u001b[32m----> \u001b[39m\u001b[32m1\u001b[39m \u001b[38;5;28;01mfrom\u001b[39;00m\u001b[38;5;250m \u001b[39m\u001b[34;01mpySPFM\u001b[39;00m\u001b[38;5;250m \u001b[39m\u001b[38;5;28;01mimport\u001b[39;00m pySPFM\n\u001b[32m      3\u001b[39m pySPFM.pySPFM(\n\u001b[32m      4\u001b[39m     data_fn=data_files,\n\u001b[32m      5\u001b[39m     mask_fn=mask_file,\n\u001b[32m   (...)\u001b[39m\u001b[32m      9\u001b[39m     te=echo_times,\n\u001b[32m     10\u001b[39m )\n",
      "\u001b[31mImportError\u001b[39m: cannot import name 'pySPFM' from 'pySPFM' (/opt/hostedtoolcache/Python/3.12.11/x64/lib/python3.12/site-packages/pySPFM/__init__.py)"
     ]
    }
   ],
   "source": [
    "from pySPFM import pySPFM\n",
    "\n",
    "pySPFM.pySPFM(\n",
    "    data_fn=data_files,\n",
    "    mask_fn=mask_file,\n",
    "    output_filename=os.path.join(out_dir, \"out\"),\n",
    "    tr=2.47,\n",
    "    out_dir=out_dir,\n",
    "    te=echo_times,\n",
    ")"
   ]
  },
  {
   "cell_type": "markdown",
   "id": "8230d310",
   "metadata": {},
   "source": [
    "The pySPFM workflow writes out a number of files."
   ]
  },
  {
   "cell_type": "code",
   "execution_count": null,
   "id": "6d0ccbbb",
   "metadata": {},
   "outputs": [],
   "source": [
    "out_files = sorted(glob(os.path.join(out_dir, \"*\")))\n",
    "out_files = [os.path.basename(f) for f in out_files]\n",
    "print(\"\\n\".join(out_files))"
   ]
  }
 ],
 "metadata": {
  "jupytext": {
   "text_representation": {
    "extension": ".md",
    "format_name": "myst",
    "jupytext_version": "1.18.1"
   }
  },
  "kernelspec": {
   "display_name": "Python 3",
   "language": "python",
   "name": "python3"
  },
  "language_info": {
   "codemirror_mode": {
    "name": "ipython",
    "version": 3
   },
   "file_extension": ".py",
   "mimetype": "text/x-python",
   "name": "python",
   "nbconvert_exporter": "python",
   "pygments_lexer": "ipython3",
   "version": "3.12.11"
  },
  "source_map": [
   11,
   15,
   25,
   53,
   66,
   70
  ]
 },
 "nbformat": 4,
 "nbformat_minor": 5
}