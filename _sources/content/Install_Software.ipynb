{
 "cells": [
  {
   "cell_type": "markdown",
   "id": "8c4d783a",
   "metadata": {},
   "source": [
    "# Install Software\n",
    "\n",
    "## tedana\n",
    "\n",
    "Instructions for installing tedana are [in the tedana documentation](https://tedana.readthedocs.io/en/stable/installation.html)\n",
    "\n",
    "[Here is a list of tedana's python dependencies](https://github.com/ME-ICA/tedana/blob/main/pyproject.toml)\n",
    "\n",
    "If you are interested in using a pre-release version of tedana\n",
    "or are interested in contributing to the tedana code,\n",
    "[instructions for cloning the code, and installing as a developer are here.](https://github.com/ME-ICA/tedana/blob/main/CONTRIBUTING.md#3-run-the-developer-setup)\n",
    "\n",
    "## AFNI\n",
    "\n",
    "AFNI can preprocess multi-echo fMRI data run it through tedana for denoising.\n",
    "[Instructions for installing AFNI are here](https://afni.nimh.nih.gov/pub/dist/doc/htmldoc/background_install/main_toc.html)\n",
    "\n",
    "\n",
    "## fMRIPrep\n",
    "\n",
    "fMRIPRep can preprocess multi-echo fMRI data and run the optimal combination of echoes through tedana.\n",
    "[Instructions for installing fMRIPrep are here](https://fmriprep.org/en/stable/installation.html)"
   ]
  }
 ],
 "metadata": {
  "jupytext": {
   "text_representation": {
    "extension": ".md",
    "format_name": "myst",
    "jupytext_version": "1.18.1"
   }
  },
  "kernelspec": {
   "display_name": "Python 3",
   "language": "python",
   "name": "python3"
  },
  "source_map": [
   11
  ]
 },
 "nbformat": 4,
 "nbformat_minor": 5
}