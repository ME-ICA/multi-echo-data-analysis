{
 "cells": [
  {
   "cell_type": "markdown",
   "id": "c3385213",
   "metadata": {},
   "source": [
    "# Multi-Echo (fMRI) Data Analysis\n",
    "\n",
    "```{tableofcontents}\n",
    "```"
   ]
  }
 ],
 "metadata": {
  "jupytext": {
   "text_representation": {
    "extension": ".md",
    "format_name": "myst",
    "format_version": 0.13,
    "jupytext_version": "1.10.3"
   }
  },
  "kernelspec": {
   "display_name": "Python 3",
   "language": "python",
   "name": "python3"
  },
  "source_map": [
   12
  ]
 },
 "nbformat": 4,
 "nbformat_minor": 5
}