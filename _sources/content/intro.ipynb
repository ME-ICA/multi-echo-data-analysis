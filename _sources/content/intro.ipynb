{
 "cells": [
  {
   "cell_type": "markdown",
   "id": "498a242e",
   "metadata": {},
   "source": [
    "# Multi-Echo (fMRI) Data Analysis\n",
    "\n",
    "```{tableofcontents}\n",
    "```"
   ]
  }
 ],
 "metadata": {
  "jupytext": {
   "text_representation": {
    "extension": ".md",
    "format_name": "myst",
    "jupytext_version": "1.18.1"
   }
  },
  "kernelspec": {
   "display_name": "Python 3",
   "language": "python",
   "name": "python3"
  },
  "source_map": [
   11
  ]
 },
 "nbformat": 4,
 "nbformat_minor": 5
}