{
 "cells": [
  {
   "cell_type": "markdown",
   "id": "c472ad37",
   "metadata": {},
   "source": [
    "# Multi-Echo Denoising with `tedana`\n",
    "\n",
    "In this analysis tutorial, we will use `tedana` {cite:p}`DuPre2021` to perform multi-echo denoising.\n",
    "\n",
    "Specifically, we will use {py:func}`tedana.workflows.tedana_workflow`."
   ]
  },
  {
   "cell_type": "code",
   "execution_count": 1,
   "id": "349a40ee",
   "metadata": {},
   "outputs": [
    {
     "name": "stdout",
     "output_type": "stream",
     "text": [
      "---- repo2data starting ----\n",
      "/opt/hostedtoolcache/Python/3.10.14/x64/lib/python3.10/site-packages/repo2data\n",
      "Config from file :\n",
      "../binder/data_requirement.json\n",
      "Destination:\n",
      "./../data/multi-echo-data-analysis\n",
      "\n",
      "Info : ./../data/multi-echo-data-analysis already downloaded\n"
     ]
    },
    {
     "name": "stderr",
     "output_type": "stream",
     "text": [
      "/opt/hostedtoolcache/Python/3.10.14/x64/lib/python3.10/site-packages/tqdm/auto.py:21: TqdmWarning: IProgress not found. Please update jupyter and ipywidgets. See https://ipywidgets.readthedocs.io/en/stable/user_install.html\n",
      "  from .autonotebook import tqdm as notebook_tqdm\n"
     ]
    }
   ],
   "source": [
    "import json\n",
    "import os\n",
    "from glob import glob\n",
    "from pprint import pprint\n",
    "\n",
    "import pandas as pd\n",
    "from IPython.display import HTML, display\n",
    "from repo2data.repo2data import Repo2Data\n",
    "from tedana import workflows\n",
    "\n",
    "# Install the data if running locally, or point to cached data if running on neurolibre\n",
    "DATA_REQ_FILE = os.path.join(\"../binder/data_requirement.json\")\n",
    "\n",
    "# Download data\n",
    "repo2data = Repo2Data(DATA_REQ_FILE)\n",
    "data_path = repo2data.install()\n",
    "data_path = os.path.abspath(data_path[0])"
   ]
  },
  {
   "cell_type": "code",
   "execution_count": 2,
   "id": "97c502e9",
   "metadata": {},
   "outputs": [],
   "source": [
    "func_dir = os.path.join(data_path, \"func/\")\n",
    "data_files = [\n",
    "    os.path.join(\n",
    "        func_dir,\n",
    "        \"sub-04570_task-rest_echo-1_space-scanner_desc-partialPreproc_bold.nii.gz\",\n",
    "    ),\n",
    "    os.path.join(\n",
    "        func_dir,\n",
    "        \"sub-04570_task-rest_echo-2_space-scanner_desc-partialPreproc_bold.nii.gz\",\n",
    "    ),\n",
    "    os.path.join(\n",
    "        func_dir,\n",
    "        \"sub-04570_task-rest_echo-3_space-scanner_desc-partialPreproc_bold.nii.gz\",\n",
    "    ),\n",
    "    os.path.join(\n",
    "        func_dir,\n",
    "        \"sub-04570_task-rest_echo-4_space-scanner_desc-partialPreproc_bold.nii.gz\",\n",
    "    ),\n",
    "]\n",
    "echo_times = [12.0, 28.0, 44.0, 60.0]\n",
    "mask_file = os.path.join(\n",
    "    func_dir, \"sub-04570_task-rest_space-scanner_desc-brain_mask.nii.gz\"\n",
    ")\n",
    "confounds_file = os.path.join(\n",
    "    func_dir, \"sub-04570_task-rest_desc-confounds_timeseries.tsv\"\n",
    ")\n",
    "\n",
    "out_dir = os.path.join(data_path, \"tedana\")"
   ]
  },
  {
   "cell_type": "code",
   "execution_count": 3,
   "id": "8562d0fc",
   "metadata": {
    "tags": [
     "hide-output"
    ]
   },
   "outputs": [
    {
     "name": "stderr",
     "output_type": "stream",
     "text": [
      "INFO     tedana:tedana_workflow:501 Using output directory: /home/runner/work/multi-echo-data-analysis/multi-echo-data-analysis/data/multi-echo-data-analysis/tedana\n"
     ]
    },
    {
     "name": "stderr",
     "output_type": "stream",
     "text": [
      "INFO     tedana:tedana_workflow:519 Initializing and validating component selection tree\n"
     ]
    },
    {
     "name": "stderr",
     "output_type": "stream",
     "text": [
      "WARNING  component_selector:validate_tree:127 Decision tree includes fields that are not used or logged {'_comment'}\n"
     ]
    },
    {
     "name": "stderr",
     "output_type": "stream",
     "text": [
      "INFO     component_selector:__init__:250 Performing component selection with tedana_orig_decision_tree\n"
     ]
    },
    {
     "name": "stderr",
     "output_type": "stream",
     "text": [
      "INFO     component_selector:__init__:251 Very similar to the decision tree designed by Prantik Kundu\n"
     ]
    },
    {
     "name": "stderr",
     "output_type": "stream",
     "text": [
      "INFO     tedana:tedana_workflow:522 Loading input data: ['/home/runner/work/multi-echo-data-analysis/multi-echo-data-analysis/data/multi-echo-data-analysis/func/sub-04570_task-rest_echo-1_space-scanner_desc-partialPreproc_bold.nii.gz', '/home/runner/work/multi-echo-data-analysis/multi-echo-data-analysis/data/multi-echo-data-analysis/func/sub-04570_task-rest_echo-2_space-scanner_desc-partialPreproc_bold.nii.gz', '/home/runner/work/multi-echo-data-analysis/multi-echo-data-analysis/data/multi-echo-data-analysis/func/sub-04570_task-rest_echo-3_space-scanner_desc-partialPreproc_bold.nii.gz', '/home/runner/work/multi-echo-data-analysis/multi-echo-data-analysis/data/multi-echo-data-analysis/func/sub-04570_task-rest_echo-4_space-scanner_desc-partialPreproc_bold.nii.gz']\n"
     ]
    },
    {
     "name": "stderr",
     "output_type": "stream",
     "text": [
      "INFO     io:__init__:155 Generating figures directory: /home/runner/work/multi-echo-data-analysis/multi-echo-data-analysis/data/multi-echo-data-analysis/tedana/figures\n"
     ]
    },
    {
     "name": "stderr",
     "output_type": "stream",
     "text": [
      "INFO     tedana:tedana_workflow:585 Using user-defined mask\n"
     ]
    },
    {
     "name": "stderr",
     "output_type": "stream",
     "text": [
      "INFO     utils:make_adaptive_mask:193 Echo-wise intensity thresholds for adaptive mask: [258.33994278 180.98638476 134.6796175   91.51006253]\n"
     ]
    },
    {
     "name": "stderr",
     "output_type": "stream",
     "text": [
      "WARNING  utils:make_adaptive_mask:222 734 voxels in user-defined mask do not have good signal. Removing voxels from mask.\n"
     ]
    },
    {
     "name": "stderr",
     "output_type": "stream",
     "text": [
      "INFO     tedana:tedana_workflow:635 Computing T2* map\n"
     ]
    },
    {
     "name": "stderr",
     "output_type": "stream",
     "text": [
      "\r",
      "2-echo monoexponential:   0%|          | 0/2224 [00:00<?, ?it/s]"
     ]
    },
    {
     "name": "stderr",
     "output_type": "stream",
     "text": [
      "\r",
      "2-echo monoexponential:   3%|▎         | 57/2224 [00:00<00:03, 564.89it/s]"
     ]
    },
    {
     "name": "stderr",
     "output_type": "stream",
     "text": [
      "\r",
      "2-echo monoexponential:   6%|▌         | 133/2224 [00:00<00:03, 679.19it/s]"
     ]
    },
    {
     "name": "stderr",
     "output_type": "stream",
     "text": [
      "\r",
      "2-echo monoexponential:  10%|▉         | 212/2224 [00:00<00:02, 724.95it/s]"
     ]
    },
    {
     "name": "stderr",
     "output_type": "stream",
     "text": [
      "\r",
      "2-echo monoexponential:  13%|█▎        | 291/2224 [00:00<00:02, 747.39it/s]"
     ]
    },
    {
     "name": "stderr",
     "output_type": "stream",
     "text": [
      "\r",
      "2-echo monoexponential:  17%|█▋        | 368/2224 [00:00<00:02, 753.40it/s]"
     ]
    },
    {
     "name": "stderr",
     "output_type": "stream",
     "text": [
      "\r",
      "2-echo monoexponential:  20%|██        | 447/2224 [00:00<00:02, 763.99it/s]"
     ]
    },
    {
     "name": "stderr",
     "output_type": "stream",
     "text": [
      "\r",
      "2-echo monoexponential:  24%|██▎       | 526/2224 [00:00<00:02, 770.54it/s]"
     ]
    },
    {
     "name": "stderr",
     "output_type": "stream",
     "text": [
      "\r",
      "2-echo monoexponential:  27%|██▋       | 604/2224 [00:00<00:02, 769.21it/s]"
     ]
    },
    {
     "name": "stderr",
     "output_type": "stream",
     "text": [
      "\r",
      "2-echo monoexponential:  31%|███       | 681/2224 [00:00<00:02, 764.45it/s]"
     ]
    },
    {
     "name": "stderr",
     "output_type": "stream",
     "text": [
      "\r",
      "2-echo monoexponential:  34%|███▍      | 758/2224 [00:01<00:01, 764.81it/s]"
     ]
    },
    {
     "name": "stderr",
     "output_type": "stream",
     "text": [
      "\r",
      "2-echo monoexponential:  38%|███▊      | 837/2224 [00:01<00:01, 769.76it/s]"
     ]
    },
    {
     "name": "stderr",
     "output_type": "stream",
     "text": [
      "\r",
      "2-echo monoexponential:  41%|████      | 914/2224 [00:01<00:01, 767.35it/s]"
     ]
    },
    {
     "name": "stderr",
     "output_type": "stream",
     "text": [
      "\r",
      "2-echo monoexponential:  45%|████▍     | 991/2224 [00:01<00:01, 762.67it/s]"
     ]
    },
    {
     "name": "stderr",
     "output_type": "stream",
     "text": [
      "\r",
      "2-echo monoexponential:  48%|████▊     | 1068/2224 [00:01<00:01, 764.72it/s]"
     ]
    },
    {
     "name": "stderr",
     "output_type": "stream",
     "text": [
      "\r",
      "2-echo monoexponential:  51%|█████▏    | 1145/2224 [00:01<00:01, 760.35it/s]"
     ]
    },
    {
     "name": "stderr",
     "output_type": "stream",
     "text": [
      "\r",
      "2-echo monoexponential:  55%|█████▍    | 1222/2224 [00:01<00:01, 756.68it/s]"
     ]
    },
    {
     "name": "stderr",
     "output_type": "stream",
     "text": [
      "\r",
      "2-echo monoexponential:  58%|█████▊    | 1298/2224 [00:01<00:01, 757.52it/s]"
     ]
    },
    {
     "name": "stderr",
     "output_type": "stream",
     "text": [
      "\r",
      "2-echo monoexponential:  62%|██████▏   | 1374/2224 [00:01<00:01, 757.45it/s]"
     ]
    },
    {
     "name": "stderr",
     "output_type": "stream",
     "text": [
      "\r",
      "2-echo monoexponential:  65%|██████▌   | 1450/2224 [00:01<00:01, 754.13it/s]"
     ]
    },
    {
     "name": "stderr",
     "output_type": "stream",
     "text": [
      "\r",
      "2-echo monoexponential:  69%|██████▊   | 1528/2224 [00:02<00:00, 759.44it/s]"
     ]
    },
    {
     "name": "stderr",
     "output_type": "stream",
     "text": [
      "\r",
      "2-echo monoexponential:  72%|███████▏  | 1607/2224 [00:02<00:00, 768.16it/s]"
     ]
    },
    {
     "name": "stderr",
     "output_type": "stream",
     "text": [
      "\r",
      "2-echo monoexponential:  76%|███████▌  | 1684/2224 [00:02<00:00, 763.41it/s]"
     ]
    },
    {
     "name": "stderr",
     "output_type": "stream",
     "text": [
      "\r",
      "2-echo monoexponential:  79%|███████▉  | 1762/2224 [00:02<00:00, 765.46it/s]"
     ]
    },
    {
     "name": "stderr",
     "output_type": "stream",
     "text": [
      "\r",
      "2-echo monoexponential:  83%|████████▎ | 1840/2224 [00:02<00:00, 768.42it/s]"
     ]
    },
    {
     "name": "stderr",
     "output_type": "stream",
     "text": [
      "\r",
      "2-echo monoexponential:  86%|████████▋ | 1920/2224 [00:02<00:00, 777.71it/s]"
     ]
    },
    {
     "name": "stderr",
     "output_type": "stream",
     "text": [
      "\r",
      "2-echo monoexponential:  90%|████████▉ | 1999/2224 [00:02<00:00, 778.24it/s]"
     ]
    },
    {
     "name": "stderr",
     "output_type": "stream",
     "text": [
      "\r",
      "2-echo monoexponential:  93%|█████████▎| 2077/2224 [00:02<00:00, 755.73it/s]"
     ]
    },
    {
     "name": "stderr",
     "output_type": "stream",
     "text": [
      "\r",
      "2-echo monoexponential:  97%|█████████▋| 2153/2224 [00:02<00:00, 746.29it/s]"
     ]
    },
    {
     "name": "stderr",
     "output_type": "stream",
     "text": [
      "\r",
      "2-echo monoexponential: 100%|██████████| 2224/2224 [00:02<00:00, 756.90it/s]"
     ]
    },
    {
     "name": "stderr",
     "output_type": "stream",
     "text": [
      "\n"
     ]
    },
    {
     "name": "stderr",
     "output_type": "stream",
     "text": [
      "\r",
      "3-echo monoexponential:   0%|          | 0/1092 [00:00<?, ?it/s]"
     ]
    },
    {
     "name": "stderr",
     "output_type": "stream",
     "text": [
      "\r",
      "3-echo monoexponential:   4%|▍         | 48/1092 [00:00<00:02, 471.46it/s]"
     ]
    },
    {
     "name": "stderr",
     "output_type": "stream",
     "text": [
      "\r",
      "3-echo monoexponential:   9%|▉         | 98/1092 [00:00<00:02, 483.96it/s]"
     ]
    },
    {
     "name": "stderr",
     "output_type": "stream",
     "text": [
      "\r",
      "3-echo monoexponential:  14%|█▎        | 149/1092 [00:00<00:01, 490.91it/s]"
     ]
    },
    {
     "name": "stderr",
     "output_type": "stream",
     "text": [
      "\r",
      "3-echo monoexponential:  18%|█▊        | 201/1092 [00:00<00:01, 501.96it/s]"
     ]
    },
    {
     "name": "stderr",
     "output_type": "stream",
     "text": [
      "\r",
      "3-echo monoexponential:  23%|██▎       | 252/1092 [00:00<00:01, 501.54it/s]"
     ]
    },
    {
     "name": "stderr",
     "output_type": "stream",
     "text": [
      "\r",
      "3-echo monoexponential:  28%|██▊       | 303/1092 [00:00<00:01, 499.25it/s]"
     ]
    },
    {
     "name": "stderr",
     "output_type": "stream",
     "text": [
      "\r",
      "3-echo monoexponential:  32%|███▏      | 353/1092 [00:00<00:01, 492.64it/s]"
     ]
    },
    {
     "name": "stderr",
     "output_type": "stream",
     "text": [
      "\r",
      "3-echo monoexponential:  37%|███▋      | 403/1092 [00:00<00:01, 489.53it/s]"
     ]
    },
    {
     "name": "stderr",
     "output_type": "stream",
     "text": [
      "\r",
      "3-echo monoexponential:  42%|████▏     | 454/1092 [00:00<00:01, 493.67it/s]"
     ]
    },
    {
     "name": "stderr",
     "output_type": "stream",
     "text": [
      "\r",
      "3-echo monoexponential:  46%|████▌     | 505/1092 [00:01<00:01, 496.94it/s]"
     ]
    },
    {
     "name": "stderr",
     "output_type": "stream",
     "text": [
      "\r",
      "3-echo monoexponential:  51%|█████     | 556/1092 [00:01<00:01, 499.89it/s]"
     ]
    },
    {
     "name": "stderr",
     "output_type": "stream",
     "text": [
      "\r",
      "3-echo monoexponential:  56%|█████▌    | 607/1092 [00:01<00:00, 489.37it/s]"
     ]
    },
    {
     "name": "stderr",
     "output_type": "stream",
     "text": [
      "\r",
      "3-echo monoexponential:  60%|██████    | 660/1092 [00:01<00:00, 499.78it/s]"
     ]
    },
    {
     "name": "stderr",
     "output_type": "stream",
     "text": [
      "\r",
      "3-echo monoexponential:  65%|██████▌   | 711/1092 [00:01<00:00, 489.90it/s]"
     ]
    },
    {
     "name": "stderr",
     "output_type": "stream",
     "text": [
      "\r",
      "3-echo monoexponential:  70%|██████▉   | 761/1092 [00:01<00:00, 488.47it/s]"
     ]
    },
    {
     "name": "stderr",
     "output_type": "stream",
     "text": [
      "\r",
      "3-echo monoexponential:  74%|███████▍  | 810/1092 [00:01<00:00, 484.92it/s]"
     ]
    },
    {
     "name": "stderr",
     "output_type": "stream",
     "text": [
      "\r",
      "3-echo monoexponential:  79%|███████▊  | 859/1092 [00:01<00:00, 485.15it/s]"
     ]
    },
    {
     "name": "stderr",
     "output_type": "stream",
     "text": [
      "\r",
      "3-echo monoexponential:  83%|████████▎ | 911/1092 [00:01<00:00, 494.00it/s]"
     ]
    },
    {
     "name": "stderr",
     "output_type": "stream",
     "text": [
      "\r",
      "3-echo monoexponential:  88%|████████▊ | 964/1092 [00:01<00:00, 501.59it/s]"
     ]
    },
    {
     "name": "stderr",
     "output_type": "stream",
     "text": [
      "\r",
      "3-echo monoexponential:  93%|█████████▎| 1015/1092 [00:02<00:00, 501.83it/s]"
     ]
    },
    {
     "name": "stderr",
     "output_type": "stream",
     "text": [
      "\r",
      "3-echo monoexponential:  98%|█████████▊| 1066/1092 [00:02<00:00, 498.45it/s]"
     ]
    },
    {
     "name": "stderr",
     "output_type": "stream",
     "text": [
      "\r",
      "3-echo monoexponential: 100%|██████████| 1092/1092 [00:02<00:00, 494.61it/s]"
     ]
    },
    {
     "name": "stderr",
     "output_type": "stream",
     "text": [
      "\n"
     ]
    },
    {
     "name": "stderr",
     "output_type": "stream",
     "text": [
      "\r",
      "4-echo monoexponential:   0%|          | 0/20176 [00:00<?, ?it/s]"
     ]
    },
    {
     "name": "stderr",
     "output_type": "stream",
     "text": [
      "\r",
      "4-echo monoexponential:   0%|          | 47/20176 [00:00<00:42, 468.22it/s]"
     ]
    },
    {
     "name": "stderr",
     "output_type": "stream",
     "text": [
      "\r",
      "4-echo monoexponential:   1%|          | 102/20176 [00:00<00:39, 511.34it/s]"
     ]
    },
    {
     "name": "stderr",
     "output_type": "stream",
     "text": [
      "\r",
      "4-echo monoexponential:   1%|          | 158/20176 [00:00<00:37, 532.58it/s]"
     ]
    },
    {
     "name": "stderr",
     "output_type": "stream",
     "text": [
      "\r",
      "4-echo monoexponential:   1%|          | 217/20176 [00:00<00:36, 553.28it/s]"
     ]
    },
    {
     "name": "stderr",
     "output_type": "stream",
     "text": [
      "\r",
      "4-echo monoexponential:   1%|▏         | 274/20176 [00:00<00:35, 557.19it/s]"
     ]
    },
    {
     "name": "stderr",
     "output_type": "stream",
     "text": [
      "\r",
      "4-echo monoexponential:   2%|▏         | 332/20176 [00:00<00:35, 562.05it/s]"
     ]
    },
    {
     "name": "stderr",
     "output_type": "stream",
     "text": [
      "\r",
      "4-echo monoexponential:   2%|▏         | 391/20176 [00:00<00:34, 569.63it/s]"
     ]
    },
    {
     "name": "stderr",
     "output_type": "stream",
     "text": [
      "\r",
      "4-echo monoexponential:   2%|▏         | 448/20176 [00:00<00:35, 563.05it/s]"
     ]
    },
    {
     "name": "stderr",
     "output_type": "stream",
     "text": [
      "\r",
      "4-echo monoexponential:   3%|▎         | 506/20176 [00:00<00:34, 566.46it/s]"
     ]
    },
    {
     "name": "stderr",
     "output_type": "stream",
     "text": [
      "\r",
      "4-echo monoexponential:   3%|▎         | 564/20176 [00:01<00:34, 568.36it/s]"
     ]
    },
    {
     "name": "stderr",
     "output_type": "stream",
     "text": [
      "\r",
      "4-echo monoexponential:   3%|▎         | 621/20176 [00:01<00:34, 562.72it/s]"
     ]
    },
    {
     "name": "stderr",
     "output_type": "stream",
     "text": [
      "\r",
      "4-echo monoexponential:   3%|▎         | 678/20176 [00:01<00:34, 557.75it/s]"
     ]
    },
    {
     "name": "stderr",
     "output_type": "stream",
     "text": [
      "\r",
      "4-echo monoexponential:   4%|▎         | 736/20176 [00:01<00:34, 561.87it/s]"
     ]
    },
    {
     "name": "stderr",
     "output_type": "stream",
     "text": [
      "\r",
      "4-echo monoexponential:   4%|▍         | 793/20176 [00:01<00:34, 562.93it/s]"
     ]
    },
    {
     "name": "stderr",
     "output_type": "stream",
     "text": [
      "\r",
      "4-echo monoexponential:   4%|▍         | 851/20176 [00:01<00:34, 567.63it/s]"
     ]
    },
    {
     "name": "stderr",
     "output_type": "stream",
     "text": [
      "\r",
      "4-echo monoexponential:   5%|▍         | 910/20176 [00:01<00:33, 572.71it/s]"
     ]
    },
    {
     "name": "stderr",
     "output_type": "stream",
     "text": [
      "\r",
      "4-echo monoexponential:   5%|▍         | 968/20176 [00:01<00:33, 568.86it/s]"
     ]
    },
    {
     "name": "stderr",
     "output_type": "stream",
     "text": [
      "\r",
      "4-echo monoexponential:   5%|▌         | 1025/20176 [00:01<00:35, 541.28it/s]"
     ]
    },
    {
     "name": "stderr",
     "output_type": "stream",
     "text": [
      "\r",
      "4-echo monoexponential:   5%|▌         | 1081/20176 [00:01<00:35, 544.73it/s]"
     ]
    },
    {
     "name": "stderr",
     "output_type": "stream",
     "text": [
      "\r",
      "4-echo monoexponential:   6%|▌         | 1141/20176 [00:02<00:34, 558.59it/s]"
     ]
    },
    {
     "name": "stderr",
     "output_type": "stream",
     "text": [
      "\r",
      "4-echo monoexponential:   6%|▌         | 1198/20176 [00:02<00:34, 556.54it/s]"
     ]
    },
    {
     "name": "stderr",
     "output_type": "stream",
     "text": [
      "\r",
      "4-echo monoexponential:   6%|▌         | 1255/20176 [00:02<00:33, 560.34it/s]"
     ]
    },
    {
     "name": "stderr",
     "output_type": "stream",
     "text": [
      "\r",
      "4-echo monoexponential:   7%|▋         | 1316/20176 [00:02<00:32, 572.44it/s]"
     ]
    },
    {
     "name": "stderr",
     "output_type": "stream",
     "text": [
      "\r",
      "4-echo monoexponential:   7%|▋         | 1377/20176 [00:02<00:32, 581.26it/s]"
     ]
    },
    {
     "name": "stderr",
     "output_type": "stream",
     "text": [
      "\r",
      "4-echo monoexponential:   7%|▋         | 1436/20176 [00:02<00:32, 568.29it/s]"
     ]
    },
    {
     "name": "stderr",
     "output_type": "stream",
     "text": [
      "\r",
      "4-echo monoexponential:   7%|▋         | 1493/20176 [00:02<00:33, 552.01it/s]"
     ]
    },
    {
     "name": "stderr",
     "output_type": "stream",
     "text": [
      "\r",
      "4-echo monoexponential:   8%|▊         | 1553/20176 [00:02<00:33, 563.89it/s]"
     ]
    },
    {
     "name": "stderr",
     "output_type": "stream",
     "text": [
      "\r",
      "4-echo monoexponential:   8%|▊         | 1613/20176 [00:02<00:32, 571.82it/s]"
     ]
    },
    {
     "name": "stderr",
     "output_type": "stream",
     "text": [
      "\r",
      "4-echo monoexponential:   8%|▊         | 1674/20176 [00:02<00:31, 580.59it/s]"
     ]
    },
    {
     "name": "stderr",
     "output_type": "stream",
     "text": [
      "\r",
      "4-echo monoexponential:   9%|▊         | 1734/20176 [00:03<00:31, 584.15it/s]"
     ]
    },
    {
     "name": "stderr",
     "output_type": "stream",
     "text": [
      "\r",
      "4-echo monoexponential:   9%|▉         | 1793/20176 [00:03<00:31, 578.89it/s]"
     ]
    },
    {
     "name": "stderr",
     "output_type": "stream",
     "text": [
      "\r",
      "4-echo monoexponential:   9%|▉         | 1854/20176 [00:03<00:31, 585.47it/s]"
     ]
    },
    {
     "name": "stderr",
     "output_type": "stream",
     "text": [
      "\r",
      "4-echo monoexponential:   9%|▉         | 1913/20176 [00:03<00:31, 585.84it/s]"
     ]
    },
    {
     "name": "stderr",
     "output_type": "stream",
     "text": [
      "\r",
      "4-echo monoexponential:  10%|▉         | 1972/20176 [00:03<00:31, 569.42it/s]"
     ]
    },
    {
     "name": "stderr",
     "output_type": "stream",
     "text": [
      "\r",
      "4-echo monoexponential:  10%|█         | 2030/20176 [00:03<00:32, 563.18it/s]"
     ]
    },
    {
     "name": "stderr",
     "output_type": "stream",
     "text": [
      "\r",
      "4-echo monoexponential:  10%|█         | 2089/20176 [00:03<00:31, 570.74it/s]"
     ]
    },
    {
     "name": "stderr",
     "output_type": "stream",
     "text": [
      "\r",
      "4-echo monoexponential:  11%|█         | 2147/20176 [00:03<00:31, 570.18it/s]"
     ]
    },
    {
     "name": "stderr",
     "output_type": "stream",
     "text": [
      "\r",
      "4-echo monoexponential:  11%|█         | 2209/20176 [00:03<00:30, 584.78it/s]"
     ]
    },
    {
     "name": "stderr",
     "output_type": "stream",
     "text": [
      "\r",
      "4-echo monoexponential:  11%|█▏        | 2270/20176 [00:04<00:30, 591.60it/s]"
     ]
    },
    {
     "name": "stderr",
     "output_type": "stream",
     "text": [
      "\r",
      "4-echo monoexponential:  12%|█▏        | 2331/20176 [00:04<00:29, 595.70it/s]"
     ]
    },
    {
     "name": "stderr",
     "output_type": "stream",
     "text": [
      "\r",
      "4-echo monoexponential:  12%|█▏        | 2392/20176 [00:04<00:29, 597.76it/s]"
     ]
    },
    {
     "name": "stderr",
     "output_type": "stream",
     "text": [
      "\r",
      "4-echo monoexponential:  12%|█▏        | 2454/20176 [00:04<00:29, 600.99it/s]"
     ]
    },
    {
     "name": "stderr",
     "output_type": "stream",
     "text": [
      "\r",
      "4-echo monoexponential:  12%|█▏        | 2515/20176 [00:04<00:29, 601.73it/s]"
     ]
    },
    {
     "name": "stderr",
     "output_type": "stream",
     "text": [
      "\r",
      "4-echo monoexponential:  13%|█▎        | 2576/20176 [00:04<00:30, 575.67it/s]"
     ]
    },
    {
     "name": "stderr",
     "output_type": "stream",
     "text": [
      "\r",
      "4-echo monoexponential:  13%|█▎        | 2634/20176 [00:04<00:30, 571.81it/s]"
     ]
    },
    {
     "name": "stderr",
     "output_type": "stream",
     "text": [
      "\r",
      "4-echo monoexponential:  13%|█▎        | 2692/20176 [00:04<00:30, 571.04it/s]"
     ]
    },
    {
     "name": "stderr",
     "output_type": "stream",
     "text": [
      "\r",
      "4-echo monoexponential:  14%|█▎        | 2752/20176 [00:04<00:30, 579.34it/s]"
     ]
    },
    {
     "name": "stderr",
     "output_type": "stream",
     "text": [
      "\r",
      "4-echo monoexponential:  14%|█▍        | 2811/20176 [00:04<00:29, 579.73it/s]"
     ]
    },
    {
     "name": "stderr",
     "output_type": "stream",
     "text": [
      "\r",
      "4-echo monoexponential:  14%|█▍        | 2874/20176 [00:05<00:29, 593.64it/s]"
     ]
    },
    {
     "name": "stderr",
     "output_type": "stream",
     "text": [
      "\r",
      "4-echo monoexponential:  15%|█▍        | 2934/20176 [00:05<00:29, 592.16it/s]"
     ]
    },
    {
     "name": "stderr",
     "output_type": "stream",
     "text": [
      "\r",
      "4-echo monoexponential:  15%|█▍        | 2995/20176 [00:05<00:28, 595.67it/s]"
     ]
    },
    {
     "name": "stderr",
     "output_type": "stream",
     "text": [
      "\r",
      "4-echo monoexponential:  15%|█▌        | 3057/20176 [00:05<00:28, 601.28it/s]"
     ]
    },
    {
     "name": "stderr",
     "output_type": "stream",
     "text": [
      "\r",
      "4-echo monoexponential:  15%|█▌        | 3118/20176 [00:05<00:28, 603.77it/s]"
     ]
    },
    {
     "name": "stderr",
     "output_type": "stream",
     "text": [
      "\r",
      "4-echo monoexponential:  16%|█▌        | 3179/20176 [00:05<00:28, 604.70it/s]"
     ]
    },
    {
     "name": "stderr",
     "output_type": "stream",
     "text": [
      "\r",
      "4-echo monoexponential:  16%|█▌        | 3240/20176 [00:05<00:29, 578.96it/s]"
     ]
    },
    {
     "name": "stderr",
     "output_type": "stream",
     "text": [
      "\r",
      "4-echo monoexponential:  16%|█▋        | 3302/20176 [00:05<00:28, 590.47it/s]"
     ]
    },
    {
     "name": "stderr",
     "output_type": "stream",
     "text": [
      "\r",
      "4-echo monoexponential:  17%|█▋        | 3362/20176 [00:05<00:28, 588.86it/s]"
     ]
    },
    {
     "name": "stderr",
     "output_type": "stream",
     "text": [
      "\r",
      "4-echo monoexponential:  17%|█▋        | 3422/20176 [00:05<00:28, 586.01it/s]"
     ]
    },
    {
     "name": "stderr",
     "output_type": "stream",
     "text": [
      "\r",
      "4-echo monoexponential:  17%|█▋        | 3482/20176 [00:06<00:28, 588.64it/s]"
     ]
    },
    {
     "name": "stderr",
     "output_type": "stream",
     "text": [
      "\r",
      "4-echo monoexponential:  18%|█▊        | 3546/20176 [00:06<00:27, 603.15it/s]"
     ]
    },
    {
     "name": "stderr",
     "output_type": "stream",
     "text": [
      "\r",
      "4-echo monoexponential:  18%|█▊        | 3607/20176 [00:06<00:27, 602.70it/s]"
     ]
    },
    {
     "name": "stderr",
     "output_type": "stream",
     "text": [
      "\r",
      "4-echo monoexponential:  18%|█▊        | 3668/20176 [00:06<00:27, 602.19it/s]"
     ]
    },
    {
     "name": "stderr",
     "output_type": "stream",
     "text": [
      "\r",
      "4-echo monoexponential:  18%|█▊        | 3729/20176 [00:06<00:27, 602.14it/s]"
     ]
    },
    {
     "name": "stderr",
     "output_type": "stream",
     "text": [
      "\r",
      "4-echo monoexponential:  19%|█▉        | 3790/20176 [00:06<00:27, 604.40it/s]"
     ]
    },
    {
     "name": "stderr",
     "output_type": "stream",
     "text": [
      "\r",
      "4-echo monoexponential:  19%|█▉        | 3851/20176 [00:06<00:27, 598.17it/s]"
     ]
    },
    {
     "name": "stderr",
     "output_type": "stream",
     "text": [
      "\r",
      "4-echo monoexponential:  19%|█▉        | 3911/20176 [00:06<00:27, 591.37it/s]"
     ]
    },
    {
     "name": "stderr",
     "output_type": "stream",
     "text": [
      "\r",
      "4-echo monoexponential:  20%|█▉        | 3971/20176 [00:06<00:27, 588.08it/s]"
     ]
    },
    {
     "name": "stderr",
     "output_type": "stream",
     "text": [
      "\r",
      "4-echo monoexponential:  20%|█▉        | 4030/20176 [00:06<00:27, 586.14it/s]"
     ]
    },
    {
     "name": "stderr",
     "output_type": "stream",
     "text": [
      "\r",
      "4-echo monoexponential:  20%|██        | 4089/20176 [00:07<00:27, 582.38it/s]"
     ]
    },
    {
     "name": "stderr",
     "output_type": "stream",
     "text": [
      "\r",
      "4-echo monoexponential:  21%|██        | 4148/20176 [00:07<00:27, 574.53it/s]"
     ]
    },
    {
     "name": "stderr",
     "output_type": "stream",
     "text": [
      "\r",
      "4-echo monoexponential:  21%|██        | 4208/20176 [00:07<00:27, 580.48it/s]"
     ]
    },
    {
     "name": "stderr",
     "output_type": "stream",
     "text": [
      "\r",
      "4-echo monoexponential:  21%|██        | 4269/20176 [00:07<00:27, 588.51it/s]"
     ]
    },
    {
     "name": "stderr",
     "output_type": "stream",
     "text": [
      "\r",
      "4-echo monoexponential:  21%|██▏       | 4331/20176 [00:07<00:26, 597.45it/s]"
     ]
    },
    {
     "name": "stderr",
     "output_type": "stream",
     "text": [
      "\r",
      "4-echo monoexponential:  22%|██▏       | 4391/20176 [00:07<00:26, 592.26it/s]"
     ]
    },
    {
     "name": "stderr",
     "output_type": "stream",
     "text": [
      "\r",
      "4-echo monoexponential:  22%|██▏       | 4453/20176 [00:07<00:26, 598.79it/s]"
     ]
    },
    {
     "name": "stderr",
     "output_type": "stream",
     "text": [
      "\r",
      "4-echo monoexponential:  22%|██▏       | 4514/20176 [00:07<00:26, 600.35it/s]"
     ]
    },
    {
     "name": "stderr",
     "output_type": "stream",
     "text": [
      "\r",
      "4-echo monoexponential:  23%|██▎       | 4575/20176 [00:07<00:25, 603.12it/s]"
     ]
    },
    {
     "name": "stderr",
     "output_type": "stream",
     "text": [
      "\r",
      "4-echo monoexponential:  23%|██▎       | 4636/20176 [00:07<00:25, 601.98it/s]"
     ]
    },
    {
     "name": "stderr",
     "output_type": "stream",
     "text": [
      "\r",
      "4-echo monoexponential:  23%|██▎       | 4697/20176 [00:08<00:26, 584.29it/s]"
     ]
    },
    {
     "name": "stderr",
     "output_type": "stream",
     "text": [
      "\r",
      "4-echo monoexponential:  24%|██▎       | 4758/20176 [00:08<00:26, 589.22it/s]"
     ]
    },
    {
     "name": "stderr",
     "output_type": "stream",
     "text": [
      "\r",
      "4-echo monoexponential:  24%|██▍       | 4818/20176 [00:08<00:26, 589.62it/s]"
     ]
    },
    {
     "name": "stderr",
     "output_type": "stream",
     "text": [
      "\r",
      "4-echo monoexponential:  24%|██▍       | 4878/20176 [00:08<00:26, 585.08it/s]"
     ]
    },
    {
     "name": "stderr",
     "output_type": "stream",
     "text": [
      "\r",
      "4-echo monoexponential:  24%|██▍       | 4937/20176 [00:08<00:26, 585.81it/s]"
     ]
    },
    {
     "name": "stderr",
     "output_type": "stream",
     "text": [
      "\r",
      "4-echo monoexponential:  25%|██▍       | 4999/20176 [00:08<00:25, 594.13it/s]"
     ]
    },
    {
     "name": "stderr",
     "output_type": "stream",
     "text": [
      "\r",
      "4-echo monoexponential:  25%|██▌       | 5062/20176 [00:08<00:25, 601.43it/s]"
     ]
    },
    {
     "name": "stderr",
     "output_type": "stream",
     "text": [
      "\r",
      "4-echo monoexponential:  25%|██▌       | 5126/20176 [00:08<00:24, 610.30it/s]"
     ]
    },
    {
     "name": "stderr",
     "output_type": "stream",
     "text": [
      "\r",
      "4-echo monoexponential:  26%|██▌       | 5188/20176 [00:08<00:24, 612.18it/s]"
     ]
    },
    {
     "name": "stderr",
     "output_type": "stream",
     "text": [
      "\r",
      "4-echo monoexponential:  26%|██▌       | 5251/20176 [00:09<00:24, 614.49it/s]"
     ]
    },
    {
     "name": "stderr",
     "output_type": "stream",
     "text": [
      "\r",
      "4-echo monoexponential:  26%|██▋       | 5313/20176 [00:09<00:24, 615.57it/s]"
     ]
    },
    {
     "name": "stderr",
     "output_type": "stream",
     "text": [
      "\r",
      "4-echo monoexponential:  27%|██▋       | 5375/20176 [00:09<00:24, 593.44it/s]"
     ]
    },
    {
     "name": "stderr",
     "output_type": "stream",
     "text": [
      "\r",
      "4-echo monoexponential:  27%|██▋       | 5435/20176 [00:09<00:25, 573.83it/s]"
     ]
    },
    {
     "name": "stderr",
     "output_type": "stream",
     "text": [
      "\r",
      "4-echo monoexponential:  27%|██▋       | 5494/20176 [00:09<00:25, 578.12it/s]"
     ]
    },
    {
     "name": "stderr",
     "output_type": "stream",
     "text": [
      "\r",
      "4-echo monoexponential:  28%|██▊       | 5554/20176 [00:09<00:25, 582.30it/s]"
     ]
    },
    {
     "name": "stderr",
     "output_type": "stream",
     "text": [
      "\r",
      "4-echo monoexponential:  28%|██▊       | 5613/20176 [00:09<00:25, 579.24it/s]"
     ]
    },
    {
     "name": "stderr",
     "output_type": "stream",
     "text": [
      "\r",
      "4-echo monoexponential:  28%|██▊       | 5674/20176 [00:09<00:24, 586.74it/s]"
     ]
    },
    {
     "name": "stderr",
     "output_type": "stream",
     "text": [
      "\r",
      "4-echo monoexponential:  28%|██▊       | 5738/20176 [00:09<00:23, 601.76it/s]"
     ]
    },
    {
     "name": "stderr",
     "output_type": "stream",
     "text": [
      "\r",
      "4-echo monoexponential:  29%|██▉       | 5802/20176 [00:09<00:23, 610.91it/s]"
     ]
    },
    {
     "name": "stderr",
     "output_type": "stream",
     "text": [
      "\r",
      "4-echo monoexponential:  29%|██▉       | 5865/20176 [00:10<00:23, 613.80it/s]"
     ]
    },
    {
     "name": "stderr",
     "output_type": "stream",
     "text": [
      "\r",
      "4-echo monoexponential:  29%|██▉       | 5927/20176 [00:10<00:23, 610.34it/s]"
     ]
    },
    {
     "name": "stderr",
     "output_type": "stream",
     "text": [
      "\r",
      "4-echo monoexponential:  30%|██▉       | 5989/20176 [00:10<00:23, 603.70it/s]"
     ]
    },
    {
     "name": "stderr",
     "output_type": "stream",
     "text": [
      "\r",
      "4-echo monoexponential:  30%|██▉       | 6050/20176 [00:10<00:23, 599.65it/s]"
     ]
    },
    {
     "name": "stderr",
     "output_type": "stream",
     "text": [
      "\r",
      "4-echo monoexponential:  30%|███       | 6111/20176 [00:10<00:23, 600.59it/s]"
     ]
    },
    {
     "name": "stderr",
     "output_type": "stream",
     "text": [
      "\r",
      "4-echo monoexponential:  31%|███       | 6172/20176 [00:10<00:23, 596.77it/s]"
     ]
    },
    {
     "name": "stderr",
     "output_type": "stream",
     "text": [
      "\r",
      "4-echo monoexponential:  31%|███       | 6232/20176 [00:10<00:24, 572.25it/s]"
     ]
    },
    {
     "name": "stderr",
     "output_type": "stream",
     "text": [
      "\r",
      "4-echo monoexponential:  31%|███       | 6290/20176 [00:10<00:24, 573.67it/s]"
     ]
    },
    {
     "name": "stderr",
     "output_type": "stream",
     "text": [
      "\r",
      "4-echo monoexponential:  31%|███▏      | 6348/20176 [00:10<00:24, 571.94it/s]"
     ]
    },
    {
     "name": "stderr",
     "output_type": "stream",
     "text": [
      "\r",
      "4-echo monoexponential:  32%|███▏      | 6408/20176 [00:10<00:23, 578.14it/s]"
     ]
    },
    {
     "name": "stderr",
     "output_type": "stream",
     "text": [
      "\r",
      "4-echo monoexponential:  32%|███▏      | 6470/20176 [00:11<00:23, 589.49it/s]"
     ]
    },
    {
     "name": "stderr",
     "output_type": "stream",
     "text": [
      "\r",
      "4-echo monoexponential:  32%|███▏      | 6532/20176 [00:11<00:22, 596.40it/s]"
     ]
    },
    {
     "name": "stderr",
     "output_type": "stream",
     "text": [
      "\r",
      "4-echo monoexponential:  33%|███▎      | 6595/20176 [00:11<00:22, 604.94it/s]"
     ]
    },
    {
     "name": "stderr",
     "output_type": "stream",
     "text": [
      "\r",
      "4-echo monoexponential:  33%|███▎      | 6656/20176 [00:11<00:22, 601.32it/s]"
     ]
    },
    {
     "name": "stderr",
     "output_type": "stream",
     "text": [
      "\r",
      "4-echo monoexponential:  33%|███▎      | 6717/20176 [00:11<00:22, 602.29it/s]"
     ]
    },
    {
     "name": "stderr",
     "output_type": "stream",
     "text": [
      "\r",
      "4-echo monoexponential:  34%|███▎      | 6779/20176 [00:11<00:22, 606.90it/s]"
     ]
    },
    {
     "name": "stderr",
     "output_type": "stream",
     "text": [
      "\r",
      "4-echo monoexponential:  34%|███▍      | 6840/20176 [00:11<00:22, 605.69it/s]"
     ]
    },
    {
     "name": "stderr",
     "output_type": "stream",
     "text": [
      "\r",
      "4-echo monoexponential:  34%|███▍      | 6901/20176 [00:11<00:22, 603.13it/s]"
     ]
    },
    {
     "name": "stderr",
     "output_type": "stream",
     "text": [
      "\r",
      "4-echo monoexponential:  35%|███▍      | 6962/20176 [00:11<00:22, 585.77it/s]"
     ]
    },
    {
     "name": "stderr",
     "output_type": "stream",
     "text": [
      "\r",
      "4-echo monoexponential:  35%|███▍      | 7021/20176 [00:12<00:22, 573.44it/s]"
     ]
    },
    {
     "name": "stderr",
     "output_type": "stream",
     "text": [
      "\r",
      "4-echo monoexponential:  35%|███▌      | 7080/20176 [00:12<00:22, 575.95it/s]"
     ]
    },
    {
     "name": "stderr",
     "output_type": "stream",
     "text": [
      "\r",
      "4-echo monoexponential:  35%|███▌      | 7140/20176 [00:12<00:22, 581.64it/s]"
     ]
    },
    {
     "name": "stderr",
     "output_type": "stream",
     "text": [
      "\r",
      "4-echo monoexponential:  36%|███▌      | 7199/20176 [00:12<00:22, 580.33it/s]"
     ]
    },
    {
     "name": "stderr",
     "output_type": "stream",
     "text": [
      "\r",
      "4-echo monoexponential:  36%|███▌      | 7260/20176 [00:12<00:22, 586.59it/s]"
     ]
    },
    {
     "name": "stderr",
     "output_type": "stream",
     "text": [
      "\r",
      "4-echo monoexponential:  36%|███▋      | 7324/20176 [00:12<00:21, 600.98it/s]"
     ]
    },
    {
     "name": "stderr",
     "output_type": "stream",
     "text": [
      "\r",
      "4-echo monoexponential:  37%|███▋      | 7387/20176 [00:12<00:21, 606.87it/s]"
     ]
    },
    {
     "name": "stderr",
     "output_type": "stream",
     "text": [
      "\r",
      "4-echo monoexponential:  37%|███▋      | 7448/20176 [00:12<00:21, 599.39it/s]"
     ]
    },
    {
     "name": "stderr",
     "output_type": "stream",
     "text": [
      "\r",
      "4-echo monoexponential:  37%|███▋      | 7508/20176 [00:12<00:21, 598.30it/s]"
     ]
    },
    {
     "name": "stderr",
     "output_type": "stream",
     "text": [
      "\r",
      "4-echo monoexponential:  38%|███▊      | 7570/20176 [00:12<00:20, 601.66it/s]"
     ]
    },
    {
     "name": "stderr",
     "output_type": "stream",
     "text": [
      "\r",
      "4-echo monoexponential:  38%|███▊      | 7632/20176 [00:13<00:20, 604.42it/s]"
     ]
    },
    {
     "name": "stderr",
     "output_type": "stream",
     "text": [
      "\r",
      "4-echo monoexponential:  38%|███▊      | 7693/20176 [00:13<00:20, 603.71it/s]"
     ]
    },
    {
     "name": "stderr",
     "output_type": "stream",
     "text": [
      "\r",
      "4-echo monoexponential:  38%|███▊      | 7754/20176 [00:13<00:21, 582.23it/s]"
     ]
    },
    {
     "name": "stderr",
     "output_type": "stream",
     "text": [
      "\r",
      "4-echo monoexponential:  39%|███▊      | 7813/20176 [00:13<00:21, 576.52it/s]"
     ]
    },
    {
     "name": "stderr",
     "output_type": "stream",
     "text": [
      "\r",
      "4-echo monoexponential:  39%|███▉      | 7871/20176 [00:13<00:21, 571.28it/s]"
     ]
    },
    {
     "name": "stderr",
     "output_type": "stream",
     "text": [
      "\r",
      "4-echo monoexponential:  39%|███▉      | 7931/20176 [00:13<00:21, 577.26it/s]"
     ]
    },
    {
     "name": "stderr",
     "output_type": "stream",
     "text": [
      "\r",
      "4-echo monoexponential:  40%|███▉      | 7990/20176 [00:13<00:20, 580.94it/s]"
     ]
    },
    {
     "name": "stderr",
     "output_type": "stream",
     "text": [
      "\r",
      "4-echo monoexponential:  40%|███▉      | 8049/20176 [00:13<00:20, 580.54it/s]"
     ]
    },
    {
     "name": "stderr",
     "output_type": "stream",
     "text": [
      "\r",
      "4-echo monoexponential:  40%|████      | 8114/20176 [00:13<00:20, 598.53it/s]"
     ]
    },
    {
     "name": "stderr",
     "output_type": "stream",
     "text": [
      "\r",
      "4-echo monoexponential:  41%|████      | 8177/20176 [00:13<00:19, 605.93it/s]"
     ]
    },
    {
     "name": "stderr",
     "output_type": "stream",
     "text": [
      "\r",
      "4-echo monoexponential:  41%|████      | 8238/20176 [00:14<00:19, 605.91it/s]"
     ]
    },
    {
     "name": "stderr",
     "output_type": "stream",
     "text": [
      "\r",
      "4-echo monoexponential:  41%|████      | 8300/20176 [00:14<00:19, 608.78it/s]"
     ]
    },
    {
     "name": "stderr",
     "output_type": "stream",
     "text": [
      "\r",
      "4-echo monoexponential:  41%|████▏     | 8363/20176 [00:14<00:19, 612.03it/s]"
     ]
    },
    {
     "name": "stderr",
     "output_type": "stream",
     "text": [
      "\r",
      "4-echo monoexponential:  42%|████▏     | 8425/20176 [00:14<00:19, 603.56it/s]"
     ]
    },
    {
     "name": "stderr",
     "output_type": "stream",
     "text": [
      "\r",
      "4-echo monoexponential:  42%|████▏     | 8487/20176 [00:14<00:19, 607.07it/s]"
     ]
    },
    {
     "name": "stderr",
     "output_type": "stream",
     "text": [
      "\r",
      "4-echo monoexponential:  42%|████▏     | 8548/20176 [00:14<00:19, 594.12it/s]"
     ]
    },
    {
     "name": "stderr",
     "output_type": "stream",
     "text": [
      "\r",
      "4-echo monoexponential:  43%|████▎     | 8608/20176 [00:14<00:19, 582.25it/s]"
     ]
    },
    {
     "name": "stderr",
     "output_type": "stream",
     "text": [
      "\r",
      "4-echo monoexponential:  43%|████▎     | 8667/20176 [00:14<00:19, 578.53it/s]"
     ]
    },
    {
     "name": "stderr",
     "output_type": "stream",
     "text": [
      "\r",
      "4-echo monoexponential:  43%|████▎     | 8725/20176 [00:14<00:19, 575.87it/s]"
     ]
    },
    {
     "name": "stderr",
     "output_type": "stream",
     "text": [
      "\r",
      "4-echo monoexponential:  44%|████▎     | 8786/20176 [00:14<00:19, 585.09it/s]"
     ]
    },
    {
     "name": "stderr",
     "output_type": "stream",
     "text": [
      "\r",
      "4-echo monoexponential:  44%|████▍     | 8847/20176 [00:15<00:19, 590.83it/s]"
     ]
    },
    {
     "name": "stderr",
     "output_type": "stream",
     "text": [
      "\r",
      "4-echo monoexponential:  44%|████▍     | 8907/20176 [00:15<00:19, 589.24it/s]"
     ]
    },
    {
     "name": "stderr",
     "output_type": "stream",
     "text": [
      "\r",
      "4-echo monoexponential:  44%|████▍     | 8967/20176 [00:15<00:18, 590.27it/s]"
     ]
    },
    {
     "name": "stderr",
     "output_type": "stream",
     "text": [
      "\r",
      "4-echo monoexponential:  45%|████▍     | 9029/20176 [00:15<00:18, 596.61it/s]"
     ]
    },
    {
     "name": "stderr",
     "output_type": "stream",
     "text": [
      "\r",
      "4-echo monoexponential:  45%|████▌     | 9089/20176 [00:15<00:18, 594.51it/s]"
     ]
    },
    {
     "name": "stderr",
     "output_type": "stream",
     "text": [
      "\r",
      "4-echo monoexponential:  45%|████▌     | 9152/20176 [00:15<00:18, 603.61it/s]"
     ]
    },
    {
     "name": "stderr",
     "output_type": "stream",
     "text": [
      "\r",
      "4-echo monoexponential:  46%|████▌     | 9216/20176 [00:15<00:17, 612.70it/s]"
     ]
    },
    {
     "name": "stderr",
     "output_type": "stream",
     "text": [
      "\r",
      "4-echo monoexponential:  46%|████▌     | 9278/20176 [00:15<00:17, 613.99it/s]"
     ]
    },
    {
     "name": "stderr",
     "output_type": "stream",
     "text": [
      "\r",
      "4-echo monoexponential:  46%|████▋     | 9340/20176 [00:15<00:17, 608.30it/s]"
     ]
    },
    {
     "name": "stderr",
     "output_type": "stream",
     "text": [
      "\r",
      "4-echo monoexponential:  47%|████▋     | 9401/20176 [00:16<00:18, 593.62it/s]"
     ]
    },
    {
     "name": "stderr",
     "output_type": "stream",
     "text": [
      "\r",
      "4-echo monoexponential:  47%|████▋     | 9461/20176 [00:16<00:18, 586.74it/s]"
     ]
    },
    {
     "name": "stderr",
     "output_type": "stream",
     "text": [
      "\r",
      "4-echo monoexponential:  47%|████▋     | 9520/20176 [00:16<00:18, 570.57it/s]"
     ]
    },
    {
     "name": "stderr",
     "output_type": "stream",
     "text": [
      "\r",
      "4-echo monoexponential:  47%|████▋     | 9581/20176 [00:16<00:18, 579.70it/s]"
     ]
    },
    {
     "name": "stderr",
     "output_type": "stream",
     "text": [
      "\r",
      "4-echo monoexponential:  48%|████▊     | 9640/20176 [00:16<00:18, 577.58it/s]"
     ]
    },
    {
     "name": "stderr",
     "output_type": "stream",
     "text": [
      "\r",
      "4-echo monoexponential:  48%|████▊     | 9702/20176 [00:16<00:17, 588.69it/s]"
     ]
    },
    {
     "name": "stderr",
     "output_type": "stream",
     "text": [
      "\r",
      "4-echo monoexponential:  48%|████▊     | 9762/20176 [00:16<00:17, 590.01it/s]"
     ]
    },
    {
     "name": "stderr",
     "output_type": "stream",
     "text": [
      "\r",
      "4-echo monoexponential:  49%|████▊     | 9822/20176 [00:16<00:17, 588.17it/s]"
     ]
    },
    {
     "name": "stderr",
     "output_type": "stream",
     "text": [
      "\r",
      "4-echo monoexponential:  49%|████▉     | 9884/20176 [00:16<00:17, 596.16it/s]"
     ]
    },
    {
     "name": "stderr",
     "output_type": "stream",
     "text": [
      "\r",
      "4-echo monoexponential:  49%|████▉     | 9945/20176 [00:16<00:17, 600.02it/s]"
     ]
    },
    {
     "name": "stderr",
     "output_type": "stream",
     "text": [
      "\r",
      "4-echo monoexponential:  50%|████▉     | 10009/20176 [00:17<00:16, 611.47it/s]"
     ]
    },
    {
     "name": "stderr",
     "output_type": "stream",
     "text": [
      "\r",
      "4-echo monoexponential:  50%|████▉     | 10071/20176 [00:17<00:16, 610.44it/s]"
     ]
    },
    {
     "name": "stderr",
     "output_type": "stream",
     "text": [
      "\r",
      "4-echo monoexponential:  50%|█████     | 10133/20176 [00:17<00:16, 603.54it/s]"
     ]
    },
    {
     "name": "stderr",
     "output_type": "stream",
     "text": [
      "\r",
      "4-echo monoexponential:  51%|█████     | 10194/20176 [00:17<00:17, 585.34it/s]"
     ]
    },
    {
     "name": "stderr",
     "output_type": "stream",
     "text": [
      "\r",
      "4-echo monoexponential:  51%|█████     | 10253/20176 [00:17<00:17, 581.37it/s]"
     ]
    },
    {
     "name": "stderr",
     "output_type": "stream",
     "text": [
      "\r",
      "4-echo monoexponential:  51%|█████     | 10312/20176 [00:17<00:16, 581.70it/s]"
     ]
    },
    {
     "name": "stderr",
     "output_type": "stream",
     "text": [
      "\r",
      "4-echo monoexponential:  51%|█████▏    | 10371/20176 [00:17<00:16, 583.79it/s]"
     ]
    },
    {
     "name": "stderr",
     "output_type": "stream",
     "text": [
      "\r",
      "4-echo monoexponential:  52%|█████▏    | 10431/20176 [00:17<00:16, 586.80it/s]"
     ]
    },
    {
     "name": "stderr",
     "output_type": "stream",
     "text": [
      "\r",
      "4-echo monoexponential:  52%|█████▏    | 10493/20176 [00:17<00:16, 594.33it/s]"
     ]
    },
    {
     "name": "stderr",
     "output_type": "stream",
     "text": [
      "\r",
      "4-echo monoexponential:  52%|█████▏    | 10556/20176 [00:17<00:15, 603.32it/s]"
     ]
    },
    {
     "name": "stderr",
     "output_type": "stream",
     "text": [
      "\r",
      "4-echo monoexponential:  53%|█████▎    | 10617/20176 [00:18<00:15, 601.31it/s]"
     ]
    },
    {
     "name": "stderr",
     "output_type": "stream",
     "text": [
      "\r",
      "4-echo monoexponential:  53%|█████▎    | 10678/20176 [00:18<00:16, 587.76it/s]"
     ]
    },
    {
     "name": "stderr",
     "output_type": "stream",
     "text": [
      "\r",
      "4-echo monoexponential:  53%|█████▎    | 10739/20176 [00:18<00:15, 592.91it/s]"
     ]
    },
    {
     "name": "stderr",
     "output_type": "stream",
     "text": [
      "\r",
      "4-echo monoexponential:  54%|█████▎    | 10801/20176 [00:18<00:15, 600.81it/s]"
     ]
    },
    {
     "name": "stderr",
     "output_type": "stream",
     "text": [
      "\r",
      "4-echo monoexponential:  54%|█████▍    | 10862/20176 [00:18<00:15, 595.85it/s]"
     ]
    },
    {
     "name": "stderr",
     "output_type": "stream",
     "text": [
      "\r",
      "4-echo monoexponential:  54%|█████▍    | 10923/20176 [00:18<00:15, 597.90it/s]"
     ]
    },
    {
     "name": "stderr",
     "output_type": "stream",
     "text": [
      "\r",
      "4-echo monoexponential:  54%|█████▍    | 10983/20176 [00:18<00:16, 574.34it/s]"
     ]
    },
    {
     "name": "stderr",
     "output_type": "stream",
     "text": [
      "\r",
      "4-echo monoexponential:  55%|█████▍    | 11041/20176 [00:18<00:16, 568.79it/s]"
     ]
    },
    {
     "name": "stderr",
     "output_type": "stream",
     "text": [
      "\r",
      "4-echo monoexponential:  55%|█████▌    | 11099/20176 [00:18<00:15, 572.02it/s]"
     ]
    },
    {
     "name": "stderr",
     "output_type": "stream",
     "text": [
      "\r",
      "4-echo monoexponential:  55%|█████▌    | 11157/20176 [00:19<00:15, 571.43it/s]"
     ]
    },
    {
     "name": "stderr",
     "output_type": "stream",
     "text": [
      "\r",
      "4-echo monoexponential:  56%|█████▌    | 11222/20176 [00:19<00:15, 592.43it/s]"
     ]
    },
    {
     "name": "stderr",
     "output_type": "stream",
     "text": [
      "\r",
      "4-echo monoexponential:  56%|█████▌    | 11285/20176 [00:19<00:14, 602.06it/s]"
     ]
    },
    {
     "name": "stderr",
     "output_type": "stream",
     "text": [
      "\r",
      "4-echo monoexponential:  56%|█████▌    | 11346/20176 [00:19<00:14, 597.21it/s]"
     ]
    },
    {
     "name": "stderr",
     "output_type": "stream",
     "text": [
      "\r",
      "4-echo monoexponential:  57%|█████▋    | 11406/20176 [00:19<00:14, 596.54it/s]"
     ]
    },
    {
     "name": "stderr",
     "output_type": "stream",
     "text": [
      "\r",
      "4-echo monoexponential:  57%|█████▋    | 11469/20176 [00:19<00:14, 604.46it/s]"
     ]
    },
    {
     "name": "stderr",
     "output_type": "stream",
     "text": [
      "\r",
      "4-echo monoexponential:  57%|█████▋    | 11531/20176 [00:19<00:14, 606.50it/s]"
     ]
    },
    {
     "name": "stderr",
     "output_type": "stream",
     "text": [
      "\r",
      "4-echo monoexponential:  57%|█████▋    | 11594/20176 [00:19<00:14, 611.29it/s]"
     ]
    },
    {
     "name": "stderr",
     "output_type": "stream",
     "text": [
      "\r",
      "4-echo monoexponential:  58%|█████▊    | 11656/20176 [00:19<00:13, 610.31it/s]"
     ]
    },
    {
     "name": "stderr",
     "output_type": "stream",
     "text": [
      "\r",
      "4-echo monoexponential:  58%|█████▊    | 11718/20176 [00:19<00:13, 608.62it/s]"
     ]
    },
    {
     "name": "stderr",
     "output_type": "stream",
     "text": [
      "\r",
      "4-echo monoexponential:  58%|█████▊    | 11779/20176 [00:20<00:15, 550.69it/s]"
     ]
    },
    {
     "name": "stderr",
     "output_type": "stream",
     "text": [
      "\r",
      "4-echo monoexponential:  59%|█████▊    | 11839/20176 [00:20<00:14, 563.72it/s]"
     ]
    },
    {
     "name": "stderr",
     "output_type": "stream",
     "text": [
      "\r",
      "4-echo monoexponential:  59%|█████▉    | 11897/20176 [00:20<00:14, 568.29it/s]"
     ]
    },
    {
     "name": "stderr",
     "output_type": "stream",
     "text": [
      "\r",
      "4-echo monoexponential:  59%|█████▉    | 11958/20176 [00:20<00:14, 578.54it/s]"
     ]
    },
    {
     "name": "stderr",
     "output_type": "stream",
     "text": [
      "\r",
      "4-echo monoexponential:  60%|█████▉    | 12018/20176 [00:20<00:14, 582.69it/s]"
     ]
    },
    {
     "name": "stderr",
     "output_type": "stream",
     "text": [
      "\r",
      "4-echo monoexponential:  60%|█████▉    | 12077/20176 [00:20<00:13, 584.40it/s]"
     ]
    },
    {
     "name": "stderr",
     "output_type": "stream",
     "text": [
      "\r",
      "4-echo monoexponential:  60%|██████    | 12138/20176 [00:20<00:13, 591.08it/s]"
     ]
    },
    {
     "name": "stderr",
     "output_type": "stream",
     "text": [
      "\r",
      "4-echo monoexponential:  60%|██████    | 12201/20176 [00:20<00:13, 600.50it/s]"
     ]
    },
    {
     "name": "stderr",
     "output_type": "stream",
     "text": [
      "\r",
      "4-echo monoexponential:  61%|██████    | 12265/20176 [00:20<00:12, 611.17it/s]"
     ]
    },
    {
     "name": "stderr",
     "output_type": "stream",
     "text": [
      "\r",
      "4-echo monoexponential:  61%|██████    | 12327/20176 [00:20<00:12, 613.24it/s]"
     ]
    },
    {
     "name": "stderr",
     "output_type": "stream",
     "text": [
      "\r",
      "4-echo monoexponential:  61%|██████▏   | 12389/20176 [00:21<00:12, 611.10it/s]"
     ]
    },
    {
     "name": "stderr",
     "output_type": "stream",
     "text": [
      "\r",
      "4-echo monoexponential:  62%|██████▏   | 12451/20176 [00:21<00:12, 613.33it/s]"
     ]
    },
    {
     "name": "stderr",
     "output_type": "stream",
     "text": [
      "\r",
      "4-echo monoexponential:  62%|██████▏   | 12513/20176 [00:21<00:12, 605.83it/s]"
     ]
    },
    {
     "name": "stderr",
     "output_type": "stream",
     "text": [
      "\r",
      "4-echo monoexponential:  62%|██████▏   | 12574/20176 [00:21<00:13, 559.17it/s]"
     ]
    },
    {
     "name": "stderr",
     "output_type": "stream",
     "text": [
      "\r",
      "4-echo monoexponential:  63%|██████▎   | 12635/20176 [00:21<00:13, 571.02it/s]"
     ]
    },
    {
     "name": "stderr",
     "output_type": "stream",
     "text": [
      "\r",
      "4-echo monoexponential:  63%|██████▎   | 12697/20176 [00:21<00:12, 584.00it/s]"
     ]
    },
    {
     "name": "stderr",
     "output_type": "stream",
     "text": [
      "\r",
      "4-echo monoexponential:  63%|██████▎   | 12758/20176 [00:21<00:12, 588.38it/s]"
     ]
    },
    {
     "name": "stderr",
     "output_type": "stream",
     "text": [
      "\r",
      "4-echo monoexponential:  64%|██████▎   | 12821/20176 [00:21<00:12, 598.50it/s]"
     ]
    },
    {
     "name": "stderr",
     "output_type": "stream",
     "text": [
      "\r",
      "4-echo monoexponential:  64%|██████▍   | 12884/20176 [00:21<00:12, 607.23it/s]"
     ]
    },
    {
     "name": "stderr",
     "output_type": "stream",
     "text": [
      "\r",
      "4-echo monoexponential:  64%|██████▍   | 12945/20176 [00:22<00:11, 607.78it/s]"
     ]
    },
    {
     "name": "stderr",
     "output_type": "stream",
     "text": [
      "\r",
      "4-echo monoexponential:  64%|██████▍   | 13007/20176 [00:22<00:11, 609.56it/s]"
     ]
    },
    {
     "name": "stderr",
     "output_type": "stream",
     "text": [
      "\r",
      "4-echo monoexponential:  65%|██████▍   | 13070/20176 [00:22<00:11, 612.44it/s]"
     ]
    },
    {
     "name": "stderr",
     "output_type": "stream",
     "text": [
      "\r",
      "4-echo monoexponential:  65%|██████▌   | 13132/20176 [00:22<00:11, 608.34it/s]"
     ]
    },
    {
     "name": "stderr",
     "output_type": "stream",
     "text": [
      "\r",
      "4-echo monoexponential:  65%|██████▌   | 13193/20176 [00:22<00:11, 604.66it/s]"
     ]
    },
    {
     "name": "stderr",
     "output_type": "stream",
     "text": [
      "\r",
      "4-echo monoexponential:  66%|██████▌   | 13254/20176 [00:22<00:11, 601.74it/s]"
     ]
    },
    {
     "name": "stderr",
     "output_type": "stream",
     "text": [
      "\r",
      "4-echo monoexponential:  66%|██████▌   | 13315/20176 [00:22<00:11, 593.03it/s]"
     ]
    },
    {
     "name": "stderr",
     "output_type": "stream",
     "text": [
      "\r",
      "4-echo monoexponential:  66%|██████▋   | 13375/20176 [00:22<00:11, 568.11it/s]"
     ]
    },
    {
     "name": "stderr",
     "output_type": "stream",
     "text": [
      "\r",
      "4-echo monoexponential:  67%|██████▋   | 13436/20176 [00:22<00:11, 576.99it/s]"
     ]
    },
    {
     "name": "stderr",
     "output_type": "stream",
     "text": [
      "\r",
      "4-echo monoexponential:  67%|██████▋   | 13495/20176 [00:22<00:11, 580.00it/s]"
     ]
    },
    {
     "name": "stderr",
     "output_type": "stream",
     "text": [
      "\r",
      "4-echo monoexponential:  67%|██████▋   | 13555/20176 [00:23<00:11, 584.03it/s]"
     ]
    },
    {
     "name": "stderr",
     "output_type": "stream",
     "text": [
      "\r",
      "4-echo monoexponential:  67%|██████▋   | 13617/20176 [00:23<00:11, 592.49it/s]"
     ]
    },
    {
     "name": "stderr",
     "output_type": "stream",
     "text": [
      "\r",
      "4-echo monoexponential:  68%|██████▊   | 13680/20176 [00:23<00:10, 601.68it/s]"
     ]
    },
    {
     "name": "stderr",
     "output_type": "stream",
     "text": [
      "\r",
      "4-echo monoexponential:  68%|██████▊   | 13743/20176 [00:23<00:10, 608.12it/s]"
     ]
    },
    {
     "name": "stderr",
     "output_type": "stream",
     "text": [
      "\r",
      "4-echo monoexponential:  68%|██████▊   | 13805/20176 [00:23<00:10, 608.95it/s]"
     ]
    },
    {
     "name": "stderr",
     "output_type": "stream",
     "text": [
      "\r",
      "4-echo monoexponential:  69%|██████▊   | 13867/20176 [00:23<00:10, 610.20it/s]"
     ]
    },
    {
     "name": "stderr",
     "output_type": "stream",
     "text": [
      "\r",
      "4-echo monoexponential:  69%|██████▉   | 13929/20176 [00:23<00:10, 608.54it/s]"
     ]
    },
    {
     "name": "stderr",
     "output_type": "stream",
     "text": [
      "\r",
      "4-echo monoexponential:  69%|██████▉   | 13992/20176 [00:23<00:10, 612.90it/s]"
     ]
    },
    {
     "name": "stderr",
     "output_type": "stream",
     "text": [
      "\r",
      "4-echo monoexponential:  70%|██████▉   | 14054/20176 [00:23<00:10, 605.42it/s]"
     ]
    },
    {
     "name": "stderr",
     "output_type": "stream",
     "text": [
      "\r",
      "4-echo monoexponential:  70%|██████▉   | 14115/20176 [00:23<00:10, 594.82it/s]"
     ]
    },
    {
     "name": "stderr",
     "output_type": "stream",
     "text": [
      "\r",
      "4-echo monoexponential:  70%|███████   | 14175/20176 [00:24<00:10, 578.75it/s]"
     ]
    },
    {
     "name": "stderr",
     "output_type": "stream",
     "text": [
      "\r",
      "4-echo monoexponential:  71%|███████   | 14233/20176 [00:24<00:10, 572.78it/s]"
     ]
    },
    {
     "name": "stderr",
     "output_type": "stream",
     "text": [
      "\r",
      "4-echo monoexponential:  71%|███████   | 14292/20176 [00:24<00:10, 574.73it/s]"
     ]
    },
    {
     "name": "stderr",
     "output_type": "stream",
     "text": [
      "\r",
      "4-echo monoexponential:  71%|███████   | 14353/20176 [00:24<00:09, 582.43it/s]"
     ]
    },
    {
     "name": "stderr",
     "output_type": "stream",
     "text": [
      "\r",
      "4-echo monoexponential:  71%|███████▏  | 14417/20176 [00:24<00:09, 595.90it/s]"
     ]
    },
    {
     "name": "stderr",
     "output_type": "stream",
     "text": [
      "\r",
      "4-echo monoexponential:  72%|███████▏  | 14483/20176 [00:24<00:09, 613.47it/s]"
     ]
    },
    {
     "name": "stderr",
     "output_type": "stream",
     "text": [
      "\r",
      "4-echo monoexponential:  72%|███████▏  | 14546/20176 [00:24<00:09, 616.33it/s]"
     ]
    },
    {
     "name": "stderr",
     "output_type": "stream",
     "text": [
      "\r",
      "4-echo monoexponential:  72%|███████▏  | 14608/20176 [00:24<00:09, 617.20it/s]"
     ]
    },
    {
     "name": "stderr",
     "output_type": "stream",
     "text": [
      "\r",
      "4-echo monoexponential:  73%|███████▎  | 14670/20176 [00:24<00:09, 609.96it/s]"
     ]
    },
    {
     "name": "stderr",
     "output_type": "stream",
     "text": [
      "\r",
      "4-echo monoexponential:  73%|███████▎  | 14732/20176 [00:25<00:09, 601.08it/s]"
     ]
    },
    {
     "name": "stderr",
     "output_type": "stream",
     "text": [
      "\r",
      "4-echo monoexponential:  73%|███████▎  | 14793/20176 [00:25<00:08, 601.69it/s]"
     ]
    },
    {
     "name": "stderr",
     "output_type": "stream",
     "text": [
      "\r",
      "4-echo monoexponential:  74%|███████▎  | 14854/20176 [00:25<00:09, 588.21it/s]"
     ]
    },
    {
     "name": "stderr",
     "output_type": "stream",
     "text": [
      "\r",
      "4-echo monoexponential:  74%|███████▍  | 14913/20176 [00:25<00:09, 576.43it/s]"
     ]
    },
    {
     "name": "stderr",
     "output_type": "stream",
     "text": [
      "\r",
      "4-echo monoexponential:  74%|███████▍  | 14971/20176 [00:25<00:09, 576.54it/s]"
     ]
    },
    {
     "name": "stderr",
     "output_type": "stream",
     "text": [
      "\r",
      "4-echo monoexponential:  75%|███████▍  | 15032/20176 [00:25<00:08, 586.29it/s]"
     ]
    },
    {
     "name": "stderr",
     "output_type": "stream",
     "text": [
      "\r",
      "4-echo monoexponential:  75%|███████▍  | 15092/20176 [00:25<00:08, 589.02it/s]"
     ]
    },
    {
     "name": "stderr",
     "output_type": "stream",
     "text": [
      "\r",
      "4-echo monoexponential:  75%|███████▌  | 15154/20176 [00:25<00:08, 597.77it/s]"
     ]
    },
    {
     "name": "stderr",
     "output_type": "stream",
     "text": [
      "\r",
      "4-echo monoexponential:  75%|███████▌  | 15214/20176 [00:25<00:08, 595.81it/s]"
     ]
    },
    {
     "name": "stderr",
     "output_type": "stream",
     "text": [
      "\r",
      "4-echo monoexponential:  76%|███████▌  | 15276/20176 [00:25<00:08, 600.59it/s]"
     ]
    },
    {
     "name": "stderr",
     "output_type": "stream",
     "text": [
      "\r",
      "4-echo monoexponential:  76%|███████▌  | 15339/20176 [00:26<00:07, 607.93it/s]"
     ]
    },
    {
     "name": "stderr",
     "output_type": "stream",
     "text": [
      "\r",
      "4-echo monoexponential:  76%|███████▋  | 15400/20176 [00:26<00:07, 604.46it/s]"
     ]
    },
    {
     "name": "stderr",
     "output_type": "stream",
     "text": [
      "\r",
      "4-echo monoexponential:  77%|███████▋  | 15461/20176 [00:26<00:07, 605.56it/s]"
     ]
    },
    {
     "name": "stderr",
     "output_type": "stream",
     "text": [
      "\r",
      "4-echo monoexponential:  77%|███████▋  | 15522/20176 [00:26<00:07, 604.56it/s]"
     ]
    },
    {
     "name": "stderr",
     "output_type": "stream",
     "text": [
      "\r",
      "4-echo monoexponential:  77%|███████▋  | 15583/20176 [00:26<00:07, 583.77it/s]"
     ]
    },
    {
     "name": "stderr",
     "output_type": "stream",
     "text": [
      "\r",
      "4-echo monoexponential:  78%|███████▊  | 15642/20176 [00:26<00:07, 577.46it/s]"
     ]
    },
    {
     "name": "stderr",
     "output_type": "stream",
     "text": [
      "\r",
      "4-echo monoexponential:  78%|███████▊  | 15701/20176 [00:26<00:07, 579.66it/s]"
     ]
    },
    {
     "name": "stderr",
     "output_type": "stream",
     "text": [
      "\r",
      "4-echo monoexponential:  78%|███████▊  | 15761/20176 [00:26<00:07, 585.31it/s]"
     ]
    },
    {
     "name": "stderr",
     "output_type": "stream",
     "text": [
      "\r",
      "4-echo monoexponential:  78%|███████▊  | 15820/20176 [00:26<00:07, 573.15it/s]"
     ]
    },
    {
     "name": "stderr",
     "output_type": "stream",
     "text": [
      "\r",
      "4-echo monoexponential:  79%|███████▊  | 15881/20176 [00:26<00:07, 583.47it/s]"
     ]
    },
    {
     "name": "stderr",
     "output_type": "stream",
     "text": [
      "\r",
      "4-echo monoexponential:  79%|███████▉  | 15942/20176 [00:27<00:07, 591.12it/s]"
     ]
    },
    {
     "name": "stderr",
     "output_type": "stream",
     "text": [
      "\r",
      "4-echo monoexponential:  79%|███████▉  | 16007/20176 [00:27<00:06, 605.73it/s]"
     ]
    },
    {
     "name": "stderr",
     "output_type": "stream",
     "text": [
      "\r",
      "4-echo monoexponential:  80%|███████▉  | 16069/20176 [00:27<00:06, 609.14it/s]"
     ]
    },
    {
     "name": "stderr",
     "output_type": "stream",
     "text": [
      "\r",
      "4-echo monoexponential:  80%|███████▉  | 16130/20176 [00:27<00:06, 607.20it/s]"
     ]
    },
    {
     "name": "stderr",
     "output_type": "stream",
     "text": [
      "\r",
      "4-echo monoexponential:  80%|████████  | 16191/20176 [00:27<00:06, 599.55it/s]"
     ]
    },
    {
     "name": "stderr",
     "output_type": "stream",
     "text": [
      "\r",
      "4-echo monoexponential:  81%|████████  | 16252/20176 [00:27<00:06, 601.99it/s]"
     ]
    },
    {
     "name": "stderr",
     "output_type": "stream",
     "text": [
      "\r",
      "4-echo monoexponential:  81%|████████  | 16313/20176 [00:27<00:06, 579.00it/s]"
     ]
    },
    {
     "name": "stderr",
     "output_type": "stream",
     "text": [
      "\r",
      "4-echo monoexponential:  81%|████████  | 16372/20176 [00:27<00:06, 579.43it/s]"
     ]
    },
    {
     "name": "stderr",
     "output_type": "stream",
     "text": [
      "\r",
      "4-echo monoexponential:  81%|████████▏ | 16431/20176 [00:27<00:06, 575.33it/s]"
     ]
    },
    {
     "name": "stderr",
     "output_type": "stream",
     "text": [
      "\r",
      "4-echo monoexponential:  82%|████████▏ | 16489/20176 [00:27<00:06, 572.44it/s]"
     ]
    },
    {
     "name": "stderr",
     "output_type": "stream",
     "text": [
      "\r",
      "4-echo monoexponential:  82%|████████▏ | 16548/20176 [00:28<00:06, 576.95it/s]"
     ]
    },
    {
     "name": "stderr",
     "output_type": "stream",
     "text": [
      "\r",
      "4-echo monoexponential:  82%|████████▏ | 16610/20176 [00:28<00:06, 587.49it/s]"
     ]
    },
    {
     "name": "stderr",
     "output_type": "stream",
     "text": [
      "\r",
      "4-echo monoexponential:  83%|████████▎ | 16671/20176 [00:28<00:05, 593.84it/s]"
     ]
    },
    {
     "name": "stderr",
     "output_type": "stream",
     "text": [
      "\r",
      "4-echo monoexponential:  83%|████████▎ | 16734/20176 [00:28<00:05, 602.94it/s]"
     ]
    },
    {
     "name": "stderr",
     "output_type": "stream",
     "text": [
      "\r",
      "4-echo monoexponential:  83%|████████▎ | 16795/20176 [00:28<00:05, 601.46it/s]"
     ]
    },
    {
     "name": "stderr",
     "output_type": "stream",
     "text": [
      "\r",
      "4-echo monoexponential:  84%|████████▎ | 16856/20176 [00:28<00:05, 585.46it/s]"
     ]
    },
    {
     "name": "stderr",
     "output_type": "stream",
     "text": [
      "\r",
      "4-echo monoexponential:  84%|████████▍ | 16915/20176 [00:28<00:05, 585.70it/s]"
     ]
    },
    {
     "name": "stderr",
     "output_type": "stream",
     "text": [
      "\r",
      "4-echo monoexponential:  84%|████████▍ | 16974/20176 [00:28<00:05, 585.37it/s]"
     ]
    },
    {
     "name": "stderr",
     "output_type": "stream",
     "text": [
      "\r",
      "4-echo monoexponential:  84%|████████▍ | 17033/20176 [00:28<00:05, 558.02it/s]"
     ]
    },
    {
     "name": "stderr",
     "output_type": "stream",
     "text": [
      "\r",
      "4-echo monoexponential:  85%|████████▍ | 17095/20176 [00:29<00:05, 575.63it/s]"
     ]
    },
    {
     "name": "stderr",
     "output_type": "stream",
     "text": [
      "\r",
      "4-echo monoexponential:  85%|████████▌ | 17153/20176 [00:29<00:05, 570.86it/s]"
     ]
    },
    {
     "name": "stderr",
     "output_type": "stream",
     "text": [
      "\r",
      "4-echo monoexponential:  85%|████████▌ | 17211/20176 [00:29<00:05, 565.23it/s]"
     ]
    },
    {
     "name": "stderr",
     "output_type": "stream",
     "text": [
      "\r",
      "4-echo monoexponential:  86%|████████▌ | 17270/20176 [00:29<00:05, 570.56it/s]"
     ]
    },
    {
     "name": "stderr",
     "output_type": "stream",
     "text": [
      "\r",
      "4-echo monoexponential:  86%|████████▌ | 17328/20176 [00:29<00:04, 571.94it/s]"
     ]
    },
    {
     "name": "stderr",
     "output_type": "stream",
     "text": [
      "\r",
      "4-echo monoexponential:  86%|████████▌ | 17391/20176 [00:29<00:04, 587.66it/s]"
     ]
    },
    {
     "name": "stderr",
     "output_type": "stream",
     "text": [
      "\r",
      "4-echo monoexponential:  87%|████████▋ | 17453/20176 [00:29<00:04, 594.04it/s]"
     ]
    },
    {
     "name": "stderr",
     "output_type": "stream",
     "text": [
      "\r",
      "4-echo monoexponential:  87%|████████▋ | 17513/20176 [00:29<00:04, 587.12it/s]"
     ]
    },
    {
     "name": "stderr",
     "output_type": "stream",
     "text": [
      "\r",
      "4-echo monoexponential:  87%|████████▋ | 17574/20176 [00:29<00:04, 591.54it/s]"
     ]
    },
    {
     "name": "stderr",
     "output_type": "stream",
     "text": [
      "\r",
      "4-echo monoexponential:  87%|████████▋ | 17634/20176 [00:29<00:04, 572.93it/s]"
     ]
    },
    {
     "name": "stderr",
     "output_type": "stream",
     "text": [
      "\r",
      "4-echo monoexponential:  88%|████████▊ | 17692/20176 [00:30<00:04, 560.46it/s]"
     ]
    },
    {
     "name": "stderr",
     "output_type": "stream",
     "text": [
      "\r",
      "4-echo monoexponential:  88%|████████▊ | 17750/20176 [00:30<00:04, 564.29it/s]"
     ]
    },
    {
     "name": "stderr",
     "output_type": "stream",
     "text": [
      "\r",
      "4-echo monoexponential:  88%|████████▊ | 17808/20176 [00:30<00:04, 568.50it/s]"
     ]
    },
    {
     "name": "stderr",
     "output_type": "stream",
     "text": [
      "\r",
      "4-echo monoexponential:  89%|████████▊ | 17867/20176 [00:30<00:04, 573.98it/s]"
     ]
    },
    {
     "name": "stderr",
     "output_type": "stream",
     "text": [
      "\r",
      "4-echo monoexponential:  89%|████████▉ | 17928/20176 [00:30<00:03, 582.89it/s]"
     ]
    },
    {
     "name": "stderr",
     "output_type": "stream",
     "text": [
      "\r",
      "4-echo monoexponential:  89%|████████▉ | 17992/20176 [00:30<00:03, 598.77it/s]"
     ]
    },
    {
     "name": "stderr",
     "output_type": "stream",
     "text": [
      "\r",
      "4-echo monoexponential:  89%|████████▉ | 18054/20176 [00:30<00:03, 604.67it/s]"
     ]
    },
    {
     "name": "stderr",
     "output_type": "stream",
     "text": [
      "\r",
      "4-echo monoexponential:  90%|████████▉ | 18115/20176 [00:30<00:03, 599.44it/s]"
     ]
    },
    {
     "name": "stderr",
     "output_type": "stream",
     "text": [
      "\r",
      "4-echo monoexponential:  90%|█████████ | 18175/20176 [00:30<00:03, 588.43it/s]"
     ]
    },
    {
     "name": "stderr",
     "output_type": "stream",
     "text": [
      "\r",
      "4-echo monoexponential:  90%|█████████ | 18234/20176 [00:30<00:03, 570.00it/s]"
     ]
    },
    {
     "name": "stderr",
     "output_type": "stream",
     "text": [
      "\r",
      "4-echo monoexponential:  91%|█████████ | 18292/20176 [00:31<00:03, 554.72it/s]"
     ]
    },
    {
     "name": "stderr",
     "output_type": "stream",
     "text": [
      "\r",
      "4-echo monoexponential:  91%|█████████ | 18352/20176 [00:31<00:03, 566.17it/s]"
     ]
    },
    {
     "name": "stderr",
     "output_type": "stream",
     "text": [
      "\r",
      "4-echo monoexponential:  91%|█████████ | 18409/20176 [00:31<00:03, 554.26it/s]"
     ]
    },
    {
     "name": "stderr",
     "output_type": "stream",
     "text": [
      "\r",
      "4-echo monoexponential:  92%|█████████▏| 18469/20176 [00:31<00:03, 565.72it/s]"
     ]
    },
    {
     "name": "stderr",
     "output_type": "stream",
     "text": [
      "\r",
      "4-echo monoexponential:  92%|█████████▏| 18528/20176 [00:31<00:02, 571.41it/s]"
     ]
    },
    {
     "name": "stderr",
     "output_type": "stream",
     "text": [
      "\r",
      "4-echo monoexponential:  92%|█████████▏| 18589/20176 [00:31<00:02, 581.42it/s]"
     ]
    },
    {
     "name": "stderr",
     "output_type": "stream",
     "text": [
      "\r",
      "4-echo monoexponential:  92%|█████████▏| 18650/20176 [00:31<00:02, 588.87it/s]"
     ]
    },
    {
     "name": "stderr",
     "output_type": "stream",
     "text": [
      "\r",
      "4-echo monoexponential:  93%|█████████▎| 18709/20176 [00:31<00:02, 575.26it/s]"
     ]
    },
    {
     "name": "stderr",
     "output_type": "stream",
     "text": [
      "\r",
      "4-echo monoexponential:  93%|█████████▎| 18767/20176 [00:31<00:02, 563.11it/s]"
     ]
    },
    {
     "name": "stderr",
     "output_type": "stream",
     "text": [
      "\r",
      "4-echo monoexponential:  93%|█████████▎| 18825/20176 [00:32<00:02, 567.15it/s]"
     ]
    },
    {
     "name": "stderr",
     "output_type": "stream",
     "text": [
      "\r",
      "4-echo monoexponential:  94%|█████████▎| 18882/20176 [00:32<00:02, 560.93it/s]"
     ]
    },
    {
     "name": "stderr",
     "output_type": "stream",
     "text": [
      "\r",
      "4-echo monoexponential:  94%|█████████▍| 18941/20176 [00:32<00:02, 568.80it/s]"
     ]
    },
    {
     "name": "stderr",
     "output_type": "stream",
     "text": [
      "\r",
      "4-echo monoexponential:  94%|█████████▍| 19004/20176 [00:32<00:02, 584.91it/s]"
     ]
    },
    {
     "name": "stderr",
     "output_type": "stream",
     "text": [
      "\r",
      "4-echo monoexponential:  95%|█████████▍| 19067/20176 [00:32<00:01, 597.71it/s]"
     ]
    },
    {
     "name": "stderr",
     "output_type": "stream",
     "text": [
      "\r",
      "4-echo monoexponential:  95%|█████████▍| 19128/20176 [00:32<00:01, 599.30it/s]"
     ]
    },
    {
     "name": "stderr",
     "output_type": "stream",
     "text": [
      "\r",
      "4-echo monoexponential:  95%|█████████▌| 19188/20176 [00:32<00:01, 575.99it/s]"
     ]
    },
    {
     "name": "stderr",
     "output_type": "stream",
     "text": [
      "\r",
      "4-echo monoexponential:  95%|█████████▌| 19246/20176 [00:32<00:01, 568.45it/s]"
     ]
    },
    {
     "name": "stderr",
     "output_type": "stream",
     "text": [
      "\r",
      "4-echo monoexponential:  96%|█████████▌| 19303/20176 [00:32<00:01, 563.79it/s]"
     ]
    },
    {
     "name": "stderr",
     "output_type": "stream",
     "text": [
      "\r",
      "4-echo monoexponential:  96%|█████████▌| 19360/20176 [00:32<00:01, 556.44it/s]"
     ]
    },
    {
     "name": "stderr",
     "output_type": "stream",
     "text": [
      "\r",
      "4-echo monoexponential:  96%|█████████▌| 19416/20176 [00:33<00:01, 554.35it/s]"
     ]
    },
    {
     "name": "stderr",
     "output_type": "stream",
     "text": [
      "\r",
      "4-echo monoexponential:  97%|█████████▋| 19475/20176 [00:33<00:01, 562.55it/s]"
     ]
    },
    {
     "name": "stderr",
     "output_type": "stream",
     "text": [
      "\r",
      "4-echo monoexponential:  97%|█████████▋| 19535/20176 [00:33<00:01, 571.00it/s]"
     ]
    },
    {
     "name": "stderr",
     "output_type": "stream",
     "text": [
      "\r",
      "4-echo monoexponential:  97%|█████████▋| 19593/20176 [00:33<00:01, 566.51it/s]"
     ]
    },
    {
     "name": "stderr",
     "output_type": "stream",
     "text": [
      "\r",
      "4-echo monoexponential:  97%|█████████▋| 19651/20176 [00:33<00:00, 569.81it/s]"
     ]
    },
    {
     "name": "stderr",
     "output_type": "stream",
     "text": [
      "\r",
      "4-echo monoexponential:  98%|█████████▊| 19712/20176 [00:33<00:00, 581.46it/s]"
     ]
    },
    {
     "name": "stderr",
     "output_type": "stream",
     "text": [
      "\r",
      "4-echo monoexponential:  98%|█████████▊| 19776/20176 [00:33<00:00, 597.21it/s]"
     ]
    },
    {
     "name": "stderr",
     "output_type": "stream",
     "text": [
      "\r",
      "4-echo monoexponential:  98%|█████████▊| 19836/20176 [00:33<00:00, 589.17it/s]"
     ]
    },
    {
     "name": "stderr",
     "output_type": "stream",
     "text": [
      "\r",
      "4-echo monoexponential:  99%|█████████▊| 19895/20176 [00:33<00:00, 571.31it/s]"
     ]
    },
    {
     "name": "stderr",
     "output_type": "stream",
     "text": [
      "\r",
      "4-echo monoexponential:  99%|█████████▉| 19953/20176 [00:33<00:00, 566.57it/s]"
     ]
    },
    {
     "name": "stderr",
     "output_type": "stream",
     "text": [
      "\r",
      "4-echo monoexponential:  99%|█████████▉| 20010/20176 [00:34<00:00, 558.66it/s]"
     ]
    },
    {
     "name": "stderr",
     "output_type": "stream",
     "text": [
      "\r",
      "4-echo monoexponential:  99%|█████████▉| 20067/20176 [00:34<00:00, 561.00it/s]"
     ]
    },
    {
     "name": "stderr",
     "output_type": "stream",
     "text": [
      "\r",
      "4-echo monoexponential: 100%|█████████▉| 20124/20176 [00:34<00:00, 558.79it/s]"
     ]
    },
    {
     "name": "stderr",
     "output_type": "stream",
     "text": [
      "\r",
      "4-echo monoexponential: 100%|██████████| 20176/20176 [00:34<00:00, 586.45it/s]"
     ]
    },
    {
     "name": "stderr",
     "output_type": "stream",
     "text": [
      "\n"
     ]
    },
    {
     "name": "stderr",
     "output_type": "stream",
     "text": [
      "/opt/hostedtoolcache/Python/3.10.14/x64/lib/python3.10/site-packages/tedana/decay.py:541: RuntimeWarning: Mean of empty slice\n",
      "  rmse_map = np.nanmean(rmse, axis=1)\n"
     ]
    },
    {
     "name": "stderr",
     "output_type": "stream",
     "text": [
      "INFO     combine:make_optcom:192 Optimally combining data with voxel-wise T2* estimates\n"
     ]
    },
    {
     "name": "stderr",
     "output_type": "stream",
     "text": [
      "INFO     tedana:tedana_workflow:672 Writing optimally combined data set: /home/runner/work/multi-echo-data-analysis/multi-echo-data-analysis/data/multi-echo-data-analysis/tedana/sub-04570_task-rest_space-scanner_desc-optcom_bold.nii.gz\n"
     ]
    },
    {
     "name": "stderr",
     "output_type": "stream",
     "text": [
      "INFO     pca:tedpca:203 Computing PCA of optimally combined multi-echo data with selection criteria: mdl\n"
     ]
    },
    {
     "name": "stderr",
     "output_type": "stream",
     "text": [
      "/opt/hostedtoolcache/Python/3.10.14/x64/lib/python3.10/site-packages/tedana/io.py:833: UserWarning: Data array used to create a new image contains 64-bit ints. This is likely due to creating the array with numpy and passing `int` as the `dtype`. Many tools such as FSL and SPM cannot deal with int64 in Nifti images, so for compatibility the data has been converted to int32.\n",
      "  nii = new_img_like(ref_img, newdata, affine=affine, copy_header=copy_header)\n"
     ]
    },
    {
     "name": "stderr",
     "output_type": "stream",
     "text": [
      "INFO     pca:tedpca:243 Optimal number of components based on different criteria:\n"
     ]
    },
    {
     "name": "stderr",
     "output_type": "stream",
     "text": [
      "INFO     pca:tedpca:244 AIC: 77 | KIC: 67 | MDL: 43 | 90% varexp: 141 | 95% varexp: 186\n"
     ]
    },
    {
     "name": "stderr",
     "output_type": "stream",
     "text": [
      "INFO     pca:tedpca:249 Explained variance based on different criteria:\n"
     ]
    },
    {
     "name": "stderr",
     "output_type": "stream",
     "text": [
      "INFO     pca:tedpca:250 AIC: 0.816% | KIC: 0.801% | MDL: 0.757% | 90% varexp: 0.9% | 95% varexp: 0.95%\n"
     ]
    },
    {
     "name": "stderr",
     "output_type": "stream",
     "text": [
      "INFO     pca:tedpca:267 Plotting maPCA optimization curves\n"
     ]
    },
    {
     "name": "stderr",
     "output_type": "stream",
     "text": [
      "INFO     collect:generate_metrics:121 Calculating weight maps\n"
     ]
    },
    {
     "name": "stderr",
     "output_type": "stream",
     "text": [
      "INFO     collect:generate_metrics:130 Calculating parameter estimate maps for optimally combined data\n"
     ]
    },
    {
     "name": "stderr",
     "output_type": "stream",
     "text": [
      "INFO     collect:generate_metrics:143 Calculating z-statistic maps\n"
     ]
    },
    {
     "name": "stderr",
     "output_type": "stream",
     "text": [
      "INFO     collect:generate_metrics:153 Calculating F-statistic maps\n"
     ]
    },
    {
     "name": "stderr",
     "output_type": "stream",
     "text": [
      "INFO     collect:generate_metrics:173 Thresholding z-statistic maps\n"
     ]
    },
    {
     "name": "stderr",
     "output_type": "stream",
     "text": [
      "INFO     collect:generate_metrics:180 Calculating T2* F-statistic maps\n"
     ]
    },
    {
     "name": "stderr",
     "output_type": "stream",
     "text": [
      "INFO     collect:generate_metrics:187 Calculating S0 F-statistic maps\n"
     ]
    },
    {
     "name": "stderr",
     "output_type": "stream",
     "text": [
      "INFO     collect:generate_metrics:195 Counting significant voxels in T2* F-statistic maps\n"
     ]
    },
    {
     "name": "stderr",
     "output_type": "stream",
     "text": [
      "INFO     collect:generate_metrics:201 Counting significant voxels in S0 F-statistic maps\n"
     ]
    },
    {
     "name": "stderr",
     "output_type": "stream",
     "text": [
      "INFO     collect:generate_metrics:208 Thresholding optimal combination beta maps to match T2* F-statistic maps\n"
     ]
    },
    {
     "name": "stderr",
     "output_type": "stream",
     "text": [
      "INFO     collect:generate_metrics:214 Thresholding optimal combination beta maps to match S0 F-statistic maps\n"
     ]
    },
    {
     "name": "stderr",
     "output_type": "stream",
     "text": [
      "INFO     collect:generate_metrics:221 Calculating kappa and rho\n"
     ]
    },
    {
     "name": "stderr",
     "output_type": "stream",
     "text": [
      "INFO     collect:generate_metrics:230 Calculating variance explained\n"
     ]
    },
    {
     "name": "stderr",
     "output_type": "stream",
     "text": [
      "INFO     collect:generate_metrics:236 Calculating normalized variance explained\n"
     ]
    },
    {
     "name": "stderr",
     "output_type": "stream",
     "text": [
      "INFO     collect:generate_metrics:243 Calculating DSI between thresholded T2* F-statistic and optimal combination beta maps\n"
     ]
    },
    {
     "name": "stderr",
     "output_type": "stream",
     "text": [
      "INFO     collect:generate_metrics:254 Calculating DSI between thresholded S0 F-statistic and optimal combination beta maps\n"
     ]
    },
    {
     "name": "stderr",
     "output_type": "stream",
     "text": [
      "INFO     collect:generate_metrics:265 Calculating signal-noise t-statistics\n"
     ]
    },
    {
     "name": "stderr",
     "output_type": "stream",
     "text": [
      "INFO     collect:generate_metrics:303 Counting significant noise voxels from z-statistic maps\n"
     ]
    },
    {
     "name": "stderr",
     "output_type": "stream",
     "text": [
      "INFO     collect:generate_metrics:314 Calculating decision table score\n"
     ]
    },
    {
     "name": "stderr",
     "output_type": "stream",
     "text": [
      "INFO     pca:tedpca:397 Selected 43 components with 75.69% normalized variance explained using mdl dimensionality estimate\n"
     ]
    },
    {
     "name": "stderr",
     "output_type": "stream",
     "text": [
      "/opt/hostedtoolcache/Python/3.10.14/x64/lib/python3.10/site-packages/tedana/io.py:354: FutureWarning: Downcasting behavior in `replace` is deprecated and will be removed in a future version. To retain the old behavior, explicitly call `result.infer_objects(copy=False)`. To opt-in to the future behavior, set `pd.set_option('future.no_silent_downcasting', True)`\n",
      "  deblanked = data.replace(\"\", np.nan)\n"
     ]
    },
    {
     "name": "stderr",
     "output_type": "stream",
     "text": [
      "INFO     ica:tedica:80 ICA with random seed 42 converged in 62 iterations\n"
     ]
    },
    {
     "name": "stderr",
     "output_type": "stream",
     "text": [
      "INFO     collect:generate_metrics:121 Calculating weight maps\n"
     ]
    },
    {
     "name": "stderr",
     "output_type": "stream",
     "text": [
      "INFO     collect:generate_metrics:130 Calculating parameter estimate maps for optimally combined data\n"
     ]
    },
    {
     "name": "stderr",
     "output_type": "stream",
     "text": [
      "INFO     collect:generate_metrics:143 Calculating z-statistic maps\n"
     ]
    },
    {
     "name": "stderr",
     "output_type": "stream",
     "text": [
      "INFO     collect:generate_metrics:153 Calculating F-statistic maps\n"
     ]
    },
    {
     "name": "stderr",
     "output_type": "stream",
     "text": [
      "INFO     collect:generate_metrics:173 Thresholding z-statistic maps\n"
     ]
    },
    {
     "name": "stderr",
     "output_type": "stream",
     "text": [
      "INFO     collect:generate_metrics:180 Calculating T2* F-statistic maps\n"
     ]
    },
    {
     "name": "stderr",
     "output_type": "stream",
     "text": [
      "INFO     collect:generate_metrics:187 Calculating S0 F-statistic maps\n"
     ]
    },
    {
     "name": "stderr",
     "output_type": "stream",
     "text": [
      "INFO     collect:generate_metrics:195 Counting significant voxels in T2* F-statistic maps\n"
     ]
    },
    {
     "name": "stderr",
     "output_type": "stream",
     "text": [
      "INFO     collect:generate_metrics:201 Counting significant voxels in S0 F-statistic maps\n"
     ]
    },
    {
     "name": "stderr",
     "output_type": "stream",
     "text": [
      "INFO     collect:generate_metrics:208 Thresholding optimal combination beta maps to match T2* F-statistic maps\n"
     ]
    },
    {
     "name": "stderr",
     "output_type": "stream",
     "text": [
      "INFO     collect:generate_metrics:214 Thresholding optimal combination beta maps to match S0 F-statistic maps\n"
     ]
    },
    {
     "name": "stderr",
     "output_type": "stream",
     "text": [
      "INFO     collect:generate_metrics:221 Calculating kappa and rho\n"
     ]
    },
    {
     "name": "stderr",
     "output_type": "stream",
     "text": [
      "INFO     collect:generate_metrics:230 Calculating variance explained\n"
     ]
    },
    {
     "name": "stderr",
     "output_type": "stream",
     "text": [
      "INFO     collect:generate_metrics:236 Calculating normalized variance explained\n"
     ]
    },
    {
     "name": "stderr",
     "output_type": "stream",
     "text": [
      "INFO     collect:generate_metrics:243 Calculating DSI between thresholded T2* F-statistic and optimal combination beta maps\n"
     ]
    },
    {
     "name": "stderr",
     "output_type": "stream",
     "text": [
      "INFO     collect:generate_metrics:254 Calculating DSI between thresholded S0 F-statistic and optimal combination beta maps\n"
     ]
    },
    {
     "name": "stderr",
     "output_type": "stream",
     "text": [
      "INFO     collect:generate_metrics:265 Calculating signal-noise t-statistics\n"
     ]
    },
    {
     "name": "stderr",
     "output_type": "stream",
     "text": [
      "INFO     collect:generate_metrics:303 Counting significant noise voxels from z-statistic maps\n"
     ]
    },
    {
     "name": "stderr",
     "output_type": "stream",
     "text": [
      "INFO     collect:generate_metrics:314 Calculating decision table score\n"
     ]
    },
    {
     "name": "stderr",
     "output_type": "stream",
     "text": [
      "INFO     tedana:tedana_workflow:721 Selecting components from ICA results\n"
     ]
    },
    {
     "name": "stderr",
     "output_type": "stream",
     "text": [
      "INFO     tedica:automatic_selection:55 Performing ICA component selection\n"
     ]
    },
    {
     "name": "stderr",
     "output_type": "stream",
     "text": [
      "INFO     selection_nodes:manual_classify:104 Step 0: manual_classify: Set all to unclassified \n"
     ]
    },
    {
     "name": "stderr",
     "output_type": "stream",
     "text": [
      "INFO     selection_utils:log_decision_tree_step:406 Step 0: manual_classify applied to 43 components. 43 True -> unclassified. 0 False -> nochange.\n"
     ]
    },
    {
     "name": "stderr",
     "output_type": "stream",
     "text": [
      "INFO     selection_nodes:manual_classify:136 Step 0: manual_classify component classification tags are cleared\n"
     ]
    },
    {
     "name": "stderr",
     "output_type": "stream",
     "text": [
      "INFO     selection_utils:log_classification_counts:451 Step 0: Total component classifications: 43 unclassified\n"
     ]
    },
    {
     "name": "stderr",
     "output_type": "stream",
     "text": [
      "INFO     selection_nodes:dec_left_op_right:389 Step 1: left_op_right: rejected if rho>kappa, else nochange\n"
     ]
    },
    {
     "name": "stderr",
     "output_type": "stream",
     "text": [
      "INFO     selection_utils:log_decision_tree_step:406 Step 1: left_op_right applied to 43 components. 15 True -> rejected. 28 False -> nochange.\n"
     ]
    },
    {
     "name": "stderr",
     "output_type": "stream",
     "text": [
      "INFO     selection_utils:log_classification_counts:451 Step 1: Total component classifications: 15 rejected, 28 unclassified\n"
     ]
    },
    {
     "name": "stderr",
     "output_type": "stream",
     "text": [
      "INFO     selection_nodes:dec_left_op_right:389 Step 2: left_op_right: rejected if ['countsigFS0>countsigFT2 & countsigFT2>0'], else nochange\n"
     ]
    },
    {
     "name": "stderr",
     "output_type": "stream",
     "text": [
      "INFO     selection_utils:log_decision_tree_step:406 Step 2: left_op_right applied to 43 components. 15 True -> rejected. 28 False -> nochange.\n"
     ]
    },
    {
     "name": "stderr",
     "output_type": "stream",
     "text": [
      "INFO     selection_utils:log_classification_counts:451 Step 2: Total component classifications: 16 rejected, 27 unclassified\n"
     ]
    },
    {
     "name": "stderr",
     "output_type": "stream",
     "text": [
      "INFO     selection_nodes:calc_median:653 Step 3: calc_median: Median(median_varex)\n"
     ]
    },
    {
     "name": "stderr",
     "output_type": "stream",
     "text": [
      "INFO     selection_utils:log_decision_tree_step:418 Step 3: calc_median calculated: median_varex=0.636900830648422\n"
     ]
    },
    {
     "name": "stderr",
     "output_type": "stream",
     "text": [
      "INFO     selection_utils:log_classification_counts:451 Step 3: Total component classifications: 16 rejected, 27 unclassified\n"
     ]
    },
    {
     "name": "stderr",
     "output_type": "stream",
     "text": [
      "INFO     selection_nodes:dec_left_op_right:389 Step 4: left_op_right: rejected if ['dice_FS0>dice_FT2 & variance explained>0.64'], else nochange\n"
     ]
    },
    {
     "name": "stderr",
     "output_type": "stream",
     "text": [
      "INFO     selection_utils:log_decision_tree_step:406 Step 4: left_op_right applied to 43 components. 4 True -> rejected. 39 False -> nochange.\n"
     ]
    },
    {
     "name": "stderr",
     "output_type": "stream",
     "text": [
      "INFO     selection_utils:log_classification_counts:451 Step 4: Total component classifications: 16 rejected, 27 unclassified\n"
     ]
    },
    {
     "name": "stderr",
     "output_type": "stream",
     "text": [
      "INFO     selection_nodes:dec_left_op_right:389 Step 5: left_op_right: rejected if ['0>signal-noise_t & variance explained>0.64'], else nochange\n"
     ]
    },
    {
     "name": "stderr",
     "output_type": "stream",
     "text": [
      "INFO     selection_utils:log_decision_tree_step:406 Step 5: left_op_right applied to 43 components. 2 True -> rejected. 41 False -> nochange.\n"
     ]
    },
    {
     "name": "stderr",
     "output_type": "stream",
     "text": [
      "INFO     selection_utils:log_classification_counts:451 Step 5: Total component classifications: 18 rejected, 25 unclassified\n"
     ]
    },
    {
     "name": "stderr",
     "output_type": "stream",
     "text": [
      "INFO     selection_nodes:calc_kappa_elbow:757 Step 6: calc_kappa_elbow: Calc Kappa Elbow\n"
     ]
    },
    {
     "name": "stderr",
     "output_type": "stream",
     "text": [
      "INFO     selection_utils:kappa_elbow_kundu:621 Calculating kappa elbow based on min of all and nonsig components.\n"
     ]
    },
    {
     "name": "stderr",
     "output_type": "stream",
     "text": [
      "INFO     selection_utils:log_decision_tree_step:418 Step 6: calc_kappa_elbow calculated: kappa_elbow_kundu=24.00648297660876, kappa_allcomps_elbow=37.562890393711754, kappa_nonsig_elbow=24.00648297660876, varex_upper_p=0.8089089913339068\n"
     ]
    },
    {
     "name": "stderr",
     "output_type": "stream",
     "text": [
      "INFO     selection_utils:log_classification_counts:451 Step 6: Total component classifications: 18 rejected, 25 unclassified\n"
     ]
    },
    {
     "name": "stderr",
     "output_type": "stream",
     "text": [
      "INFO     selection_nodes:dec_reclassify_high_var_comps:1120 Step 7: reclassify_high_var_comps: Change unclassified to unclass_highvar for the top couple of components with the highest jumps in variance\n"
     ]
    },
    {
     "name": "stderr",
     "output_type": "stream",
     "text": [
      "INFO     selection_utils:log_decision_tree_step:406 Step 7: reclassify_high_var_comps applied to 25 components. 3 True -> unclass_highvar. 22 False -> nochange.\n"
     ]
    },
    {
     "name": "stderr",
     "output_type": "stream",
     "text": [
      "INFO     selection_utils:log_classification_counts:451 Step 7: Total component classifications: 18 rejected, 3 unclass_highvar, 22 unclassified\n"
     ]
    },
    {
     "name": "stderr",
     "output_type": "stream",
     "text": [
      "INFO     selection_nodes:calc_rho_elbow:882 Step 8: calc_rho_elbow: Calc Rho Elbow\n"
     ]
    },
    {
     "name": "stderr",
     "output_type": "stream",
     "text": [
      "INFO     selection_utils:log_decision_tree_step:418 Step 8: calc_rho_elbow calculated: rho_elbow_kundu=16.593474162932207, rho_allcomps_elbow=24.547042487264658, rho_unclassified_elbow=15.10541551551804, elbow_f05=10.127964486013928\n"
     ]
    },
    {
     "name": "stderr",
     "output_type": "stream",
     "text": [
      "INFO     selection_utils:log_classification_counts:451 Step 8: Total component classifications: 18 rejected, 3 unclass_highvar, 22 unclassified\n"
     ]
    },
    {
     "name": "stderr",
     "output_type": "stream",
     "text": [
      "INFO     selection_nodes:dec_left_op_right:389 Step 9: left_op_right: provisionalaccept if kappa>=24.01, else nochange\n"
     ]
    },
    {
     "name": "stderr",
     "output_type": "stream",
     "text": [
      "INFO     selection_utils:log_decision_tree_step:406 Step 9: left_op_right applied to 22 components. 16 True -> provisionalaccept. 6 False -> nochange.\n"
     ]
    },
    {
     "name": "stderr",
     "output_type": "stream",
     "text": [
      "INFO     selection_utils:log_classification_counts:451 Step 9: Total component classifications: 16 provisionalaccept, 18 rejected, 3 unclass_highvar, 6 unclassified\n"
     ]
    },
    {
     "name": "stderr",
     "output_type": "stream",
     "text": [
      "INFO     selection_nodes:dec_left_op_right:389 Step 10: left_op_right: unclassified if rho>16.59, else nochange\n"
     ]
    },
    {
     "name": "stderr",
     "output_type": "stream",
     "text": [
      "INFO     selection_utils:log_decision_tree_step:406 Step 10: left_op_right applied to 16 components. 6 True -> unclassified. 10 False -> nochange.\n"
     ]
    },
    {
     "name": "stderr",
     "output_type": "stream",
     "text": [
      "INFO     selection_utils:log_classification_counts:451 Step 10: Total component classifications: 10 provisionalaccept, 18 rejected, 3 unclass_highvar, 12 unclassified\n"
     ]
    },
    {
     "name": "stderr",
     "output_type": "stream",
     "text": [
      "INFO     selection_nodes:dec_classification_doesnt_exist:1009 Step 11: classification_doesnt_exist: Change ['provisionalaccept', 'unclassified', 'unclass_highvar'] to accepted if less than 2 components with provisionalaccept exist\n"
     ]
    },
    {
     "name": "stderr",
     "output_type": "stream",
     "text": [
      "INFO     selection_nodes:dec_classification_doesnt_exist:1011 Step 11: classification_doesnt_exist If nothing is provisionally accepted by this point, then rerun ICA & selection. If max iterations of rerunning done, then accept everything not already rejected\n"
     ]
    },
    {
     "name": "stderr",
     "output_type": "stream",
     "text": [
      "INFO     selection_utils:log_decision_tree_step:406 Step 11: classification_doesnt_exist applied to 25 components. None True -> 0. None False -> 25.\n"
     ]
    },
    {
     "name": "stderr",
     "output_type": "stream",
     "text": [
      "INFO     selection_utils:log_classification_counts:451 Step 11: Total component classifications: 10 provisionalaccept, 18 rejected, 3 unclass_highvar, 12 unclassified\n"
     ]
    },
    {
     "name": "stderr",
     "output_type": "stream",
     "text": [
      "INFO     selection_nodes:calc_varex_thresh:1308 Step 12: calc_varex_thresh: Calc varex_upper_thresh, 90th percentile threshold\n"
     ]
    },
    {
     "name": "stderr",
     "output_type": "stream",
     "text": [
      "INFO     selection_utils:log_decision_tree_step:418 Step 12: calc_varex_thresh calculated: varex_upper_thresh=1.059928225570154, upper_perc=90\n"
     ]
    },
    {
     "name": "stderr",
     "output_type": "stream",
     "text": [
      "INFO     selection_utils:log_classification_counts:451 Step 12: Total component classifications: 10 provisionalaccept, 18 rejected, 3 unclass_highvar, 12 unclassified\n"
     ]
    },
    {
     "name": "stderr",
     "output_type": "stream",
     "text": [
      "INFO     selection_nodes:calc_varex_thresh:1308 Step 13: calc_varex_thresh: Calc varex_lower_thresh, 25th percentile threshold\n"
     ]
    },
    {
     "name": "stderr",
     "output_type": "stream",
     "text": [
      "INFO     selection_utils:log_decision_tree_step:418 Step 13: calc_varex_thresh calculated: varex_lower_thresh=0.4036028541471611, lower_perc=25\n"
     ]
    },
    {
     "name": "stderr",
     "output_type": "stream",
     "text": [
      "INFO     selection_utils:log_classification_counts:451 Step 13: Total component classifications: 10 provisionalaccept, 18 rejected, 3 unclass_highvar, 12 unclassified\n"
     ]
    },
    {
     "name": "stderr",
     "output_type": "stream",
     "text": [
      "INFO     selection_utils:get_extend_factor:798 extend_factor=2.0, based on number of fMRI volumes\n"
     ]
    },
    {
     "name": "stderr",
     "output_type": "stream",
     "text": [
      "INFO     selection_utils:log_decision_tree_step:418 Step 14: calc_extend_factor calculated: extend_factor=2.0\n"
     ]
    },
    {
     "name": "stderr",
     "output_type": "stream",
     "text": [
      "INFO     selection_utils:log_classification_counts:451 Step 14: Total component classifications: 10 provisionalaccept, 18 rejected, 3 unclass_highvar, 12 unclassified\n"
     ]
    },
    {
     "name": "stderr",
     "output_type": "stream",
     "text": [
      "INFO     selection_utils:log_decision_tree_step:418 Step 15: calc_max_good_meanmetricrank calculated: max_good_meanmetricrank=20.0\n"
     ]
    },
    {
     "name": "stderr",
     "output_type": "stream",
     "text": [
      "INFO     selection_utils:log_classification_counts:451 Step 15: Total component classifications: 10 provisionalaccept, 18 rejected, 3 unclass_highvar, 12 unclassified\n"
     ]
    },
    {
     "name": "stderr",
     "output_type": "stream",
     "text": [
      "INFO     selection_utils:log_decision_tree_step:418 Step 16: calc_varex_kappa_ratio calculated: kappa_rate=76.84859750446638\n"
     ]
    },
    {
     "name": "stderr",
     "output_type": "stream",
     "text": [
      "INFO     selection_utils:log_classification_counts:451 Step 16: Total component classifications: 10 provisionalaccept, 18 rejected, 3 unclass_highvar, 12 unclassified\n"
     ]
    },
    {
     "name": "stderr",
     "output_type": "stream",
     "text": [
      "INFO     selection_nodes:dec_left_op_right:389 Step 17: left_op_right: rejected if ['d_table_score>20.0 & variance explained>2.0*1.06'], else nochange\n"
     ]
    },
    {
     "name": "stderr",
     "output_type": "stream",
     "text": [
      "INFO     selection_nodes:dec_left_op_right:391 Step 17: left_op_right If variance and d_table_scores are high, then reject\n"
     ]
    },
    {
     "name": "stderr",
     "output_type": "stream",
     "text": [
      "INFO     selection_utils:comptable_classification_changer:277 Step 17: No components fit criterion True to change classification\n"
     ]
    },
    {
     "name": "stderr",
     "output_type": "stream",
     "text": [
      "INFO     selection_utils:log_decision_tree_step:406 Step 17: left_op_right applied to 25 components. 0 True -> rejected. 25 False -> nochange.\n"
     ]
    },
    {
     "name": "stderr",
     "output_type": "stream",
     "text": [
      "INFO     selection_utils:log_classification_counts:451 Step 17: Total component classifications: 10 provisionalaccept, 18 rejected, 3 unclass_highvar, 12 unclassified\n"
     ]
    },
    {
     "name": "stderr",
     "output_type": "stream",
     "text": [
      "INFO     selection_nodes:dec_left_op_right:389 Step 18: left_op_right: accepted if ['d_table_score>20.0 & variance explained<=0.4 & kappa<=24.01'], else nochange\n"
     ]
    },
    {
     "name": "stderr",
     "output_type": "stream",
     "text": [
      "INFO     selection_nodes:dec_left_op_right:391 Step 18: left_op_right If low variance, accept even if bad kappa & d_table_scores\n"
     ]
    },
    {
     "name": "stderr",
     "output_type": "stream",
     "text": [
      "INFO     selection_utils:log_decision_tree_step:406 Step 18: left_op_right applied to 25 components. 6 True -> accepted. 19 False -> nochange.\n"
     ]
    },
    {
     "name": "stderr",
     "output_type": "stream",
     "text": [
      "INFO     selection_utils:log_classification_counts:451 Step 18: Total component classifications: 6 accepted, 9 provisionalaccept, 18 rejected, 3 unclass_highvar, 7 unclassified\n"
     ]
    },
    {
     "name": "stderr",
     "output_type": "stream",
     "text": [
      "INFO     selection_nodes:dec_classification_doesnt_exist:1009 Step 19: classification_doesnt_exist: Change ['provisionalaccept', 'unclassified', 'unclass_highvar'] to accepted if ['unclassified', 'unclass_highvar'] doesn't exist\n"
     ]
    },
    {
     "name": "stderr",
     "output_type": "stream",
     "text": [
      "INFO     selection_nodes:dec_classification_doesnt_exist:1011 Step 19: classification_doesnt_exist If nothing left is unclassified, then accept all\n"
     ]
    },
    {
     "name": "stderr",
     "output_type": "stream",
     "text": [
      "INFO     selection_utils:log_decision_tree_step:406 Step 19: classification_doesnt_exist applied to 19 components. None True -> 0. None False -> 19.\n"
     ]
    },
    {
     "name": "stderr",
     "output_type": "stream",
     "text": [
      "INFO     selection_utils:log_classification_counts:451 Step 19: Total component classifications: 6 accepted, 9 provisionalaccept, 18 rejected, 3 unclass_highvar, 7 unclassified\n"
     ]
    },
    {
     "name": "stderr",
     "output_type": "stream",
     "text": [
      "INFO     selection_nodes:calc_revised_meanmetricrank_guesses:1768 Step 20: calc_revised_meanmetricrank_guesses: Calc revised d_table_score & num accepted component guesses\n"
     ]
    },
    {
     "name": "stderr",
     "output_type": "stream",
     "text": [
      "INFO     selection_utils:log_decision_tree_step:418 Step 20: calc_revised_meanmetricrank_guesses calculated: num_acc_guess=13, conservative_guess=6.5, restrict_factor=2\n"
     ]
    },
    {
     "name": "stderr",
     "output_type": "stream",
     "text": [
      "INFO     selection_utils:log_classification_counts:451 Step 20: Total component classifications: 6 accepted, 9 provisionalaccept, 18 rejected, 3 unclass_highvar, 7 unclassified\n"
     ]
    },
    {
     "name": "stderr",
     "output_type": "stream",
     "text": [
      "INFO     selection_nodes:dec_left_op_right:389 Step 21: left_op_right: rejected if ['d_table_score_node20>6.5 & varex kappa ratio>2*2.0 & variance explained>2.0*1.06'], else nochange\n"
     ]
    },
    {
     "name": "stderr",
     "output_type": "stream",
     "text": [
      "INFO     selection_nodes:dec_left_op_right:391 Step 21: left_op_right Reject if a combination of kappa, variance, and other factors are ranked worse than others\n"
     ]
    },
    {
     "name": "stderr",
     "output_type": "stream",
     "text": [
      "INFO     selection_utils:log_decision_tree_step:406 Step 21: left_op_right applied to 19 components. 2 True -> rejected. 17 False -> nochange.\n"
     ]
    },
    {
     "name": "stderr",
     "output_type": "stream",
     "text": [
      "INFO     selection_utils:log_classification_counts:451 Step 21: Total component classifications: 6 accepted, 9 provisionalaccept, 20 rejected, 1 unclass_highvar, 7 unclassified\n"
     ]
    },
    {
     "name": "stderr",
     "output_type": "stream",
     "text": [
      "INFO     selection_nodes:dec_left_op_right:389 Step 22: left_op_right: rejected if ['d_table_score_node20>0.9*13 & variance explained>2.0*0.4'], else nochange\n"
     ]
    },
    {
     "name": "stderr",
     "output_type": "stream",
     "text": [
      "INFO     selection_nodes:dec_left_op_right:391 Step 22: left_op_right Reject if a combination of variance and ranks of other metrics are worse than others\n"
     ]
    },
    {
     "name": "stderr",
     "output_type": "stream",
     "text": [
      "INFO     selection_utils:log_decision_tree_step:406 Step 22: left_op_right applied to 17 components. 5 True -> rejected. 12 False -> nochange.\n"
     ]
    },
    {
     "name": "stderr",
     "output_type": "stream",
     "text": [
      "INFO     selection_utils:log_classification_counts:451 Step 22: Total component classifications: 6 accepted, 8 provisionalaccept, 25 rejected, 1 unclass_highvar, 3 unclassified\n"
     ]
    },
    {
     "name": "stderr",
     "output_type": "stream",
     "text": [
      "INFO     selection_nodes:calc_varex_thresh:1308 Step 23: calc_varex_thresh: Calc varex_new_lower_thresh, 25th percentile threshold\n"
     ]
    },
    {
     "name": "stderr",
     "output_type": "stream",
     "text": [
      "INFO     selection_nodes:calc_varex_thresh:1332 Step 23: calc_varex_thresh: num_highest_var_comps (13) > len(comps2use) (12). Setting to equal len(comps2use) since selection should not use more components than exist\n"
     ]
    },
    {
     "name": "stderr",
     "output_type": "stream",
     "text": [
      "INFO     selection_utils:log_decision_tree_step:418 Step 23: calc_varex_thresh calculated: varex_new_lower_thresh=0.5074016845951125, new_lower_perc=25\n"
     ]
    },
    {
     "name": "stderr",
     "output_type": "stream",
     "text": [
      "INFO     selection_utils:log_classification_counts:451 Step 23: Total component classifications: 6 accepted, 8 provisionalaccept, 25 rejected, 1 unclass_highvar, 3 unclassified\n"
     ]
    },
    {
     "name": "stderr",
     "output_type": "stream",
     "text": [
      "INFO     selection_nodes:dec_left_op_right:389 Step 24: left_op_right: accepted if ['d_table_score_node20>13 & variance explained>0.51'], else nochange\n"
     ]
    },
    {
     "name": "stderr",
     "output_type": "stream",
     "text": [
      "INFO     selection_nodes:dec_left_op_right:391 Step 24: left_op_right Accept components with a bad d_table_score, but are at the higher end of the remaining variance so more cautious to not remove\n"
     ]
    },
    {
     "name": "stderr",
     "output_type": "stream",
     "text": [
      "INFO     selection_utils:log_decision_tree_step:406 Step 24: left_op_right applied to 12 components. 1 True -> accepted. 11 False -> nochange.\n"
     ]
    },
    {
     "name": "stderr",
     "output_type": "stream",
     "text": [
      "INFO     selection_utils:log_classification_counts:451 Step 24: Total component classifications: 7 accepted, 8 provisionalaccept, 25 rejected, 1 unclass_highvar, 2 unclassified\n"
     ]
    },
    {
     "name": "stderr",
     "output_type": "stream",
     "text": [
      "INFO     selection_nodes:dec_left_op_right:389 Step 25: left_op_right: accepted if ['kappa<=24.01 & variance explained>0.51'], else nochange\n"
     ]
    },
    {
     "name": "stderr",
     "output_type": "stream",
     "text": [
      "INFO     selection_nodes:dec_left_op_right:391 Step 25: left_op_right For not already rejected components, accept ones below the kappa elbow, but at the higher end of the remaining variance so more cautious to not remove\n"
     ]
    },
    {
     "name": "stderr",
     "output_type": "stream",
     "text": [
      "INFO     selection_utils:comptable_classification_changer:277 Step 25: No components fit criterion True to change classification\n"
     ]
    },
    {
     "name": "stderr",
     "output_type": "stream",
     "text": [
      "INFO     selection_utils:log_decision_tree_step:406 Step 25: left_op_right applied to 11 components. 0 True -> accepted. 11 False -> nochange.\n"
     ]
    },
    {
     "name": "stderr",
     "output_type": "stream",
     "text": [
      "INFO     selection_utils:log_classification_counts:451 Step 25: Total component classifications: 7 accepted, 8 provisionalaccept, 25 rejected, 1 unclass_highvar, 2 unclassified\n"
     ]
    },
    {
     "name": "stderr",
     "output_type": "stream",
     "text": [
      "INFO     selection_nodes:manual_classify:104 Step 26: manual_classify: Set ['provisionalaccept', 'unclassified', 'unclass_highvar'] to accepted \n"
     ]
    },
    {
     "name": "stderr",
     "output_type": "stream",
     "text": [
      "INFO     selection_nodes:manual_classify:106 Step 26: manual_classify Anything still provisional (accepted or rejected) or unclassified should be accepted\n"
     ]
    },
    {
     "name": "stderr",
     "output_type": "stream",
     "text": [
      "INFO     selection_utils:log_decision_tree_step:406 Step 26: manual_classify applied to 11 components. 11 True -> accepted. 0 False -> nochange.\n"
     ]
    },
    {
     "name": "stderr",
     "output_type": "stream",
     "text": [
      "INFO     selection_utils:log_classification_counts:451 Step 26: Total component classifications: 18 accepted, 25 rejected\n"
     ]
    },
    {
     "name": "stderr",
     "output_type": "stream",
     "text": [
      "INFO     io:denoise_ts:560 Variance explained by decomposition: 91.66%\n"
     ]
    },
    {
     "name": "stderr",
     "output_type": "stream",
     "text": [
      "INFO     io:write_split_ts:632 Writing high-Kappa time series: /home/runner/work/multi-echo-data-analysis/multi-echo-data-analysis/data/multi-echo-data-analysis/tedana/sub-04570_task-rest_space-scanner_desc-optcomAccepted_bold.nii.gz\n"
     ]
    },
    {
     "name": "stderr",
     "output_type": "stream",
     "text": [
      "INFO     io:write_split_ts:640 Writing low-Kappa time series: /home/runner/work/multi-echo-data-analysis/multi-echo-data-analysis/data/multi-echo-data-analysis/tedana/sub-04570_task-rest_space-scanner_desc-optcomRejected_bold.nii.gz\n"
     ]
    },
    {
     "name": "stderr",
     "output_type": "stream",
     "text": [
      "INFO     io:write_split_ts:647 Writing denoised time series: /home/runner/work/multi-echo-data-analysis/multi-echo-data-analysis/data/multi-echo-data-analysis/tedana/sub-04570_task-rest_space-scanner_desc-denoised_bold.nii.gz\n"
     ]
    },
    {
     "name": "stderr",
     "output_type": "stream",
     "text": [
      "INFO     io:writeresults:696 Writing full ICA coefficient feature set: /home/runner/work/multi-echo-data-analysis/multi-echo-data-analysis/data/multi-echo-data-analysis/tedana/sub-04570_task-rest_space-scanner_desc-ICA_components.nii.gz\n"
     ]
    },
    {
     "name": "stderr",
     "output_type": "stream",
     "text": [
      "INFO     io:writeresults:700 Writing denoised ICA coefficient feature set: /home/runner/work/multi-echo-data-analysis/multi-echo-data-analysis/data/multi-echo-data-analysis/tedana/sub-04570_task-rest_space-scanner_desc-ICAAccepted_components.nii.gz\n"
     ]
    },
    {
     "name": "stderr",
     "output_type": "stream",
     "text": [
      "INFO     io:writeresults:706 Writing Z-normalized spatial component maps: /home/runner/work/multi-echo-data-analysis/multi-echo-data-analysis/data/multi-echo-data-analysis/tedana/sub-04570_task-rest_space-scanner_desc-ICAAccepted_stat-z_components.nii.gz\n"
     ]
    },
    {
     "name": "stderr",
     "output_type": "stream",
     "text": [
      "INFO     gscontrol:minimum_image_regression:167 Performing minimum image regression to remove spatially-diffuse noise\n"
     ]
    },
    {
     "name": "stderr",
     "output_type": "stream",
     "text": [
      "INFO     io:writeresults_echoes:746 Writing Kappa-filtered echo #1 timeseries\n"
     ]
    },
    {
     "name": "stderr",
     "output_type": "stream",
     "text": [
      "INFO     io:denoise_ts:560 Variance explained by decomposition: 83.21%\n"
     ]
    },
    {
     "name": "stderr",
     "output_type": "stream",
     "text": [
      "INFO     io:write_split_ts:629 Writing high-Kappa time series: /home/runner/work/multi-echo-data-analysis/multi-echo-data-analysis/data/multi-echo-data-analysis/tedana/sub-04570_task-rest_space-scanner_echo-1_desc-Accepted_bold.nii.gz\n"
     ]
    },
    {
     "name": "stderr",
     "output_type": "stream",
     "text": [
      "INFO     io:write_split_ts:637 Writing low-Kappa time series: /home/runner/work/multi-echo-data-analysis/multi-echo-data-analysis/data/multi-echo-data-analysis/tedana/sub-04570_task-rest_space-scanner_echo-1_desc-Rejected_bold.nii.gz\n"
     ]
    },
    {
     "name": "stderr",
     "output_type": "stream",
     "text": [
      "INFO     io:write_split_ts:647 Writing denoised time series: /home/runner/work/multi-echo-data-analysis/multi-echo-data-analysis/data/multi-echo-data-analysis/tedana/sub-04570_task-rest_space-scanner_echo-1_desc-Denoised_bold.nii.gz\n"
     ]
    },
    {
     "name": "stderr",
     "output_type": "stream",
     "text": [
      "INFO     io:writeresults_echoes:746 Writing Kappa-filtered echo #2 timeseries\n"
     ]
    },
    {
     "name": "stderr",
     "output_type": "stream",
     "text": [
      "INFO     io:denoise_ts:560 Variance explained by decomposition: 84.82%\n"
     ]
    },
    {
     "name": "stderr",
     "output_type": "stream",
     "text": [
      "INFO     io:write_split_ts:629 Writing high-Kappa time series: /home/runner/work/multi-echo-data-analysis/multi-echo-data-analysis/data/multi-echo-data-analysis/tedana/sub-04570_task-rest_space-scanner_echo-2_desc-Accepted_bold.nii.gz\n"
     ]
    },
    {
     "name": "stderr",
     "output_type": "stream",
     "text": [
      "INFO     io:write_split_ts:637 Writing low-Kappa time series: /home/runner/work/multi-echo-data-analysis/multi-echo-data-analysis/data/multi-echo-data-analysis/tedana/sub-04570_task-rest_space-scanner_echo-2_desc-Rejected_bold.nii.gz\n"
     ]
    },
    {
     "name": "stderr",
     "output_type": "stream",
     "text": [
      "INFO     io:write_split_ts:647 Writing denoised time series: /home/runner/work/multi-echo-data-analysis/multi-echo-data-analysis/data/multi-echo-data-analysis/tedana/sub-04570_task-rest_space-scanner_echo-2_desc-Denoised_bold.nii.gz\n"
     ]
    },
    {
     "name": "stderr",
     "output_type": "stream",
     "text": [
      "INFO     io:writeresults_echoes:746 Writing Kappa-filtered echo #3 timeseries\n"
     ]
    },
    {
     "name": "stderr",
     "output_type": "stream",
     "text": [
      "INFO     io:denoise_ts:560 Variance explained by decomposition: 85.41%\n"
     ]
    },
    {
     "name": "stderr",
     "output_type": "stream",
     "text": [
      "INFO     io:write_split_ts:629 Writing high-Kappa time series: /home/runner/work/multi-echo-data-analysis/multi-echo-data-analysis/data/multi-echo-data-analysis/tedana/sub-04570_task-rest_space-scanner_echo-3_desc-Accepted_bold.nii.gz\n"
     ]
    },
    {
     "name": "stderr",
     "output_type": "stream",
     "text": [
      "INFO     io:write_split_ts:637 Writing low-Kappa time series: /home/runner/work/multi-echo-data-analysis/multi-echo-data-analysis/data/multi-echo-data-analysis/tedana/sub-04570_task-rest_space-scanner_echo-3_desc-Rejected_bold.nii.gz\n"
     ]
    },
    {
     "name": "stderr",
     "output_type": "stream",
     "text": [
      "INFO     io:write_split_ts:647 Writing denoised time series: /home/runner/work/multi-echo-data-analysis/multi-echo-data-analysis/data/multi-echo-data-analysis/tedana/sub-04570_task-rest_space-scanner_echo-3_desc-Denoised_bold.nii.gz\n"
     ]
    },
    {
     "name": "stderr",
     "output_type": "stream",
     "text": [
      "INFO     io:writeresults_echoes:746 Writing Kappa-filtered echo #4 timeseries\n"
     ]
    },
    {
     "name": "stderr",
     "output_type": "stream",
     "text": [
      "INFO     io:denoise_ts:560 Variance explained by decomposition: 85.34%\n"
     ]
    },
    {
     "name": "stderr",
     "output_type": "stream",
     "text": [
      "INFO     io:write_split_ts:629 Writing high-Kappa time series: /home/runner/work/multi-echo-data-analysis/multi-echo-data-analysis/data/multi-echo-data-analysis/tedana/sub-04570_task-rest_space-scanner_echo-4_desc-Accepted_bold.nii.gz\n"
     ]
    },
    {
     "name": "stderr",
     "output_type": "stream",
     "text": [
      "INFO     io:write_split_ts:637 Writing low-Kappa time series: /home/runner/work/multi-echo-data-analysis/multi-echo-data-analysis/data/multi-echo-data-analysis/tedana/sub-04570_task-rest_space-scanner_echo-4_desc-Rejected_bold.nii.gz\n"
     ]
    },
    {
     "name": "stderr",
     "output_type": "stream",
     "text": [
      "INFO     io:write_split_ts:647 Writing denoised time series: /home/runner/work/multi-echo-data-analysis/multi-echo-data-analysis/data/multi-echo-data-analysis/tedana/sub-04570_task-rest_space-scanner_echo-4_desc-Denoised_bold.nii.gz\n"
     ]
    },
    {
     "name": "stderr",
     "output_type": "stream",
     "text": [
      "INFO     tedana:tedana_workflow:912 Making figures folder with static component maps and timecourse plots.\n"
     ]
    },
    {
     "name": "stderr",
     "output_type": "stream",
     "text": [
      "INFO     io:denoise_ts:560 Variance explained by decomposition: 91.66%\n"
     ]
    },
    {
     "name": "stderr",
     "output_type": "stream",
     "text": [
      "/opt/hostedtoolcache/Python/3.10.14/x64/lib/python3.10/site-packages/tedana/io.py:833: UserWarning: Data array used to create a new image contains 64-bit ints. This is likely due to creating the array with numpy and passing `int` as the `dtype`. Many tools such as FSL and SPM cannot deal with int64 in Nifti images, so for compatibility the data has been converted to int32.\n",
      "  nii = new_img_like(ref_img, newdata, affine=affine, copy_header=copy_header)\n"
     ]
    },
    {
     "name": "stderr",
     "output_type": "stream",
     "text": [
      "/opt/hostedtoolcache/Python/3.10.14/x64/lib/python3.10/site-packages/tedana/io.py:833: UserWarning: Data array used to create a new image contains 64-bit ints. This is likely due to creating the array with numpy and passing `int` as the `dtype`. Many tools such as FSL and SPM cannot deal with int64 in Nifti images, so for compatibility the data has been converted to int32.\n",
      "  nii = new_img_like(ref_img, newdata, affine=affine, copy_header=copy_header)\n"
     ]
    },
    {
     "name": "stderr",
     "output_type": "stream",
     "text": [
      "/opt/hostedtoolcache/Python/3.10.14/x64/lib/python3.10/site-packages/tedana/io.py:833: UserWarning: Data array used to create a new image contains 64-bit ints. This is likely due to creating the array with numpy and passing `int` as the `dtype`. Many tools such as FSL and SPM cannot deal with int64 in Nifti images, so for compatibility the data has been converted to int32.\n",
      "  nii = new_img_like(ref_img, newdata, affine=affine, copy_header=copy_header)\n"
     ]
    },
    {
     "name": "stderr",
     "output_type": "stream",
     "text": [
      "/opt/hostedtoolcache/Python/3.10.14/x64/lib/python3.10/site-packages/nilearn/plotting/img_plotting.py:1317: UserWarning: Non-finite values detected. These values will be replaced with zeros.\n",
      "  safe_get_data(stat_map_img, ensure_finite=True),\n"
     ]
    },
    {
     "name": "stderr",
     "output_type": "stream",
     "text": [
      "INFO     tedana:tedana_workflow:945 Generating dynamic report\n"
     ]
    },
    {
     "name": "stderr",
     "output_type": "stream",
     "text": [
      "INFO     tedana:tedana_workflow:948 Workflow completed\n"
     ]
    }
   ],
   "source": [
    "workflows.tedana_workflow(\n",
    "    data_files,\n",
    "    echo_times,\n",
    "    out_dir=out_dir,\n",
    "    mask=mask_file,\n",
    "    prefix=\"sub-04570_task-rest_space-scanner\",\n",
    "    fittype=\"curvefit\",\n",
    "    tedpca=\"mdl\",\n",
    "    verbose=True,\n",
    "    gscontrol=[\"mir\"],\n",
    ")"
   ]
  },
  {
   "cell_type": "markdown",
   "id": "3170a5dc",
   "metadata": {},
   "source": [
    "The tedana workflow writes out a number of files."
   ]
  },
  {
   "cell_type": "code",
   "execution_count": 4,
   "id": "9b454051",
   "metadata": {},
   "outputs": [
    {
     "name": "stdout",
     "output_type": "stream",
     "text": [
      "figures\n",
      "sub-04570_task-rest_space-scanner_S0map.nii.gz\n",
      "sub-04570_task-rest_space-scanner_T2starmap.nii.gz\n",
      "sub-04570_task-rest_space-scanner_dataset_description.json\n",
      "sub-04570_task-rest_space-scanner_desc-ICAAcceptedMIRDenoised_components.nii.gz\n",
      "sub-04570_task-rest_space-scanner_desc-ICAAccepted_components.nii.gz\n",
      "sub-04570_task-rest_space-scanner_desc-ICAAccepted_stat-z_components.nii.gz\n",
      "sub-04570_task-rest_space-scanner_desc-ICAAveragingWeights_components.nii.gz\n",
      "sub-04570_task-rest_space-scanner_desc-ICACrossComponent_metrics.json\n",
      "sub-04570_task-rest_space-scanner_desc-ICAMIRDenoised_mixing.tsv\n",
      "sub-04570_task-rest_space-scanner_desc-ICAS0_stat-F_statmap.nii.gz\n",
      "sub-04570_task-rest_space-scanner_desc-ICAT2_stat-F_statmap.nii.gz\n",
      "sub-04570_task-rest_space-scanner_desc-ICA_components.nii.gz\n",
      "sub-04570_task-rest_space-scanner_desc-ICA_decision_tree.json\n",
      "sub-04570_task-rest_space-scanner_desc-ICA_decomposition.json\n",
      "sub-04570_task-rest_space-scanner_desc-ICA_mixing.tsv\n",
      "sub-04570_task-rest_space-scanner_desc-ICA_stat-z_components.nii.gz\n",
      "sub-04570_task-rest_space-scanner_desc-ICA_status_table.tsv\n",
      "sub-04570_task-rest_space-scanner_desc-PCAAveragingWeights_components.nii.gz\n",
      "sub-04570_task-rest_space-scanner_desc-PCACrossComponent_metrics.json\n",
      "sub-04570_task-rest_space-scanner_desc-PCAS0_stat-F_statmap.nii.gz\n",
      "sub-04570_task-rest_space-scanner_desc-PCAT2_stat-F_statmap.nii.gz\n",
      "sub-04570_task-rest_space-scanner_desc-PCA_decomposition.json\n",
      "sub-04570_task-rest_space-scanner_desc-PCA_metrics.json\n",
      "sub-04570_task-rest_space-scanner_desc-PCA_metrics.tsv\n",
      "sub-04570_task-rest_space-scanner_desc-PCA_mixing.tsv\n",
      "sub-04570_task-rest_space-scanner_desc-PCA_stat-z_components.nii.gz\n",
      "sub-04570_task-rest_space-scanner_desc-T1likeEffect_min.nii.gz\n",
      "sub-04570_task-rest_space-scanner_desc-adaptiveGoodSignal_mask.nii.gz\n",
      "sub-04570_task-rest_space-scanner_desc-confounds_timeseries.tsv\n",
      "sub-04570_task-rest_space-scanner_desc-denoised_bold.nii.gz\n",
      "sub-04570_task-rest_space-scanner_desc-limited_S0map.nii.gz\n",
      "sub-04570_task-rest_space-scanner_desc-limited_T2starmap.nii.gz\n",
      "sub-04570_task-rest_space-scanner_desc-optcomAcceptedMIRDenoised_bold.nii.gz\n",
      "sub-04570_task-rest_space-scanner_desc-optcomAccepted_bold.nii.gz\n",
      "sub-04570_task-rest_space-scanner_desc-optcomMIRDenoised_bold.nii.gz\n",
      "sub-04570_task-rest_space-scanner_desc-optcomRejected_bold.nii.gz\n",
      "sub-04570_task-rest_space-scanner_desc-optcom_bold.nii.gz\n",
      "sub-04570_task-rest_space-scanner_desc-optcom_whitened_bold.nii.gz\n",
      "sub-04570_task-rest_space-scanner_desc-rmse_statmap.nii.gz\n",
      "sub-04570_task-rest_space-scanner_desc-tedana_metrics.json\n",
      "sub-04570_task-rest_space-scanner_desc-tedana_metrics.tsv\n",
      "sub-04570_task-rest_space-scanner_desc-tedana_registry.json\n",
      "sub-04570_task-rest_space-scanner_echo-1_desc-Accepted_bold.nii.gz\n",
      "sub-04570_task-rest_space-scanner_echo-1_desc-Denoised_bold.nii.gz\n",
      "sub-04570_task-rest_space-scanner_echo-1_desc-ICAS0ModelPredictions_components.nii.gz\n",
      "sub-04570_task-rest_space-scanner_echo-1_desc-ICAT2ModelPredictions_components.nii.gz\n",
      "sub-04570_task-rest_space-scanner_echo-1_desc-ICA_components.nii.gz\n",
      "sub-04570_task-rest_space-scanner_echo-1_desc-PCAS0ModelPredictions_components.nii.gz\n",
      "sub-04570_task-rest_space-scanner_echo-1_desc-PCAT2ModelPredictions_components.nii.gz\n",
      "sub-04570_task-rest_space-scanner_echo-1_desc-PCA_components.nii.gz\n",
      "sub-04570_task-rest_space-scanner_echo-1_desc-Rejected_bold.nii.gz\n",
      "sub-04570_task-rest_space-scanner_echo-2_desc-Accepted_bold.nii.gz\n",
      "sub-04570_task-rest_space-scanner_echo-2_desc-Denoised_bold.nii.gz\n",
      "sub-04570_task-rest_space-scanner_echo-2_desc-ICAS0ModelPredictions_components.nii.gz\n",
      "sub-04570_task-rest_space-scanner_echo-2_desc-ICAT2ModelPredictions_components.nii.gz\n",
      "sub-04570_task-rest_space-scanner_echo-2_desc-ICA_components.nii.gz\n",
      "sub-04570_task-rest_space-scanner_echo-2_desc-PCAS0ModelPredictions_components.nii.gz\n",
      "sub-04570_task-rest_space-scanner_echo-2_desc-PCAT2ModelPredictions_components.nii.gz\n",
      "sub-04570_task-rest_space-scanner_echo-2_desc-PCA_components.nii.gz\n",
      "sub-04570_task-rest_space-scanner_echo-2_desc-Rejected_bold.nii.gz\n",
      "sub-04570_task-rest_space-scanner_echo-3_desc-Accepted_bold.nii.gz\n",
      "sub-04570_task-rest_space-scanner_echo-3_desc-Denoised_bold.nii.gz\n",
      "sub-04570_task-rest_space-scanner_echo-3_desc-ICAS0ModelPredictions_components.nii.gz\n",
      "sub-04570_task-rest_space-scanner_echo-3_desc-ICAT2ModelPredictions_components.nii.gz\n",
      "sub-04570_task-rest_space-scanner_echo-3_desc-ICA_components.nii.gz\n",
      "sub-04570_task-rest_space-scanner_echo-3_desc-PCAS0ModelPredictions_components.nii.gz\n",
      "sub-04570_task-rest_space-scanner_echo-3_desc-PCAT2ModelPredictions_components.nii.gz\n",
      "sub-04570_task-rest_space-scanner_echo-3_desc-PCA_components.nii.gz\n",
      "sub-04570_task-rest_space-scanner_echo-3_desc-Rejected_bold.nii.gz\n",
      "sub-04570_task-rest_space-scanner_echo-4_desc-Accepted_bold.nii.gz\n",
      "sub-04570_task-rest_space-scanner_echo-4_desc-Denoised_bold.nii.gz\n",
      "sub-04570_task-rest_space-scanner_echo-4_desc-ICAS0ModelPredictions_components.nii.gz\n",
      "sub-04570_task-rest_space-scanner_echo-4_desc-ICAT2ModelPredictions_components.nii.gz\n",
      "sub-04570_task-rest_space-scanner_echo-4_desc-ICA_components.nii.gz\n",
      "sub-04570_task-rest_space-scanner_echo-4_desc-PCAS0ModelPredictions_components.nii.gz\n",
      "sub-04570_task-rest_space-scanner_echo-4_desc-PCAT2ModelPredictions_components.nii.gz\n",
      "sub-04570_task-rest_space-scanner_echo-4_desc-PCA_components.nii.gz\n",
      "sub-04570_task-rest_space-scanner_echo-4_desc-Rejected_bold.nii.gz\n",
      "sub-04570_task-rest_space-scanner_references.bib\n",
      "sub-04570_task-rest_space-scanner_report.txt\n",
      "sub-04570_task-rest_space-scanner_tedana_report.html\n",
      "tedana_2024-07-09T012030.tsv\n"
     ]
    }
   ],
   "source": [
    "out_files = sorted(glob(os.path.join(out_dir, \"*\")))\n",
    "out_files = [os.path.basename(f) for f in out_files]\n",
    "print(\"\\n\".join(out_files))"
   ]
  },
  {
   "cell_type": "code",
   "execution_count": 5,
   "id": "fc6e68f2",
   "metadata": {},
   "outputs": [],
   "source": [
    "metrics = pd.read_table(\n",
    "    os.path.join(out_dir, \"sub-04570_task-rest_space-scanner_desc-tedana_metrics.tsv\")\n",
    ")"
   ]
  },
  {
   "cell_type": "code",
   "execution_count": 6,
   "id": "7d65edfc",
   "metadata": {
    "tags": [
     "hide-input"
    ]
   },
   "outputs": [
    {
     "data": {
      "text/html": [
       "<style type=\"text/css\">\n",
       "#T_cef25_row0_col0, #T_cef25_row0_col1, #T_cef25_row0_col2, #T_cef25_row0_col3, #T_cef25_row0_col4, #T_cef25_row0_col5, #T_cef25_row0_col6, #T_cef25_row0_col7, #T_cef25_row0_col8, #T_cef25_row0_col9, #T_cef25_row0_col10, #T_cef25_row0_col11, #T_cef25_row0_col12, #T_cef25_row0_col13, #T_cef25_row0_col14, #T_cef25_row0_col15, #T_cef25_row0_col16, #T_cef25_row0_col17, #T_cef25_row3_col0, #T_cef25_row3_col1, #T_cef25_row3_col2, #T_cef25_row3_col3, #T_cef25_row3_col4, #T_cef25_row3_col5, #T_cef25_row3_col6, #T_cef25_row3_col7, #T_cef25_row3_col8, #T_cef25_row3_col9, #T_cef25_row3_col10, #T_cef25_row3_col11, #T_cef25_row3_col12, #T_cef25_row3_col13, #T_cef25_row3_col14, #T_cef25_row3_col15, #T_cef25_row3_col16, #T_cef25_row3_col17, #T_cef25_row4_col0, #T_cef25_row4_col1, #T_cef25_row4_col2, #T_cef25_row4_col3, #T_cef25_row4_col4, #T_cef25_row4_col5, #T_cef25_row4_col6, #T_cef25_row4_col7, #T_cef25_row4_col8, #T_cef25_row4_col9, #T_cef25_row4_col10, #T_cef25_row4_col11, #T_cef25_row4_col12, #T_cef25_row4_col13, #T_cef25_row4_col14, #T_cef25_row4_col15, #T_cef25_row4_col16, #T_cef25_row4_col17, #T_cef25_row5_col0, #T_cef25_row5_col1, #T_cef25_row5_col2, #T_cef25_row5_col3, #T_cef25_row5_col4, #T_cef25_row5_col5, #T_cef25_row5_col6, #T_cef25_row5_col7, #T_cef25_row5_col8, #T_cef25_row5_col9, #T_cef25_row5_col10, #T_cef25_row5_col11, #T_cef25_row5_col12, #T_cef25_row5_col13, #T_cef25_row5_col14, #T_cef25_row5_col15, #T_cef25_row5_col16, #T_cef25_row5_col17, #T_cef25_row6_col0, #T_cef25_row6_col1, #T_cef25_row6_col2, #T_cef25_row6_col3, #T_cef25_row6_col4, #T_cef25_row6_col5, #T_cef25_row6_col6, #T_cef25_row6_col7, #T_cef25_row6_col8, #T_cef25_row6_col9, #T_cef25_row6_col10, #T_cef25_row6_col11, #T_cef25_row6_col12, #T_cef25_row6_col13, #T_cef25_row6_col14, #T_cef25_row6_col15, #T_cef25_row6_col16, #T_cef25_row6_col17, #T_cef25_row8_col0, #T_cef25_row8_col1, #T_cef25_row8_col2, #T_cef25_row8_col3, #T_cef25_row8_col4, #T_cef25_row8_col5, #T_cef25_row8_col6, #T_cef25_row8_col7, #T_cef25_row8_col8, #T_cef25_row8_col9, #T_cef25_row8_col10, #T_cef25_row8_col11, #T_cef25_row8_col12, #T_cef25_row8_col13, #T_cef25_row8_col14, #T_cef25_row8_col15, #T_cef25_row8_col16, #T_cef25_row8_col17, #T_cef25_row10_col0, #T_cef25_row10_col1, #T_cef25_row10_col2, #T_cef25_row10_col3, #T_cef25_row10_col4, #T_cef25_row10_col5, #T_cef25_row10_col6, #T_cef25_row10_col7, #T_cef25_row10_col8, #T_cef25_row10_col9, #T_cef25_row10_col10, #T_cef25_row10_col11, #T_cef25_row10_col12, #T_cef25_row10_col13, #T_cef25_row10_col14, #T_cef25_row10_col15, #T_cef25_row10_col16, #T_cef25_row10_col17, #T_cef25_row11_col0, #T_cef25_row11_col1, #T_cef25_row11_col2, #T_cef25_row11_col3, #T_cef25_row11_col4, #T_cef25_row11_col5, #T_cef25_row11_col6, #T_cef25_row11_col7, #T_cef25_row11_col8, #T_cef25_row11_col9, #T_cef25_row11_col10, #T_cef25_row11_col11, #T_cef25_row11_col12, #T_cef25_row11_col13, #T_cef25_row11_col14, #T_cef25_row11_col15, #T_cef25_row11_col16, #T_cef25_row11_col17, #T_cef25_row15_col0, #T_cef25_row15_col1, #T_cef25_row15_col2, #T_cef25_row15_col3, #T_cef25_row15_col4, #T_cef25_row15_col5, #T_cef25_row15_col6, #T_cef25_row15_col7, #T_cef25_row15_col8, #T_cef25_row15_col9, #T_cef25_row15_col10, #T_cef25_row15_col11, #T_cef25_row15_col12, #T_cef25_row15_col13, #T_cef25_row15_col14, #T_cef25_row15_col15, #T_cef25_row15_col16, #T_cef25_row15_col17, #T_cef25_row16_col0, #T_cef25_row16_col1, #T_cef25_row16_col2, #T_cef25_row16_col3, #T_cef25_row16_col4, #T_cef25_row16_col5, #T_cef25_row16_col6, #T_cef25_row16_col7, #T_cef25_row16_col8, #T_cef25_row16_col9, #T_cef25_row16_col10, #T_cef25_row16_col11, #T_cef25_row16_col12, #T_cef25_row16_col13, #T_cef25_row16_col14, #T_cef25_row16_col15, #T_cef25_row16_col16, #T_cef25_row16_col17, #T_cef25_row17_col0, #T_cef25_row17_col1, #T_cef25_row17_col2, #T_cef25_row17_col3, #T_cef25_row17_col4, #T_cef25_row17_col5, #T_cef25_row17_col6, #T_cef25_row17_col7, #T_cef25_row17_col8, #T_cef25_row17_col9, #T_cef25_row17_col10, #T_cef25_row17_col11, #T_cef25_row17_col12, #T_cef25_row17_col13, #T_cef25_row17_col14, #T_cef25_row17_col15, #T_cef25_row17_col16, #T_cef25_row17_col17, #T_cef25_row19_col0, #T_cef25_row19_col1, #T_cef25_row19_col2, #T_cef25_row19_col3, #T_cef25_row19_col4, #T_cef25_row19_col5, #T_cef25_row19_col6, #T_cef25_row19_col7, #T_cef25_row19_col8, #T_cef25_row19_col9, #T_cef25_row19_col10, #T_cef25_row19_col11, #T_cef25_row19_col12, #T_cef25_row19_col13, #T_cef25_row19_col14, #T_cef25_row19_col15, #T_cef25_row19_col16, #T_cef25_row19_col17, #T_cef25_row20_col0, #T_cef25_row20_col1, #T_cef25_row20_col2, #T_cef25_row20_col3, #T_cef25_row20_col4, #T_cef25_row20_col5, #T_cef25_row20_col6, #T_cef25_row20_col7, #T_cef25_row20_col8, #T_cef25_row20_col9, #T_cef25_row20_col10, #T_cef25_row20_col11, #T_cef25_row20_col12, #T_cef25_row20_col13, #T_cef25_row20_col14, #T_cef25_row20_col15, #T_cef25_row20_col16, #T_cef25_row20_col17, #T_cef25_row22_col0, #T_cef25_row22_col1, #T_cef25_row22_col2, #T_cef25_row22_col3, #T_cef25_row22_col4, #T_cef25_row22_col5, #T_cef25_row22_col6, #T_cef25_row22_col7, #T_cef25_row22_col8, #T_cef25_row22_col9, #T_cef25_row22_col10, #T_cef25_row22_col11, #T_cef25_row22_col12, #T_cef25_row22_col13, #T_cef25_row22_col14, #T_cef25_row22_col15, #T_cef25_row22_col16, #T_cef25_row22_col17, #T_cef25_row23_col0, #T_cef25_row23_col1, #T_cef25_row23_col2, #T_cef25_row23_col3, #T_cef25_row23_col4, #T_cef25_row23_col5, #T_cef25_row23_col6, #T_cef25_row23_col7, #T_cef25_row23_col8, #T_cef25_row23_col9, #T_cef25_row23_col10, #T_cef25_row23_col11, #T_cef25_row23_col12, #T_cef25_row23_col13, #T_cef25_row23_col14, #T_cef25_row23_col15, #T_cef25_row23_col16, #T_cef25_row23_col17, #T_cef25_row24_col0, #T_cef25_row24_col1, #T_cef25_row24_col2, #T_cef25_row24_col3, #T_cef25_row24_col4, #T_cef25_row24_col5, #T_cef25_row24_col6, #T_cef25_row24_col7, #T_cef25_row24_col8, #T_cef25_row24_col9, #T_cef25_row24_col10, #T_cef25_row24_col11, #T_cef25_row24_col12, #T_cef25_row24_col13, #T_cef25_row24_col14, #T_cef25_row24_col15, #T_cef25_row24_col16, #T_cef25_row24_col17, #T_cef25_row25_col0, #T_cef25_row25_col1, #T_cef25_row25_col2, #T_cef25_row25_col3, #T_cef25_row25_col4, #T_cef25_row25_col5, #T_cef25_row25_col6, #T_cef25_row25_col7, #T_cef25_row25_col8, #T_cef25_row25_col9, #T_cef25_row25_col10, #T_cef25_row25_col11, #T_cef25_row25_col12, #T_cef25_row25_col13, #T_cef25_row25_col14, #T_cef25_row25_col15, #T_cef25_row25_col16, #T_cef25_row25_col17, #T_cef25_row27_col0, #T_cef25_row27_col1, #T_cef25_row27_col2, #T_cef25_row27_col3, #T_cef25_row27_col4, #T_cef25_row27_col5, #T_cef25_row27_col6, #T_cef25_row27_col7, #T_cef25_row27_col8, #T_cef25_row27_col9, #T_cef25_row27_col10, #T_cef25_row27_col11, #T_cef25_row27_col12, #T_cef25_row27_col13, #T_cef25_row27_col14, #T_cef25_row27_col15, #T_cef25_row27_col16, #T_cef25_row27_col17, #T_cef25_row28_col0, #T_cef25_row28_col1, #T_cef25_row28_col2, #T_cef25_row28_col3, #T_cef25_row28_col4, #T_cef25_row28_col5, #T_cef25_row28_col6, #T_cef25_row28_col7, #T_cef25_row28_col8, #T_cef25_row28_col9, #T_cef25_row28_col10, #T_cef25_row28_col11, #T_cef25_row28_col12, #T_cef25_row28_col13, #T_cef25_row28_col14, #T_cef25_row28_col15, #T_cef25_row28_col16, #T_cef25_row28_col17, #T_cef25_row32_col0, #T_cef25_row32_col1, #T_cef25_row32_col2, #T_cef25_row32_col3, #T_cef25_row32_col4, #T_cef25_row32_col5, #T_cef25_row32_col6, #T_cef25_row32_col7, #T_cef25_row32_col8, #T_cef25_row32_col9, #T_cef25_row32_col10, #T_cef25_row32_col11, #T_cef25_row32_col12, #T_cef25_row32_col13, #T_cef25_row32_col14, #T_cef25_row32_col15, #T_cef25_row32_col16, #T_cef25_row32_col17, #T_cef25_row36_col0, #T_cef25_row36_col1, #T_cef25_row36_col2, #T_cef25_row36_col3, #T_cef25_row36_col4, #T_cef25_row36_col5, #T_cef25_row36_col6, #T_cef25_row36_col7, #T_cef25_row36_col8, #T_cef25_row36_col9, #T_cef25_row36_col10, #T_cef25_row36_col11, #T_cef25_row36_col12, #T_cef25_row36_col13, #T_cef25_row36_col14, #T_cef25_row36_col15, #T_cef25_row36_col16, #T_cef25_row36_col17, #T_cef25_row38_col0, #T_cef25_row38_col1, #T_cef25_row38_col2, #T_cef25_row38_col3, #T_cef25_row38_col4, #T_cef25_row38_col5, #T_cef25_row38_col6, #T_cef25_row38_col7, #T_cef25_row38_col8, #T_cef25_row38_col9, #T_cef25_row38_col10, #T_cef25_row38_col11, #T_cef25_row38_col12, #T_cef25_row38_col13, #T_cef25_row38_col14, #T_cef25_row38_col15, #T_cef25_row38_col16, #T_cef25_row38_col17, #T_cef25_row39_col0, #T_cef25_row39_col1, #T_cef25_row39_col2, #T_cef25_row39_col3, #T_cef25_row39_col4, #T_cef25_row39_col5, #T_cef25_row39_col6, #T_cef25_row39_col7, #T_cef25_row39_col8, #T_cef25_row39_col9, #T_cef25_row39_col10, #T_cef25_row39_col11, #T_cef25_row39_col12, #T_cef25_row39_col13, #T_cef25_row39_col14, #T_cef25_row39_col15, #T_cef25_row39_col16, #T_cef25_row39_col17, #T_cef25_row40_col0, #T_cef25_row40_col1, #T_cef25_row40_col2, #T_cef25_row40_col3, #T_cef25_row40_col4, #T_cef25_row40_col5, #T_cef25_row40_col6, #T_cef25_row40_col7, #T_cef25_row40_col8, #T_cef25_row40_col9, #T_cef25_row40_col10, #T_cef25_row40_col11, #T_cef25_row40_col12, #T_cef25_row40_col13, #T_cef25_row40_col14, #T_cef25_row40_col15, #T_cef25_row40_col16, #T_cef25_row40_col17, #T_cef25_row41_col0, #T_cef25_row41_col1, #T_cef25_row41_col2, #T_cef25_row41_col3, #T_cef25_row41_col4, #T_cef25_row41_col5, #T_cef25_row41_col6, #T_cef25_row41_col7, #T_cef25_row41_col8, #T_cef25_row41_col9, #T_cef25_row41_col10, #T_cef25_row41_col11, #T_cef25_row41_col12, #T_cef25_row41_col13, #T_cef25_row41_col14, #T_cef25_row41_col15, #T_cef25_row41_col16, #T_cef25_row41_col17 {\n",
       "  color: red;\n",
       "}\n",
       "</style>\n",
       "<table id=\"T_cef25\">\n",
       "  <thead>\n",
       "    <tr>\n",
       "      <th class=\"blank level0\" >&nbsp;</th>\n",
       "      <th id=\"T_cef25_level0_col0\" class=\"col_heading level0 col0\" >Component</th>\n",
       "      <th id=\"T_cef25_level0_col1\" class=\"col_heading level0 col1\" >kappa</th>\n",
       "      <th id=\"T_cef25_level0_col2\" class=\"col_heading level0 col2\" >rho</th>\n",
       "      <th id=\"T_cef25_level0_col3\" class=\"col_heading level0 col3\" >variance explained</th>\n",
       "      <th id=\"T_cef25_level0_col4\" class=\"col_heading level0 col4\" >normalized variance explained</th>\n",
       "      <th id=\"T_cef25_level0_col5\" class=\"col_heading level0 col5\" >countsigFT2</th>\n",
       "      <th id=\"T_cef25_level0_col6\" class=\"col_heading level0 col6\" >countsigFS0</th>\n",
       "      <th id=\"T_cef25_level0_col7\" class=\"col_heading level0 col7\" >dice_FT2</th>\n",
       "      <th id=\"T_cef25_level0_col8\" class=\"col_heading level0 col8\" >dice_FS0</th>\n",
       "      <th id=\"T_cef25_level0_col9\" class=\"col_heading level0 col9\" >countnoise</th>\n",
       "      <th id=\"T_cef25_level0_col10\" class=\"col_heading level0 col10\" >signal-noise_t</th>\n",
       "      <th id=\"T_cef25_level0_col11\" class=\"col_heading level0 col11\" >signal-noise_p</th>\n",
       "      <th id=\"T_cef25_level0_col12\" class=\"col_heading level0 col12\" >d_table_score</th>\n",
       "      <th id=\"T_cef25_level0_col13\" class=\"col_heading level0 col13\" >optimal sign</th>\n",
       "      <th id=\"T_cef25_level0_col14\" class=\"col_heading level0 col14\" >varex kappa ratio</th>\n",
       "      <th id=\"T_cef25_level0_col15\" class=\"col_heading level0 col15\" >d_table_score_node20</th>\n",
       "      <th id=\"T_cef25_level0_col16\" class=\"col_heading level0 col16\" >classification</th>\n",
       "      <th id=\"T_cef25_level0_col17\" class=\"col_heading level0 col17\" >classification_tags</th>\n",
       "    </tr>\n",
       "  </thead>\n",
       "  <tbody>\n",
       "    <tr>\n",
       "      <th id=\"T_cef25_level0_row0\" class=\"row_heading level0 row0\" >0</th>\n",
       "      <td id=\"T_cef25_row0_col0\" class=\"data row0 col0\" >ICA_00</td>\n",
       "      <td id=\"T_cef25_row0_col1\" class=\"data row0 col1\" >23.963910</td>\n",
       "      <td id=\"T_cef25_row0_col2\" class=\"data row0 col2\" >18.845160</td>\n",
       "      <td id=\"T_cef25_row0_col3\" class=\"data row0 col3\" >0.974387</td>\n",
       "      <td id=\"T_cef25_row0_col4\" class=\"data row0 col4\" >0.014406</td>\n",
       "      <td id=\"T_cef25_row0_col5\" class=\"data row0 col5\" >813</td>\n",
       "      <td id=\"T_cef25_row0_col6\" class=\"data row0 col6\" >766</td>\n",
       "      <td id=\"T_cef25_row0_col7\" class=\"data row0 col7\" >0.000000</td>\n",
       "      <td id=\"T_cef25_row0_col8\" class=\"data row0 col8\" >0.000000</td>\n",
       "      <td id=\"T_cef25_row0_col9\" class=\"data row0 col9\" >1223</td>\n",
       "      <td id=\"T_cef25_row0_col10\" class=\"data row0 col10\" >-2.264125</td>\n",
       "      <td id=\"T_cef25_row0_col11\" class=\"data row0 col11\" >0.025652</td>\n",
       "      <td id=\"T_cef25_row0_col12\" class=\"data row0 col12\" >31.200000</td>\n",
       "      <td id=\"T_cef25_row0_col13\" class=\"data row0 col13\" >1</td>\n",
       "      <td id=\"T_cef25_row0_col14\" class=\"data row0 col14\" >3.124711</td>\n",
       "      <td id=\"T_cef25_row0_col15\" class=\"data row0 col15\" >nan</td>\n",
       "      <td id=\"T_cef25_row0_col16\" class=\"data row0 col16\" >rejected</td>\n",
       "      <td id=\"T_cef25_row0_col17\" class=\"data row0 col17\" >Unlikely BOLD</td>\n",
       "    </tr>\n",
       "    <tr>\n",
       "      <th id=\"T_cef25_level0_row1\" class=\"row_heading level0 row1\" >1</th>\n",
       "      <td id=\"T_cef25_row1_col0\" class=\"data row1 col0\" >ICA_01</td>\n",
       "      <td id=\"T_cef25_row1_col1\" class=\"data row1 col1\" >18.386390</td>\n",
       "      <td id=\"T_cef25_row1_col2\" class=\"data row1 col2\" >15.105416</td>\n",
       "      <td id=\"T_cef25_row1_col3\" class=\"data row1 col3\" >0.209236</td>\n",
       "      <td id=\"T_cef25_row1_col4\" class=\"data row1 col4\" >0.002638</td>\n",
       "      <td id=\"T_cef25_row1_col5\" class=\"data row1 col5\" >322</td>\n",
       "      <td id=\"T_cef25_row1_col6\" class=\"data row1 col6\" >163</td>\n",
       "      <td id=\"T_cef25_row1_col7\" class=\"data row1 col7\" >0.243200</td>\n",
       "      <td id=\"T_cef25_row1_col8\" class=\"data row1 col8\" >0.000000</td>\n",
       "      <td id=\"T_cef25_row1_col9\" class=\"data row1 col9\" >1228</td>\n",
       "      <td id=\"T_cef25_row1_col10\" class=\"data row1 col10\" >0.000000</td>\n",
       "      <td id=\"T_cef25_row1_col11\" class=\"data row1 col11\" >0.000000</td>\n",
       "      <td id=\"T_cef25_row1_col12\" class=\"data row1 col12\" >31.200000</td>\n",
       "      <td id=\"T_cef25_row1_col13\" class=\"data row1 col13\" >1</td>\n",
       "      <td id=\"T_cef25_row1_col14\" class=\"data row1 col14\" >0.874533</td>\n",
       "      <td id=\"T_cef25_row1_col15\" class=\"data row1 col15\" >nan</td>\n",
       "      <td id=\"T_cef25_row1_col16\" class=\"data row1 col16\" >accepted</td>\n",
       "      <td id=\"T_cef25_row1_col17\" class=\"data row1 col17\" >Low variance</td>\n",
       "    </tr>\n",
       "    <tr>\n",
       "      <th id=\"T_cef25_level0_row2\" class=\"row_heading level0 row2\" >2</th>\n",
       "      <td id=\"T_cef25_row2_col0\" class=\"data row2 col0\" >ICA_02</td>\n",
       "      <td id=\"T_cef25_row2_col1\" class=\"data row2 col1\" >53.904796</td>\n",
       "      <td id=\"T_cef25_row2_col2\" class=\"data row2 col2\" >11.570936</td>\n",
       "      <td id=\"T_cef25_row2_col3\" class=\"data row2 col3\" >0.365079</td>\n",
       "      <td id=\"T_cef25_row2_col4\" class=\"data row2 col4\" >0.004694</td>\n",
       "      <td id=\"T_cef25_row2_col5\" class=\"data row2 col5\" >1849</td>\n",
       "      <td id=\"T_cef25_row2_col6\" class=\"data row2 col6\" >375</td>\n",
       "      <td id=\"T_cef25_row2_col7\" class=\"data row2 col7\" >0.621872</td>\n",
       "      <td id=\"T_cef25_row2_col8\" class=\"data row2 col8\" >0.252033</td>\n",
       "      <td id=\"T_cef25_row2_col9\" class=\"data row2 col9\" >880</td>\n",
       "      <td id=\"T_cef25_row2_col10\" class=\"data row2 col10\" >10.298052</td>\n",
       "      <td id=\"T_cef25_row2_col11\" class=\"data row2 col11\" >0.000000</td>\n",
       "      <td id=\"T_cef25_row2_col12\" class=\"data row2 col12\" >7.600000</td>\n",
       "      <td id=\"T_cef25_row2_col13\" class=\"data row2 col13\" >-1</td>\n",
       "      <td id=\"T_cef25_row2_col14\" class=\"data row2 col14\" >0.520470</td>\n",
       "      <td id=\"T_cef25_row2_col15\" class=\"data row2 col15\" >6.600000</td>\n",
       "      <td id=\"T_cef25_row2_col16\" class=\"data row2 col16\" >accepted</td>\n",
       "      <td id=\"T_cef25_row2_col17\" class=\"data row2 col17\" >Likely BOLD</td>\n",
       "    </tr>\n",
       "    <tr>\n",
       "      <th id=\"T_cef25_level0_row3\" class=\"row_heading level0 row3\" >3</th>\n",
       "      <td id=\"T_cef25_row3_col0\" class=\"data row3 col0\" >ICA_03</td>\n",
       "      <td id=\"T_cef25_row3_col1\" class=\"data row3 col1\" >22.443964</td>\n",
       "      <td id=\"T_cef25_row3_col2\" class=\"data row3 col2\" >29.659039</td>\n",
       "      <td id=\"T_cef25_row3_col3\" class=\"data row3 col3\" >0.394177</td>\n",
       "      <td id=\"T_cef25_row3_col4\" class=\"data row3 col4\" >0.005023</td>\n",
       "      <td id=\"T_cef25_row3_col5\" class=\"data row3 col5\" >840</td>\n",
       "      <td id=\"T_cef25_row3_col6\" class=\"data row3 col6\" >1175</td>\n",
       "      <td id=\"T_cef25_row3_col7\" class=\"data row3 col7\" >0.336829</td>\n",
       "      <td id=\"T_cef25_row3_col8\" class=\"data row3 col8\" >0.364685</td>\n",
       "      <td id=\"T_cef25_row3_col9\" class=\"data row3 col9\" >1183</td>\n",
       "      <td id=\"T_cef25_row3_col10\" class=\"data row3 col10\" >0.000000</td>\n",
       "      <td id=\"T_cef25_row3_col11\" class=\"data row3 col11\" >0.000000</td>\n",
       "      <td id=\"T_cef25_row3_col12\" class=\"data row3 col12\" >25.800000</td>\n",
       "      <td id=\"T_cef25_row3_col13\" class=\"data row3 col13\" >1</td>\n",
       "      <td id=\"T_cef25_row3_col14\" class=\"data row3 col14\" >1.349670</td>\n",
       "      <td id=\"T_cef25_row3_col15\" class=\"data row3 col15\" >nan</td>\n",
       "      <td id=\"T_cef25_row3_col16\" class=\"data row3 col16\" >rejected</td>\n",
       "      <td id=\"T_cef25_row3_col17\" class=\"data row3 col17\" >Unlikely BOLD</td>\n",
       "    </tr>\n",
       "    <tr>\n",
       "      <th id=\"T_cef25_level0_row4\" class=\"row_heading level0 row4\" >4</th>\n",
       "      <td id=\"T_cef25_row4_col0\" class=\"data row4 col0\" >ICA_04</td>\n",
       "      <td id=\"T_cef25_row4_col1\" class=\"data row4 col1\" >36.402447</td>\n",
       "      <td id=\"T_cef25_row4_col2\" class=\"data row4 col2\" >36.417731</td>\n",
       "      <td id=\"T_cef25_row4_col3\" class=\"data row4 col3\" >1.079447</td>\n",
       "      <td id=\"T_cef25_row4_col4\" class=\"data row4 col4\" >0.010505</td>\n",
       "      <td id=\"T_cef25_row4_col5\" class=\"data row4 col5\" >2030</td>\n",
       "      <td id=\"T_cef25_row4_col6\" class=\"data row4 col6\" >1616</td>\n",
       "      <td id=\"T_cef25_row4_col7\" class=\"data row4 col7\" >0.447545</td>\n",
       "      <td id=\"T_cef25_row4_col8\" class=\"data row4 col8\" >0.424479</td>\n",
       "      <td id=\"T_cef25_row4_col9\" class=\"data row4 col9\" >1136</td>\n",
       "      <td id=\"T_cef25_row4_col10\" class=\"data row4 col10\" >7.114071</td>\n",
       "      <td id=\"T_cef25_row4_col11\" class=\"data row4 col11\" >0.000000</td>\n",
       "      <td id=\"T_cef25_row4_col12\" class=\"data row4 col12\" >14.400000</td>\n",
       "      <td id=\"T_cef25_row4_col13\" class=\"data row4 col13\" >-1</td>\n",
       "      <td id=\"T_cef25_row4_col14\" class=\"data row4 col14\" >2.278803</td>\n",
       "      <td id=\"T_cef25_row4_col15\" class=\"data row4 col15\" >nan</td>\n",
       "      <td id=\"T_cef25_row4_col16\" class=\"data row4 col16\" >rejected</td>\n",
       "      <td id=\"T_cef25_row4_col17\" class=\"data row4 col17\" >Unlikely BOLD</td>\n",
       "    </tr>\n",
       "    <tr>\n",
       "      <th id=\"T_cef25_level0_row5\" class=\"row_heading level0 row5\" >5</th>\n",
       "      <td id=\"T_cef25_row5_col0\" class=\"data row5 col0\" >ICA_05</td>\n",
       "      <td id=\"T_cef25_row5_col1\" class=\"data row5 col1\" >14.776330</td>\n",
       "      <td id=\"T_cef25_row5_col2\" class=\"data row5 col2\" >53.185372</td>\n",
       "      <td id=\"T_cef25_row5_col3\" class=\"data row5 col3\" >0.539564</td>\n",
       "      <td id=\"T_cef25_row5_col4\" class=\"data row5 col4\" >0.012173</td>\n",
       "      <td id=\"T_cef25_row5_col5\" class=\"data row5 col5\" >280</td>\n",
       "      <td id=\"T_cef25_row5_col6\" class=\"data row5 col6\" >786</td>\n",
       "      <td id=\"T_cef25_row5_col7\" class=\"data row5 col7\" >0.000000</td>\n",
       "      <td id=\"T_cef25_row5_col8\" class=\"data row5 col8\" >0.362080</td>\n",
       "      <td id=\"T_cef25_row5_col9\" class=\"data row5 col9\" >509</td>\n",
       "      <td id=\"T_cef25_row5_col10\" class=\"data row5 col10\" >-8.452758</td>\n",
       "      <td id=\"T_cef25_row5_col11\" class=\"data row5 col11\" >0.000000</td>\n",
       "      <td id=\"T_cef25_row5_col12\" class=\"data row5 col12\" >31.000000</td>\n",
       "      <td id=\"T_cef25_row5_col13\" class=\"data row5 col13\" >-1</td>\n",
       "      <td id=\"T_cef25_row5_col14\" class=\"data row5 col14\" >2.806160</td>\n",
       "      <td id=\"T_cef25_row5_col15\" class=\"data row5 col15\" >nan</td>\n",
       "      <td id=\"T_cef25_row5_col16\" class=\"data row5 col16\" >rejected</td>\n",
       "      <td id=\"T_cef25_row5_col17\" class=\"data row5 col17\" >Unlikely BOLD</td>\n",
       "    </tr>\n",
       "    <tr>\n",
       "      <th id=\"T_cef25_level0_row6\" class=\"row_heading level0 row6\" >6</th>\n",
       "      <td id=\"T_cef25_row6_col0\" class=\"data row6 col0\" >ICA_06</td>\n",
       "      <td id=\"T_cef25_row6_col1\" class=\"data row6 col1\" >35.682686</td>\n",
       "      <td id=\"T_cef25_row6_col2\" class=\"data row6 col2\" >41.152975</td>\n",
       "      <td id=\"T_cef25_row6_col3\" class=\"data row6 col3\" >1.411969</td>\n",
       "      <td id=\"T_cef25_row6_col4\" class=\"data row6 col4\" >0.016422</td>\n",
       "      <td id=\"T_cef25_row6_col5\" class=\"data row6 col5\" >722</td>\n",
       "      <td id=\"T_cef25_row6_col6\" class=\"data row6 col6\" >729</td>\n",
       "      <td id=\"T_cef25_row6_col7\" class=\"data row6 col7\" >0.268085</td>\n",
       "      <td id=\"T_cef25_row6_col8\" class=\"data row6 col8\" >0.332160</td>\n",
       "      <td id=\"T_cef25_row6_col9\" class=\"data row6 col9\" >1050</td>\n",
       "      <td id=\"T_cef25_row6_col10\" class=\"data row6 col10\" >6.150607</td>\n",
       "      <td id=\"T_cef25_row6_col11\" class=\"data row6 col11\" >0.000002</td>\n",
       "      <td id=\"T_cef25_row6_col12\" class=\"data row6 col12\" >19.000000</td>\n",
       "      <td id=\"T_cef25_row6_col13\" class=\"data row6 col13\" >-1</td>\n",
       "      <td id=\"T_cef25_row6_col14\" class=\"data row6 col14\" >3.040910</td>\n",
       "      <td id=\"T_cef25_row6_col15\" class=\"data row6 col15\" >nan</td>\n",
       "      <td id=\"T_cef25_row6_col16\" class=\"data row6 col16\" >rejected</td>\n",
       "      <td id=\"T_cef25_row6_col17\" class=\"data row6 col17\" >Unlikely BOLD</td>\n",
       "    </tr>\n",
       "    <tr>\n",
       "      <th id=\"T_cef25_level0_row7\" class=\"row_heading level0 row7\" >7</th>\n",
       "      <td id=\"T_cef25_row7_col0\" class=\"data row7 col0\" >ICA_07</td>\n",
       "      <td id=\"T_cef25_row7_col1\" class=\"data row7 col1\" >102.876143</td>\n",
       "      <td id=\"T_cef25_row7_col2\" class=\"data row7 col2\" >10.929019</td>\n",
       "      <td id=\"T_cef25_row7_col3\" class=\"data row7 col3\" >0.754819</td>\n",
       "      <td id=\"T_cef25_row7_col4\" class=\"data row7 col4\" >0.009029</td>\n",
       "      <td id=\"T_cef25_row7_col5\" class=\"data row7 col5\" >3277</td>\n",
       "      <td id=\"T_cef25_row7_col6\" class=\"data row7 col6\" >362</td>\n",
       "      <td id=\"T_cef25_row7_col7\" class=\"data row7 col7\" >0.669988</td>\n",
       "      <td id=\"T_cef25_row7_col8\" class=\"data row7 col8\" >0.166436</td>\n",
       "      <td id=\"T_cef25_row7_col9\" class=\"data row7 col9\" >613</td>\n",
       "      <td id=\"T_cef25_row7_col10\" class=\"data row7 col10\" >6.615788</td>\n",
       "      <td id=\"T_cef25_row7_col11\" class=\"data row7 col11\" >0.000000</td>\n",
       "      <td id=\"T_cef25_row7_col12\" class=\"data row7 col12\" >2.800000</td>\n",
       "      <td id=\"T_cef25_row7_col13\" class=\"data row7 col13\" >-1</td>\n",
       "      <td id=\"T_cef25_row7_col14\" class=\"data row7 col14\" >0.563851</td>\n",
       "      <td id=\"T_cef25_row7_col15\" class=\"data row7 col15\" >2.400000</td>\n",
       "      <td id=\"T_cef25_row7_col16\" class=\"data row7 col16\" >accepted</td>\n",
       "      <td id=\"T_cef25_row7_col17\" class=\"data row7 col17\" >Likely BOLD</td>\n",
       "    </tr>\n",
       "    <tr>\n",
       "      <th id=\"T_cef25_level0_row8\" class=\"row_heading level0 row8\" >8</th>\n",
       "      <td id=\"T_cef25_row8_col0\" class=\"data row8 col0\" >ICA_08</td>\n",
       "      <td id=\"T_cef25_row8_col1\" class=\"data row8 col1\" >14.768110</td>\n",
       "      <td id=\"T_cef25_row8_col2\" class=\"data row8 col2\" >20.934533</td>\n",
       "      <td id=\"T_cef25_row8_col3\" class=\"data row8 col3\" >0.273712</td>\n",
       "      <td id=\"T_cef25_row8_col4\" class=\"data row8 col4\" >0.003667</td>\n",
       "      <td id=\"T_cef25_row8_col5\" class=\"data row8 col5\" >226</td>\n",
       "      <td id=\"T_cef25_row8_col6\" class=\"data row8 col6\" >300</td>\n",
       "      <td id=\"T_cef25_row8_col7\" class=\"data row8 col7\" >0.059908</td>\n",
       "      <td id=\"T_cef25_row8_col8\" class=\"data row8 col8\" >0.384615</td>\n",
       "      <td id=\"T_cef25_row8_col9\" class=\"data row8 col9\" >997</td>\n",
       "      <td id=\"T_cef25_row8_col10\" class=\"data row8 col10\" >-6.963965</td>\n",
       "      <td id=\"T_cef25_row8_col11\" class=\"data row8 col11\" >0.000000</td>\n",
       "      <td id=\"T_cef25_row8_col12\" class=\"data row8 col12\" >34.200000</td>\n",
       "      <td id=\"T_cef25_row8_col13\" class=\"data row8 col13\" >-1</td>\n",
       "      <td id=\"T_cef25_row8_col14\" class=\"data row8 col14\" >1.424309</td>\n",
       "      <td id=\"T_cef25_row8_col15\" class=\"data row8 col15\" >nan</td>\n",
       "      <td id=\"T_cef25_row8_col16\" class=\"data row8 col16\" >rejected</td>\n",
       "      <td id=\"T_cef25_row8_col17\" class=\"data row8 col17\" >Unlikely BOLD</td>\n",
       "    </tr>\n",
       "    <tr>\n",
       "      <th id=\"T_cef25_level0_row9\" class=\"row_heading level0 row9\" >9</th>\n",
       "      <td id=\"T_cef25_row9_col0\" class=\"data row9 col0\" >ICA_09</td>\n",
       "      <td id=\"T_cef25_row9_col1\" class=\"data row9 col1\" >21.605372</td>\n",
       "      <td id=\"T_cef25_row9_col2\" class=\"data row9 col2\" >17.761140</td>\n",
       "      <td id=\"T_cef25_row9_col3\" class=\"data row9 col3\" >0.307787</td>\n",
       "      <td id=\"T_cef25_row9_col4\" class=\"data row9 col4\" >0.004137</td>\n",
       "      <td id=\"T_cef25_row9_col5\" class=\"data row9 col5\" >388</td>\n",
       "      <td id=\"T_cef25_row9_col6\" class=\"data row9 col6\" >282</td>\n",
       "      <td id=\"T_cef25_row9_col7\" class=\"data row9 col7\" >0.000000</td>\n",
       "      <td id=\"T_cef25_row9_col8\" class=\"data row9 col8\" >0.000000</td>\n",
       "      <td id=\"T_cef25_row9_col9\" class=\"data row9 col9\" >1225</td>\n",
       "      <td id=\"T_cef25_row9_col10\" class=\"data row9 col10\" >0.000000</td>\n",
       "      <td id=\"T_cef25_row9_col11\" class=\"data row9 col11\" >0.000000</td>\n",
       "      <td id=\"T_cef25_row9_col12\" class=\"data row9 col12\" >32.000000</td>\n",
       "      <td id=\"T_cef25_row9_col13\" class=\"data row9 col13\" >1</td>\n",
       "      <td id=\"T_cef25_row9_col14\" class=\"data row9 col14\" >1.094775</td>\n",
       "      <td id=\"T_cef25_row9_col15\" class=\"data row9 col15\" >nan</td>\n",
       "      <td id=\"T_cef25_row9_col16\" class=\"data row9 col16\" >accepted</td>\n",
       "      <td id=\"T_cef25_row9_col17\" class=\"data row9 col17\" >Low variance</td>\n",
       "    </tr>\n",
       "    <tr>\n",
       "      <th id=\"T_cef25_level0_row10\" class=\"row_heading level0 row10\" >10</th>\n",
       "      <td id=\"T_cef25_row10_col0\" class=\"data row10 col0\" >ICA_10</td>\n",
       "      <td id=\"T_cef25_row10_col1\" class=\"data row10 col1\" >49.297713</td>\n",
       "      <td id=\"T_cef25_row10_col2\" class=\"data row10 col2\" >30.183255</td>\n",
       "      <td id=\"T_cef25_row10_col3\" class=\"data row10 col3\" >0.940788</td>\n",
       "      <td id=\"T_cef25_row10_col4\" class=\"data row10 col4\" >0.012705</td>\n",
       "      <td id=\"T_cef25_row10_col5\" class=\"data row10 col5\" >3215</td>\n",
       "      <td id=\"T_cef25_row10_col6\" class=\"data row10 col6\" >1499</td>\n",
       "      <td id=\"T_cef25_row10_col7\" class=\"data row10 col7\" >0.515872</td>\n",
       "      <td id=\"T_cef25_row10_col8\" class=\"data row10 col8\" >0.268544</td>\n",
       "      <td id=\"T_cef25_row10_col9\" class=\"data row10 col9\" >1121</td>\n",
       "      <td id=\"T_cef25_row10_col10\" class=\"data row10 col10\" >-1.525198</td>\n",
       "      <td id=\"T_cef25_row10_col11\" class=\"data row10 col11\" >0.131335</td>\n",
       "      <td id=\"T_cef25_row10_col12\" class=\"data row10 col12\" >16.400000</td>\n",
       "      <td id=\"T_cef25_row10_col13\" class=\"data row10 col13\" >1</td>\n",
       "      <td id=\"T_cef25_row10_col14\" class=\"data row10 col14\" >1.466563</td>\n",
       "      <td id=\"T_cef25_row10_col15\" class=\"data row10 col15\" >nan</td>\n",
       "      <td id=\"T_cef25_row10_col16\" class=\"data row10 col16\" >rejected</td>\n",
       "      <td id=\"T_cef25_row10_col17\" class=\"data row10 col17\" >Unlikely BOLD</td>\n",
       "    </tr>\n",
       "    <tr>\n",
       "      <th id=\"T_cef25_level0_row11\" class=\"row_heading level0 row11\" >11</th>\n",
       "      <td id=\"T_cef25_row11_col0\" class=\"data row11 col0\" >ICA_11</td>\n",
       "      <td id=\"T_cef25_row11_col1\" class=\"data row11 col1\" >22.601135</td>\n",
       "      <td id=\"T_cef25_row11_col2\" class=\"data row11 col2\" >36.298328</td>\n",
       "      <td id=\"T_cef25_row11_col3\" class=\"data row11 col3\" >0.453209</td>\n",
       "      <td id=\"T_cef25_row11_col4\" class=\"data row11 col4\" >0.004387</td>\n",
       "      <td id=\"T_cef25_row11_col5\" class=\"data row11 col5\" >470</td>\n",
       "      <td id=\"T_cef25_row11_col6\" class=\"data row11 col6\" >538</td>\n",
       "      <td id=\"T_cef25_row11_col7\" class=\"data row11 col7\" >0.341151</td>\n",
       "      <td id=\"T_cef25_row11_col8\" class=\"data row11 col8\" >0.458527</td>\n",
       "      <td id=\"T_cef25_row11_col9\" class=\"data row11 col9\" >1089</td>\n",
       "      <td id=\"T_cef25_row11_col10\" class=\"data row11 col10\" >1.325181</td>\n",
       "      <td id=\"T_cef25_row11_col11\" class=\"data row11 col11\" >0.197289</td>\n",
       "      <td id=\"T_cef25_row11_col12\" class=\"data row11 col12\" >23.400000</td>\n",
       "      <td id=\"T_cef25_row11_col13\" class=\"data row11 col13\" >-1</td>\n",
       "      <td id=\"T_cef25_row11_col14\" class=\"data row11 col14\" >1.541007</td>\n",
       "      <td id=\"T_cef25_row11_col15\" class=\"data row11 col15\" >nan</td>\n",
       "      <td id=\"T_cef25_row11_col16\" class=\"data row11 col16\" >rejected</td>\n",
       "      <td id=\"T_cef25_row11_col17\" class=\"data row11 col17\" >Unlikely BOLD</td>\n",
       "    </tr>\n",
       "    <tr>\n",
       "      <th id=\"T_cef25_level0_row12\" class=\"row_heading level0 row12\" >12</th>\n",
       "      <td id=\"T_cef25_row12_col0\" class=\"data row12 col0\" >ICA_12</td>\n",
       "      <td id=\"T_cef25_row12_col1\" class=\"data row12 col1\" >23.968036</td>\n",
       "      <td id=\"T_cef25_row12_col2\" class=\"data row12 col2\" >20.341244</td>\n",
       "      <td id=\"T_cef25_row12_col3\" class=\"data row12 col3\" >0.472085</td>\n",
       "      <td id=\"T_cef25_row12_col4\" class=\"data row12 col4\" >0.004739</td>\n",
       "      <td id=\"T_cef25_row12_col5\" class=\"data row12 col5\" >570</td>\n",
       "      <td id=\"T_cef25_row12_col6\" class=\"data row12 col6\" >377</td>\n",
       "      <td id=\"T_cef25_row12_col7\" class=\"data row12 col7\" >0.255958</td>\n",
       "      <td id=\"T_cef25_row12_col8\" class=\"data row12 col8\" >0.176471</td>\n",
       "      <td id=\"T_cef25_row12_col9\" class=\"data row12 col9\" >1148</td>\n",
       "      <td id=\"T_cef25_row12_col10\" class=\"data row12 col10\" >-3.632142</td>\n",
       "      <td id=\"T_cef25_row12_col11\" class=\"data row12 col11\" >0.000857</td>\n",
       "      <td id=\"T_cef25_row12_col12\" class=\"data row12 col12\" >29.000000</td>\n",
       "      <td id=\"T_cef25_row12_col13\" class=\"data row12 col13\" >-1</td>\n",
       "      <td id=\"T_cef25_row12_col14\" class=\"data row12 col14\" >1.513643</td>\n",
       "      <td id=\"T_cef25_row12_col15\" class=\"data row12 col15\" >17.000000</td>\n",
       "      <td id=\"T_cef25_row12_col16\" class=\"data row12 col16\" >accepted</td>\n",
       "      <td id=\"T_cef25_row12_col17\" class=\"data row12 col17\" >Likely BOLD</td>\n",
       "    </tr>\n",
       "    <tr>\n",
       "      <th id=\"T_cef25_level0_row13\" class=\"row_heading level0 row13\" >13</th>\n",
       "      <td id=\"T_cef25_row13_col0\" class=\"data row13 col0\" >ICA_13</td>\n",
       "      <td id=\"T_cef25_row13_col1\" class=\"data row13 col1\" >24.006483</td>\n",
       "      <td id=\"T_cef25_row13_col2\" class=\"data row13 col2\" >14.921336</td>\n",
       "      <td id=\"T_cef25_row13_col3\" class=\"data row13 col3\" >0.218386</td>\n",
       "      <td id=\"T_cef25_row13_col4\" class=\"data row13 col4\" >0.003102</td>\n",
       "      <td id=\"T_cef25_row13_col5\" class=\"data row13 col5\" >1128</td>\n",
       "      <td id=\"T_cef25_row13_col6\" class=\"data row13 col6\" >630</td>\n",
       "      <td id=\"T_cef25_row13_col7\" class=\"data row13 col7\" >0.319091</td>\n",
       "      <td id=\"T_cef25_row13_col8\" class=\"data row13 col8\" >0.296675</td>\n",
       "      <td id=\"T_cef25_row13_col9\" class=\"data row13 col9\" >1231</td>\n",
       "      <td id=\"T_cef25_row13_col10\" class=\"data row13 col10\" >0.000000</td>\n",
       "      <td id=\"T_cef25_row13_col11\" class=\"data row13 col11\" >0.000000</td>\n",
       "      <td id=\"T_cef25_row13_col12\" class=\"data row13 col12\" >26.000000</td>\n",
       "      <td id=\"T_cef25_row13_col13\" class=\"data row13 col13\" >-1</td>\n",
       "      <td id=\"T_cef25_row13_col14\" class=\"data row13 col14\" >0.699088</td>\n",
       "      <td id=\"T_cef25_row13_col15\" class=\"data row13 col15\" >nan</td>\n",
       "      <td id=\"T_cef25_row13_col16\" class=\"data row13 col16\" >accepted</td>\n",
       "      <td id=\"T_cef25_row13_col17\" class=\"data row13 col17\" >Low variance</td>\n",
       "    </tr>\n",
       "    <tr>\n",
       "      <th id=\"T_cef25_level0_row14\" class=\"row_heading level0 row14\" >14</th>\n",
       "      <td id=\"T_cef25_row14_col0\" class=\"data row14 col0\" >ICA_14</td>\n",
       "      <td id=\"T_cef25_row14_col1\" class=\"data row14 col1\" >52.863978</td>\n",
       "      <td id=\"T_cef25_row14_col2\" class=\"data row14 col2\" >11.030685</td>\n",
       "      <td id=\"T_cef25_row14_col3\" class=\"data row14 col3\" >0.808909</td>\n",
       "      <td id=\"T_cef25_row14_col4\" class=\"data row14 col4\" >0.009880</td>\n",
       "      <td id=\"T_cef25_row14_col5\" class=\"data row14 col5\" >2942</td>\n",
       "      <td id=\"T_cef25_row14_col6\" class=\"data row14 col6\" >188</td>\n",
       "      <td id=\"T_cef25_row14_col7\" class=\"data row14 col7\" >0.563806</td>\n",
       "      <td id=\"T_cef25_row14_col8\" class=\"data row14 col8\" >0.000000</td>\n",
       "      <td id=\"T_cef25_row14_col9\" class=\"data row14 col9\" >929</td>\n",
       "      <td id=\"T_cef25_row14_col10\" class=\"data row14 col10\" >12.391319</td>\n",
       "      <td id=\"T_cef25_row14_col11\" class=\"data row14 col11\" >0.000000</td>\n",
       "      <td id=\"T_cef25_row14_col12\" class=\"data row14 col12\" >7.600000</td>\n",
       "      <td id=\"T_cef25_row14_col13\" class=\"data row14 col13\" >-1</td>\n",
       "      <td id=\"T_cef25_row14_col14\" class=\"data row14 col14\" >1.175915</td>\n",
       "      <td id=\"T_cef25_row14_col15\" class=\"data row14 col15\" >6.600000</td>\n",
       "      <td id=\"T_cef25_row14_col16\" class=\"data row14 col16\" >accepted</td>\n",
       "      <td id=\"T_cef25_row14_col17\" class=\"data row14 col17\" >Likely BOLD</td>\n",
       "    </tr>\n",
       "    <tr>\n",
       "      <th id=\"T_cef25_level0_row15\" class=\"row_heading level0 row15\" >15</th>\n",
       "      <td id=\"T_cef25_row15_col0\" class=\"data row15 col0\" >ICA_15</td>\n",
       "      <td id=\"T_cef25_row15_col1\" class=\"data row15 col1\" >28.881649</td>\n",
       "      <td id=\"T_cef25_row15_col2\" class=\"data row15 col2\" >23.392165</td>\n",
       "      <td id=\"T_cef25_row15_col3\" class=\"data row15 col3\" >1.202041</td>\n",
       "      <td id=\"T_cef25_row15_col4\" class=\"data row15 col4\" >0.011165</td>\n",
       "      <td id=\"T_cef25_row15_col5\" class=\"data row15 col5\" >1297</td>\n",
       "      <td id=\"T_cef25_row15_col6\" class=\"data row15 col6\" >433</td>\n",
       "      <td id=\"T_cef25_row15_col7\" class=\"data row15 col7\" >0.313320</td>\n",
       "      <td id=\"T_cef25_row15_col8\" class=\"data row15 col8\" >0.163170</td>\n",
       "      <td id=\"T_cef25_row15_col9\" class=\"data row15 col9\" >1233</td>\n",
       "      <td id=\"T_cef25_row15_col10\" class=\"data row15 col10\" >0.000000</td>\n",
       "      <td id=\"T_cef25_row15_col11\" class=\"data row15 col11\" >0.000000</td>\n",
       "      <td id=\"T_cef25_row15_col12\" class=\"data row15 col12\" >25.200000</td>\n",
       "      <td id=\"T_cef25_row15_col13\" class=\"data row15 col13\" >1</td>\n",
       "      <td id=\"T_cef25_row15_col14\" class=\"data row15 col14\" >3.198404</td>\n",
       "      <td id=\"T_cef25_row15_col15\" class=\"data row15 col15\" >15.200000</td>\n",
       "      <td id=\"T_cef25_row15_col16\" class=\"data row15 col16\" >rejected</td>\n",
       "      <td id=\"T_cef25_row15_col17\" class=\"data row15 col17\" >Less likely BOLD</td>\n",
       "    </tr>\n",
       "    <tr>\n",
       "      <th id=\"T_cef25_level0_row16\" class=\"row_heading level0 row16\" >16</th>\n",
       "      <td id=\"T_cef25_row16_col0\" class=\"data row16 col0\" >ICA_16</td>\n",
       "      <td id=\"T_cef25_row16_col1\" class=\"data row16 col1\" >25.912802</td>\n",
       "      <td id=\"T_cef25_row16_col2\" class=\"data row16 col2\" >31.719562</td>\n",
       "      <td id=\"T_cef25_row16_col3\" class=\"data row16 col3\" >0.420603</td>\n",
       "      <td id=\"T_cef25_row16_col4\" class=\"data row16 col4\" >0.004614</td>\n",
       "      <td id=\"T_cef25_row16_col5\" class=\"data row16 col5\" >392</td>\n",
       "      <td id=\"T_cef25_row16_col6\" class=\"data row16 col6\" >463</td>\n",
       "      <td id=\"T_cef25_row16_col7\" class=\"data row16 col7\" >0.304124</td>\n",
       "      <td id=\"T_cef25_row16_col8\" class=\"data row16 col8\" >0.282916</td>\n",
       "      <td id=\"T_cef25_row16_col9\" class=\"data row16 col9\" >1099</td>\n",
       "      <td id=\"T_cef25_row16_col10\" class=\"data row16 col10\" >0.000000</td>\n",
       "      <td id=\"T_cef25_row16_col11\" class=\"data row16 col11\" >0.000000</td>\n",
       "      <td id=\"T_cef25_row16_col12\" class=\"data row16 col12\" >26.400000</td>\n",
       "      <td id=\"T_cef25_row16_col13\" class=\"data row16 col13\" >1</td>\n",
       "      <td id=\"T_cef25_row16_col14\" class=\"data row16 col14\" >1.247365</td>\n",
       "      <td id=\"T_cef25_row16_col15\" class=\"data row16 col15\" >nan</td>\n",
       "      <td id=\"T_cef25_row16_col16\" class=\"data row16 col16\" >rejected</td>\n",
       "      <td id=\"T_cef25_row16_col17\" class=\"data row16 col17\" >Unlikely BOLD</td>\n",
       "    </tr>\n",
       "    <tr>\n",
       "      <th id=\"T_cef25_level0_row17\" class=\"row_heading level0 row17\" >17</th>\n",
       "      <td id=\"T_cef25_row17_col0\" class=\"data row17 col0\" >ICA_17</td>\n",
       "      <td id=\"T_cef25_row17_col1\" class=\"data row17 col1\" >16.999247</td>\n",
       "      <td id=\"T_cef25_row17_col2\" class=\"data row17 col2\" >19.297453</td>\n",
       "      <td id=\"T_cef25_row17_col3\" class=\"data row17 col3\" >0.278863</td>\n",
       "      <td id=\"T_cef25_row17_col4\" class=\"data row17 col4\" >0.003151</td>\n",
       "      <td id=\"T_cef25_row17_col5\" class=\"data row17 col5\" >420</td>\n",
       "      <td id=\"T_cef25_row17_col6\" class=\"data row17 col6\" >655</td>\n",
       "      <td id=\"T_cef25_row17_col7\" class=\"data row17 col7\" >0.203593</td>\n",
       "      <td id=\"T_cef25_row17_col8\" class=\"data row17 col8\" >0.222566</td>\n",
       "      <td id=\"T_cef25_row17_col9\" class=\"data row17 col9\" >1230</td>\n",
       "      <td id=\"T_cef25_row17_col10\" class=\"data row17 col10\" >0.000000</td>\n",
       "      <td id=\"T_cef25_row17_col11\" class=\"data row17 col11\" >0.000000</td>\n",
       "      <td id=\"T_cef25_row17_col12\" class=\"data row17 col12\" >31.800000</td>\n",
       "      <td id=\"T_cef25_row17_col13\" class=\"data row17 col13\" >-1</td>\n",
       "      <td id=\"T_cef25_row17_col14\" class=\"data row17 col14\" >1.260659</td>\n",
       "      <td id=\"T_cef25_row17_col15\" class=\"data row17 col15\" >nan</td>\n",
       "      <td id=\"T_cef25_row17_col16\" class=\"data row17 col16\" >rejected</td>\n",
       "      <td id=\"T_cef25_row17_col17\" class=\"data row17 col17\" >Unlikely BOLD</td>\n",
       "    </tr>\n",
       "    <tr>\n",
       "      <th id=\"T_cef25_level0_row18\" class=\"row_heading level0 row18\" >18</th>\n",
       "      <td id=\"T_cef25_row18_col0\" class=\"data row18 col0\" >ICA_18</td>\n",
       "      <td id=\"T_cef25_row18_col1\" class=\"data row18 col1\" >66.799022</td>\n",
       "      <td id=\"T_cef25_row18_col2\" class=\"data row18 col2\" >11.946827</td>\n",
       "      <td id=\"T_cef25_row18_col3\" class=\"data row18 col3\" >0.683821</td>\n",
       "      <td id=\"T_cef25_row18_col4\" class=\"data row18 col4\" >0.006818</td>\n",
       "      <td id=\"T_cef25_row18_col5\" class=\"data row18 col5\" >2054</td>\n",
       "      <td id=\"T_cef25_row18_col6\" class=\"data row18 col6\" >421</td>\n",
       "      <td id=\"T_cef25_row18_col7\" class=\"data row18 col7\" >0.645953</td>\n",
       "      <td id=\"T_cef25_row18_col8\" class=\"data row18 col8\" >0.255696</td>\n",
       "      <td id=\"T_cef25_row18_col9\" class=\"data row18 col9\" >689</td>\n",
       "      <td id=\"T_cef25_row18_col10\" class=\"data row18 col10\" >14.985958</td>\n",
       "      <td id=\"T_cef25_row18_col11\" class=\"data row18 col11\" >0.000000</td>\n",
       "      <td id=\"T_cef25_row18_col12\" class=\"data row18 col12\" >4.400000</td>\n",
       "      <td id=\"T_cef25_row18_col13\" class=\"data row18 col13\" >-1</td>\n",
       "      <td id=\"T_cef25_row18_col14\" class=\"data row18 col14\" >0.786699</td>\n",
       "      <td id=\"T_cef25_row18_col15\" class=\"data row18 col15\" >3.800000</td>\n",
       "      <td id=\"T_cef25_row18_col16\" class=\"data row18 col16\" >accepted</td>\n",
       "      <td id=\"T_cef25_row18_col17\" class=\"data row18 col17\" >Likely BOLD</td>\n",
       "    </tr>\n",
       "    <tr>\n",
       "      <th id=\"T_cef25_level0_row19\" class=\"row_heading level0 row19\" >19</th>\n",
       "      <td id=\"T_cef25_row19_col0\" class=\"data row19 col0\" >ICA_19</td>\n",
       "      <td id=\"T_cef25_row19_col1\" class=\"data row19 col1\" >37.562890</td>\n",
       "      <td id=\"T_cef25_row19_col2\" class=\"data row19 col2\" >40.905321</td>\n",
       "      <td id=\"T_cef25_row19_col3\" class=\"data row19 col3\" >1.464678</td>\n",
       "      <td id=\"T_cef25_row19_col4\" class=\"data row19 col4\" >0.015207</td>\n",
       "      <td id=\"T_cef25_row19_col5\" class=\"data row19 col5\" >547</td>\n",
       "      <td id=\"T_cef25_row19_col6\" class=\"data row19 col6\" >710</td>\n",
       "      <td id=\"T_cef25_row19_col7\" class=\"data row19 col7\" >0.389199</td>\n",
       "      <td id=\"T_cef25_row19_col8\" class=\"data row19 col8\" >0.400868</td>\n",
       "      <td id=\"T_cef25_row19_col9\" class=\"data row19 col9\" >1001</td>\n",
       "      <td id=\"T_cef25_row19_col10\" class=\"data row19 col10\" >3.334854</td>\n",
       "      <td id=\"T_cef25_row19_col11\" class=\"data row19 col11\" >0.002702</td>\n",
       "      <td id=\"T_cef25_row19_col12\" class=\"data row19 col12\" >17.000000</td>\n",
       "      <td id=\"T_cef25_row19_col13\" class=\"data row19 col13\" >1</td>\n",
       "      <td id=\"T_cef25_row19_col14\" class=\"data row19 col14\" >2.996533</td>\n",
       "      <td id=\"T_cef25_row19_col15\" class=\"data row19 col15\" >nan</td>\n",
       "      <td id=\"T_cef25_row19_col16\" class=\"data row19 col16\" >rejected</td>\n",
       "      <td id=\"T_cef25_row19_col17\" class=\"data row19 col17\" >Unlikely BOLD</td>\n",
       "    </tr>\n",
       "    <tr>\n",
       "      <th id=\"T_cef25_level0_row20\" class=\"row_heading level0 row20\" >20</th>\n",
       "      <td id=\"T_cef25_row20_col0\" class=\"data row20 col0\" >ICA_20</td>\n",
       "      <td id=\"T_cef25_row20_col1\" class=\"data row20 col1\" >15.305864</td>\n",
       "      <td id=\"T_cef25_row20_col2\" class=\"data row20 col2\" >21.290880</td>\n",
       "      <td id=\"T_cef25_row20_col3\" class=\"data row20 col3\" >0.407149</td>\n",
       "      <td id=\"T_cef25_row20_col4\" class=\"data row20 col4\" >0.006202</td>\n",
       "      <td id=\"T_cef25_row20_col5\" class=\"data row20 col5\" >45</td>\n",
       "      <td id=\"T_cef25_row20_col6\" class=\"data row20 col6\" >192</td>\n",
       "      <td id=\"T_cef25_row20_col7\" class=\"data row20 col7\" >0.000000</td>\n",
       "      <td id=\"T_cef25_row20_col8\" class=\"data row20 col8\" >0.317708</td>\n",
       "      <td id=\"T_cef25_row20_col9\" class=\"data row20 col9\" >831</td>\n",
       "      <td id=\"T_cef25_row20_col10\" class=\"data row20 col10\" >-2.145011</td>\n",
       "      <td id=\"T_cef25_row20_col11\" class=\"data row20 col11\" >0.032462</td>\n",
       "      <td id=\"T_cef25_row20_col12\" class=\"data row20 col12\" >33.200000</td>\n",
       "      <td id=\"T_cef25_row20_col13\" class=\"data row20 col13\" >-1</td>\n",
       "      <td id=\"T_cef25_row20_col14\" class=\"data row20 col14\" >2.044238</td>\n",
       "      <td id=\"T_cef25_row20_col15\" class=\"data row20 col15\" >nan</td>\n",
       "      <td id=\"T_cef25_row20_col16\" class=\"data row20 col16\" >rejected</td>\n",
       "      <td id=\"T_cef25_row20_col17\" class=\"data row20 col17\" >Unlikely BOLD</td>\n",
       "    </tr>\n",
       "    <tr>\n",
       "      <th id=\"T_cef25_level0_row21\" class=\"row_heading level0 row21\" >21</th>\n",
       "      <td id=\"T_cef25_row21_col0\" class=\"data row21 col0\" >ICA_21</td>\n",
       "      <td id=\"T_cef25_row21_col1\" class=\"data row21 col1\" >84.952283</td>\n",
       "      <td id=\"T_cef25_row21_col2\" class=\"data row21 col2\" >11.250273</td>\n",
       "      <td id=\"T_cef25_row21_col3\" class=\"data row21 col3\" >1.244685</td>\n",
       "      <td id=\"T_cef25_row21_col4\" class=\"data row21 col4\" >0.008481</td>\n",
       "      <td id=\"T_cef25_row21_col5\" class=\"data row21 col5\" >2580</td>\n",
       "      <td id=\"T_cef25_row21_col6\" class=\"data row21 col6\" >288</td>\n",
       "      <td id=\"T_cef25_row21_col7\" class=\"data row21 col7\" >0.658527</td>\n",
       "      <td id=\"T_cef25_row21_col8\" class=\"data row21 col8\" >0.117647</td>\n",
       "      <td id=\"T_cef25_row21_col9\" class=\"data row21 col9\" >628</td>\n",
       "      <td id=\"T_cef25_row21_col10\" class=\"data row21 col10\" >10.338983</td>\n",
       "      <td id=\"T_cef25_row21_col11\" class=\"data row21 col11\" >0.000000</td>\n",
       "      <td id=\"T_cef25_row21_col12\" class=\"data row21 col12\" >3.400000</td>\n",
       "      <td id=\"T_cef25_row21_col13\" class=\"data row21 col13\" >1</td>\n",
       "      <td id=\"T_cef25_row21_col14\" class=\"data row21 col14\" >1.125953</td>\n",
       "      <td id=\"T_cef25_row21_col15\" class=\"data row21 col15\" >3.000000</td>\n",
       "      <td id=\"T_cef25_row21_col16\" class=\"data row21 col16\" >accepted</td>\n",
       "      <td id=\"T_cef25_row21_col17\" class=\"data row21 col17\" >Likely BOLD</td>\n",
       "    </tr>\n",
       "    <tr>\n",
       "      <th id=\"T_cef25_level0_row22\" class=\"row_heading level0 row22\" >22</th>\n",
       "      <td id=\"T_cef25_row22_col0\" class=\"data row22 col0\" >ICA_22</td>\n",
       "      <td id=\"T_cef25_row22_col1\" class=\"data row22 col1\" >47.428357</td>\n",
       "      <td id=\"T_cef25_row22_col2\" class=\"data row22 col2\" >22.884456</td>\n",
       "      <td id=\"T_cef25_row22_col3\" class=\"data row22 col3\" >18.118683</td>\n",
       "      <td id=\"T_cef25_row22_col4\" class=\"data row22 col4\" >0.147507</td>\n",
       "      <td id=\"T_cef25_row22_col5\" class=\"data row22 col5\" >5043</td>\n",
       "      <td id=\"T_cef25_row22_col6\" class=\"data row22 col6\" >2404</td>\n",
       "      <td id=\"T_cef25_row22_col7\" class=\"data row22 col7\" >0.457943</td>\n",
       "      <td id=\"T_cef25_row22_col8\" class=\"data row22 col8\" >0.179092</td>\n",
       "      <td id=\"T_cef25_row22_col9\" class=\"data row22 col9\" >1041</td>\n",
       "      <td id=\"T_cef25_row22_col10\" class=\"data row22 col10\" >0.000000</td>\n",
       "      <td id=\"T_cef25_row22_col11\" class=\"data row22 col11\" >0.000000</td>\n",
       "      <td id=\"T_cef25_row22_col12\" class=\"data row22 col12\" >13.600000</td>\n",
       "      <td id=\"T_cef25_row22_col13\" class=\"data row22 col13\" >-1</td>\n",
       "      <td id=\"T_cef25_row22_col14\" class=\"data row22 col14\" >29.357867</td>\n",
       "      <td id=\"T_cef25_row22_col15\" class=\"data row22 col15\" >9.400000</td>\n",
       "      <td id=\"T_cef25_row22_col16\" class=\"data row22 col16\" >rejected</td>\n",
       "      <td id=\"T_cef25_row22_col17\" class=\"data row22 col17\" >Less likely BOLD</td>\n",
       "    </tr>\n",
       "    <tr>\n",
       "      <th id=\"T_cef25_level0_row23\" class=\"row_heading level0 row23\" >23</th>\n",
       "      <td id=\"T_cef25_row23_col0\" class=\"data row23 col0\" >ICA_23</td>\n",
       "      <td id=\"T_cef25_row23_col1\" class=\"data row23 col1\" >12.120251</td>\n",
       "      <td id=\"T_cef25_row23_col2\" class=\"data row23 col2\" >29.573528</td>\n",
       "      <td id=\"T_cef25_row23_col3\" class=\"data row23 col3\" >0.326093</td>\n",
       "      <td id=\"T_cef25_row23_col4\" class=\"data row23 col4\" >0.004685</td>\n",
       "      <td id=\"T_cef25_row23_col5\" class=\"data row23 col5\" >94</td>\n",
       "      <td id=\"T_cef25_row23_col6\" class=\"data row23 col6\" >214</td>\n",
       "      <td id=\"T_cef25_row23_col7\" class=\"data row23 col7\" >0.000000</td>\n",
       "      <td id=\"T_cef25_row23_col8\" class=\"data row23 col8\" >0.503529</td>\n",
       "      <td id=\"T_cef25_row23_col9\" class=\"data row23 col9\" >650</td>\n",
       "      <td id=\"T_cef25_row23_col10\" class=\"data row23 col10\" >-8.669511</td>\n",
       "      <td id=\"T_cef25_row23_col11\" class=\"data row23 col11\" >0.000000</td>\n",
       "      <td id=\"T_cef25_row23_col12\" class=\"data row23 col12\" >33.600000</td>\n",
       "      <td id=\"T_cef25_row23_col13\" class=\"data row23 col13\" >1</td>\n",
       "      <td id=\"T_cef25_row23_col14\" class=\"data row23 col14\" >2.067595</td>\n",
       "      <td id=\"T_cef25_row23_col15\" class=\"data row23 col15\" >nan</td>\n",
       "      <td id=\"T_cef25_row23_col16\" class=\"data row23 col16\" >rejected</td>\n",
       "      <td id=\"T_cef25_row23_col17\" class=\"data row23 col17\" >Unlikely BOLD</td>\n",
       "    </tr>\n",
       "    <tr>\n",
       "      <th id=\"T_cef25_level0_row24\" class=\"row_heading level0 row24\" >24</th>\n",
       "      <td id=\"T_cef25_row24_col0\" class=\"data row24 col0\" >ICA_24</td>\n",
       "      <td id=\"T_cef25_row24_col1\" class=\"data row24 col1\" >34.286932</td>\n",
       "      <td id=\"T_cef25_row24_col2\" class=\"data row24 col2\" >24.547042</td>\n",
       "      <td id=\"T_cef25_row24_col3\" class=\"data row24 col3\" >0.972365</td>\n",
       "      <td id=\"T_cef25_row24_col4\" class=\"data row24 col4\" >0.010708</td>\n",
       "      <td id=\"T_cef25_row24_col5\" class=\"data row24 col5\" >1262</td>\n",
       "      <td id=\"T_cef25_row24_col6\" class=\"data row24 col6\" >419</td>\n",
       "      <td id=\"T_cef25_row24_col7\" class=\"data row24 col7\" >0.400000</td>\n",
       "      <td id=\"T_cef25_row24_col8\" class=\"data row24 col8\" >0.000000</td>\n",
       "      <td id=\"T_cef25_row24_col9\" class=\"data row24 col9\" >1251</td>\n",
       "      <td id=\"T_cef25_row24_col10\" class=\"data row24 col10\" >0.000000</td>\n",
       "      <td id=\"T_cef25_row24_col11\" class=\"data row24 col11\" >0.000000</td>\n",
       "      <td id=\"T_cef25_row24_col12\" class=\"data row24 col12\" >22.800000</td>\n",
       "      <td id=\"T_cef25_row24_col13\" class=\"data row24 col13\" >1</td>\n",
       "      <td id=\"T_cef25_row24_col14\" class=\"data row24 col14\" >2.179397</td>\n",
       "      <td id=\"T_cef25_row24_col15\" class=\"data row24 col15\" >13.800000</td>\n",
       "      <td id=\"T_cef25_row24_col16\" class=\"data row24 col16\" >rejected</td>\n",
       "      <td id=\"T_cef25_row24_col17\" class=\"data row24 col17\" >Less likely BOLD</td>\n",
       "    </tr>\n",
       "    <tr>\n",
       "      <th id=\"T_cef25_level0_row25\" class=\"row_heading level0 row25\" >25</th>\n",
       "      <td id=\"T_cef25_row25_col0\" class=\"data row25 col0\" >ICA_25</td>\n",
       "      <td id=\"T_cef25_row25_col1\" class=\"data row25 col1\" >16.953422</td>\n",
       "      <td id=\"T_cef25_row25_col2\" class=\"data row25 col2\" >16.732650</td>\n",
       "      <td id=\"T_cef25_row25_col3\" class=\"data row25 col3\" >0.211095</td>\n",
       "      <td id=\"T_cef25_row25_col4\" class=\"data row25 col4\" >0.002731</td>\n",
       "      <td id=\"T_cef25_row25_col5\" class=\"data row25 col5\" >260</td>\n",
       "      <td id=\"T_cef25_row25_col6\" class=\"data row25 col6\" >459</td>\n",
       "      <td id=\"T_cef25_row25_col7\" class=\"data row25 col7\" >0.000000</td>\n",
       "      <td id=\"T_cef25_row25_col8\" class=\"data row25 col8\" >0.317181</td>\n",
       "      <td id=\"T_cef25_row25_col9\" class=\"data row25 col9\" >1270</td>\n",
       "      <td id=\"T_cef25_row25_col10\" class=\"data row25 col10\" >0.000000</td>\n",
       "      <td id=\"T_cef25_row25_col11\" class=\"data row25 col11\" >0.000000</td>\n",
       "      <td id=\"T_cef25_row25_col12\" class=\"data row25 col12\" >36.400000</td>\n",
       "      <td id=\"T_cef25_row25_col13\" class=\"data row25 col13\" >1</td>\n",
       "      <td id=\"T_cef25_row25_col14\" class=\"data row25 col14\" >0.956880</td>\n",
       "      <td id=\"T_cef25_row25_col15\" class=\"data row25 col15\" >nan</td>\n",
       "      <td id=\"T_cef25_row25_col16\" class=\"data row25 col16\" >rejected</td>\n",
       "      <td id=\"T_cef25_row25_col17\" class=\"data row25 col17\" >Unlikely BOLD</td>\n",
       "    </tr>\n",
       "    <tr>\n",
       "      <th id=\"T_cef25_level0_row26\" class=\"row_heading level0 row26\" >26</th>\n",
       "      <td id=\"T_cef25_row26_col0\" class=\"data row26 col0\" >ICA_26</td>\n",
       "      <td id=\"T_cef25_row26_col1\" class=\"data row26 col1\" >20.361392</td>\n",
       "      <td id=\"T_cef25_row26_col2\" class=\"data row26 col2\" >14.432911</td>\n",
       "      <td id=\"T_cef25_row26_col3\" class=\"data row26 col3\" >0.176224</td>\n",
       "      <td id=\"T_cef25_row26_col4\" class=\"data row26 col4\" >0.002748</td>\n",
       "      <td id=\"T_cef25_row26_col5\" class=\"data row26 col5\" >500</td>\n",
       "      <td id=\"T_cef25_row26_col6\" class=\"data row26 col6\" >235</td>\n",
       "      <td id=\"T_cef25_row26_col7\" class=\"data row26 col7\" >0.377510</td>\n",
       "      <td id=\"T_cef25_row26_col8\" class=\"data row26 col8\" >0.186147</td>\n",
       "      <td id=\"T_cef25_row26_col9\" class=\"data row26 col9\" >1203</td>\n",
       "      <td id=\"T_cef25_row26_col10\" class=\"data row26 col10\" >3.117638</td>\n",
       "      <td id=\"T_cef25_row26_col11\" class=\"data row26 col11\" >0.002406</td>\n",
       "      <td id=\"T_cef25_row26_col12\" class=\"data row26 col12\" >24.200000</td>\n",
       "      <td id=\"T_cef25_row26_col13\" class=\"data row26 col13\" >1</td>\n",
       "      <td id=\"T_cef25_row26_col14\" class=\"data row26 col14\" >0.665110</td>\n",
       "      <td id=\"T_cef25_row26_col15\" class=\"data row26 col15\" >nan</td>\n",
       "      <td id=\"T_cef25_row26_col16\" class=\"data row26 col16\" >accepted</td>\n",
       "      <td id=\"T_cef25_row26_col17\" class=\"data row26 col17\" >Low variance</td>\n",
       "    </tr>\n",
       "    <tr>\n",
       "      <th id=\"T_cef25_level0_row27\" class=\"row_heading level0 row27\" >27</th>\n",
       "      <td id=\"T_cef25_row27_col0\" class=\"data row27 col0\" >ICA_27</td>\n",
       "      <td id=\"T_cef25_row27_col1\" class=\"data row27 col1\" >33.321036</td>\n",
       "      <td id=\"T_cef25_row27_col2\" class=\"data row27 col2\" >32.060287</td>\n",
       "      <td id=\"T_cef25_row27_col3\" class=\"data row27 col3\" >0.865706</td>\n",
       "      <td id=\"T_cef25_row27_col4\" class=\"data row27 col4\" >0.010818</td>\n",
       "      <td id=\"T_cef25_row27_col5\" class=\"data row27 col5\" >492</td>\n",
       "      <td id=\"T_cef25_row27_col6\" class=\"data row27 col6\" >365</td>\n",
       "      <td id=\"T_cef25_row27_col7\" class=\"data row27 col7\" >0.357895</td>\n",
       "      <td id=\"T_cef25_row27_col8\" class=\"data row27 col8\" >0.000000</td>\n",
       "      <td id=\"T_cef25_row27_col9\" class=\"data row27 col9\" >1084</td>\n",
       "      <td id=\"T_cef25_row27_col10\" class=\"data row27 col10\" >0.000000</td>\n",
       "      <td id=\"T_cef25_row27_col11\" class=\"data row27 col11\" >0.000000</td>\n",
       "      <td id=\"T_cef25_row27_col12\" class=\"data row27 col12\" >22.800000</td>\n",
       "      <td id=\"T_cef25_row27_col13\" class=\"data row27 col13\" >1</td>\n",
       "      <td id=\"T_cef25_row27_col14\" class=\"data row27 col14\" >1.996586</td>\n",
       "      <td id=\"T_cef25_row27_col15\" class=\"data row27 col15\" >14.600000</td>\n",
       "      <td id=\"T_cef25_row27_col16\" class=\"data row27 col16\" >rejected</td>\n",
       "      <td id=\"T_cef25_row27_col17\" class=\"data row27 col17\" >Less likely BOLD</td>\n",
       "    </tr>\n",
       "    <tr>\n",
       "      <th id=\"T_cef25_level0_row28\" class=\"row_heading level0 row28\" >28</th>\n",
       "      <td id=\"T_cef25_row28_col0\" class=\"data row28 col0\" >ICA_28</td>\n",
       "      <td id=\"T_cef25_row28_col1\" class=\"data row28 col1\" >30.108351</td>\n",
       "      <td id=\"T_cef25_row28_col2\" class=\"data row28 col2\" >12.927686</td>\n",
       "      <td id=\"T_cef25_row28_col3\" class=\"data row28 col3\" >1.039400</td>\n",
       "      <td id=\"T_cef25_row28_col4\" class=\"data row28 col4\" >0.007045</td>\n",
       "      <td id=\"T_cef25_row28_col5\" class=\"data row28 col5\" >1158</td>\n",
       "      <td id=\"T_cef25_row28_col6\" class=\"data row28 col6\" >121</td>\n",
       "      <td id=\"T_cef25_row28_col7\" class=\"data row28 col7\" >0.388220</td>\n",
       "      <td id=\"T_cef25_row28_col8\" class=\"data row28 col8\" >0.000000</td>\n",
       "      <td id=\"T_cef25_row28_col9\" class=\"data row28 col9\" >1155</td>\n",
       "      <td id=\"T_cef25_row28_col10\" class=\"data row28 col10\" >0.000000</td>\n",
       "      <td id=\"T_cef25_row28_col11\" class=\"data row28 col11\" >0.000000</td>\n",
       "      <td id=\"T_cef25_row28_col12\" class=\"data row28 col12\" >22.200000</td>\n",
       "      <td id=\"T_cef25_row28_col13\" class=\"data row28 col13\" >1</td>\n",
       "      <td id=\"T_cef25_row28_col14\" class=\"data row28 col14\" >2.652965</td>\n",
       "      <td id=\"T_cef25_row28_col15\" class=\"data row28 col15\" >14.400000</td>\n",
       "      <td id=\"T_cef25_row28_col16\" class=\"data row28 col16\" >rejected</td>\n",
       "      <td id=\"T_cef25_row28_col17\" class=\"data row28 col17\" >Less likely BOLD</td>\n",
       "    </tr>\n",
       "    <tr>\n",
       "      <th id=\"T_cef25_level0_row29\" class=\"row_heading level0 row29\" >29</th>\n",
       "      <td id=\"T_cef25_row29_col0\" class=\"data row29 col0\" >ICA_29</td>\n",
       "      <td id=\"T_cef25_row29_col1\" class=\"data row29 col1\" >80.883760</td>\n",
       "      <td id=\"T_cef25_row29_col2\" class=\"data row29 col2\" >12.626881</td>\n",
       "      <td id=\"T_cef25_row29_col3\" class=\"data row29 col3\" >0.636901</td>\n",
       "      <td id=\"T_cef25_row29_col4\" class=\"data row29 col4\" >0.010566</td>\n",
       "      <td id=\"T_cef25_row29_col5\" class=\"data row29 col5\" >2945</td>\n",
       "      <td id=\"T_cef25_row29_col6\" class=\"data row29 col6\" >465</td>\n",
       "      <td id=\"T_cef25_row29_col7\" class=\"data row29 col7\" >0.581311</td>\n",
       "      <td id=\"T_cef25_row29_col8\" class=\"data row29 col8\" >0.026287</td>\n",
       "      <td id=\"T_cef25_row29_col9\" class=\"data row29 col9\" >601</td>\n",
       "      <td id=\"T_cef25_row29_col10\" class=\"data row29 col10\" >8.423694</td>\n",
       "      <td id=\"T_cef25_row29_col11\" class=\"data row29 col11\" >0.000000</td>\n",
       "      <td id=\"T_cef25_row29_col12\" class=\"data row29 col12\" >4.000000</td>\n",
       "      <td id=\"T_cef25_row29_col13\" class=\"data row29 col13\" >-1</td>\n",
       "      <td id=\"T_cef25_row29_col14\" class=\"data row29 col14\" >0.605127</td>\n",
       "      <td id=\"T_cef25_row29_col15\" class=\"data row29 col15\" >3.600000</td>\n",
       "      <td id=\"T_cef25_row29_col16\" class=\"data row29 col16\" >accepted</td>\n",
       "      <td id=\"T_cef25_row29_col17\" class=\"data row29 col17\" >Likely BOLD</td>\n",
       "    </tr>\n",
       "    <tr>\n",
       "      <th id=\"T_cef25_level0_row30\" class=\"row_heading level0 row30\" >30</th>\n",
       "      <td id=\"T_cef25_row30_col0\" class=\"data row30 col0\" >ICA_30</td>\n",
       "      <td id=\"T_cef25_row30_col1\" class=\"data row30 col1\" >43.827473</td>\n",
       "      <td id=\"T_cef25_row30_col2\" class=\"data row30 col2\" >11.578461</td>\n",
       "      <td id=\"T_cef25_row30_col3\" class=\"data row30 col3\" >0.519174</td>\n",
       "      <td id=\"T_cef25_row30_col4\" class=\"data row30 col4\" >0.005640</td>\n",
       "      <td id=\"T_cef25_row30_col5\" class=\"data row30 col5\" >1534</td>\n",
       "      <td id=\"T_cef25_row30_col6\" class=\"data row30 col6\" >313</td>\n",
       "      <td id=\"T_cef25_row30_col7\" class=\"data row30 col7\" >0.566335</td>\n",
       "      <td id=\"T_cef25_row30_col8\" class=\"data row30 col8\" >0.130081</td>\n",
       "      <td id=\"T_cef25_row30_col9\" class=\"data row30 col9\" >819</td>\n",
       "      <td id=\"T_cef25_row30_col10\" class=\"data row30 col10\" >14.342942</td>\n",
       "      <td id=\"T_cef25_row30_col11\" class=\"data row30 col11\" >0.000000</td>\n",
       "      <td id=\"T_cef25_row30_col12\" class=\"data row30 col12\" >9.000000</td>\n",
       "      <td id=\"T_cef25_row30_col13\" class=\"data row30 col13\" >1</td>\n",
       "      <td id=\"T_cef25_row30_col14\" class=\"data row30 col14\" >0.910338</td>\n",
       "      <td id=\"T_cef25_row30_col15\" class=\"data row30 col15\" >8.000000</td>\n",
       "      <td id=\"T_cef25_row30_col16\" class=\"data row30 col16\" >accepted</td>\n",
       "      <td id=\"T_cef25_row30_col17\" class=\"data row30 col17\" >Likely BOLD</td>\n",
       "    </tr>\n",
       "    <tr>\n",
       "      <th id=\"T_cef25_level0_row31\" class=\"row_heading level0 row31\" >31</th>\n",
       "      <td id=\"T_cef25_row31_col0\" class=\"data row31 col0\" >ICA_31</td>\n",
       "      <td id=\"T_cef25_row31_col1\" class=\"data row31 col1\" >29.139108</td>\n",
       "      <td id=\"T_cef25_row31_col2\" class=\"data row31 col2\" >23.873300</td>\n",
       "      <td id=\"T_cef25_row31_col3\" class=\"data row31 col3\" >0.759698</td>\n",
       "      <td id=\"T_cef25_row31_col4\" class=\"data row31 col4\" >0.011004</td>\n",
       "      <td id=\"T_cef25_row31_col5\" class=\"data row31 col5\" >1720</td>\n",
       "      <td id=\"T_cef25_row31_col6\" class=\"data row31 col6\" >1160</td>\n",
       "      <td id=\"T_cef25_row31_col7\" class=\"data row31 col7\" >0.207729</td>\n",
       "      <td id=\"T_cef25_row31_col8\" class=\"data row31 col8\" >0.188510</td>\n",
       "      <td id=\"T_cef25_row31_col9\" class=\"data row31 col9\" >1255</td>\n",
       "      <td id=\"T_cef25_row31_col10\" class=\"data row31 col10\" >0.000000</td>\n",
       "      <td id=\"T_cef25_row31_col11\" class=\"data row31 col11\" >0.000000</td>\n",
       "      <td id=\"T_cef25_row31_col12\" class=\"data row31 col12\" >26.600000</td>\n",
       "      <td id=\"T_cef25_row31_col13\" class=\"data row31 col13\" >-1</td>\n",
       "      <td id=\"T_cef25_row31_col14\" class=\"data row31 col14\" >2.003553</td>\n",
       "      <td id=\"T_cef25_row31_col15\" class=\"data row31 col15\" >15.400000</td>\n",
       "      <td id=\"T_cef25_row31_col16\" class=\"data row31 col16\" >accepted</td>\n",
       "      <td id=\"T_cef25_row31_col17\" class=\"data row31 col17\" >Accept borderline</td>\n",
       "    </tr>\n",
       "    <tr>\n",
       "      <th id=\"T_cef25_level0_row32\" class=\"row_heading level0 row32\" >32</th>\n",
       "      <td id=\"T_cef25_row32_col0\" class=\"data row32 col0\" >ICA_32</td>\n",
       "      <td id=\"T_cef25_row32_col1\" class=\"data row32 col1\" >14.755411</td>\n",
       "      <td id=\"T_cef25_row32_col2\" class=\"data row32 col2\" >17.029743</td>\n",
       "      <td id=\"T_cef25_row32_col3\" class=\"data row32 col3\" >0.269894</td>\n",
       "      <td id=\"T_cef25_row32_col4\" class=\"data row32 col4\" >0.003557</td>\n",
       "      <td id=\"T_cef25_row32_col5\" class=\"data row32 col5\" >401</td>\n",
       "      <td id=\"T_cef25_row32_col6\" class=\"data row32 col6\" >440</td>\n",
       "      <td id=\"T_cef25_row32_col7\" class=\"data row32 col7\" >0.000000</td>\n",
       "      <td id=\"T_cef25_row32_col8\" class=\"data row32 col8\" >0.000000</td>\n",
       "      <td id=\"T_cef25_row32_col9\" class=\"data row32 col9\" >1239</td>\n",
       "      <td id=\"T_cef25_row32_col10\" class=\"data row32 col10\" >0.000000</td>\n",
       "      <td id=\"T_cef25_row32_col11\" class=\"data row32 col11\" >0.000000</td>\n",
       "      <td id=\"T_cef25_row32_col12\" class=\"data row32 col12\" >35.000000</td>\n",
       "      <td id=\"T_cef25_row32_col13\" class=\"data row32 col13\" >1</td>\n",
       "      <td id=\"T_cef25_row32_col14\" class=\"data row32 col14\" >1.405653</td>\n",
       "      <td id=\"T_cef25_row32_col15\" class=\"data row32 col15\" >nan</td>\n",
       "      <td id=\"T_cef25_row32_col16\" class=\"data row32 col16\" >rejected</td>\n",
       "      <td id=\"T_cef25_row32_col17\" class=\"data row32 col17\" >Unlikely BOLD</td>\n",
       "    </tr>\n",
       "    <tr>\n",
       "      <th id=\"T_cef25_level0_row33\" class=\"row_heading level0 row33\" >33</th>\n",
       "      <td id=\"T_cef25_row33_col0\" class=\"data row33 col0\" >ICA_33</td>\n",
       "      <td id=\"T_cef25_row33_col1\" class=\"data row33 col1\" >44.086324</td>\n",
       "      <td id=\"T_cef25_row33_col2\" class=\"data row33 col2\" >18.077004</td>\n",
       "      <td id=\"T_cef25_row33_col3\" class=\"data row33 col3\" >1.513722</td>\n",
       "      <td id=\"T_cef25_row33_col4\" class=\"data row33 col4\" >0.009673</td>\n",
       "      <td id=\"T_cef25_row33_col5\" class=\"data row33 col5\" >2119</td>\n",
       "      <td id=\"T_cef25_row33_col6\" class=\"data row33 col6\" >408</td>\n",
       "      <td id=\"T_cef25_row33_col7\" class=\"data row33 col7\" >0.523480</td>\n",
       "      <td id=\"T_cef25_row33_col8\" class=\"data row33 col8\" >0.037783</td>\n",
       "      <td id=\"T_cef25_row33_col9\" class=\"data row33 col9\" >777</td>\n",
       "      <td id=\"T_cef25_row33_col10\" class=\"data row33 col10\" >1.150975</td>\n",
       "      <td id=\"T_cef25_row33_col11\" class=\"data row33 col11\" >0.250259</td>\n",
       "      <td id=\"T_cef25_row33_col12\" class=\"data row33 col12\" >10.600000</td>\n",
       "      <td id=\"T_cef25_row33_col13\" class=\"data row33 col13\" >-1</td>\n",
       "      <td id=\"T_cef25_row33_col14\" class=\"data row33 col14\" >2.638628</td>\n",
       "      <td id=\"T_cef25_row33_col15\" class=\"data row33 col15\" >8.400000</td>\n",
       "      <td id=\"T_cef25_row33_col16\" class=\"data row33 col16\" >accepted</td>\n",
       "      <td id=\"T_cef25_row33_col17\" class=\"data row33 col17\" >Likely BOLD</td>\n",
       "    </tr>\n",
       "    <tr>\n",
       "      <th id=\"T_cef25_level0_row34\" class=\"row_heading level0 row34\" >34</th>\n",
       "      <td id=\"T_cef25_row34_col0\" class=\"data row34 col0\" >ICA_34</td>\n",
       "      <td id=\"T_cef25_row34_col1\" class=\"data row34 col1\" >56.429382</td>\n",
       "      <td id=\"T_cef25_row34_col2\" class=\"data row34 col2\" >10.814910</td>\n",
       "      <td id=\"T_cef25_row34_col3\" class=\"data row34 col3\" >0.247334</td>\n",
       "      <td id=\"T_cef25_row34_col4\" class=\"data row34 col4\" >0.004278</td>\n",
       "      <td id=\"T_cef25_row34_col5\" class=\"data row34 col5\" >1781</td>\n",
       "      <td id=\"T_cef25_row34_col6\" class=\"data row34 col6\" >95</td>\n",
       "      <td id=\"T_cef25_row34_col7\" class=\"data row34 col7\" >0.617319</td>\n",
       "      <td id=\"T_cef25_row34_col8\" class=\"data row34 col8\" >0.000000</td>\n",
       "      <td id=\"T_cef25_row34_col9\" class=\"data row34 col9\" >666</td>\n",
       "      <td id=\"T_cef25_row34_col10\" class=\"data row34 col10\" >11.382307</td>\n",
       "      <td id=\"T_cef25_row34_col11\" class=\"data row34 col11\" >0.000000</td>\n",
       "      <td id=\"T_cef25_row34_col12\" class=\"data row34 col12\" >6.000000</td>\n",
       "      <td id=\"T_cef25_row34_col13\" class=\"data row34 col13\" >1</td>\n",
       "      <td id=\"T_cef25_row34_col14\" class=\"data row34 col14\" >0.336833</td>\n",
       "      <td id=\"T_cef25_row34_col15\" class=\"data row34 col15\" >5.200000</td>\n",
       "      <td id=\"T_cef25_row34_col16\" class=\"data row34 col16\" >accepted</td>\n",
       "      <td id=\"T_cef25_row34_col17\" class=\"data row34 col17\" >Likely BOLD</td>\n",
       "    </tr>\n",
       "    <tr>\n",
       "      <th id=\"T_cef25_level0_row35\" class=\"row_heading level0 row35\" >35</th>\n",
       "      <td id=\"T_cef25_row35_col0\" class=\"data row35 col0\" >ICA_35</td>\n",
       "      <td id=\"T_cef25_row35_col1\" class=\"data row35 col1\" >17.790500</td>\n",
       "      <td id=\"T_cef25_row35_col2\" class=\"data row35 col2\" >12.597793</td>\n",
       "      <td id=\"T_cef25_row35_col3\" class=\"data row35 col3\" >0.232961</td>\n",
       "      <td id=\"T_cef25_row35_col4\" class=\"data row35 col4\" >0.003241</td>\n",
       "      <td id=\"T_cef25_row35_col5\" class=\"data row35 col5\" >285</td>\n",
       "      <td id=\"T_cef25_row35_col6\" class=\"data row35 col6\" >51</td>\n",
       "      <td id=\"T_cef25_row35_col7\" class=\"data row35 col7\" >0.352113</td>\n",
       "      <td id=\"T_cef25_row35_col8\" class=\"data row35 col8\" >0.000000</td>\n",
       "      <td id=\"T_cef25_row35_col9\" class=\"data row35 col9\" >1242</td>\n",
       "      <td id=\"T_cef25_row35_col10\" class=\"data row35 col10\" >-5.030514</td>\n",
       "      <td id=\"T_cef25_row35_col11\" class=\"data row35 col11\" >0.000018</td>\n",
       "      <td id=\"T_cef25_row35_col12\" class=\"data row35 col12\" >33.600000</td>\n",
       "      <td id=\"T_cef25_row35_col13\" class=\"data row35 col13\" >-1</td>\n",
       "      <td id=\"T_cef25_row35_col14\" class=\"data row35 col14\" >1.006310</td>\n",
       "      <td id=\"T_cef25_row35_col15\" class=\"data row35 col15\" >nan</td>\n",
       "      <td id=\"T_cef25_row35_col16\" class=\"data row35 col16\" >accepted</td>\n",
       "      <td id=\"T_cef25_row35_col17\" class=\"data row35 col17\" >Low variance</td>\n",
       "    </tr>\n",
       "    <tr>\n",
       "      <th id=\"T_cef25_level0_row36\" class=\"row_heading level0 row36\" >36</th>\n",
       "      <td id=\"T_cef25_row36_col0\" class=\"data row36 col0\" >ICA_36</td>\n",
       "      <td id=\"T_cef25_row36_col1\" class=\"data row36 col1\" >32.499106</td>\n",
       "      <td id=\"T_cef25_row36_col2\" class=\"data row36 col2\" >34.934669</td>\n",
       "      <td id=\"T_cef25_row36_col3\" class=\"data row36 col3\" >0.689722</td>\n",
       "      <td id=\"T_cef25_row36_col4\" class=\"data row36 col4\" >0.007488</td>\n",
       "      <td id=\"T_cef25_row36_col5\" class=\"data row36 col5\" >1095</td>\n",
       "      <td id=\"T_cef25_row36_col6\" class=\"data row36 col6\" >1807</td>\n",
       "      <td id=\"T_cef25_row36_col7\" class=\"data row36 col7\" >0.434334</td>\n",
       "      <td id=\"T_cef25_row36_col8\" class=\"data row36 col8\" >0.462183</td>\n",
       "      <td id=\"T_cef25_row36_col9\" class=\"data row36 col9\" >1082</td>\n",
       "      <td id=\"T_cef25_row36_col10\" class=\"data row36 col10\" >0.153060</td>\n",
       "      <td id=\"T_cef25_row36_col11\" class=\"data row36 col11\" >0.878607</td>\n",
       "      <td id=\"T_cef25_row36_col12\" class=\"data row36 col12\" >18.200000</td>\n",
       "      <td id=\"T_cef25_row36_col13\" class=\"data row36 col13\" >1</td>\n",
       "      <td id=\"T_cef25_row36_col14\" class=\"data row36 col14\" >1.630942</td>\n",
       "      <td id=\"T_cef25_row36_col15\" class=\"data row36 col15\" >nan</td>\n",
       "      <td id=\"T_cef25_row36_col16\" class=\"data row36 col16\" >rejected</td>\n",
       "      <td id=\"T_cef25_row36_col17\" class=\"data row36 col17\" >Unlikely BOLD</td>\n",
       "    </tr>\n",
       "    <tr>\n",
       "      <th id=\"T_cef25_level0_row37\" class=\"row_heading level0 row37\" >37</th>\n",
       "      <td id=\"T_cef25_row37_col0\" class=\"data row37 col0\" >ICA_37</td>\n",
       "      <td id=\"T_cef25_row37_col1\" class=\"data row37 col1\" >70.548540</td>\n",
       "      <td id=\"T_cef25_row37_col2\" class=\"data row37 col2\" >17.969418</td>\n",
       "      <td id=\"T_cef25_row37_col3\" class=\"data row37 col3\" >29.229082</td>\n",
       "      <td id=\"T_cef25_row37_col4\" class=\"data row37 col4\" >0.233936</td>\n",
       "      <td id=\"T_cef25_row37_col5\" class=\"data row37 col5\" >5731</td>\n",
       "      <td id=\"T_cef25_row37_col6\" class=\"data row37 col6\" >1645</td>\n",
       "      <td id=\"T_cef25_row37_col7\" class=\"data row37 col7\" >0.566419</td>\n",
       "      <td id=\"T_cef25_row37_col8\" class=\"data row37 col8\" >0.110131</td>\n",
       "      <td id=\"T_cef25_row37_col9\" class=\"data row37 col9\" >709</td>\n",
       "      <td id=\"T_cef25_row37_col10\" class=\"data row37 col10\" >0.000000</td>\n",
       "      <td id=\"T_cef25_row37_col11\" class=\"data row37 col11\" >0.000000</td>\n",
       "      <td id=\"T_cef25_row37_col12\" class=\"data row37 col12\" >8.600000</td>\n",
       "      <td id=\"T_cef25_row37_col13\" class=\"data row37 col13\" >-1</td>\n",
       "      <td id=\"T_cef25_row37_col14\" class=\"data row37 col14\" >31.839269</td>\n",
       "      <td id=\"T_cef25_row37_col15\" class=\"data row37 col15\" >5.800000</td>\n",
       "      <td id=\"T_cef25_row37_col16\" class=\"data row37 col16\" >accepted</td>\n",
       "      <td id=\"T_cef25_row37_col17\" class=\"data row37 col17\" >Likely BOLD</td>\n",
       "    </tr>\n",
       "    <tr>\n",
       "      <th id=\"T_cef25_level0_row38\" class=\"row_heading level0 row38\" >38</th>\n",
       "      <td id=\"T_cef25_row38_col0\" class=\"data row38 col0\" >ICA_38</td>\n",
       "      <td id=\"T_cef25_row38_col1\" class=\"data row38 col1\" >21.288556</td>\n",
       "      <td id=\"T_cef25_row38_col2\" class=\"data row38 col2\" >23.449890</td>\n",
       "      <td id=\"T_cef25_row38_col3\" class=\"data row38 col3\" >1.429819</td>\n",
       "      <td id=\"T_cef25_row38_col4\" class=\"data row38 col4\" >0.018098</td>\n",
       "      <td id=\"T_cef25_row38_col5\" class=\"data row38 col5\" >1218</td>\n",
       "      <td id=\"T_cef25_row38_col6\" class=\"data row38 col6\" >1285</td>\n",
       "      <td id=\"T_cef25_row38_col7\" class=\"data row38 col7\" >0.240820</td>\n",
       "      <td id=\"T_cef25_row38_col8\" class=\"data row38 col8\" >0.334156</td>\n",
       "      <td id=\"T_cef25_row38_col9\" class=\"data row38 col9\" >1131</td>\n",
       "      <td id=\"T_cef25_row38_col10\" class=\"data row38 col10\" >2.114198</td>\n",
       "      <td id=\"T_cef25_row38_col11\" class=\"data row38 col11\" >0.037227</td>\n",
       "      <td id=\"T_cef25_row38_col12\" class=\"data row38 col12\" >23.600000</td>\n",
       "      <td id=\"T_cef25_row38_col13\" class=\"data row38 col13\" >-1</td>\n",
       "      <td id=\"T_cef25_row38_col14\" class=\"data row38 col14\" >5.161439</td>\n",
       "      <td id=\"T_cef25_row38_col15\" class=\"data row38 col15\" >nan</td>\n",
       "      <td id=\"T_cef25_row38_col16\" class=\"data row38 col16\" >rejected</td>\n",
       "      <td id=\"T_cef25_row38_col17\" class=\"data row38 col17\" >Unlikely BOLD</td>\n",
       "    </tr>\n",
       "    <tr>\n",
       "      <th id=\"T_cef25_level0_row39\" class=\"row_heading level0 row39\" >39</th>\n",
       "      <td id=\"T_cef25_row39_col0\" class=\"data row39 col0\" >ICA_39</td>\n",
       "      <td id=\"T_cef25_row39_col1\" class=\"data row39 col1\" >32.808892</td>\n",
       "      <td id=\"T_cef25_row39_col2\" class=\"data row39 col2\" >32.459510</td>\n",
       "      <td id=\"T_cef25_row39_col3\" class=\"data row39 col3\" >1.024512</td>\n",
       "      <td id=\"T_cef25_row39_col4\" class=\"data row39 col4\" >0.010649</td>\n",
       "      <td id=\"T_cef25_row39_col5\" class=\"data row39 col5\" >683</td>\n",
       "      <td id=\"T_cef25_row39_col6\" class=\"data row39 col6\" >544</td>\n",
       "      <td id=\"T_cef25_row39_col7\" class=\"data row39 col7\" >0.362297</td>\n",
       "      <td id=\"T_cef25_row39_col8\" class=\"data row39 col8\" >0.336725</td>\n",
       "      <td id=\"T_cef25_row39_col9\" class=\"data row39 col9\" >1065</td>\n",
       "      <td id=\"T_cef25_row39_col10\" class=\"data row39 col10\" >0.000000</td>\n",
       "      <td id=\"T_cef25_row39_col11\" class=\"data row39 col11\" >0.000000</td>\n",
       "      <td id=\"T_cef25_row39_col12\" class=\"data row39 col12\" >21.600000</td>\n",
       "      <td id=\"T_cef25_row39_col13\" class=\"data row39 col13\" >1</td>\n",
       "      <td id=\"T_cef25_row39_col14\" class=\"data row39 col14\" >2.399724</td>\n",
       "      <td id=\"T_cef25_row39_col15\" class=\"data row39 col15\" >14.000000</td>\n",
       "      <td id=\"T_cef25_row39_col16\" class=\"data row39 col16\" >rejected</td>\n",
       "      <td id=\"T_cef25_row39_col17\" class=\"data row39 col17\" >Less likely BOLD</td>\n",
       "    </tr>\n",
       "    <tr>\n",
       "      <th id=\"T_cef25_level0_row40\" class=\"row_heading level0 row40\" >40</th>\n",
       "      <td id=\"T_cef25_row40_col0\" class=\"data row40 col0\" >ICA_40</td>\n",
       "      <td id=\"T_cef25_row40_col1\" class=\"data row40 col1\" >16.606237</td>\n",
       "      <td id=\"T_cef25_row40_col2\" class=\"data row40 col2\" >18.724607</td>\n",
       "      <td id=\"T_cef25_row40_col3\" class=\"data row40 col3\" >0.389232</td>\n",
       "      <td id=\"T_cef25_row40_col4\" class=\"data row40 col4\" >0.005196</td>\n",
       "      <td id=\"T_cef25_row40_col5\" class=\"data row40 col5\" >270</td>\n",
       "      <td id=\"T_cef25_row40_col6\" class=\"data row40 col6\" >307</td>\n",
       "      <td id=\"T_cef25_row40_col7\" class=\"data row40 col7\" >0.172084</td>\n",
       "      <td id=\"T_cef25_row40_col8\" class=\"data row40 col8\" >0.164204</td>\n",
       "      <td id=\"T_cef25_row40_col9\" class=\"data row40 col9\" >920</td>\n",
       "      <td id=\"T_cef25_row40_col10\" class=\"data row40 col10\" >-10.839641</td>\n",
       "      <td id=\"T_cef25_row40_col11\" class=\"data row40 col11\" >0.000000</td>\n",
       "      <td id=\"T_cef25_row40_col12\" class=\"data row40 col12\" >32.800000</td>\n",
       "      <td id=\"T_cef25_row40_col13\" class=\"data row40 col13\" >1</td>\n",
       "      <td id=\"T_cef25_row40_col14\" class=\"data row40 col14\" >1.801246</td>\n",
       "      <td id=\"T_cef25_row40_col15\" class=\"data row40 col15\" >nan</td>\n",
       "      <td id=\"T_cef25_row40_col16\" class=\"data row40 col16\" >rejected</td>\n",
       "      <td id=\"T_cef25_row40_col17\" class=\"data row40 col17\" >Unlikely BOLD</td>\n",
       "    </tr>\n",
       "    <tr>\n",
       "      <th id=\"T_cef25_level0_row41\" class=\"row_heading level0 row41\" >41</th>\n",
       "      <td id=\"T_cef25_row41_col0\" class=\"data row41 col0\" >ICA_41</td>\n",
       "      <td id=\"T_cef25_row41_col1\" class=\"data row41 col1\" >48.017993</td>\n",
       "      <td id=\"T_cef25_row41_col2\" class=\"data row41 col2\" >36.938387</td>\n",
       "      <td id=\"T_cef25_row41_col3\" class=\"data row41 col3\" >26.082638</td>\n",
       "      <td id=\"T_cef25_row41_col4\" class=\"data row41 col4\" >0.311829</td>\n",
       "      <td id=\"T_cef25_row41_col5\" class=\"data row41 col5\" >6059</td>\n",
       "      <td id=\"T_cef25_row41_col6\" class=\"data row41 col6\" >5930</td>\n",
       "      <td id=\"T_cef25_row41_col7\" class=\"data row41 col7\" >0.515417</td>\n",
       "      <td id=\"T_cef25_row41_col8\" class=\"data row41 col8\" >0.356028</td>\n",
       "      <td id=\"T_cef25_row41_col9\" class=\"data row41 col9\" >719</td>\n",
       "      <td id=\"T_cef25_row41_col10\" class=\"data row41 col10\" >0.000000</td>\n",
       "      <td id=\"T_cef25_row41_col11\" class=\"data row41 col11\" >0.000000</td>\n",
       "      <td id=\"T_cef25_row41_col12\" class=\"data row41 col12\" >10.800000</td>\n",
       "      <td id=\"T_cef25_row41_col13\" class=\"data row41 col13\" >1</td>\n",
       "      <td id=\"T_cef25_row41_col14\" class=\"data row41 col14\" >41.742980</td>\n",
       "      <td id=\"T_cef25_row41_col15\" class=\"data row41 col15\" >7.600000</td>\n",
       "      <td id=\"T_cef25_row41_col16\" class=\"data row41 col16\" >rejected</td>\n",
       "      <td id=\"T_cef25_row41_col17\" class=\"data row41 col17\" >Less likely BOLD</td>\n",
       "    </tr>\n",
       "    <tr>\n",
       "      <th id=\"T_cef25_level0_row42\" class=\"row_heading level0 row42\" >42</th>\n",
       "      <td id=\"T_cef25_row42_col0\" class=\"data row42 col0\" >ICA_42</td>\n",
       "      <td id=\"T_cef25_row42_col1\" class=\"data row42 col1\" >17.346959</td>\n",
       "      <td id=\"T_cef25_row42_col2\" class=\"data row42 col2\" >15.014701</td>\n",
       "      <td id=\"T_cef25_row42_col3\" class=\"data row42 col3\" >0.360350</td>\n",
       "      <td id=\"T_cef25_row42_col4\" class=\"data row42 col4\" >0.005460</td>\n",
       "      <td id=\"T_cef25_row42_col5\" class=\"data row42 col5\" >268</td>\n",
       "      <td id=\"T_cef25_row42_col6\" class=\"data row42 col6\" >68</td>\n",
       "      <td id=\"T_cef25_row42_col7\" class=\"data row42 col7\" >0.434263</td>\n",
       "      <td id=\"T_cef25_row42_col8\" class=\"data row42 col8\" >0.135338</td>\n",
       "      <td id=\"T_cef25_row42_col9\" class=\"data row42 col9\" >956</td>\n",
       "      <td id=\"T_cef25_row42_col10\" class=\"data row42 col10\" >5.441800</td>\n",
       "      <td id=\"T_cef25_row42_col11\" class=\"data row42 col11\" >0.000000</td>\n",
       "      <td id=\"T_cef25_row42_col12\" class=\"data row42 col12\" >22.600000</td>\n",
       "      <td id=\"T_cef25_row42_col13\" class=\"data row42 col13\" >-1</td>\n",
       "      <td id=\"T_cef25_row42_col14\" class=\"data row42 col14\" >1.596382</td>\n",
       "      <td id=\"T_cef25_row42_col15\" class=\"data row42 col15\" >nan</td>\n",
       "      <td id=\"T_cef25_row42_col16\" class=\"data row42 col16\" >accepted</td>\n",
       "      <td id=\"T_cef25_row42_col17\" class=\"data row42 col17\" >Low variance</td>\n",
       "    </tr>\n",
       "  </tbody>\n",
       "</table>\n"
      ],
      "text/plain": [
       "<pandas.io.formats.style.Styler at 0x7f9a0be23160>"
      ]
     },
     "execution_count": 6,
     "metadata": {},
     "output_type": "execute_result"
    }
   ],
   "source": [
    "def color_rejected_red(series):\n",
    "    \"\"\"Color rejected components red.\"\"\"\n",
    "    return [\n",
    "        \"color: red\" if series[\"classification\"] == \"rejected\" else \"\" for v in series\n",
    "    ]\n",
    "\n",
    "\n",
    "metrics.style.apply(color_rejected_red, axis=1)"
   ]
  },
  {
   "cell_type": "code",
   "execution_count": 7,
   "id": "656850c8",
   "metadata": {},
   "outputs": [
    {
     "name": "stdout",
     "output_type": "stream",
     "text": [
      "{'Component': {'Description': 'The unique identifier of each component. This '\n",
      "                              'identifier matches column names in the mixing '\n",
      "                              'matrix TSV file.',\n",
      "               'LongName': 'Component identifier'},\n",
      " 'classification_tags': {'Description': 'A single tag or a comma separated '\n",
      "                                        'list of tags to describe why a '\n",
      "                                        'component received its classification',\n",
      "                         'LongName': 'Component classification tags'},\n",
      " 'countnoise': {'Description': \"Number of 'noise' voxels (voxels highly \"\n",
      "                               'weighted for component, but not from clusters) '\n",
      "                               'from each component.',\n",
      "                'LongName': 'Noise voxel count',\n",
      "                'Units': 'voxel'},\n",
      " 'countsigFS0': {'Description': 'Number of significant voxels from the '\n",
      "                                'cluster-extent thresholded S0 model '\n",
      "                                'F-statistic map for each component.',\n",
      "                 'LongName': 'S0 model F-statistic map significant voxel count',\n",
      "                 'Units': 'voxel'},\n",
      " 'countsigFT2': {'Description': 'Number of significant voxels from the '\n",
      "                                'cluster-extent thresholded T2 model '\n",
      "                                'F-statistic map for each component.',\n",
      "                 'LongName': 'T2 model F-statistic map significant voxel count',\n",
      "                 'Units': 'voxel'}}\n"
     ]
    }
   ],
   "source": [
    "with open(\n",
    "    os.path.join(out_dir, \"sub-04570_task-rest_space-scanner_desc-tedana_metrics.json\"),\n",
    "    \"r\",\n",
    ") as fo:\n",
    "    data = json.load(fo)\n",
    "\n",
    "first_five_keys = list(data.keys())[:5]\n",
    "reduced_data = {k: data[k] for k in first_five_keys}\n",
    "pprint(reduced_data)"
   ]
  },
  {
   "cell_type": "code",
   "execution_count": 8,
   "id": "65547ff9",
   "metadata": {
    "tags": [
     "output_scroll"
    ]
   },
   "outputs": [
    {
     "data": {
      "text/html": [
       "<table border=\"1\" class=\"dataframe\">\n",
       "  <thead>\n",
       "    <tr style=\"text-align: right;\">\n",
       "      <th></th>\n",
       "      <th>Description</th>\n",
       "      <th>LongName</th>\n",
       "      <th>Units</th>\n",
       "      <th>Levels</th>\n",
       "    </tr>\n",
       "  </thead>\n",
       "  <tbody>\n",
       "    <tr>\n",
       "      <th>Component</th>\n",
       "      <td>The unique identifier of each component. This identifier matches column names in the mixing matrix TSV file.</td>\n",
       "      <td>Component identifier</td>\n",
       "      <td>n/a</td>\n",
       "      <td>n/a</td>\n",
       "    </tr>\n",
       "    <tr>\n",
       "      <th>classification_tags</th>\n",
       "      <td>A single tag or a comma separated list of tags to describe why a component received its classification</td>\n",
       "      <td>Component classification tags</td>\n",
       "      <td>n/a</td>\n",
       "      <td>n/a</td>\n",
       "    </tr>\n",
       "    <tr>\n",
       "      <th>countnoise</th>\n",
       "      <td>Number of 'noise' voxels (voxels highly weighted for component, but not from clusters) from each component.</td>\n",
       "      <td>Noise voxel count</td>\n",
       "      <td>voxel</td>\n",
       "      <td>n/a</td>\n",
       "    </tr>\n",
       "    <tr>\n",
       "      <th>countsigFS0</th>\n",
       "      <td>Number of significant voxels from the cluster-extent thresholded S0 model F-statistic map for each component.</td>\n",
       "      <td>S0 model F-statistic map significant voxel count</td>\n",
       "      <td>voxel</td>\n",
       "      <td>n/a</td>\n",
       "    </tr>\n",
       "    <tr>\n",
       "      <th>countsigFT2</th>\n",
       "      <td>Number of significant voxels from the cluster-extent thresholded T2 model F-statistic map for each component.</td>\n",
       "      <td>T2 model F-statistic map significant voxel count</td>\n",
       "      <td>voxel</td>\n",
       "      <td>n/a</td>\n",
       "    </tr>\n",
       "    <tr>\n",
       "      <th>d_table_score</th>\n",
       "      <td>Summary score compiled from five metrics, with smaller values (i.e., higher ranks) indicating more BOLD dependence and less noise.</td>\n",
       "      <td>Decision table score</td>\n",
       "      <td>arbitrary</td>\n",
       "      <td>n/a</td>\n",
       "    </tr>\n",
       "    <tr>\n",
       "      <th>dice_FS0</th>\n",
       "      <td>Dice value of cluster-extent thresholded maps of S0-model betas and F-statistics.</td>\n",
       "      <td>S0 model beta map-F-statistic map Dice similarity index</td>\n",
       "      <td>arbitrary</td>\n",
       "      <td>n/a</td>\n",
       "    </tr>\n",
       "    <tr>\n",
       "      <th>dice_FT2</th>\n",
       "      <td>Dice value of cluster-extent thresholded maps of T2-model betas and F-statistics.</td>\n",
       "      <td>T2 model beta map-F-statistic map Dice similarity index</td>\n",
       "      <td>arbitrary</td>\n",
       "      <td>n/a</td>\n",
       "    </tr>\n",
       "    <tr>\n",
       "      <th>kappa</th>\n",
       "      <td>A pseudo-F-statistic indicating TE-dependence of the component. This metric is calculated by computing fit to the TE-dependence model at each voxel, and then performing a weighted average based on the voxel-wise weights of the component.</td>\n",
       "      <td>Kappa</td>\n",
       "      <td>arbitrary</td>\n",
       "      <td>n/a</td>\n",
       "    </tr>\n",
       "    <tr>\n",
       "      <th>normalized variance explained</th>\n",
       "      <td>Normalized variance explained in the optimally combined data of each component.On a scale from 0 to 1.</td>\n",
       "      <td>Normalized variance explained</td>\n",
       "      <td>arbitrary</td>\n",
       "      <td>n/a</td>\n",
       "    </tr>\n",
       "    <tr>\n",
       "      <th>optimal sign</th>\n",
       "      <td>Optimal sign determined based on skew direction of component parameter estimates across the brain. In cases where components were left-skewed (-1), the component time series is flipped prior to metric calculation.</td>\n",
       "      <td>Optimal component sign</td>\n",
       "      <td>n/a</td>\n",
       "      <td>{'-1': 'Component is flipped prior to metric calculation.', '1': 'Component is not flipped prior to metric calculation.'}</td>\n",
       "    </tr>\n",
       "    <tr>\n",
       "      <th>rho</th>\n",
       "      <td>A pseudo-F-statistic indicating TE-independence of the component. This metric is calculated by computing fit to the TE-independence model at each voxel, and then performing a weighted average based on the voxel-wise weights of the component.</td>\n",
       "      <td>Rho</td>\n",
       "      <td>arbitrary</td>\n",
       "      <td>n/a</td>\n",
       "    </tr>\n",
       "    <tr>\n",
       "      <th>signal-noise_p</th>\n",
       "      <td>P-value for two-sample t-test of F-statistics from 'signal' voxels (voxels in clusters) against 'noise' voxels (voxels not in clusters) for T2 model.</td>\n",
       "      <td>Signal &gt; noise p-value</td>\n",
       "      <td>arbitrary</td>\n",
       "      <td>n/a</td>\n",
       "    </tr>\n",
       "    <tr>\n",
       "      <th>signal-noise_t</th>\n",
       "      <td>T-statistic for two-sample t-test of F-statistics from 'signal' voxels (voxels in clusters) against 'noise' voxels (voxels not in clusters) for T2 model.</td>\n",
       "      <td>Signal &gt; noise t-statistic</td>\n",
       "      <td>arbitrary</td>\n",
       "      <td>n/a</td>\n",
       "    </tr>\n",
       "    <tr>\n",
       "      <th>variance explained</th>\n",
       "      <td>Variance explained in the optimally combined data of each component. On a scale from 0 to 100.</td>\n",
       "      <td>Variance explained</td>\n",
       "      <td>arbitrary</td>\n",
       "      <td>n/a</td>\n",
       "    </tr>\n",
       "  </tbody>\n",
       "</table>"
      ],
      "text/plain": [
       "<IPython.core.display.HTML object>"
      ]
     },
     "metadata": {},
     "output_type": "display_data"
    }
   ],
   "source": [
    "df = pd.DataFrame.from_dict(data, orient=\"index\")\n",
    "df = df.fillna(\"n/a\")\n",
    "display(HTML(df.to_html()))"
   ]
  },
  {
   "cell_type": "code",
   "execution_count": 9,
   "id": "1260b5b1",
   "metadata": {},
   "outputs": [
    {
     "ename": "FileNotFoundError",
     "evalue": "[Errno 2] No such file or directory: '/home/runner/work/multi-echo-data-analysis/multi-echo-data-analysis/data/multi-echo-data-analysis/tedana/tedana_report.html'",
     "output_type": "error",
     "traceback": [
      "\u001b[0;31m---------------------------------------------------------------------------\u001b[0m",
      "\u001b[0;31mFileNotFoundError\u001b[0m                         Traceback (most recent call last)",
      "Cell \u001b[0;32mIn[9], line 2\u001b[0m\n\u001b[1;32m      1\u001b[0m report \u001b[38;5;241m=\u001b[39m os\u001b[38;5;241m.\u001b[39mpath\u001b[38;5;241m.\u001b[39mjoin(out_dir, \u001b[38;5;124m\"\u001b[39m\u001b[38;5;124mtedana_report.html\u001b[39m\u001b[38;5;124m\"\u001b[39m)\n\u001b[0;32m----> 2\u001b[0m \u001b[38;5;28;01mwith\u001b[39;00m \u001b[38;5;28;43mopen\u001b[39;49m\u001b[43m(\u001b[49m\u001b[43mreport\u001b[49m\u001b[43m,\u001b[49m\u001b[43m \u001b[49m\u001b[38;5;124;43m\"\u001b[39;49m\u001b[38;5;124;43mr\u001b[39;49m\u001b[38;5;124;43m\"\u001b[39;49m\u001b[43m)\u001b[49m \u001b[38;5;28;01mas\u001b[39;00m fo:\n\u001b[1;32m      3\u001b[0m     report_data \u001b[38;5;241m=\u001b[39m fo\u001b[38;5;241m.\u001b[39mread()\n\u001b[1;32m      5\u001b[0m figures_dir \u001b[38;5;241m=\u001b[39m os\u001b[38;5;241m.\u001b[39mpath\u001b[38;5;241m.\u001b[39mrelpath(os\u001b[38;5;241m.\u001b[39mpath\u001b[38;5;241m.\u001b[39mjoin(out_dir, \u001b[38;5;124m\"\u001b[39m\u001b[38;5;124mfigures\u001b[39m\u001b[38;5;124m\"\u001b[39m), os\u001b[38;5;241m.\u001b[39mgetcwd())\n",
      "File \u001b[0;32m/opt/hostedtoolcache/Python/3.10.14/x64/lib/python3.10/site-packages/IPython/core/interactiveshell.py:324\u001b[0m, in \u001b[0;36m_modified_open\u001b[0;34m(file, *args, **kwargs)\u001b[0m\n\u001b[1;32m    317\u001b[0m \u001b[38;5;28;01mif\u001b[39;00m file \u001b[38;5;129;01min\u001b[39;00m {\u001b[38;5;241m0\u001b[39m, \u001b[38;5;241m1\u001b[39m, \u001b[38;5;241m2\u001b[39m}:\n\u001b[1;32m    318\u001b[0m     \u001b[38;5;28;01mraise\u001b[39;00m \u001b[38;5;167;01mValueError\u001b[39;00m(\n\u001b[1;32m    319\u001b[0m         \u001b[38;5;124mf\u001b[39m\u001b[38;5;124m\"\u001b[39m\u001b[38;5;124mIPython won\u001b[39m\u001b[38;5;124m'\u001b[39m\u001b[38;5;124mt let you open fd=\u001b[39m\u001b[38;5;132;01m{\u001b[39;00mfile\u001b[38;5;132;01m}\u001b[39;00m\u001b[38;5;124m by default \u001b[39m\u001b[38;5;124m\"\u001b[39m\n\u001b[1;32m    320\u001b[0m         \u001b[38;5;124m\"\u001b[39m\u001b[38;5;124mas it is likely to crash IPython. If you know what you are doing, \u001b[39m\u001b[38;5;124m\"\u001b[39m\n\u001b[1;32m    321\u001b[0m         \u001b[38;5;124m\"\u001b[39m\u001b[38;5;124myou can use builtins\u001b[39m\u001b[38;5;124m'\u001b[39m\u001b[38;5;124m open.\u001b[39m\u001b[38;5;124m\"\u001b[39m\n\u001b[1;32m    322\u001b[0m     )\n\u001b[0;32m--> 324\u001b[0m \u001b[38;5;28;01mreturn\u001b[39;00m \u001b[43mio_open\u001b[49m\u001b[43m(\u001b[49m\u001b[43mfile\u001b[49m\u001b[43m,\u001b[49m\u001b[43m \u001b[49m\u001b[38;5;241;43m*\u001b[39;49m\u001b[43margs\u001b[49m\u001b[43m,\u001b[49m\u001b[43m \u001b[49m\u001b[38;5;241;43m*\u001b[39;49m\u001b[38;5;241;43m*\u001b[39;49m\u001b[43mkwargs\u001b[49m\u001b[43m)\u001b[49m\n",
      "\u001b[0;31mFileNotFoundError\u001b[0m: [Errno 2] No such file or directory: '/home/runner/work/multi-echo-data-analysis/multi-echo-data-analysis/data/multi-echo-data-analysis/tedana/tedana_report.html'"
     ]
    }
   ],
   "source": [
    "report = os.path.join(out_dir, \"tedana_report.html\")\n",
    "with open(report, \"r\") as fo:\n",
    "    report_data = fo.read()\n",
    "\n",
    "figures_dir = os.path.relpath(os.path.join(out_dir, \"figures\"), os.getcwd())\n",
    "report_data = report_data.replace(\"./figures\", figures_dir)\n",
    "\n",
    "display(HTML(report_data))"
   ]
  }
 ],
 "metadata": {
  "jupytext": {
   "text_representation": {
    "extension": ".md",
    "format_name": "myst",
    "format_version": 0.13,
    "jupytext_version": "1.10.3"
   }
  },
  "kernelspec": {
   "display_name": "Python 3",
   "language": "python",
   "name": "python3"
  },
  "language_info": {
   "codemirror_mode": {
    "name": "ipython",
    "version": 3
   },
   "file_extension": ".py",
   "mimetype": "text/x-python",
   "name": "python",
   "nbconvert_exporter": "python",
   "pygments_lexer": "ipython3",
   "version": "3.10.14"
  },
  "source_map": [
   12,
   20,
   40,
   71,
   85,
   89,
   95,
   101,
   113,
   125,
   133
  ]
 },
 "nbformat": 4,
 "nbformat_minor": 5
}