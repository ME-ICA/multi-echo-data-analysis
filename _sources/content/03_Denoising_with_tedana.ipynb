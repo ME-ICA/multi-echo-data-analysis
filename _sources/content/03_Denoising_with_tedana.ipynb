{
 "cells": [
  {
   "cell_type": "markdown",
   "id": "a4703400",
   "metadata": {},
   "source": [
    "# Multi-Echo Denoising with `tedana`\n",
    "\n",
    "In this analysis tutorial, we will use `tedana` {cite:p}`DuPre2021` to perform multi-echo denoising.\n",
    "\n",
    "Specifically, we will use {py:func}`tedana.workflows.tedana_workflow`."
   ]
  },
  {
   "cell_type": "code",
   "execution_count": 1,
   "id": "1fa6fd60",
   "metadata": {},
   "outputs": [
    {
     "name": "stdout",
     "output_type": "stream",
     "text": [
      "---- repo2data starting ----\n",
      "/opt/hostedtoolcache/Python/3.10.17/x64/lib/python3.10/site-packages/repo2data\n",
      "Config from file :\n",
      "../binder/data_requirement.json\n",
      "Destination:\n",
      "./../data/multi-echo-data-analysis\n",
      "\n",
      "Info : ./../data/multi-echo-data-analysis already downloaded\n"
     ]
    },
    {
     "name": "stderr",
     "output_type": "stream",
     "text": [
      "/opt/hostedtoolcache/Python/3.10.17/x64/lib/python3.10/site-packages/tqdm/auto.py:21: TqdmWarning: IProgress not found. Please update jupyter and ipywidgets. See https://ipywidgets.readthedocs.io/en/stable/user_install.html\n",
      "  from .autonotebook import tqdm as notebook_tqdm\n"
     ]
    }
   ],
   "source": [
    "import json\n",
    "import os\n",
    "from glob import glob\n",
    "from pprint import pprint\n",
    "\n",
    "import pandas as pd\n",
    "from IPython.display import HTML, display\n",
    "from repo2data.repo2data import Repo2Data\n",
    "from tedana import workflows\n",
    "\n",
    "# Install the data if running locally, or point to cached data if running on neurolibre\n",
    "DATA_REQ_FILE = os.path.join(\"../binder/data_requirement.json\")\n",
    "\n",
    "# Download data\n",
    "repo2data = Repo2Data(DATA_REQ_FILE)\n",
    "data_path = repo2data.install()\n",
    "data_path = os.path.abspath(data_path[0])"
   ]
  },
  {
   "cell_type": "code",
   "execution_count": 2,
   "id": "a693090b",
   "metadata": {},
   "outputs": [],
   "source": [
    "func_dir = os.path.join(data_path, \"func/\")\n",
    "data_files = [\n",
    "    os.path.join(\n",
    "        func_dir,\n",
    "        \"sub-04570_task-rest_echo-1_space-scanner_desc-partialPreproc_bold.nii.gz\",\n",
    "    ),\n",
    "    os.path.join(\n",
    "        func_dir,\n",
    "        \"sub-04570_task-rest_echo-2_space-scanner_desc-partialPreproc_bold.nii.gz\",\n",
    "    ),\n",
    "    os.path.join(\n",
    "        func_dir,\n",
    "        \"sub-04570_task-rest_echo-3_space-scanner_desc-partialPreproc_bold.nii.gz\",\n",
    "    ),\n",
    "    os.path.join(\n",
    "        func_dir,\n",
    "        \"sub-04570_task-rest_echo-4_space-scanner_desc-partialPreproc_bold.nii.gz\",\n",
    "    ),\n",
    "]\n",
    "echo_times = [12.0, 28.0, 44.0, 60.0]\n",
    "mask_file = os.path.join(\n",
    "    func_dir, \"sub-04570_task-rest_space-scanner_desc-brain_mask.nii.gz\"\n",
    ")\n",
    "confounds_file = os.path.join(\n",
    "    func_dir, \"sub-04570_task-rest_desc-confounds_timeseries.tsv\"\n",
    ")\n",
    "\n",
    "out_dir = os.path.join(data_path, \"tedana\")"
   ]
  },
  {
   "cell_type": "code",
   "execution_count": 3,
   "id": "f1956c9a",
   "metadata": {
    "tags": [
     "hide-output"
    ]
   },
   "outputs": [
    {
     "name": "stderr",
     "output_type": "stream",
     "text": [
      "INFO     tedana:tedana_workflow:596 Using output directory: /home/runner/work/multi-echo-data-analysis/multi-echo-data-analysis/data/multi-echo-data-analysis/tedana\n"
     ]
    },
    {
     "name": "stderr",
     "output_type": "stream",
     "text": [
      "INFO     tedana:tedana_workflow:615 Initializing and validating component selection tree\n"
     ]
    },
    {
     "name": "stderr",
     "output_type": "stream",
     "text": [
      "WARNING  component_selector:validate_tree:146 Decision tree includes fields that are not used or logged ['_comment']\n"
     ]
    },
    {
     "name": "stderr",
     "output_type": "stream",
     "text": [
      "INFO     component_selector:__init__:333 Performing component selection with tedana_orig_decision_tree\n"
     ]
    },
    {
     "name": "stderr",
     "output_type": "stream",
     "text": [
      "INFO     component_selector:__init__:334 Very similar to the decision tree designed by Prantik Kundu\n"
     ]
    },
    {
     "name": "stderr",
     "output_type": "stream",
     "text": [
      "INFO     tedana:tedana_workflow:618 Loading input data: ['/home/runner/work/multi-echo-data-analysis/multi-echo-data-analysis/data/multi-echo-data-analysis/func/sub-04570_task-rest_echo-1_space-scanner_desc-partialPreproc_bold.nii.gz', '/home/runner/work/multi-echo-data-analysis/multi-echo-data-analysis/data/multi-echo-data-analysis/func/sub-04570_task-rest_echo-2_space-scanner_desc-partialPreproc_bold.nii.gz', '/home/runner/work/multi-echo-data-analysis/multi-echo-data-analysis/data/multi-echo-data-analysis/func/sub-04570_task-rest_echo-3_space-scanner_desc-partialPreproc_bold.nii.gz', '/home/runner/work/multi-echo-data-analysis/multi-echo-data-analysis/data/multi-echo-data-analysis/func/sub-04570_task-rest_echo-4_space-scanner_desc-partialPreproc_bold.nii.gz']\n"
     ]
    },
    {
     "name": "stderr",
     "output_type": "stream",
     "text": [
      "INFO     io:__init__:156 Generating figures directory: /home/runner/work/multi-echo-data-analysis/multi-echo-data-analysis/data/multi-echo-data-analysis/tedana/figures\n"
     ]
    },
    {
     "name": "stderr",
     "output_type": "stream",
     "text": [
      "INFO     tedana:tedana_workflow:703 Using user-defined mask\n"
     ]
    },
    {
     "name": "stderr",
     "output_type": "stream",
     "text": [
      "INFO     utils:make_adaptive_mask:202 Echo-wise intensity thresholds for adaptive mask: [258.33994278 180.98638476 134.6796175   91.51006253]\n"
     ]
    },
    {
     "name": "stderr",
     "output_type": "stream",
     "text": [
      "WARNING  utils:make_adaptive_mask:231 734 voxels in user-defined mask do not have good signal. Removing voxels from mask.\n"
     ]
    },
    {
     "name": "stderr",
     "output_type": "stream",
     "text": [
      "INFO     tedana:tedana_workflow:759 Computing T2* map\n"
     ]
    },
    {
     "name": "stderr",
     "output_type": "stream",
     "text": [
      "\r",
      "2-echo monoexponential:   0%|          | 0/2224 [00:00<?, ?it/s]"
     ]
    },
    {
     "name": "stderr",
     "output_type": "stream",
     "text": [
      "\r",
      "2-echo monoexponential:   3%|▎         | 64/2224 [00:00<00:03, 634.85it/s]"
     ]
    },
    {
     "name": "stderr",
     "output_type": "stream",
     "text": [
      "\r",
      "2-echo monoexponential:   6%|▋         | 144/2224 [00:00<00:02, 731.45it/s]"
     ]
    },
    {
     "name": "stderr",
     "output_type": "stream",
     "text": [
      "\r",
      "2-echo monoexponential:  10%|█         | 226/2224 [00:00<00:02, 769.15it/s]"
     ]
    },
    {
     "name": "stderr",
     "output_type": "stream",
     "text": [
      "\r",
      "2-echo monoexponential:  14%|█▍        | 309/2224 [00:00<00:02, 789.13it/s]"
     ]
    },
    {
     "name": "stderr",
     "output_type": "stream",
     "text": [
      "\r",
      "2-echo monoexponential:  17%|█▋        | 388/2224 [00:00<00:02, 752.06it/s]"
     ]
    },
    {
     "name": "stderr",
     "output_type": "stream",
     "text": [
      "\r",
      "2-echo monoexponential:  21%|██▏       | 474/2224 [00:00<00:02, 786.19it/s]"
     ]
    },
    {
     "name": "stderr",
     "output_type": "stream",
     "text": [
      "\r",
      "2-echo monoexponential:  25%|██▌       | 557/2224 [00:00<00:02, 799.46it/s]"
     ]
    },
    {
     "name": "stderr",
     "output_type": "stream",
     "text": [
      "\r",
      "2-echo monoexponential:  29%|██▊       | 638/2224 [00:00<00:02, 790.96it/s]"
     ]
    },
    {
     "name": "stderr",
     "output_type": "stream",
     "text": [
      "\r",
      "2-echo monoexponential:  32%|███▏      | 718/2224 [00:00<00:01, 791.25it/s]"
     ]
    },
    {
     "name": "stderr",
     "output_type": "stream",
     "text": [
      "\r",
      "2-echo monoexponential:  36%|███▌      | 803/2224 [00:01<00:01, 806.93it/s]"
     ]
    },
    {
     "name": "stderr",
     "output_type": "stream",
     "text": [
      "\r",
      "2-echo monoexponential:  40%|███▉      | 885/2224 [00:01<00:01, 808.05it/s]"
     ]
    },
    {
     "name": "stderr",
     "output_type": "stream",
     "text": [
      "\r",
      "2-echo monoexponential:  43%|████▎     | 966/2224 [00:01<00:01, 806.00it/s]"
     ]
    },
    {
     "name": "stderr",
     "output_type": "stream",
     "text": [
      "\r",
      "2-echo monoexponential:  47%|████▋     | 1049/2224 [00:01<00:01, 810.13it/s]"
     ]
    },
    {
     "name": "stderr",
     "output_type": "stream",
     "text": [
      "\r",
      "2-echo monoexponential:  51%|█████     | 1131/2224 [00:01<00:01, 800.13it/s]"
     ]
    },
    {
     "name": "stderr",
     "output_type": "stream",
     "text": [
      "\r",
      "2-echo monoexponential:  54%|█████▍    | 1212/2224 [00:01<00:01, 801.02it/s]"
     ]
    },
    {
     "name": "stderr",
     "output_type": "stream",
     "text": [
      "\r",
      "2-echo monoexponential:  58%|█████▊    | 1294/2224 [00:01<00:01, 806.34it/s]"
     ]
    },
    {
     "name": "stderr",
     "output_type": "stream",
     "text": [
      "\r",
      "2-echo monoexponential:  62%|██████▏   | 1375/2224 [00:01<00:01, 803.86it/s]"
     ]
    },
    {
     "name": "stderr",
     "output_type": "stream",
     "text": [
      "\r",
      "2-echo monoexponential:  65%|██████▌   | 1456/2224 [00:01<00:00, 801.45it/s]"
     ]
    },
    {
     "name": "stderr",
     "output_type": "stream",
     "text": [
      "\r",
      "2-echo monoexponential:  69%|██████▉   | 1537/2224 [00:01<00:00, 803.46it/s]"
     ]
    },
    {
     "name": "stderr",
     "output_type": "stream",
     "text": [
      "\r",
      "2-echo monoexponential:  73%|███████▎  | 1620/2224 [00:02<00:00, 810.50it/s]"
     ]
    },
    {
     "name": "stderr",
     "output_type": "stream",
     "text": [
      "\r",
      "2-echo monoexponential:  77%|███████▋  | 1702/2224 [00:02<00:00, 811.14it/s]"
     ]
    },
    {
     "name": "stderr",
     "output_type": "stream",
     "text": [
      "\r",
      "2-echo monoexponential:  80%|████████  | 1784/2224 [00:02<00:00, 812.43it/s]"
     ]
    },
    {
     "name": "stderr",
     "output_type": "stream",
     "text": [
      "\r",
      "2-echo monoexponential:  84%|████████▍ | 1868/2224 [00:02<00:00, 820.48it/s]"
     ]
    },
    {
     "name": "stderr",
     "output_type": "stream",
     "text": [
      "\r",
      "2-echo monoexponential:  88%|████████▊ | 1953/2224 [00:02<00:00, 827.20it/s]"
     ]
    },
    {
     "name": "stderr",
     "output_type": "stream",
     "text": [
      "\r",
      "2-echo monoexponential:  92%|█████████▏| 2036/2224 [00:02<00:00, 821.12it/s]"
     ]
    },
    {
     "name": "stderr",
     "output_type": "stream",
     "text": [
      "\r",
      "2-echo monoexponential:  95%|█████████▌| 2119/2224 [00:02<00:00, 809.73it/s]"
     ]
    },
    {
     "name": "stderr",
     "output_type": "stream",
     "text": [
      "\r",
      "2-echo monoexponential:  99%|█████████▉| 2201/2224 [00:02<00:00, 807.47it/s]"
     ]
    },
    {
     "name": "stderr",
     "output_type": "stream",
     "text": [
      "\r",
      "2-echo monoexponential: 100%|██████████| 2224/2224 [00:02<00:00, 799.57it/s]"
     ]
    },
    {
     "name": "stderr",
     "output_type": "stream",
     "text": [
      "\n"
     ]
    },
    {
     "name": "stderr",
     "output_type": "stream",
     "text": [
      "\r",
      "3-echo monoexponential:   0%|          | 0/1092 [00:00<?, ?it/s]"
     ]
    },
    {
     "name": "stderr",
     "output_type": "stream",
     "text": [
      "\r",
      "3-echo monoexponential:   5%|▍         | 50/1092 [00:00<00:02, 499.01it/s]"
     ]
    },
    {
     "name": "stderr",
     "output_type": "stream",
     "text": [
      "\r",
      "3-echo monoexponential:   9%|▉         | 103/1092 [00:00<00:01, 514.45it/s]"
     ]
    },
    {
     "name": "stderr",
     "output_type": "stream",
     "text": [
      "\r",
      "3-echo monoexponential:  14%|█▍        | 157/1092 [00:00<00:01, 525.32it/s]"
     ]
    },
    {
     "name": "stderr",
     "output_type": "stream",
     "text": [
      "\r",
      "3-echo monoexponential:  19%|█▉        | 211/1092 [00:00<00:01, 530.52it/s]"
     ]
    },
    {
     "name": "stderr",
     "output_type": "stream",
     "text": [
      "\r",
      "3-echo monoexponential:  24%|██▍       | 265/1092 [00:00<00:01, 531.22it/s]"
     ]
    },
    {
     "name": "stderr",
     "output_type": "stream",
     "text": [
      "\r",
      "3-echo monoexponential:  29%|██▉       | 319/1092 [00:00<00:01, 524.48it/s]"
     ]
    },
    {
     "name": "stderr",
     "output_type": "stream",
     "text": [
      "\r",
      "3-echo monoexponential:  34%|███▍      | 372/1092 [00:00<00:01, 519.00it/s]"
     ]
    },
    {
     "name": "stderr",
     "output_type": "stream",
     "text": [
      "\r",
      "3-echo monoexponential:  39%|███▉      | 424/1092 [00:00<00:01, 518.01it/s]"
     ]
    },
    {
     "name": "stderr",
     "output_type": "stream",
     "text": [
      "\r",
      "3-echo monoexponential:  44%|████▍     | 479/1092 [00:00<00:01, 527.69it/s]"
     ]
    },
    {
     "name": "stderr",
     "output_type": "stream",
     "text": [
      "\r",
      "3-echo monoexponential:  49%|████▊     | 532/1092 [00:01<00:01, 524.32it/s]"
     ]
    },
    {
     "name": "stderr",
     "output_type": "stream",
     "text": [
      "\r",
      "3-echo monoexponential:  54%|█████▎    | 585/1092 [00:01<00:00, 517.59it/s]"
     ]
    },
    {
     "name": "stderr",
     "output_type": "stream",
     "text": [
      "\r",
      "3-echo monoexponential:  58%|█████▊    | 637/1092 [00:01<00:00, 515.91it/s]"
     ]
    },
    {
     "name": "stderr",
     "output_type": "stream",
     "text": [
      "\r",
      "3-echo monoexponential:  63%|██████▎   | 689/1092 [00:01<00:00, 514.97it/s]"
     ]
    },
    {
     "name": "stderr",
     "output_type": "stream",
     "text": [
      "\r",
      "3-echo monoexponential:  68%|██████▊   | 742/1092 [00:01<00:00, 517.54it/s]"
     ]
    },
    {
     "name": "stderr",
     "output_type": "stream",
     "text": [
      "\r",
      "3-echo monoexponential:  73%|███████▎  | 794/1092 [00:01<00:00, 504.95it/s]"
     ]
    },
    {
     "name": "stderr",
     "output_type": "stream",
     "text": [
      "\r",
      "3-echo monoexponential:  78%|███████▊  | 848/1092 [00:01<00:00, 512.01it/s]"
     ]
    },
    {
     "name": "stderr",
     "output_type": "stream",
     "text": [
      "\r",
      "3-echo monoexponential:  82%|████████▏ | 900/1092 [00:01<00:00, 513.27it/s]"
     ]
    },
    {
     "name": "stderr",
     "output_type": "stream",
     "text": [
      "\r",
      "3-echo monoexponential:  87%|████████▋ | 953/1092 [00:01<00:00, 516.98it/s]"
     ]
    },
    {
     "name": "stderr",
     "output_type": "stream",
     "text": [
      "\r",
      "3-echo monoexponential:  92%|█████████▏| 1006/1092 [00:01<00:00, 518.41it/s]"
     ]
    },
    {
     "name": "stderr",
     "output_type": "stream",
     "text": [
      "\r",
      "3-echo monoexponential:  97%|█████████▋| 1060/1092 [00:02<00:00, 522.19it/s]"
     ]
    },
    {
     "name": "stderr",
     "output_type": "stream",
     "text": [
      "\r",
      "3-echo monoexponential: 100%|██████████| 1092/1092 [00:02<00:00, 518.99it/s]"
     ]
    },
    {
     "name": "stderr",
     "output_type": "stream",
     "text": [
      "\n"
     ]
    },
    {
     "name": "stderr",
     "output_type": "stream",
     "text": [
      "\r",
      "4-echo monoexponential:   0%|          | 0/20176 [00:00<?, ?it/s]"
     ]
    },
    {
     "name": "stderr",
     "output_type": "stream",
     "text": [
      "\r",
      "4-echo monoexponential:   0%|          | 53/20176 [00:00<00:38, 526.13it/s]"
     ]
    },
    {
     "name": "stderr",
     "output_type": "stream",
     "text": [
      "\r",
      "4-echo monoexponential:   1%|          | 109/20176 [00:00<00:36, 543.08it/s]"
     ]
    },
    {
     "name": "stderr",
     "output_type": "stream",
     "text": [
      "\r",
      "4-echo monoexponential:   1%|          | 170/20176 [00:00<00:34, 571.66it/s]"
     ]
    },
    {
     "name": "stderr",
     "output_type": "stream",
     "text": [
      "\r",
      "4-echo monoexponential:   1%|          | 231/20176 [00:00<00:34, 585.73it/s]"
     ]
    },
    {
     "name": "stderr",
     "output_type": "stream",
     "text": [
      "\r",
      "4-echo monoexponential:   1%|▏         | 290/20176 [00:00<00:34, 581.94it/s]"
     ]
    },
    {
     "name": "stderr",
     "output_type": "stream",
     "text": [
      "\r",
      "4-echo monoexponential:   2%|▏         | 352/20176 [00:00<00:33, 591.80it/s]"
     ]
    },
    {
     "name": "stderr",
     "output_type": "stream",
     "text": [
      "\r",
      "4-echo monoexponential:   2%|▏         | 413/20176 [00:00<00:33, 590.71it/s]"
     ]
    },
    {
     "name": "stderr",
     "output_type": "stream",
     "text": [
      "\r",
      "4-echo monoexponential:   2%|▏         | 474/20176 [00:00<00:33, 595.45it/s]"
     ]
    },
    {
     "name": "stderr",
     "output_type": "stream",
     "text": [
      "\r",
      "4-echo monoexponential:   3%|▎         | 536/20176 [00:00<00:32, 600.68it/s]"
     ]
    },
    {
     "name": "stderr",
     "output_type": "stream",
     "text": [
      "\r",
      "4-echo monoexponential:   3%|▎         | 597/20176 [00:01<00:32, 599.32it/s]"
     ]
    },
    {
     "name": "stderr",
     "output_type": "stream",
     "text": [
      "\r",
      "4-echo monoexponential:   3%|▎         | 657/20176 [00:01<00:33, 591.25it/s]"
     ]
    },
    {
     "name": "stderr",
     "output_type": "stream",
     "text": [
      "\r",
      "4-echo monoexponential:   4%|▎         | 717/20176 [00:01<00:32, 590.33it/s]"
     ]
    },
    {
     "name": "stderr",
     "output_type": "stream",
     "text": [
      "\r",
      "4-echo monoexponential:   4%|▍         | 777/20176 [00:01<00:32, 592.15it/s]"
     ]
    },
    {
     "name": "stderr",
     "output_type": "stream",
     "text": [
      "\r",
      "4-echo monoexponential:   4%|▍         | 837/20176 [00:01<00:32, 592.62it/s]"
     ]
    },
    {
     "name": "stderr",
     "output_type": "stream",
     "text": [
      "\r",
      "4-echo monoexponential:   4%|▍         | 899/20176 [00:01<00:32, 597.61it/s]"
     ]
    },
    {
     "name": "stderr",
     "output_type": "stream",
     "text": [
      "\r",
      "4-echo monoexponential:   5%|▍         | 959/20176 [00:01<00:32, 593.64it/s]"
     ]
    },
    {
     "name": "stderr",
     "output_type": "stream",
     "text": [
      "\r",
      "4-echo monoexponential:   5%|▌         | 1019/20176 [00:01<00:33, 566.26it/s]"
     ]
    },
    {
     "name": "stderr",
     "output_type": "stream",
     "text": [
      "\r",
      "4-echo monoexponential:   5%|▌         | 1077/20176 [00:01<00:33, 569.95it/s]"
     ]
    },
    {
     "name": "stderr",
     "output_type": "stream",
     "text": [
      "\r",
      "4-echo monoexponential:   6%|▌         | 1139/20176 [00:01<00:32, 583.94it/s]"
     ]
    },
    {
     "name": "stderr",
     "output_type": "stream",
     "text": [
      "\r",
      "4-echo monoexponential:   6%|▌         | 1200/20176 [00:02<00:32, 590.15it/s]"
     ]
    },
    {
     "name": "stderr",
     "output_type": "stream",
     "text": [
      "\r",
      "4-echo monoexponential:   6%|▌         | 1260/20176 [00:02<00:31, 592.30it/s]"
     ]
    },
    {
     "name": "stderr",
     "output_type": "stream",
     "text": [
      "\r",
      "4-echo monoexponential:   7%|▋         | 1324/20176 [00:02<00:31, 604.69it/s]"
     ]
    },
    {
     "name": "stderr",
     "output_type": "stream",
     "text": [
      "\r",
      "4-echo monoexponential:   7%|▋         | 1390/20176 [00:02<00:30, 618.29it/s]"
     ]
    },
    {
     "name": "stderr",
     "output_type": "stream",
     "text": [
      "\r",
      "4-echo monoexponential:   7%|▋         | 1452/20176 [00:02<00:31, 599.84it/s]"
     ]
    },
    {
     "name": "stderr",
     "output_type": "stream",
     "text": [
      "\r",
      "4-echo monoexponential:   7%|▋         | 1513/20176 [00:02<00:31, 586.57it/s]"
     ]
    },
    {
     "name": "stderr",
     "output_type": "stream",
     "text": [
      "\r",
      "4-echo monoexponential:   8%|▊         | 1576/20176 [00:02<00:31, 598.82it/s]"
     ]
    },
    {
     "name": "stderr",
     "output_type": "stream",
     "text": [
      "\r",
      "4-echo monoexponential:   8%|▊         | 1639/20176 [00:02<00:30, 605.82it/s]"
     ]
    },
    {
     "name": "stderr",
     "output_type": "stream",
     "text": [
      "\r",
      "4-echo monoexponential:   8%|▊         | 1703/20176 [00:02<00:30, 613.93it/s]"
     ]
    },
    {
     "name": "stderr",
     "output_type": "stream",
     "text": [
      "\r",
      "4-echo monoexponential:   9%|▊         | 1765/20176 [00:02<00:29, 613.86it/s]"
     ]
    },
    {
     "name": "stderr",
     "output_type": "stream",
     "text": [
      "\r",
      "4-echo monoexponential:   9%|▉         | 1828/20176 [00:03<00:29, 618.08it/s]"
     ]
    },
    {
     "name": "stderr",
     "output_type": "stream",
     "text": [
      "\r",
      "4-echo monoexponential:   9%|▉         | 1891/20176 [00:03<00:29, 618.68it/s]"
     ]
    },
    {
     "name": "stderr",
     "output_type": "stream",
     "text": [
      "\r",
      "4-echo monoexponential:  10%|▉         | 1953/20176 [00:03<00:29, 618.39it/s]"
     ]
    },
    {
     "name": "stderr",
     "output_type": "stream",
     "text": [
      "\r",
      "4-echo monoexponential:  10%|▉         | 2015/20176 [00:03<00:30, 591.05it/s]"
     ]
    },
    {
     "name": "stderr",
     "output_type": "stream",
     "text": [
      "\r",
      "4-echo monoexponential:  10%|█         | 2078/20176 [00:03<00:30, 600.93it/s]"
     ]
    },
    {
     "name": "stderr",
     "output_type": "stream",
     "text": [
      "\r",
      "4-echo monoexponential:  11%|█         | 2140/20176 [00:03<00:30, 601.17it/s]"
     ]
    },
    {
     "name": "stderr",
     "output_type": "stream",
     "text": [
      "\r",
      "4-echo monoexponential:  11%|█         | 2205/20176 [00:03<00:29, 613.90it/s]"
     ]
    },
    {
     "name": "stderr",
     "output_type": "stream",
     "text": [
      "\r",
      "4-echo monoexponential:  11%|█         | 2269/20176 [00:03<00:28, 620.77it/s]"
     ]
    },
    {
     "name": "stderr",
     "output_type": "stream",
     "text": [
      "\r",
      "4-echo monoexponential:  12%|█▏        | 2335/20176 [00:03<00:28, 629.53it/s]"
     ]
    },
    {
     "name": "stderr",
     "output_type": "stream",
     "text": [
      "\r",
      "4-echo monoexponential:  12%|█▏        | 2399/20176 [00:03<00:28, 632.35it/s]"
     ]
    },
    {
     "name": "stderr",
     "output_type": "stream",
     "text": [
      "\r",
      "4-echo monoexponential:  12%|█▏        | 2464/20176 [00:04<00:27, 635.77it/s]"
     ]
    },
    {
     "name": "stderr",
     "output_type": "stream",
     "text": [
      "\r",
      "4-echo monoexponential:  13%|█▎        | 2528/20176 [00:04<00:27, 633.70it/s]"
     ]
    },
    {
     "name": "stderr",
     "output_type": "stream",
     "text": [
      "\r",
      "4-echo monoexponential:  13%|█▎        | 2592/20176 [00:04<00:29, 605.78it/s]"
     ]
    },
    {
     "name": "stderr",
     "output_type": "stream",
     "text": [
      "\r",
      "4-echo monoexponential:  13%|█▎        | 2653/20176 [00:04<00:29, 603.56it/s]"
     ]
    },
    {
     "name": "stderr",
     "output_type": "stream",
     "text": [
      "\r",
      "4-echo monoexponential:  13%|█▎        | 2717/20176 [00:04<00:28, 611.68it/s]"
     ]
    },
    {
     "name": "stderr",
     "output_type": "stream",
     "text": [
      "\r",
      "4-echo monoexponential:  14%|█▍        | 2779/20176 [00:04<00:28, 613.08it/s]"
     ]
    },
    {
     "name": "stderr",
     "output_type": "stream",
     "text": [
      "\r",
      "4-echo monoexponential:  14%|█▍        | 2844/20176 [00:04<00:27, 622.60it/s]"
     ]
    },
    {
     "name": "stderr",
     "output_type": "stream",
     "text": [
      "\r",
      "4-echo monoexponential:  14%|█▍        | 2909/20176 [00:04<00:27, 629.26it/s]"
     ]
    },
    {
     "name": "stderr",
     "output_type": "stream",
     "text": [
      "\r",
      "4-echo monoexponential:  15%|█▍        | 2973/20176 [00:04<00:27, 631.91it/s]"
     ]
    },
    {
     "name": "stderr",
     "output_type": "stream",
     "text": [
      "\r",
      "4-echo monoexponential:  15%|█▌        | 3038/20176 [00:05<00:26, 636.88it/s]"
     ]
    },
    {
     "name": "stderr",
     "output_type": "stream",
     "text": [
      "\r",
      "4-echo monoexponential:  15%|█▌        | 3103/20176 [00:05<00:26, 640.12it/s]"
     ]
    },
    {
     "name": "stderr",
     "output_type": "stream",
     "text": [
      "\r",
      "4-echo monoexponential:  16%|█▌        | 3168/20176 [00:05<00:26, 639.74it/s]"
     ]
    },
    {
     "name": "stderr",
     "output_type": "stream",
     "text": [
      "\r",
      "4-echo monoexponential:  16%|█▌        | 3232/20176 [00:05<00:27, 615.93it/s]"
     ]
    },
    {
     "name": "stderr",
     "output_type": "stream",
     "text": [
      "\r",
      "4-echo monoexponential:  16%|█▋        | 3294/20176 [00:05<00:27, 615.88it/s]"
     ]
    },
    {
     "name": "stderr",
     "output_type": "stream",
     "text": [
      "\r",
      "4-echo monoexponential:  17%|█▋        | 3357/20176 [00:05<00:27, 618.20it/s]"
     ]
    },
    {
     "name": "stderr",
     "output_type": "stream",
     "text": [
      "\r",
      "4-echo monoexponential:  17%|█▋        | 3419/20176 [00:05<00:27, 616.38it/s]"
     ]
    },
    {
     "name": "stderr",
     "output_type": "stream",
     "text": [
      "\r",
      "4-echo monoexponential:  17%|█▋        | 3483/20176 [00:05<00:26, 621.68it/s]"
     ]
    },
    {
     "name": "stderr",
     "output_type": "stream",
     "text": [
      "\r",
      "4-echo monoexponential:  18%|█▊        | 3551/20176 [00:05<00:26, 637.90it/s]"
     ]
    },
    {
     "name": "stderr",
     "output_type": "stream",
     "text": [
      "\r",
      "4-echo monoexponential:  18%|█▊        | 3615/20176 [00:05<00:26, 635.21it/s]"
     ]
    },
    {
     "name": "stderr",
     "output_type": "stream",
     "text": [
      "\r",
      "4-echo monoexponential:  18%|█▊        | 3679/20176 [00:06<00:26, 632.18it/s]"
     ]
    },
    {
     "name": "stderr",
     "output_type": "stream",
     "text": [
      "\r",
      "4-echo monoexponential:  19%|█▊        | 3744/20176 [00:06<00:25, 637.26it/s]"
     ]
    },
    {
     "name": "stderr",
     "output_type": "stream",
     "text": [
      "\r",
      "4-echo monoexponential:  19%|█▉        | 3808/20176 [00:06<00:25, 636.38it/s]"
     ]
    },
    {
     "name": "stderr",
     "output_type": "stream",
     "text": [
      "\r",
      "4-echo monoexponential:  19%|█▉        | 3872/20176 [00:06<00:25, 631.05it/s]"
     ]
    },
    {
     "name": "stderr",
     "output_type": "stream",
     "text": [
      "\r",
      "4-echo monoexponential:  20%|█▉        | 3936/20176 [00:06<00:26, 617.66it/s]"
     ]
    },
    {
     "name": "stderr",
     "output_type": "stream",
     "text": [
      "\r",
      "4-echo monoexponential:  20%|█▉        | 3999/20176 [00:06<00:26, 616.93it/s]"
     ]
    },
    {
     "name": "stderr",
     "output_type": "stream",
     "text": [
      "\r",
      "4-echo monoexponential:  20%|██        | 4061/20176 [00:06<00:26, 616.75it/s]"
     ]
    },
    {
     "name": "stderr",
     "output_type": "stream",
     "text": [
      "\r",
      "4-echo monoexponential:  20%|██        | 4123/20176 [00:06<00:26, 611.38it/s]"
     ]
    },
    {
     "name": "stderr",
     "output_type": "stream",
     "text": [
      "\r",
      "4-echo monoexponential:  21%|██        | 4185/20176 [00:06<00:26, 608.76it/s]"
     ]
    },
    {
     "name": "stderr",
     "output_type": "stream",
     "text": [
      "\r",
      "4-echo monoexponential:  21%|██        | 4250/20176 [00:06<00:25, 620.35it/s]"
     ]
    },
    {
     "name": "stderr",
     "output_type": "stream",
     "text": [
      "\r",
      "4-echo monoexponential:  21%|██▏       | 4317/20176 [00:07<00:25, 632.34it/s]"
     ]
    },
    {
     "name": "stderr",
     "output_type": "stream",
     "text": [
      "\r",
      "4-echo monoexponential:  22%|██▏       | 4381/20176 [00:07<00:25, 627.38it/s]"
     ]
    },
    {
     "name": "stderr",
     "output_type": "stream",
     "text": [
      "\r",
      "4-echo monoexponential:  22%|██▏       | 4445/20176 [00:07<00:24, 630.48it/s]"
     ]
    },
    {
     "name": "stderr",
     "output_type": "stream",
     "text": [
      "\r",
      "4-echo monoexponential:  22%|██▏       | 4510/20176 [00:07<00:24, 634.48it/s]"
     ]
    },
    {
     "name": "stderr",
     "output_type": "stream",
     "text": [
      "\r",
      "4-echo monoexponential:  23%|██▎       | 4574/20176 [00:07<00:24, 635.41it/s]"
     ]
    },
    {
     "name": "stderr",
     "output_type": "stream",
     "text": [
      "\r",
      "4-echo monoexponential:  23%|██▎       | 4638/20176 [00:07<00:24, 631.69it/s]"
     ]
    },
    {
     "name": "stderr",
     "output_type": "stream",
     "text": [
      "\r",
      "4-echo monoexponential:  23%|██▎       | 4702/20176 [00:07<00:25, 614.38it/s]"
     ]
    },
    {
     "name": "stderr",
     "output_type": "stream",
     "text": [
      "\r",
      "4-echo monoexponential:  24%|██▎       | 4766/20176 [00:07<00:24, 620.43it/s]"
     ]
    },
    {
     "name": "stderr",
     "output_type": "stream",
     "text": [
      "\r",
      "4-echo monoexponential:  24%|██▍       | 4829/20176 [00:07<00:24, 621.82it/s]"
     ]
    },
    {
     "name": "stderr",
     "output_type": "stream",
     "text": [
      "\r",
      "4-echo monoexponential:  24%|██▍       | 4892/20176 [00:07<00:24, 614.51it/s]"
     ]
    },
    {
     "name": "stderr",
     "output_type": "stream",
     "text": [
      "\r",
      "4-echo monoexponential:  25%|██▍       | 4955/20176 [00:08<00:24, 617.95it/s]"
     ]
    },
    {
     "name": "stderr",
     "output_type": "stream",
     "text": [
      "\r",
      "4-echo monoexponential:  25%|██▍       | 5021/20176 [00:08<00:24, 628.37it/s]"
     ]
    },
    {
     "name": "stderr",
     "output_type": "stream",
     "text": [
      "\r",
      "4-echo monoexponential:  25%|██▌       | 5086/20176 [00:08<00:23, 632.60it/s]"
     ]
    },
    {
     "name": "stderr",
     "output_type": "stream",
     "text": [
      "\r",
      "4-echo monoexponential:  26%|██▌       | 5154/20176 [00:08<00:23, 643.85it/s]"
     ]
    },
    {
     "name": "stderr",
     "output_type": "stream",
     "text": [
      "\r",
      "4-echo monoexponential:  26%|██▌       | 5219/20176 [00:08<00:23, 643.65it/s]"
     ]
    },
    {
     "name": "stderr",
     "output_type": "stream",
     "text": [
      "\r",
      "4-echo monoexponential:  26%|██▌       | 5284/20176 [00:08<00:23, 643.07it/s]"
     ]
    },
    {
     "name": "stderr",
     "output_type": "stream",
     "text": [
      "\r",
      "4-echo monoexponential:  27%|██▋       | 5349/20176 [00:08<00:23, 642.49it/s]"
     ]
    },
    {
     "name": "stderr",
     "output_type": "stream",
     "text": [
      "\r",
      "4-echo monoexponential:  27%|██▋       | 5414/20176 [00:08<00:23, 624.86it/s]"
     ]
    },
    {
     "name": "stderr",
     "output_type": "stream",
     "text": [
      "\r",
      "4-echo monoexponential:  27%|██▋       | 5477/20176 [00:08<00:23, 614.30it/s]"
     ]
    },
    {
     "name": "stderr",
     "output_type": "stream",
     "text": [
      "\r",
      "4-echo monoexponential:  27%|██▋       | 5539/20176 [00:09<00:23, 614.67it/s]"
     ]
    },
    {
     "name": "stderr",
     "output_type": "stream",
     "text": [
      "\r",
      "4-echo monoexponential:  28%|██▊       | 5603/20176 [00:09<00:23, 619.63it/s]"
     ]
    },
    {
     "name": "stderr",
     "output_type": "stream",
     "text": [
      "\r",
      "4-echo monoexponential:  28%|██▊       | 5666/20176 [00:09<00:23, 617.90it/s]"
     ]
    },
    {
     "name": "stderr",
     "output_type": "stream",
     "text": [
      "\r",
      "4-echo monoexponential:  28%|██▊       | 5732/20176 [00:09<00:22, 630.14it/s]"
     ]
    },
    {
     "name": "stderr",
     "output_type": "stream",
     "text": [
      "\r",
      "4-echo monoexponential:  29%|██▊       | 5800/20176 [00:09<00:22, 641.98it/s]"
     ]
    },
    {
     "name": "stderr",
     "output_type": "stream",
     "text": [
      "\r",
      "4-echo monoexponential:  29%|██▉       | 5865/20176 [00:09<00:22, 643.06it/s]"
     ]
    },
    {
     "name": "stderr",
     "output_type": "stream",
     "text": [
      "\r",
      "4-echo monoexponential:  29%|██▉       | 5930/20176 [00:09<00:22, 639.21it/s]"
     ]
    },
    {
     "name": "stderr",
     "output_type": "stream",
     "text": [
      "\r",
      "4-echo monoexponential:  30%|██▉       | 5994/20176 [00:09<00:22, 630.91it/s]"
     ]
    },
    {
     "name": "stderr",
     "output_type": "stream",
     "text": [
      "\r",
      "4-echo monoexponential:  30%|███       | 6058/20176 [00:09<00:22, 629.96it/s]"
     ]
    },
    {
     "name": "stderr",
     "output_type": "stream",
     "text": [
      "\r",
      "4-echo monoexponential:  30%|███       | 6123/20176 [00:09<00:22, 633.40it/s]"
     ]
    },
    {
     "name": "stderr",
     "output_type": "stream",
     "text": [
      "\r",
      "4-echo monoexponential:  31%|███       | 6187/20176 [00:10<00:22, 621.97it/s]"
     ]
    },
    {
     "name": "stderr",
     "output_type": "stream",
     "text": [
      "\r",
      "4-echo monoexponential:  31%|███       | 6250/20176 [00:10<00:23, 602.38it/s]"
     ]
    },
    {
     "name": "stderr",
     "output_type": "stream",
     "text": [
      "\r",
      "4-echo monoexponential:  31%|███▏      | 6311/20176 [00:10<00:23, 597.98it/s]"
     ]
    },
    {
     "name": "stderr",
     "output_type": "stream",
     "text": [
      "\r",
      "4-echo monoexponential:  32%|███▏      | 6373/20176 [00:10<00:22, 603.19it/s]"
     ]
    },
    {
     "name": "stderr",
     "output_type": "stream",
     "text": [
      "\r",
      "4-echo monoexponential:  32%|███▏      | 6435/20176 [00:10<00:22, 607.77it/s]"
     ]
    },
    {
     "name": "stderr",
     "output_type": "stream",
     "text": [
      "\r",
      "4-echo monoexponential:  32%|███▏      | 6502/20176 [00:10<00:21, 623.65it/s]"
     ]
    },
    {
     "name": "stderr",
     "output_type": "stream",
     "text": [
      "\r",
      "4-echo monoexponential:  33%|███▎      | 6567/20176 [00:10<00:21, 629.17it/s]"
     ]
    },
    {
     "name": "stderr",
     "output_type": "stream",
     "text": [
      "\r",
      "4-echo monoexponential:  33%|███▎      | 6632/20176 [00:10<00:21, 632.68it/s]"
     ]
    },
    {
     "name": "stderr",
     "output_type": "stream",
     "text": [
      "\r",
      "4-echo monoexponential:  33%|███▎      | 6696/20176 [00:10<00:21, 634.43it/s]"
     ]
    },
    {
     "name": "stderr",
     "output_type": "stream",
     "text": [
      "\r",
      "4-echo monoexponential:  34%|███▎      | 6760/20176 [00:10<00:21, 633.20it/s]"
     ]
    },
    {
     "name": "stderr",
     "output_type": "stream",
     "text": [
      "\r",
      "4-echo monoexponential:  34%|███▍      | 6824/20176 [00:11<00:21, 634.79it/s]"
     ]
    },
    {
     "name": "stderr",
     "output_type": "stream",
     "text": [
      "\r",
      "4-echo monoexponential:  34%|███▍      | 6888/20176 [00:11<00:21, 632.00it/s]"
     ]
    },
    {
     "name": "stderr",
     "output_type": "stream",
     "text": [
      "\r",
      "4-echo monoexponential:  34%|███▍      | 6952/20176 [00:11<00:21, 617.56it/s]"
     ]
    },
    {
     "name": "stderr",
     "output_type": "stream",
     "text": [
      "\r",
      "4-echo monoexponential:  35%|███▍      | 7014/20176 [00:11<00:22, 597.13it/s]"
     ]
    },
    {
     "name": "stderr",
     "output_type": "stream",
     "text": [
      "\r",
      "4-echo monoexponential:  35%|███▌      | 7077/20176 [00:11<00:21, 604.80it/s]"
     ]
    },
    {
     "name": "stderr",
     "output_type": "stream",
     "text": [
      "\r",
      "4-echo monoexponential:  35%|███▌      | 7140/20176 [00:11<00:21, 610.78it/s]"
     ]
    },
    {
     "name": "stderr",
     "output_type": "stream",
     "text": [
      "\r",
      "4-echo monoexponential:  36%|███▌      | 7202/20176 [00:11<00:21, 605.87it/s]"
     ]
    },
    {
     "name": "stderr",
     "output_type": "stream",
     "text": [
      "\r",
      "4-echo monoexponential:  36%|███▌      | 7267/20176 [00:11<00:20, 617.16it/s]"
     ]
    },
    {
     "name": "stderr",
     "output_type": "stream",
     "text": [
      "\r",
      "4-echo monoexponential:  36%|███▋      | 7334/20176 [00:11<00:20, 630.62it/s]"
     ]
    },
    {
     "name": "stderr",
     "output_type": "stream",
     "text": [
      "\r",
      "4-echo monoexponential:  37%|███▋      | 7399/20176 [00:12<00:20, 635.45it/s]"
     ]
    },
    {
     "name": "stderr",
     "output_type": "stream",
     "text": [
      "\r",
      "4-echo monoexponential:  37%|███▋      | 7463/20176 [00:12<00:20, 624.62it/s]"
     ]
    },
    {
     "name": "stderr",
     "output_type": "stream",
     "text": [
      "\r",
      "4-echo monoexponential:  37%|███▋      | 7526/20176 [00:12<00:20, 624.40it/s]"
     ]
    },
    {
     "name": "stderr",
     "output_type": "stream",
     "text": [
      "\r",
      "4-echo monoexponential:  38%|███▊      | 7591/20176 [00:12<00:19, 630.42it/s]"
     ]
    },
    {
     "name": "stderr",
     "output_type": "stream",
     "text": [
      "\r",
      "4-echo monoexponential:  38%|███▊      | 7656/20176 [00:12<00:19, 635.89it/s]"
     ]
    },
    {
     "name": "stderr",
     "output_type": "stream",
     "text": [
      "\r",
      "4-echo monoexponential:  38%|███▊      | 7720/20176 [00:12<00:19, 624.78it/s]"
     ]
    },
    {
     "name": "stderr",
     "output_type": "stream",
     "text": [
      "\r",
      "4-echo monoexponential:  39%|███▊      | 7783/20176 [00:12<00:20, 602.96it/s]"
     ]
    },
    {
     "name": "stderr",
     "output_type": "stream",
     "text": [
      "\r",
      "4-echo monoexponential:  39%|███▉      | 7844/20176 [00:12<00:20, 603.99it/s]"
     ]
    },
    {
     "name": "stderr",
     "output_type": "stream",
     "text": [
      "\r",
      "4-echo monoexponential:  39%|███▉      | 7905/20176 [00:12<00:20, 602.70it/s]"
     ]
    },
    {
     "name": "stderr",
     "output_type": "stream",
     "text": [
      "\r",
      "4-echo monoexponential:  40%|███▉      | 7970/20176 [00:12<00:19, 614.30it/s]"
     ]
    },
    {
     "name": "stderr",
     "output_type": "stream",
     "text": [
      "\r",
      "4-echo monoexponential:  40%|███▉      | 8032/20176 [00:13<00:20, 606.44it/s]"
     ]
    },
    {
     "name": "stderr",
     "output_type": "stream",
     "text": [
      "\r",
      "4-echo monoexponential:  40%|████      | 8099/20176 [00:13<00:19, 622.88it/s]"
     ]
    },
    {
     "name": "stderr",
     "output_type": "stream",
     "text": [
      "\r",
      "4-echo monoexponential:  40%|████      | 8164/20176 [00:13<00:19, 630.39it/s]"
     ]
    },
    {
     "name": "stderr",
     "output_type": "stream",
     "text": [
      "\r",
      "4-echo monoexponential:  41%|████      | 8228/20176 [00:13<00:18, 631.68it/s]"
     ]
    },
    {
     "name": "stderr",
     "output_type": "stream",
     "text": [
      "\r",
      "4-echo monoexponential:  41%|████      | 8293/20176 [00:13<00:18, 636.41it/s]"
     ]
    },
    {
     "name": "stderr",
     "output_type": "stream",
     "text": [
      "\r",
      "4-echo monoexponential:  41%|████▏     | 8358/20176 [00:13<00:18, 639.06it/s]"
     ]
    },
    {
     "name": "stderr",
     "output_type": "stream",
     "text": [
      "\r",
      "4-echo monoexponential:  42%|████▏     | 8422/20176 [00:13<00:18, 625.00it/s]"
     ]
    },
    {
     "name": "stderr",
     "output_type": "stream",
     "text": [
      "\r",
      "4-echo monoexponential:  42%|████▏     | 8487/20176 [00:13<00:18, 631.96it/s]"
     ]
    },
    {
     "name": "stderr",
     "output_type": "stream",
     "text": [
      "\r",
      "4-echo monoexponential:  42%|████▏     | 8551/20176 [00:13<00:18, 616.42it/s]"
     ]
    },
    {
     "name": "stderr",
     "output_type": "stream",
     "text": [
      "\r",
      "4-echo monoexponential:  43%|████▎     | 8613/20176 [00:13<00:18, 608.86it/s]"
     ]
    },
    {
     "name": "stderr",
     "output_type": "stream",
     "text": [
      "\r",
      "4-echo monoexponential:  43%|████▎     | 8674/20176 [00:14<00:18, 606.25it/s]"
     ]
    },
    {
     "name": "stderr",
     "output_type": "stream",
     "text": [
      "\r",
      "4-echo monoexponential:  43%|████▎     | 8735/20176 [00:14<00:18, 602.49it/s]"
     ]
    },
    {
     "name": "stderr",
     "output_type": "stream",
     "text": [
      "\r",
      "4-echo monoexponential:  44%|████▎     | 8799/20176 [00:14<00:18, 613.22it/s]"
     ]
    },
    {
     "name": "stderr",
     "output_type": "stream",
     "text": [
      "\r",
      "4-echo monoexponential:  44%|████▍     | 8863/20176 [00:14<00:18, 618.11it/s]"
     ]
    },
    {
     "name": "stderr",
     "output_type": "stream",
     "text": [
      "\r",
      "4-echo monoexponential:  44%|████▍     | 8925/20176 [00:14<00:18, 618.19it/s]"
     ]
    },
    {
     "name": "stderr",
     "output_type": "stream",
     "text": [
      "\r",
      "4-echo monoexponential:  45%|████▍     | 8989/20176 [00:14<00:17, 623.18it/s]"
     ]
    },
    {
     "name": "stderr",
     "output_type": "stream",
     "text": [
      "\r",
      "4-echo monoexponential:  45%|████▍     | 9052/20176 [00:14<00:17, 622.67it/s]"
     ]
    },
    {
     "name": "stderr",
     "output_type": "stream",
     "text": [
      "\r",
      "4-echo monoexponential:  45%|████▌     | 9116/20176 [00:14<00:17, 625.47it/s]"
     ]
    },
    {
     "name": "stderr",
     "output_type": "stream",
     "text": [
      "\r",
      "4-echo monoexponential:  46%|████▌     | 9184/20176 [00:14<00:17, 640.51it/s]"
     ]
    },
    {
     "name": "stderr",
     "output_type": "stream",
     "text": [
      "\r",
      "4-echo monoexponential:  46%|████▌     | 9249/20176 [00:14<00:16, 643.05it/s]"
     ]
    },
    {
     "name": "stderr",
     "output_type": "stream",
     "text": [
      "\r",
      "4-echo monoexponential:  46%|████▌     | 9314/20176 [00:15<00:16, 642.93it/s]"
     ]
    },
    {
     "name": "stderr",
     "output_type": "stream",
     "text": [
      "\r",
      "4-echo monoexponential:  46%|████▋     | 9379/20176 [00:15<00:17, 619.28it/s]"
     ]
    },
    {
     "name": "stderr",
     "output_type": "stream",
     "text": [
      "\r",
      "4-echo monoexponential:  47%|████▋     | 9443/20176 [00:15<00:17, 623.46it/s]"
     ]
    },
    {
     "name": "stderr",
     "output_type": "stream",
     "text": [
      "\r",
      "4-echo monoexponential:  47%|████▋     | 9506/20176 [00:15<00:17, 612.03it/s]"
     ]
    },
    {
     "name": "stderr",
     "output_type": "stream",
     "text": [
      "\r",
      "4-echo monoexponential:  47%|████▋     | 9568/20176 [00:15<00:17, 612.21it/s]"
     ]
    },
    {
     "name": "stderr",
     "output_type": "stream",
     "text": [
      "\r",
      "4-echo monoexponential:  48%|████▊     | 9632/20176 [00:15<00:17, 618.34it/s]"
     ]
    },
    {
     "name": "stderr",
     "output_type": "stream",
     "text": [
      "\r",
      "4-echo monoexponential:  48%|████▊     | 9694/20176 [00:15<00:17, 611.48it/s]"
     ]
    },
    {
     "name": "stderr",
     "output_type": "stream",
     "text": [
      "\r",
      "4-echo monoexponential:  48%|████▊     | 9758/20176 [00:15<00:16, 619.26it/s]"
     ]
    },
    {
     "name": "stderr",
     "output_type": "stream",
     "text": [
      "\r",
      "4-echo monoexponential:  49%|████▊     | 9820/20176 [00:15<00:16, 619.00it/s]"
     ]
    },
    {
     "name": "stderr",
     "output_type": "stream",
     "text": [
      "\r",
      "4-echo monoexponential:  49%|████▉     | 9885/20176 [00:16<00:16, 627.72it/s]"
     ]
    },
    {
     "name": "stderr",
     "output_type": "stream",
     "text": [
      "\r",
      "4-echo monoexponential:  49%|████▉     | 9950/20176 [00:16<00:16, 633.94it/s]"
     ]
    },
    {
     "name": "stderr",
     "output_type": "stream",
     "text": [
      "\r",
      "4-echo monoexponential:  50%|████▉     | 10018/20176 [00:16<00:15, 646.37it/s]"
     ]
    },
    {
     "name": "stderr",
     "output_type": "stream",
     "text": [
      "\r",
      "4-echo monoexponential:  50%|████▉     | 10083/20176 [00:16<00:15, 642.04it/s]"
     ]
    },
    {
     "name": "stderr",
     "output_type": "stream",
     "text": [
      "\r",
      "4-echo monoexponential:  50%|█████     | 10148/20176 [00:16<00:15, 633.71it/s]"
     ]
    },
    {
     "name": "stderr",
     "output_type": "stream",
     "text": [
      "\r",
      "4-echo monoexponential:  51%|█████     | 10212/20176 [00:16<00:16, 609.02it/s]"
     ]
    },
    {
     "name": "stderr",
     "output_type": "stream",
     "text": [
      "\r",
      "4-echo monoexponential:  51%|█████     | 10275/20176 [00:16<00:16, 613.26it/s]"
     ]
    },
    {
     "name": "stderr",
     "output_type": "stream",
     "text": [
      "\r",
      "4-echo monoexponential:  51%|█████     | 10337/20176 [00:16<00:16, 609.94it/s]"
     ]
    },
    {
     "name": "stderr",
     "output_type": "stream",
     "text": [
      "\r",
      "4-echo monoexponential:  52%|█████▏    | 10400/20176 [00:16<00:15, 613.80it/s]"
     ]
    },
    {
     "name": "stderr",
     "output_type": "stream",
     "text": [
      "\r",
      "4-echo monoexponential:  52%|█████▏    | 10463/20176 [00:16<00:15, 616.57it/s]"
     ]
    },
    {
     "name": "stderr",
     "output_type": "stream",
     "text": [
      "\r",
      "4-echo monoexponential:  52%|█████▏    | 10528/20176 [00:17<00:15, 623.97it/s]"
     ]
    },
    {
     "name": "stderr",
     "output_type": "stream",
     "text": [
      "\r",
      "4-echo monoexponential:  53%|█████▎    | 10595/20176 [00:17<00:15, 635.34it/s]"
     ]
    },
    {
     "name": "stderr",
     "output_type": "stream",
     "text": [
      "\r",
      "4-echo monoexponential:  53%|█████▎    | 10659/20176 [00:17<00:15, 619.14it/s]"
     ]
    },
    {
     "name": "stderr",
     "output_type": "stream",
     "text": [
      "\r",
      "4-echo monoexponential:  53%|█████▎    | 10725/20176 [00:17<00:15, 629.02it/s]"
     ]
    },
    {
     "name": "stderr",
     "output_type": "stream",
     "text": [
      "\r",
      "4-echo monoexponential:  53%|█████▎    | 10790/20176 [00:17<00:14, 631.83it/s]"
     ]
    },
    {
     "name": "stderr",
     "output_type": "stream",
     "text": [
      "\r",
      "4-echo monoexponential:  54%|█████▍    | 10854/20176 [00:17<00:14, 632.27it/s]"
     ]
    },
    {
     "name": "stderr",
     "output_type": "stream",
     "text": [
      "\r",
      "4-echo monoexponential:  54%|█████▍    | 10918/20176 [00:17<00:14, 632.43it/s]"
     ]
    },
    {
     "name": "stderr",
     "output_type": "stream",
     "text": [
      "\r",
      "4-echo monoexponential:  54%|█████▍    | 10982/20176 [00:17<00:15, 608.35it/s]"
     ]
    },
    {
     "name": "stderr",
     "output_type": "stream",
     "text": [
      "\r",
      "4-echo monoexponential:  55%|█████▍    | 11044/20176 [00:17<00:15, 602.53it/s]"
     ]
    },
    {
     "name": "stderr",
     "output_type": "stream",
     "text": [
      "\r",
      "4-echo monoexponential:  55%|█████▌    | 11105/20176 [00:17<00:15, 600.55it/s]"
     ]
    },
    {
     "name": "stderr",
     "output_type": "stream",
     "text": [
      "\r",
      "4-echo monoexponential:  55%|█████▌    | 11167/20176 [00:18<00:14, 604.87it/s]"
     ]
    },
    {
     "name": "stderr",
     "output_type": "stream",
     "text": [
      "\r",
      "4-echo monoexponential:  56%|█████▌    | 11237/20176 [00:18<00:14, 629.55it/s]"
     ]
    },
    {
     "name": "stderr",
     "output_type": "stream",
     "text": [
      "\r",
      "4-echo monoexponential:  56%|█████▌    | 11301/20176 [00:18<00:14, 630.71it/s]"
     ]
    },
    {
     "name": "stderr",
     "output_type": "stream",
     "text": [
      "\r",
      "4-echo monoexponential:  56%|█████▋    | 11365/20176 [00:18<00:13, 632.05it/s]"
     ]
    },
    {
     "name": "stderr",
     "output_type": "stream",
     "text": [
      "\r",
      "4-echo monoexponential:  57%|█████▋    | 11429/20176 [00:18<00:13, 631.55it/s]"
     ]
    },
    {
     "name": "stderr",
     "output_type": "stream",
     "text": [
      "\r",
      "4-echo monoexponential:  57%|█████▋    | 11495/20176 [00:18<00:13, 639.27it/s]"
     ]
    },
    {
     "name": "stderr",
     "output_type": "stream",
     "text": [
      "\r",
      "4-echo monoexponential:  57%|█████▋    | 11559/20176 [00:18<00:13, 636.07it/s]"
     ]
    },
    {
     "name": "stderr",
     "output_type": "stream",
     "text": [
      "\r",
      "4-echo monoexponential:  58%|█████▊    | 11625/20176 [00:18<00:13, 640.35it/s]"
     ]
    },
    {
     "name": "stderr",
     "output_type": "stream",
     "text": [
      "\r",
      "4-echo monoexponential:  58%|█████▊    | 11691/20176 [00:18<00:13, 644.06it/s]"
     ]
    },
    {
     "name": "stderr",
     "output_type": "stream",
     "text": [
      "\r",
      "4-echo monoexponential:  58%|█████▊    | 11756/20176 [00:19<00:14, 599.78it/s]"
     ]
    },
    {
     "name": "stderr",
     "output_type": "stream",
     "text": [
      "\r",
      "4-echo monoexponential:  59%|█████▊    | 11817/20176 [00:19<00:14, 586.60it/s]"
     ]
    },
    {
     "name": "stderr",
     "output_type": "stream",
     "text": [
      "\r",
      "4-echo monoexponential:  59%|█████▉    | 11879/20176 [00:19<00:13, 593.48it/s]"
     ]
    },
    {
     "name": "stderr",
     "output_type": "stream",
     "text": [
      "\r",
      "4-echo monoexponential:  59%|█████▉    | 11943/20176 [00:19<00:13, 604.82it/s]"
     ]
    },
    {
     "name": "stderr",
     "output_type": "stream",
     "text": [
      "\r",
      "4-echo monoexponential:  60%|█████▉    | 12006/20176 [00:19<00:13, 609.17it/s]"
     ]
    },
    {
     "name": "stderr",
     "output_type": "stream",
     "text": [
      "\r",
      "4-echo monoexponential:  60%|█████▉    | 12069/20176 [00:19<00:13, 612.74it/s]"
     ]
    },
    {
     "name": "stderr",
     "output_type": "stream",
     "text": [
      "\r",
      "4-echo monoexponential:  60%|██████    | 12135/20176 [00:19<00:12, 622.43it/s]"
     ]
    },
    {
     "name": "stderr",
     "output_type": "stream",
     "text": [
      "\r",
      "4-echo monoexponential:  60%|██████    | 12198/20176 [00:19<00:12, 623.78it/s]"
     ]
    },
    {
     "name": "stderr",
     "output_type": "stream",
     "text": [
      "\r",
      "4-echo monoexponential:  61%|██████    | 12264/20176 [00:19<00:12, 633.22it/s]"
     ]
    },
    {
     "name": "stderr",
     "output_type": "stream",
     "text": [
      "\r",
      "4-echo monoexponential:  61%|██████    | 12330/20176 [00:19<00:12, 640.06it/s]"
     ]
    },
    {
     "name": "stderr",
     "output_type": "stream",
     "text": [
      "\r",
      "4-echo monoexponential:  61%|██████▏   | 12395/20176 [00:20<00:12, 639.91it/s]"
     ]
    },
    {
     "name": "stderr",
     "output_type": "stream",
     "text": [
      "\r",
      "4-echo monoexponential:  62%|██████▏   | 12460/20176 [00:20<00:12, 640.33it/s]"
     ]
    },
    {
     "name": "stderr",
     "output_type": "stream",
     "text": [
      "\r",
      "4-echo monoexponential:  62%|██████▏   | 12525/20176 [00:20<00:12, 633.12it/s]"
     ]
    },
    {
     "name": "stderr",
     "output_type": "stream",
     "text": [
      "\r",
      "4-echo monoexponential:  62%|██████▏   | 12589/20176 [00:20<00:12, 594.88it/s]"
     ]
    },
    {
     "name": "stderr",
     "output_type": "stream",
     "text": [
      "\r",
      "4-echo monoexponential:  63%|██████▎   | 12653/20176 [00:20<00:12, 605.36it/s]"
     ]
    },
    {
     "name": "stderr",
     "output_type": "stream",
     "text": [
      "\r",
      "4-echo monoexponential:  63%|██████▎   | 12717/20176 [00:20<00:12, 615.14it/s]"
     ]
    },
    {
     "name": "stderr",
     "output_type": "stream",
     "text": [
      "\r",
      "4-echo monoexponential:  63%|██████▎   | 12782/20176 [00:20<00:11, 623.33it/s]"
     ]
    },
    {
     "name": "stderr",
     "output_type": "stream",
     "text": [
      "\r",
      "4-echo monoexponential:  64%|██████▎   | 12848/20176 [00:20<00:11, 632.12it/s]"
     ]
    },
    {
     "name": "stderr",
     "output_type": "stream",
     "text": [
      "\r",
      "4-echo monoexponential:  64%|██████▍   | 12915/20176 [00:20<00:11, 641.33it/s]"
     ]
    },
    {
     "name": "stderr",
     "output_type": "stream",
     "text": [
      "\r",
      "4-echo monoexponential:  64%|██████▍   | 12980/20176 [00:20<00:11, 638.55it/s]"
     ]
    },
    {
     "name": "stderr",
     "output_type": "stream",
     "text": [
      "\r",
      "4-echo monoexponential:  65%|██████▍   | 13046/20176 [00:21<00:11, 644.18it/s]"
     ]
    },
    {
     "name": "stderr",
     "output_type": "stream",
     "text": [
      "\r",
      "4-echo monoexponential:  65%|██████▍   | 13111/20176 [00:21<00:11, 642.14it/s]"
     ]
    },
    {
     "name": "stderr",
     "output_type": "stream",
     "text": [
      "\r",
      "4-echo monoexponential:  65%|██████▌   | 13176/20176 [00:21<00:11, 635.74it/s]"
     ]
    },
    {
     "name": "stderr",
     "output_type": "stream",
     "text": [
      "\r",
      "4-echo monoexponential:  66%|██████▌   | 13240/20176 [00:21<00:10, 636.42it/s]"
     ]
    },
    {
     "name": "stderr",
     "output_type": "stream",
     "text": [
      "\r",
      "4-echo monoexponential:  66%|██████▌   | 13304/20176 [00:21<00:10, 627.96it/s]"
     ]
    },
    {
     "name": "stderr",
     "output_type": "stream",
     "text": [
      "\r",
      "4-echo monoexponential:  66%|██████▋   | 13367/20176 [00:21<00:11, 600.50it/s]"
     ]
    },
    {
     "name": "stderr",
     "output_type": "stream",
     "text": [
      "\r",
      "4-echo monoexponential:  67%|██████▋   | 13431/20176 [00:21<00:11, 611.80it/s]"
     ]
    },
    {
     "name": "stderr",
     "output_type": "stream",
     "text": [
      "\r",
      "4-echo monoexponential:  67%|██████▋   | 13493/20176 [00:21<00:11, 603.91it/s]"
     ]
    },
    {
     "name": "stderr",
     "output_type": "stream",
     "text": [
      "\r",
      "4-echo monoexponential:  67%|██████▋   | 13554/20176 [00:21<00:10, 605.12it/s]"
     ]
    },
    {
     "name": "stderr",
     "output_type": "stream",
     "text": [
      "\r",
      "4-echo monoexponential:  68%|██████▊   | 13619/20176 [00:22<00:10, 616.46it/s]"
     ]
    },
    {
     "name": "stderr",
     "output_type": "stream",
     "text": [
      "\r",
      "4-echo monoexponential:  68%|██████▊   | 13685/20176 [00:22<00:10, 627.29it/s]"
     ]
    },
    {
     "name": "stderr",
     "output_type": "stream",
     "text": [
      "\r",
      "4-echo monoexponential:  68%|██████▊   | 13751/20176 [00:22<00:10, 634.60it/s]"
     ]
    },
    {
     "name": "stderr",
     "output_type": "stream",
     "text": [
      "\r",
      "4-echo monoexponential:  68%|██████▊   | 13815/20176 [00:22<00:10, 625.85it/s]"
     ]
    },
    {
     "name": "stderr",
     "output_type": "stream",
     "text": [
      "\r",
      "4-echo monoexponential:  69%|██████▉   | 13880/20176 [00:22<00:09, 631.51it/s]"
     ]
    },
    {
     "name": "stderr",
     "output_type": "stream",
     "text": [
      "\r",
      "4-echo monoexponential:  69%|██████▉   | 13944/20176 [00:22<00:09, 631.86it/s]"
     ]
    },
    {
     "name": "stderr",
     "output_type": "stream",
     "text": [
      "\r",
      "4-echo monoexponential:  69%|██████▉   | 14009/20176 [00:22<00:09, 636.01it/s]"
     ]
    },
    {
     "name": "stderr",
     "output_type": "stream",
     "text": [
      "\r",
      "4-echo monoexponential:  70%|██████▉   | 14073/20176 [00:22<00:09, 630.99it/s]"
     ]
    },
    {
     "name": "stderr",
     "output_type": "stream",
     "text": [
      "\r",
      "4-echo monoexponential:  70%|███████   | 14137/20176 [00:22<00:09, 606.96it/s]"
     ]
    },
    {
     "name": "stderr",
     "output_type": "stream",
     "text": [
      "\r",
      "4-echo monoexponential:  70%|███████   | 14198/20176 [00:22<00:09, 605.50it/s]"
     ]
    },
    {
     "name": "stderr",
     "output_type": "stream",
     "text": [
      "\r",
      "4-echo monoexponential:  71%|███████   | 14259/20176 [00:23<00:09, 606.64it/s]"
     ]
    },
    {
     "name": "stderr",
     "output_type": "stream",
     "text": [
      "\r",
      "4-echo monoexponential:  71%|███████   | 14323/20176 [00:23<00:09, 616.39it/s]"
     ]
    },
    {
     "name": "stderr",
     "output_type": "stream",
     "text": [
      "\r",
      "4-echo monoexponential:  71%|███████▏  | 14388/20176 [00:23<00:09, 624.27it/s]"
     ]
    },
    {
     "name": "stderr",
     "output_type": "stream",
     "text": [
      "\r",
      "4-echo monoexponential:  72%|███████▏  | 14451/20176 [00:23<00:09, 618.47it/s]"
     ]
    },
    {
     "name": "stderr",
     "output_type": "stream",
     "text": [
      "\r",
      "4-echo monoexponential:  72%|███████▏  | 14516/20176 [00:23<00:09, 627.65it/s]"
     ]
    },
    {
     "name": "stderr",
     "output_type": "stream",
     "text": [
      "\r",
      "4-echo monoexponential:  72%|███████▏  | 14582/20176 [00:23<00:08, 635.37it/s]"
     ]
    },
    {
     "name": "stderr",
     "output_type": "stream",
     "text": [
      "\r",
      "4-echo monoexponential:  73%|███████▎  | 14646/20176 [00:23<00:08, 636.59it/s]"
     ]
    },
    {
     "name": "stderr",
     "output_type": "stream",
     "text": [
      "\r",
      "4-echo monoexponential:  73%|███████▎  | 14710/20176 [00:23<00:08, 623.02it/s]"
     ]
    },
    {
     "name": "stderr",
     "output_type": "stream",
     "text": [
      "\r",
      "4-echo monoexponential:  73%|███████▎  | 14773/20176 [00:23<00:08, 623.46it/s]"
     ]
    },
    {
     "name": "stderr",
     "output_type": "stream",
     "text": [
      "\r",
      "4-echo monoexponential:  74%|███████▎  | 14836/20176 [00:23<00:08, 619.54it/s]"
     ]
    },
    {
     "name": "stderr",
     "output_type": "stream",
     "text": [
      "\r",
      "4-echo monoexponential:  74%|███████▍  | 14898/20176 [00:24<00:08, 603.30it/s]"
     ]
    },
    {
     "name": "stderr",
     "output_type": "stream",
     "text": [
      "\r",
      "4-echo monoexponential:  74%|███████▍  | 14959/20176 [00:24<00:08, 603.38it/s]"
     ]
    },
    {
     "name": "stderr",
     "output_type": "stream",
     "text": [
      "\r",
      "4-echo monoexponential:  74%|███████▍  | 15025/20176 [00:24<00:08, 617.40it/s]"
     ]
    },
    {
     "name": "stderr",
     "output_type": "stream",
     "text": [
      "\r",
      "4-echo monoexponential:  75%|███████▍  | 15087/20176 [00:24<00:08, 616.52it/s]"
     ]
    },
    {
     "name": "stderr",
     "output_type": "stream",
     "text": [
      "\r",
      "4-echo monoexponential:  75%|███████▌  | 15153/20176 [00:24<00:07, 629.07it/s]"
     ]
    },
    {
     "name": "stderr",
     "output_type": "stream",
     "text": [
      "\r",
      "4-echo monoexponential:  75%|███████▌  | 15216/20176 [00:24<00:07, 625.57it/s]"
     ]
    },
    {
     "name": "stderr",
     "output_type": "stream",
     "text": [
      "\r",
      "4-echo monoexponential:  76%|███████▌  | 15281/20176 [00:24<00:07, 631.44it/s]"
     ]
    },
    {
     "name": "stderr",
     "output_type": "stream",
     "text": [
      "\r",
      "4-echo monoexponential:  76%|███████▌  | 15346/20176 [00:24<00:07, 636.70it/s]"
     ]
    },
    {
     "name": "stderr",
     "output_type": "stream",
     "text": [
      "\r",
      "4-echo monoexponential:  76%|███████▋  | 15410/20176 [00:24<00:07, 636.28it/s]"
     ]
    },
    {
     "name": "stderr",
     "output_type": "stream",
     "text": [
      "\r",
      "4-echo monoexponential:  77%|███████▋  | 15474/20176 [00:24<00:07, 635.53it/s]"
     ]
    },
    {
     "name": "stderr",
     "output_type": "stream",
     "text": [
      "\r",
      "4-echo monoexponential:  77%|███████▋  | 15538/20176 [00:25<00:07, 633.95it/s]"
     ]
    },
    {
     "name": "stderr",
     "output_type": "stream",
     "text": [
      "\r",
      "4-echo monoexponential:  77%|███████▋  | 15602/20176 [00:25<00:07, 607.65it/s]"
     ]
    },
    {
     "name": "stderr",
     "output_type": "stream",
     "text": [
      "\r",
      "4-echo monoexponential:  78%|███████▊  | 15666/20176 [00:25<00:07, 615.02it/s]"
     ]
    },
    {
     "name": "stderr",
     "output_type": "stream",
     "text": [
      "\r",
      "4-echo monoexponential:  78%|███████▊  | 15730/20176 [00:25<00:07, 620.80it/s]"
     ]
    },
    {
     "name": "stderr",
     "output_type": "stream",
     "text": [
      "\r",
      "4-echo monoexponential:  78%|███████▊  | 15793/20176 [00:25<00:07, 603.61it/s]"
     ]
    },
    {
     "name": "stderr",
     "output_type": "stream",
     "text": [
      "\r",
      "4-echo monoexponential:  79%|███████▊  | 15854/20176 [00:25<00:07, 604.06it/s]"
     ]
    },
    {
     "name": "stderr",
     "output_type": "stream",
     "text": [
      "\r",
      "4-echo monoexponential:  79%|███████▉  | 15920/20176 [00:25<00:06, 619.05it/s]"
     ]
    },
    {
     "name": "stderr",
     "output_type": "stream",
     "text": [
      "\r",
      "4-echo monoexponential:  79%|███████▉  | 15985/20176 [00:25<00:06, 627.00it/s]"
     ]
    },
    {
     "name": "stderr",
     "output_type": "stream",
     "text": [
      "\r",
      "4-echo monoexponential:  80%|███████▉  | 16051/20176 [00:25<00:06, 636.48it/s]"
     ]
    },
    {
     "name": "stderr",
     "output_type": "stream",
     "text": [
      "\r",
      "4-echo monoexponential:  80%|███████▉  | 16116/20176 [00:26<00:06, 638.86it/s]"
     ]
    },
    {
     "name": "stderr",
     "output_type": "stream",
     "text": [
      "\r",
      "4-echo monoexponential:  80%|████████  | 16180/20176 [00:26<00:06, 630.82it/s]"
     ]
    },
    {
     "name": "stderr",
     "output_type": "stream",
     "text": [
      "\r",
      "4-echo monoexponential:  81%|████████  | 16244/20176 [00:26<00:06, 632.20it/s]"
     ]
    },
    {
     "name": "stderr",
     "output_type": "stream",
     "text": [
      "\r",
      "4-echo monoexponential:  81%|████████  | 16308/20176 [00:26<00:06, 611.97it/s]"
     ]
    },
    {
     "name": "stderr",
     "output_type": "stream",
     "text": [
      "\r",
      "4-echo monoexponential:  81%|████████  | 16370/20176 [00:26<00:06, 599.48it/s]"
     ]
    },
    {
     "name": "stderr",
     "output_type": "stream",
     "text": [
      "\r",
      "4-echo monoexponential:  81%|████████▏ | 16431/20176 [00:26<00:06, 597.68it/s]"
     ]
    },
    {
     "name": "stderr",
     "output_type": "stream",
     "text": [
      "\r",
      "4-echo monoexponential:  82%|████████▏ | 16491/20176 [00:26<00:06, 595.30it/s]"
     ]
    },
    {
     "name": "stderr",
     "output_type": "stream",
     "text": [
      "\r",
      "4-echo monoexponential:  82%|████████▏ | 16553/20176 [00:26<00:06, 600.29it/s]"
     ]
    },
    {
     "name": "stderr",
     "output_type": "stream",
     "text": [
      "\r",
      "4-echo monoexponential:  82%|████████▏ | 16618/20176 [00:26<00:05, 612.51it/s]"
     ]
    },
    {
     "name": "stderr",
     "output_type": "stream",
     "text": [
      "\r",
      "4-echo monoexponential:  83%|████████▎ | 16682/20176 [00:26<00:05, 619.63it/s]"
     ]
    },
    {
     "name": "stderr",
     "output_type": "stream",
     "text": [
      "\r",
      "4-echo monoexponential:  83%|████████▎ | 16750/20176 [00:27<00:05, 636.94it/s]"
     ]
    },
    {
     "name": "stderr",
     "output_type": "stream",
     "text": [
      "\r",
      "4-echo monoexponential:  83%|████████▎ | 16814/20176 [00:27<00:05, 634.60it/s]"
     ]
    },
    {
     "name": "stderr",
     "output_type": "stream",
     "text": [
      "\r",
      "4-echo monoexponential:  84%|████████▎ | 16878/20176 [00:27<00:05, 629.59it/s]"
     ]
    },
    {
     "name": "stderr",
     "output_type": "stream",
     "text": [
      "\r",
      "4-echo monoexponential:  84%|████████▍ | 16941/20176 [00:27<00:05, 626.80it/s]"
     ]
    },
    {
     "name": "stderr",
     "output_type": "stream",
     "text": [
      "\r",
      "4-echo monoexponential:  84%|████████▍ | 17004/20176 [00:27<00:05, 602.66it/s]"
     ]
    },
    {
     "name": "stderr",
     "output_type": "stream",
     "text": [
      "\r",
      "4-echo monoexponential:  85%|████████▍ | 17065/20176 [00:27<00:05, 598.94it/s]"
     ]
    },
    {
     "name": "stderr",
     "output_type": "stream",
     "text": [
      "\r",
      "4-echo monoexponential:  85%|████████▍ | 17127/20176 [00:27<00:05, 604.76it/s]"
     ]
    },
    {
     "name": "stderr",
     "output_type": "stream",
     "text": [
      "\r",
      "4-echo monoexponential:  85%|████████▌ | 17188/20176 [00:27<00:05, 595.11it/s]"
     ]
    },
    {
     "name": "stderr",
     "output_type": "stream",
     "text": [
      "\r",
      "4-echo monoexponential:  86%|████████▌ | 17251/20176 [00:27<00:04, 600.96it/s]"
     ]
    },
    {
     "name": "stderr",
     "output_type": "stream",
     "text": [
      "\r",
      "4-echo monoexponential:  86%|████████▌ | 17313/20176 [00:27<00:04, 604.26it/s]"
     ]
    },
    {
     "name": "stderr",
     "output_type": "stream",
     "text": [
      "\r",
      "4-echo monoexponential:  86%|████████▌ | 17379/20176 [00:28<00:04, 618.46it/s]"
     ]
    },
    {
     "name": "stderr",
     "output_type": "stream",
     "text": [
      "\r",
      "4-echo monoexponential:  86%|████████▋ | 17443/20176 [00:28<00:04, 622.90it/s]"
     ]
    },
    {
     "name": "stderr",
     "output_type": "stream",
     "text": [
      "\r",
      "4-echo monoexponential:  87%|████████▋ | 17506/20176 [00:28<00:04, 619.24it/s]"
     ]
    },
    {
     "name": "stderr",
     "output_type": "stream",
     "text": [
      "\r",
      "4-echo monoexponential:  87%|████████▋ | 17569/20176 [00:28<00:04, 621.87it/s]"
     ]
    },
    {
     "name": "stderr",
     "output_type": "stream",
     "text": [
      "\r",
      "4-echo monoexponential:  87%|████████▋ | 17632/20176 [00:28<00:04, 603.85it/s]"
     ]
    },
    {
     "name": "stderr",
     "output_type": "stream",
     "text": [
      "\r",
      "4-echo monoexponential:  88%|████████▊ | 17693/20176 [00:28<00:04, 589.21it/s]"
     ]
    },
    {
     "name": "stderr",
     "output_type": "stream",
     "text": [
      "\r",
      "4-echo monoexponential:  88%|████████▊ | 17754/20176 [00:28<00:04, 593.72it/s]"
     ]
    },
    {
     "name": "stderr",
     "output_type": "stream",
     "text": [
      "\r",
      "4-echo monoexponential:  88%|████████▊ | 17815/20176 [00:28<00:03, 598.38it/s]"
     ]
    },
    {
     "name": "stderr",
     "output_type": "stream",
     "text": [
      "\r",
      "4-echo monoexponential:  89%|████████▊ | 17877/20176 [00:28<00:03, 601.78it/s]"
     ]
    },
    {
     "name": "stderr",
     "output_type": "stream",
     "text": [
      "\r",
      "4-echo monoexponential:  89%|████████▉ | 17942/20176 [00:29<00:03, 614.88it/s]"
     ]
    },
    {
     "name": "stderr",
     "output_type": "stream",
     "text": [
      "\r",
      "4-echo monoexponential:  89%|████████▉ | 18009/20176 [00:29<00:03, 629.22it/s]"
     ]
    },
    {
     "name": "stderr",
     "output_type": "stream",
     "text": [
      "\r",
      "4-echo monoexponential:  90%|████████▉ | 18074/20176 [00:29<00:03, 633.09it/s]"
     ]
    },
    {
     "name": "stderr",
     "output_type": "stream",
     "text": [
      "\r",
      "4-echo monoexponential:  90%|████████▉ | 18138/20176 [00:29<00:03, 629.14it/s]"
     ]
    },
    {
     "name": "stderr",
     "output_type": "stream",
     "text": [
      "\r",
      "4-echo monoexponential:  90%|█████████ | 18201/20176 [00:29<00:03, 615.07it/s]"
     ]
    },
    {
     "name": "stderr",
     "output_type": "stream",
     "text": [
      "\r",
      "4-echo monoexponential:  91%|█████████ | 18263/20176 [00:29<00:03, 591.71it/s]"
     ]
    },
    {
     "name": "stderr",
     "output_type": "stream",
     "text": [
      "\r",
      "4-echo monoexponential:  91%|█████████ | 18323/20176 [00:29<00:03, 590.95it/s]"
     ]
    },
    {
     "name": "stderr",
     "output_type": "stream",
     "text": [
      "\r",
      "4-echo monoexponential:  91%|█████████ | 18383/20176 [00:29<00:03, 583.46it/s]"
     ]
    },
    {
     "name": "stderr",
     "output_type": "stream",
     "text": [
      "\r",
      "4-echo monoexponential:  91%|█████████▏| 18444/20176 [00:29<00:02, 589.30it/s]"
     ]
    },
    {
     "name": "stderr",
     "output_type": "stream",
     "text": [
      "\r",
      "4-echo monoexponential:  92%|█████████▏| 18507/20176 [00:29<00:02, 599.64it/s]"
     ]
    },
    {
     "name": "stderr",
     "output_type": "stream",
     "text": [
      "\r",
      "4-echo monoexponential:  92%|█████████▏| 18569/20176 [00:30<00:02, 604.92it/s]"
     ]
    },
    {
     "name": "stderr",
     "output_type": "stream",
     "text": [
      "\r",
      "4-echo monoexponential:  92%|█████████▏| 18633/20176 [00:30<00:02, 615.23it/s]"
     ]
    },
    {
     "name": "stderr",
     "output_type": "stream",
     "text": [
      "\r",
      "4-echo monoexponential:  93%|█████████▎| 18695/20176 [00:30<00:02, 605.40it/s]"
     ]
    },
    {
     "name": "stderr",
     "output_type": "stream",
     "text": [
      "\r",
      "4-echo monoexponential:  93%|█████████▎| 18756/20176 [00:30<00:02, 589.50it/s]"
     ]
    },
    {
     "name": "stderr",
     "output_type": "stream",
     "text": [
      "\r",
      "4-echo monoexponential:  93%|█████████▎| 18817/20176 [00:30<00:02, 594.71it/s]"
     ]
    },
    {
     "name": "stderr",
     "output_type": "stream",
     "text": [
      "\r",
      "4-echo monoexponential:  94%|█████████▎| 18877/20176 [00:30<00:02, 589.31it/s]"
     ]
    },
    {
     "name": "stderr",
     "output_type": "stream",
     "text": [
      "\r",
      "4-echo monoexponential:  94%|█████████▍| 18940/20176 [00:30<00:02, 598.22it/s]"
     ]
    },
    {
     "name": "stderr",
     "output_type": "stream",
     "text": [
      "\r",
      "4-echo monoexponential:  94%|█████████▍| 19006/20176 [00:30<00:01, 614.71it/s]"
     ]
    },
    {
     "name": "stderr",
     "output_type": "stream",
     "text": [
      "\r",
      "4-echo monoexponential:  95%|█████████▍| 19073/20176 [00:30<00:01, 628.94it/s]"
     ]
    },
    {
     "name": "stderr",
     "output_type": "stream",
     "text": [
      "\r",
      "4-echo monoexponential:  95%|█████████▍| 19137/20176 [00:30<00:01, 629.98it/s]"
     ]
    },
    {
     "name": "stderr",
     "output_type": "stream",
     "text": [
      "\r",
      "4-echo monoexponential:  95%|█████████▌| 19201/20176 [00:31<00:01, 601.04it/s]"
     ]
    },
    {
     "name": "stderr",
     "output_type": "stream",
     "text": [
      "\r",
      "4-echo monoexponential:  95%|█████████▌| 19262/20176 [00:31<00:01, 596.09it/s]"
     ]
    },
    {
     "name": "stderr",
     "output_type": "stream",
     "text": [
      "\r",
      "4-echo monoexponential:  96%|█████████▌| 19322/20176 [00:31<00:01, 590.13it/s]"
     ]
    },
    {
     "name": "stderr",
     "output_type": "stream",
     "text": [
      "\r",
      "4-echo monoexponential:  96%|█████████▌| 19382/20176 [00:31<00:01, 579.75it/s]"
     ]
    },
    {
     "name": "stderr",
     "output_type": "stream",
     "text": [
      "\r",
      "4-echo monoexponential:  96%|█████████▋| 19443/20176 [00:31<00:01, 586.76it/s]"
     ]
    },
    {
     "name": "stderr",
     "output_type": "stream",
     "text": [
      "\r",
      "4-echo monoexponential:  97%|█████████▋| 19507/20176 [00:31<00:01, 602.13it/s]"
     ]
    },
    {
     "name": "stderr",
     "output_type": "stream",
     "text": [
      "\r",
      "4-echo monoexponential:  97%|█████████▋| 19568/20176 [00:31<00:01, 594.33it/s]"
     ]
    },
    {
     "name": "stderr",
     "output_type": "stream",
     "text": [
      "\r",
      "4-echo monoexponential:  97%|█████████▋| 19630/20176 [00:31<00:00, 599.46it/s]"
     ]
    },
    {
     "name": "stderr",
     "output_type": "stream",
     "text": [
      "\r",
      "4-echo monoexponential:  98%|█████████▊| 19692/20176 [00:31<00:00, 604.20it/s]"
     ]
    },
    {
     "name": "stderr",
     "output_type": "stream",
     "text": [
      "\r",
      "4-echo monoexponential:  98%|█████████▊| 19760/20176 [00:32<00:00, 625.66it/s]"
     ]
    },
    {
     "name": "stderr",
     "output_type": "stream",
     "text": [
      "\r",
      "4-echo monoexponential:  98%|█████████▊| 19823/20176 [00:32<00:00, 621.81it/s]"
     ]
    },
    {
     "name": "stderr",
     "output_type": "stream",
     "text": [
      "\r",
      "4-echo monoexponential:  99%|█████████▊| 19886/20176 [00:32<00:00, 603.38it/s]"
     ]
    },
    {
     "name": "stderr",
     "output_type": "stream",
     "text": [
      "\r",
      "4-echo monoexponential:  99%|█████████▉| 19947/20176 [00:32<00:00, 597.82it/s]"
     ]
    },
    {
     "name": "stderr",
     "output_type": "stream",
     "text": [
      "\r",
      "4-echo monoexponential:  99%|█████████▉| 20007/20176 [00:32<00:00, 591.85it/s]"
     ]
    },
    {
     "name": "stderr",
     "output_type": "stream",
     "text": [
      "\r",
      "4-echo monoexponential:  99%|█████████▉| 20067/20176 [00:32<00:00, 592.75it/s]"
     ]
    },
    {
     "name": "stderr",
     "output_type": "stream",
     "text": [
      "\r",
      "4-echo monoexponential: 100%|█████████▉| 20127/20176 [00:32<00:00, 588.33it/s]"
     ]
    },
    {
     "name": "stderr",
     "output_type": "stream",
     "text": [
      "\r",
      "4-echo monoexponential: 100%|██████████| 20176/20176 [00:32<00:00, 616.49it/s]"
     ]
    },
    {
     "name": "stderr",
     "output_type": "stream",
     "text": [
      "\n"
     ]
    },
    {
     "name": "stderr",
     "output_type": "stream",
     "text": [
      "/opt/hostedtoolcache/Python/3.10.17/x64/lib/python3.10/site-packages/tedana/decay.py:541: RuntimeWarning: Mean of empty slice\n",
      "  rmse_map = np.nanmean(rmse, axis=1)\n"
     ]
    },
    {
     "name": "stderr",
     "output_type": "stream",
     "text": [
      "INFO     combine:make_optcom:192 Optimally combining data with voxel-wise T2* estimates\n"
     ]
    },
    {
     "name": "stderr",
     "output_type": "stream",
     "text": [
      "INFO     tedana:tedana_workflow:807 Writing optimally combined data set: /home/runner/work/multi-echo-data-analysis/multi-echo-data-analysis/data/multi-echo-data-analysis/tedana/sub-04570_task-rest_space-scanner_desc-optcom_bold.nii.gz\n"
     ]
    },
    {
     "name": "stderr",
     "output_type": "stream",
     "text": [
      "INFO     pca:tedpca:208 Computing PCA of optimally combined multi-echo data with selection criteria: mdl\n"
     ]
    },
    {
     "name": "stderr",
     "output_type": "stream",
     "text": [
      "/opt/hostedtoolcache/Python/3.10.17/x64/lib/python3.10/site-packages/tedana/io.py:893: UserWarning: Data array used to create a new image contains 64-bit ints. This is likely due to creating the array with numpy and passing `int` as the `dtype`. Many tools such as FSL and SPM cannot deal with int64 in Nifti images, so for compatibility the data has been converted to int32.\n",
      "  nii = new_img_like(ref_img, newdata, affine=affine, copy_header=copy_header)\n"
     ]
    },
    {
     "name": "stderr",
     "output_type": "stream",
     "text": [
      "INFO     pca:tedpca:248 Optimal number of components based on different criteria:\n"
     ]
    },
    {
     "name": "stderr",
     "output_type": "stream",
     "text": [
      "INFO     pca:tedpca:249 AIC: 77 | KIC: 67 | MDL: 43 | 90% varexp: 141 | 95% varexp: 186\n"
     ]
    },
    {
     "name": "stderr",
     "output_type": "stream",
     "text": [
      "INFO     pca:tedpca:254 Explained variance based on different criteria:\n"
     ]
    },
    {
     "name": "stderr",
     "output_type": "stream",
     "text": [
      "INFO     pca:tedpca:255 AIC: 0.816% | KIC: 0.801% | MDL: 0.757% | 90% varexp: 0.9% | 95% varexp: 0.95%\n"
     ]
    },
    {
     "name": "stderr",
     "output_type": "stream",
     "text": [
      "INFO     pca:tedpca:272 Plotting maPCA optimization curves\n"
     ]
    },
    {
     "name": "stderr",
     "output_type": "stream",
     "text": [
      "INFO     collect:generate_metrics:161 Calculating weight maps\n"
     ]
    },
    {
     "name": "stderr",
     "output_type": "stream",
     "text": [
      "INFO     collect:generate_metrics:173 Calculating parameter estimate maps for optimally combined data\n"
     ]
    },
    {
     "name": "stderr",
     "output_type": "stream",
     "text": [
      "INFO     collect:generate_metrics:193 Calculating z-statistic maps\n"
     ]
    },
    {
     "name": "stderr",
     "output_type": "stream",
     "text": [
      "INFO     collect:generate_metrics:203 Calculating F-statistic maps\n"
     ]
    },
    {
     "name": "stderr",
     "output_type": "stream",
     "text": [
      "INFO     collect:generate_metrics:228 Thresholding z-statistic maps\n"
     ]
    },
    {
     "name": "stderr",
     "output_type": "stream",
     "text": [
      "INFO     collect:generate_metrics:238 Calculating T2* F-statistic maps\n"
     ]
    },
    {
     "name": "stderr",
     "output_type": "stream",
     "text": [
      "INFO     collect:generate_metrics:248 Calculating S0 F-statistic maps\n"
     ]
    },
    {
     "name": "stderr",
     "output_type": "stream",
     "text": [
      "INFO     collect:generate_metrics:259 Counting significant voxels in T2* F-statistic maps\n"
     ]
    },
    {
     "name": "stderr",
     "output_type": "stream",
     "text": [
      "INFO     collect:generate_metrics:265 Counting significant voxels in S0 F-statistic maps\n"
     ]
    },
    {
     "name": "stderr",
     "output_type": "stream",
     "text": [
      "INFO     collect:generate_metrics:272 Thresholding optimal combination beta maps to match T2* F-statistic maps\n"
     ]
    },
    {
     "name": "stderr",
     "output_type": "stream",
     "text": [
      "INFO     collect:generate_metrics:281 Thresholding optimal combination beta maps to match S0 F-statistic maps\n"
     ]
    },
    {
     "name": "stderr",
     "output_type": "stream",
     "text": [
      "INFO     collect:generate_metrics:291 Calculating kappa and rho\n"
     ]
    },
    {
     "name": "stderr",
     "output_type": "stream",
     "text": [
      "INFO     collect:generate_metrics:300 Calculating variance explained\n"
     ]
    },
    {
     "name": "stderr",
     "output_type": "stream",
     "text": [
      "INFO     collect:generate_metrics:306 Calculating normalized variance explained\n"
     ]
    },
    {
     "name": "stderr",
     "output_type": "stream",
     "text": [
      "INFO     collect:generate_metrics:313 Calculating DSI between thresholded T2* F-statistic and optimal combination beta maps\n"
     ]
    },
    {
     "name": "stderr",
     "output_type": "stream",
     "text": [
      "INFO     collect:generate_metrics:323 Calculating DSI between thresholded S0 F-statistic and optimal combination beta maps\n"
     ]
    },
    {
     "name": "stderr",
     "output_type": "stream",
     "text": [
      "INFO     collect:generate_metrics:334 Calculating signal-noise t-statistics\n"
     ]
    },
    {
     "name": "stderr",
     "output_type": "stream",
     "text": [
      "/opt/hostedtoolcache/Python/3.10.17/x64/lib/python3.10/site-packages/scipy/_lib/deprecation.py:234: SmallSampleWarning: One or more sample arguments is too small; all returned values will be NaN. See documentation for sample size requirements.\n",
      "  return f(*args, **kwargs)\n",
      "INFO     collect:generate_metrics:368 Counting significant noise voxels from z-statistic maps\n"
     ]
    },
    {
     "name": "stderr",
     "output_type": "stream",
     "text": [
      "INFO     collect:generate_metrics:380 Calculating decision table score\n"
     ]
    },
    {
     "name": "stderr",
     "output_type": "stream",
     "text": [
      "INFO     pca:tedpca:407 Selected 43 components with 75.69% normalized variance explained using mdl dimensionality estimate\n"
     ]
    },
    {
     "name": "stderr",
     "output_type": "stream",
     "text": [
      "/opt/hostedtoolcache/Python/3.10.17/x64/lib/python3.10/site-packages/tedana/io.py:355: FutureWarning: Downcasting behavior in `replace` is deprecated and will be removed in a future version. To retain the old behavior, explicitly call `result.infer_objects(copy=False)`. To opt-in to the future behavior, set `pd.set_option('future.no_silent_downcasting', True)`\n",
      "  deblanked = data.replace(\"\", np.nan)\n"
     ]
    },
    {
     "name": "stderr",
     "output_type": "stream",
     "text": [
      "INFO     ica:f_ica:344 ICA with random seed 42 converged in 97 iterations\n"
     ]
    },
    {
     "name": "stderr",
     "output_type": "stream",
     "text": [
      "INFO     collect:generate_metrics:161 Calculating weight maps\n"
     ]
    },
    {
     "name": "stderr",
     "output_type": "stream",
     "text": [
      "INFO     collect:generate_metrics:173 Calculating parameter estimate maps for optimally combined data\n"
     ]
    },
    {
     "name": "stderr",
     "output_type": "stream",
     "text": [
      "INFO     collect:generate_metrics:193 Calculating z-statistic maps\n"
     ]
    },
    {
     "name": "stderr",
     "output_type": "stream",
     "text": [
      "INFO     collect:generate_metrics:203 Calculating F-statistic maps\n"
     ]
    },
    {
     "name": "stderr",
     "output_type": "stream",
     "text": [
      "INFO     collect:generate_metrics:228 Thresholding z-statistic maps\n"
     ]
    },
    {
     "name": "stderr",
     "output_type": "stream",
     "text": [
      "INFO     collect:generate_metrics:238 Calculating T2* F-statistic maps\n"
     ]
    },
    {
     "name": "stderr",
     "output_type": "stream",
     "text": [
      "INFO     collect:generate_metrics:248 Calculating S0 F-statistic maps\n"
     ]
    },
    {
     "name": "stderr",
     "output_type": "stream",
     "text": [
      "INFO     collect:generate_metrics:259 Counting significant voxels in T2* F-statistic maps\n"
     ]
    },
    {
     "name": "stderr",
     "output_type": "stream",
     "text": [
      "INFO     collect:generate_metrics:265 Counting significant voxels in S0 F-statistic maps\n"
     ]
    },
    {
     "name": "stderr",
     "output_type": "stream",
     "text": [
      "INFO     collect:generate_metrics:272 Thresholding optimal combination beta maps to match T2* F-statistic maps\n"
     ]
    },
    {
     "name": "stderr",
     "output_type": "stream",
     "text": [
      "INFO     collect:generate_metrics:281 Thresholding optimal combination beta maps to match S0 F-statistic maps\n"
     ]
    },
    {
     "name": "stderr",
     "output_type": "stream",
     "text": [
      "INFO     collect:generate_metrics:291 Calculating kappa and rho\n"
     ]
    },
    {
     "name": "stderr",
     "output_type": "stream",
     "text": [
      "INFO     collect:generate_metrics:300 Calculating variance explained\n"
     ]
    },
    {
     "name": "stderr",
     "output_type": "stream",
     "text": [
      "INFO     collect:generate_metrics:306 Calculating normalized variance explained\n"
     ]
    },
    {
     "name": "stderr",
     "output_type": "stream",
     "text": [
      "INFO     collect:generate_metrics:313 Calculating DSI between thresholded T2* F-statistic and optimal combination beta maps\n"
     ]
    },
    {
     "name": "stderr",
     "output_type": "stream",
     "text": [
      "INFO     collect:generate_metrics:323 Calculating DSI between thresholded S0 F-statistic and optimal combination beta maps\n"
     ]
    },
    {
     "name": "stderr",
     "output_type": "stream",
     "text": [
      "INFO     collect:generate_metrics:334 Calculating signal-noise t-statistics\n"
     ]
    },
    {
     "name": "stderr",
     "output_type": "stream",
     "text": [
      "/opt/hostedtoolcache/Python/3.10.17/x64/lib/python3.10/site-packages/scipy/_lib/deprecation.py:234: SmallSampleWarning: One or more sample arguments is too small; all returned values will be NaN. See documentation for sample size requirements.\n",
      "  return f(*args, **kwargs)\n",
      "INFO     collect:generate_metrics:368 Counting significant noise voxels from z-statistic maps\n"
     ]
    },
    {
     "name": "stderr",
     "output_type": "stream",
     "text": [
      "INFO     collect:generate_metrics:380 Calculating decision table score\n"
     ]
    },
    {
     "name": "stderr",
     "output_type": "stream",
     "text": [
      "INFO     tedana:tedana_workflow:879 Selecting components from ICA results\n"
     ]
    },
    {
     "name": "stderr",
     "output_type": "stream",
     "text": [
      "INFO     tedica:automatic_selection:54 Performing ICA component selection with tree: tedana_orig\n"
     ]
    },
    {
     "name": "stderr",
     "output_type": "stream",
     "text": [
      "INFO     selection_nodes:manual_classify:104 Step 0: manual_classify: Set all to unclassified \n"
     ]
    },
    {
     "name": "stderr",
     "output_type": "stream",
     "text": [
      "INFO     selection_utils:comptable_classification_changer:293 Step 0: No components fit criterion False to change classification\n"
     ]
    },
    {
     "name": "stderr",
     "output_type": "stream",
     "text": [
      "INFO     selection_utils:log_decision_tree_step:447 Step 0: manual_classify applied to 43 components. 43 True -> unclassified. 0 False -> nochange.\n"
     ]
    },
    {
     "name": "stderr",
     "output_type": "stream",
     "text": [
      "INFO     selection_nodes:manual_classify:136 Step 0: manual_classify component classification tags are cleared\n"
     ]
    },
    {
     "name": "stderr",
     "output_type": "stream",
     "text": [
      "INFO     selection_utils:log_classification_counts:492 Step 0: Total component classifications: 43 unclassified\n"
     ]
    },
    {
     "name": "stderr",
     "output_type": "stream",
     "text": [
      "INFO     selection_nodes:dec_left_op_right:389 Step 1: left_op_right: rejected if rho>kappa, else nochange\n"
     ]
    },
    {
     "name": "stderr",
     "output_type": "stream",
     "text": [
      "INFO     selection_utils:log_decision_tree_step:447 Step 1: left_op_right applied to 43 components. 3 True -> rejected. 40 False -> nochange.\n"
     ]
    },
    {
     "name": "stderr",
     "output_type": "stream",
     "text": [
      "INFO     selection_utils:log_classification_counts:492 Step 1: Total component classifications: 3 rejected, 40 unclassified\n"
     ]
    },
    {
     "name": "stderr",
     "output_type": "stream",
     "text": [
      "INFO     selection_nodes:dec_left_op_right:389 Step 2: left_op_right: rejected if ['countsigFS0>countsigFT2 & countsigFT2>0'], else nochange\n"
     ]
    },
    {
     "name": "stderr",
     "output_type": "stream",
     "text": [
      "INFO     selection_utils:log_decision_tree_step:447 Step 2: left_op_right applied to 43 components. 3 True -> rejected. 40 False -> nochange.\n"
     ]
    },
    {
     "name": "stderr",
     "output_type": "stream",
     "text": [
      "INFO     selection_utils:log_classification_counts:492 Step 2: Total component classifications: 5 rejected, 38 unclassified\n"
     ]
    },
    {
     "name": "stderr",
     "output_type": "stream",
     "text": [
      "INFO     selection_nodes:calc_median:653 Step 3: calc_median: Median(median_varex)\n"
     ]
    },
    {
     "name": "stderr",
     "output_type": "stream",
     "text": [
      "INFO     selection_utils:log_decision_tree_step:459 Step 3: calc_median calculated: median_varex=0.5747054016673987\n"
     ]
    },
    {
     "name": "stderr",
     "output_type": "stream",
     "text": [
      "INFO     selection_utils:log_classification_counts:492 Step 3: Total component classifications: 5 rejected, 38 unclassified\n"
     ]
    },
    {
     "name": "stderr",
     "output_type": "stream",
     "text": [
      "INFO     selection_nodes:dec_left_op_right:389 Step 4: left_op_right: rejected if ['dice_FS0>dice_FT2 & variance explained>0.57'], else nochange\n"
     ]
    },
    {
     "name": "stderr",
     "output_type": "stream",
     "text": [
      "INFO     selection_utils:log_decision_tree_step:447 Step 4: left_op_right applied to 43 components. 2 True -> rejected. 41 False -> nochange.\n"
     ]
    },
    {
     "name": "stderr",
     "output_type": "stream",
     "text": [
      "INFO     selection_utils:log_classification_counts:492 Step 4: Total component classifications: 5 rejected, 38 unclassified\n"
     ]
    },
    {
     "name": "stderr",
     "output_type": "stream",
     "text": [
      "INFO     selection_nodes:dec_left_op_right:389 Step 5: left_op_right: rejected if ['0>signal-noise_t & variance explained>0.57'], else nochange\n"
     ]
    },
    {
     "name": "stderr",
     "output_type": "stream",
     "text": [
      "INFO     selection_utils:log_decision_tree_step:447 Step 5: left_op_right applied to 43 components. 6 True -> rejected. 37 False -> nochange.\n"
     ]
    },
    {
     "name": "stderr",
     "output_type": "stream",
     "text": [
      "INFO     selection_utils:log_classification_counts:492 Step 5: Total component classifications: 9 rejected, 34 unclassified\n"
     ]
    },
    {
     "name": "stderr",
     "output_type": "stream",
     "text": [
      "INFO     selection_nodes:calc_kappa_elbow:767 Step 6: calc_kappa_elbow: Calc Kappa Elbow\n"
     ]
    },
    {
     "name": "stderr",
     "output_type": "stream",
     "text": [
      "INFO     selection_utils:kappa_elbow_kundu:664 Calculating kappa elbow based on min of all and nonsig components.\n"
     ]
    },
    {
     "name": "stderr",
     "output_type": "stream",
     "text": [
      "INFO     selection_utils:log_decision_tree_step:459 Step 6: calc_kappa_elbow calculated: kappa_elbow_kundu=23.02857731651016, kappa_allcomps_elbow=31.8194972371194, kappa_nonsig_elbow=23.02857731651016, varex_upper_p=1.648335840512714\n"
     ]
    },
    {
     "name": "stderr",
     "output_type": "stream",
     "text": [
      "INFO     selection_utils:log_classification_counts:492 Step 6: Total component classifications: 9 rejected, 34 unclassified\n"
     ]
    },
    {
     "name": "stderr",
     "output_type": "stream",
     "text": [
      "INFO     selection_nodes:dec_reclassify_high_var_comps:1140 Step 7: reclassify_high_var_comps: Change unclassified to unclass_highvar for the top couple of components with the highest jumps in variance\n"
     ]
    },
    {
     "name": "stderr",
     "output_type": "stream",
     "text": [
      "INFO     selection_utils:log_decision_tree_step:447 Step 7: reclassify_high_var_comps applied to 34 components. 3 True -> unclass_highvar. 31 False -> nochange.\n"
     ]
    },
    {
     "name": "stderr",
     "output_type": "stream",
     "text": [
      "INFO     selection_utils:log_classification_counts:492 Step 7: Total component classifications: 9 rejected, 3 unclass_highvar, 31 unclassified\n"
     ]
    },
    {
     "name": "stderr",
     "output_type": "stream",
     "text": [
      "INFO     selection_nodes:calc_rho_elbow:902 Step 8: calc_rho_elbow: Calc Rho Elbow\n"
     ]
    },
    {
     "name": "stderr",
     "output_type": "stream",
     "text": [
      "INFO     selection_utils:log_decision_tree_step:459 Step 8: calc_rho_elbow calculated: rho_elbow_kundu=17.080317435186576, rho_allcomps_elbow=21.351969895060595, rho_unclassified_elbow=19.761017924485195, elbow_f05=10.127964486013928\n"
     ]
    },
    {
     "name": "stderr",
     "output_type": "stream",
     "text": [
      "INFO     selection_utils:log_classification_counts:492 Step 8: Total component classifications: 9 rejected, 3 unclass_highvar, 31 unclassified\n"
     ]
    },
    {
     "name": "stderr",
     "output_type": "stream",
     "text": [
      "INFO     selection_nodes:dec_left_op_right:389 Step 9: left_op_right: provisionalaccept if kappa>=23.03, else nochange\n"
     ]
    },
    {
     "name": "stderr",
     "output_type": "stream",
     "text": [
      "INFO     selection_utils:log_decision_tree_step:447 Step 9: left_op_right applied to 31 components. 19 True -> provisionalaccept. 12 False -> nochange.\n"
     ]
    },
    {
     "name": "stderr",
     "output_type": "stream",
     "text": [
      "INFO     selection_utils:log_classification_counts:492 Step 9: Total component classifications: 19 provisionalaccept, 9 rejected, 3 unclass_highvar, 12 unclassified\n"
     ]
    },
    {
     "name": "stderr",
     "output_type": "stream",
     "text": [
      "INFO     selection_nodes:dec_left_op_right:389 Step 10: left_op_right: unclassified if rho>17.08, else nochange\n"
     ]
    },
    {
     "name": "stderr",
     "output_type": "stream",
     "text": [
      "INFO     selection_utils:log_decision_tree_step:447 Step 10: left_op_right applied to 19 components. 15 True -> unclassified. 4 False -> nochange.\n"
     ]
    },
    {
     "name": "stderr",
     "output_type": "stream",
     "text": [
      "INFO     selection_utils:log_classification_counts:492 Step 10: Total component classifications: 4 provisionalaccept, 9 rejected, 3 unclass_highvar, 27 unclassified\n"
     ]
    },
    {
     "name": "stderr",
     "output_type": "stream",
     "text": [
      "INFO     selection_nodes:dec_classification_doesnt_exist:1029 Step 11: classification_doesnt_exist: Change ['provisionalaccept', 'unclassified', 'unclass_highvar'] to accepted if less than 2 components with provisionalaccept exist\n"
     ]
    },
    {
     "name": "stderr",
     "output_type": "stream",
     "text": [
      "INFO     selection_nodes:dec_classification_doesnt_exist:1031 Step 11: classification_doesnt_exist If nothing is provisionally accepted by this point, then rerun ICA & selection. If max iterations of rerunning done, then accept everything not already rejected\n"
     ]
    },
    {
     "name": "stderr",
     "output_type": "stream",
     "text": [
      "INFO     selection_utils:log_decision_tree_step:447 Step 11: classification_doesnt_exist applied to 34 components. None True -> 0. None False -> 34.\n"
     ]
    },
    {
     "name": "stderr",
     "output_type": "stream",
     "text": [
      "INFO     selection_utils:log_classification_counts:492 Step 11: Total component classifications: 4 provisionalaccept, 9 rejected, 3 unclass_highvar, 27 unclassified\n"
     ]
    },
    {
     "name": "stderr",
     "output_type": "stream",
     "text": [
      "INFO     selection_nodes:calc_varex_thresh:1328 Step 12: calc_varex_thresh: Calc varex_upper_thresh, 90th percentile threshold\n"
     ]
    },
    {
     "name": "stderr",
     "output_type": "stream",
     "text": [
      "INFO     selection_utils:log_decision_tree_step:459 Step 12: calc_varex_thresh calculated: varex_upper_thresh=1.4342847303734003, upper_perc=90\n"
     ]
    },
    {
     "name": "stderr",
     "output_type": "stream",
     "text": [
      "INFO     selection_utils:log_classification_counts:492 Step 12: Total component classifications: 4 provisionalaccept, 9 rejected, 3 unclass_highvar, 27 unclassified\n"
     ]
    },
    {
     "name": "stderr",
     "output_type": "stream",
     "text": [
      "INFO     selection_nodes:calc_varex_thresh:1328 Step 13: calc_varex_thresh: Calc varex_lower_thresh, 25th percentile threshold\n"
     ]
    },
    {
     "name": "stderr",
     "output_type": "stream",
     "text": [
      "INFO     selection_utils:log_decision_tree_step:459 Step 13: calc_varex_thresh calculated: varex_lower_thresh=0.8014360629338839, lower_perc=25\n"
     ]
    },
    {
     "name": "stderr",
     "output_type": "stream",
     "text": [
      "INFO     selection_utils:log_classification_counts:492 Step 13: Total component classifications: 4 provisionalaccept, 9 rejected, 3 unclass_highvar, 27 unclassified\n"
     ]
    },
    {
     "name": "stderr",
     "output_type": "stream",
     "text": [
      "INFO     selection_utils:get_extend_factor:846 extend_factor=2.0, based on number of fMRI volumes\n"
     ]
    },
    {
     "name": "stderr",
     "output_type": "stream",
     "text": [
      "INFO     selection_utils:log_decision_tree_step:459 Step 14: calc_extend_factor calculated: extend_factor=2.0\n"
     ]
    },
    {
     "name": "stderr",
     "output_type": "stream",
     "text": [
      "INFO     selection_utils:log_classification_counts:492 Step 14: Total component classifications: 4 provisionalaccept, 9 rejected, 3 unclass_highvar, 27 unclassified\n"
     ]
    },
    {
     "name": "stderr",
     "output_type": "stream",
     "text": [
      "INFO     selection_utils:log_decision_tree_step:459 Step 15: calc_max_good_meanmetricrank calculated: max_good_meanmetricrank=8.0\n"
     ]
    },
    {
     "name": "stderr",
     "output_type": "stream",
     "text": [
      "INFO     selection_utils:log_classification_counts:492 Step 15: Total component classifications: 4 provisionalaccept, 9 rejected, 3 unclass_highvar, 27 unclassified\n"
     ]
    },
    {
     "name": "stderr",
     "output_type": "stream",
     "text": [
      "INFO     selection_utils:log_decision_tree_step:459 Step 16: calc_varex_kappa_ratio calculated: kappa_rate=16.78937289879752\n"
     ]
    },
    {
     "name": "stderr",
     "output_type": "stream",
     "text": [
      "INFO     selection_utils:log_classification_counts:492 Step 16: Total component classifications: 4 provisionalaccept, 9 rejected, 3 unclass_highvar, 27 unclassified\n"
     ]
    },
    {
     "name": "stderr",
     "output_type": "stream",
     "text": [
      "INFO     selection_nodes:dec_left_op_right:389 Step 17: left_op_right: rejected if ['d_table_score>8.0 & variance explained>2.0*1.43'], else nochange\n"
     ]
    },
    {
     "name": "stderr",
     "output_type": "stream",
     "text": [
      "INFO     selection_nodes:dec_left_op_right:391 Step 17: left_op_right If variance and d_table_scores are high, then reject\n"
     ]
    },
    {
     "name": "stderr",
     "output_type": "stream",
     "text": [
      "INFO     selection_utils:comptable_classification_changer:293 Step 17: No components fit criterion True to change classification\n"
     ]
    },
    {
     "name": "stderr",
     "output_type": "stream",
     "text": [
      "INFO     selection_utils:log_decision_tree_step:447 Step 17: left_op_right applied to 34 components. 0 True -> rejected. 34 False -> nochange.\n"
     ]
    },
    {
     "name": "stderr",
     "output_type": "stream",
     "text": [
      "INFO     selection_utils:log_classification_counts:492 Step 17: Total component classifications: 4 provisionalaccept, 9 rejected, 3 unclass_highvar, 27 unclassified\n"
     ]
    },
    {
     "name": "stderr",
     "output_type": "stream",
     "text": [
      "INFO     selection_nodes:dec_left_op_right:389 Step 18: left_op_right: accepted if ['d_table_score>8.0 & variance explained<=0.8 & kappa<=23.03'], else nochange\n"
     ]
    },
    {
     "name": "stderr",
     "output_type": "stream",
     "text": [
      "INFO     selection_nodes:dec_left_op_right:391 Step 18: left_op_right If low variance, accept even if bad kappa & d_table_scores\n"
     ]
    },
    {
     "name": "stderr",
     "output_type": "stream",
     "text": [
      "INFO     selection_utils:log_decision_tree_step:447 Step 18: left_op_right applied to 34 components. 13 True -> accepted. 21 False -> nochange.\n"
     ]
    },
    {
     "name": "stderr",
     "output_type": "stream",
     "text": [
      "INFO     selection_utils:log_classification_counts:492 Step 18: Total component classifications: 13 accepted, 4 provisionalaccept, 9 rejected, 3 unclass_highvar, 14 unclassified\n"
     ]
    },
    {
     "name": "stderr",
     "output_type": "stream",
     "text": [
      "INFO     selection_nodes:dec_classification_doesnt_exist:1029 Step 19: classification_doesnt_exist: Change ['provisionalaccept', 'unclassified', 'unclass_highvar'] to accepted if ['unclassified', 'unclass_highvar'] doesn't exist\n"
     ]
    },
    {
     "name": "stderr",
     "output_type": "stream",
     "text": [
      "INFO     selection_nodes:dec_classification_doesnt_exist:1031 Step 19: classification_doesnt_exist If nothing left is unclassified, then accept all\n"
     ]
    },
    {
     "name": "stderr",
     "output_type": "stream",
     "text": [
      "INFO     selection_utils:log_decision_tree_step:447 Step 19: classification_doesnt_exist applied to 21 components. None True -> 0. None False -> 21.\n"
     ]
    },
    {
     "name": "stderr",
     "output_type": "stream",
     "text": [
      "INFO     selection_utils:log_classification_counts:492 Step 19: Total component classifications: 13 accepted, 4 provisionalaccept, 9 rejected, 3 unclass_highvar, 14 unclassified\n"
     ]
    },
    {
     "name": "stderr",
     "output_type": "stream",
     "text": [
      "INFO     selection_nodes:calc_revised_meanmetricrank_guesses:1788 Step 20: calc_revised_meanmetricrank_guesses: Calc revised d_table_score & num accepted component guesses\n"
     ]
    },
    {
     "name": "stderr",
     "output_type": "stream",
     "text": [
      "INFO     selection_utils:log_decision_tree_step:459 Step 20: calc_revised_meanmetricrank_guesses calculated: num_acc_guess=12, conservative_guess=6.0, restrict_factor=2\n"
     ]
    },
    {
     "name": "stderr",
     "output_type": "stream",
     "text": [
      "INFO     selection_utils:log_classification_counts:492 Step 20: Total component classifications: 13 accepted, 4 provisionalaccept, 9 rejected, 3 unclass_highvar, 14 unclassified\n"
     ]
    },
    {
     "name": "stderr",
     "output_type": "stream",
     "text": [
      "INFO     selection_nodes:dec_left_op_right:389 Step 21: left_op_right: rejected if ['d_table_score_node20>6.0 & varex kappa ratio>2*2.0 & variance explained>2.0*1.43'], else nochange\n"
     ]
    },
    {
     "name": "stderr",
     "output_type": "stream",
     "text": [
      "INFO     selection_nodes:dec_left_op_right:391 Step 21: left_op_right Reject if a combination of kappa, variance, and other factors are ranked worse than others\n"
     ]
    },
    {
     "name": "stderr",
     "output_type": "stream",
     "text": [
      "INFO     selection_utils:comptable_classification_changer:293 Step 21: No components fit criterion True to change classification\n"
     ]
    },
    {
     "name": "stderr",
     "output_type": "stream",
     "text": [
      "INFO     selection_utils:log_decision_tree_step:447 Step 21: left_op_right applied to 21 components. 0 True -> rejected. 21 False -> nochange.\n"
     ]
    },
    {
     "name": "stderr",
     "output_type": "stream",
     "text": [
      "INFO     selection_utils:log_classification_counts:492 Step 21: Total component classifications: 13 accepted, 4 provisionalaccept, 9 rejected, 3 unclass_highvar, 14 unclassified\n"
     ]
    },
    {
     "name": "stderr",
     "output_type": "stream",
     "text": [
      "INFO     selection_nodes:dec_left_op_right:389 Step 22: left_op_right: rejected if ['d_table_score_node20>0.9*12 & variance explained>2.0*0.8'], else nochange\n"
     ]
    },
    {
     "name": "stderr",
     "output_type": "stream",
     "text": [
      "INFO     selection_nodes:dec_left_op_right:391 Step 22: left_op_right Reject if a combination of variance and ranks of other metrics are worse than others\n"
     ]
    },
    {
     "name": "stderr",
     "output_type": "stream",
     "text": [
      "INFO     selection_utils:comptable_classification_changer:293 Step 22: No components fit criterion True to change classification\n"
     ]
    },
    {
     "name": "stderr",
     "output_type": "stream",
     "text": [
      "INFO     selection_utils:log_decision_tree_step:447 Step 22: left_op_right applied to 21 components. 0 True -> rejected. 21 False -> nochange.\n"
     ]
    },
    {
     "name": "stderr",
     "output_type": "stream",
     "text": [
      "INFO     selection_utils:log_classification_counts:492 Step 22: Total component classifications: 13 accepted, 4 provisionalaccept, 9 rejected, 3 unclass_highvar, 14 unclassified\n"
     ]
    },
    {
     "name": "stderr",
     "output_type": "stream",
     "text": [
      "INFO     selection_nodes:calc_varex_thresh:1328 Step 23: calc_varex_thresh: Calc varex_new_lower_thresh, 25th percentile threshold\n"
     ]
    },
    {
     "name": "stderr",
     "output_type": "stream",
     "text": [
      "INFO     selection_utils:log_decision_tree_step:459 Step 23: calc_varex_thresh calculated: varex_new_lower_thresh=0.9324182511863153, new_lower_perc=25\n"
     ]
    },
    {
     "name": "stderr",
     "output_type": "stream",
     "text": [
      "INFO     selection_utils:log_classification_counts:492 Step 23: Total component classifications: 13 accepted, 4 provisionalaccept, 9 rejected, 3 unclass_highvar, 14 unclassified\n"
     ]
    },
    {
     "name": "stderr",
     "output_type": "stream",
     "text": [
      "INFO     selection_nodes:dec_left_op_right:389 Step 24: left_op_right: accepted if ['d_table_score_node20>12 & variance explained>0.93'], else nochange\n"
     ]
    },
    {
     "name": "stderr",
     "output_type": "stream",
     "text": [
      "INFO     selection_nodes:dec_left_op_right:391 Step 24: left_op_right Accept components with a bad d_table_score, but are at the higher end of the remaining variance so more cautious to not remove\n"
     ]
    },
    {
     "name": "stderr",
     "output_type": "stream",
     "text": [
      "INFO     selection_utils:log_decision_tree_step:447 Step 24: left_op_right applied to 21 components. 1 True -> accepted. 20 False -> nochange.\n"
     ]
    },
    {
     "name": "stderr",
     "output_type": "stream",
     "text": [
      "INFO     selection_utils:log_classification_counts:492 Step 24: Total component classifications: 14 accepted, 4 provisionalaccept, 9 rejected, 3 unclass_highvar, 13 unclassified\n"
     ]
    },
    {
     "name": "stderr",
     "output_type": "stream",
     "text": [
      "INFO     selection_nodes:dec_left_op_right:389 Step 25: left_op_right: accepted if ['kappa<=23.03 & variance explained>0.93'], else nochange\n"
     ]
    },
    {
     "name": "stderr",
     "output_type": "stream",
     "text": [
      "INFO     selection_nodes:dec_left_op_right:391 Step 25: left_op_right For not already rejected components, accept ones below the kappa elbow, but at the higher end of the remaining variance so more cautious to not remove\n"
     ]
    },
    {
     "name": "stderr",
     "output_type": "stream",
     "text": [
      "INFO     selection_utils:comptable_classification_changer:293 Step 25: No components fit criterion True to change classification\n"
     ]
    },
    {
     "name": "stderr",
     "output_type": "stream",
     "text": [
      "INFO     selection_utils:log_decision_tree_step:447 Step 25: left_op_right applied to 20 components. 0 True -> accepted. 20 False -> nochange.\n"
     ]
    },
    {
     "name": "stderr",
     "output_type": "stream",
     "text": [
      "INFO     selection_utils:log_classification_counts:492 Step 25: Total component classifications: 14 accepted, 4 provisionalaccept, 9 rejected, 3 unclass_highvar, 13 unclassified\n"
     ]
    },
    {
     "name": "stderr",
     "output_type": "stream",
     "text": [
      "INFO     selection_nodes:manual_classify:104 Step 26: manual_classify: Set ['provisionalaccept', 'unclassified', 'unclass_highvar'] to accepted \n"
     ]
    },
    {
     "name": "stderr",
     "output_type": "stream",
     "text": [
      "INFO     selection_nodes:manual_classify:106 Step 26: manual_classify Anything still provisional (accepted or rejected) or unclassified should be accepted\n"
     ]
    },
    {
     "name": "stderr",
     "output_type": "stream",
     "text": [
      "INFO     selection_utils:comptable_classification_changer:293 Step 26: No components fit criterion False to change classification\n"
     ]
    },
    {
     "name": "stderr",
     "output_type": "stream",
     "text": [
      "INFO     selection_utils:log_decision_tree_step:447 Step 26: manual_classify applied to 20 components. 20 True -> accepted. 0 False -> nochange.\n"
     ]
    },
    {
     "name": "stderr",
     "output_type": "stream",
     "text": [
      "INFO     selection_utils:log_classification_counts:492 Step 26: Total component classifications: 34 accepted, 9 rejected\n"
     ]
    },
    {
     "name": "stderr",
     "output_type": "stream",
     "text": [
      "INFO     io:denoise_ts:613 Variance explained by decomposition: 91.66%\n"
     ]
    },
    {
     "name": "stderr",
     "output_type": "stream",
     "text": [
      "INFO     io:write_split_ts:685 Writing high-Kappa time series: /home/runner/work/multi-echo-data-analysis/multi-echo-data-analysis/data/multi-echo-data-analysis/tedana/sub-04570_task-rest_space-scanner_desc-optcomAccepted_bold.nii.gz\n"
     ]
    },
    {
     "name": "stderr",
     "output_type": "stream",
     "text": [
      "INFO     io:write_split_ts:693 Writing low-Kappa time series: /home/runner/work/multi-echo-data-analysis/multi-echo-data-analysis/data/multi-echo-data-analysis/tedana/sub-04570_task-rest_space-scanner_desc-optcomRejected_bold.nii.gz\n"
     ]
    },
    {
     "name": "stderr",
     "output_type": "stream",
     "text": [
      "INFO     io:write_split_ts:700 Writing denoised time series: /home/runner/work/multi-echo-data-analysis/multi-echo-data-analysis/data/multi-echo-data-analysis/tedana/sub-04570_task-rest_space-scanner_desc-denoised_bold.nii.gz\n"
     ]
    },
    {
     "name": "stderr",
     "output_type": "stream",
     "text": [
      "INFO     io:writeresults:749 Writing full ICA coefficient feature set: /home/runner/work/multi-echo-data-analysis/multi-echo-data-analysis/data/multi-echo-data-analysis/tedana/sub-04570_task-rest_space-scanner_desc-ICA_components.nii.gz\n"
     ]
    },
    {
     "name": "stderr",
     "output_type": "stream",
     "text": [
      "INFO     io:writeresults:753 Writing denoised ICA coefficient feature set: /home/runner/work/multi-echo-data-analysis/multi-echo-data-analysis/data/multi-echo-data-analysis/tedana/sub-04570_task-rest_space-scanner_desc-ICAAccepted_components.nii.gz\n"
     ]
    },
    {
     "name": "stderr",
     "output_type": "stream",
     "text": [
      "INFO     io:writeresults:759 Writing Z-normalized spatial component maps: /home/runner/work/multi-echo-data-analysis/multi-echo-data-analysis/data/multi-echo-data-analysis/tedana/sub-04570_task-rest_space-scanner_desc-ICAAccepted_stat-z_components.nii.gz\n"
     ]
    },
    {
     "name": "stderr",
     "output_type": "stream",
     "text": [
      "INFO     gscontrol:minimum_image_regression:207 Performing minimum image regression to remove spatially-diffuse noise\n"
     ]
    },
    {
     "name": "stderr",
     "output_type": "stream",
     "text": [
      "WARNING  gscontrol:minimum_image_regression:219 Decision tree does not contain classification tags indicating low variance components (low variance, accept borderline).\n"
     ]
    },
    {
     "name": "stderr",
     "output_type": "stream",
     "text": [
      "INFO     io:writeresults_echoes:799 Writing Kappa-filtered echo #1 timeseries\n"
     ]
    },
    {
     "name": "stderr",
     "output_type": "stream",
     "text": [
      "INFO     io:denoise_ts:613 Variance explained by decomposition: 83.21%\n"
     ]
    },
    {
     "name": "stderr",
     "output_type": "stream",
     "text": [
      "INFO     io:write_split_ts:682 Writing high-Kappa time series: /home/runner/work/multi-echo-data-analysis/multi-echo-data-analysis/data/multi-echo-data-analysis/tedana/sub-04570_task-rest_space-scanner_echo-1_desc-Accepted_bold.nii.gz\n"
     ]
    },
    {
     "name": "stderr",
     "output_type": "stream",
     "text": [
      "INFO     io:write_split_ts:690 Writing low-Kappa time series: /home/runner/work/multi-echo-data-analysis/multi-echo-data-analysis/data/multi-echo-data-analysis/tedana/sub-04570_task-rest_space-scanner_echo-1_desc-Rejected_bold.nii.gz\n"
     ]
    },
    {
     "name": "stderr",
     "output_type": "stream",
     "text": [
      "INFO     io:write_split_ts:700 Writing denoised time series: /home/runner/work/multi-echo-data-analysis/multi-echo-data-analysis/data/multi-echo-data-analysis/tedana/sub-04570_task-rest_space-scanner_echo-1_desc-Denoised_bold.nii.gz\n"
     ]
    },
    {
     "name": "stderr",
     "output_type": "stream",
     "text": [
      "INFO     io:writeresults_echoes:799 Writing Kappa-filtered echo #2 timeseries\n"
     ]
    },
    {
     "name": "stderr",
     "output_type": "stream",
     "text": [
      "INFO     io:denoise_ts:613 Variance explained by decomposition: 84.82%\n"
     ]
    },
    {
     "name": "stderr",
     "output_type": "stream",
     "text": [
      "INFO     io:write_split_ts:682 Writing high-Kappa time series: /home/runner/work/multi-echo-data-analysis/multi-echo-data-analysis/data/multi-echo-data-analysis/tedana/sub-04570_task-rest_space-scanner_echo-2_desc-Accepted_bold.nii.gz\n"
     ]
    },
    {
     "name": "stderr",
     "output_type": "stream",
     "text": [
      "INFO     io:write_split_ts:690 Writing low-Kappa time series: /home/runner/work/multi-echo-data-analysis/multi-echo-data-analysis/data/multi-echo-data-analysis/tedana/sub-04570_task-rest_space-scanner_echo-2_desc-Rejected_bold.nii.gz\n"
     ]
    },
    {
     "name": "stderr",
     "output_type": "stream",
     "text": [
      "INFO     io:write_split_ts:700 Writing denoised time series: /home/runner/work/multi-echo-data-analysis/multi-echo-data-analysis/data/multi-echo-data-analysis/tedana/sub-04570_task-rest_space-scanner_echo-2_desc-Denoised_bold.nii.gz\n"
     ]
    },
    {
     "name": "stderr",
     "output_type": "stream",
     "text": [
      "INFO     io:writeresults_echoes:799 Writing Kappa-filtered echo #3 timeseries\n"
     ]
    },
    {
     "name": "stderr",
     "output_type": "stream",
     "text": [
      "INFO     io:denoise_ts:613 Variance explained by decomposition: 85.41%\n"
     ]
    },
    {
     "name": "stderr",
     "output_type": "stream",
     "text": [
      "INFO     io:write_split_ts:682 Writing high-Kappa time series: /home/runner/work/multi-echo-data-analysis/multi-echo-data-analysis/data/multi-echo-data-analysis/tedana/sub-04570_task-rest_space-scanner_echo-3_desc-Accepted_bold.nii.gz\n"
     ]
    },
    {
     "name": "stderr",
     "output_type": "stream",
     "text": [
      "INFO     io:write_split_ts:690 Writing low-Kappa time series: /home/runner/work/multi-echo-data-analysis/multi-echo-data-analysis/data/multi-echo-data-analysis/tedana/sub-04570_task-rest_space-scanner_echo-3_desc-Rejected_bold.nii.gz\n"
     ]
    },
    {
     "name": "stderr",
     "output_type": "stream",
     "text": [
      "INFO     io:write_split_ts:700 Writing denoised time series: /home/runner/work/multi-echo-data-analysis/multi-echo-data-analysis/data/multi-echo-data-analysis/tedana/sub-04570_task-rest_space-scanner_echo-3_desc-Denoised_bold.nii.gz\n"
     ]
    },
    {
     "name": "stderr",
     "output_type": "stream",
     "text": [
      "INFO     io:writeresults_echoes:799 Writing Kappa-filtered echo #4 timeseries\n"
     ]
    },
    {
     "name": "stderr",
     "output_type": "stream",
     "text": [
      "INFO     io:denoise_ts:613 Variance explained by decomposition: 85.34%\n"
     ]
    },
    {
     "name": "stderr",
     "output_type": "stream",
     "text": [
      "INFO     io:write_split_ts:682 Writing high-Kappa time series: /home/runner/work/multi-echo-data-analysis/multi-echo-data-analysis/data/multi-echo-data-analysis/tedana/sub-04570_task-rest_space-scanner_echo-4_desc-Accepted_bold.nii.gz\n"
     ]
    },
    {
     "name": "stderr",
     "output_type": "stream",
     "text": [
      "INFO     io:write_split_ts:690 Writing low-Kappa time series: /home/runner/work/multi-echo-data-analysis/multi-echo-data-analysis/data/multi-echo-data-analysis/tedana/sub-04570_task-rest_space-scanner_echo-4_desc-Rejected_bold.nii.gz\n"
     ]
    },
    {
     "name": "stderr",
     "output_type": "stream",
     "text": [
      "INFO     io:write_split_ts:700 Writing denoised time series: /home/runner/work/multi-echo-data-analysis/multi-echo-data-analysis/data/multi-echo-data-analysis/tedana/sub-04570_task-rest_space-scanner_echo-4_desc-Denoised_bold.nii.gz\n"
     ]
    },
    {
     "name": "stderr",
     "output_type": "stream",
     "text": [
      "INFO     tedana:tedana_workflow:1101 Making figures folder with static component maps and timecourse plots.\n"
     ]
    },
    {
     "name": "stderr",
     "output_type": "stream",
     "text": [
      "INFO     io:denoise_ts:613 Variance explained by decomposition: 91.66%\n"
     ]
    },
    {
     "name": "stderr",
     "output_type": "stream",
     "text": [
      "/opt/hostedtoolcache/Python/3.10.17/x64/lib/python3.10/site-packages/tedana/io.py:893: UserWarning: Data array used to create a new image contains 64-bit ints. This is likely due to creating the array with numpy and passing `int` as the `dtype`. Many tools such as FSL and SPM cannot deal with int64 in Nifti images, so for compatibility the data has been converted to int32.\n",
      "  nii = new_img_like(ref_img, newdata, affine=affine, copy_header=copy_header)\n"
     ]
    },
    {
     "name": "stderr",
     "output_type": "stream",
     "text": [
      "/opt/hostedtoolcache/Python/3.10.17/x64/lib/python3.10/site-packages/tedana/io.py:893: UserWarning: Data array used to create a new image contains 64-bit ints. This is likely due to creating the array with numpy and passing `int` as the `dtype`. Many tools such as FSL and SPM cannot deal with int64 in Nifti images, so for compatibility the data has been converted to int32.\n",
      "  nii = new_img_like(ref_img, newdata, affine=affine, copy_header=copy_header)\n"
     ]
    },
    {
     "name": "stderr",
     "output_type": "stream",
     "text": [
      "/opt/hostedtoolcache/Python/3.10.17/x64/lib/python3.10/site-packages/tedana/io.py:893: UserWarning: Data array used to create a new image contains 64-bit ints. This is likely due to creating the array with numpy and passing `int` as the `dtype`. Many tools such as FSL and SPM cannot deal with int64 in Nifti images, so for compatibility the data has been converted to int32.\n",
      "  nii = new_img_like(ref_img, newdata, affine=affine, copy_header=copy_header)\n"
     ]
    },
    {
     "name": "stderr",
     "output_type": "stream",
     "text": [
      "/opt/hostedtoolcache/Python/3.10.17/x64/lib/python3.10/site-packages/nilearn/plotting/img_plotting.py:1317: UserWarning: Non-finite values detected. These values will be replaced with zeros.\n",
      "  safe_get_data(stat_map_img, ensure_finite=True),\n"
     ]
    },
    {
     "name": "stderr",
     "output_type": "stream",
     "text": [
      "INFO     tedana:tedana_workflow:1139 Generating dynamic report\n"
     ]
    },
    {
     "name": "stderr",
     "output_type": "stream",
     "text": [
      "INFO     html_report:_update_template_bokeh:164 Checking for adaptive mask: sub-04570_task-rest_space-scanner_adaptive_mask.svg, exists: True\n"
     ]
    },
    {
     "name": "stderr",
     "output_type": "stream",
     "text": [
      "INFO     html_report:_update_template_bokeh:197 T2* files exist: True\n"
     ]
    },
    {
     "name": "stderr",
     "output_type": "stream",
     "text": [
      "INFO     html_report:_update_template_bokeh:198 S0 files exist: True\n"
     ]
    },
    {
     "name": "stderr",
     "output_type": "stream",
     "text": [
      "INFO     html_report:_update_template_bokeh:199 RMSE files exist: True\n"
     ]
    },
    {
     "name": "stderr",
     "output_type": "stream",
     "text": [
      "INFO     tedana:tedana_workflow:1142 Workflow completed\n"
     ]
    },
    {
     "name": "stderr",
     "output_type": "stream",
     "text": [
      "INFO     utils:log_newsletter_info:705 Don't forget to subscribe to the tedana newsletter for updates! This is a very low volume email list.\n"
     ]
    },
    {
     "name": "stderr",
     "output_type": "stream",
     "text": [
      "INFO     utils:log_newsletter_info:709 https://groups.google.com/g/tedana-newsletter\n"
     ]
    }
   ],
   "source": [
    "workflows.tedana_workflow(\n",
    "    data_files,\n",
    "    echo_times,\n",
    "    out_dir=out_dir,\n",
    "    mask=mask_file,\n",
    "    prefix=\"sub-04570_task-rest_space-scanner\",\n",
    "    fittype=\"curvefit\",\n",
    "    tedpca=\"mdl\",\n",
    "    verbose=True,\n",
    "    gscontrol=[\"mir\"],\n",
    ")"
   ]
  },
  {
   "cell_type": "markdown",
   "id": "4f0ee48e",
   "metadata": {},
   "source": [
    "The tedana workflow writes out a number of files."
   ]
  },
  {
   "cell_type": "code",
   "execution_count": 4,
   "id": "da024d2f",
   "metadata": {},
   "outputs": [
    {
     "name": "stdout",
     "output_type": "stream",
     "text": [
      "figures\n",
      "sub-04570_task-rest_space-scanner_S0map.nii.gz\n",
      "sub-04570_task-rest_space-scanner_T2starmap.nii.gz\n",
      "sub-04570_task-rest_space-scanner_dataset_description.json\n",
      "sub-04570_task-rest_space-scanner_desc-ICAAcceptedMIRDenoised_components.nii.gz\n",
      "sub-04570_task-rest_space-scanner_desc-ICAAccepted_components.nii.gz\n",
      "sub-04570_task-rest_space-scanner_desc-ICAAccepted_stat-z_components.nii.gz\n",
      "sub-04570_task-rest_space-scanner_desc-ICAAveragingWeights_components.nii.gz\n",
      "sub-04570_task-rest_space-scanner_desc-ICACrossComponent_metrics.json\n",
      "sub-04570_task-rest_space-scanner_desc-ICAMIRDenoised_mixing.tsv\n",
      "sub-04570_task-rest_space-scanner_desc-ICAS0_stat-F_statmap.nii.gz\n",
      "sub-04570_task-rest_space-scanner_desc-ICAT2_stat-F_statmap.nii.gz\n",
      "sub-04570_task-rest_space-scanner_desc-ICA_components.nii.gz\n",
      "sub-04570_task-rest_space-scanner_desc-ICA_decision_tree.json\n",
      "sub-04570_task-rest_space-scanner_desc-ICA_decomposition.json\n",
      "sub-04570_task-rest_space-scanner_desc-ICA_mixing.tsv\n",
      "sub-04570_task-rest_space-scanner_desc-ICA_stat-z_components.nii.gz\n",
      "sub-04570_task-rest_space-scanner_desc-ICA_status_table.tsv\n",
      "sub-04570_task-rest_space-scanner_desc-PCAAveragingWeights_components.nii.gz\n",
      "sub-04570_task-rest_space-scanner_desc-PCACrossComponent_metrics.json\n",
      "sub-04570_task-rest_space-scanner_desc-PCAS0_stat-F_statmap.nii.gz\n",
      "sub-04570_task-rest_space-scanner_desc-PCAT2_stat-F_statmap.nii.gz\n",
      "sub-04570_task-rest_space-scanner_desc-PCA_decomposition.json\n",
      "sub-04570_task-rest_space-scanner_desc-PCA_metrics.json\n",
      "sub-04570_task-rest_space-scanner_desc-PCA_metrics.tsv\n",
      "sub-04570_task-rest_space-scanner_desc-PCA_mixing.tsv\n",
      "sub-04570_task-rest_space-scanner_desc-PCA_stat-z_components.nii.gz\n",
      "sub-04570_task-rest_space-scanner_desc-T1likeEffect_min.nii.gz\n",
      "sub-04570_task-rest_space-scanner_desc-adaptiveGoodSignal_mask.nii.gz\n",
      "sub-04570_task-rest_space-scanner_desc-confounds_timeseries.tsv\n",
      "sub-04570_task-rest_space-scanner_desc-denoised_bold.nii.gz\n",
      "sub-04570_task-rest_space-scanner_desc-limited_S0map.nii.gz\n",
      "sub-04570_task-rest_space-scanner_desc-limited_T2starmap.nii.gz\n",
      "sub-04570_task-rest_space-scanner_desc-optcomAcceptedMIRDenoised_bold.nii.gz\n",
      "sub-04570_task-rest_space-scanner_desc-optcomAccepted_bold.nii.gz\n",
      "sub-04570_task-rest_space-scanner_desc-optcomMIRDenoised_bold.nii.gz\n",
      "sub-04570_task-rest_space-scanner_desc-optcomRejected_bold.nii.gz\n",
      "sub-04570_task-rest_space-scanner_desc-optcom_bold.nii.gz\n",
      "sub-04570_task-rest_space-scanner_desc-optcom_whitened_bold.nii.gz\n",
      "sub-04570_task-rest_space-scanner_desc-rmse_statmap.nii.gz\n",
      "sub-04570_task-rest_space-scanner_desc-tedana_metrics.json\n",
      "sub-04570_task-rest_space-scanner_desc-tedana_metrics.tsv\n",
      "sub-04570_task-rest_space-scanner_desc-tedana_registry.json\n",
      "sub-04570_task-rest_space-scanner_echo-1_desc-Accepted_bold.nii.gz\n",
      "sub-04570_task-rest_space-scanner_echo-1_desc-Denoised_bold.nii.gz\n",
      "sub-04570_task-rest_space-scanner_echo-1_desc-ICAS0ModelPredictions_components.nii.gz\n",
      "sub-04570_task-rest_space-scanner_echo-1_desc-ICAT2ModelPredictions_components.nii.gz\n",
      "sub-04570_task-rest_space-scanner_echo-1_desc-ICA_components.nii.gz\n",
      "sub-04570_task-rest_space-scanner_echo-1_desc-PCAS0ModelPredictions_components.nii.gz\n",
      "sub-04570_task-rest_space-scanner_echo-1_desc-PCAT2ModelPredictions_components.nii.gz\n",
      "sub-04570_task-rest_space-scanner_echo-1_desc-PCA_components.nii.gz\n",
      "sub-04570_task-rest_space-scanner_echo-1_desc-Rejected_bold.nii.gz\n",
      "sub-04570_task-rest_space-scanner_echo-2_desc-Accepted_bold.nii.gz\n",
      "sub-04570_task-rest_space-scanner_echo-2_desc-Denoised_bold.nii.gz\n",
      "sub-04570_task-rest_space-scanner_echo-2_desc-ICAS0ModelPredictions_components.nii.gz\n",
      "sub-04570_task-rest_space-scanner_echo-2_desc-ICAT2ModelPredictions_components.nii.gz\n",
      "sub-04570_task-rest_space-scanner_echo-2_desc-ICA_components.nii.gz\n",
      "sub-04570_task-rest_space-scanner_echo-2_desc-PCAS0ModelPredictions_components.nii.gz\n",
      "sub-04570_task-rest_space-scanner_echo-2_desc-PCAT2ModelPredictions_components.nii.gz\n",
      "sub-04570_task-rest_space-scanner_echo-2_desc-PCA_components.nii.gz\n",
      "sub-04570_task-rest_space-scanner_echo-2_desc-Rejected_bold.nii.gz\n",
      "sub-04570_task-rest_space-scanner_echo-3_desc-Accepted_bold.nii.gz\n",
      "sub-04570_task-rest_space-scanner_echo-3_desc-Denoised_bold.nii.gz\n",
      "sub-04570_task-rest_space-scanner_echo-3_desc-ICAS0ModelPredictions_components.nii.gz\n",
      "sub-04570_task-rest_space-scanner_echo-3_desc-ICAT2ModelPredictions_components.nii.gz\n",
      "sub-04570_task-rest_space-scanner_echo-3_desc-ICA_components.nii.gz\n",
      "sub-04570_task-rest_space-scanner_echo-3_desc-PCAS0ModelPredictions_components.nii.gz\n",
      "sub-04570_task-rest_space-scanner_echo-3_desc-PCAT2ModelPredictions_components.nii.gz\n",
      "sub-04570_task-rest_space-scanner_echo-3_desc-PCA_components.nii.gz\n",
      "sub-04570_task-rest_space-scanner_echo-3_desc-Rejected_bold.nii.gz\n",
      "sub-04570_task-rest_space-scanner_echo-4_desc-Accepted_bold.nii.gz\n",
      "sub-04570_task-rest_space-scanner_echo-4_desc-Denoised_bold.nii.gz\n",
      "sub-04570_task-rest_space-scanner_echo-4_desc-ICAS0ModelPredictions_components.nii.gz\n",
      "sub-04570_task-rest_space-scanner_echo-4_desc-ICAT2ModelPredictions_components.nii.gz\n",
      "sub-04570_task-rest_space-scanner_echo-4_desc-ICA_components.nii.gz\n",
      "sub-04570_task-rest_space-scanner_echo-4_desc-PCAS0ModelPredictions_components.nii.gz\n",
      "sub-04570_task-rest_space-scanner_echo-4_desc-PCAT2ModelPredictions_components.nii.gz\n",
      "sub-04570_task-rest_space-scanner_echo-4_desc-PCA_components.nii.gz\n",
      "sub-04570_task-rest_space-scanner_echo-4_desc-Rejected_bold.nii.gz\n",
      "sub-04570_task-rest_space-scanner_references.bib\n",
      "sub-04570_task-rest_space-scanner_report.txt\n",
      "sub-04570_task-rest_space-scanner_tedana_report.html\n",
      "tedana_2025-05-06T002412.tsv\n"
     ]
    }
   ],
   "source": [
    "out_files = sorted(glob(os.path.join(out_dir, \"*\")))\n",
    "out_files = [os.path.basename(f) for f in out_files]\n",
    "print(\"\\n\".join(out_files))"
   ]
  },
  {
   "cell_type": "code",
   "execution_count": 5,
   "id": "0de89167",
   "metadata": {},
   "outputs": [],
   "source": [
    "metrics = pd.read_table(\n",
    "    os.path.join(out_dir, \"sub-04570_task-rest_space-scanner_desc-tedana_metrics.tsv\")\n",
    ")"
   ]
  },
  {
   "cell_type": "code",
   "execution_count": 6,
   "id": "5854eb61",
   "metadata": {
    "tags": [
     "hide-input"
    ]
   },
   "outputs": [
    {
     "data": {
      "text/html": [
       "<style type=\"text/css\">\n",
       "#T_964ca_row0_col0, #T_964ca_row0_col1, #T_964ca_row0_col2, #T_964ca_row0_col3, #T_964ca_row0_col4, #T_964ca_row0_col5, #T_964ca_row0_col6, #T_964ca_row0_col7, #T_964ca_row0_col8, #T_964ca_row0_col9, #T_964ca_row0_col10, #T_964ca_row0_col11, #T_964ca_row0_col12, #T_964ca_row0_col13, #T_964ca_row0_col14, #T_964ca_row0_col15, #T_964ca_row0_col16, #T_964ca_row0_col17, #T_964ca_row0_col18, #T_964ca_row10_col0, #T_964ca_row10_col1, #T_964ca_row10_col2, #T_964ca_row10_col3, #T_964ca_row10_col4, #T_964ca_row10_col5, #T_964ca_row10_col6, #T_964ca_row10_col7, #T_964ca_row10_col8, #T_964ca_row10_col9, #T_964ca_row10_col10, #T_964ca_row10_col11, #T_964ca_row10_col12, #T_964ca_row10_col13, #T_964ca_row10_col14, #T_964ca_row10_col15, #T_964ca_row10_col16, #T_964ca_row10_col17, #T_964ca_row10_col18, #T_964ca_row13_col0, #T_964ca_row13_col1, #T_964ca_row13_col2, #T_964ca_row13_col3, #T_964ca_row13_col4, #T_964ca_row13_col5, #T_964ca_row13_col6, #T_964ca_row13_col7, #T_964ca_row13_col8, #T_964ca_row13_col9, #T_964ca_row13_col10, #T_964ca_row13_col11, #T_964ca_row13_col12, #T_964ca_row13_col13, #T_964ca_row13_col14, #T_964ca_row13_col15, #T_964ca_row13_col16, #T_964ca_row13_col17, #T_964ca_row13_col18, #T_964ca_row16_col0, #T_964ca_row16_col1, #T_964ca_row16_col2, #T_964ca_row16_col3, #T_964ca_row16_col4, #T_964ca_row16_col5, #T_964ca_row16_col6, #T_964ca_row16_col7, #T_964ca_row16_col8, #T_964ca_row16_col9, #T_964ca_row16_col10, #T_964ca_row16_col11, #T_964ca_row16_col12, #T_964ca_row16_col13, #T_964ca_row16_col14, #T_964ca_row16_col15, #T_964ca_row16_col16, #T_964ca_row16_col17, #T_964ca_row16_col18, #T_964ca_row18_col0, #T_964ca_row18_col1, #T_964ca_row18_col2, #T_964ca_row18_col3, #T_964ca_row18_col4, #T_964ca_row18_col5, #T_964ca_row18_col6, #T_964ca_row18_col7, #T_964ca_row18_col8, #T_964ca_row18_col9, #T_964ca_row18_col10, #T_964ca_row18_col11, #T_964ca_row18_col12, #T_964ca_row18_col13, #T_964ca_row18_col14, #T_964ca_row18_col15, #T_964ca_row18_col16, #T_964ca_row18_col17, #T_964ca_row18_col18, #T_964ca_row24_col0, #T_964ca_row24_col1, #T_964ca_row24_col2, #T_964ca_row24_col3, #T_964ca_row24_col4, #T_964ca_row24_col5, #T_964ca_row24_col6, #T_964ca_row24_col7, #T_964ca_row24_col8, #T_964ca_row24_col9, #T_964ca_row24_col10, #T_964ca_row24_col11, #T_964ca_row24_col12, #T_964ca_row24_col13, #T_964ca_row24_col14, #T_964ca_row24_col15, #T_964ca_row24_col16, #T_964ca_row24_col17, #T_964ca_row24_col18, #T_964ca_row26_col0, #T_964ca_row26_col1, #T_964ca_row26_col2, #T_964ca_row26_col3, #T_964ca_row26_col4, #T_964ca_row26_col5, #T_964ca_row26_col6, #T_964ca_row26_col7, #T_964ca_row26_col8, #T_964ca_row26_col9, #T_964ca_row26_col10, #T_964ca_row26_col11, #T_964ca_row26_col12, #T_964ca_row26_col13, #T_964ca_row26_col14, #T_964ca_row26_col15, #T_964ca_row26_col16, #T_964ca_row26_col17, #T_964ca_row26_col18, #T_964ca_row38_col0, #T_964ca_row38_col1, #T_964ca_row38_col2, #T_964ca_row38_col3, #T_964ca_row38_col4, #T_964ca_row38_col5, #T_964ca_row38_col6, #T_964ca_row38_col7, #T_964ca_row38_col8, #T_964ca_row38_col9, #T_964ca_row38_col10, #T_964ca_row38_col11, #T_964ca_row38_col12, #T_964ca_row38_col13, #T_964ca_row38_col14, #T_964ca_row38_col15, #T_964ca_row38_col16, #T_964ca_row38_col17, #T_964ca_row38_col18, #T_964ca_row41_col0, #T_964ca_row41_col1, #T_964ca_row41_col2, #T_964ca_row41_col3, #T_964ca_row41_col4, #T_964ca_row41_col5, #T_964ca_row41_col6, #T_964ca_row41_col7, #T_964ca_row41_col8, #T_964ca_row41_col9, #T_964ca_row41_col10, #T_964ca_row41_col11, #T_964ca_row41_col12, #T_964ca_row41_col13, #T_964ca_row41_col14, #T_964ca_row41_col15, #T_964ca_row41_col16, #T_964ca_row41_col17, #T_964ca_row41_col18 {\n",
       "  color: red;\n",
       "}\n",
       "</style>\n",
       "<table id=\"T_964ca\">\n",
       "  <thead>\n",
       "    <tr>\n",
       "      <th class=\"blank level0\" >&nbsp;</th>\n",
       "      <th id=\"T_964ca_level0_col0\" class=\"col_heading level0 col0\" >Component</th>\n",
       "      <th id=\"T_964ca_level0_col1\" class=\"col_heading level0 col1\" >kappa</th>\n",
       "      <th id=\"T_964ca_level0_col2\" class=\"col_heading level0 col2\" >rho</th>\n",
       "      <th id=\"T_964ca_level0_col3\" class=\"col_heading level0 col3\" >variance explained</th>\n",
       "      <th id=\"T_964ca_level0_col4\" class=\"col_heading level0 col4\" >normalized variance explained</th>\n",
       "      <th id=\"T_964ca_level0_col5\" class=\"col_heading level0 col5\" >countsigFT2</th>\n",
       "      <th id=\"T_964ca_level0_col6\" class=\"col_heading level0 col6\" >countsigFS0</th>\n",
       "      <th id=\"T_964ca_level0_col7\" class=\"col_heading level0 col7\" >dice_FT2</th>\n",
       "      <th id=\"T_964ca_level0_col8\" class=\"col_heading level0 col8\" >dice_FS0</th>\n",
       "      <th id=\"T_964ca_level0_col9\" class=\"col_heading level0 col9\" >countnoise</th>\n",
       "      <th id=\"T_964ca_level0_col10\" class=\"col_heading level0 col10\" >signal-noise_t</th>\n",
       "      <th id=\"T_964ca_level0_col11\" class=\"col_heading level0 col11\" >signal-noise_p</th>\n",
       "      <th id=\"T_964ca_level0_col12\" class=\"col_heading level0 col12\" >d_table_score</th>\n",
       "      <th id=\"T_964ca_level0_col13\" class=\"col_heading level0 col13\" >optimal sign</th>\n",
       "      <th id=\"T_964ca_level0_col14\" class=\"col_heading level0 col14\" >varex kappa ratio</th>\n",
       "      <th id=\"T_964ca_level0_col15\" class=\"col_heading level0 col15\" >d_table_score_node20</th>\n",
       "      <th id=\"T_964ca_level0_col16\" class=\"col_heading level0 col16\" >Var Exp of rejected to accepted</th>\n",
       "      <th id=\"T_964ca_level0_col17\" class=\"col_heading level0 col17\" >classification</th>\n",
       "      <th id=\"T_964ca_level0_col18\" class=\"col_heading level0 col18\" >classification_tags</th>\n",
       "    </tr>\n",
       "  </thead>\n",
       "  <tbody>\n",
       "    <tr>\n",
       "      <th id=\"T_964ca_level0_row0\" class=\"row_heading level0 row0\" >0</th>\n",
       "      <td id=\"T_964ca_row0_col0\" class=\"data row0 col0\" >ICA_00</td>\n",
       "      <td id=\"T_964ca_row0_col1\" class=\"data row0 col1\" >22.146228</td>\n",
       "      <td id=\"T_964ca_row0_col2\" class=\"data row0 col2\" >24.116454</td>\n",
       "      <td id=\"T_964ca_row0_col3\" class=\"data row0 col3\" >0.775255</td>\n",
       "      <td id=\"T_964ca_row0_col4\" class=\"data row0 col4\" >0.012156</td>\n",
       "      <td id=\"T_964ca_row0_col5\" class=\"data row0 col5\" >1216</td>\n",
       "      <td id=\"T_964ca_row0_col6\" class=\"data row0 col6\" >941</td>\n",
       "      <td id=\"T_964ca_row0_col7\" class=\"data row0 col7\" >0.158952</td>\n",
       "      <td id=\"T_964ca_row0_col8\" class=\"data row0 col8\" >0.224756</td>\n",
       "      <td id=\"T_964ca_row0_col9\" class=\"data row0 col9\" >1168</td>\n",
       "      <td id=\"T_964ca_row0_col10\" class=\"data row0 col10\" >-6.424964</td>\n",
       "      <td id=\"T_964ca_row0_col11\" class=\"data row0 col11\" >0.000000</td>\n",
       "      <td id=\"T_964ca_row0_col12\" class=\"data row0 col12\" >29.200000</td>\n",
       "      <td id=\"T_964ca_row0_col13\" class=\"data row0 col13\" >-1</td>\n",
       "      <td id=\"T_964ca_row0_col14\" class=\"data row0 col14\" >0.587732</td>\n",
       "      <td id=\"T_964ca_row0_col15\" class=\"data row0 col15\" >nan</td>\n",
       "      <td id=\"T_964ca_row0_col16\" class=\"data row0 col16\" >nan</td>\n",
       "      <td id=\"T_964ca_row0_col17\" class=\"data row0 col17\" >rejected</td>\n",
       "      <td id=\"T_964ca_row0_col18\" class=\"data row0 col18\" >Unlikely BOLD</td>\n",
       "    </tr>\n",
       "    <tr>\n",
       "      <th id=\"T_964ca_level0_row1\" class=\"row_heading level0 row1\" >1</th>\n",
       "      <td id=\"T_964ca_row1_col0\" class=\"data row1 col0\" >ICA_01</td>\n",
       "      <td id=\"T_964ca_row1_col1\" class=\"data row1 col1\" >51.230575</td>\n",
       "      <td id=\"T_964ca_row1_col2\" class=\"data row1 col2\" >24.753611</td>\n",
       "      <td id=\"T_964ca_row1_col3\" class=\"data row1 col3\" >23.506897</td>\n",
       "      <td id=\"T_964ca_row1_col4\" class=\"data row1 col4\" >0.248546</td>\n",
       "      <td id=\"T_964ca_row1_col5\" class=\"data row1 col5\" >5353</td>\n",
       "      <td id=\"T_964ca_row1_col6\" class=\"data row1 col6\" >2484</td>\n",
       "      <td id=\"T_964ca_row1_col7\" class=\"data row1 col7\" >0.513640</td>\n",
       "      <td id=\"T_964ca_row1_col8\" class=\"data row1 col8\" >0.191117</td>\n",
       "      <td id=\"T_964ca_row1_col9\" class=\"data row1 col9\" >965</td>\n",
       "      <td id=\"T_964ca_row1_col10\" class=\"data row1 col10\" >0.000000</td>\n",
       "      <td id=\"T_964ca_row1_col11\" class=\"data row1 col11\" >0.000000</td>\n",
       "      <td id=\"T_964ca_row1_col12\" class=\"data row1 col12\" >5.800000</td>\n",
       "      <td id=\"T_964ca_row1_col13\" class=\"data row1 col13\" >-1</td>\n",
       "      <td id=\"T_964ca_row1_col14\" class=\"data row1 col14\" >7.703721</td>\n",
       "      <td id=\"T_964ca_row1_col15\" class=\"data row1 col15\" >4.000000</td>\n",
       "      <td id=\"T_964ca_row1_col16\" class=\"data row1 col16\" >16.016520</td>\n",
       "      <td id=\"T_964ca_row1_col17\" class=\"data row1 col17\" >accepted</td>\n",
       "      <td id=\"T_964ca_row1_col18\" class=\"data row1 col18\" >Likely BOLD</td>\n",
       "    </tr>\n",
       "    <tr>\n",
       "      <th id=\"T_964ca_level0_row2\" class=\"row_heading level0 row2\" >2</th>\n",
       "      <td id=\"T_964ca_row2_col0\" class=\"data row2 col0\" >ICA_02</td>\n",
       "      <td id=\"T_964ca_row2_col1\" class=\"data row2 col1\" >22.893331</td>\n",
       "      <td id=\"T_964ca_row2_col2\" class=\"data row2 col2\" >14.901836</td>\n",
       "      <td id=\"T_964ca_row2_col3\" class=\"data row2 col3\" >0.357921</td>\n",
       "      <td id=\"T_964ca_row2_col4\" class=\"data row2 col4\" >0.005175</td>\n",
       "      <td id=\"T_964ca_row2_col5\" class=\"data row2 col5\" >1145</td>\n",
       "      <td id=\"T_964ca_row2_col6\" class=\"data row2 col6\" >422</td>\n",
       "      <td id=\"T_964ca_row2_col7\" class=\"data row2 col7\" >0.292726</td>\n",
       "      <td id=\"T_964ca_row2_col8\" class=\"data row2 col8\" >0.000000</td>\n",
       "      <td id=\"T_964ca_row2_col9\" class=\"data row2 col9\" >1144</td>\n",
       "      <td id=\"T_964ca_row2_col10\" class=\"data row2 col10\" >6.592229</td>\n",
       "      <td id=\"T_964ca_row2_col11\" class=\"data row2 col11\" >0.000000</td>\n",
       "      <td id=\"T_964ca_row2_col12\" class=\"data row2 col12\" >19.400000</td>\n",
       "      <td id=\"T_964ca_row2_col13\" class=\"data row2 col13\" >-1</td>\n",
       "      <td id=\"T_964ca_row2_col14\" class=\"data row2 col14\" >0.262490</td>\n",
       "      <td id=\"T_964ca_row2_col15\" class=\"data row2 col15\" >nan</td>\n",
       "      <td id=\"T_964ca_row2_col16\" class=\"data row2 col16\" >10.316781</td>\n",
       "      <td id=\"T_964ca_row2_col17\" class=\"data row2 col17\" >accepted</td>\n",
       "      <td id=\"T_964ca_row2_col18\" class=\"data row2 col18\" >Low variance</td>\n",
       "    </tr>\n",
       "    <tr>\n",
       "      <th id=\"T_964ca_level0_row3\" class=\"row_heading level0 row3\" >3</th>\n",
       "      <td id=\"T_964ca_row3_col0\" class=\"data row3 col0\" >ICA_03</td>\n",
       "      <td id=\"T_964ca_row3_col1\" class=\"data row3 col1\" >44.193614</td>\n",
       "      <td id=\"T_964ca_row3_col2\" class=\"data row3 col2\" >19.191723</td>\n",
       "      <td id=\"T_964ca_row3_col3\" class=\"data row3 col3\" >1.333745</td>\n",
       "      <td id=\"T_964ca_row3_col4\" class=\"data row3 col4\" >0.017837</td>\n",
       "      <td id=\"T_964ca_row3_col5\" class=\"data row3 col5\" >4209</td>\n",
       "      <td id=\"T_964ca_row3_col6\" class=\"data row3 col6\" >1879</td>\n",
       "      <td id=\"T_964ca_row3_col7\" class=\"data row3 col7\" >0.483883</td>\n",
       "      <td id=\"T_964ca_row3_col8\" class=\"data row3 col8\" >0.270373</td>\n",
       "      <td id=\"T_964ca_row3_col9\" class=\"data row3 col9\" >1179</td>\n",
       "      <td id=\"T_964ca_row3_col10\" class=\"data row3 col10\" >0.000000</td>\n",
       "      <td id=\"T_964ca_row3_col11\" class=\"data row3 col11\" >0.000000</td>\n",
       "      <td id=\"T_964ca_row3_col12\" class=\"data row3 col12\" >10.200000</td>\n",
       "      <td id=\"T_964ca_row3_col13\" class=\"data row3 col13\" >-1</td>\n",
       "      <td id=\"T_964ca_row3_col14\" class=\"data row3 col14\" >0.506696</td>\n",
       "      <td id=\"T_964ca_row3_col15\" class=\"data row3 col15\" >7.000000</td>\n",
       "      <td id=\"T_964ca_row3_col16\" class=\"data row3 col16\" >2.511483</td>\n",
       "      <td id=\"T_964ca_row3_col17\" class=\"data row3 col17\" >accepted</td>\n",
       "      <td id=\"T_964ca_row3_col18\" class=\"data row3 col18\" >Likely BOLD</td>\n",
       "    </tr>\n",
       "    <tr>\n",
       "      <th id=\"T_964ca_level0_row4\" class=\"row_heading level0 row4\" >4</th>\n",
       "      <td id=\"T_964ca_row4_col0\" class=\"data row4 col0\" >ICA_04</td>\n",
       "      <td id=\"T_964ca_row4_col1\" class=\"data row4 col1\" >27.567406</td>\n",
       "      <td id=\"T_964ca_row4_col2\" class=\"data row4 col2\" >20.737956</td>\n",
       "      <td id=\"T_964ca_row4_col3\" class=\"data row4 col3\" >0.821346</td>\n",
       "      <td id=\"T_964ca_row4_col4\" class=\"data row4 col4\" >0.011342</td>\n",
       "      <td id=\"T_964ca_row4_col5\" class=\"data row4 col5\" >1796</td>\n",
       "      <td id=\"T_964ca_row4_col6\" class=\"data row4 col6\" >1399</td>\n",
       "      <td id=\"T_964ca_row4_col7\" class=\"data row4 col7\" >0.346452</td>\n",
       "      <td id=\"T_964ca_row4_col8\" class=\"data row4 col8\" >0.308638</td>\n",
       "      <td id=\"T_964ca_row4_col9\" class=\"data row4 col9\" >1165</td>\n",
       "      <td id=\"T_964ca_row4_col10\" class=\"data row4 col10\" >1.168751</td>\n",
       "      <td id=\"T_964ca_row4_col11\" class=\"data row4 col11\" >0.251138</td>\n",
       "      <td id=\"T_964ca_row4_col12\" class=\"data row4 col12\" >14.700000</td>\n",
       "      <td id=\"T_964ca_row4_col13\" class=\"data row4 col13\" >-1</td>\n",
       "      <td id=\"T_964ca_row4_col14\" class=\"data row4 col14\" >0.500225</td>\n",
       "      <td id=\"T_964ca_row4_col15\" class=\"data row4 col15\" >11.600000</td>\n",
       "      <td id=\"T_964ca_row4_col16\" class=\"data row4 col16\" >8.002623</td>\n",
       "      <td id=\"T_964ca_row4_col17\" class=\"data row4 col17\" >accepted</td>\n",
       "      <td id=\"T_964ca_row4_col18\" class=\"data row4 col18\" >Likely BOLD</td>\n",
       "    </tr>\n",
       "    <tr>\n",
       "      <th id=\"T_964ca_level0_row5\" class=\"row_heading level0 row5\" >5</th>\n",
       "      <td id=\"T_964ca_row5_col0\" class=\"data row5 col0\" >ICA_05</td>\n",
       "      <td id=\"T_964ca_row5_col1\" class=\"data row5 col1\" >44.379684</td>\n",
       "      <td id=\"T_964ca_row5_col2\" class=\"data row5 col2\" >15.646069</td>\n",
       "      <td id=\"T_964ca_row5_col3\" class=\"data row5 col3\" >0.934832</td>\n",
       "      <td id=\"T_964ca_row5_col4\" class=\"data row5 col4\" >0.012529</td>\n",
       "      <td id=\"T_964ca_row5_col5\" class=\"data row5 col5\" >2517</td>\n",
       "      <td id=\"T_964ca_row5_col6\" class=\"data row5 col6\" >592</td>\n",
       "      <td id=\"T_964ca_row5_col7\" class=\"data row5 col7\" >0.454771</td>\n",
       "      <td id=\"T_964ca_row5_col8\" class=\"data row5 col8\" >0.103478</td>\n",
       "      <td id=\"T_964ca_row5_col9\" class=\"data row5 col9\" >1056</td>\n",
       "      <td id=\"T_964ca_row5_col10\" class=\"data row5 col10\" >6.697817</td>\n",
       "      <td id=\"T_964ca_row5_col11\" class=\"data row5 col11\" >0.000000</td>\n",
       "      <td id=\"T_964ca_row5_col12\" class=\"data row5 col12\" >4.800000</td>\n",
       "      <td id=\"T_964ca_row5_col13\" class=\"data row5 col13\" >1</td>\n",
       "      <td id=\"T_964ca_row5_col14\" class=\"data row5 col14\" >0.353658</td>\n",
       "      <td id=\"T_964ca_row5_col15\" class=\"data row5 col15\" >4.200000</td>\n",
       "      <td id=\"T_964ca_row5_col16\" class=\"data row5 col16\" >9.192120</td>\n",
       "      <td id=\"T_964ca_row5_col17\" class=\"data row5 col17\" >accepted</td>\n",
       "      <td id=\"T_964ca_row5_col18\" class=\"data row5 col18\" >Likely BOLD</td>\n",
       "    </tr>\n",
       "    <tr>\n",
       "      <th id=\"T_964ca_level0_row6\" class=\"row_heading level0 row6\" >6</th>\n",
       "      <td id=\"T_964ca_row6_col0\" class=\"data row6 col0\" >ICA_06</td>\n",
       "      <td id=\"T_964ca_row6_col1\" class=\"data row6 col1\" >30.018327</td>\n",
       "      <td id=\"T_964ca_row6_col2\" class=\"data row6 col2\" >23.605399</td>\n",
       "      <td id=\"T_964ca_row6_col3\" class=\"data row6 col3\" >1.568946</td>\n",
       "      <td id=\"T_964ca_row6_col4\" class=\"data row6 col4\" >0.018061</td>\n",
       "      <td id=\"T_964ca_row6_col5\" class=\"data row6 col5\" >2068</td>\n",
       "      <td id=\"T_964ca_row6_col6\" class=\"data row6 col6\" >1258</td>\n",
       "      <td id=\"T_964ca_row6_col7\" class=\"data row6 col7\" >0.329256</td>\n",
       "      <td id=\"T_964ca_row6_col8\" class=\"data row6 col8\" >0.241267</td>\n",
       "      <td id=\"T_964ca_row6_col9\" class=\"data row6 col9\" >1218</td>\n",
       "      <td id=\"T_964ca_row6_col10\" class=\"data row6 col10\" >0.000000</td>\n",
       "      <td id=\"T_964ca_row6_col11\" class=\"data row6 col11\" >0.000000</td>\n",
       "      <td id=\"T_964ca_row6_col12\" class=\"data row6 col12\" >18.000000</td>\n",
       "      <td id=\"T_964ca_row6_col13\" class=\"data row6 col13\" >1</td>\n",
       "      <td id=\"T_964ca_row6_col14\" class=\"data row6 col14\" >0.877518</td>\n",
       "      <td id=\"T_964ca_row6_col15\" class=\"data row6 col15\" >13.000000</td>\n",
       "      <td id=\"T_964ca_row6_col16\" class=\"data row6 col16\" >40.951937</td>\n",
       "      <td id=\"T_964ca_row6_col17\" class=\"data row6 col17\" >accepted</td>\n",
       "      <td id=\"T_964ca_row6_col18\" class=\"data row6 col18\" >Accept borderline</td>\n",
       "    </tr>\n",
       "    <tr>\n",
       "      <th id=\"T_964ca_level0_row7\" class=\"row_heading level0 row7\" >7</th>\n",
       "      <td id=\"T_964ca_row7_col0\" class=\"data row7 col0\" >ICA_07</td>\n",
       "      <td id=\"T_964ca_row7_col1\" class=\"data row7 col1\" >22.990509</td>\n",
       "      <td id=\"T_964ca_row7_col2\" class=\"data row7 col2\" >14.921279</td>\n",
       "      <td id=\"T_964ca_row7_col3\" class=\"data row7 col3\" >0.419216</td>\n",
       "      <td id=\"T_964ca_row7_col4\" class=\"data row7 col4\" >0.006445</td>\n",
       "      <td id=\"T_964ca_row7_col5\" class=\"data row7 col5\" >967</td>\n",
       "      <td id=\"T_964ca_row7_col6\" class=\"data row7 col6\" >365</td>\n",
       "      <td id=\"T_964ca_row7_col7\" class=\"data row7 col7\" >0.238532</td>\n",
       "      <td id=\"T_964ca_row7_col8\" class=\"data row7 col8\" >0.000000</td>\n",
       "      <td id=\"T_964ca_row7_col9\" class=\"data row7 col9\" >1223</td>\n",
       "      <td id=\"T_964ca_row7_col10\" class=\"data row7 col10\" >0.000000</td>\n",
       "      <td id=\"T_964ca_row7_col11\" class=\"data row7 col11\" >0.000000</td>\n",
       "      <td id=\"T_964ca_row7_col12\" class=\"data row7 col12\" >28.900000</td>\n",
       "      <td id=\"T_964ca_row7_col13\" class=\"data row7 col13\" >-1</td>\n",
       "      <td id=\"T_964ca_row7_col14\" class=\"data row7 col14\" >0.306142</td>\n",
       "      <td id=\"T_964ca_row7_col15\" class=\"data row7 col15\" >nan</td>\n",
       "      <td id=\"T_964ca_row7_col16\" class=\"data row7 col16\" >6.227725</td>\n",
       "      <td id=\"T_964ca_row7_col17\" class=\"data row7 col17\" >accepted</td>\n",
       "      <td id=\"T_964ca_row7_col18\" class=\"data row7 col18\" >Low variance</td>\n",
       "    </tr>\n",
       "    <tr>\n",
       "      <th id=\"T_964ca_level0_row8\" class=\"row_heading level0 row8\" >8</th>\n",
       "      <td id=\"T_964ca_row8_col0\" class=\"data row8 col0\" >ICA_08</td>\n",
       "      <td id=\"T_964ca_row8_col1\" class=\"data row8 col1\" >21.753897</td>\n",
       "      <td id=\"T_964ca_row8_col2\" class=\"data row8 col2\" >14.043088</td>\n",
       "      <td id=\"T_964ca_row8_col3\" class=\"data row8 col3\" >0.276220</td>\n",
       "      <td id=\"T_964ca_row8_col4\" class=\"data row8 col4\" >0.004194</td>\n",
       "      <td id=\"T_964ca_row8_col5\" class=\"data row8 col5\" >1029</td>\n",
       "      <td id=\"T_964ca_row8_col6\" class=\"data row8 col6\" >276</td>\n",
       "      <td id=\"T_964ca_row8_col7\" class=\"data row8 col7\" >0.315582</td>\n",
       "      <td id=\"T_964ca_row8_col8\" class=\"data row8 col8\" >0.000000</td>\n",
       "      <td id=\"T_964ca_row8_col9\" class=\"data row8 col9\" >1099</td>\n",
       "      <td id=\"T_964ca_row8_col10\" class=\"data row8 col10\" >8.598623</td>\n",
       "      <td id=\"T_964ca_row8_col11\" class=\"data row8 col11\" >0.000000</td>\n",
       "      <td id=\"T_964ca_row8_col12\" class=\"data row8 col12\" >17.800000</td>\n",
       "      <td id=\"T_964ca_row8_col13\" class=\"data row8 col13\" >-1</td>\n",
       "      <td id=\"T_964ca_row8_col14\" class=\"data row8 col14\" >0.213183</td>\n",
       "      <td id=\"T_964ca_row8_col15\" class=\"data row8 col15\" >nan</td>\n",
       "      <td id=\"T_964ca_row8_col16\" class=\"data row8 col16\" >3.232917</td>\n",
       "      <td id=\"T_964ca_row8_col17\" class=\"data row8 col17\" >accepted</td>\n",
       "      <td id=\"T_964ca_row8_col18\" class=\"data row8 col18\" >Low variance</td>\n",
       "    </tr>\n",
       "    <tr>\n",
       "      <th id=\"T_964ca_level0_row9\" class=\"row_heading level0 row9\" >9</th>\n",
       "      <td id=\"T_964ca_row9_col0\" class=\"data row9 col0\" >ICA_09</td>\n",
       "      <td id=\"T_964ca_row9_col1\" class=\"data row9 col1\" >31.741634</td>\n",
       "      <td id=\"T_964ca_row9_col2\" class=\"data row9 col2\" >18.654378</td>\n",
       "      <td id=\"T_964ca_row9_col3\" class=\"data row9 col3\" >0.739212</td>\n",
       "      <td id=\"T_964ca_row9_col4\" class=\"data row9 col4\" >0.008564</td>\n",
       "      <td id=\"T_964ca_row9_col5\" class=\"data row9 col5\" >1903</td>\n",
       "      <td id=\"T_964ca_row9_col6\" class=\"data row9 col6\" >723</td>\n",
       "      <td id=\"T_964ca_row9_col7\" class=\"data row9 col7\" >0.328529</td>\n",
       "      <td id=\"T_964ca_row9_col8\" class=\"data row9 col8\" >0.187891</td>\n",
       "      <td id=\"T_964ca_row9_col9\" class=\"data row9 col9\" >1225</td>\n",
       "      <td id=\"T_964ca_row9_col10\" class=\"data row9 col10\" >3.541223</td>\n",
       "      <td id=\"T_964ca_row9_col11\" class=\"data row9 col11\" >0.001735</td>\n",
       "      <td id=\"T_964ca_row9_col12\" class=\"data row9 col12\" >16.800000</td>\n",
       "      <td id=\"T_964ca_row9_col13\" class=\"data row9 col13\" >1</td>\n",
       "      <td id=\"T_964ca_row9_col14\" class=\"data row9 col14\" >0.390998</td>\n",
       "      <td id=\"T_964ca_row9_col15\" class=\"data row9 col15\" >12.200000</td>\n",
       "      <td id=\"T_964ca_row9_col16\" class=\"data row9 col16\" >24.554134</td>\n",
       "      <td id=\"T_964ca_row9_col17\" class=\"data row9 col17\" >accepted</td>\n",
       "      <td id=\"T_964ca_row9_col18\" class=\"data row9 col18\" >Likely BOLD</td>\n",
       "    </tr>\n",
       "    <tr>\n",
       "      <th id=\"T_964ca_level0_row10\" class=\"row_heading level0 row10\" >10</th>\n",
       "      <td id=\"T_964ca_row10_col0\" class=\"data row10 col0\" >ICA_10</td>\n",
       "      <td id=\"T_964ca_row10_col1\" class=\"data row10 col1\" >27.289797</td>\n",
       "      <td id=\"T_964ca_row10_col2\" class=\"data row10 col2\" >23.521625</td>\n",
       "      <td id=\"T_964ca_row10_col3\" class=\"data row10 col3\" >1.200922</td>\n",
       "      <td id=\"T_964ca_row10_col4\" class=\"data row10 col4\" >0.015285</td>\n",
       "      <td id=\"T_964ca_row10_col5\" class=\"data row10 col5\" >1342</td>\n",
       "      <td id=\"T_964ca_row10_col6\" class=\"data row10 col6\" >895</td>\n",
       "      <td id=\"T_964ca_row10_col7\" class=\"data row10 col7\" >0.273556</td>\n",
       "      <td id=\"T_964ca_row10_col8\" class=\"data row10 col8\" >0.270520</td>\n",
       "      <td id=\"T_964ca_row10_col9\" class=\"data row10 col9\" >1178</td>\n",
       "      <td id=\"T_964ca_row10_col10\" class=\"data row10 col10\" >-9.156475</td>\n",
       "      <td id=\"T_964ca_row10_col11\" class=\"data row10 col11\" >0.000000</td>\n",
       "      <td id=\"T_964ca_row10_col12\" class=\"data row10 col12\" >25.200000</td>\n",
       "      <td id=\"T_964ca_row10_col13\" class=\"data row10 col13\" >1</td>\n",
       "      <td id=\"T_964ca_row10_col14\" class=\"data row10 col14\" >0.738838</td>\n",
       "      <td id=\"T_964ca_row10_col15\" class=\"data row10 col15\" >nan</td>\n",
       "      <td id=\"T_964ca_row10_col16\" class=\"data row10 col16\" >nan</td>\n",
       "      <td id=\"T_964ca_row10_col17\" class=\"data row10 col17\" >rejected</td>\n",
       "      <td id=\"T_964ca_row10_col18\" class=\"data row10 col18\" >Unlikely BOLD</td>\n",
       "    </tr>\n",
       "    <tr>\n",
       "      <th id=\"T_964ca_level0_row11\" class=\"row_heading level0 row11\" >11</th>\n",
       "      <td id=\"T_964ca_row11_col0\" class=\"data row11 col0\" >ICA_11</td>\n",
       "      <td id=\"T_964ca_row11_col1\" class=\"data row11 col1\" >33.098399</td>\n",
       "      <td id=\"T_964ca_row11_col2\" class=\"data row11 col2\" >21.068734</td>\n",
       "      <td id=\"T_964ca_row11_col3\" class=\"data row11 col3\" >0.421799</td>\n",
       "      <td id=\"T_964ca_row11_col4\" class=\"data row11 col4\" >0.005226</td>\n",
       "      <td id=\"T_964ca_row11_col5\" class=\"data row11 col5\" >1881</td>\n",
       "      <td id=\"T_964ca_row11_col6\" class=\"data row11 col6\" >515</td>\n",
       "      <td id=\"T_964ca_row11_col7\" class=\"data row11 col7\" >0.433748</td>\n",
       "      <td id=\"T_964ca_row11_col8\" class=\"data row11 col8\" >0.237955</td>\n",
       "      <td id=\"T_964ca_row11_col9\" class=\"data row11 col9\" >1196</td>\n",
       "      <td id=\"T_964ca_row11_col10\" class=\"data row11 col10\" >2.047632</td>\n",
       "      <td id=\"T_964ca_row11_col11\" class=\"data row11 col11\" >0.044022</td>\n",
       "      <td id=\"T_964ca_row11_col12\" class=\"data row11 col12\" >12.200000</td>\n",
       "      <td id=\"T_964ca_row11_col13\" class=\"data row11 col13\" >-1</td>\n",
       "      <td id=\"T_964ca_row11_col14\" class=\"data row11 col14\" >0.213960</td>\n",
       "      <td id=\"T_964ca_row11_col15\" class=\"data row11 col15\" >9.000000</td>\n",
       "      <td id=\"T_964ca_row11_col16\" class=\"data row11 col16\" >4.040531</td>\n",
       "      <td id=\"T_964ca_row11_col17\" class=\"data row11 col17\" >accepted</td>\n",
       "      <td id=\"T_964ca_row11_col18\" class=\"data row11 col18\" >Likely BOLD</td>\n",
       "    </tr>\n",
       "    <tr>\n",
       "      <th id=\"T_964ca_level0_row12\" class=\"row_heading level0 row12\" >12</th>\n",
       "      <td id=\"T_964ca_row12_col0\" class=\"data row12 col0\" >ICA_12</td>\n",
       "      <td id=\"T_964ca_row12_col1\" class=\"data row12 col1\" >28.180872</td>\n",
       "      <td id=\"T_964ca_row12_col2\" class=\"data row12 col2\" >24.242923</td>\n",
       "      <td id=\"T_964ca_row12_col3\" class=\"data row12 col3\" >0.837907</td>\n",
       "      <td id=\"T_964ca_row12_col4\" class=\"data row12 col4\" >0.010496</td>\n",
       "      <td id=\"T_964ca_row12_col5\" class=\"data row12 col5\" >1307</td>\n",
       "      <td id=\"T_964ca_row12_col6\" class=\"data row12 col6\" >961</td>\n",
       "      <td id=\"T_964ca_row12_col7\" class=\"data row12 col7\" >0.261074</td>\n",
       "      <td id=\"T_964ca_row12_col8\" class=\"data row12 col8\" >0.229680</td>\n",
       "      <td id=\"T_964ca_row12_col9\" class=\"data row12 col9\" >1205</td>\n",
       "      <td id=\"T_964ca_row12_col10\" class=\"data row12 col10\" >7.085985</td>\n",
       "      <td id=\"T_964ca_row12_col11\" class=\"data row12 col11\" >0.000001</td>\n",
       "      <td id=\"T_964ca_row12_col12\" class=\"data row12 col12\" >19.000000</td>\n",
       "      <td id=\"T_964ca_row12_col13\" class=\"data row12 col13\" >-1</td>\n",
       "      <td id=\"T_964ca_row12_col14\" class=\"data row12 col14\" >0.499202</td>\n",
       "      <td id=\"T_964ca_row12_col15\" class=\"data row12 col15\" >13.000000</td>\n",
       "      <td id=\"T_964ca_row12_col16\" class=\"data row12 col16\" >24.966597</td>\n",
       "      <td id=\"T_964ca_row12_col17\" class=\"data row12 col17\" >accepted</td>\n",
       "      <td id=\"T_964ca_row12_col18\" class=\"data row12 col18\" >Likely BOLD</td>\n",
       "    </tr>\n",
       "    <tr>\n",
       "      <th id=\"T_964ca_level0_row13\" class=\"row_heading level0 row13\" >13</th>\n",
       "      <td id=\"T_964ca_row13_col0\" class=\"data row13 col0\" >ICA_13</td>\n",
       "      <td id=\"T_964ca_row13_col1\" class=\"data row13 col1\" >26.217677</td>\n",
       "      <td id=\"T_964ca_row13_col2\" class=\"data row13 col2\" >28.703490</td>\n",
       "      <td id=\"T_964ca_row13_col3\" class=\"data row13 col3\" >1.042861</td>\n",
       "      <td id=\"T_964ca_row13_col4\" class=\"data row13 col4\" >0.015046</td>\n",
       "      <td id=\"T_964ca_row13_col5\" class=\"data row13 col5\" >2138</td>\n",
       "      <td id=\"T_964ca_row13_col6\" class=\"data row13 col6\" >2476</td>\n",
       "      <td id=\"T_964ca_row13_col7\" class=\"data row13 col7\" >0.304978</td>\n",
       "      <td id=\"T_964ca_row13_col8\" class=\"data row13 col8\" >0.356087</td>\n",
       "      <td id=\"T_964ca_row13_col9\" class=\"data row13 col9\" >1147</td>\n",
       "      <td id=\"T_964ca_row13_col10\" class=\"data row13 col10\" >-6.288982</td>\n",
       "      <td id=\"T_964ca_row13_col11\" class=\"data row13 col11\" >0.000000</td>\n",
       "      <td id=\"T_964ca_row13_col12\" class=\"data row13 col12\" >20.600000</td>\n",
       "      <td id=\"T_964ca_row13_col13\" class=\"data row13 col13\" >-1</td>\n",
       "      <td id=\"T_964ca_row13_col14\" class=\"data row13 col14\" >0.667831</td>\n",
       "      <td id=\"T_964ca_row13_col15\" class=\"data row13 col15\" >nan</td>\n",
       "      <td id=\"T_964ca_row13_col16\" class=\"data row13 col16\" >nan</td>\n",
       "      <td id=\"T_964ca_row13_col17\" class=\"data row13 col17\" >rejected</td>\n",
       "      <td id=\"T_964ca_row13_col18\" class=\"data row13 col18\" >Unlikely BOLD</td>\n",
       "    </tr>\n",
       "    <tr>\n",
       "      <th id=\"T_964ca_level0_row14\" class=\"row_heading level0 row14\" >14</th>\n",
       "      <td id=\"T_964ca_row14_col0\" class=\"data row14 col0\" >ICA_14</td>\n",
       "      <td id=\"T_964ca_row14_col1\" class=\"data row14 col1\" >21.048686</td>\n",
       "      <td id=\"T_964ca_row14_col2\" class=\"data row14 col2\" >18.999745</td>\n",
       "      <td id=\"T_964ca_row14_col3\" class=\"data row14 col3\" >0.321634</td>\n",
       "      <td id=\"T_964ca_row14_col4\" class=\"data row14 col4\" >0.004681</td>\n",
       "      <td id=\"T_964ca_row14_col5\" class=\"data row14 col5\" >903</td>\n",
       "      <td id=\"T_964ca_row14_col6\" class=\"data row14 col6\" >542</td>\n",
       "      <td id=\"T_964ca_row14_col7\" class=\"data row14 col7\" >0.245929</td>\n",
       "      <td id=\"T_964ca_row14_col8\" class=\"data row14 col8\" >0.289668</td>\n",
       "      <td id=\"T_964ca_row14_col9\" class=\"data row14 col9\" >1272</td>\n",
       "      <td id=\"T_964ca_row14_col10\" class=\"data row14 col10\" >0.000000</td>\n",
       "      <td id=\"T_964ca_row14_col11\" class=\"data row14 col11\" >0.000000</td>\n",
       "      <td id=\"T_964ca_row14_col12\" class=\"data row14 col12\" >33.400000</td>\n",
       "      <td id=\"T_964ca_row14_col13\" class=\"data row14 col13\" >1</td>\n",
       "      <td id=\"T_964ca_row14_col14\" class=\"data row14 col14\" >0.256550</td>\n",
       "      <td id=\"T_964ca_row14_col15\" class=\"data row14 col15\" >nan</td>\n",
       "      <td id=\"T_964ca_row14_col16\" class=\"data row14 col16\" >5.366744</td>\n",
       "      <td id=\"T_964ca_row14_col17\" class=\"data row14 col17\" >accepted</td>\n",
       "      <td id=\"T_964ca_row14_col18\" class=\"data row14 col18\" >Low variance</td>\n",
       "    </tr>\n",
       "    <tr>\n",
       "      <th id=\"T_964ca_level0_row15\" class=\"row_heading level0 row15\" >15</th>\n",
       "      <td id=\"T_964ca_row15_col0\" class=\"data row15 col0\" >ICA_15</td>\n",
       "      <td id=\"T_964ca_row15_col1\" class=\"data row15 col1\" >19.460252</td>\n",
       "      <td id=\"T_964ca_row15_col2\" class=\"data row15 col2\" >15.964998</td>\n",
       "      <td id=\"T_964ca_row15_col3\" class=\"data row15 col3\" >0.325640</td>\n",
       "      <td id=\"T_964ca_row15_col4\" class=\"data row15 col4\" >0.004480</td>\n",
       "      <td id=\"T_964ca_row15_col5\" class=\"data row15 col5\" >477</td>\n",
       "      <td id=\"T_964ca_row15_col6\" class=\"data row15 col6\" >277</td>\n",
       "      <td id=\"T_964ca_row15_col7\" class=\"data row15 col7\" >0.192593</td>\n",
       "      <td id=\"T_964ca_row15_col8\" class=\"data row15 col8\" >0.288809</td>\n",
       "      <td id=\"T_964ca_row15_col9\" class=\"data row15 col9\" >1228</td>\n",
       "      <td id=\"T_964ca_row15_col10\" class=\"data row15 col10\" >0.000000</td>\n",
       "      <td id=\"T_964ca_row15_col11\" class=\"data row15 col11\" >0.000000</td>\n",
       "      <td id=\"T_964ca_row15_col12\" class=\"data row15 col12\" >34.400000</td>\n",
       "      <td id=\"T_964ca_row15_col13\" class=\"data row15 col13\" >1</td>\n",
       "      <td id=\"T_964ca_row15_col14\" class=\"data row15 col14\" >0.280947</td>\n",
       "      <td id=\"T_964ca_row15_col15\" class=\"data row15 col15\" >nan</td>\n",
       "      <td id=\"T_964ca_row15_col16\" class=\"data row15 col16\" >12.427411</td>\n",
       "      <td id=\"T_964ca_row15_col17\" class=\"data row15 col17\" >accepted</td>\n",
       "      <td id=\"T_964ca_row15_col18\" class=\"data row15 col18\" >Low variance</td>\n",
       "    </tr>\n",
       "    <tr>\n",
       "      <th id=\"T_964ca_level0_row16\" class=\"row_heading level0 row16\" >16</th>\n",
       "      <td id=\"T_964ca_row16_col0\" class=\"data row16 col0\" >ICA_16</td>\n",
       "      <td id=\"T_964ca_row16_col1\" class=\"data row16 col1\" >18.899450</td>\n",
       "      <td id=\"T_964ca_row16_col2\" class=\"data row16 col2\" >16.000196</td>\n",
       "      <td id=\"T_964ca_row16_col3\" class=\"data row16 col3\" >0.230781</td>\n",
       "      <td id=\"T_964ca_row16_col4\" class=\"data row16 col4\" >0.003543</td>\n",
       "      <td id=\"T_964ca_row16_col5\" class=\"data row16 col5\" >406</td>\n",
       "      <td id=\"T_964ca_row16_col6\" class=\"data row16 col6\" >426</td>\n",
       "      <td id=\"T_964ca_row16_col7\" class=\"data row16 col7\" >0.244275</td>\n",
       "      <td id=\"T_964ca_row16_col8\" class=\"data row16 col8\" >0.163772</td>\n",
       "      <td id=\"T_964ca_row16_col9\" class=\"data row16 col9\" >1225</td>\n",
       "      <td id=\"T_964ca_row16_col10\" class=\"data row16 col10\" >0.000000</td>\n",
       "      <td id=\"T_964ca_row16_col11\" class=\"data row16 col11\" >0.000000</td>\n",
       "      <td id=\"T_964ca_row16_col12\" class=\"data row16 col12\" >34.000000</td>\n",
       "      <td id=\"T_964ca_row16_col13\" class=\"data row16 col13\" >1</td>\n",
       "      <td id=\"T_964ca_row16_col14\" class=\"data row16 col14\" >0.205015</td>\n",
       "      <td id=\"T_964ca_row16_col15\" class=\"data row16 col15\" >nan</td>\n",
       "      <td id=\"T_964ca_row16_col16\" class=\"data row16 col16\" >nan</td>\n",
       "      <td id=\"T_964ca_row16_col17\" class=\"data row16 col17\" >rejected</td>\n",
       "      <td id=\"T_964ca_row16_col18\" class=\"data row16 col18\" >Unlikely BOLD</td>\n",
       "    </tr>\n",
       "    <tr>\n",
       "      <th id=\"T_964ca_level0_row17\" class=\"row_heading level0 row17\" >17</th>\n",
       "      <td id=\"T_964ca_row17_col0\" class=\"data row17 col0\" >ICA_17</td>\n",
       "      <td id=\"T_964ca_row17_col1\" class=\"data row17 col1\" >26.319786</td>\n",
       "      <td id=\"T_964ca_row17_col2\" class=\"data row17 col2\" >24.731221</td>\n",
       "      <td id=\"T_964ca_row17_col3\" class=\"data row17 col3\" >0.437352</td>\n",
       "      <td id=\"T_964ca_row17_col4\" class=\"data row17 col4\" >0.005085</td>\n",
       "      <td id=\"T_964ca_row17_col5\" class=\"data row17 col5\" >1090</td>\n",
       "      <td id=\"T_964ca_row17_col6\" class=\"data row17 col6\" >651</td>\n",
       "      <td id=\"T_964ca_row17_col7\" class=\"data row17 col7\" >0.404684</td>\n",
       "      <td id=\"T_964ca_row17_col8\" class=\"data row17 col8\" >0.374608</td>\n",
       "      <td id=\"T_964ca_row17_col9\" class=\"data row17 col9\" >1229</td>\n",
       "      <td id=\"T_964ca_row17_col10\" class=\"data row17 col10\" >-5.740283</td>\n",
       "      <td id=\"T_964ca_row17_col11\" class=\"data row17 col11\" >0.000002</td>\n",
       "      <td id=\"T_964ca_row17_col12\" class=\"data row17 col12\" >26.900000</td>\n",
       "      <td id=\"T_964ca_row17_col13\" class=\"data row17 col13\" >1</td>\n",
       "      <td id=\"T_964ca_row17_col14\" class=\"data row17 col14\" >0.278987</td>\n",
       "      <td id=\"T_964ca_row17_col15\" class=\"data row17 col15\" >17.000000</td>\n",
       "      <td id=\"T_964ca_row17_col16\" class=\"data row17 col16\" >4.294990</td>\n",
       "      <td id=\"T_964ca_row17_col17\" class=\"data row17 col17\" >accepted</td>\n",
       "      <td id=\"T_964ca_row17_col18\" class=\"data row17 col18\" >Likely BOLD</td>\n",
       "    </tr>\n",
       "    <tr>\n",
       "      <th id=\"T_964ca_level0_row18\" class=\"row_heading level0 row18\" >18</th>\n",
       "      <td id=\"T_964ca_row18_col0\" class=\"data row18 col0\" >ICA_18</td>\n",
       "      <td id=\"T_964ca_row18_col1\" class=\"data row18 col1\" >29.325502</td>\n",
       "      <td id=\"T_964ca_row18_col2\" class=\"data row18 col2\" >20.396341</td>\n",
       "      <td id=\"T_964ca_row18_col3\" class=\"data row18 col3\" >1.186225</td>\n",
       "      <td id=\"T_964ca_row18_col4\" class=\"data row18 col4\" >0.014014</td>\n",
       "      <td id=\"T_964ca_row18_col5\" class=\"data row18 col5\" >1460</td>\n",
       "      <td id=\"T_964ca_row18_col6\" class=\"data row18 col6\" >924</td>\n",
       "      <td id=\"T_964ca_row18_col7\" class=\"data row18 col7\" >0.233885</td>\n",
       "      <td id=\"T_964ca_row18_col8\" class=\"data row18 col8\" >0.160920</td>\n",
       "      <td id=\"T_964ca_row18_col9\" class=\"data row18 col9\" >1229</td>\n",
       "      <td id=\"T_964ca_row18_col10\" class=\"data row18 col10\" >-1.924252</td>\n",
       "      <td id=\"T_964ca_row18_col11\" class=\"data row18 col11\" >0.065655</td>\n",
       "      <td id=\"T_964ca_row18_col12\" class=\"data row18 col12\" >27.500000</td>\n",
       "      <td id=\"T_964ca_row18_col13\" class=\"data row18 col13\" >-1</td>\n",
       "      <td id=\"T_964ca_row18_col14\" class=\"data row18 col14\" >0.679135</td>\n",
       "      <td id=\"T_964ca_row18_col15\" class=\"data row18 col15\" >nan</td>\n",
       "      <td id=\"T_964ca_row18_col16\" class=\"data row18 col16\" >nan</td>\n",
       "      <td id=\"T_964ca_row18_col17\" class=\"data row18 col17\" >rejected</td>\n",
       "      <td id=\"T_964ca_row18_col18\" class=\"data row18 col18\" >Unlikely BOLD</td>\n",
       "    </tr>\n",
       "    <tr>\n",
       "      <th id=\"T_964ca_level0_row19\" class=\"row_heading level0 row19\" >19</th>\n",
       "      <td id=\"T_964ca_row19_col0\" class=\"data row19 col0\" >ICA_19</td>\n",
       "      <td id=\"T_964ca_row19_col1\" class=\"data row19 col1\" >17.374136</td>\n",
       "      <td id=\"T_964ca_row19_col2\" class=\"data row19 col2\" >13.313379</td>\n",
       "      <td id=\"T_964ca_row19_col3\" class=\"data row19 col3\" >0.269176</td>\n",
       "      <td id=\"T_964ca_row19_col4\" class=\"data row19 col4\" >0.003986</td>\n",
       "      <td id=\"T_964ca_row19_col5\" class=\"data row19 col5\" >326</td>\n",
       "      <td id=\"T_964ca_row19_col6\" class=\"data row19 col6\" >72</td>\n",
       "      <td id=\"T_964ca_row19_col7\" class=\"data row19 col7\" >0.000000</td>\n",
       "      <td id=\"T_964ca_row19_col8\" class=\"data row19 col8\" >0.000000</td>\n",
       "      <td id=\"T_964ca_row19_col9\" class=\"data row19 col9\" >1223</td>\n",
       "      <td id=\"T_964ca_row19_col10\" class=\"data row19 col10\" >-1.758980</td>\n",
       "      <td id=\"T_964ca_row19_col11\" class=\"data row19 col11\" >0.086436</td>\n",
       "      <td id=\"T_964ca_row19_col12\" class=\"data row19 col12\" >37.700000</td>\n",
       "      <td id=\"T_964ca_row19_col13\" class=\"data row19 col13\" >1</td>\n",
       "      <td id=\"T_964ca_row19_col14\" class=\"data row19 col14\" >0.260116</td>\n",
       "      <td id=\"T_964ca_row19_col15\" class=\"data row19 col15\" >nan</td>\n",
       "      <td id=\"T_964ca_row19_col16\" class=\"data row19 col16\" >15.405991</td>\n",
       "      <td id=\"T_964ca_row19_col17\" class=\"data row19 col17\" >accepted</td>\n",
       "      <td id=\"T_964ca_row19_col18\" class=\"data row19 col18\" >Low variance</td>\n",
       "    </tr>\n",
       "    <tr>\n",
       "      <th id=\"T_964ca_level0_row20\" class=\"row_heading level0 row20\" >20</th>\n",
       "      <td id=\"T_964ca_row20_col0\" class=\"data row20 col0\" >ICA_20</td>\n",
       "      <td id=\"T_964ca_row20_col1\" class=\"data row20 col1\" >28.948899</td>\n",
       "      <td id=\"T_964ca_row20_col2\" class=\"data row20 col2\" >26.340361</td>\n",
       "      <td id=\"T_964ca_row20_col3\" class=\"data row20 col3\" >0.925177</td>\n",
       "      <td id=\"T_964ca_row20_col4\" class=\"data row20 col4\" >0.012726</td>\n",
       "      <td id=\"T_964ca_row20_col5\" class=\"data row20 col5\" >2207</td>\n",
       "      <td id=\"T_964ca_row20_col6\" class=\"data row20 col6\" >1902</td>\n",
       "      <td id=\"T_964ca_row20_col7\" class=\"data row20 col7\" >0.369525</td>\n",
       "      <td id=\"T_964ca_row20_col8\" class=\"data row20 col8\" >0.277733</td>\n",
       "      <td id=\"T_964ca_row20_col9\" class=\"data row20 col9\" >1208</td>\n",
       "      <td id=\"T_964ca_row20_col10\" class=\"data row20 col10\" >1.969493</td>\n",
       "      <td id=\"T_964ca_row20_col11\" class=\"data row20 col11\" >0.060622</td>\n",
       "      <td id=\"T_964ca_row20_col12\" class=\"data row20 col12\" >14.800000</td>\n",
       "      <td id=\"T_964ca_row20_col13\" class=\"data row20 col13\" >1</td>\n",
       "      <td id=\"T_964ca_row20_col14\" class=\"data row20 col14\" >0.536571</td>\n",
       "      <td id=\"T_964ca_row20_col15\" class=\"data row20 col15\" >11.200000</td>\n",
       "      <td id=\"T_964ca_row20_col16\" class=\"data row20 col16\" >21.046319</td>\n",
       "      <td id=\"T_964ca_row20_col17\" class=\"data row20 col17\" >accepted</td>\n",
       "      <td id=\"T_964ca_row20_col18\" class=\"data row20 col18\" >Likely BOLD</td>\n",
       "    </tr>\n",
       "    <tr>\n",
       "      <th id=\"T_964ca_level0_row21\" class=\"row_heading level0 row21\" >21</th>\n",
       "      <td id=\"T_964ca_row21_col0\" class=\"data row21 col0\" >ICA_21</td>\n",
       "      <td id=\"T_964ca_row21_col1\" class=\"data row21 col1\" >50.518207</td>\n",
       "      <td id=\"T_964ca_row21_col2\" class=\"data row21 col2\" >23.817301</td>\n",
       "      <td id=\"T_964ca_row21_col3\" class=\"data row21 col3\" >35.792080</td>\n",
       "      <td id=\"T_964ca_row21_col4\" class=\"data row21 col4\" >0.259929</td>\n",
       "      <td id=\"T_964ca_row21_col5\" class=\"data row21 col5\" >5123</td>\n",
       "      <td id=\"T_964ca_row21_col6\" class=\"data row21 col6\" >2946</td>\n",
       "      <td id=\"T_964ca_row21_col7\" class=\"data row21 col7\" >0.486619</td>\n",
       "      <td id=\"T_964ca_row21_col8\" class=\"data row21 col8\" >0.194260</td>\n",
       "      <td id=\"T_964ca_row21_col9\" class=\"data row21 col9\" >947</td>\n",
       "      <td id=\"T_964ca_row21_col10\" class=\"data row21 col10\" >0.000000</td>\n",
       "      <td id=\"T_964ca_row21_col11\" class=\"data row21 col11\" >0.000000</td>\n",
       "      <td id=\"T_964ca_row21_col12\" class=\"data row21 col12\" >6.400000</td>\n",
       "      <td id=\"T_964ca_row21_col13\" class=\"data row21 col13\" >1</td>\n",
       "      <td id=\"T_964ca_row21_col14\" class=\"data row21 col14\" >11.895248</td>\n",
       "      <td id=\"T_964ca_row21_col15\" class=\"data row21 col15\" >4.600000</td>\n",
       "      <td id=\"T_964ca_row21_col16\" class=\"data row21 col16\" >10.133716</td>\n",
       "      <td id=\"T_964ca_row21_col17\" class=\"data row21 col17\" >accepted</td>\n",
       "      <td id=\"T_964ca_row21_col18\" class=\"data row21 col18\" >Likely BOLD</td>\n",
       "    </tr>\n",
       "    <tr>\n",
       "      <th id=\"T_964ca_level0_row22\" class=\"row_heading level0 row22\" >22</th>\n",
       "      <td id=\"T_964ca_row22_col0\" class=\"data row22 col0\" >ICA_22</td>\n",
       "      <td id=\"T_964ca_row22_col1\" class=\"data row22 col1\" >26.138694</td>\n",
       "      <td id=\"T_964ca_row22_col2\" class=\"data row22 col2\" >17.736148</td>\n",
       "      <td id=\"T_964ca_row22_col3\" class=\"data row22 col3\" >0.369724</td>\n",
       "      <td id=\"T_964ca_row22_col4\" class=\"data row22 col4\" >0.004821</td>\n",
       "      <td id=\"T_964ca_row22_col5\" class=\"data row22 col5\" >1180</td>\n",
       "      <td id=\"T_964ca_row22_col6\" class=\"data row22 col6\" >361</td>\n",
       "      <td id=\"T_964ca_row22_col7\" class=\"data row22 col7\" >0.455685</td>\n",
       "      <td id=\"T_964ca_row22_col8\" class=\"data row22 col8\" >0.085349</td>\n",
       "      <td id=\"T_964ca_row22_col9\" class=\"data row22 col9\" >1203</td>\n",
       "      <td id=\"T_964ca_row22_col10\" class=\"data row22 col10\" >5.950242</td>\n",
       "      <td id=\"T_964ca_row22_col11\" class=\"data row22 col11\" >0.000000</td>\n",
       "      <td id=\"T_964ca_row22_col12\" class=\"data row22 col12\" >15.900000</td>\n",
       "      <td id=\"T_964ca_row22_col13\" class=\"data row22 col13\" >1</td>\n",
       "      <td id=\"T_964ca_row22_col14\" class=\"data row22 col14\" >0.237481</td>\n",
       "      <td id=\"T_964ca_row22_col15\" class=\"data row22 col15\" >11.200000</td>\n",
       "      <td id=\"T_964ca_row22_col16\" class=\"data row22 col16\" >14.440551</td>\n",
       "      <td id=\"T_964ca_row22_col17\" class=\"data row22 col17\" >accepted</td>\n",
       "      <td id=\"T_964ca_row22_col18\" class=\"data row22 col18\" >Likely BOLD</td>\n",
       "    </tr>\n",
       "    <tr>\n",
       "      <th id=\"T_964ca_level0_row23\" class=\"row_heading level0 row23\" >23</th>\n",
       "      <td id=\"T_964ca_row23_col0\" class=\"data row23 col0\" >ICA_23</td>\n",
       "      <td id=\"T_964ca_row23_col1\" class=\"data row23 col1\" >36.218894</td>\n",
       "      <td id=\"T_964ca_row23_col2\" class=\"data row23 col2\" >19.761018</td>\n",
       "      <td id=\"T_964ca_row23_col3\" class=\"data row23 col3\" >1.818097</td>\n",
       "      <td id=\"T_964ca_row23_col4\" class=\"data row23 col4\" >0.016928</td>\n",
       "      <td id=\"T_964ca_row23_col5\" class=\"data row23 col5\" >2752</td>\n",
       "      <td id=\"T_964ca_row23_col6\" class=\"data row23 col6\" >662</td>\n",
       "      <td id=\"T_964ca_row23_col7\" class=\"data row23 col7\" >0.442593</td>\n",
       "      <td id=\"T_964ca_row23_col8\" class=\"data row23 col8\" >0.126984</td>\n",
       "      <td id=\"T_964ca_row23_col9\" class=\"data row23 col9\" >1210</td>\n",
       "      <td id=\"T_964ca_row23_col10\" class=\"data row23 col10\" >2.400991</td>\n",
       "      <td id=\"T_964ca_row23_col11\" class=\"data row23 col11\" >0.019381</td>\n",
       "      <td id=\"T_964ca_row23_col12\" class=\"data row23 col12\" >11.400000</td>\n",
       "      <td id=\"T_964ca_row23_col13\" class=\"data row23 col13\" >1</td>\n",
       "      <td id=\"T_964ca_row23_col14\" class=\"data row23 col14\" >0.842784</td>\n",
       "      <td id=\"T_964ca_row23_col15\" class=\"data row23 col15\" >8.000000</td>\n",
       "      <td id=\"T_964ca_row23_col16\" class=\"data row23 col16\" >6.784044</td>\n",
       "      <td id=\"T_964ca_row23_col17\" class=\"data row23 col17\" >accepted</td>\n",
       "      <td id=\"T_964ca_row23_col18\" class=\"data row23 col18\" >Likely BOLD</td>\n",
       "    </tr>\n",
       "    <tr>\n",
       "      <th id=\"T_964ca_level0_row24\" class=\"row_heading level0 row24\" >24</th>\n",
       "      <td id=\"T_964ca_row24_col0\" class=\"data row24 col0\" >ICA_24</td>\n",
       "      <td id=\"T_964ca_row24_col1\" class=\"data row24 col1\" >18.628510</td>\n",
       "      <td id=\"T_964ca_row24_col2\" class=\"data row24 col2\" >17.525927</td>\n",
       "      <td id=\"T_964ca_row24_col3\" class=\"data row24 col3\" >0.256949</td>\n",
       "      <td id=\"T_964ca_row24_col4\" class=\"data row24 col4\" >0.003607</td>\n",
       "      <td id=\"T_964ca_row24_col5\" class=\"data row24 col5\" >422</td>\n",
       "      <td id=\"T_964ca_row24_col6\" class=\"data row24 col6\" >460</td>\n",
       "      <td id=\"T_964ca_row24_col7\" class=\"data row24 col7\" >0.235443</td>\n",
       "      <td id=\"T_964ca_row24_col8\" class=\"data row24 col8\" >0.238739</td>\n",
       "      <td id=\"T_964ca_row24_col9\" class=\"data row24 col9\" >1225</td>\n",
       "      <td id=\"T_964ca_row24_col10\" class=\"data row24 col10\" >0.000000</td>\n",
       "      <td id=\"T_964ca_row24_col11\" class=\"data row24 col11\" >0.000000</td>\n",
       "      <td id=\"T_964ca_row24_col12\" class=\"data row24 col12\" >34.400000</td>\n",
       "      <td id=\"T_964ca_row24_col13\" class=\"data row24 col13\" >1</td>\n",
       "      <td id=\"T_964ca_row24_col14\" class=\"data row24 col14\" >0.231581</td>\n",
       "      <td id=\"T_964ca_row24_col15\" class=\"data row24 col15\" >nan</td>\n",
       "      <td id=\"T_964ca_row24_col16\" class=\"data row24 col16\" >nan</td>\n",
       "      <td id=\"T_964ca_row24_col17\" class=\"data row24 col17\" >rejected</td>\n",
       "      <td id=\"T_964ca_row24_col18\" class=\"data row24 col18\" >Unlikely BOLD</td>\n",
       "    </tr>\n",
       "    <tr>\n",
       "      <th id=\"T_964ca_level0_row25\" class=\"row_heading level0 row25\" >25</th>\n",
       "      <td id=\"T_964ca_row25_col0\" class=\"data row25 col0\" >ICA_25</td>\n",
       "      <td id=\"T_964ca_row25_col1\" class=\"data row25 col1\" >25.320432</td>\n",
       "      <td id=\"T_964ca_row25_col2\" class=\"data row25 col2\" >16.376623</td>\n",
       "      <td id=\"T_964ca_row25_col3\" class=\"data row25 col3\" >0.897535</td>\n",
       "      <td id=\"T_964ca_row25_col4\" class=\"data row25 col4\" >0.012538</td>\n",
       "      <td id=\"T_964ca_row25_col5\" class=\"data row25 col5\" >1447</td>\n",
       "      <td id=\"T_964ca_row25_col6\" class=\"data row25 col6\" >437</td>\n",
       "      <td id=\"T_964ca_row25_col7\" class=\"data row25 col7\" >0.329221</td>\n",
       "      <td id=\"T_964ca_row25_col8\" class=\"data row25 col8\" >0.061393</td>\n",
       "      <td id=\"T_964ca_row25_col9\" class=\"data row25 col9\" >1219</td>\n",
       "      <td id=\"T_964ca_row25_col10\" class=\"data row25 col10\" >0.000000</td>\n",
       "      <td id=\"T_964ca_row25_col11\" class=\"data row25 col11\" >0.000000</td>\n",
       "      <td id=\"T_964ca_row25_col12\" class=\"data row25 col12\" >23.000000</td>\n",
       "      <td id=\"T_964ca_row25_col13\" class=\"data row25 col13\" >-1</td>\n",
       "      <td id=\"T_964ca_row25_col14\" class=\"data row25 col14\" >0.595134</td>\n",
       "      <td id=\"T_964ca_row25_col15\" class=\"data row25 col15\" >16.800000</td>\n",
       "      <td id=\"T_964ca_row25_col16\" class=\"data row25 col16\" >5.451428</td>\n",
       "      <td id=\"T_964ca_row25_col17\" class=\"data row25 col17\" >accepted</td>\n",
       "      <td id=\"T_964ca_row25_col18\" class=\"data row25 col18\" >Likely BOLD</td>\n",
       "    </tr>\n",
       "    <tr>\n",
       "      <th id=\"T_964ca_level0_row26\" class=\"row_heading level0 row26\" >26</th>\n",
       "      <td id=\"T_964ca_row26_col0\" class=\"data row26 col0\" >ICA_26</td>\n",
       "      <td id=\"T_964ca_row26_col1\" class=\"data row26 col1\" >26.152276</td>\n",
       "      <td id=\"T_964ca_row26_col2\" class=\"data row26 col2\" >19.268627</td>\n",
       "      <td id=\"T_964ca_row26_col3\" class=\"data row26 col3\" >0.687006</td>\n",
       "      <td id=\"T_964ca_row26_col4\" class=\"data row26 col4\" >0.009539</td>\n",
       "      <td id=\"T_964ca_row26_col5\" class=\"data row26 col5\" >1522</td>\n",
       "      <td id=\"T_964ca_row26_col6\" class=\"data row26 col6\" >1337</td>\n",
       "      <td id=\"T_964ca_row26_col7\" class=\"data row26 col7\" >0.373057</td>\n",
       "      <td id=\"T_964ca_row26_col8\" class=\"data row26 col8\" >0.313010</td>\n",
       "      <td id=\"T_964ca_row26_col9\" class=\"data row26 col9\" >1192</td>\n",
       "      <td id=\"T_964ca_row26_col10\" class=\"data row26 col10\" >-3.831767</td>\n",
       "      <td id=\"T_964ca_row26_col11\" class=\"data row26 col11\" >0.000568</td>\n",
       "      <td id=\"T_964ca_row26_col12\" class=\"data row26 col12\" >21.600000</td>\n",
       "      <td id=\"T_964ca_row26_col13\" class=\"data row26 col13\" >-1</td>\n",
       "      <td id=\"T_964ca_row26_col14\" class=\"data row26 col14\" >0.441047</td>\n",
       "      <td id=\"T_964ca_row26_col15\" class=\"data row26 col15\" >nan</td>\n",
       "      <td id=\"T_964ca_row26_col16\" class=\"data row26 col16\" >nan</td>\n",
       "      <td id=\"T_964ca_row26_col17\" class=\"data row26 col17\" >rejected</td>\n",
       "      <td id=\"T_964ca_row26_col18\" class=\"data row26 col18\" >Unlikely BOLD</td>\n",
       "    </tr>\n",
       "    <tr>\n",
       "      <th id=\"T_964ca_level0_row27\" class=\"row_heading level0 row27\" >27</th>\n",
       "      <td id=\"T_964ca_row27_col0\" class=\"data row27 col0\" >ICA_27</td>\n",
       "      <td id=\"T_964ca_row27_col1\" class=\"data row27 col1\" >20.653733</td>\n",
       "      <td id=\"T_964ca_row27_col2\" class=\"data row27 col2\" >18.187818</td>\n",
       "      <td id=\"T_964ca_row27_col3\" class=\"data row27 col3\" >0.437837</td>\n",
       "      <td id=\"T_964ca_row27_col4\" class=\"data row27 col4\" >0.006150</td>\n",
       "      <td id=\"T_964ca_row27_col5\" class=\"data row27 col5\" >1374</td>\n",
       "      <td id=\"T_964ca_row27_col6\" class=\"data row27 col6\" >1172</td>\n",
       "      <td id=\"T_964ca_row27_col7\" class=\"data row27 col7\" >0.443958</td>\n",
       "      <td id=\"T_964ca_row27_col8\" class=\"data row27 col8\" >0.307824</td>\n",
       "      <td id=\"T_964ca_row27_col9\" class=\"data row27 col9\" >1238</td>\n",
       "      <td id=\"T_964ca_row27_col10\" class=\"data row27 col10\" >0.000000</td>\n",
       "      <td id=\"T_964ca_row27_col11\" class=\"data row27 col11\" >0.000000</td>\n",
       "      <td id=\"T_964ca_row27_col12\" class=\"data row27 col12\" >25.800000</td>\n",
       "      <td id=\"T_964ca_row27_col13\" class=\"data row27 col13\" >-1</td>\n",
       "      <td id=\"T_964ca_row27_col14\" class=\"data row27 col14\" >0.355916</td>\n",
       "      <td id=\"T_964ca_row27_col15\" class=\"data row27 col15\" >nan</td>\n",
       "      <td id=\"T_964ca_row27_col16\" class=\"data row27 col16\" >12.619104</td>\n",
       "      <td id=\"T_964ca_row27_col17\" class=\"data row27 col17\" >accepted</td>\n",
       "      <td id=\"T_964ca_row27_col18\" class=\"data row27 col18\" >Low variance</td>\n",
       "    </tr>\n",
       "    <tr>\n",
       "      <th id=\"T_964ca_level0_row28\" class=\"row_heading level0 row28\" >28</th>\n",
       "      <td id=\"T_964ca_row28_col0\" class=\"data row28 col0\" >ICA_28</td>\n",
       "      <td id=\"T_964ca_row28_col1\" class=\"data row28 col1\" >21.332113</td>\n",
       "      <td id=\"T_964ca_row28_col2\" class=\"data row28 col2\" >14.852464</td>\n",
       "      <td id=\"T_964ca_row28_col3\" class=\"data row28 col3\" >0.251351</td>\n",
       "      <td id=\"T_964ca_row28_col4\" class=\"data row28 col4\" >0.003734</td>\n",
       "      <td id=\"T_964ca_row28_col5\" class=\"data row28 col5\" >868</td>\n",
       "      <td id=\"T_964ca_row28_col6\" class=\"data row28 col6\" >328</td>\n",
       "      <td id=\"T_964ca_row28_col7\" class=\"data row28 col7\" >0.320700</td>\n",
       "      <td id=\"T_964ca_row28_col8\" class=\"data row28 col8\" >0.000000</td>\n",
       "      <td id=\"T_964ca_row28_col9\" class=\"data row28 col9\" >1209</td>\n",
       "      <td id=\"T_964ca_row28_col10\" class=\"data row28 col10\" >3.143230</td>\n",
       "      <td id=\"T_964ca_row28_col11\" class=\"data row28 col11\" >0.004219</td>\n",
       "      <td id=\"T_964ca_row28_col12\" class=\"data row28 col12\" >24.400000</td>\n",
       "      <td id=\"T_964ca_row28_col13\" class=\"data row28 col13\" >-1</td>\n",
       "      <td id=\"T_964ca_row28_col14\" class=\"data row28 col14\" >0.197825</td>\n",
       "      <td id=\"T_964ca_row28_col15\" class=\"data row28 col15\" >nan</td>\n",
       "      <td id=\"T_964ca_row28_col16\" class=\"data row28 col16\" >6.235915</td>\n",
       "      <td id=\"T_964ca_row28_col17\" class=\"data row28 col17\" >accepted</td>\n",
       "      <td id=\"T_964ca_row28_col18\" class=\"data row28 col18\" >Low variance</td>\n",
       "    </tr>\n",
       "    <tr>\n",
       "      <th id=\"T_964ca_level0_row29\" class=\"row_heading level0 row29\" >29</th>\n",
       "      <td id=\"T_964ca_row29_col0\" class=\"data row29 col0\" >ICA_29</td>\n",
       "      <td id=\"T_964ca_row29_col1\" class=\"data row29 col1\" >21.335666</td>\n",
       "      <td id=\"T_964ca_row29_col2\" class=\"data row29 col2\" >17.724435</td>\n",
       "      <td id=\"T_964ca_row29_col3\" class=\"data row29 col3\" >0.400618</td>\n",
       "      <td id=\"T_964ca_row29_col4\" class=\"data row29 col4\" >0.005437</td>\n",
       "      <td id=\"T_964ca_row29_col5\" class=\"data row29 col5\" >758</td>\n",
       "      <td id=\"T_964ca_row29_col6\" class=\"data row29 col6\" >416</td>\n",
       "      <td id=\"T_964ca_row29_col7\" class=\"data row29 col7\" >0.144120</td>\n",
       "      <td id=\"T_964ca_row29_col8\" class=\"data row29 col8\" >0.000000</td>\n",
       "      <td id=\"T_964ca_row29_col9\" class=\"data row29 col9\" >1236</td>\n",
       "      <td id=\"T_964ca_row29_col10\" class=\"data row29 col10\" >0.000000</td>\n",
       "      <td id=\"T_964ca_row29_col11\" class=\"data row29 col11\" >0.000000</td>\n",
       "      <td id=\"T_964ca_row29_col12\" class=\"data row29 col12\" >33.600000</td>\n",
       "      <td id=\"T_964ca_row29_col13\" class=\"data row29 col13\" >-1</td>\n",
       "      <td id=\"T_964ca_row29_col14\" class=\"data row29 col14\" >0.315252</td>\n",
       "      <td id=\"T_964ca_row29_col15\" class=\"data row29 col15\" >nan</td>\n",
       "      <td id=\"T_964ca_row29_col16\" class=\"data row29 col16\" >3.122712</td>\n",
       "      <td id=\"T_964ca_row29_col17\" class=\"data row29 col17\" >accepted</td>\n",
       "      <td id=\"T_964ca_row29_col18\" class=\"data row29 col18\" >Low variance</td>\n",
       "    </tr>\n",
       "    <tr>\n",
       "      <th id=\"T_964ca_level0_row30\" class=\"row_heading level0 row30\" >30</th>\n",
       "      <td id=\"T_964ca_row30_col0\" class=\"data row30 col0\" >ICA_30</td>\n",
       "      <td id=\"T_964ca_row30_col1\" class=\"data row30 col1\" >29.031634</td>\n",
       "      <td id=\"T_964ca_row30_col2\" class=\"data row30 col2\" >18.450691</td>\n",
       "      <td id=\"T_964ca_row30_col3\" class=\"data row30 col3\" >0.574705</td>\n",
       "      <td id=\"T_964ca_row30_col4\" class=\"data row30 col4\" >0.008088</td>\n",
       "      <td id=\"T_964ca_row30_col5\" class=\"data row30 col5\" >1671</td>\n",
       "      <td id=\"T_964ca_row30_col6\" class=\"data row30 col6\" >874</td>\n",
       "      <td id=\"T_964ca_row30_col7\" class=\"data row30 col7\" >0.292073</td>\n",
       "      <td id=\"T_964ca_row30_col8\" class=\"data row30 col8\" >0.107551</td>\n",
       "      <td id=\"T_964ca_row30_col9\" class=\"data row30 col9\" >1259</td>\n",
       "      <td id=\"T_964ca_row30_col10\" class=\"data row30 col10\" >4.074479</td>\n",
       "      <td id=\"T_964ca_row30_col11\" class=\"data row30 col11\" >0.000304</td>\n",
       "      <td id=\"T_964ca_row30_col12\" class=\"data row30 col12\" >21.700000</td>\n",
       "      <td id=\"T_964ca_row30_col13\" class=\"data row30 col13\" >-1</td>\n",
       "      <td id=\"T_964ca_row30_col14\" class=\"data row30 col14\" >0.332360</td>\n",
       "      <td id=\"T_964ca_row30_col15\" class=\"data row30 col15\" >14.300000</td>\n",
       "      <td id=\"T_964ca_row30_col16\" class=\"data row30 col16\" >15.850655</td>\n",
       "      <td id=\"T_964ca_row30_col17\" class=\"data row30 col17\" >accepted</td>\n",
       "      <td id=\"T_964ca_row30_col18\" class=\"data row30 col18\" >Likely BOLD</td>\n",
       "    </tr>\n",
       "    <tr>\n",
       "      <th id=\"T_964ca_level0_row31\" class=\"row_heading level0 row31\" >31</th>\n",
       "      <td id=\"T_964ca_row31_col0\" class=\"data row31 col0\" >ICA_31</td>\n",
       "      <td id=\"T_964ca_row31_col1\" class=\"data row31 col1\" >31.819497</td>\n",
       "      <td id=\"T_964ca_row31_col2\" class=\"data row31 col2\" >24.529542</td>\n",
       "      <td id=\"T_964ca_row31_col3\" class=\"data row31 col3\" >0.781948</td>\n",
       "      <td id=\"T_964ca_row31_col4\" class=\"data row31 col4\" >0.009984</td>\n",
       "      <td id=\"T_964ca_row31_col5\" class=\"data row31 col5\" >1973</td>\n",
       "      <td id=\"T_964ca_row31_col6\" class=\"data row31 col6\" >1168</td>\n",
       "      <td id=\"T_964ca_row31_col7\" class=\"data row31 col7\" >0.384201</td>\n",
       "      <td id=\"T_964ca_row31_col8\" class=\"data row31 col8\" >0.220774</td>\n",
       "      <td id=\"T_964ca_row31_col9\" class=\"data row31 col9\" >1169</td>\n",
       "      <td id=\"T_964ca_row31_col10\" class=\"data row31 col10\" >4.803848</td>\n",
       "      <td id=\"T_964ca_row31_col11\" class=\"data row31 col11\" >0.000016</td>\n",
       "      <td id=\"T_964ca_row31_col12\" class=\"data row31 col12\" >10.800000</td>\n",
       "      <td id=\"T_964ca_row31_col13\" class=\"data row31 col13\" >-1</td>\n",
       "      <td id=\"T_964ca_row31_col14\" class=\"data row31 col14\" >0.412590</td>\n",
       "      <td id=\"T_964ca_row31_col15\" class=\"data row31 col15\" >8.200000</td>\n",
       "      <td id=\"T_964ca_row31_col16\" class=\"data row31 col16\" >15.219292</td>\n",
       "      <td id=\"T_964ca_row31_col17\" class=\"data row31 col17\" >accepted</td>\n",
       "      <td id=\"T_964ca_row31_col18\" class=\"data row31 col18\" >Likely BOLD</td>\n",
       "    </tr>\n",
       "    <tr>\n",
       "      <th id=\"T_964ca_level0_row32\" class=\"row_heading level0 row32\" >32</th>\n",
       "      <td id=\"T_964ca_row32_col0\" class=\"data row32 col0\" >ICA_32</td>\n",
       "      <td id=\"T_964ca_row32_col1\" class=\"data row32 col1\" >25.588172</td>\n",
       "      <td id=\"T_964ca_row32_col2\" class=\"data row32 col2\" >16.080564</td>\n",
       "      <td id=\"T_964ca_row32_col3\" class=\"data row32 col3\" >0.513138</td>\n",
       "      <td id=\"T_964ca_row32_col4\" class=\"data row32 col4\" >0.007719</td>\n",
       "      <td id=\"T_964ca_row32_col5\" class=\"data row32 col5\" >1718</td>\n",
       "      <td id=\"T_964ca_row32_col6\" class=\"data row32 col6\" >617</td>\n",
       "      <td id=\"T_964ca_row32_col7\" class=\"data row32 col7\" >0.301669</td>\n",
       "      <td id=\"T_964ca_row32_col8\" class=\"data row32 col8\" >0.113729</td>\n",
       "      <td id=\"T_964ca_row32_col9\" class=\"data row32 col9\" >1259</td>\n",
       "      <td id=\"T_964ca_row32_col10\" class=\"data row32 col10\" >0.000000</td>\n",
       "      <td id=\"T_964ca_row32_col11\" class=\"data row32 col11\" >0.000000</td>\n",
       "      <td id=\"T_964ca_row32_col12\" class=\"data row32 col12\" >25.900000</td>\n",
       "      <td id=\"T_964ca_row32_col13\" class=\"data row32 col13\" >-1</td>\n",
       "      <td id=\"T_964ca_row32_col14\" class=\"data row32 col14\" >0.336690</td>\n",
       "      <td id=\"T_964ca_row32_col15\" class=\"data row32 col15\" >17.300000</td>\n",
       "      <td id=\"T_964ca_row32_col16\" class=\"data row32 col16\" >22.875354</td>\n",
       "      <td id=\"T_964ca_row32_col17\" class=\"data row32 col17\" >accepted</td>\n",
       "      <td id=\"T_964ca_row32_col18\" class=\"data row32 col18\" >Likely BOLD</td>\n",
       "    </tr>\n",
       "    <tr>\n",
       "      <th id=\"T_964ca_level0_row33\" class=\"row_heading level0 row33\" >33</th>\n",
       "      <td id=\"T_964ca_row33_col0\" class=\"data row33 col0\" >ICA_33</td>\n",
       "      <td id=\"T_964ca_row33_col1\" class=\"data row33 col1\" >36.717310</td>\n",
       "      <td id=\"T_964ca_row33_col2\" class=\"data row33 col2\" >15.796473</td>\n",
       "      <td id=\"T_964ca_row33_col3\" class=\"data row33 col3\" >1.648336</td>\n",
       "      <td id=\"T_964ca_row33_col4\" class=\"data row33 col4\" >0.022094</td>\n",
       "      <td id=\"T_964ca_row33_col5\" class=\"data row33 col5\" >4794</td>\n",
       "      <td id=\"T_964ca_row33_col6\" class=\"data row33 col6\" >2828</td>\n",
       "      <td id=\"T_964ca_row33_col7\" class=\"data row33 col7\" >0.518028</td>\n",
       "      <td id=\"T_964ca_row33_col8\" class=\"data row33 col8\" >0.294260</td>\n",
       "      <td id=\"T_964ca_row33_col9\" class=\"data row33 col9\" >1120</td>\n",
       "      <td id=\"T_964ca_row33_col10\" class=\"data row33 col10\" >8.112906</td>\n",
       "      <td id=\"T_964ca_row33_col11\" class=\"data row33 col11\" >0.000000</td>\n",
       "      <td id=\"T_964ca_row33_col12\" class=\"data row33 col12\" >3.400000</td>\n",
       "      <td id=\"T_964ca_row33_col13\" class=\"data row33 col13\" >1</td>\n",
       "      <td id=\"T_964ca_row33_col14\" class=\"data row33 col14\" >0.753719</td>\n",
       "      <td id=\"T_964ca_row33_col15\" class=\"data row33 col15\" >2.800000</td>\n",
       "      <td id=\"T_964ca_row33_col16\" class=\"data row33 col16\" >14.110766</td>\n",
       "      <td id=\"T_964ca_row33_col17\" class=\"data row33 col17\" >accepted</td>\n",
       "      <td id=\"T_964ca_row33_col18\" class=\"data row33 col18\" >Likely BOLD</td>\n",
       "    </tr>\n",
       "    <tr>\n",
       "      <th id=\"T_964ca_level0_row34\" class=\"row_heading level0 row34\" >34</th>\n",
       "      <td id=\"T_964ca_row34_col0\" class=\"data row34 col0\" >ICA_34</td>\n",
       "      <td id=\"T_964ca_row34_col1\" class=\"data row34 col1\" >20.727932</td>\n",
       "      <td id=\"T_964ca_row34_col2\" class=\"data row34 col2\" >17.020308</td>\n",
       "      <td id=\"T_964ca_row34_col3\" class=\"data row34 col3\" >0.302689</td>\n",
       "      <td id=\"T_964ca_row34_col4\" class=\"data row34 col4\" >0.004039</td>\n",
       "      <td id=\"T_964ca_row34_col5\" class=\"data row34 col5\" >740</td>\n",
       "      <td id=\"T_964ca_row34_col6\" class=\"data row34 col6\" >416</td>\n",
       "      <td id=\"T_964ca_row34_col7\" class=\"data row34 col7\" >0.366599</td>\n",
       "      <td id=\"T_964ca_row34_col8\" class=\"data row34 col8\" >0.211706</td>\n",
       "      <td id=\"T_964ca_row34_col9\" class=\"data row34 col9\" >1222</td>\n",
       "      <td id=\"T_964ca_row34_col10\" class=\"data row34 col10\" >0.000000</td>\n",
       "      <td id=\"T_964ca_row34_col11\" class=\"data row34 col11\" >0.000000</td>\n",
       "      <td id=\"T_964ca_row34_col12\" class=\"data row34 col12\" >28.400000</td>\n",
       "      <td id=\"T_964ca_row34_col13\" class=\"data row34 col13\" >-1</td>\n",
       "      <td id=\"T_964ca_row34_col14\" class=\"data row34 col14\" >0.245175</td>\n",
       "      <td id=\"T_964ca_row34_col15\" class=\"data row34 col15\" >nan</td>\n",
       "      <td id=\"T_964ca_row34_col16\" class=\"data row34 col16\" >4.093091</td>\n",
       "      <td id=\"T_964ca_row34_col17\" class=\"data row34 col17\" >accepted</td>\n",
       "      <td id=\"T_964ca_row34_col18\" class=\"data row34 col18\" >Low variance</td>\n",
       "    </tr>\n",
       "    <tr>\n",
       "      <th id=\"T_964ca_level0_row35\" class=\"row_heading level0 row35\" >35</th>\n",
       "      <td id=\"T_964ca_row35_col0\" class=\"data row35 col0\" >ICA_35</td>\n",
       "      <td id=\"T_964ca_row35_col1\" class=\"data row35 col1\" >23.028577</td>\n",
       "      <td id=\"T_964ca_row35_col2\" class=\"data row35 col2\" >19.611960</td>\n",
       "      <td id=\"T_964ca_row35_col3\" class=\"data row35 col3\" >0.542973</td>\n",
       "      <td id=\"T_964ca_row35_col4\" class=\"data row35 col4\" >0.007931</td>\n",
       "      <td id=\"T_964ca_row35_col5\" class=\"data row35 col5\" >1341</td>\n",
       "      <td id=\"T_964ca_row35_col6\" class=\"data row35 col6\" >833</td>\n",
       "      <td id=\"T_964ca_row35_col7\" class=\"data row35 col7\" >0.297052</td>\n",
       "      <td id=\"T_964ca_row35_col8\" class=\"data row35 col8\" >0.133498</td>\n",
       "      <td id=\"T_964ca_row35_col9\" class=\"data row35 col9\" >1165</td>\n",
       "      <td id=\"T_964ca_row35_col10\" class=\"data row35 col10\" >-3.583948</td>\n",
       "      <td id=\"T_964ca_row35_col11\" class=\"data row35 col11\" >0.000700</td>\n",
       "      <td id=\"T_964ca_row35_col12\" class=\"data row35 col12\" >24.300000</td>\n",
       "      <td id=\"T_964ca_row35_col13\" class=\"data row35 col13\" >-1</td>\n",
       "      <td id=\"T_964ca_row35_col14\" class=\"data row35 col14\" >0.395863</td>\n",
       "      <td id=\"T_964ca_row35_col15\" class=\"data row35 col15\" >nan</td>\n",
       "      <td id=\"T_964ca_row35_col16\" class=\"data row35 col16\" >5.272240</td>\n",
       "      <td id=\"T_964ca_row35_col17\" class=\"data row35 col17\" >accepted</td>\n",
       "      <td id=\"T_964ca_row35_col18\" class=\"data row35 col18\" >Low variance</td>\n",
       "    </tr>\n",
       "    <tr>\n",
       "      <th id=\"T_964ca_level0_row36\" class=\"row_heading level0 row36\" >36</th>\n",
       "      <td id=\"T_964ca_row36_col0\" class=\"data row36 col0\" >ICA_36</td>\n",
       "      <td id=\"T_964ca_row36_col1\" class=\"data row36 col1\" >26.886630</td>\n",
       "      <td id=\"T_964ca_row36_col2\" class=\"data row36 col2\" >17.629377</td>\n",
       "      <td id=\"T_964ca_row36_col3\" class=\"data row36 col3\" >0.438053</td>\n",
       "      <td id=\"T_964ca_row36_col4\" class=\"data row36 col4\" >0.006157</td>\n",
       "      <td id=\"T_964ca_row36_col5\" class=\"data row36 col5\" >1621</td>\n",
       "      <td id=\"T_964ca_row36_col6\" class=\"data row36 col6\" >571</td>\n",
       "      <td id=\"T_964ca_row36_col7\" class=\"data row36 col7\" >0.376559</td>\n",
       "      <td id=\"T_964ca_row36_col8\" class=\"data row36 col8\" >0.137255</td>\n",
       "      <td id=\"T_964ca_row36_col9\" class=\"data row36 col9\" >1200</td>\n",
       "      <td id=\"T_964ca_row36_col10\" class=\"data row36 col10\" >0.000000</td>\n",
       "      <td id=\"T_964ca_row36_col11\" class=\"data row36 col11\" >0.000000</td>\n",
       "      <td id=\"T_964ca_row36_col12\" class=\"data row36 col12\" >18.400000</td>\n",
       "      <td id=\"T_964ca_row36_col13\" class=\"data row36 col13\" >1</td>\n",
       "      <td id=\"T_964ca_row36_col14\" class=\"data row36 col14\" >0.273542</td>\n",
       "      <td id=\"T_964ca_row36_col15\" class=\"data row36 col15\" >13.800000</td>\n",
       "      <td id=\"T_964ca_row36_col16\" class=\"data row36 col16\" >8.395674</td>\n",
       "      <td id=\"T_964ca_row36_col17\" class=\"data row36 col17\" >accepted</td>\n",
       "      <td id=\"T_964ca_row36_col18\" class=\"data row36 col18\" >Likely BOLD</td>\n",
       "    </tr>\n",
       "    <tr>\n",
       "      <th id=\"T_964ca_level0_row37\" class=\"row_heading level0 row37\" >37</th>\n",
       "      <td id=\"T_964ca_row37_col0\" class=\"data row37 col0\" >ICA_37</td>\n",
       "      <td id=\"T_964ca_row37_col1\" class=\"data row37 col1\" >62.834284</td>\n",
       "      <td id=\"T_964ca_row37_col2\" class=\"data row37 col2\" >18.313377</td>\n",
       "      <td id=\"T_964ca_row37_col3\" class=\"data row37 col3\" >13.202186</td>\n",
       "      <td id=\"T_964ca_row37_col4\" class=\"data row37 col4\" >0.133574</td>\n",
       "      <td id=\"T_964ca_row37_col5\" class=\"data row37 col5\" >5157</td>\n",
       "      <td id=\"T_964ca_row37_col6\" class=\"data row37 col6\" >2061</td>\n",
       "      <td id=\"T_964ca_row37_col7\" class=\"data row37 col7\" >0.541503</td>\n",
       "      <td id=\"T_964ca_row37_col8\" class=\"data row37 col8\" >0.099068</td>\n",
       "      <td id=\"T_964ca_row37_col9\" class=\"data row37 col9\" >1071</td>\n",
       "      <td id=\"T_964ca_row37_col10\" class=\"data row37 col10\" >0.000000</td>\n",
       "      <td id=\"T_964ca_row37_col11\" class=\"data row37 col11\" >0.000000</td>\n",
       "      <td id=\"T_964ca_row37_col12\" class=\"data row37 col12\" >6.000000</td>\n",
       "      <td id=\"T_964ca_row37_col13\" class=\"data row37 col13\" >-1</td>\n",
       "      <td id=\"T_964ca_row37_col14\" class=\"data row37 col14\" >3.527635</td>\n",
       "      <td id=\"T_964ca_row37_col15\" class=\"data row37 col15\" >4.000000</td>\n",
       "      <td id=\"T_964ca_row37_col16\" class=\"data row37 col16\" >6.806975</td>\n",
       "      <td id=\"T_964ca_row37_col17\" class=\"data row37 col17\" >accepted</td>\n",
       "      <td id=\"T_964ca_row37_col18\" class=\"data row37 col18\" >Likely BOLD</td>\n",
       "    </tr>\n",
       "    <tr>\n",
       "      <th id=\"T_964ca_level0_row38\" class=\"row_heading level0 row38\" >38</th>\n",
       "      <td id=\"T_964ca_row38_col0\" class=\"data row38 col0\" >ICA_38</td>\n",
       "      <td id=\"T_964ca_row38_col1\" class=\"data row38 col1\" >20.849615</td>\n",
       "      <td id=\"T_964ca_row38_col2\" class=\"data row38 col2\" >19.672935</td>\n",
       "      <td id=\"T_964ca_row38_col3\" class=\"data row38 col3\" >0.639069</td>\n",
       "      <td id=\"T_964ca_row38_col4\" class=\"data row38 col4\" >0.007577</td>\n",
       "      <td id=\"T_964ca_row38_col5\" class=\"data row38 col5\" >1223</td>\n",
       "      <td id=\"T_964ca_row38_col6\" class=\"data row38 col6\" >1129</td>\n",
       "      <td id=\"T_964ca_row38_col7\" class=\"data row38 col7\" >0.448980</td>\n",
       "      <td id=\"T_964ca_row38_col8\" class=\"data row38 col8\" >0.307337</td>\n",
       "      <td id=\"T_964ca_row38_col9\" class=\"data row38 col9\" >1039</td>\n",
       "      <td id=\"T_964ca_row38_col10\" class=\"data row38 col10\" >-5.347541</td>\n",
       "      <td id=\"T_964ca_row38_col11\" class=\"data row38 col11\" >0.000000</td>\n",
       "      <td id=\"T_964ca_row38_col12\" class=\"data row38 col12\" >21.800000</td>\n",
       "      <td id=\"T_964ca_row38_col13\" class=\"data row38 col13\" >1</td>\n",
       "      <td id=\"T_964ca_row38_col14\" class=\"data row38 col14\" >0.514617</td>\n",
       "      <td id=\"T_964ca_row38_col15\" class=\"data row38 col15\" >nan</td>\n",
       "      <td id=\"T_964ca_row38_col16\" class=\"data row38 col16\" >nan</td>\n",
       "      <td id=\"T_964ca_row38_col17\" class=\"data row38 col17\" >rejected</td>\n",
       "      <td id=\"T_964ca_row38_col18\" class=\"data row38 col18\" >Unlikely BOLD</td>\n",
       "    </tr>\n",
       "    <tr>\n",
       "      <th id=\"T_964ca_level0_row39\" class=\"row_heading level0 row39\" >39</th>\n",
       "      <td id=\"T_964ca_row39_col0\" class=\"data row39 col0\" >ICA_39</td>\n",
       "      <td id=\"T_964ca_row39_col1\" class=\"data row39 col1\" >35.859042</td>\n",
       "      <td id=\"T_964ca_row39_col2\" class=\"data row39 col2\" >21.351970</td>\n",
       "      <td id=\"T_964ca_row39_col3\" class=\"data row39 col3\" >1.443613</td>\n",
       "      <td id=\"T_964ca_row39_col4\" class=\"data row39 col4\" >0.016344</td>\n",
       "      <td id=\"T_964ca_row39_col5\" class=\"data row39 col5\" >3201</td>\n",
       "      <td id=\"T_964ca_row39_col6\" class=\"data row39 col6\" >911</td>\n",
       "      <td id=\"T_964ca_row39_col7\" class=\"data row39 col7\" >0.428389</td>\n",
       "      <td id=\"T_964ca_row39_col8\" class=\"data row39 col8\" >0.175458</td>\n",
       "      <td id=\"T_964ca_row39_col9\" class=\"data row39 col9\" >1233</td>\n",
       "      <td id=\"T_964ca_row39_col10\" class=\"data row39 col10\" >0.000000</td>\n",
       "      <td id=\"T_964ca_row39_col11\" class=\"data row39 col11\" >0.000000</td>\n",
       "      <td id=\"T_964ca_row39_col12\" class=\"data row39 col12\" >16.800000</td>\n",
       "      <td id=\"T_964ca_row39_col13\" class=\"data row39 col13\" >-1</td>\n",
       "      <td id=\"T_964ca_row39_col14\" class=\"data row39 col14\" >0.675906</td>\n",
       "      <td id=\"T_964ca_row39_col15\" class=\"data row39 col15\" >11.000000</td>\n",
       "      <td id=\"T_964ca_row39_col16\" class=\"data row39 col16\" >6.914911</td>\n",
       "      <td id=\"T_964ca_row39_col17\" class=\"data row39 col17\" >accepted</td>\n",
       "      <td id=\"T_964ca_row39_col18\" class=\"data row39 col18\" >Likely BOLD</td>\n",
       "    </tr>\n",
       "    <tr>\n",
       "      <th id=\"T_964ca_level0_row40\" class=\"row_heading level0 row40\" >40</th>\n",
       "      <td id=\"T_964ca_row40_col0\" class=\"data row40 col0\" >ICA_40</td>\n",
       "      <td id=\"T_964ca_row40_col1\" class=\"data row40 col1\" >21.287998</td>\n",
       "      <td id=\"T_964ca_row40_col2\" class=\"data row40 col2\" >15.991776</td>\n",
       "      <td id=\"T_964ca_row40_col3\" class=\"data row40 col3\" >0.393314</td>\n",
       "      <td id=\"T_964ca_row40_col4\" class=\"data row40 col4\" >0.004478</td>\n",
       "      <td id=\"T_964ca_row40_col5\" class=\"data row40 col5\" >933</td>\n",
       "      <td id=\"T_964ca_row40_col6\" class=\"data row40 col6\" >251</td>\n",
       "      <td id=\"T_964ca_row40_col7\" class=\"data row40 col7\" >0.451650</td>\n",
       "      <td id=\"T_964ca_row40_col8\" class=\"data row40 col8\" >0.163673</td>\n",
       "      <td id=\"T_964ca_row40_col9\" class=\"data row40 col9\" >1203</td>\n",
       "      <td id=\"T_964ca_row40_col10\" class=\"data row40 col10\" >0.000000</td>\n",
       "      <td id=\"T_964ca_row40_col11\" class=\"data row40 col11\" >0.000000</td>\n",
       "      <td id=\"T_964ca_row40_col12\" class=\"data row40 col12\" >23.100000</td>\n",
       "      <td id=\"T_964ca_row40_col13\" class=\"data row40 col13\" >-1</td>\n",
       "      <td id=\"T_964ca_row40_col14\" class=\"data row40 col14\" >0.310198</td>\n",
       "      <td id=\"T_964ca_row40_col15\" class=\"data row40 col15\" >nan</td>\n",
       "      <td id=\"T_964ca_row40_col16\" class=\"data row40 col16\" >11.690362</td>\n",
       "      <td id=\"T_964ca_row40_col17\" class=\"data row40 col17\" >accepted</td>\n",
       "      <td id=\"T_964ca_row40_col18\" class=\"data row40 col18\" >Low variance</td>\n",
       "    </tr>\n",
       "    <tr>\n",
       "      <th id=\"T_964ca_level0_row41\" class=\"row_heading level0 row41\" >41</th>\n",
       "      <td id=\"T_964ca_row41_col0\" class=\"data row41 col0\" >ICA_41</td>\n",
       "      <td id=\"T_964ca_row41_col1\" class=\"data row41 col1\" >19.355907</td>\n",
       "      <td id=\"T_964ca_row41_col2\" class=\"data row41 col2\" >19.965188</td>\n",
       "      <td id=\"T_964ca_row41_col3\" class=\"data row41 col3\" >0.436800</td>\n",
       "      <td id=\"T_964ca_row41_col4\" class=\"data row41 col4\" >0.006226</td>\n",
       "      <td id=\"T_964ca_row41_col5\" class=\"data row41 col5\" >514</td>\n",
       "      <td id=\"T_964ca_row41_col6\" class=\"data row41 col6\" >361</td>\n",
       "      <td id=\"T_964ca_row41_col7\" class=\"data row41 col7\" >0.128257</td>\n",
       "      <td id=\"T_964ca_row41_col8\" class=\"data row41 col8\" >0.000000</td>\n",
       "      <td id=\"T_964ca_row41_col9\" class=\"data row41 col9\" >1245</td>\n",
       "      <td id=\"T_964ca_row41_col10\" class=\"data row41 col10\" >0.000000</td>\n",
       "      <td id=\"T_964ca_row41_col11\" class=\"data row41 col11\" >0.000000</td>\n",
       "      <td id=\"T_964ca_row41_col12\" class=\"data row41 col12\" >36.200000</td>\n",
       "      <td id=\"T_964ca_row41_col13\" class=\"data row41 col13\" >-1</td>\n",
       "      <td id=\"T_964ca_row41_col14\" class=\"data row41 col14\" >0.378882</td>\n",
       "      <td id=\"T_964ca_row41_col15\" class=\"data row41 col15\" >nan</td>\n",
       "      <td id=\"T_964ca_row41_col16\" class=\"data row41 col16\" >nan</td>\n",
       "      <td id=\"T_964ca_row41_col17\" class=\"data row41 col17\" >rejected</td>\n",
       "      <td id=\"T_964ca_row41_col18\" class=\"data row41 col18\" >Unlikely BOLD</td>\n",
       "    </tr>\n",
       "    <tr>\n",
       "      <th id=\"T_964ca_level0_row42\" class=\"row_heading level0 row42\" >42</th>\n",
       "      <td id=\"T_964ca_row42_col0\" class=\"data row42 col0\" >ICA_42</td>\n",
       "      <td id=\"T_964ca_row42_col1\" class=\"data row42 col1\" >21.534814</td>\n",
       "      <td id=\"T_964ca_row42_col2\" class=\"data row42 col2\" >12.658974</td>\n",
       "      <td id=\"T_964ca_row42_col3\" class=\"data row42 col3\" >0.238916</td>\n",
       "      <td id=\"T_964ca_row42_col4\" class=\"data row42 col4\" >0.003687</td>\n",
       "      <td id=\"T_964ca_row42_col5\" class=\"data row42 col5\" >812</td>\n",
       "      <td id=\"T_964ca_row42_col6\" class=\"data row42 col6\" >326</td>\n",
       "      <td id=\"T_964ca_row42_col7\" class=\"data row42 col7\" >0.294856</td>\n",
       "      <td id=\"T_964ca_row42_col8\" class=\"data row42 col8\" >0.000000</td>\n",
       "      <td id=\"T_964ca_row42_col9\" class=\"data row42 col9\" >1247</td>\n",
       "      <td id=\"T_964ca_row42_col10\" class=\"data row42 col10\" >7.820508</td>\n",
       "      <td id=\"T_964ca_row42_col11\" class=\"data row42 col11\" >0.000000</td>\n",
       "      <td id=\"T_964ca_row42_col12\" class=\"data row42 col12\" >27.000000</td>\n",
       "      <td id=\"T_964ca_row42_col13\" class=\"data row42 col13\" >1</td>\n",
       "      <td id=\"T_964ca_row42_col14\" class=\"data row42 col14\" >0.186268</td>\n",
       "      <td id=\"T_964ca_row42_col15\" class=\"data row42 col15\" >nan</td>\n",
       "      <td id=\"T_964ca_row42_col16\" class=\"data row42 col16\" >7.579854</td>\n",
       "      <td id=\"T_964ca_row42_col17\" class=\"data row42 col17\" >accepted</td>\n",
       "      <td id=\"T_964ca_row42_col18\" class=\"data row42 col18\" >Low variance</td>\n",
       "    </tr>\n",
       "  </tbody>\n",
       "</table>\n"
      ],
      "text/plain": [
       "<pandas.io.formats.style.Styler at 0x7fcfd066bdc0>"
      ]
     },
     "execution_count": 6,
     "metadata": {},
     "output_type": "execute_result"
    }
   ],
   "source": [
    "def color_rejected_red(series):\n",
    "    \"\"\"Color rejected components red.\"\"\"\n",
    "    return [\n",
    "        \"color: red\" if series[\"classification\"] == \"rejected\" else \"\" for v in series\n",
    "    ]\n",
    "\n",
    "\n",
    "metrics.style.apply(color_rejected_red, axis=1)"
   ]
  },
  {
   "cell_type": "code",
   "execution_count": 7,
   "id": "8cb6f9e8",
   "metadata": {},
   "outputs": [
    {
     "name": "stdout",
     "output_type": "stream",
     "text": [
      "{'Component': {'Description': 'The unique identifier of each component. This '\n",
      "                              'identifier matches column names in the mixing '\n",
      "                              'matrix TSV file.',\n",
      "               'LongName': 'Component identifier'},\n",
      " 'classification_tags': {'Description': 'A single tag or a comma separated '\n",
      "                                        'list of tags to describe why a '\n",
      "                                        'component received its classification',\n",
      "                         'LongName': 'Component classification tags'},\n",
      " 'countnoise': {'Description': \"Number of 'noise' voxels (voxels highly \"\n",
      "                               'weighted for component, but not from clusters) '\n",
      "                               'from each component.',\n",
      "                'LongName': 'Noise voxel count',\n",
      "                'Units': 'voxel'},\n",
      " 'countsigFS0': {'Description': 'Number of significant voxels from the '\n",
      "                                'cluster-extent thresholded S0 model '\n",
      "                                'F-statistic map for each component.',\n",
      "                 'LongName': 'S0 model F-statistic map significant voxel count',\n",
      "                 'Units': 'voxel'},\n",
      " 'countsigFT2': {'Description': 'Number of significant voxels from the '\n",
      "                                'cluster-extent thresholded T2 model '\n",
      "                                'F-statistic map for each component.',\n",
      "                 'LongName': 'T2 model F-statistic map significant voxel count',\n",
      "                 'Units': 'voxel'}}\n"
     ]
    }
   ],
   "source": [
    "with open(\n",
    "    os.path.join(out_dir, \"sub-04570_task-rest_space-scanner_desc-tedana_metrics.json\"),\n",
    "    \"r\",\n",
    ") as fo:\n",
    "    data = json.load(fo)\n",
    "\n",
    "first_five_keys = list(data.keys())[:5]\n",
    "reduced_data = {k: data[k] for k in first_five_keys}\n",
    "pprint(reduced_data)"
   ]
  },
  {
   "cell_type": "code",
   "execution_count": 8,
   "id": "6b63eded",
   "metadata": {
    "tags": [
     "output_scroll"
    ]
   },
   "outputs": [
    {
     "data": {
      "text/html": [
       "<table border=\"1\" class=\"dataframe\">\n",
       "  <thead>\n",
       "    <tr style=\"text-align: right;\">\n",
       "      <th></th>\n",
       "      <th>Description</th>\n",
       "      <th>LongName</th>\n",
       "      <th>Units</th>\n",
       "      <th>Levels</th>\n",
       "    </tr>\n",
       "  </thead>\n",
       "  <tbody>\n",
       "    <tr>\n",
       "      <th>Component</th>\n",
       "      <td>The unique identifier of each component. This identifier matches column names in the mixing matrix TSV file.</td>\n",
       "      <td>Component identifier</td>\n",
       "      <td>n/a</td>\n",
       "      <td>n/a</td>\n",
       "    </tr>\n",
       "    <tr>\n",
       "      <th>classification_tags</th>\n",
       "      <td>A single tag or a comma separated list of tags to describe why a component received its classification</td>\n",
       "      <td>Component classification tags</td>\n",
       "      <td>n/a</td>\n",
       "      <td>n/a</td>\n",
       "    </tr>\n",
       "    <tr>\n",
       "      <th>countnoise</th>\n",
       "      <td>Number of 'noise' voxels (voxels highly weighted for component, but not from clusters) from each component.</td>\n",
       "      <td>Noise voxel count</td>\n",
       "      <td>voxel</td>\n",
       "      <td>n/a</td>\n",
       "    </tr>\n",
       "    <tr>\n",
       "      <th>countsigFS0</th>\n",
       "      <td>Number of significant voxels from the cluster-extent thresholded S0 model F-statistic map for each component.</td>\n",
       "      <td>S0 model F-statistic map significant voxel count</td>\n",
       "      <td>voxel</td>\n",
       "      <td>n/a</td>\n",
       "    </tr>\n",
       "    <tr>\n",
       "      <th>countsigFT2</th>\n",
       "      <td>Number of significant voxels from the cluster-extent thresholded T2 model F-statistic map for each component.</td>\n",
       "      <td>T2 model F-statistic map significant voxel count</td>\n",
       "      <td>voxel</td>\n",
       "      <td>n/a</td>\n",
       "    </tr>\n",
       "    <tr>\n",
       "      <th>d_table_score</th>\n",
       "      <td>Summary score compiled from five metrics, with smaller values (i.e., higher ranks) indicating more BOLD dependence and less noise.</td>\n",
       "      <td>Decision table score</td>\n",
       "      <td>arbitrary</td>\n",
       "      <td>n/a</td>\n",
       "    </tr>\n",
       "    <tr>\n",
       "      <th>dice_FS0</th>\n",
       "      <td>Dice value of cluster-extent thresholded maps of S0-model betas and F-statistics.</td>\n",
       "      <td>S0 model beta map-F-statistic map Dice similarity index</td>\n",
       "      <td>arbitrary</td>\n",
       "      <td>n/a</td>\n",
       "    </tr>\n",
       "    <tr>\n",
       "      <th>dice_FT2</th>\n",
       "      <td>Dice value of cluster-extent thresholded maps of T2-model betas and F-statistics.</td>\n",
       "      <td>T2 model beta map-F-statistic map Dice similarity index</td>\n",
       "      <td>arbitrary</td>\n",
       "      <td>n/a</td>\n",
       "    </tr>\n",
       "    <tr>\n",
       "      <th>kappa</th>\n",
       "      <td>A pseudo-F-statistic indicating TE-dependence of the component. This metric is calculated by computing fit to the TE-dependence model at each voxel, and then performing a weighted average based on the voxel-wise weights of the component.</td>\n",
       "      <td>Kappa</td>\n",
       "      <td>arbitrary</td>\n",
       "      <td>n/a</td>\n",
       "    </tr>\n",
       "    <tr>\n",
       "      <th>normalized variance explained</th>\n",
       "      <td>Normalized variance explained in the optimally combined data of each component.On a scale from 0 to 1.</td>\n",
       "      <td>Normalized variance explained</td>\n",
       "      <td>arbitrary</td>\n",
       "      <td>n/a</td>\n",
       "    </tr>\n",
       "    <tr>\n",
       "      <th>optimal sign</th>\n",
       "      <td>Optimal sign determined based on skew direction of component parameter estimates across the brain. In cases where components were left-skewed (-1), the component time series and map weights are flipped prior to metric calculation. This sign applies to the original mixing matrix and map weights. The outputs produced by tedana are already flipped.</td>\n",
       "      <td>Optimal component sign</td>\n",
       "      <td>n/a</td>\n",
       "      <td>{'-1': 'Component is flipped prior to metric calculation.', '1': 'Component is not flipped prior to metric calculation.'}</td>\n",
       "    </tr>\n",
       "    <tr>\n",
       "      <th>rho</th>\n",
       "      <td>A pseudo-F-statistic indicating TE-independence of the component. This metric is calculated by computing fit to the TE-independence model at each voxel, and then performing a weighted average based on the voxel-wise weights of the component.</td>\n",
       "      <td>Rho</td>\n",
       "      <td>arbitrary</td>\n",
       "      <td>n/a</td>\n",
       "    </tr>\n",
       "    <tr>\n",
       "      <th>signal-noise_p</th>\n",
       "      <td>P-value for two-sample t-test of F-statistics from 'signal' voxels (voxels in clusters) against 'noise' voxels (voxels not in clusters) for T2 model.</td>\n",
       "      <td>Signal &gt; noise p-value</td>\n",
       "      <td>arbitrary</td>\n",
       "      <td>n/a</td>\n",
       "    </tr>\n",
       "    <tr>\n",
       "      <th>signal-noise_t</th>\n",
       "      <td>T-statistic for two-sample t-test of F-statistics from 'signal' voxels (voxels in clusters) against 'noise' voxels (voxels not in clusters) for T2 model.</td>\n",
       "      <td>Signal &gt; noise t-statistic</td>\n",
       "      <td>arbitrary</td>\n",
       "      <td>n/a</td>\n",
       "    </tr>\n",
       "    <tr>\n",
       "      <th>variance explained</th>\n",
       "      <td>Variance explained in the optimally combined data of each component. On a scale from 0 to 100.</td>\n",
       "      <td>Variance explained</td>\n",
       "      <td>arbitrary</td>\n",
       "      <td>n/a</td>\n",
       "    </tr>\n",
       "  </tbody>\n",
       "</table>"
      ],
      "text/plain": [
       "<IPython.core.display.HTML object>"
      ]
     },
     "metadata": {},
     "output_type": "display_data"
    }
   ],
   "source": [
    "df = pd.DataFrame.from_dict(data, orient=\"index\")\n",
    "df = df.fillna(\"n/a\")\n",
    "display(HTML(df.to_html()))"
   ]
  },
  {
   "cell_type": "code",
   "execution_count": 9,
   "id": "90d788ce",
   "metadata": {},
   "outputs": [
    {
     "ename": "FileNotFoundError",
     "evalue": "[Errno 2] No such file or directory: '/home/runner/work/multi-echo-data-analysis/multi-echo-data-analysis/data/multi-echo-data-analysis/tedana/tedana_report.html'",
     "output_type": "error",
     "traceback": [
      "\u001b[0;31m---------------------------------------------------------------------------\u001b[0m",
      "\u001b[0;31mFileNotFoundError\u001b[0m                         Traceback (most recent call last)",
      "Cell \u001b[0;32mIn[9], line 2\u001b[0m\n\u001b[1;32m      1\u001b[0m report \u001b[38;5;241m=\u001b[39m os\u001b[38;5;241m.\u001b[39mpath\u001b[38;5;241m.\u001b[39mjoin(out_dir, \u001b[38;5;124m\"\u001b[39m\u001b[38;5;124mtedana_report.html\u001b[39m\u001b[38;5;124m\"\u001b[39m)\n\u001b[0;32m----> 2\u001b[0m \u001b[38;5;28;01mwith\u001b[39;00m \u001b[38;5;28;43mopen\u001b[39;49m\u001b[43m(\u001b[49m\u001b[43mreport\u001b[49m\u001b[43m,\u001b[49m\u001b[43m \u001b[49m\u001b[38;5;124;43m\"\u001b[39;49m\u001b[38;5;124;43mr\u001b[39;49m\u001b[38;5;124;43m\"\u001b[39;49m\u001b[43m)\u001b[49m \u001b[38;5;28;01mas\u001b[39;00m fo:\n\u001b[1;32m      3\u001b[0m     report_data \u001b[38;5;241m=\u001b[39m fo\u001b[38;5;241m.\u001b[39mread()\n\u001b[1;32m      5\u001b[0m figures_dir \u001b[38;5;241m=\u001b[39m os\u001b[38;5;241m.\u001b[39mpath\u001b[38;5;241m.\u001b[39mrelpath(os\u001b[38;5;241m.\u001b[39mpath\u001b[38;5;241m.\u001b[39mjoin(out_dir, \u001b[38;5;124m\"\u001b[39m\u001b[38;5;124mfigures\u001b[39m\u001b[38;5;124m\"\u001b[39m), os\u001b[38;5;241m.\u001b[39mgetcwd())\n",
      "File \u001b[0;32m/opt/hostedtoolcache/Python/3.10.17/x64/lib/python3.10/site-packages/IPython/core/interactiveshell.py:324\u001b[0m, in \u001b[0;36m_modified_open\u001b[0;34m(file, *args, **kwargs)\u001b[0m\n\u001b[1;32m    317\u001b[0m \u001b[38;5;28;01mif\u001b[39;00m file \u001b[38;5;129;01min\u001b[39;00m {\u001b[38;5;241m0\u001b[39m, \u001b[38;5;241m1\u001b[39m, \u001b[38;5;241m2\u001b[39m}:\n\u001b[1;32m    318\u001b[0m     \u001b[38;5;28;01mraise\u001b[39;00m \u001b[38;5;167;01mValueError\u001b[39;00m(\n\u001b[1;32m    319\u001b[0m         \u001b[38;5;124mf\u001b[39m\u001b[38;5;124m\"\u001b[39m\u001b[38;5;124mIPython won\u001b[39m\u001b[38;5;124m'\u001b[39m\u001b[38;5;124mt let you open fd=\u001b[39m\u001b[38;5;132;01m{\u001b[39;00mfile\u001b[38;5;132;01m}\u001b[39;00m\u001b[38;5;124m by default \u001b[39m\u001b[38;5;124m\"\u001b[39m\n\u001b[1;32m    320\u001b[0m         \u001b[38;5;124m\"\u001b[39m\u001b[38;5;124mas it is likely to crash IPython. If you know what you are doing, \u001b[39m\u001b[38;5;124m\"\u001b[39m\n\u001b[1;32m    321\u001b[0m         \u001b[38;5;124m\"\u001b[39m\u001b[38;5;124myou can use builtins\u001b[39m\u001b[38;5;124m'\u001b[39m\u001b[38;5;124m open.\u001b[39m\u001b[38;5;124m\"\u001b[39m\n\u001b[1;32m    322\u001b[0m     )\n\u001b[0;32m--> 324\u001b[0m \u001b[38;5;28;01mreturn\u001b[39;00m \u001b[43mio_open\u001b[49m\u001b[43m(\u001b[49m\u001b[43mfile\u001b[49m\u001b[43m,\u001b[49m\u001b[43m \u001b[49m\u001b[38;5;241;43m*\u001b[39;49m\u001b[43margs\u001b[49m\u001b[43m,\u001b[49m\u001b[43m \u001b[49m\u001b[38;5;241;43m*\u001b[39;49m\u001b[38;5;241;43m*\u001b[39;49m\u001b[43mkwargs\u001b[49m\u001b[43m)\u001b[49m\n",
      "\u001b[0;31mFileNotFoundError\u001b[0m: [Errno 2] No such file or directory: '/home/runner/work/multi-echo-data-analysis/multi-echo-data-analysis/data/multi-echo-data-analysis/tedana/tedana_report.html'"
     ]
    }
   ],
   "source": [
    "report = os.path.join(out_dir, \"tedana_report.html\")\n",
    "with open(report, \"r\") as fo:\n",
    "    report_data = fo.read()\n",
    "\n",
    "figures_dir = os.path.relpath(os.path.join(out_dir, \"figures\"), os.getcwd())\n",
    "report_data = report_data.replace(\"./figures\", figures_dir)\n",
    "\n",
    "display(HTML(report_data))"
   ]
  }
 ],
 "metadata": {
  "jupytext": {
   "text_representation": {
    "extension": ".md",
    "format_name": "myst",
    "format_version": 0.13,
    "jupytext_version": "1.10.3"
   }
  },
  "kernelspec": {
   "display_name": "Python 3",
   "language": "python",
   "name": "python3"
  },
  "language_info": {
   "codemirror_mode": {
    "name": "ipython",
    "version": 3
   },
   "file_extension": ".py",
   "mimetype": "text/x-python",
   "name": "python",
   "nbconvert_exporter": "python",
   "pygments_lexer": "ipython3",
   "version": "3.10.17"
  },
  "source_map": [
   12,
   20,
   40,
   71,
   85,
   89,
   95,
   101,
   113,
   125,
   133
  ]
 },
 "nbformat": 4,
 "nbformat_minor": 5
}