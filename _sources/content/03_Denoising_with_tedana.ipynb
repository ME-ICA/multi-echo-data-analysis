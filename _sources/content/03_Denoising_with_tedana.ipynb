{
 "cells": [
  {
   "cell_type": "markdown",
   "id": "89b98672",
   "metadata": {},
   "source": [
    "# Multi-Echo Denoising with `tedana`\n",
    "\n",
    "In this analysis tutorial, we will use `tedana` {cite:p}`DuPre2021` to perform multi-echo denoising.\n",
    "\n",
    "Specifically, we will use {py:func}`tedana.workflows.tedana_workflow`."
   ]
  },
  {
   "cell_type": "code",
   "execution_count": 1,
   "id": "145a1d9f",
   "metadata": {},
   "outputs": [
    {
     "name": "stdout",
     "output_type": "stream",
     "text": [
      "---- repo2data starting ----\n",
      "/opt/hostedtoolcache/Python/3.8.18/x64/lib/python3.8/site-packages/repo2data\n",
      "Config from file :\n",
      "../binder/data_requirement.json\n",
      "Destination:\n",
      "./../data/multi-echo-data-analysis\n",
      "\n",
      "Info : ./../data/multi-echo-data-analysis already downloaded\n"
     ]
    }
   ],
   "source": [
    "import json\n",
    "import os\n",
    "from glob import glob\n",
    "from pprint import pprint\n",
    "\n",
    "import pandas as pd\n",
    "from IPython.display import HTML, display\n",
    "from repo2data.repo2data import Repo2Data\n",
    "from tedana import workflows\n",
    "\n",
    "# Install the data if running locally, or point to cached data if running on neurolibre\n",
    "DATA_REQ_FILE = os.path.join(\"../binder/data_requirement.json\")\n",
    "\n",
    "# Download data\n",
    "repo2data = Repo2Data(DATA_REQ_FILE)\n",
    "data_path = repo2data.install()\n",
    "data_path = os.path.abspath(data_path[0])"
   ]
  },
  {
   "cell_type": "code",
   "execution_count": 2,
   "id": "4d59b3a8",
   "metadata": {},
   "outputs": [],
   "source": [
    "func_dir = os.path.join(data_path, \"func/\")\n",
    "data_files = [\n",
    "    os.path.join(\n",
    "        func_dir,\n",
    "        \"sub-04570_task-rest_echo-1_space-scanner_desc-partialPreproc_bold.nii.gz\",\n",
    "    ),\n",
    "    os.path.join(\n",
    "        func_dir,\n",
    "        \"sub-04570_task-rest_echo-2_space-scanner_desc-partialPreproc_bold.nii.gz\",\n",
    "    ),\n",
    "    os.path.join(\n",
    "        func_dir,\n",
    "        \"sub-04570_task-rest_echo-3_space-scanner_desc-partialPreproc_bold.nii.gz\",\n",
    "    ),\n",
    "    os.path.join(\n",
    "        func_dir,\n",
    "        \"sub-04570_task-rest_echo-4_space-scanner_desc-partialPreproc_bold.nii.gz\",\n",
    "    ),\n",
    "]\n",
    "echo_times = [12.0, 28.0, 44.0, 60.0]\n",
    "mask_file = os.path.join(\n",
    "    func_dir, \"sub-04570_task-rest_space-scanner_desc-brain_mask.nii.gz\"\n",
    ")\n",
    "confounds_file = os.path.join(\n",
    "    func_dir, \"sub-04570_task-rest_desc-confounds_timeseries.tsv\"\n",
    ")\n",
    "\n",
    "out_dir = os.path.join(data_path, \"tedana\")"
   ]
  },
  {
   "cell_type": "code",
   "execution_count": 3,
   "id": "b3813e77",
   "metadata": {
    "tags": [
     "hide-output"
    ]
   },
   "outputs": [
    {
     "name": "stderr",
     "output_type": "stream",
     "text": [
      "INFO     tedana:tedana_workflow:482 Using output directory: /home/runner/work/multi-echo-data-analysis/multi-echo-data-analysis/data/multi-echo-data-analysis/tedana\n"
     ]
    },
    {
     "name": "stderr",
     "output_type": "stream",
     "text": [
      "INFO     tedana:tedana_workflow:500 Loading input data: ['/home/runner/work/multi-echo-data-analysis/multi-echo-data-analysis/data/multi-echo-data-analysis/func/sub-04570_task-rest_echo-1_space-scanner_desc-partialPreproc_bold.nii.gz', '/home/runner/work/multi-echo-data-analysis/multi-echo-data-analysis/data/multi-echo-data-analysis/func/sub-04570_task-rest_echo-2_space-scanner_desc-partialPreproc_bold.nii.gz', '/home/runner/work/multi-echo-data-analysis/multi-echo-data-analysis/data/multi-echo-data-analysis/func/sub-04570_task-rest_echo-3_space-scanner_desc-partialPreproc_bold.nii.gz', '/home/runner/work/multi-echo-data-analysis/multi-echo-data-analysis/data/multi-echo-data-analysis/func/sub-04570_task-rest_echo-4_space-scanner_desc-partialPreproc_bold.nii.gz']\n"
     ]
    },
    {
     "name": "stderr",
     "output_type": "stream",
     "text": [
      "INFO     io:__init__:154 Generating figures directory: /home/runner/work/multi-echo-data-analysis/multi-echo-data-analysis/data/multi-echo-data-analysis/tedana/figures\n"
     ]
    },
    {
     "name": "stderr",
     "output_type": "stream",
     "text": [
      "INFO     tedana:tedana_workflow:564 Using user-defined mask\n"
     ]
    },
    {
     "name": "stderr",
     "output_type": "stream",
     "text": [
      "INFO     tedana:tedana_workflow:612 Computing T2* map\n"
     ]
    },
    {
     "name": "stderr",
     "output_type": "stream",
     "text": [
      "INFO     combine:make_optcom:191 Optimally combining data with voxel-wise T2* estimates\n"
     ]
    },
    {
     "name": "stderr",
     "output_type": "stream",
     "text": [
      "INFO     tedana:tedana_workflow:637 Writing optimally combined data set: /home/runner/work/multi-echo-data-analysis/multi-echo-data-analysis/data/multi-echo-data-analysis/tedana/sub-04570_task-rest_space-scanner_desc-optcom_bold.nii.gz\n"
     ]
    },
    {
     "name": "stderr",
     "output_type": "stream",
     "text": [
      "INFO     pca:tedpca:202 Computing PCA of optimally combined multi-echo data with selection criteria: mdl\n"
     ]
    },
    {
     "name": "stderr",
     "output_type": "stream",
     "text": [
      "/opt/hostedtoolcache/Python/3.8.18/x64/lib/python3.8/site-packages/sklearn/utils/deprecation.py:101: FutureWarning: Attribute `n_features_` was deprecated in version 1.2 and will be removed in 1.4. Use `n_features_in_` instead.\n",
      "  warnings.warn(msg, category=FutureWarning)\n",
      "INFO     pca:tedpca:242 Optimal number of components based on different criteria:\n"
     ]
    },
    {
     "name": "stderr",
     "output_type": "stream",
     "text": [
      "INFO     pca:tedpca:243 AIC: 81 | KIC: 71 | MDL: 46 | 90% varexp: 142 | 95% varexp: 187\n"
     ]
    },
    {
     "name": "stderr",
     "output_type": "stream",
     "text": [
      "INFO     pca:tedpca:248 Explained variance based on different criteria:\n"
     ]
    },
    {
     "name": "stderr",
     "output_type": "stream",
     "text": [
      "INFO     pca:tedpca:249 AIC: 0.821% | KIC: 0.806% | MDL: 0.762% | 90% varexp: 0.9% | 95% varexp: 0.95%\n"
     ]
    },
    {
     "name": "stderr",
     "output_type": "stream",
     "text": [
      "INFO     pca:tedpca:266 Plotting maPCA optimization curves\n"
     ]
    },
    {
     "name": "stderr",
     "output_type": "stream",
     "text": [
      "INFO     collect:generate_metrics:120 Calculating weight maps\n"
     ]
    },
    {
     "name": "stderr",
     "output_type": "stream",
     "text": [
      "INFO     collect:generate_metrics:129 Calculating parameter estimate maps for optimally combined data\n"
     ]
    },
    {
     "name": "stderr",
     "output_type": "stream",
     "text": [
      "INFO     collect:generate_metrics:142 Calculating z-statistic maps\n"
     ]
    },
    {
     "name": "stderr",
     "output_type": "stream",
     "text": [
      "INFO     collect:generate_metrics:152 Calculating F-statistic maps\n"
     ]
    },
    {
     "name": "stderr",
     "output_type": "stream",
     "text": [
      "INFO     collect:generate_metrics:172 Thresholding z-statistic maps\n"
     ]
    },
    {
     "name": "stderr",
     "output_type": "stream",
     "text": [
      "INFO     collect:generate_metrics:179 Calculating T2* F-statistic maps\n"
     ]
    },
    {
     "name": "stderr",
     "output_type": "stream",
     "text": [
      "INFO     collect:generate_metrics:186 Calculating S0 F-statistic maps\n"
     ]
    },
    {
     "name": "stderr",
     "output_type": "stream",
     "text": [
      "INFO     collect:generate_metrics:194 Counting significant voxels in T2* F-statistic maps\n"
     ]
    },
    {
     "name": "stderr",
     "output_type": "stream",
     "text": [
      "INFO     collect:generate_metrics:200 Counting significant voxels in S0 F-statistic maps\n"
     ]
    },
    {
     "name": "stderr",
     "output_type": "stream",
     "text": [
      "INFO     collect:generate_metrics:207 Thresholding optimal combination beta maps to match T2* F-statistic maps\n"
     ]
    },
    {
     "name": "stderr",
     "output_type": "stream",
     "text": [
      "INFO     collect:generate_metrics:213 Thresholding optimal combination beta maps to match S0 F-statistic maps\n"
     ]
    },
    {
     "name": "stderr",
     "output_type": "stream",
     "text": [
      "INFO     collect:generate_metrics:220 Calculating kappa and rho\n"
     ]
    },
    {
     "name": "stderr",
     "output_type": "stream",
     "text": [
      "INFO     collect:generate_metrics:229 Calculating variance explained\n"
     ]
    },
    {
     "name": "stderr",
     "output_type": "stream",
     "text": [
      "INFO     collect:generate_metrics:235 Calculating normalized variance explained\n"
     ]
    },
    {
     "name": "stderr",
     "output_type": "stream",
     "text": [
      "INFO     collect:generate_metrics:242 Calculating DSI between thresholded T2* F-statistic and optimal combination beta maps\n"
     ]
    },
    {
     "name": "stderr",
     "output_type": "stream",
     "text": [
      "INFO     collect:generate_metrics:253 Calculating DSI between thresholded S0 F-statistic and optimal combination beta maps\n"
     ]
    },
    {
     "name": "stderr",
     "output_type": "stream",
     "text": [
      "INFO     collect:generate_metrics:264 Calculating signal-noise t-statistics\n"
     ]
    },
    {
     "name": "stderr",
     "output_type": "stream",
     "text": [
      "INFO     collect:generate_metrics:302 Counting significant noise voxels from z-statistic maps\n"
     ]
    },
    {
     "name": "stderr",
     "output_type": "stream",
     "text": [
      "INFO     collect:generate_metrics:313 Calculating decision table score\n"
     ]
    },
    {
     "name": "stderr",
     "output_type": "stream",
     "text": [
      "INFO     pca:tedpca:396 Selected 46 components with 76.18% normalized variance explained using mdl dimensionality estimate\n"
     ]
    },
    {
     "name": "stderr",
     "output_type": "stream",
     "text": [
      "INFO     ica:tedica:79 ICA with random seed 42 converged in 91 iterations\n"
     ]
    },
    {
     "name": "stderr",
     "output_type": "stream",
     "text": [
      "INFO     tedana:tedana_workflow:671 Making second component selection guess from ICA results\n"
     ]
    },
    {
     "name": "stderr",
     "output_type": "stream",
     "text": [
      "INFO     collect:generate_metrics:120 Calculating weight maps\n"
     ]
    },
    {
     "name": "stderr",
     "output_type": "stream",
     "text": [
      "INFO     collect:generate_metrics:129 Calculating parameter estimate maps for optimally combined data\n"
     ]
    },
    {
     "name": "stderr",
     "output_type": "stream",
     "text": [
      "INFO     collect:generate_metrics:142 Calculating z-statistic maps\n"
     ]
    },
    {
     "name": "stderr",
     "output_type": "stream",
     "text": [
      "INFO     collect:generate_metrics:152 Calculating F-statistic maps\n"
     ]
    },
    {
     "name": "stderr",
     "output_type": "stream",
     "text": [
      "INFO     collect:generate_metrics:172 Thresholding z-statistic maps\n"
     ]
    },
    {
     "name": "stderr",
     "output_type": "stream",
     "text": [
      "INFO     collect:generate_metrics:179 Calculating T2* F-statistic maps\n"
     ]
    },
    {
     "name": "stderr",
     "output_type": "stream",
     "text": [
      "INFO     collect:generate_metrics:186 Calculating S0 F-statistic maps\n"
     ]
    },
    {
     "name": "stderr",
     "output_type": "stream",
     "text": [
      "INFO     collect:generate_metrics:194 Counting significant voxels in T2* F-statistic maps\n"
     ]
    },
    {
     "name": "stderr",
     "output_type": "stream",
     "text": [
      "INFO     collect:generate_metrics:200 Counting significant voxels in S0 F-statistic maps\n"
     ]
    },
    {
     "name": "stderr",
     "output_type": "stream",
     "text": [
      "INFO     collect:generate_metrics:207 Thresholding optimal combination beta maps to match T2* F-statistic maps\n"
     ]
    },
    {
     "name": "stderr",
     "output_type": "stream",
     "text": [
      "INFO     collect:generate_metrics:213 Thresholding optimal combination beta maps to match S0 F-statistic maps\n"
     ]
    },
    {
     "name": "stderr",
     "output_type": "stream",
     "text": [
      "INFO     collect:generate_metrics:220 Calculating kappa and rho\n"
     ]
    },
    {
     "name": "stderr",
     "output_type": "stream",
     "text": [
      "INFO     collect:generate_metrics:229 Calculating variance explained\n"
     ]
    },
    {
     "name": "stderr",
     "output_type": "stream",
     "text": [
      "INFO     collect:generate_metrics:235 Calculating normalized variance explained\n"
     ]
    },
    {
     "name": "stderr",
     "output_type": "stream",
     "text": [
      "INFO     collect:generate_metrics:242 Calculating DSI between thresholded T2* F-statistic and optimal combination beta maps\n"
     ]
    },
    {
     "name": "stderr",
     "output_type": "stream",
     "text": [
      "INFO     collect:generate_metrics:253 Calculating DSI between thresholded S0 F-statistic and optimal combination beta maps\n"
     ]
    },
    {
     "name": "stderr",
     "output_type": "stream",
     "text": [
      "INFO     collect:generate_metrics:264 Calculating signal-noise t-statistics\n"
     ]
    },
    {
     "name": "stderr",
     "output_type": "stream",
     "text": [
      "INFO     collect:generate_metrics:302 Counting significant noise voxels from z-statistic maps\n"
     ]
    },
    {
     "name": "stderr",
     "output_type": "stream",
     "text": [
      "INFO     collect:generate_metrics:313 Calculating decision table score\n"
     ]
    },
    {
     "name": "stderr",
     "output_type": "stream",
     "text": [
      "INFO     tedica:automatic_selection:57 Performing ICA component selection with Kundu decision tree v2.5\n"
     ]
    },
    {
     "name": "stderr",
     "output_type": "stream",
     "text": [
      "INFO     component_selector:__init__:283 Performing component selection with kundu_MEICA27_decision_tree\n"
     ]
    },
    {
     "name": "stderr",
     "output_type": "stream",
     "text": [
      "INFO     component_selector:__init__:284 Following the full decision tree designed by Prantik Kundu\n"
     ]
    },
    {
     "name": "stderr",
     "output_type": "stream",
     "text": [
      "INFO     selection_nodes:manual_classify:106 Step 0: manual_classify: Set all to unclassified \n"
     ]
    },
    {
     "name": "stderr",
     "output_type": "stream",
     "text": [
      "INFO     selection_utils:log_decision_tree_step:421 Step 0: manual_classify applied to 46 components. 46 True -> unclassified. 0 False -> nochange.\n"
     ]
    },
    {
     "name": "stderr",
     "output_type": "stream",
     "text": [
      "INFO     selection_nodes:manual_classify:140 Step 0: manual_classify component classification tags are cleared\n"
     ]
    },
    {
     "name": "stderr",
     "output_type": "stream",
     "text": [
      "INFO     selection_utils:log_classification_counts:466 Step 0: Total component classifications: 46 unclassified\n"
     ]
    },
    {
     "name": "stderr",
     "output_type": "stream",
     "text": [
      "INFO     selection_nodes:dec_left_op_right:395 Step 1: left_op_right: rejected if rho>kappa, else nochange\n"
     ]
    },
    {
     "name": "stderr",
     "output_type": "stream",
     "text": [
      "INFO     selection_utils:log_decision_tree_step:421 Step 1: left_op_right applied to 46 components. 18 True -> rejected. 28 False -> nochange.\n"
     ]
    },
    {
     "name": "stderr",
     "output_type": "stream",
     "text": [
      "INFO     selection_utils:log_classification_counts:466 Step 1: Total component classifications: 18 rejected, 28 unclassified\n"
     ]
    },
    {
     "name": "stderr",
     "output_type": "stream",
     "text": [
      "INFO     selection_nodes:dec_left_op_right:395 Step 2: left_op_right: rejected if ['countsigFS0>countsigFT2 & countsigFT2>0'], else nochange\n"
     ]
    },
    {
     "name": "stderr",
     "output_type": "stream",
     "text": [
      "INFO     selection_utils:log_decision_tree_step:421 Step 2: left_op_right applied to 46 components. 19 True -> rejected. 27 False -> nochange.\n"
     ]
    },
    {
     "name": "stderr",
     "output_type": "stream",
     "text": [
      "INFO     selection_utils:log_classification_counts:466 Step 2: Total component classifications: 22 rejected, 24 unclassified\n"
     ]
    },
    {
     "name": "stderr",
     "output_type": "stream",
     "text": [
      "INFO     selection_nodes:calc_median:667 Step 3: calc_median: Median(median_varex)\n"
     ]
    },
    {
     "name": "stderr",
     "output_type": "stream",
     "text": [
      "INFO     selection_utils:log_decision_tree_step:433 Step 3: calc_median calculated: median_varex=0.5449334485071518\n"
     ]
    },
    {
     "name": "stderr",
     "output_type": "stream",
     "text": [
      "INFO     selection_utils:log_classification_counts:466 Step 3: Total component classifications: 22 rejected, 24 unclassified\n"
     ]
    },
    {
     "name": "stderr",
     "output_type": "stream",
     "text": [
      "INFO     selection_nodes:dec_left_op_right:395 Step 4: left_op_right: rejected if ['dice_FS0>dice_FT2 & variance explained>0.54'], else nochange\n"
     ]
    },
    {
     "name": "stderr",
     "output_type": "stream",
     "text": [
      "INFO     selection_utils:log_decision_tree_step:421 Step 4: left_op_right applied to 46 components. 6 True -> rejected. 40 False -> nochange.\n"
     ]
    },
    {
     "name": "stderr",
     "output_type": "stream",
     "text": [
      "INFO     selection_utils:log_classification_counts:466 Step 4: Total component classifications: 22 rejected, 24 unclassified\n"
     ]
    },
    {
     "name": "stderr",
     "output_type": "stream",
     "text": [
      "INFO     selection_nodes:dec_left_op_right:395 Step 5: left_op_right: rejected if ['0>signal-noise_t & variance explained>0.54'], else nochange\n"
     ]
    },
    {
     "name": "stderr",
     "output_type": "stream",
     "text": [
      "INFO     selection_utils:log_decision_tree_step:421 Step 5: left_op_right applied to 46 components. 9 True -> rejected. 37 False -> nochange.\n"
     ]
    },
    {
     "name": "stderr",
     "output_type": "stream",
     "text": [
      "INFO     selection_utils:log_classification_counts:466 Step 5: Total component classifications: 26 rejected, 20 unclassified\n"
     ]
    },
    {
     "name": "stderr",
     "output_type": "stream",
     "text": [
      "INFO     selection_nodes:calc_kappa_elbow:775 Step 6: calc_kappa_elbow: Calc Kappa Elbow\n"
     ]
    },
    {
     "name": "stderr",
     "output_type": "stream",
     "text": [
      "INFO     selection_utils:kappa_elbow_kundu:636 Calculating kappa elbow based on min of all and nonsig components.\n"
     ]
    },
    {
     "name": "stderr",
     "output_type": "stream",
     "text": [
      "INFO     selection_utils:log_decision_tree_step:433 Step 6: calc_kappa_elbow calculated: kappa_elbow_kundu=21.27796495235408, kappa_allcomps_elbow=40.12143896795698, kappa_nonsig_elbow=21.27796495235408, varex_upper_p=0.7802353000706708\n"
     ]
    },
    {
     "name": "stderr",
     "output_type": "stream",
     "text": [
      "INFO     selection_utils:log_classification_counts:466 Step 6: Total component classifications: 26 rejected, 20 unclassified\n"
     ]
    },
    {
     "name": "stderr",
     "output_type": "stream",
     "text": [
      "INFO     selection_nodes:dec_reclassify_high_var_comps:1146 Step 7: reclassify_high_var_comps: Change unclassified to unclass_highvar for the top couple of components with the highest jumps in variance\n"
     ]
    },
    {
     "name": "stderr",
     "output_type": "stream",
     "text": [
      "INFO     selection_utils:log_decision_tree_step:421 Step 7: reclassify_high_var_comps applied to 20 components. 2 True -> unclass_highvar. 18 False -> nochange.\n"
     ]
    },
    {
     "name": "stderr",
     "output_type": "stream",
     "text": [
      "INFO     selection_utils:log_classification_counts:466 Step 7: Total component classifications: 26 rejected, 2 unclass_highvar, 18 unclassified\n"
     ]
    },
    {
     "name": "stderr",
     "output_type": "stream",
     "text": [
      "INFO     selection_nodes:calc_rho_elbow:900 Step 8: calc_rho_elbow: Calc Rho Elbow\n"
     ]
    },
    {
     "name": "stderr",
     "output_type": "stream",
     "text": [
      "INFO     selection_utils:log_decision_tree_step:433 Step 8: calc_rho_elbow calculated: rho_elbow_kundu=17.939325466584396, rho_allcomps_elbow=27.779814570577425, rho_unclassified_elbow=15.910197343161826, elbow_f05=10.127964486013928\n"
     ]
    },
    {
     "name": "stderr",
     "output_type": "stream",
     "text": [
      "INFO     selection_utils:log_classification_counts:466 Step 8: Total component classifications: 26 rejected, 2 unclass_highvar, 18 unclassified\n"
     ]
    },
    {
     "name": "stderr",
     "output_type": "stream",
     "text": [
      "INFO     selection_nodes:dec_left_op_right:395 Step 9: left_op_right: provisionalaccept if kappa>=21.28, else nochange\n"
     ]
    },
    {
     "name": "stderr",
     "output_type": "stream",
     "text": [
      "INFO     selection_utils:log_decision_tree_step:421 Step 9: left_op_right applied to 18 components. 12 True -> provisionalaccept. 6 False -> nochange.\n"
     ]
    },
    {
     "name": "stderr",
     "output_type": "stream",
     "text": [
      "INFO     selection_utils:log_classification_counts:466 Step 9: Total component classifications: 12 provisionalaccept, 26 rejected, 2 unclass_highvar, 6 unclassified\n"
     ]
    },
    {
     "name": "stderr",
     "output_type": "stream",
     "text": [
      "INFO     selection_nodes:dec_left_op_right:395 Step 10: left_op_right: unclassified if rho>17.94, else nochange\n"
     ]
    },
    {
     "name": "stderr",
     "output_type": "stream",
     "text": [
      "INFO     selection_utils:log_decision_tree_step:421 Step 10: left_op_right applied to 12 components. 3 True -> unclassified. 9 False -> nochange.\n"
     ]
    },
    {
     "name": "stderr",
     "output_type": "stream",
     "text": [
      "INFO     selection_utils:log_classification_counts:466 Step 10: Total component classifications: 9 provisionalaccept, 26 rejected, 2 unclass_highvar, 9 unclassified\n"
     ]
    },
    {
     "name": "stderr",
     "output_type": "stream",
     "text": [
      "INFO     selection_nodes:dec_classification_doesnt_exist:1031 Step 11: classification_doesnt_exist: Change ['provisionalaccept', 'unclassified', 'unclass_highvar'] to accepted if less than 2 components with provisionalaccept exist\n"
     ]
    },
    {
     "name": "stderr",
     "output_type": "stream",
     "text": [
      "INFO     selection_nodes:dec_classification_doesnt_exist:1033 Step 11: classification_doesnt_exist If nothing is provisionally accepted by this point, then rerun ICA & selection. If max iterations of rerunning done, then accept everything not already rejected\n"
     ]
    },
    {
     "name": "stderr",
     "output_type": "stream",
     "text": [
      "INFO     selection_utils:log_decision_tree_step:421 Step 11: classification_doesnt_exist applied to 20 components. None True -> 0. None False -> 20.\n"
     ]
    },
    {
     "name": "stderr",
     "output_type": "stream",
     "text": [
      "INFO     selection_utils:log_classification_counts:466 Step 11: Total component classifications: 9 provisionalaccept, 26 rejected, 2 unclass_highvar, 9 unclassified\n"
     ]
    },
    {
     "name": "stderr",
     "output_type": "stream",
     "text": [
      "INFO     selection_nodes:calc_varex_thresh:1338 Step 12: calc_varex_thresh: Calc varex_upper_thresh, 90th percentile threshold\n"
     ]
    },
    {
     "name": "stderr",
     "output_type": "stream",
     "text": [
      "INFO     selection_utils:log_decision_tree_step:433 Step 12: calc_varex_thresh calculated: varex_upper_thresh=0.8908095307208339, upper_perc=90\n"
     ]
    },
    {
     "name": "stderr",
     "output_type": "stream",
     "text": [
      "INFO     selection_utils:log_classification_counts:466 Step 12: Total component classifications: 9 provisionalaccept, 26 rejected, 2 unclass_highvar, 9 unclassified\n"
     ]
    },
    {
     "name": "stderr",
     "output_type": "stream",
     "text": [
      "INFO     selection_nodes:calc_varex_thresh:1338 Step 13: calc_varex_thresh: Calc varex_lower_thresh, 25th percentile threshold\n"
     ]
    },
    {
     "name": "stderr",
     "output_type": "stream",
     "text": [
      "INFO     selection_utils:log_decision_tree_step:433 Step 13: calc_varex_thresh calculated: varex_lower_thresh=0.321093410641324, lower_perc=25\n"
     ]
    },
    {
     "name": "stderr",
     "output_type": "stream",
     "text": [
      "INFO     selection_utils:log_classification_counts:466 Step 13: Total component classifications: 9 provisionalaccept, 26 rejected, 2 unclass_highvar, 9 unclassified\n"
     ]
    },
    {
     "name": "stderr",
     "output_type": "stream",
     "text": [
      "INFO     selection_utils:get_extend_factor:813 extend_factor=2.0, based on number of fMRI volumes\n"
     ]
    },
    {
     "name": "stderr",
     "output_type": "stream",
     "text": [
      "INFO     selection_utils:log_decision_tree_step:433 Step 14: calc_extend_factor calculated: extend_factor=2.0\n"
     ]
    },
    {
     "name": "stderr",
     "output_type": "stream",
     "text": [
      "INFO     selection_utils:log_classification_counts:466 Step 14: Total component classifications: 9 provisionalaccept, 26 rejected, 2 unclass_highvar, 9 unclassified\n"
     ]
    },
    {
     "name": "stderr",
     "output_type": "stream",
     "text": [
      "INFO     selection_utils:log_decision_tree_step:433 Step 15: calc_max_good_meanmetricrank calculated: max_good_meanmetricrank=18.0\n"
     ]
    },
    {
     "name": "stderr",
     "output_type": "stream",
     "text": [
      "INFO     selection_utils:log_classification_counts:466 Step 15: Total component classifications: 9 provisionalaccept, 26 rejected, 2 unclass_highvar, 9 unclassified\n"
     ]
    },
    {
     "name": "stderr",
     "output_type": "stream",
     "text": [
      "INFO     selection_utils:log_decision_tree_step:433 Step 16: calc_varex_kappa_ratio calculated: kappa_rate=75.595812118091\n"
     ]
    },
    {
     "name": "stderr",
     "output_type": "stream",
     "text": [
      "INFO     selection_utils:log_classification_counts:466 Step 16: Total component classifications: 9 provisionalaccept, 26 rejected, 2 unclass_highvar, 9 unclassified\n"
     ]
    },
    {
     "name": "stderr",
     "output_type": "stream",
     "text": [
      "INFO     selection_nodes:dec_left_op_right:395 Step 17: left_op_right: rejected if ['d_table_score>18.0 & variance explained>2.0*0.89'], else nochange\n"
     ]
    },
    {
     "name": "stderr",
     "output_type": "stream",
     "text": [
      "INFO     selection_nodes:dec_left_op_right:397 Step 17: left_op_right If variance and d_table_scores are high, then reject\n"
     ]
    },
    {
     "name": "stderr",
     "output_type": "stream",
     "text": [
      "INFO     selection_utils:comptable_classification_changer:279 Step 17: No components fit criterion True to change classification\n"
     ]
    },
    {
     "name": "stderr",
     "output_type": "stream",
     "text": [
      "INFO     selection_utils:log_decision_tree_step:421 Step 17: left_op_right applied to 20 components. 0 True -> rejected. 20 False -> nochange.\n"
     ]
    },
    {
     "name": "stderr",
     "output_type": "stream",
     "text": [
      "INFO     selection_utils:log_classification_counts:466 Step 17: Total component classifications: 9 provisionalaccept, 26 rejected, 2 unclass_highvar, 9 unclassified\n"
     ]
    },
    {
     "name": "stderr",
     "output_type": "stream",
     "text": [
      "INFO     selection_nodes:dec_left_op_right:395 Step 18: left_op_right: accepted if ['d_table_score>18.0 & variance explained<=0.32 & kappa<=21.28'], else nochange\n"
     ]
    },
    {
     "name": "stderr",
     "output_type": "stream",
     "text": [
      "INFO     selection_nodes:dec_left_op_right:397 Step 18: left_op_right If low variance, accept even if bad kappa & d_table_scores\n"
     ]
    },
    {
     "name": "stderr",
     "output_type": "stream",
     "text": [
      "INFO     selection_utils:log_decision_tree_step:421 Step 18: left_op_right applied to 20 components. 5 True -> accepted. 15 False -> nochange.\n"
     ]
    },
    {
     "name": "stderr",
     "output_type": "stream",
     "text": [
      "INFO     selection_utils:log_classification_counts:466 Step 18: Total component classifications: 5 accepted, 9 provisionalaccept, 26 rejected, 2 unclass_highvar, 4 unclassified\n"
     ]
    },
    {
     "name": "stderr",
     "output_type": "stream",
     "text": [
      "INFO     selection_nodes:dec_classification_doesnt_exist:1031 Step 19: classification_doesnt_exist: Change ['provisionalaccept', 'unclassified', 'unclass_highvar'] to accepted if ['unclassified', 'unclass_highvar'] doesn't exist\n"
     ]
    },
    {
     "name": "stderr",
     "output_type": "stream",
     "text": [
      "INFO     selection_nodes:dec_classification_doesnt_exist:1033 Step 19: classification_doesnt_exist If nothing left is unclassified, then accept all\n"
     ]
    },
    {
     "name": "stderr",
     "output_type": "stream",
     "text": [
      "INFO     selection_utils:log_decision_tree_step:421 Step 19: classification_doesnt_exist applied to 15 components. None True -> 0. None False -> 15.\n"
     ]
    },
    {
     "name": "stderr",
     "output_type": "stream",
     "text": [
      "INFO     selection_utils:log_classification_counts:466 Step 19: Total component classifications: 5 accepted, 9 provisionalaccept, 26 rejected, 2 unclass_highvar, 4 unclassified\n"
     ]
    },
    {
     "name": "stderr",
     "output_type": "stream",
     "text": [
      "INFO     selection_nodes:calc_revised_meanmetricrank_guesses:1812 Step 20: calc_revised_meanmetricrank_guesses: Calc revised d_table_score & num accepted component guesses\n"
     ]
    },
    {
     "name": "stderr",
     "output_type": "stream",
     "text": [
      "INFO     selection_utils:log_decision_tree_step:433 Step 20: calc_revised_meanmetricrank_guesses calculated: num_acc_guess=11, conservative_guess=5.5, restrict_factor=2\n"
     ]
    },
    {
     "name": "stderr",
     "output_type": "stream",
     "text": [
      "INFO     selection_utils:log_classification_counts:466 Step 20: Total component classifications: 5 accepted, 9 provisionalaccept, 26 rejected, 2 unclass_highvar, 4 unclassified\n"
     ]
    },
    {
     "name": "stderr",
     "output_type": "stream",
     "text": [
      "INFO     selection_nodes:dec_left_op_right:395 Step 21: left_op_right: rejected if ['d_table_score_node20>5.5 & varex kappa ratio>2*2.0 & variance explained>2.0*0.89'], else nochange\n"
     ]
    },
    {
     "name": "stderr",
     "output_type": "stream",
     "text": [
      "INFO     selection_nodes:dec_left_op_right:397 Step 21: left_op_right Reject if a combination of kappa, variance, and other factors are ranked worse than others\n"
     ]
    },
    {
     "name": "stderr",
     "output_type": "stream",
     "text": [
      "INFO     selection_utils:log_decision_tree_step:421 Step 21: left_op_right applied to 15 components. 2 True -> rejected. 13 False -> nochange.\n"
     ]
    },
    {
     "name": "stderr",
     "output_type": "stream",
     "text": [
      "INFO     selection_utils:log_classification_counts:466 Step 21: Total component classifications: 5 accepted, 9 provisionalaccept, 28 rejected, 4 unclassified\n"
     ]
    },
    {
     "name": "stderr",
     "output_type": "stream",
     "text": [
      "INFO     selection_nodes:dec_left_op_right:395 Step 22: left_op_right: rejected if ['d_table_score_node20>0.9*11 & variance explained>2.0*0.32'], else nochange\n"
     ]
    },
    {
     "name": "stderr",
     "output_type": "stream",
     "text": [
      "INFO     selection_nodes:dec_left_op_right:397 Step 22: left_op_right Reject if a combination of variance and ranks of other metrics are worse than others\n"
     ]
    },
    {
     "name": "stderr",
     "output_type": "stream",
     "text": [
      "INFO     selection_utils:log_decision_tree_step:421 Step 22: left_op_right applied to 13 components. 2 True -> rejected. 11 False -> nochange.\n"
     ]
    },
    {
     "name": "stderr",
     "output_type": "stream",
     "text": [
      "INFO     selection_utils:log_classification_counts:466 Step 22: Total component classifications: 5 accepted, 9 provisionalaccept, 30 rejected, 2 unclassified\n"
     ]
    },
    {
     "name": "stderr",
     "output_type": "stream",
     "text": [
      "INFO     selection_nodes:calc_varex_thresh:1338 Step 23: calc_varex_thresh: Calc varex_new_lower_thresh, 25th percentile threshold\n"
     ]
    },
    {
     "name": "stderr",
     "output_type": "stream",
     "text": [
      "INFO     selection_utils:log_decision_tree_step:433 Step 23: calc_varex_thresh calculated: varex_new_lower_thresh=0.33750948831193817, new_lower_perc=25\n"
     ]
    },
    {
     "name": "stderr",
     "output_type": "stream",
     "text": [
      "INFO     selection_utils:log_classification_counts:466 Step 23: Total component classifications: 5 accepted, 9 provisionalaccept, 30 rejected, 2 unclassified\n"
     ]
    },
    {
     "name": "stderr",
     "output_type": "stream",
     "text": [
      "INFO     selection_nodes:dec_left_op_right:395 Step 24: left_op_right: accepted if ['d_table_score_node20>11 & variance explained>0.34'], else nochange\n"
     ]
    },
    {
     "name": "stderr",
     "output_type": "stream",
     "text": [
      "INFO     selection_nodes:dec_left_op_right:397 Step 24: left_op_right Accept components with a bad d_table_score, but are at the higher end of the remaining variance so more cautious to not remove\n"
     ]
    },
    {
     "name": "stderr",
     "output_type": "stream",
     "text": [
      "INFO     selection_utils:log_decision_tree_step:421 Step 24: left_op_right applied to 11 components. 1 True -> accepted. 10 False -> nochange.\n"
     ]
    },
    {
     "name": "stderr",
     "output_type": "stream",
     "text": [
      "INFO     selection_utils:log_classification_counts:466 Step 24: Total component classifications: 6 accepted, 9 provisionalaccept, 30 rejected, 1 unclassified\n"
     ]
    },
    {
     "name": "stderr",
     "output_type": "stream",
     "text": [
      "INFO     selection_nodes:dec_left_op_right:395 Step 25: left_op_right: accepted if ['kappa<=21.28 & variance explained>0.34'], else nochange\n"
     ]
    },
    {
     "name": "stderr",
     "output_type": "stream",
     "text": [
      "INFO     selection_nodes:dec_left_op_right:397 Step 25: left_op_right For not already rejected components, accept ones below the kappa elbow, but at the higher end of the remaining variance so more cautious to not remove\n"
     ]
    },
    {
     "name": "stderr",
     "output_type": "stream",
     "text": [
      "INFO     selection_utils:comptable_classification_changer:279 Step 25: No components fit criterion True to change classification\n"
     ]
    },
    {
     "name": "stderr",
     "output_type": "stream",
     "text": [
      "INFO     selection_utils:log_decision_tree_step:421 Step 25: left_op_right applied to 10 components. 0 True -> accepted. 10 False -> nochange.\n"
     ]
    },
    {
     "name": "stderr",
     "output_type": "stream",
     "text": [
      "INFO     selection_utils:log_classification_counts:466 Step 25: Total component classifications: 6 accepted, 9 provisionalaccept, 30 rejected, 1 unclassified\n"
     ]
    },
    {
     "name": "stderr",
     "output_type": "stream",
     "text": [
      "INFO     selection_nodes:manual_classify:106 Step 26: manual_classify: Set ['provisionalaccept', 'unclassified', 'unclass_highvar'] to accepted \n"
     ]
    },
    {
     "name": "stderr",
     "output_type": "stream",
     "text": [
      "INFO     selection_nodes:manual_classify:108 Step 26: manual_classify Anything still provisional (accepted or rejected) should be accepted\n"
     ]
    },
    {
     "name": "stderr",
     "output_type": "stream",
     "text": [
      "INFO     selection_utils:log_decision_tree_step:421 Step 26: manual_classify applied to 10 components. 10 True -> accepted. 0 False -> nochange.\n"
     ]
    },
    {
     "name": "stderr",
     "output_type": "stream",
     "text": [
      "INFO     selection_utils:log_classification_counts:466 Step 26: Total component classifications: 16 accepted, 30 rejected\n"
     ]
    },
    {
     "name": "stderr",
     "output_type": "stream",
     "text": [
      "WARNING  component_selector:are_only_necessary_metrics_used:464 Decision tree kundu used the following metrics that were not declared as necessary: {'varex kappa ratio', 'd_table_score_node20'}\n"
     ]
    },
    {
     "name": "stderr",
     "output_type": "stream",
     "text": [
      "INFO     io:denoise_ts:526 Variance explained by decomposition: 92.18%\n"
     ]
    },
    {
     "name": "stderr",
     "output_type": "stream",
     "text": [
      "INFO     io:write_split_ts:582 Writing high-Kappa time series: /home/runner/work/multi-echo-data-analysis/multi-echo-data-analysis/data/multi-echo-data-analysis/tedana/sub-04570_task-rest_space-scanner_desc-optcomAccepted_bold.nii.gz\n"
     ]
    },
    {
     "name": "stderr",
     "output_type": "stream",
     "text": [
      "INFO     io:write_split_ts:589 Writing low-Kappa time series: /home/runner/work/multi-echo-data-analysis/multi-echo-data-analysis/data/multi-echo-data-analysis/tedana/sub-04570_task-rest_space-scanner_desc-optcomRejected_bold.nii.gz\n"
     ]
    },
    {
     "name": "stderr",
     "output_type": "stream",
     "text": [
      "INFO     io:write_split_ts:596 Writing denoised time series: /home/runner/work/multi-echo-data-analysis/multi-echo-data-analysis/data/multi-echo-data-analysis/tedana/sub-04570_task-rest_space-scanner_desc-optcomDenoised_bold.nii.gz\n"
     ]
    },
    {
     "name": "stderr",
     "output_type": "stream",
     "text": [
      "INFO     io:writeresults:644 Writing full ICA coefficient feature set: /home/runner/work/multi-echo-data-analysis/multi-echo-data-analysis/data/multi-echo-data-analysis/tedana/sub-04570_task-rest_space-scanner_desc-ICA_components.nii.gz\n"
     ]
    },
    {
     "name": "stderr",
     "output_type": "stream",
     "text": [
      "INFO     io:writeresults:648 Writing denoised ICA coefficient feature set: /home/runner/work/multi-echo-data-analysis/multi-echo-data-analysis/data/multi-echo-data-analysis/tedana/sub-04570_task-rest_space-scanner_desc-ICAAccepted_components.nii.gz\n"
     ]
    },
    {
     "name": "stderr",
     "output_type": "stream",
     "text": [
      "INFO     io:writeresults:654 Writing Z-normalized spatial component maps: /home/runner/work/multi-echo-data-analysis/multi-echo-data-analysis/data/multi-echo-data-analysis/tedana/sub-04570_task-rest_space-scanner_desc-ICAAccepted_stat-z_components.nii.gz\n"
     ]
    },
    {
     "name": "stderr",
     "output_type": "stream",
     "text": [
      "INFO     gscontrol:minimum_image_regression:166 Performing minimum image regression to remove spatially-diffuse noise\n"
     ]
    },
    {
     "name": "stderr",
     "output_type": "stream",
     "text": [
      "INFO     io:writeresults_echoes:694 Writing Kappa-filtered echo #1 timeseries\n"
     ]
    },
    {
     "name": "stderr",
     "output_type": "stream",
     "text": [
      "INFO     io:denoise_ts:526 Variance explained by decomposition: 84.08%\n"
     ]
    },
    {
     "name": "stderr",
     "output_type": "stream",
     "text": [
      "INFO     io:write_split_ts:582 Writing high-Kappa time series: /home/runner/work/multi-echo-data-analysis/multi-echo-data-analysis/data/multi-echo-data-analysis/tedana/sub-04570_task-rest_space-scanner_echo-1_desc-Accepted_bold.nii.gz\n"
     ]
    },
    {
     "name": "stderr",
     "output_type": "stream",
     "text": [
      "INFO     io:write_split_ts:589 Writing low-Kappa time series: /home/runner/work/multi-echo-data-analysis/multi-echo-data-analysis/data/multi-echo-data-analysis/tedana/sub-04570_task-rest_space-scanner_echo-1_desc-Rejected_bold.nii.gz\n"
     ]
    },
    {
     "name": "stderr",
     "output_type": "stream",
     "text": [
      "INFO     io:write_split_ts:596 Writing denoised time series: /home/runner/work/multi-echo-data-analysis/multi-echo-data-analysis/data/multi-echo-data-analysis/tedana/sub-04570_task-rest_space-scanner_echo-1_desc-Denoised_bold.nii.gz\n"
     ]
    },
    {
     "name": "stderr",
     "output_type": "stream",
     "text": [
      "INFO     io:writeresults_echoes:694 Writing Kappa-filtered echo #2 timeseries\n"
     ]
    },
    {
     "name": "stderr",
     "output_type": "stream",
     "text": [
      "INFO     io:denoise_ts:526 Variance explained by decomposition: 85.17%\n"
     ]
    },
    {
     "name": "stderr",
     "output_type": "stream",
     "text": [
      "INFO     io:write_split_ts:582 Writing high-Kappa time series: /home/runner/work/multi-echo-data-analysis/multi-echo-data-analysis/data/multi-echo-data-analysis/tedana/sub-04570_task-rest_space-scanner_echo-2_desc-Accepted_bold.nii.gz\n"
     ]
    },
    {
     "name": "stderr",
     "output_type": "stream",
     "text": [
      "INFO     io:write_split_ts:589 Writing low-Kappa time series: /home/runner/work/multi-echo-data-analysis/multi-echo-data-analysis/data/multi-echo-data-analysis/tedana/sub-04570_task-rest_space-scanner_echo-2_desc-Rejected_bold.nii.gz\n"
     ]
    },
    {
     "name": "stderr",
     "output_type": "stream",
     "text": [
      "INFO     io:write_split_ts:596 Writing denoised time series: /home/runner/work/multi-echo-data-analysis/multi-echo-data-analysis/data/multi-echo-data-analysis/tedana/sub-04570_task-rest_space-scanner_echo-2_desc-Denoised_bold.nii.gz\n"
     ]
    },
    {
     "name": "stderr",
     "output_type": "stream",
     "text": [
      "INFO     io:writeresults_echoes:694 Writing Kappa-filtered echo #3 timeseries\n"
     ]
    },
    {
     "name": "stderr",
     "output_type": "stream",
     "text": [
      "INFO     io:denoise_ts:526 Variance explained by decomposition: 85.59%\n"
     ]
    },
    {
     "name": "stderr",
     "output_type": "stream",
     "text": [
      "INFO     io:write_split_ts:582 Writing high-Kappa time series: /home/runner/work/multi-echo-data-analysis/multi-echo-data-analysis/data/multi-echo-data-analysis/tedana/sub-04570_task-rest_space-scanner_echo-3_desc-Accepted_bold.nii.gz\n"
     ]
    },
    {
     "name": "stderr",
     "output_type": "stream",
     "text": [
      "INFO     io:write_split_ts:589 Writing low-Kappa time series: /home/runner/work/multi-echo-data-analysis/multi-echo-data-analysis/data/multi-echo-data-analysis/tedana/sub-04570_task-rest_space-scanner_echo-3_desc-Rejected_bold.nii.gz\n"
     ]
    },
    {
     "name": "stderr",
     "output_type": "stream",
     "text": [
      "INFO     io:write_split_ts:596 Writing denoised time series: /home/runner/work/multi-echo-data-analysis/multi-echo-data-analysis/data/multi-echo-data-analysis/tedana/sub-04570_task-rest_space-scanner_echo-3_desc-Denoised_bold.nii.gz\n"
     ]
    },
    {
     "name": "stderr",
     "output_type": "stream",
     "text": [
      "INFO     io:writeresults_echoes:694 Writing Kappa-filtered echo #4 timeseries\n"
     ]
    },
    {
     "name": "stderr",
     "output_type": "stream",
     "text": [
      "INFO     io:denoise_ts:526 Variance explained by decomposition: 85.47%\n"
     ]
    },
    {
     "name": "stderr",
     "output_type": "stream",
     "text": [
      "INFO     io:write_split_ts:582 Writing high-Kappa time series: /home/runner/work/multi-echo-data-analysis/multi-echo-data-analysis/data/multi-echo-data-analysis/tedana/sub-04570_task-rest_space-scanner_echo-4_desc-Accepted_bold.nii.gz\n"
     ]
    },
    {
     "name": "stderr",
     "output_type": "stream",
     "text": [
      "INFO     io:write_split_ts:589 Writing low-Kappa time series: /home/runner/work/multi-echo-data-analysis/multi-echo-data-analysis/data/multi-echo-data-analysis/tedana/sub-04570_task-rest_space-scanner_echo-4_desc-Rejected_bold.nii.gz\n"
     ]
    },
    {
     "name": "stderr",
     "output_type": "stream",
     "text": [
      "INFO     io:write_split_ts:596 Writing denoised time series: /home/runner/work/multi-echo-data-analysis/multi-echo-data-analysis/data/multi-echo-data-analysis/tedana/sub-04570_task-rest_space-scanner_echo-4_desc-Denoised_bold.nii.gz\n"
     ]
    },
    {
     "name": "stderr",
     "output_type": "stream",
     "text": [
      "INFO     tedana:tedana_workflow:881 Making figures folder with static component maps and timecourse plots.\n"
     ]
    },
    {
     "name": "stderr",
     "output_type": "stream",
     "text": [
      "INFO     io:denoise_ts:526 Variance explained by decomposition: 92.18%\n"
     ]
    },
    {
     "name": "stderr",
     "output_type": "stream",
     "text": [
      "INFO     tedana:tedana_workflow:903 Generating dynamic report\n"
     ]
    },
    {
     "name": "stderr",
     "output_type": "stream",
     "text": [
      "INFO     tedana:tedana_workflow:906 Workflow completed\n"
     ]
    }
   ],
   "source": [
    "workflows.tedana_workflow(\n",
    "    data_files,\n",
    "    echo_times,\n",
    "    out_dir=out_dir,\n",
    "    mask=mask_file,\n",
    "    prefix=\"sub-04570_task-rest_space-scanner\",\n",
    "    fittype=\"curvefit\",\n",
    "    tedpca=\"mdl\",\n",
    "    verbose=True,\n",
    "    gscontrol=[\"mir\"],\n",
    ")"
   ]
  },
  {
   "cell_type": "markdown",
   "id": "6c6c5eaf",
   "metadata": {},
   "source": [
    "The tedana workflow writes out a number of files."
   ]
  },
  {
   "cell_type": "code",
   "execution_count": 4,
   "id": "4b47d132",
   "metadata": {},
   "outputs": [
    {
     "name": "stdout",
     "output_type": "stream",
     "text": [
      "figures\n",
      "sub-04570_task-rest_space-scanner_S0map.nii.gz\n",
      "sub-04570_task-rest_space-scanner_T2starmap.nii.gz\n",
      "sub-04570_task-rest_space-scanner_dataset_description.json\n",
      "sub-04570_task-rest_space-scanner_desc-ICAAcceptedMIRDenoised_components.nii.gz\n",
      "sub-04570_task-rest_space-scanner_desc-ICAAccepted_components.nii.gz\n",
      "sub-04570_task-rest_space-scanner_desc-ICAAccepted_stat-z_components.nii.gz\n",
      "sub-04570_task-rest_space-scanner_desc-ICAAveragingWeights_components.nii.gz\n",
      "sub-04570_task-rest_space-scanner_desc-ICACrossComponent_metrics.json\n",
      "sub-04570_task-rest_space-scanner_desc-ICAMIRDenoised_mixing.tsv\n",
      "sub-04570_task-rest_space-scanner_desc-ICAS0_stat-F_statmap.nii.gz\n",
      "sub-04570_task-rest_space-scanner_desc-ICAT2_stat-F_statmap.nii.gz\n",
      "sub-04570_task-rest_space-scanner_desc-ICA_components.nii.gz\n",
      "sub-04570_task-rest_space-scanner_desc-ICA_decision_tree.json\n",
      "sub-04570_task-rest_space-scanner_desc-ICA_decomposition.json\n",
      "sub-04570_task-rest_space-scanner_desc-ICA_mixing.tsv\n",
      "sub-04570_task-rest_space-scanner_desc-ICA_stat-z_components.nii.gz\n",
      "sub-04570_task-rest_space-scanner_desc-ICA_status_table.tsv\n",
      "sub-04570_task-rest_space-scanner_desc-PCAAveragingWeights_components.nii.gz\n",
      "sub-04570_task-rest_space-scanner_desc-PCACrossComponent_metrics.json\n",
      "sub-04570_task-rest_space-scanner_desc-PCAS0_stat-F_statmap.nii.gz\n",
      "sub-04570_task-rest_space-scanner_desc-PCAT2_stat-F_statmap.nii.gz\n",
      "sub-04570_task-rest_space-scanner_desc-PCA_decomposition.json\n",
      "sub-04570_task-rest_space-scanner_desc-PCA_metrics.json\n",
      "sub-04570_task-rest_space-scanner_desc-PCA_metrics.tsv\n",
      "sub-04570_task-rest_space-scanner_desc-PCA_mixing.tsv\n",
      "sub-04570_task-rest_space-scanner_desc-PCA_stat-z_components.nii.gz\n",
      "sub-04570_task-rest_space-scanner_desc-T1likeEffect_min.nii.gz\n",
      "sub-04570_task-rest_space-scanner_desc-adaptiveGoodSignal_mask.nii.gz\n",
      "sub-04570_task-rest_space-scanner_desc-limited_S0map.nii.gz\n",
      "sub-04570_task-rest_space-scanner_desc-limited_T2starmap.nii.gz\n",
      "sub-04570_task-rest_space-scanner_desc-optcomAcceptedMIRDenoised_bold.nii.gz\n",
      "sub-04570_task-rest_space-scanner_desc-optcomAccepted_bold.nii.gz\n",
      "sub-04570_task-rest_space-scanner_desc-optcomDenoised_bold.nii.gz\n",
      "sub-04570_task-rest_space-scanner_desc-optcomMIRDenoised_bold.nii.gz\n",
      "sub-04570_task-rest_space-scanner_desc-optcomRejected_bold.nii.gz\n",
      "sub-04570_task-rest_space-scanner_desc-optcom_bold.nii.gz\n",
      "sub-04570_task-rest_space-scanner_desc-optcom_whitened_bold.nii.gz\n",
      "sub-04570_task-rest_space-scanner_desc-tedana_metrics.json\n",
      "sub-04570_task-rest_space-scanner_desc-tedana_metrics.tsv\n",
      "sub-04570_task-rest_space-scanner_desc-tedana_registry.json\n",
      "sub-04570_task-rest_space-scanner_echo-1_desc-Accepted_bold.nii.gz\n",
      "sub-04570_task-rest_space-scanner_echo-1_desc-Denoised_bold.nii.gz\n",
      "sub-04570_task-rest_space-scanner_echo-1_desc-ICAS0ModelPredictions_components.nii.gz\n",
      "sub-04570_task-rest_space-scanner_echo-1_desc-ICAT2ModelPredictions_components.nii.gz\n",
      "sub-04570_task-rest_space-scanner_echo-1_desc-ICA_components.nii.gz\n",
      "sub-04570_task-rest_space-scanner_echo-1_desc-PCAS0ModelPredictions_components.nii.gz\n",
      "sub-04570_task-rest_space-scanner_echo-1_desc-PCAT2ModelPredictions_components.nii.gz\n",
      "sub-04570_task-rest_space-scanner_echo-1_desc-PCA_components.nii.gz\n",
      "sub-04570_task-rest_space-scanner_echo-1_desc-Rejected_bold.nii.gz\n",
      "sub-04570_task-rest_space-scanner_echo-2_desc-Accepted_bold.nii.gz\n",
      "sub-04570_task-rest_space-scanner_echo-2_desc-Denoised_bold.nii.gz\n",
      "sub-04570_task-rest_space-scanner_echo-2_desc-ICAS0ModelPredictions_components.nii.gz\n",
      "sub-04570_task-rest_space-scanner_echo-2_desc-ICAT2ModelPredictions_components.nii.gz\n",
      "sub-04570_task-rest_space-scanner_echo-2_desc-ICA_components.nii.gz\n",
      "sub-04570_task-rest_space-scanner_echo-2_desc-PCAS0ModelPredictions_components.nii.gz\n",
      "sub-04570_task-rest_space-scanner_echo-2_desc-PCAT2ModelPredictions_components.nii.gz\n",
      "sub-04570_task-rest_space-scanner_echo-2_desc-PCA_components.nii.gz\n",
      "sub-04570_task-rest_space-scanner_echo-2_desc-Rejected_bold.nii.gz\n",
      "sub-04570_task-rest_space-scanner_echo-3_desc-Accepted_bold.nii.gz\n",
      "sub-04570_task-rest_space-scanner_echo-3_desc-Denoised_bold.nii.gz\n",
      "sub-04570_task-rest_space-scanner_echo-3_desc-ICAS0ModelPredictions_components.nii.gz\n",
      "sub-04570_task-rest_space-scanner_echo-3_desc-ICAT2ModelPredictions_components.nii.gz\n",
      "sub-04570_task-rest_space-scanner_echo-3_desc-ICA_components.nii.gz\n",
      "sub-04570_task-rest_space-scanner_echo-3_desc-PCAS0ModelPredictions_components.nii.gz\n",
      "sub-04570_task-rest_space-scanner_echo-3_desc-PCAT2ModelPredictions_components.nii.gz\n",
      "sub-04570_task-rest_space-scanner_echo-3_desc-PCA_components.nii.gz\n",
      "sub-04570_task-rest_space-scanner_echo-3_desc-Rejected_bold.nii.gz\n",
      "sub-04570_task-rest_space-scanner_echo-4_desc-Accepted_bold.nii.gz\n",
      "sub-04570_task-rest_space-scanner_echo-4_desc-Denoised_bold.nii.gz\n",
      "sub-04570_task-rest_space-scanner_echo-4_desc-ICAS0ModelPredictions_components.nii.gz\n",
      "sub-04570_task-rest_space-scanner_echo-4_desc-ICAT2ModelPredictions_components.nii.gz\n",
      "sub-04570_task-rest_space-scanner_echo-4_desc-ICA_components.nii.gz\n",
      "sub-04570_task-rest_space-scanner_echo-4_desc-PCAS0ModelPredictions_components.nii.gz\n",
      "sub-04570_task-rest_space-scanner_echo-4_desc-PCAT2ModelPredictions_components.nii.gz\n",
      "sub-04570_task-rest_space-scanner_echo-4_desc-PCA_components.nii.gz\n",
      "sub-04570_task-rest_space-scanner_echo-4_desc-Rejected_bold.nii.gz\n",
      "sub-04570_task-rest_space-scanner_references.bib\n",
      "sub-04570_task-rest_space-scanner_report.txt\n",
      "sub-04570_task-rest_space-scanner_tedana_report.html\n",
      "tedana_2024-02-07T162111.tsv\n"
     ]
    }
   ],
   "source": [
    "out_files = sorted(glob(os.path.join(out_dir, \"*\")))\n",
    "out_files = [os.path.basename(f) for f in out_files]\n",
    "print(\"\\n\".join(out_files))"
   ]
  },
  {
   "cell_type": "code",
   "execution_count": 5,
   "id": "801ec42d",
   "metadata": {},
   "outputs": [],
   "source": [
    "metrics = pd.read_table(\n",
    "    os.path.join(out_dir, \"sub-04570_task-rest_space-scanner_desc-tedana_metrics.tsv\")\n",
    ")"
   ]
  },
  {
   "cell_type": "code",
   "execution_count": 6,
   "id": "3ab6ea59",
   "metadata": {
    "tags": [
     "hide-input"
    ]
   },
   "outputs": [
    {
     "data": {
      "text/html": [
       "<style type=\"text/css\">\n",
       "#T_b9ecb_row0_col0, #T_b9ecb_row0_col1, #T_b9ecb_row0_col2, #T_b9ecb_row0_col3, #T_b9ecb_row0_col4, #T_b9ecb_row0_col5, #T_b9ecb_row0_col6, #T_b9ecb_row0_col7, #T_b9ecb_row0_col8, #T_b9ecb_row0_col9, #T_b9ecb_row0_col10, #T_b9ecb_row0_col11, #T_b9ecb_row0_col12, #T_b9ecb_row0_col13, #T_b9ecb_row0_col14, #T_b9ecb_row0_col15, #T_b9ecb_row0_col16, #T_b9ecb_row0_col17, #T_b9ecb_row1_col0, #T_b9ecb_row1_col1, #T_b9ecb_row1_col2, #T_b9ecb_row1_col3, #T_b9ecb_row1_col4, #T_b9ecb_row1_col5, #T_b9ecb_row1_col6, #T_b9ecb_row1_col7, #T_b9ecb_row1_col8, #T_b9ecb_row1_col9, #T_b9ecb_row1_col10, #T_b9ecb_row1_col11, #T_b9ecb_row1_col12, #T_b9ecb_row1_col13, #T_b9ecb_row1_col14, #T_b9ecb_row1_col15, #T_b9ecb_row1_col16, #T_b9ecb_row1_col17, #T_b9ecb_row3_col0, #T_b9ecb_row3_col1, #T_b9ecb_row3_col2, #T_b9ecb_row3_col3, #T_b9ecb_row3_col4, #T_b9ecb_row3_col5, #T_b9ecb_row3_col6, #T_b9ecb_row3_col7, #T_b9ecb_row3_col8, #T_b9ecb_row3_col9, #T_b9ecb_row3_col10, #T_b9ecb_row3_col11, #T_b9ecb_row3_col12, #T_b9ecb_row3_col13, #T_b9ecb_row3_col14, #T_b9ecb_row3_col15, #T_b9ecb_row3_col16, #T_b9ecb_row3_col17, #T_b9ecb_row4_col0, #T_b9ecb_row4_col1, #T_b9ecb_row4_col2, #T_b9ecb_row4_col3, #T_b9ecb_row4_col4, #T_b9ecb_row4_col5, #T_b9ecb_row4_col6, #T_b9ecb_row4_col7, #T_b9ecb_row4_col8, #T_b9ecb_row4_col9, #T_b9ecb_row4_col10, #T_b9ecb_row4_col11, #T_b9ecb_row4_col12, #T_b9ecb_row4_col13, #T_b9ecb_row4_col14, #T_b9ecb_row4_col15, #T_b9ecb_row4_col16, #T_b9ecb_row4_col17, #T_b9ecb_row8_col0, #T_b9ecb_row8_col1, #T_b9ecb_row8_col2, #T_b9ecb_row8_col3, #T_b9ecb_row8_col4, #T_b9ecb_row8_col5, #T_b9ecb_row8_col6, #T_b9ecb_row8_col7, #T_b9ecb_row8_col8, #T_b9ecb_row8_col9, #T_b9ecb_row8_col10, #T_b9ecb_row8_col11, #T_b9ecb_row8_col12, #T_b9ecb_row8_col13, #T_b9ecb_row8_col14, #T_b9ecb_row8_col15, #T_b9ecb_row8_col16, #T_b9ecb_row8_col17, #T_b9ecb_row12_col0, #T_b9ecb_row12_col1, #T_b9ecb_row12_col2, #T_b9ecb_row12_col3, #T_b9ecb_row12_col4, #T_b9ecb_row12_col5, #T_b9ecb_row12_col6, #T_b9ecb_row12_col7, #T_b9ecb_row12_col8, #T_b9ecb_row12_col9, #T_b9ecb_row12_col10, #T_b9ecb_row12_col11, #T_b9ecb_row12_col12, #T_b9ecb_row12_col13, #T_b9ecb_row12_col14, #T_b9ecb_row12_col15, #T_b9ecb_row12_col16, #T_b9ecb_row12_col17, #T_b9ecb_row13_col0, #T_b9ecb_row13_col1, #T_b9ecb_row13_col2, #T_b9ecb_row13_col3, #T_b9ecb_row13_col4, #T_b9ecb_row13_col5, #T_b9ecb_row13_col6, #T_b9ecb_row13_col7, #T_b9ecb_row13_col8, #T_b9ecb_row13_col9, #T_b9ecb_row13_col10, #T_b9ecb_row13_col11, #T_b9ecb_row13_col12, #T_b9ecb_row13_col13, #T_b9ecb_row13_col14, #T_b9ecb_row13_col15, #T_b9ecb_row13_col16, #T_b9ecb_row13_col17, #T_b9ecb_row14_col0, #T_b9ecb_row14_col1, #T_b9ecb_row14_col2, #T_b9ecb_row14_col3, #T_b9ecb_row14_col4, #T_b9ecb_row14_col5, #T_b9ecb_row14_col6, #T_b9ecb_row14_col7, #T_b9ecb_row14_col8, #T_b9ecb_row14_col9, #T_b9ecb_row14_col10, #T_b9ecb_row14_col11, #T_b9ecb_row14_col12, #T_b9ecb_row14_col13, #T_b9ecb_row14_col14, #T_b9ecb_row14_col15, #T_b9ecb_row14_col16, #T_b9ecb_row14_col17, #T_b9ecb_row17_col0, #T_b9ecb_row17_col1, #T_b9ecb_row17_col2, #T_b9ecb_row17_col3, #T_b9ecb_row17_col4, #T_b9ecb_row17_col5, #T_b9ecb_row17_col6, #T_b9ecb_row17_col7, #T_b9ecb_row17_col8, #T_b9ecb_row17_col9, #T_b9ecb_row17_col10, #T_b9ecb_row17_col11, #T_b9ecb_row17_col12, #T_b9ecb_row17_col13, #T_b9ecb_row17_col14, #T_b9ecb_row17_col15, #T_b9ecb_row17_col16, #T_b9ecb_row17_col17, #T_b9ecb_row18_col0, #T_b9ecb_row18_col1, #T_b9ecb_row18_col2, #T_b9ecb_row18_col3, #T_b9ecb_row18_col4, #T_b9ecb_row18_col5, #T_b9ecb_row18_col6, #T_b9ecb_row18_col7, #T_b9ecb_row18_col8, #T_b9ecb_row18_col9, #T_b9ecb_row18_col10, #T_b9ecb_row18_col11, #T_b9ecb_row18_col12, #T_b9ecb_row18_col13, #T_b9ecb_row18_col14, #T_b9ecb_row18_col15, #T_b9ecb_row18_col16, #T_b9ecb_row18_col17, #T_b9ecb_row19_col0, #T_b9ecb_row19_col1, #T_b9ecb_row19_col2, #T_b9ecb_row19_col3, #T_b9ecb_row19_col4, #T_b9ecb_row19_col5, #T_b9ecb_row19_col6, #T_b9ecb_row19_col7, #T_b9ecb_row19_col8, #T_b9ecb_row19_col9, #T_b9ecb_row19_col10, #T_b9ecb_row19_col11, #T_b9ecb_row19_col12, #T_b9ecb_row19_col13, #T_b9ecb_row19_col14, #T_b9ecb_row19_col15, #T_b9ecb_row19_col16, #T_b9ecb_row19_col17, #T_b9ecb_row20_col0, #T_b9ecb_row20_col1, #T_b9ecb_row20_col2, #T_b9ecb_row20_col3, #T_b9ecb_row20_col4, #T_b9ecb_row20_col5, #T_b9ecb_row20_col6, #T_b9ecb_row20_col7, #T_b9ecb_row20_col8, #T_b9ecb_row20_col9, #T_b9ecb_row20_col10, #T_b9ecb_row20_col11, #T_b9ecb_row20_col12, #T_b9ecb_row20_col13, #T_b9ecb_row20_col14, #T_b9ecb_row20_col15, #T_b9ecb_row20_col16, #T_b9ecb_row20_col17, #T_b9ecb_row21_col0, #T_b9ecb_row21_col1, #T_b9ecb_row21_col2, #T_b9ecb_row21_col3, #T_b9ecb_row21_col4, #T_b9ecb_row21_col5, #T_b9ecb_row21_col6, #T_b9ecb_row21_col7, #T_b9ecb_row21_col8, #T_b9ecb_row21_col9, #T_b9ecb_row21_col10, #T_b9ecb_row21_col11, #T_b9ecb_row21_col12, #T_b9ecb_row21_col13, #T_b9ecb_row21_col14, #T_b9ecb_row21_col15, #T_b9ecb_row21_col16, #T_b9ecb_row21_col17, #T_b9ecb_row22_col0, #T_b9ecb_row22_col1, #T_b9ecb_row22_col2, #T_b9ecb_row22_col3, #T_b9ecb_row22_col4, #T_b9ecb_row22_col5, #T_b9ecb_row22_col6, #T_b9ecb_row22_col7, #T_b9ecb_row22_col8, #T_b9ecb_row22_col9, #T_b9ecb_row22_col10, #T_b9ecb_row22_col11, #T_b9ecb_row22_col12, #T_b9ecb_row22_col13, #T_b9ecb_row22_col14, #T_b9ecb_row22_col15, #T_b9ecb_row22_col16, #T_b9ecb_row22_col17, #T_b9ecb_row23_col0, #T_b9ecb_row23_col1, #T_b9ecb_row23_col2, #T_b9ecb_row23_col3, #T_b9ecb_row23_col4, #T_b9ecb_row23_col5, #T_b9ecb_row23_col6, #T_b9ecb_row23_col7, #T_b9ecb_row23_col8, #T_b9ecb_row23_col9, #T_b9ecb_row23_col10, #T_b9ecb_row23_col11, #T_b9ecb_row23_col12, #T_b9ecb_row23_col13, #T_b9ecb_row23_col14, #T_b9ecb_row23_col15, #T_b9ecb_row23_col16, #T_b9ecb_row23_col17, #T_b9ecb_row24_col0, #T_b9ecb_row24_col1, #T_b9ecb_row24_col2, #T_b9ecb_row24_col3, #T_b9ecb_row24_col4, #T_b9ecb_row24_col5, #T_b9ecb_row24_col6, #T_b9ecb_row24_col7, #T_b9ecb_row24_col8, #T_b9ecb_row24_col9, #T_b9ecb_row24_col10, #T_b9ecb_row24_col11, #T_b9ecb_row24_col12, #T_b9ecb_row24_col13, #T_b9ecb_row24_col14, #T_b9ecb_row24_col15, #T_b9ecb_row24_col16, #T_b9ecb_row24_col17, #T_b9ecb_row25_col0, #T_b9ecb_row25_col1, #T_b9ecb_row25_col2, #T_b9ecb_row25_col3, #T_b9ecb_row25_col4, #T_b9ecb_row25_col5, #T_b9ecb_row25_col6, #T_b9ecb_row25_col7, #T_b9ecb_row25_col8, #T_b9ecb_row25_col9, #T_b9ecb_row25_col10, #T_b9ecb_row25_col11, #T_b9ecb_row25_col12, #T_b9ecb_row25_col13, #T_b9ecb_row25_col14, #T_b9ecb_row25_col15, #T_b9ecb_row25_col16, #T_b9ecb_row25_col17, #T_b9ecb_row27_col0, #T_b9ecb_row27_col1, #T_b9ecb_row27_col2, #T_b9ecb_row27_col3, #T_b9ecb_row27_col4, #T_b9ecb_row27_col5, #T_b9ecb_row27_col6, #T_b9ecb_row27_col7, #T_b9ecb_row27_col8, #T_b9ecb_row27_col9, #T_b9ecb_row27_col10, #T_b9ecb_row27_col11, #T_b9ecb_row27_col12, #T_b9ecb_row27_col13, #T_b9ecb_row27_col14, #T_b9ecb_row27_col15, #T_b9ecb_row27_col16, #T_b9ecb_row27_col17, #T_b9ecb_row28_col0, #T_b9ecb_row28_col1, #T_b9ecb_row28_col2, #T_b9ecb_row28_col3, #T_b9ecb_row28_col4, #T_b9ecb_row28_col5, #T_b9ecb_row28_col6, #T_b9ecb_row28_col7, #T_b9ecb_row28_col8, #T_b9ecb_row28_col9, #T_b9ecb_row28_col10, #T_b9ecb_row28_col11, #T_b9ecb_row28_col12, #T_b9ecb_row28_col13, #T_b9ecb_row28_col14, #T_b9ecb_row28_col15, #T_b9ecb_row28_col16, #T_b9ecb_row28_col17, #T_b9ecb_row29_col0, #T_b9ecb_row29_col1, #T_b9ecb_row29_col2, #T_b9ecb_row29_col3, #T_b9ecb_row29_col4, #T_b9ecb_row29_col5, #T_b9ecb_row29_col6, #T_b9ecb_row29_col7, #T_b9ecb_row29_col8, #T_b9ecb_row29_col9, #T_b9ecb_row29_col10, #T_b9ecb_row29_col11, #T_b9ecb_row29_col12, #T_b9ecb_row29_col13, #T_b9ecb_row29_col14, #T_b9ecb_row29_col15, #T_b9ecb_row29_col16, #T_b9ecb_row29_col17, #T_b9ecb_row33_col0, #T_b9ecb_row33_col1, #T_b9ecb_row33_col2, #T_b9ecb_row33_col3, #T_b9ecb_row33_col4, #T_b9ecb_row33_col5, #T_b9ecb_row33_col6, #T_b9ecb_row33_col7, #T_b9ecb_row33_col8, #T_b9ecb_row33_col9, #T_b9ecb_row33_col10, #T_b9ecb_row33_col11, #T_b9ecb_row33_col12, #T_b9ecb_row33_col13, #T_b9ecb_row33_col14, #T_b9ecb_row33_col15, #T_b9ecb_row33_col16, #T_b9ecb_row33_col17, #T_b9ecb_row34_col0, #T_b9ecb_row34_col1, #T_b9ecb_row34_col2, #T_b9ecb_row34_col3, #T_b9ecb_row34_col4, #T_b9ecb_row34_col5, #T_b9ecb_row34_col6, #T_b9ecb_row34_col7, #T_b9ecb_row34_col8, #T_b9ecb_row34_col9, #T_b9ecb_row34_col10, #T_b9ecb_row34_col11, #T_b9ecb_row34_col12, #T_b9ecb_row34_col13, #T_b9ecb_row34_col14, #T_b9ecb_row34_col15, #T_b9ecb_row34_col16, #T_b9ecb_row34_col17, #T_b9ecb_row35_col0, #T_b9ecb_row35_col1, #T_b9ecb_row35_col2, #T_b9ecb_row35_col3, #T_b9ecb_row35_col4, #T_b9ecb_row35_col5, #T_b9ecb_row35_col6, #T_b9ecb_row35_col7, #T_b9ecb_row35_col8, #T_b9ecb_row35_col9, #T_b9ecb_row35_col10, #T_b9ecb_row35_col11, #T_b9ecb_row35_col12, #T_b9ecb_row35_col13, #T_b9ecb_row35_col14, #T_b9ecb_row35_col15, #T_b9ecb_row35_col16, #T_b9ecb_row35_col17, #T_b9ecb_row36_col0, #T_b9ecb_row36_col1, #T_b9ecb_row36_col2, #T_b9ecb_row36_col3, #T_b9ecb_row36_col4, #T_b9ecb_row36_col5, #T_b9ecb_row36_col6, #T_b9ecb_row36_col7, #T_b9ecb_row36_col8, #T_b9ecb_row36_col9, #T_b9ecb_row36_col10, #T_b9ecb_row36_col11, #T_b9ecb_row36_col12, #T_b9ecb_row36_col13, #T_b9ecb_row36_col14, #T_b9ecb_row36_col15, #T_b9ecb_row36_col16, #T_b9ecb_row36_col17, #T_b9ecb_row37_col0, #T_b9ecb_row37_col1, #T_b9ecb_row37_col2, #T_b9ecb_row37_col3, #T_b9ecb_row37_col4, #T_b9ecb_row37_col5, #T_b9ecb_row37_col6, #T_b9ecb_row37_col7, #T_b9ecb_row37_col8, #T_b9ecb_row37_col9, #T_b9ecb_row37_col10, #T_b9ecb_row37_col11, #T_b9ecb_row37_col12, #T_b9ecb_row37_col13, #T_b9ecb_row37_col14, #T_b9ecb_row37_col15, #T_b9ecb_row37_col16, #T_b9ecb_row37_col17, #T_b9ecb_row39_col0, #T_b9ecb_row39_col1, #T_b9ecb_row39_col2, #T_b9ecb_row39_col3, #T_b9ecb_row39_col4, #T_b9ecb_row39_col5, #T_b9ecb_row39_col6, #T_b9ecb_row39_col7, #T_b9ecb_row39_col8, #T_b9ecb_row39_col9, #T_b9ecb_row39_col10, #T_b9ecb_row39_col11, #T_b9ecb_row39_col12, #T_b9ecb_row39_col13, #T_b9ecb_row39_col14, #T_b9ecb_row39_col15, #T_b9ecb_row39_col16, #T_b9ecb_row39_col17, #T_b9ecb_row41_col0, #T_b9ecb_row41_col1, #T_b9ecb_row41_col2, #T_b9ecb_row41_col3, #T_b9ecb_row41_col4, #T_b9ecb_row41_col5, #T_b9ecb_row41_col6, #T_b9ecb_row41_col7, #T_b9ecb_row41_col8, #T_b9ecb_row41_col9, #T_b9ecb_row41_col10, #T_b9ecb_row41_col11, #T_b9ecb_row41_col12, #T_b9ecb_row41_col13, #T_b9ecb_row41_col14, #T_b9ecb_row41_col15, #T_b9ecb_row41_col16, #T_b9ecb_row41_col17, #T_b9ecb_row42_col0, #T_b9ecb_row42_col1, #T_b9ecb_row42_col2, #T_b9ecb_row42_col3, #T_b9ecb_row42_col4, #T_b9ecb_row42_col5, #T_b9ecb_row42_col6, #T_b9ecb_row42_col7, #T_b9ecb_row42_col8, #T_b9ecb_row42_col9, #T_b9ecb_row42_col10, #T_b9ecb_row42_col11, #T_b9ecb_row42_col12, #T_b9ecb_row42_col13, #T_b9ecb_row42_col14, #T_b9ecb_row42_col15, #T_b9ecb_row42_col16, #T_b9ecb_row42_col17, #T_b9ecb_row43_col0, #T_b9ecb_row43_col1, #T_b9ecb_row43_col2, #T_b9ecb_row43_col3, #T_b9ecb_row43_col4, #T_b9ecb_row43_col5, #T_b9ecb_row43_col6, #T_b9ecb_row43_col7, #T_b9ecb_row43_col8, #T_b9ecb_row43_col9, #T_b9ecb_row43_col10, #T_b9ecb_row43_col11, #T_b9ecb_row43_col12, #T_b9ecb_row43_col13, #T_b9ecb_row43_col14, #T_b9ecb_row43_col15, #T_b9ecb_row43_col16, #T_b9ecb_row43_col17, #T_b9ecb_row44_col0, #T_b9ecb_row44_col1, #T_b9ecb_row44_col2, #T_b9ecb_row44_col3, #T_b9ecb_row44_col4, #T_b9ecb_row44_col5, #T_b9ecb_row44_col6, #T_b9ecb_row44_col7, #T_b9ecb_row44_col8, #T_b9ecb_row44_col9, #T_b9ecb_row44_col10, #T_b9ecb_row44_col11, #T_b9ecb_row44_col12, #T_b9ecb_row44_col13, #T_b9ecb_row44_col14, #T_b9ecb_row44_col15, #T_b9ecb_row44_col16, #T_b9ecb_row44_col17 {\n",
       "  color: red;\n",
       "}\n",
       "</style>\n",
       "<table id=\"T_b9ecb\">\n",
       "  <thead>\n",
       "    <tr>\n",
       "      <th class=\"blank level0\" >&nbsp;</th>\n",
       "      <th id=\"T_b9ecb_level0_col0\" class=\"col_heading level0 col0\" >Component</th>\n",
       "      <th id=\"T_b9ecb_level0_col1\" class=\"col_heading level0 col1\" >kappa</th>\n",
       "      <th id=\"T_b9ecb_level0_col2\" class=\"col_heading level0 col2\" >rho</th>\n",
       "      <th id=\"T_b9ecb_level0_col3\" class=\"col_heading level0 col3\" >variance explained</th>\n",
       "      <th id=\"T_b9ecb_level0_col4\" class=\"col_heading level0 col4\" >normalized variance explained</th>\n",
       "      <th id=\"T_b9ecb_level0_col5\" class=\"col_heading level0 col5\" >countsigFT2</th>\n",
       "      <th id=\"T_b9ecb_level0_col6\" class=\"col_heading level0 col6\" >countsigFS0</th>\n",
       "      <th id=\"T_b9ecb_level0_col7\" class=\"col_heading level0 col7\" >dice_FT2</th>\n",
       "      <th id=\"T_b9ecb_level0_col8\" class=\"col_heading level0 col8\" >dice_FS0</th>\n",
       "      <th id=\"T_b9ecb_level0_col9\" class=\"col_heading level0 col9\" >countnoise</th>\n",
       "      <th id=\"T_b9ecb_level0_col10\" class=\"col_heading level0 col10\" >signal-noise_t</th>\n",
       "      <th id=\"T_b9ecb_level0_col11\" class=\"col_heading level0 col11\" >signal-noise_p</th>\n",
       "      <th id=\"T_b9ecb_level0_col12\" class=\"col_heading level0 col12\" >d_table_score</th>\n",
       "      <th id=\"T_b9ecb_level0_col13\" class=\"col_heading level0 col13\" >optimal sign</th>\n",
       "      <th id=\"T_b9ecb_level0_col14\" class=\"col_heading level0 col14\" >varex kappa ratio</th>\n",
       "      <th id=\"T_b9ecb_level0_col15\" class=\"col_heading level0 col15\" >d_table_score_node20</th>\n",
       "      <th id=\"T_b9ecb_level0_col16\" class=\"col_heading level0 col16\" >classification</th>\n",
       "      <th id=\"T_b9ecb_level0_col17\" class=\"col_heading level0 col17\" >classification_tags</th>\n",
       "    </tr>\n",
       "  </thead>\n",
       "  <tbody>\n",
       "    <tr>\n",
       "      <th id=\"T_b9ecb_level0_row0\" class=\"row_heading level0 row0\" >0</th>\n",
       "      <td id=\"T_b9ecb_row0_col0\" class=\"data row0 col0\" >ICA_00</td>\n",
       "      <td id=\"T_b9ecb_row0_col1\" class=\"data row0 col1\" >28.347788</td>\n",
       "      <td id=\"T_b9ecb_row0_col2\" class=\"data row0 col2\" >21.468188</td>\n",
       "      <td id=\"T_b9ecb_row0_col3\" class=\"data row0 col3\" >1.013442</td>\n",
       "      <td id=\"T_b9ecb_row0_col4\" class=\"data row0 col4\" >0.012863</td>\n",
       "      <td id=\"T_b9ecb_row0_col5\" class=\"data row0 col5\" >1899</td>\n",
       "      <td id=\"T_b9ecb_row0_col6\" class=\"data row0 col6\" >1038</td>\n",
       "      <td id=\"T_b9ecb_row0_col7\" class=\"data row0 col7\" >0.315389</td>\n",
       "      <td id=\"T_b9ecb_row0_col8\" class=\"data row0 col8\" >0.290135</td>\n",
       "      <td id=\"T_b9ecb_row0_col9\" class=\"data row0 col9\" >1429</td>\n",
       "      <td id=\"T_b9ecb_row0_col10\" class=\"data row0 col10\" >0.000000</td>\n",
       "      <td id=\"T_b9ecb_row0_col11\" class=\"data row0 col11\" >0.000000</td>\n",
       "      <td id=\"T_b9ecb_row0_col12\" class=\"data row0 col12\" >23.800000</td>\n",
       "      <td id=\"T_b9ecb_row0_col13\" class=\"data row0 col13\" >1</td>\n",
       "      <td id=\"T_b9ecb_row0_col14\" class=\"data row0 col14\" >2.702573</td>\n",
       "      <td id=\"T_b9ecb_row0_col15\" class=\"data row0 col15\" >12.300000</td>\n",
       "      <td id=\"T_b9ecb_row0_col16\" class=\"data row0 col16\" >rejected</td>\n",
       "      <td id=\"T_b9ecb_row0_col17\" class=\"data row0 col17\" >Less likely BOLD</td>\n",
       "    </tr>\n",
       "    <tr>\n",
       "      <th id=\"T_b9ecb_level0_row1\" class=\"row_heading level0 row1\" >1</th>\n",
       "      <td id=\"T_b9ecb_row1_col0\" class=\"data row1 col0\" >ICA_01</td>\n",
       "      <td id=\"T_b9ecb_row1_col1\" class=\"data row1 col1\" >30.098506</td>\n",
       "      <td id=\"T_b9ecb_row1_col2\" class=\"data row1 col2\" >35.132674</td>\n",
       "      <td id=\"T_b9ecb_row1_col3\" class=\"data row1 col3\" >0.678693</td>\n",
       "      <td id=\"T_b9ecb_row1_col4\" class=\"data row1 col4\" >0.008247</td>\n",
       "      <td id=\"T_b9ecb_row1_col5\" class=\"data row1 col5\" >1361</td>\n",
       "      <td id=\"T_b9ecb_row1_col6\" class=\"data row1 col6\" >2284</td>\n",
       "      <td id=\"T_b9ecb_row1_col7\" class=\"data row1 col7\" >0.461199</td>\n",
       "      <td id=\"T_b9ecb_row1_col8\" class=\"data row1 col8\" >0.494850</td>\n",
       "      <td id=\"T_b9ecb_row1_col9\" class=\"data row1 col9\" >1204</td>\n",
       "      <td id=\"T_b9ecb_row1_col10\" class=\"data row1 col10\" >-2.223211</td>\n",
       "      <td id=\"T_b9ecb_row1_col11\" class=\"data row1 col11\" >0.027385</td>\n",
       "      <td id=\"T_b9ecb_row1_col12\" class=\"data row1 col12\" >22.200000</td>\n",
       "      <td id=\"T_b9ecb_row1_col13\" class=\"data row1 col13\" >-1</td>\n",
       "      <td id=\"T_b9ecb_row1_col14\" class=\"data row1 col14\" >1.704613</td>\n",
       "      <td id=\"T_b9ecb_row1_col15\" class=\"data row1 col15\" >nan</td>\n",
       "      <td id=\"T_b9ecb_row1_col16\" class=\"data row1 col16\" >rejected</td>\n",
       "      <td id=\"T_b9ecb_row1_col17\" class=\"data row1 col17\" >Unlikely BOLD</td>\n",
       "    </tr>\n",
       "    <tr>\n",
       "      <th id=\"T_b9ecb_level0_row2\" class=\"row_heading level0 row2\" >2</th>\n",
       "      <td id=\"T_b9ecb_row2_col0\" class=\"data row2 col0\" >ICA_02</td>\n",
       "      <td id=\"T_b9ecb_row2_col1\" class=\"data row2 col1\" >18.708569</td>\n",
       "      <td id=\"T_b9ecb_row2_col2\" class=\"data row2 col2\" >15.910197</td>\n",
       "      <td id=\"T_b9ecb_row2_col3\" class=\"data row2 col3\" >0.206307</td>\n",
       "      <td id=\"T_b9ecb_row2_col4\" class=\"data row2 col4\" >0.003059</td>\n",
       "      <td id=\"T_b9ecb_row2_col5\" class=\"data row2 col5\" >426</td>\n",
       "      <td id=\"T_b9ecb_row2_col6\" class=\"data row2 col6\" >325</td>\n",
       "      <td id=\"T_b9ecb_row2_col7\" class=\"data row2 col7\" >0.000000</td>\n",
       "      <td id=\"T_b9ecb_row2_col8\" class=\"data row2 col8\" >0.000000</td>\n",
       "      <td id=\"T_b9ecb_row2_col9\" class=\"data row2 col9\" >1370</td>\n",
       "      <td id=\"T_b9ecb_row2_col10\" class=\"data row2 col10\" >2.594490</td>\n",
       "      <td id=\"T_b9ecb_row2_col11\" class=\"data row2 col11\" >0.011326</td>\n",
       "      <td id=\"T_b9ecb_row2_col12\" class=\"data row2 col12\" >29.300000</td>\n",
       "      <td id=\"T_b9ecb_row2_col13\" class=\"data row2 col13\" >1</td>\n",
       "      <td id=\"T_b9ecb_row2_col14\" class=\"data row2 col14\" >0.833627</td>\n",
       "      <td id=\"T_b9ecb_row2_col15\" class=\"data row2 col15\" >nan</td>\n",
       "      <td id=\"T_b9ecb_row2_col16\" class=\"data row2 col16\" >accepted</td>\n",
       "      <td id=\"T_b9ecb_row2_col17\" class=\"data row2 col17\" >Low variance</td>\n",
       "    </tr>\n",
       "    <tr>\n",
       "      <th id=\"T_b9ecb_level0_row3\" class=\"row_heading level0 row3\" >3</th>\n",
       "      <td id=\"T_b9ecb_row3_col0\" class=\"data row3 col0\" >ICA_03</td>\n",
       "      <td id=\"T_b9ecb_row3_col1\" class=\"data row3 col1\" >32.545490</td>\n",
       "      <td id=\"T_b9ecb_row3_col2\" class=\"data row3 col2\" >31.903867</td>\n",
       "      <td id=\"T_b9ecb_row3_col3\" class=\"data row3 col3\" >0.960089</td>\n",
       "      <td id=\"T_b9ecb_row3_col4\" class=\"data row3 col4\" >0.011506</td>\n",
       "      <td id=\"T_b9ecb_row3_col5\" class=\"data row3 col5\" >459</td>\n",
       "      <td id=\"T_b9ecb_row3_col6\" class=\"data row3 col6\" >502</td>\n",
       "      <td id=\"T_b9ecb_row3_col7\" class=\"data row3 col7\" >0.000000</td>\n",
       "      <td id=\"T_b9ecb_row3_col8\" class=\"data row3 col8\" >0.000000</td>\n",
       "      <td id=\"T_b9ecb_row3_col9\" class=\"data row3 col9\" >1193</td>\n",
       "      <td id=\"T_b9ecb_row3_col10\" class=\"data row3 col10\" >0.000000</td>\n",
       "      <td id=\"T_b9ecb_row3_col11\" class=\"data row3 col11\" >0.000000</td>\n",
       "      <td id=\"T_b9ecb_row3_col12\" class=\"data row3 col12\" >26.600000</td>\n",
       "      <td id=\"T_b9ecb_row3_col13\" class=\"data row3 col13\" >-1</td>\n",
       "      <td id=\"T_b9ecb_row3_col14\" class=\"data row3 col14\" >2.230070</td>\n",
       "      <td id=\"T_b9ecb_row3_col15\" class=\"data row3 col15\" >nan</td>\n",
       "      <td id=\"T_b9ecb_row3_col16\" class=\"data row3 col16\" >rejected</td>\n",
       "      <td id=\"T_b9ecb_row3_col17\" class=\"data row3 col17\" >Unlikely BOLD</td>\n",
       "    </tr>\n",
       "    <tr>\n",
       "      <th id=\"T_b9ecb_level0_row4\" class=\"row_heading level0 row4\" >4</th>\n",
       "      <td id=\"T_b9ecb_row4_col0\" class=\"data row4 col0\" >ICA_04</td>\n",
       "      <td id=\"T_b9ecb_row4_col1\" class=\"data row4 col1\" >20.593691</td>\n",
       "      <td id=\"T_b9ecb_row4_col2\" class=\"data row4 col2\" >32.612785</td>\n",
       "      <td id=\"T_b9ecb_row4_col3\" class=\"data row4 col3\" >0.432891</td>\n",
       "      <td id=\"T_b9ecb_row4_col4\" class=\"data row4 col4\" >0.004306</td>\n",
       "      <td id=\"T_b9ecb_row4_col5\" class=\"data row4 col5\" >394</td>\n",
       "      <td id=\"T_b9ecb_row4_col6\" class=\"data row4 col6\" >696</td>\n",
       "      <td id=\"T_b9ecb_row4_col7\" class=\"data row4 col7\" >0.203608</td>\n",
       "      <td id=\"T_b9ecb_row4_col8\" class=\"data row4 col8\" >0.397351</td>\n",
       "      <td id=\"T_b9ecb_row4_col9\" class=\"data row4 col9\" >1250</td>\n",
       "      <td id=\"T_b9ecb_row4_col10\" class=\"data row4 col10\" >1.327381</td>\n",
       "      <td id=\"T_b9ecb_row4_col11\" class=\"data row4 col11\" >0.196048</td>\n",
       "      <td id=\"T_b9ecb_row4_col12\" class=\"data row4 col12\" >26.600000</td>\n",
       "      <td id=\"T_b9ecb_row4_col13\" class=\"data row4 col13\" >1</td>\n",
       "      <td id=\"T_b9ecb_row4_col14\" class=\"data row4 col14\" >1.589065</td>\n",
       "      <td id=\"T_b9ecb_row4_col15\" class=\"data row4 col15\" >nan</td>\n",
       "      <td id=\"T_b9ecb_row4_col16\" class=\"data row4 col16\" >rejected</td>\n",
       "      <td id=\"T_b9ecb_row4_col17\" class=\"data row4 col17\" >Unlikely BOLD</td>\n",
       "    </tr>\n",
       "    <tr>\n",
       "      <th id=\"T_b9ecb_level0_row5\" class=\"row_heading level0 row5\" >5</th>\n",
       "      <td id=\"T_b9ecb_row5_col0\" class=\"data row5 col0\" >ICA_05</td>\n",
       "      <td id=\"T_b9ecb_row5_col1\" class=\"data row5 col1\" >40.121439</td>\n",
       "      <td id=\"T_b9ecb_row5_col2\" class=\"data row5 col2\" >11.127913</td>\n",
       "      <td id=\"T_b9ecb_row5_col3\" class=\"data row5 col3\" >0.404153</td>\n",
       "      <td id=\"T_b9ecb_row5_col4\" class=\"data row5 col4\" >0.004903</td>\n",
       "      <td id=\"T_b9ecb_row5_col5\" class=\"data row5 col5\" >1448</td>\n",
       "      <td id=\"T_b9ecb_row5_col6\" class=\"data row5 col6\" >137</td>\n",
       "      <td id=\"T_b9ecb_row5_col7\" class=\"data row5 col7\" >0.548365</td>\n",
       "      <td id=\"T_b9ecb_row5_col8\" class=\"data row5 col8\" >0.000000</td>\n",
       "      <td id=\"T_b9ecb_row5_col9\" class=\"data row5 col9\" >1112</td>\n",
       "      <td id=\"T_b9ecb_row5_col10\" class=\"data row5 col10\" >13.704510</td>\n",
       "      <td id=\"T_b9ecb_row5_col11\" class=\"data row5 col11\" >0.000000</td>\n",
       "      <td id=\"T_b9ecb_row5_col12\" class=\"data row5 col12\" >10.200000</td>\n",
       "      <td id=\"T_b9ecb_row5_col13\" class=\"data row5 col13\" >-1</td>\n",
       "      <td id=\"T_b9ecb_row5_col14\" class=\"data row5 col14\" >0.761495</td>\n",
       "      <td id=\"T_b9ecb_row5_col15\" class=\"data row5 col15\" >7.200000</td>\n",
       "      <td id=\"T_b9ecb_row5_col16\" class=\"data row5 col16\" >accepted</td>\n",
       "      <td id=\"T_b9ecb_row5_col17\" class=\"data row5 col17\" >Likely BOLD</td>\n",
       "    </tr>\n",
       "    <tr>\n",
       "      <th id=\"T_b9ecb_level0_row6\" class=\"row_heading level0 row6\" >6</th>\n",
       "      <td id=\"T_b9ecb_row6_col0\" class=\"data row6 col0\" >ICA_06</td>\n",
       "      <td id=\"T_b9ecb_row6_col1\" class=\"data row6 col1\" >17.665673</td>\n",
       "      <td id=\"T_b9ecb_row6_col2\" class=\"data row6 col2\" >12.036534</td>\n",
       "      <td id=\"T_b9ecb_row6_col3\" class=\"data row6 col3\" >0.263749</td>\n",
       "      <td id=\"T_b9ecb_row6_col4\" class=\"data row6 col4\" >0.004105</td>\n",
       "      <td id=\"T_b9ecb_row6_col5\" class=\"data row6 col5\" >400</td>\n",
       "      <td id=\"T_b9ecb_row6_col6\" class=\"data row6 col6\" >112</td>\n",
       "      <td id=\"T_b9ecb_row6_col7\" class=\"data row6 col7\" >0.295000</td>\n",
       "      <td id=\"T_b9ecb_row6_col8\" class=\"data row6 col8\" >0.000000</td>\n",
       "      <td id=\"T_b9ecb_row6_col9\" class=\"data row6 col9\" >1407</td>\n",
       "      <td id=\"T_b9ecb_row6_col10\" class=\"data row6 col10\" >0.000000</td>\n",
       "      <td id=\"T_b9ecb_row6_col11\" class=\"data row6 col11\" >0.000000</td>\n",
       "      <td id=\"T_b9ecb_row6_col12\" class=\"data row6 col12\" >29.600000</td>\n",
       "      <td id=\"T_b9ecb_row6_col13\" class=\"data row6 col13\" >1</td>\n",
       "      <td id=\"T_b9ecb_row6_col14\" class=\"data row6 col14\" >1.128647</td>\n",
       "      <td id=\"T_b9ecb_row6_col15\" class=\"data row6 col15\" >nan</td>\n",
       "      <td id=\"T_b9ecb_row6_col16\" class=\"data row6 col16\" >accepted</td>\n",
       "      <td id=\"T_b9ecb_row6_col17\" class=\"data row6 col17\" >Low variance</td>\n",
       "    </tr>\n",
       "    <tr>\n",
       "      <th id=\"T_b9ecb_level0_row7\" class=\"row_heading level0 row7\" >7</th>\n",
       "      <td id=\"T_b9ecb_row7_col0\" class=\"data row7 col0\" >ICA_07</td>\n",
       "      <td id=\"T_b9ecb_row7_col1\" class=\"data row7 col1\" >36.161025</td>\n",
       "      <td id=\"T_b9ecb_row7_col2\" class=\"data row7 col2\" >35.170133</td>\n",
       "      <td id=\"T_b9ecb_row7_col3\" class=\"data row7 col3\" >1.124176</td>\n",
       "      <td id=\"T_b9ecb_row7_col4\" class=\"data row7 col4\" >0.011046</td>\n",
       "      <td id=\"T_b9ecb_row7_col5\" class=\"data row7 col5\" >2137</td>\n",
       "      <td id=\"T_b9ecb_row7_col6\" class=\"data row7 col6\" >1852</td>\n",
       "      <td id=\"T_b9ecb_row7_col7\" class=\"data row7 col7\" >0.430602</td>\n",
       "      <td id=\"T_b9ecb_row7_col8\" class=\"data row7 col8\" >0.424209</td>\n",
       "      <td id=\"T_b9ecb_row7_col9\" class=\"data row7 col9\" >1259</td>\n",
       "      <td id=\"T_b9ecb_row7_col10\" class=\"data row7 col10\" >2.749466</td>\n",
       "      <td id=\"T_b9ecb_row7_col11\" class=\"data row7 col11\" >0.007392</td>\n",
       "      <td id=\"T_b9ecb_row7_col12\" class=\"data row7 col12\" >15.400000</td>\n",
       "      <td id=\"T_b9ecb_row7_col13\" class=\"data row7 col13\" >-1</td>\n",
       "      <td id=\"T_b9ecb_row7_col14\" class=\"data row7 col14\" >2.350127</td>\n",
       "      <td id=\"T_b9ecb_row7_col15\" class=\"data row7 col15\" >9.600000</td>\n",
       "      <td id=\"T_b9ecb_row7_col16\" class=\"data row7 col16\" >accepted</td>\n",
       "      <td id=\"T_b9ecb_row7_col17\" class=\"data row7 col17\" >Likely BOLD</td>\n",
       "    </tr>\n",
       "    <tr>\n",
       "      <th id=\"T_b9ecb_level0_row8\" class=\"row_heading level0 row8\" >8</th>\n",
       "      <td id=\"T_b9ecb_row8_col0\" class=\"data row8 col0\" >ICA_08</td>\n",
       "      <td id=\"T_b9ecb_row8_col1\" class=\"data row8 col1\" >43.095231</td>\n",
       "      <td id=\"T_b9ecb_row8_col2\" class=\"data row8 col2\" >23.942132</td>\n",
       "      <td id=\"T_b9ecb_row8_col3\" class=\"data row8 col3\" >16.578629</td>\n",
       "      <td id=\"T_b9ecb_row8_col4\" class=\"data row8 col4\" >0.134558</td>\n",
       "      <td id=\"T_b9ecb_row8_col5\" class=\"data row8 col5\" >5333</td>\n",
       "      <td id=\"T_b9ecb_row8_col6\" class=\"data row8 col6\" >2633</td>\n",
       "      <td id=\"T_b9ecb_row8_col7\" class=\"data row8 col7\" >0.397008</td>\n",
       "      <td id=\"T_b9ecb_row8_col8\" class=\"data row8 col8\" >0.213008</td>\n",
       "      <td id=\"T_b9ecb_row8_col9\" class=\"data row8 col9\" >1288</td>\n",
       "      <td id=\"T_b9ecb_row8_col10\" class=\"data row8 col10\" >0.000000</td>\n",
       "      <td id=\"T_b9ecb_row8_col11\" class=\"data row8 col11\" >0.000000</td>\n",
       "      <td id=\"T_b9ecb_row8_col12\" class=\"data row8 col12\" >16.200000</td>\n",
       "      <td id=\"T_b9ecb_row8_col13\" class=\"data row8 col13\" >-1</td>\n",
       "      <td id=\"T_b9ecb_row8_col14\" class=\"data row8 col14\" >29.081522</td>\n",
       "      <td id=\"T_b9ecb_row8_col15\" class=\"data row8 col15\" >8.700000</td>\n",
       "      <td id=\"T_b9ecb_row8_col16\" class=\"data row8 col16\" >rejected</td>\n",
       "      <td id=\"T_b9ecb_row8_col17\" class=\"data row8 col17\" >Less likely BOLD</td>\n",
       "    </tr>\n",
       "    <tr>\n",
       "      <th id=\"T_b9ecb_level0_row9\" class=\"row_heading level0 row9\" >9</th>\n",
       "      <td id=\"T_b9ecb_row9_col0\" class=\"data row9 col0\" >ICA_09</td>\n",
       "      <td id=\"T_b9ecb_row9_col1\" class=\"data row9 col1\" >51.665421</td>\n",
       "      <td id=\"T_b9ecb_row9_col2\" class=\"data row9 col2\" >11.351800</td>\n",
       "      <td id=\"T_b9ecb_row9_col3\" class=\"data row9 col3\" >0.804558</td>\n",
       "      <td id=\"T_b9ecb_row9_col4\" class=\"data row9 col4\" >0.010379</td>\n",
       "      <td id=\"T_b9ecb_row9_col5\" class=\"data row9 col5\" >3523</td>\n",
       "      <td id=\"T_b9ecb_row9_col6\" class=\"data row9 col6\" >406</td>\n",
       "      <td id=\"T_b9ecb_row9_col7\" class=\"data row9 col7\" >0.542963</td>\n",
       "      <td id=\"T_b9ecb_row9_col8\" class=\"data row9 col8\" >0.087940</td>\n",
       "      <td id=\"T_b9ecb_row9_col9\" class=\"data row9 col9\" >1094</td>\n",
       "      <td id=\"T_b9ecb_row9_col10\" class=\"data row9 col10\" >11.837367</td>\n",
       "      <td id=\"T_b9ecb_row9_col11\" class=\"data row9 col11\" >0.000000</td>\n",
       "      <td id=\"T_b9ecb_row9_col12\" class=\"data row9 col12\" >7.800000</td>\n",
       "      <td id=\"T_b9ecb_row9_col13\" class=\"data row9 col13\" >1</td>\n",
       "      <td id=\"T_b9ecb_row9_col14\" class=\"data row9 col14\" >1.177213</td>\n",
       "      <td id=\"T_b9ecb_row9_col15\" class=\"data row9 col15\" >5.600000</td>\n",
       "      <td id=\"T_b9ecb_row9_col16\" class=\"data row9 col16\" >accepted</td>\n",
       "      <td id=\"T_b9ecb_row9_col17\" class=\"data row9 col17\" >Likely BOLD</td>\n",
       "    </tr>\n",
       "    <tr>\n",
       "      <th id=\"T_b9ecb_level0_row10\" class=\"row_heading level0 row10\" >10</th>\n",
       "      <td id=\"T_b9ecb_row10_col0\" class=\"data row10 col0\" >ICA_10</td>\n",
       "      <td id=\"T_b9ecb_row10_col1\" class=\"data row10 col1\" >17.284780</td>\n",
       "      <td id=\"T_b9ecb_row10_col2\" class=\"data row10 col2\" >14.588589</td>\n",
       "      <td id=\"T_b9ecb_row10_col3\" class=\"data row10 col3\" >0.231984</td>\n",
       "      <td id=\"T_b9ecb_row10_col4\" class=\"data row10 col4\" >0.003371</td>\n",
       "      <td id=\"T_b9ecb_row10_col5\" class=\"data row10 col5\" >317</td>\n",
       "      <td id=\"T_b9ecb_row10_col6\" class=\"data row10 col6\" >147</td>\n",
       "      <td id=\"T_b9ecb_row10_col7\" class=\"data row10 col7\" >0.000000</td>\n",
       "      <td id=\"T_b9ecb_row10_col8\" class=\"data row10 col8\" >0.000000</td>\n",
       "      <td id=\"T_b9ecb_row10_col9\" class=\"data row10 col9\" >1404</td>\n",
       "      <td id=\"T_b9ecb_row10_col10\" class=\"data row10 col10\" >0.000000</td>\n",
       "      <td id=\"T_b9ecb_row10_col11\" class=\"data row10 col11\" >0.000000</td>\n",
       "      <td id=\"T_b9ecb_row10_col12\" class=\"data row10 col12\" >33.900000</td>\n",
       "      <td id=\"T_b9ecb_row10_col13\" class=\"data row10 col13\" >-1</td>\n",
       "      <td id=\"T_b9ecb_row10_col14\" class=\"data row10 col14\" >1.014595</td>\n",
       "      <td id=\"T_b9ecb_row10_col15\" class=\"data row10 col15\" >nan</td>\n",
       "      <td id=\"T_b9ecb_row10_col16\" class=\"data row10 col16\" >accepted</td>\n",
       "      <td id=\"T_b9ecb_row10_col17\" class=\"data row10 col17\" >Low variance</td>\n",
       "    </tr>\n",
       "    <tr>\n",
       "      <th id=\"T_b9ecb_level0_row11\" class=\"row_heading level0 row11\" >11</th>\n",
       "      <td id=\"T_b9ecb_row11_col0\" class=\"data row11 col0\" >ICA_11</td>\n",
       "      <td id=\"T_b9ecb_row11_col1\" class=\"data row11 col1\" >64.134068</td>\n",
       "      <td id=\"T_b9ecb_row11_col2\" class=\"data row11 col2\" >12.319345</td>\n",
       "      <td id=\"T_b9ecb_row11_col3\" class=\"data row11 col3\" >0.666848</td>\n",
       "      <td id=\"T_b9ecb_row11_col4\" class=\"data row11 col4\" >0.007105</td>\n",
       "      <td id=\"T_b9ecb_row11_col5\" class=\"data row11 col5\" >2374</td>\n",
       "      <td id=\"T_b9ecb_row11_col6\" class=\"data row11 col6\" >666</td>\n",
       "      <td id=\"T_b9ecb_row11_col7\" class=\"data row11 col7\" >0.639880</td>\n",
       "      <td id=\"T_b9ecb_row11_col8\" class=\"data row11 col8\" >0.263921</td>\n",
       "      <td id=\"T_b9ecb_row11_col9\" class=\"data row11 col9\" >837</td>\n",
       "      <td id=\"T_b9ecb_row11_col10\" class=\"data row11 col10\" >14.130849</td>\n",
       "      <td id=\"T_b9ecb_row11_col11\" class=\"data row11 col11\" >0.000000</td>\n",
       "      <td id=\"T_b9ecb_row11_col12\" class=\"data row11 col12\" >5.000000</td>\n",
       "      <td id=\"T_b9ecb_row11_col13\" class=\"data row11 col13\" >-1</td>\n",
       "      <td id=\"T_b9ecb_row11_col14\" class=\"data row11 col14\" >0.786024</td>\n",
       "      <td id=\"T_b9ecb_row11_col15\" class=\"data row11 col15\" >3.200000</td>\n",
       "      <td id=\"T_b9ecb_row11_col16\" class=\"data row11 col16\" >accepted</td>\n",
       "      <td id=\"T_b9ecb_row11_col17\" class=\"data row11 col17\" >Likely BOLD</td>\n",
       "    </tr>\n",
       "    <tr>\n",
       "      <th id=\"T_b9ecb_level0_row12\" class=\"row_heading level0 row12\" >12</th>\n",
       "      <td id=\"T_b9ecb_row12_col0\" class=\"data row12 col0\" >ICA_12</td>\n",
       "      <td id=\"T_b9ecb_row12_col1\" class=\"data row12 col1\" >31.789568</td>\n",
       "      <td id=\"T_b9ecb_row12_col2\" class=\"data row12 col2\" >39.310292</td>\n",
       "      <td id=\"T_b9ecb_row12_col3\" class=\"data row12 col3\" >1.695393</td>\n",
       "      <td id=\"T_b9ecb_row12_col4\" class=\"data row12 col4\" >0.016001</td>\n",
       "      <td id=\"T_b9ecb_row12_col5\" class=\"data row12 col5\" >591</td>\n",
       "      <td id=\"T_b9ecb_row12_col6\" class=\"data row12 col6\" >802</td>\n",
       "      <td id=\"T_b9ecb_row12_col7\" class=\"data row12 col7\" >0.287179</td>\n",
       "      <td id=\"T_b9ecb_row12_col8\" class=\"data row12 col8\" >0.335231</td>\n",
       "      <td id=\"T_b9ecb_row12_col9\" class=\"data row12 col9\" >1097</td>\n",
       "      <td id=\"T_b9ecb_row12_col10\" class=\"data row12 col10\" >-0.042348</td>\n",
       "      <td id=\"T_b9ecb_row12_col11\" class=\"data row12 col11\" >0.966401</td>\n",
       "      <td id=\"T_b9ecb_row12_col12\" class=\"data row12 col12\" >23.400000</td>\n",
       "      <td id=\"T_b9ecb_row12_col13\" class=\"data row12 col13\" >-1</td>\n",
       "      <td id=\"T_b9ecb_row12_col14\" class=\"data row12 col14\" >4.031655</td>\n",
       "      <td id=\"T_b9ecb_row12_col15\" class=\"data row12 col15\" >nan</td>\n",
       "      <td id=\"T_b9ecb_row12_col16\" class=\"data row12 col16\" >rejected</td>\n",
       "      <td id=\"T_b9ecb_row12_col17\" class=\"data row12 col17\" >Unlikely BOLD</td>\n",
       "    </tr>\n",
       "    <tr>\n",
       "      <th id=\"T_b9ecb_level0_row13\" class=\"row_heading level0 row13\" >13</th>\n",
       "      <td id=\"T_b9ecb_row13_col0\" class=\"data row13 col0\" >ICA_13</td>\n",
       "      <td id=\"T_b9ecb_row13_col1\" class=\"data row13 col1\" >10.501369</td>\n",
       "      <td id=\"T_b9ecb_row13_col2\" class=\"data row13 col2\" >22.246694</td>\n",
       "      <td id=\"T_b9ecb_row13_col3\" class=\"data row13 col3\" >0.272889</td>\n",
       "      <td id=\"T_b9ecb_row13_col4\" class=\"data row13 col4\" >0.003788</td>\n",
       "      <td id=\"T_b9ecb_row13_col5\" class=\"data row13 col5\" >93</td>\n",
       "      <td id=\"T_b9ecb_row13_col6\" class=\"data row13 col6\" >83</td>\n",
       "      <td id=\"T_b9ecb_row13_col7\" class=\"data row13 col7\" >0.000000</td>\n",
       "      <td id=\"T_b9ecb_row13_col8\" class=\"data row13 col8\" >0.000000</td>\n",
       "      <td id=\"T_b9ecb_row13_col9\" class=\"data row13 col9\" >648</td>\n",
       "      <td id=\"T_b9ecb_row13_col10\" class=\"data row13 col10\" >-6.251780</td>\n",
       "      <td id=\"T_b9ecb_row13_col11\" class=\"data row13 col11\" >0.000000</td>\n",
       "      <td id=\"T_b9ecb_row13_col12\" class=\"data row13 col12\" >34.300000</td>\n",
       "      <td id=\"T_b9ecb_row13_col13\" class=\"data row13 col13\" >-1</td>\n",
       "      <td id=\"T_b9ecb_row13_col14\" class=\"data row13 col14\" >1.964433</td>\n",
       "      <td id=\"T_b9ecb_row13_col15\" class=\"data row13 col15\" >nan</td>\n",
       "      <td id=\"T_b9ecb_row13_col16\" class=\"data row13 col16\" >rejected</td>\n",
       "      <td id=\"T_b9ecb_row13_col17\" class=\"data row13 col17\" >Unlikely BOLD</td>\n",
       "    </tr>\n",
       "    <tr>\n",
       "      <th id=\"T_b9ecb_level0_row14\" class=\"row_heading level0 row14\" >14</th>\n",
       "      <td id=\"T_b9ecb_row14_col0\" class=\"data row14 col0\" >ICA_14</td>\n",
       "      <td id=\"T_b9ecb_row14_col1\" class=\"data row14 col1\" >25.840116</td>\n",
       "      <td id=\"T_b9ecb_row14_col2\" class=\"data row14 col2\" >15.052186</td>\n",
       "      <td id=\"T_b9ecb_row14_col3\" class=\"data row14 col3\" >1.087859</td>\n",
       "      <td id=\"T_b9ecb_row14_col4\" class=\"data row14 col4\" >0.007876</td>\n",
       "      <td id=\"T_b9ecb_row14_col5\" class=\"data row14 col5\" >1057</td>\n",
       "      <td id=\"T_b9ecb_row14_col6\" class=\"data row14 col6\" >235</td>\n",
       "      <td id=\"T_b9ecb_row14_col7\" class=\"data row14 col7\" >0.337662</td>\n",
       "      <td id=\"T_b9ecb_row14_col8\" class=\"data row14 col8\" >0.013129</td>\n",
       "      <td id=\"T_b9ecb_row14_col9\" class=\"data row14 col9\" >1304</td>\n",
       "      <td id=\"T_b9ecb_row14_col10\" class=\"data row14 col10\" >-0.240954</td>\n",
       "      <td id=\"T_b9ecb_row14_col11\" class=\"data row14 col11\" >0.811236</td>\n",
       "      <td id=\"T_b9ecb_row14_col12\" class=\"data row14 col12\" >24.400000</td>\n",
       "      <td id=\"T_b9ecb_row14_col13\" class=\"data row14 col13\" >1</td>\n",
       "      <td id=\"T_b9ecb_row14_col14\" class=\"data row14 col14\" >3.182555</td>\n",
       "      <td id=\"T_b9ecb_row14_col15\" class=\"data row14 col15\" >nan</td>\n",
       "      <td id=\"T_b9ecb_row14_col16\" class=\"data row14 col16\" >rejected</td>\n",
       "      <td id=\"T_b9ecb_row14_col17\" class=\"data row14 col17\" >Unlikely BOLD</td>\n",
       "    </tr>\n",
       "    <tr>\n",
       "      <th id=\"T_b9ecb_level0_row15\" class=\"row_heading level0 row15\" >15</th>\n",
       "      <td id=\"T_b9ecb_row15_col0\" class=\"data row15 col0\" >ICA_15</td>\n",
       "      <td id=\"T_b9ecb_row15_col1\" class=\"data row15 col1\" >103.598495</td>\n",
       "      <td id=\"T_b9ecb_row15_col2\" class=\"data row15 col2\" >10.885704</td>\n",
       "      <td id=\"T_b9ecb_row15_col3\" class=\"data row15 col3\" >0.755913</td>\n",
       "      <td id=\"T_b9ecb_row15_col4\" class=\"data row15 col4\" >0.009164</td>\n",
       "      <td id=\"T_b9ecb_row15_col5\" class=\"data row15 col5\" >3616</td>\n",
       "      <td id=\"T_b9ecb_row15_col6\" class=\"data row15 col6\" >381</td>\n",
       "      <td id=\"T_b9ecb_row15_col7\" class=\"data row15 col7\" >0.663932</td>\n",
       "      <td id=\"T_b9ecb_row15_col8\" class=\"data row15 col8\" >0.164675</td>\n",
       "      <td id=\"T_b9ecb_row15_col9\" class=\"data row15 col9\" >728</td>\n",
       "      <td id=\"T_b9ecb_row15_col10\" class=\"data row15 col10\" >7.909812</td>\n",
       "      <td id=\"T_b9ecb_row15_col11\" class=\"data row15 col11\" >0.000000</td>\n",
       "      <td id=\"T_b9ecb_row15_col12\" class=\"data row15 col12\" >3.400000</td>\n",
       "      <td id=\"T_b9ecb_row15_col13\" class=\"data row15 col13\" >-1</td>\n",
       "      <td id=\"T_b9ecb_row15_col14\" class=\"data row15 col14\" >0.551590</td>\n",
       "      <td id=\"T_b9ecb_row15_col15\" class=\"data row15 col15\" >2.400000</td>\n",
       "      <td id=\"T_b9ecb_row15_col16\" class=\"data row15 col16\" >accepted</td>\n",
       "      <td id=\"T_b9ecb_row15_col17\" class=\"data row15 col17\" >Likely BOLD</td>\n",
       "    </tr>\n",
       "    <tr>\n",
       "      <th id=\"T_b9ecb_level0_row16\" class=\"row_heading level0 row16\" >16</th>\n",
       "      <td id=\"T_b9ecb_row16_col0\" class=\"data row16 col0\" >ICA_16</td>\n",
       "      <td id=\"T_b9ecb_row16_col1\" class=\"data row16 col1\" >53.097948</td>\n",
       "      <td id=\"T_b9ecb_row16_col2\" class=\"data row16 col2\" >10.286340</td>\n",
       "      <td id=\"T_b9ecb_row16_col3\" class=\"data row16 col3\" >0.228268</td>\n",
       "      <td id=\"T_b9ecb_row16_col4\" class=\"data row16 col4\" >0.004237</td>\n",
       "      <td id=\"T_b9ecb_row16_col5\" class=\"data row16 col5\" >1735</td>\n",
       "      <td id=\"T_b9ecb_row16_col6\" class=\"data row16 col6\" >44</td>\n",
       "      <td id=\"T_b9ecb_row16_col7\" class=\"data row16 col7\" >0.623278</td>\n",
       "      <td id=\"T_b9ecb_row16_col8\" class=\"data row16 col8\" >0.000000</td>\n",
       "      <td id=\"T_b9ecb_row16_col9\" class=\"data row16 col9\" >770</td>\n",
       "      <td id=\"T_b9ecb_row16_col10\" class=\"data row16 col10\" >13.880749</td>\n",
       "      <td id=\"T_b9ecb_row16_col11\" class=\"data row16 col11\" >0.000000</td>\n",
       "      <td id=\"T_b9ecb_row16_col12\" class=\"data row16 col12\" >6.200000</td>\n",
       "      <td id=\"T_b9ecb_row16_col13\" class=\"data row16 col13\" >1</td>\n",
       "      <td id=\"T_b9ecb_row16_col14\" class=\"data row16 col14\" >0.324986</td>\n",
       "      <td id=\"T_b9ecb_row16_col15\" class=\"data row16 col15\" >4.400000</td>\n",
       "      <td id=\"T_b9ecb_row16_col16\" class=\"data row16 col16\" >accepted</td>\n",
       "      <td id=\"T_b9ecb_row16_col17\" class=\"data row16 col17\" >Likely BOLD</td>\n",
       "    </tr>\n",
       "    <tr>\n",
       "      <th id=\"T_b9ecb_level0_row17\" class=\"row_heading level0 row17\" >17</th>\n",
       "      <td id=\"T_b9ecb_row17_col0\" class=\"data row17 col0\" >ICA_17</td>\n",
       "      <td id=\"T_b9ecb_row17_col1\" class=\"data row17 col1\" >17.692674</td>\n",
       "      <td id=\"T_b9ecb_row17_col2\" class=\"data row17 col2\" >16.532983</td>\n",
       "      <td id=\"T_b9ecb_row17_col3\" class=\"data row17 col3\" >0.233443</td>\n",
       "      <td id=\"T_b9ecb_row17_col4\" class=\"data row17 col4\" >0.002957</td>\n",
       "      <td id=\"T_b9ecb_row17_col5\" class=\"data row17 col5\" >191</td>\n",
       "      <td id=\"T_b9ecb_row17_col6\" class=\"data row17 col6\" >434</td>\n",
       "      <td id=\"T_b9ecb_row17_col7\" class=\"data row17 col7\" >0.000000</td>\n",
       "      <td id=\"T_b9ecb_row17_col8\" class=\"data row17 col8\" >0.248837</td>\n",
       "      <td id=\"T_b9ecb_row17_col9\" class=\"data row17 col9\" >1395</td>\n",
       "      <td id=\"T_b9ecb_row17_col10\" class=\"data row17 col10\" >0.000000</td>\n",
       "      <td id=\"T_b9ecb_row17_col11\" class=\"data row17 col11\" >0.000000</td>\n",
       "      <td id=\"T_b9ecb_row17_col12\" class=\"data row17 col12\" >34.100000</td>\n",
       "      <td id=\"T_b9ecb_row17_col13\" class=\"data row17 col13\" >1</td>\n",
       "      <td id=\"T_b9ecb_row17_col14\" class=\"data row17 col14\" >0.997436</td>\n",
       "      <td id=\"T_b9ecb_row17_col15\" class=\"data row17 col15\" >nan</td>\n",
       "      <td id=\"T_b9ecb_row17_col16\" class=\"data row17 col16\" >rejected</td>\n",
       "      <td id=\"T_b9ecb_row17_col17\" class=\"data row17 col17\" >Unlikely BOLD</td>\n",
       "    </tr>\n",
       "    <tr>\n",
       "      <th id=\"T_b9ecb_level0_row18\" class=\"row_heading level0 row18\" >18</th>\n",
       "      <td id=\"T_b9ecb_row18_col0\" class=\"data row18 col0\" >ICA_18</td>\n",
       "      <td id=\"T_b9ecb_row18_col1\" class=\"data row18 col1\" >33.741187</td>\n",
       "      <td id=\"T_b9ecb_row18_col2\" class=\"data row18 col2\" >36.631764</td>\n",
       "      <td id=\"T_b9ecb_row18_col3\" class=\"data row18 col3\" >1.355761</td>\n",
       "      <td id=\"T_b9ecb_row18_col4\" class=\"data row18 col4\" >0.015887</td>\n",
       "      <td id=\"T_b9ecb_row18_col5\" class=\"data row18 col5\" >768</td>\n",
       "      <td id=\"T_b9ecb_row18_col6\" class=\"data row18 col6\" >756</td>\n",
       "      <td id=\"T_b9ecb_row18_col7\" class=\"data row18 col7\" >0.270020</td>\n",
       "      <td id=\"T_b9ecb_row18_col8\" class=\"data row18 col8\" >0.250681</td>\n",
       "      <td id=\"T_b9ecb_row18_col9\" class=\"data row18 col9\" >1193</td>\n",
       "      <td id=\"T_b9ecb_row18_col10\" class=\"data row18 col10\" >5.739864</td>\n",
       "      <td id=\"T_b9ecb_row18_col11\" class=\"data row18 col11\" >0.000007</td>\n",
       "      <td id=\"T_b9ecb_row18_col12\" class=\"data row18 col12\" >19.300000</td>\n",
       "      <td id=\"T_b9ecb_row18_col13\" class=\"data row18 col13\" >1</td>\n",
       "      <td id=\"T_b9ecb_row18_col14\" class=\"data row18 col14\" >3.037529</td>\n",
       "      <td id=\"T_b9ecb_row18_col15\" class=\"data row18 col15\" >nan</td>\n",
       "      <td id=\"T_b9ecb_row18_col16\" class=\"data row18 col16\" >rejected</td>\n",
       "      <td id=\"T_b9ecb_row18_col17\" class=\"data row18 col17\" >Unlikely BOLD</td>\n",
       "    </tr>\n",
       "    <tr>\n",
       "      <th id=\"T_b9ecb_level0_row19\" class=\"row_heading level0 row19\" >19</th>\n",
       "      <td id=\"T_b9ecb_row19_col0\" class=\"data row19 col0\" >ICA_19</td>\n",
       "      <td id=\"T_b9ecb_row19_col1\" class=\"data row19 col1\" >20.677100</td>\n",
       "      <td id=\"T_b9ecb_row19_col2\" class=\"data row19 col2\" >27.499843</td>\n",
       "      <td id=\"T_b9ecb_row19_col3\" class=\"data row19 col3\" >0.550426</td>\n",
       "      <td id=\"T_b9ecb_row19_col4\" class=\"data row19 col4\" >0.004870</td>\n",
       "      <td id=\"T_b9ecb_row19_col5\" class=\"data row19 col5\" >438</td>\n",
       "      <td id=\"T_b9ecb_row19_col6\" class=\"data row19 col6\" >560</td>\n",
       "      <td id=\"T_b9ecb_row19_col7\" class=\"data row19 col7\" >0.173410</td>\n",
       "      <td id=\"T_b9ecb_row19_col8\" class=\"data row19 col8\" >0.329730</td>\n",
       "      <td id=\"T_b9ecb_row19_col9\" class=\"data row19 col9\" >1192</td>\n",
       "      <td id=\"T_b9ecb_row19_col10\" class=\"data row19 col10\" >-0.271410</td>\n",
       "      <td id=\"T_b9ecb_row19_col11\" class=\"data row19 col11\" >0.786546</td>\n",
       "      <td id=\"T_b9ecb_row19_col12\" class=\"data row19 col12\" >28.800000</td>\n",
       "      <td id=\"T_b9ecb_row19_col13\" class=\"data row19 col13\" >-1</td>\n",
       "      <td id=\"T_b9ecb_row19_col14\" class=\"data row19 col14\" >2.012367</td>\n",
       "      <td id=\"T_b9ecb_row19_col15\" class=\"data row19 col15\" >nan</td>\n",
       "      <td id=\"T_b9ecb_row19_col16\" class=\"data row19 col16\" >rejected</td>\n",
       "      <td id=\"T_b9ecb_row19_col17\" class=\"data row19 col17\" >Unlikely BOLD</td>\n",
       "    </tr>\n",
       "    <tr>\n",
       "      <th id=\"T_b9ecb_level0_row20\" class=\"row_heading level0 row20\" >20</th>\n",
       "      <td id=\"T_b9ecb_row20_col0\" class=\"data row20 col0\" >ICA_20</td>\n",
       "      <td id=\"T_b9ecb_row20_col1\" class=\"data row20 col1\" >14.207252</td>\n",
       "      <td id=\"T_b9ecb_row20_col2\" class=\"data row20 col2\" >51.051034</td>\n",
       "      <td id=\"T_b9ecb_row20_col3\" class=\"data row20 col3\" >0.539441</td>\n",
       "      <td id=\"T_b9ecb_row20_col4\" class=\"data row20 col4\" >0.012352</td>\n",
       "      <td id=\"T_b9ecb_row20_col5\" class=\"data row20 col5\" >296</td>\n",
       "      <td id=\"T_b9ecb_row20_col6\" class=\"data row20 col6\" >1027</td>\n",
       "      <td id=\"T_b9ecb_row20_col7\" class=\"data row20 col7\" >0.000000</td>\n",
       "      <td id=\"T_b9ecb_row20_col8\" class=\"data row20 col8\" >0.351897</td>\n",
       "      <td id=\"T_b9ecb_row20_col9\" class=\"data row20 col9\" >579</td>\n",
       "      <td id=\"T_b9ecb_row20_col10\" class=\"data row20 col10\" >-9.550751</td>\n",
       "      <td id=\"T_b9ecb_row20_col11\" class=\"data row20 col11\" >0.000000</td>\n",
       "      <td id=\"T_b9ecb_row20_col12\" class=\"data row20 col12\" >32.500000</td>\n",
       "      <td id=\"T_b9ecb_row20_col13\" class=\"data row20 col13\" >-1</td>\n",
       "      <td id=\"T_b9ecb_row20_col14\" class=\"data row20 col14\" >2.870327</td>\n",
       "      <td id=\"T_b9ecb_row20_col15\" class=\"data row20 col15\" >nan</td>\n",
       "      <td id=\"T_b9ecb_row20_col16\" class=\"data row20 col16\" >rejected</td>\n",
       "      <td id=\"T_b9ecb_row20_col17\" class=\"data row20 col17\" >Unlikely BOLD</td>\n",
       "    </tr>\n",
       "    <tr>\n",
       "      <th id=\"T_b9ecb_level0_row21\" class=\"row_heading level0 row21\" >21</th>\n",
       "      <td id=\"T_b9ecb_row21_col0\" class=\"data row21 col0\" >ICA_21</td>\n",
       "      <td id=\"T_b9ecb_row21_col1\" class=\"data row21 col1\" >15.002711</td>\n",
       "      <td id=\"T_b9ecb_row21_col2\" class=\"data row21 col2\" >16.310539</td>\n",
       "      <td id=\"T_b9ecb_row21_col3\" class=\"data row21 col3\" >0.213077</td>\n",
       "      <td id=\"T_b9ecb_row21_col4\" class=\"data row21 col4\" >0.002923</td>\n",
       "      <td id=\"T_b9ecb_row21_col5\" class=\"data row21 col5\" >295</td>\n",
       "      <td id=\"T_b9ecb_row21_col6\" class=\"data row21 col6\" >562</td>\n",
       "      <td id=\"T_b9ecb_row21_col7\" class=\"data row21 col7\" >0.000000</td>\n",
       "      <td id=\"T_b9ecb_row21_col8\" class=\"data row21 col8\" >0.000000</td>\n",
       "      <td id=\"T_b9ecb_row21_col9\" class=\"data row21 col9\" >1443</td>\n",
       "      <td id=\"T_b9ecb_row21_col10\" class=\"data row21 col10\" >0.000000</td>\n",
       "      <td id=\"T_b9ecb_row21_col11\" class=\"data row21 col11\" >0.000000</td>\n",
       "      <td id=\"T_b9ecb_row21_col12\" class=\"data row21 col12\" >36.900000</td>\n",
       "      <td id=\"T_b9ecb_row21_col13\" class=\"data row21 col13\" >-1</td>\n",
       "      <td id=\"T_b9ecb_row21_col14\" class=\"data row21 col14\" >1.073654</td>\n",
       "      <td id=\"T_b9ecb_row21_col15\" class=\"data row21 col15\" >nan</td>\n",
       "      <td id=\"T_b9ecb_row21_col16\" class=\"data row21 col16\" >rejected</td>\n",
       "      <td id=\"T_b9ecb_row21_col17\" class=\"data row21 col17\" >Unlikely BOLD</td>\n",
       "    </tr>\n",
       "    <tr>\n",
       "      <th id=\"T_b9ecb_level0_row22\" class=\"row_heading level0 row22\" >22</th>\n",
       "      <td id=\"T_b9ecb_row22_col0\" class=\"data row22 col0\" >ICA_22</td>\n",
       "      <td id=\"T_b9ecb_row22_col1\" class=\"data row22 col1\" >38.992866</td>\n",
       "      <td id=\"T_b9ecb_row22_col2\" class=\"data row22 col2\" >27.779815</td>\n",
       "      <td id=\"T_b9ecb_row22_col3\" class=\"data row22 col3\" >26.158077</td>\n",
       "      <td id=\"T_b9ecb_row22_col4\" class=\"data row22 col4\" >0.291113</td>\n",
       "      <td id=\"T_b9ecb_row22_col5\" class=\"data row22 col5\" >5813</td>\n",
       "      <td id=\"T_b9ecb_row22_col6\" class=\"data row22 col6\" >5559</td>\n",
       "      <td id=\"T_b9ecb_row22_col7\" class=\"data row22 col7\" >0.445380</td>\n",
       "      <td id=\"T_b9ecb_row22_col8\" class=\"data row22 col8\" >0.299472</td>\n",
       "      <td id=\"T_b9ecb_row22_col9\" class=\"data row22 col9\" >871</td>\n",
       "      <td id=\"T_b9ecb_row22_col10\" class=\"data row22 col10\" >0.000000</td>\n",
       "      <td id=\"T_b9ecb_row22_col11\" class=\"data row22 col11\" >0.000000</td>\n",
       "      <td id=\"T_b9ecb_row22_col12\" class=\"data row22 col12\" >12.200000</td>\n",
       "      <td id=\"T_b9ecb_row22_col13\" class=\"data row22 col13\" >-1</td>\n",
       "      <td id=\"T_b9ecb_row22_col14\" class=\"data row22 col14\" >50.712893</td>\n",
       "      <td id=\"T_b9ecb_row22_col15\" class=\"data row22 col15\" >7.100000</td>\n",
       "      <td id=\"T_b9ecb_row22_col16\" class=\"data row22 col16\" >rejected</td>\n",
       "      <td id=\"T_b9ecb_row22_col17\" class=\"data row22 col17\" >Less likely BOLD</td>\n",
       "    </tr>\n",
       "    <tr>\n",
       "      <th id=\"T_b9ecb_level0_row23\" class=\"row_heading level0 row23\" >23</th>\n",
       "      <td id=\"T_b9ecb_row23_col0\" class=\"data row23 col0\" >ICA_23</td>\n",
       "      <td id=\"T_b9ecb_row23_col1\" class=\"data row23 col1\" >21.277965</td>\n",
       "      <td id=\"T_b9ecb_row23_col2\" class=\"data row23 col2\" >18.929748</td>\n",
       "      <td id=\"T_b9ecb_row23_col3\" class=\"data row23 col3\" >0.930221</td>\n",
       "      <td id=\"T_b9ecb_row23_col4\" class=\"data row23 col4\" >0.014714</td>\n",
       "      <td id=\"T_b9ecb_row23_col5\" class=\"data row23 col5\" >927</td>\n",
       "      <td id=\"T_b9ecb_row23_col6\" class=\"data row23 col6\" >1081</td>\n",
       "      <td id=\"T_b9ecb_row23_col7\" class=\"data row23 col7\" >0.000000</td>\n",
       "      <td id=\"T_b9ecb_row23_col8\" class=\"data row23 col8\" >0.278873</td>\n",
       "      <td id=\"T_b9ecb_row23_col9\" class=\"data row23 col9\" >1362</td>\n",
       "      <td id=\"T_b9ecb_row23_col10\" class=\"data row23 col10\" >4.061042</td>\n",
       "      <td id=\"T_b9ecb_row23_col11\" class=\"data row23 col11\" >0.000074</td>\n",
       "      <td id=\"T_b9ecb_row23_col12\" class=\"data row23 col12\" >25.700000</td>\n",
       "      <td id=\"T_b9ecb_row23_col13\" class=\"data row23 col13\" >1</td>\n",
       "      <td id=\"T_b9ecb_row23_col14\" class=\"data row23 col14\" >3.304866</td>\n",
       "      <td id=\"T_b9ecb_row23_col15\" class=\"data row23 col15\" >nan</td>\n",
       "      <td id=\"T_b9ecb_row23_col16\" class=\"data row23 col16\" >rejected</td>\n",
       "      <td id=\"T_b9ecb_row23_col17\" class=\"data row23 col17\" >Unlikely BOLD</td>\n",
       "    </tr>\n",
       "    <tr>\n",
       "      <th id=\"T_b9ecb_level0_row24\" class=\"row_heading level0 row24\" >24</th>\n",
       "      <td id=\"T_b9ecb_row24_col0\" class=\"data row24 col0\" >ICA_24</td>\n",
       "      <td id=\"T_b9ecb_row24_col1\" class=\"data row24 col1\" >46.432305</td>\n",
       "      <td id=\"T_b9ecb_row24_col2\" class=\"data row24 col2\" >31.977004</td>\n",
       "      <td id=\"T_b9ecb_row24_col3\" class=\"data row24 col3\" >1.002603</td>\n",
       "      <td id=\"T_b9ecb_row24_col4\" class=\"data row24 col4\" >0.014175</td>\n",
       "      <td id=\"T_b9ecb_row24_col5\" class=\"data row24 col5\" >3135</td>\n",
       "      <td id=\"T_b9ecb_row24_col6\" class=\"data row24 col6\" >1857</td>\n",
       "      <td id=\"T_b9ecb_row24_col7\" class=\"data row24 col7\" >0.511552</td>\n",
       "      <td id=\"T_b9ecb_row24_col8\" class=\"data row24 col8\" >0.304478</td>\n",
       "      <td id=\"T_b9ecb_row24_col9\" class=\"data row24 col9\" >1178</td>\n",
       "      <td id=\"T_b9ecb_row24_col10\" class=\"data row24 col10\" >-4.616593</td>\n",
       "      <td id=\"T_b9ecb_row24_col11\" class=\"data row24 col11\" >0.000007</td>\n",
       "      <td id=\"T_b9ecb_row24_col12\" class=\"data row24 col12\" >16.800000</td>\n",
       "      <td id=\"T_b9ecb_row24_col13\" class=\"data row24 col13\" >1</td>\n",
       "      <td id=\"T_b9ecb_row24_col14\" class=\"data row24 col14\" >1.632324</td>\n",
       "      <td id=\"T_b9ecb_row24_col15\" class=\"data row24 col15\" >nan</td>\n",
       "      <td id=\"T_b9ecb_row24_col16\" class=\"data row24 col16\" >rejected</td>\n",
       "      <td id=\"T_b9ecb_row24_col17\" class=\"data row24 col17\" >Unlikely BOLD</td>\n",
       "    </tr>\n",
       "    <tr>\n",
       "      <th id=\"T_b9ecb_level0_row25\" class=\"row_heading level0 row25\" >25</th>\n",
       "      <td id=\"T_b9ecb_row25_col0\" class=\"data row25 col0\" >ICA_25</td>\n",
       "      <td id=\"T_b9ecb_row25_col1\" class=\"data row25 col1\" >24.313753</td>\n",
       "      <td id=\"T_b9ecb_row25_col2\" class=\"data row25 col2\" >25.268693</td>\n",
       "      <td id=\"T_b9ecb_row25_col3\" class=\"data row25 col3\" >1.014979</td>\n",
       "      <td id=\"T_b9ecb_row25_col4\" class=\"data row25 col4\" >0.011444</td>\n",
       "      <td id=\"T_b9ecb_row25_col5\" class=\"data row25 col5\" >1553</td>\n",
       "      <td id=\"T_b9ecb_row25_col6\" class=\"data row25 col6\" >940</td>\n",
       "      <td id=\"T_b9ecb_row25_col7\" class=\"data row25 col7\" >0.265286</td>\n",
       "      <td id=\"T_b9ecb_row25_col8\" class=\"data row25 col8\" >0.180851</td>\n",
       "      <td id=\"T_b9ecb_row25_col9\" class=\"data row25 col9\" >1440</td>\n",
       "      <td id=\"T_b9ecb_row25_col10\" class=\"data row25 col10\" >-1.251136</td>\n",
       "      <td id=\"T_b9ecb_row25_col11\" class=\"data row25 col11\" >0.223626</td>\n",
       "      <td id=\"T_b9ecb_row25_col12\" class=\"data row25 col12\" >28.200000</td>\n",
       "      <td id=\"T_b9ecb_row25_col13\" class=\"data row25 col13\" >1</td>\n",
       "      <td id=\"T_b9ecb_row25_col14\" class=\"data row25 col14\" >3.155753</td>\n",
       "      <td id=\"T_b9ecb_row25_col15\" class=\"data row25 col15\" >nan</td>\n",
       "      <td id=\"T_b9ecb_row25_col16\" class=\"data row25 col16\" >rejected</td>\n",
       "      <td id=\"T_b9ecb_row25_col17\" class=\"data row25 col17\" >Unlikely BOLD</td>\n",
       "    </tr>\n",
       "    <tr>\n",
       "      <th id=\"T_b9ecb_level0_row26\" class=\"row_heading level0 row26\" >26</th>\n",
       "      <td id=\"T_b9ecb_row26_col0\" class=\"data row26 col0\" >ICA_26</td>\n",
       "      <td id=\"T_b9ecb_row26_col1\" class=\"data row26 col1\" >45.802335</td>\n",
       "      <td id=\"T_b9ecb_row26_col2\" class=\"data row26 col2\" >11.803361</td>\n",
       "      <td id=\"T_b9ecb_row26_col3\" class=\"data row26 col3\" >0.321093</td>\n",
       "      <td id=\"T_b9ecb_row26_col4\" class=\"data row26 col4\" >0.004553</td>\n",
       "      <td id=\"T_b9ecb_row26_col5\" class=\"data row26 col5\" >1905</td>\n",
       "      <td id=\"T_b9ecb_row26_col6\" class=\"data row26 col6\" >369</td>\n",
       "      <td id=\"T_b9ecb_row26_col7\" class=\"data row26 col7\" >0.595640</td>\n",
       "      <td id=\"T_b9ecb_row26_col8\" class=\"data row26 col8\" >0.257802</td>\n",
       "      <td id=\"T_b9ecb_row26_col9\" class=\"data row26 col9\" >989</td>\n",
       "      <td id=\"T_b9ecb_row26_col10\" class=\"data row26 col10\" >13.099755</td>\n",
       "      <td id=\"T_b9ecb_row26_col11\" class=\"data row26 col11\" >0.000000</td>\n",
       "      <td id=\"T_b9ecb_row26_col12\" class=\"data row26 col12\" >8.000000</td>\n",
       "      <td id=\"T_b9ecb_row26_col13\" class=\"data row26 col13\" >1</td>\n",
       "      <td id=\"T_b9ecb_row26_col14\" class=\"data row26 col14\" >0.529958</td>\n",
       "      <td id=\"T_b9ecb_row26_col15\" class=\"data row26 col15\" >5.600000</td>\n",
       "      <td id=\"T_b9ecb_row26_col16\" class=\"data row26 col16\" >accepted</td>\n",
       "      <td id=\"T_b9ecb_row26_col17\" class=\"data row26 col17\" >Likely BOLD</td>\n",
       "    </tr>\n",
       "    <tr>\n",
       "      <th id=\"T_b9ecb_level0_row27\" class=\"row_heading level0 row27\" >27</th>\n",
       "      <td id=\"T_b9ecb_row27_col0\" class=\"data row27 col0\" >ICA_27</td>\n",
       "      <td id=\"T_b9ecb_row27_col1\" class=\"data row27 col1\" >37.448202</td>\n",
       "      <td id=\"T_b9ecb_row27_col2\" class=\"data row27 col2\" >18.058481</td>\n",
       "      <td id=\"T_b9ecb_row27_col3\" class=\"data row27 col3\" >1.618301</td>\n",
       "      <td id=\"T_b9ecb_row27_col4\" class=\"data row27 col4\" >0.010516</td>\n",
       "      <td id=\"T_b9ecb_row27_col5\" class=\"data row27 col5\" >2166</td>\n",
       "      <td id=\"T_b9ecb_row27_col6\" class=\"data row27 col6\" >541</td>\n",
       "      <td id=\"T_b9ecb_row27_col7\" class=\"data row27 col7\" >0.548349</td>\n",
       "      <td id=\"T_b9ecb_row27_col8\" class=\"data row27 col8\" >0.040462</td>\n",
       "      <td id=\"T_b9ecb_row27_col9\" class=\"data row27 col9\" >697</td>\n",
       "      <td id=\"T_b9ecb_row27_col10\" class=\"data row27 col10\" >-1.792071</td>\n",
       "      <td id=\"T_b9ecb_row27_col11\" class=\"data row27 col11\" >0.073413</td>\n",
       "      <td id=\"T_b9ecb_row27_col12\" class=\"data row27 col12\" >13.800000</td>\n",
       "      <td id=\"T_b9ecb_row27_col13\" class=\"data row27 col13\" >-1</td>\n",
       "      <td id=\"T_b9ecb_row27_col14\" class=\"data row27 col14\" >3.266826</td>\n",
       "      <td id=\"T_b9ecb_row27_col15\" class=\"data row27 col15\" >nan</td>\n",
       "      <td id=\"T_b9ecb_row27_col16\" class=\"data row27 col16\" >rejected</td>\n",
       "      <td id=\"T_b9ecb_row27_col17\" class=\"data row27 col17\" >Unlikely BOLD</td>\n",
       "    </tr>\n",
       "    <tr>\n",
       "      <th id=\"T_b9ecb_level0_row28\" class=\"row_heading level0 row28\" >28</th>\n",
       "      <td id=\"T_b9ecb_row28_col0\" class=\"data row28 col0\" >ICA_28</td>\n",
       "      <td id=\"T_b9ecb_row28_col1\" class=\"data row28 col1\" >11.805848</td>\n",
       "      <td id=\"T_b9ecb_row28_col2\" class=\"data row28 col2\" >19.198723</td>\n",
       "      <td id=\"T_b9ecb_row28_col3\" class=\"data row28 col3\" >0.235490</td>\n",
       "      <td id=\"T_b9ecb_row28_col4\" class=\"data row28 col4\" >0.003609</td>\n",
       "      <td id=\"T_b9ecb_row28_col5\" class=\"data row28 col5\" >78</td>\n",
       "      <td id=\"T_b9ecb_row28_col6\" class=\"data row28 col6\" >101</td>\n",
       "      <td id=\"T_b9ecb_row28_col7\" class=\"data row28 col7\" >0.000000</td>\n",
       "      <td id=\"T_b9ecb_row28_col8\" class=\"data row28 col8\" >0.000000</td>\n",
       "      <td id=\"T_b9ecb_row28_col9\" class=\"data row28 col9\" >1050</td>\n",
       "      <td id=\"T_b9ecb_row28_col10\" class=\"data row28 col10\" >-8.293541</td>\n",
       "      <td id=\"T_b9ecb_row28_col11\" class=\"data row28 col11\" >0.000000</td>\n",
       "      <td id=\"T_b9ecb_row28_col12\" class=\"data row28 col12\" >36.900000</td>\n",
       "      <td id=\"T_b9ecb_row28_col13\" class=\"data row28 col13\" >-1</td>\n",
       "      <td id=\"T_b9ecb_row28_col14\" class=\"data row28 col14\" >1.507901</td>\n",
       "      <td id=\"T_b9ecb_row28_col15\" class=\"data row28 col15\" >nan</td>\n",
       "      <td id=\"T_b9ecb_row28_col16\" class=\"data row28 col16\" >rejected</td>\n",
       "      <td id=\"T_b9ecb_row28_col17\" class=\"data row28 col17\" >Unlikely BOLD</td>\n",
       "    </tr>\n",
       "    <tr>\n",
       "      <th id=\"T_b9ecb_level0_row29\" class=\"row_heading level0 row29\" >29</th>\n",
       "      <td id=\"T_b9ecb_row29_col0\" class=\"data row29 col0\" >ICA_29</td>\n",
       "      <td id=\"T_b9ecb_row29_col1\" class=\"data row29 col1\" >12.143263</td>\n",
       "      <td id=\"T_b9ecb_row29_col2\" class=\"data row29 col2\" >31.581142</td>\n",
       "      <td id=\"T_b9ecb_row29_col3\" class=\"data row29 col3\" >0.346215</td>\n",
       "      <td id=\"T_b9ecb_row29_col4\" class=\"data row29 col4\" >0.005145</td>\n",
       "      <td id=\"T_b9ecb_row29_col5\" class=\"data row29 col5\" >116</td>\n",
       "      <td id=\"T_b9ecb_row29_col6\" class=\"data row29 col6\" >219</td>\n",
       "      <td id=\"T_b9ecb_row29_col7\" class=\"data row29 col7\" >0.000000</td>\n",
       "      <td id=\"T_b9ecb_row29_col8\" class=\"data row29 col8\" >0.447689</td>\n",
       "      <td id=\"T_b9ecb_row29_col9\" class=\"data row29 col9\" >639</td>\n",
       "      <td id=\"T_b9ecb_row29_col10\" class=\"data row29 col10\" >-8.917483</td>\n",
       "      <td id=\"T_b9ecb_row29_col11\" class=\"data row29 col11\" >0.000000</td>\n",
       "      <td id=\"T_b9ecb_row29_col12\" class=\"data row29 col12\" >33.900000</td>\n",
       "      <td id=\"T_b9ecb_row29_col13\" class=\"data row29 col13\" >-1</td>\n",
       "      <td id=\"T_b9ecb_row29_col14\" class=\"data row29 col14\" >2.155302</td>\n",
       "      <td id=\"T_b9ecb_row29_col15\" class=\"data row29 col15\" >nan</td>\n",
       "      <td id=\"T_b9ecb_row29_col16\" class=\"data row29 col16\" >rejected</td>\n",
       "      <td id=\"T_b9ecb_row29_col17\" class=\"data row29 col17\" >Unlikely BOLD</td>\n",
       "    </tr>\n",
       "    <tr>\n",
       "      <th id=\"T_b9ecb_level0_row30\" class=\"row_heading level0 row30\" >30</th>\n",
       "      <td id=\"T_b9ecb_row30_col0\" class=\"data row30 col0\" >ICA_30</td>\n",
       "      <td id=\"T_b9ecb_row30_col1\" class=\"data row30 col1\" >14.361290</td>\n",
       "      <td id=\"T_b9ecb_row30_col2\" class=\"data row30 col2\" >13.166721</td>\n",
       "      <td id=\"T_b9ecb_row30_col3\" class=\"data row30 col3\" >0.282079</td>\n",
       "      <td id=\"T_b9ecb_row30_col4\" class=\"data row30 col4\" >0.004162</td>\n",
       "      <td id=\"T_b9ecb_row30_col5\" class=\"data row30 col5\" >320</td>\n",
       "      <td id=\"T_b9ecb_row30_col6\" class=\"data row30 col6\" >148</td>\n",
       "      <td id=\"T_b9ecb_row30_col7\" class=\"data row30 col7\" >0.000000</td>\n",
       "      <td id=\"T_b9ecb_row30_col8\" class=\"data row30 col8\" >0.000000</td>\n",
       "      <td id=\"T_b9ecb_row30_col9\" class=\"data row30 col9\" >1473</td>\n",
       "      <td id=\"T_b9ecb_row30_col10\" class=\"data row30 col10\" >1.867123</td>\n",
       "      <td id=\"T_b9ecb_row30_col11\" class=\"data row30 col11\" >0.068986</td>\n",
       "      <td id=\"T_b9ecb_row30_col12\" class=\"data row30 col12\" >35.100000</td>\n",
       "      <td id=\"T_b9ecb_row30_col13\" class=\"data row30 col13\" >1</td>\n",
       "      <td id=\"T_b9ecb_row30_col14\" class=\"data row30 col14\" >1.484823</td>\n",
       "      <td id=\"T_b9ecb_row30_col15\" class=\"data row30 col15\" >nan</td>\n",
       "      <td id=\"T_b9ecb_row30_col16\" class=\"data row30 col16\" >accepted</td>\n",
       "      <td id=\"T_b9ecb_row30_col17\" class=\"data row30 col17\" >Low variance</td>\n",
       "    </tr>\n",
       "    <tr>\n",
       "      <th id=\"T_b9ecb_level0_row31\" class=\"row_heading level0 row31\" >31</th>\n",
       "      <td id=\"T_b9ecb_row31_col0\" class=\"data row31 col0\" >ICA_31</td>\n",
       "      <td id=\"T_b9ecb_row31_col1\" class=\"data row31 col1\" >77.534720</td>\n",
       "      <td id=\"T_b9ecb_row31_col2\" class=\"data row31 col2\" >11.817199</td>\n",
       "      <td id=\"T_b9ecb_row31_col3\" class=\"data row31 col3\" >1.235817</td>\n",
       "      <td id=\"T_b9ecb_row31_col4\" class=\"data row31 col4\" >0.008838</td>\n",
       "      <td id=\"T_b9ecb_row31_col5\" class=\"data row31 col5\" >2682</td>\n",
       "      <td id=\"T_b9ecb_row31_col6\" class=\"data row31 col6\" >347</td>\n",
       "      <td id=\"T_b9ecb_row31_col7\" class=\"data row31 col7\" >0.643005</td>\n",
       "      <td id=\"T_b9ecb_row31_col8\" class=\"data row31 col8\" >0.110305</td>\n",
       "      <td id=\"T_b9ecb_row31_col9\" class=\"data row31 col9\" >710</td>\n",
       "      <td id=\"T_b9ecb_row31_col10\" class=\"data row31 col10\" >12.906764</td>\n",
       "      <td id=\"T_b9ecb_row31_col11\" class=\"data row31 col11\" >0.000000</td>\n",
       "      <td id=\"T_b9ecb_row31_col12\" class=\"data row31 col12\" >4.000000</td>\n",
       "      <td id=\"T_b9ecb_row31_col13\" class=\"data row31 col13\" >-1</td>\n",
       "      <td id=\"T_b9ecb_row31_col14\" class=\"data row31 col14\" >1.204913</td>\n",
       "      <td id=\"T_b9ecb_row31_col15\" class=\"data row31 col15\" >2.800000</td>\n",
       "      <td id=\"T_b9ecb_row31_col16\" class=\"data row31 col16\" >accepted</td>\n",
       "      <td id=\"T_b9ecb_row31_col17\" class=\"data row31 col17\" >Likely BOLD</td>\n",
       "    </tr>\n",
       "    <tr>\n",
       "      <th id=\"T_b9ecb_level0_row32\" class=\"row_heading level0 row32\" >32</th>\n",
       "      <td id=\"T_b9ecb_row32_col0\" class=\"data row32 col0\" >ICA_32</td>\n",
       "      <td id=\"T_b9ecb_row32_col1\" class=\"data row32 col1\" >25.311187</td>\n",
       "      <td id=\"T_b9ecb_row32_col2\" class=\"data row32 col2\" >13.585424</td>\n",
       "      <td id=\"T_b9ecb_row32_col3\" class=\"data row32 col3\" >0.200214</td>\n",
       "      <td id=\"T_b9ecb_row32_col4\" class=\"data row32 col4\" >0.003652</td>\n",
       "      <td id=\"T_b9ecb_row32_col5\" class=\"data row32 col5\" >848</td>\n",
       "      <td id=\"T_b9ecb_row32_col6\" class=\"data row32 col6\" >292</td>\n",
       "      <td id=\"T_b9ecb_row32_col7\" class=\"data row32 col7\" >0.324556</td>\n",
       "      <td id=\"T_b9ecb_row32_col8\" class=\"data row32 col8\" >0.223022</td>\n",
       "      <td id=\"T_b9ecb_row32_col9\" class=\"data row32 col9\" >1149</td>\n",
       "      <td id=\"T_b9ecb_row32_col10\" class=\"data row32 col10\" >4.199819</td>\n",
       "      <td id=\"T_b9ecb_row32_col11\" class=\"data row32 col11\" >0.000036</td>\n",
       "      <td id=\"T_b9ecb_row32_col12\" class=\"data row32 col12\" >18.600000</td>\n",
       "      <td id=\"T_b9ecb_row32_col13\" class=\"data row32 col13\" >-1</td>\n",
       "      <td id=\"T_b9ecb_row32_col14\" class=\"data row32 col14\" >0.597970</td>\n",
       "      <td id=\"T_b9ecb_row32_col15\" class=\"data row32 col15\" >11.800000</td>\n",
       "      <td id=\"T_b9ecb_row32_col16\" class=\"data row32 col16\" >accepted</td>\n",
       "      <td id=\"T_b9ecb_row32_col17\" class=\"data row32 col17\" >Likely BOLD</td>\n",
       "    </tr>\n",
       "    <tr>\n",
       "      <th id=\"T_b9ecb_level0_row33\" class=\"row_heading level0 row33\" >33</th>\n",
       "      <td id=\"T_b9ecb_row33_col0\" class=\"data row33 col0\" >ICA_33</td>\n",
       "      <td id=\"T_b9ecb_row33_col1\" class=\"data row33 col1\" >17.090791</td>\n",
       "      <td id=\"T_b9ecb_row33_col2\" class=\"data row33 col2\" >21.496616</td>\n",
       "      <td id=\"T_b9ecb_row33_col3\" class=\"data row33 col3\" >0.316984</td>\n",
       "      <td id=\"T_b9ecb_row33_col4\" class=\"data row33 col4\" >0.003711</td>\n",
       "      <td id=\"T_b9ecb_row33_col5\" class=\"data row33 col5\" >355</td>\n",
       "      <td id=\"T_b9ecb_row33_col6\" class=\"data row33 col6\" >584</td>\n",
       "      <td id=\"T_b9ecb_row33_col7\" class=\"data row33 col7\" >0.087819</td>\n",
       "      <td id=\"T_b9ecb_row33_col8\" class=\"data row33 col8\" >0.271036</td>\n",
       "      <td id=\"T_b9ecb_row33_col9\" class=\"data row33 col9\" >1434</td>\n",
       "      <td id=\"T_b9ecb_row33_col10\" class=\"data row33 col10\" >0.000000</td>\n",
       "      <td id=\"T_b9ecb_row33_col11\" class=\"data row33 col11\" >0.000000</td>\n",
       "      <td id=\"T_b9ecb_row33_col12\" class=\"data row33 col12\" >33.400000</td>\n",
       "      <td id=\"T_b9ecb_row33_col13\" class=\"data row33 col13\" >1</td>\n",
       "      <td id=\"T_b9ecb_row33_col14\" class=\"data row33 col14\" >1.402081</td>\n",
       "      <td id=\"T_b9ecb_row33_col15\" class=\"data row33 col15\" >nan</td>\n",
       "      <td id=\"T_b9ecb_row33_col16\" class=\"data row33 col16\" >rejected</td>\n",
       "      <td id=\"T_b9ecb_row33_col17\" class=\"data row33 col17\" >Unlikely BOLD</td>\n",
       "    </tr>\n",
       "    <tr>\n",
       "      <th id=\"T_b9ecb_level0_row34\" class=\"row_heading level0 row34\" >34</th>\n",
       "      <td id=\"T_b9ecb_row34_col0\" class=\"data row34 col0\" >ICA_34</td>\n",
       "      <td id=\"T_b9ecb_row34_col1\" class=\"data row34 col1\" >36.059364</td>\n",
       "      <td id=\"T_b9ecb_row34_col2\" class=\"data row34 col2\" >24.498336</td>\n",
       "      <td id=\"T_b9ecb_row34_col3\" class=\"data row34 col3\" >1.027387</td>\n",
       "      <td id=\"T_b9ecb_row34_col4\" class=\"data row34 col4\" >0.011780</td>\n",
       "      <td id=\"T_b9ecb_row34_col5\" class=\"data row34 col5\" >1423</td>\n",
       "      <td id=\"T_b9ecb_row34_col6\" class=\"data row34 col6\" >652</td>\n",
       "      <td id=\"T_b9ecb_row34_col7\" class=\"data row34 col7\" >0.333577</td>\n",
       "      <td id=\"T_b9ecb_row34_col8\" class=\"data row34 col8\" >0.191654</td>\n",
       "      <td id=\"T_b9ecb_row34_col9\" class=\"data row34 col9\" >1452</td>\n",
       "      <td id=\"T_b9ecb_row34_col10\" class=\"data row34 col10\" >0.000000</td>\n",
       "      <td id=\"T_b9ecb_row34_col11\" class=\"data row34 col11\" >0.000000</td>\n",
       "      <td id=\"T_b9ecb_row34_col12\" class=\"data row34 col12\" >23.400000</td>\n",
       "      <td id=\"T_b9ecb_row34_col13\" class=\"data row34 col13\" >1</td>\n",
       "      <td id=\"T_b9ecb_row34_col14\" class=\"data row34 col14\" >2.153842</td>\n",
       "      <td id=\"T_b9ecb_row34_col15\" class=\"data row34 col15\" >12.500000</td>\n",
       "      <td id=\"T_b9ecb_row34_col16\" class=\"data row34 col16\" >rejected</td>\n",
       "      <td id=\"T_b9ecb_row34_col17\" class=\"data row34 col17\" >Less likely BOLD</td>\n",
       "    </tr>\n",
       "    <tr>\n",
       "      <th id=\"T_b9ecb_level0_row35\" class=\"row_heading level0 row35\" >35</th>\n",
       "      <td id=\"T_b9ecb_row35_col0\" class=\"data row35 col0\" >ICA_35</td>\n",
       "      <td id=\"T_b9ecb_row35_col1\" class=\"data row35 col1\" >20.922372</td>\n",
       "      <td id=\"T_b9ecb_row35_col2\" class=\"data row35 col2\" >29.583226</td>\n",
       "      <td id=\"T_b9ecb_row35_col3\" class=\"data row35 col3\" >0.394469</td>\n",
       "      <td id=\"T_b9ecb_row35_col4\" class=\"data row35 col4\" >0.003949</td>\n",
       "      <td id=\"T_b9ecb_row35_col5\" class=\"data row35 col5\" >334</td>\n",
       "      <td id=\"T_b9ecb_row35_col6\" class=\"data row35 col6\" >529</td>\n",
       "      <td id=\"T_b9ecb_row35_col7\" class=\"data row35 col7\" >0.331783</td>\n",
       "      <td id=\"T_b9ecb_row35_col8\" class=\"data row35 col8\" >0.288201</td>\n",
       "      <td id=\"T_b9ecb_row35_col9\" class=\"data row35 col9\" >1169</td>\n",
       "      <td id=\"T_b9ecb_row35_col10\" class=\"data row35 col10\" >2.716036</td>\n",
       "      <td id=\"T_b9ecb_row35_col11\" class=\"data row35 col11\" >0.008742</td>\n",
       "      <td id=\"T_b9ecb_row35_col12\" class=\"data row35 col12\" >22.600000</td>\n",
       "      <td id=\"T_b9ecb_row35_col13\" class=\"data row35 col13\" >-1</td>\n",
       "      <td id=\"T_b9ecb_row35_col14\" class=\"data row35 col14\" >1.425277</td>\n",
       "      <td id=\"T_b9ecb_row35_col15\" class=\"data row35 col15\" >nan</td>\n",
       "      <td id=\"T_b9ecb_row35_col16\" class=\"data row35 col16\" >rejected</td>\n",
       "      <td id=\"T_b9ecb_row35_col17\" class=\"data row35 col17\" >Unlikely BOLD</td>\n",
       "    </tr>\n",
       "    <tr>\n",
       "      <th id=\"T_b9ecb_level0_row36\" class=\"row_heading level0 row36\" >36</th>\n",
       "      <td id=\"T_b9ecb_row36_col0\" class=\"data row36 col0\" >ICA_36</td>\n",
       "      <td id=\"T_b9ecb_row36_col1\" class=\"data row36 col1\" >30.701083</td>\n",
       "      <td id=\"T_b9ecb_row36_col2\" class=\"data row36 col2\" >34.333174</td>\n",
       "      <td id=\"T_b9ecb_row36_col3\" class=\"data row36 col3\" >1.217260</td>\n",
       "      <td id=\"T_b9ecb_row36_col4\" class=\"data row36 col4\" >0.012612</td>\n",
       "      <td id=\"T_b9ecb_row36_col5\" class=\"data row36 col5\" >682</td>\n",
       "      <td id=\"T_b9ecb_row36_col6\" class=\"data row36 col6\" >718</td>\n",
       "      <td id=\"T_b9ecb_row36_col7\" class=\"data row36 col7\" >0.229919</td>\n",
       "      <td id=\"T_b9ecb_row36_col8\" class=\"data row36 col8\" >0.321178</td>\n",
       "      <td id=\"T_b9ecb_row36_col9\" class=\"data row36 col9\" >1190</td>\n",
       "      <td id=\"T_b9ecb_row36_col10\" class=\"data row36 col10\" >0.000000</td>\n",
       "      <td id=\"T_b9ecb_row36_col11\" class=\"data row36 col11\" >0.000000</td>\n",
       "      <td id=\"T_b9ecb_row36_col12\" class=\"data row36 col12\" >23.400000</td>\n",
       "      <td id=\"T_b9ecb_row36_col13\" class=\"data row36 col13\" >-1</td>\n",
       "      <td id=\"T_b9ecb_row36_col14\" class=\"data row36 col14\" >2.997279</td>\n",
       "      <td id=\"T_b9ecb_row36_col15\" class=\"data row36 col15\" >nan</td>\n",
       "      <td id=\"T_b9ecb_row36_col16\" class=\"data row36 col16\" >rejected</td>\n",
       "      <td id=\"T_b9ecb_row36_col17\" class=\"data row36 col17\" >Unlikely BOLD</td>\n",
       "    </tr>\n",
       "    <tr>\n",
       "      <th id=\"T_b9ecb_level0_row37\" class=\"row_heading level0 row37\" >37</th>\n",
       "      <td id=\"T_b9ecb_row37_col0\" class=\"data row37 col0\" >ICA_37</td>\n",
       "      <td id=\"T_b9ecb_row37_col1\" class=\"data row37 col1\" >14.352029</td>\n",
       "      <td id=\"T_b9ecb_row37_col2\" class=\"data row37 col2\" >22.421567</td>\n",
       "      <td id=\"T_b9ecb_row37_col3\" class=\"data row37 col3\" >0.460671</td>\n",
       "      <td id=\"T_b9ecb_row37_col4\" class=\"data row37 col4\" >0.006397</td>\n",
       "      <td id=\"T_b9ecb_row37_col5\" class=\"data row37 col5\" >151</td>\n",
       "      <td id=\"T_b9ecb_row37_col6\" class=\"data row37 col6\" >617</td>\n",
       "      <td id=\"T_b9ecb_row37_col7\" class=\"data row37 col7\" >0.100334</td>\n",
       "      <td id=\"T_b9ecb_row37_col8\" class=\"data row37 col8\" >0.339901</td>\n",
       "      <td id=\"T_b9ecb_row37_col9\" class=\"data row37 col9\" >768</td>\n",
       "      <td id=\"T_b9ecb_row37_col10\" class=\"data row37 col10\" >-10.489102</td>\n",
       "      <td id=\"T_b9ecb_row37_col11\" class=\"data row37 col11\" >0.000000</td>\n",
       "      <td id=\"T_b9ecb_row37_col12\" class=\"data row37 col12\" >33.200000</td>\n",
       "      <td id=\"T_b9ecb_row37_col13\" class=\"data row37 col13\" >-1</td>\n",
       "      <td id=\"T_b9ecb_row37_col14\" class=\"data row37 col14\" >2.426474</td>\n",
       "      <td id=\"T_b9ecb_row37_col15\" class=\"data row37 col15\" >nan</td>\n",
       "      <td id=\"T_b9ecb_row37_col16\" class=\"data row37 col16\" >rejected</td>\n",
       "      <td id=\"T_b9ecb_row37_col17\" class=\"data row37 col17\" >Unlikely BOLD</td>\n",
       "    </tr>\n",
       "    <tr>\n",
       "      <th id=\"T_b9ecb_level0_row38\" class=\"row_heading level0 row38\" >38</th>\n",
       "      <td id=\"T_b9ecb_row38_col0\" class=\"data row38 col0\" >ICA_38</td>\n",
       "      <td id=\"T_b9ecb_row38_col1\" class=\"data row38 col1\" >17.110056</td>\n",
       "      <td id=\"T_b9ecb_row38_col2\" class=\"data row38 col2\" >15.643737</td>\n",
       "      <td id=\"T_b9ecb_row38_col3\" class=\"data row38 col3\" >0.286390</td>\n",
       "      <td id=\"T_b9ecb_row38_col4\" class=\"data row38 col4\" >0.003993</td>\n",
       "      <td id=\"T_b9ecb_row38_col5\" class=\"data row38 col5\" >607</td>\n",
       "      <td id=\"T_b9ecb_row38_col6\" class=\"data row38 col6\" >580</td>\n",
       "      <td id=\"T_b9ecb_row38_col7\" class=\"data row38 col7\" >0.341588</td>\n",
       "      <td id=\"T_b9ecb_row38_col8\" class=\"data row38 col8\" >0.311461</td>\n",
       "      <td id=\"T_b9ecb_row38_col9\" class=\"data row38 col9\" >1412</td>\n",
       "      <td id=\"T_b9ecb_row38_col10\" class=\"data row38 col10\" >0.000000</td>\n",
       "      <td id=\"T_b9ecb_row38_col11\" class=\"data row38 col11\" >0.000000</td>\n",
       "      <td id=\"T_b9ecb_row38_col12\" class=\"data row38 col12\" >27.600000</td>\n",
       "      <td id=\"T_b9ecb_row38_col13\" class=\"data row38 col13\" >-1</td>\n",
       "      <td id=\"T_b9ecb_row38_col14\" class=\"data row38 col14\" >1.265332</td>\n",
       "      <td id=\"T_b9ecb_row38_col15\" class=\"data row38 col15\" >nan</td>\n",
       "      <td id=\"T_b9ecb_row38_col16\" class=\"data row38 col16\" >accepted</td>\n",
       "      <td id=\"T_b9ecb_row38_col17\" class=\"data row38 col17\" >Low variance</td>\n",
       "    </tr>\n",
       "    <tr>\n",
       "      <th id=\"T_b9ecb_level0_row39\" class=\"row_heading level0 row39\" >39</th>\n",
       "      <td id=\"T_b9ecb_row39_col0\" class=\"data row39 col0\" >ICA_39</td>\n",
       "      <td id=\"T_b9ecb_row39_col1\" class=\"data row39 col1\" >15.105184</td>\n",
       "      <td id=\"T_b9ecb_row39_col2\" class=\"data row39 col2\" >26.276315</td>\n",
       "      <td id=\"T_b9ecb_row39_col3\" class=\"data row39 col3\" >0.447589</td>\n",
       "      <td id=\"T_b9ecb_row39_col4\" class=\"data row39 col4\" >0.007312</td>\n",
       "      <td id=\"T_b9ecb_row39_col5\" class=\"data row39 col5\" >128</td>\n",
       "      <td id=\"T_b9ecb_row39_col6\" class=\"data row39 col6\" >371</td>\n",
       "      <td id=\"T_b9ecb_row39_col7\" class=\"data row39 col7\" >0.324111</td>\n",
       "      <td id=\"T_b9ecb_row39_col8\" class=\"data row39 col8\" >0.409214</td>\n",
       "      <td id=\"T_b9ecb_row39_col9\" class=\"data row39 col9\" >825</td>\n",
       "      <td id=\"T_b9ecb_row39_col10\" class=\"data row39 col10\" >0.655720</td>\n",
       "      <td id=\"T_b9ecb_row39_col11\" class=\"data row39 col11\" >0.512215</td>\n",
       "      <td id=\"T_b9ecb_row39_col12\" class=\"data row39 col12\" >25.600000</td>\n",
       "      <td id=\"T_b9ecb_row39_col13\" class=\"data row39 col13\" >1</td>\n",
       "      <td id=\"T_b9ecb_row39_col14\" class=\"data row39 col14\" >2.240015</td>\n",
       "      <td id=\"T_b9ecb_row39_col15\" class=\"data row39 col15\" >nan</td>\n",
       "      <td id=\"T_b9ecb_row39_col16\" class=\"data row39 col16\" >rejected</td>\n",
       "      <td id=\"T_b9ecb_row39_col17\" class=\"data row39 col17\" >Unlikely BOLD</td>\n",
       "    </tr>\n",
       "    <tr>\n",
       "      <th id=\"T_b9ecb_level0_row40\" class=\"row_heading level0 row40\" >40</th>\n",
       "      <td id=\"T_b9ecb_row40_col0\" class=\"data row40 col0\" >ICA_40</td>\n",
       "      <td id=\"T_b9ecb_row40_col1\" class=\"data row40 col1\" >77.901726</td>\n",
       "      <td id=\"T_b9ecb_row40_col2\" class=\"data row40 col2\" >12.596950</td>\n",
       "      <td id=\"T_b9ecb_row40_col3\" class=\"data row40 col3\" >0.650193</td>\n",
       "      <td id=\"T_b9ecb_row40_col4\" class=\"data row40 col4\" >0.010620</td>\n",
       "      <td id=\"T_b9ecb_row40_col5\" class=\"data row40 col5\" >3198</td>\n",
       "      <td id=\"T_b9ecb_row40_col6\" class=\"data row40 col6\" >453</td>\n",
       "      <td id=\"T_b9ecb_row40_col7\" class=\"data row40 col7\" >0.586995</td>\n",
       "      <td id=\"T_b9ecb_row40_col8\" class=\"data row40 col8\" >0.011136</td>\n",
       "      <td id=\"T_b9ecb_row40_col9\" class=\"data row40 col9\" >686</td>\n",
       "      <td id=\"T_b9ecb_row40_col10\" class=\"data row40 col10\" >9.807158</td>\n",
       "      <td id=\"T_b9ecb_row40_col11\" class=\"data row40 col11\" >0.000000</td>\n",
       "      <td id=\"T_b9ecb_row40_col12\" class=\"data row40 col12\" >4.200000</td>\n",
       "      <td id=\"T_b9ecb_row40_col13\" class=\"data row40 col13\" >1</td>\n",
       "      <td id=\"T_b9ecb_row40_col14\" class=\"data row40 col14\" >0.630947</td>\n",
       "      <td id=\"T_b9ecb_row40_col15\" class=\"data row40 col15\" >3.400000</td>\n",
       "      <td id=\"T_b9ecb_row40_col16\" class=\"data row40 col16\" >accepted</td>\n",
       "      <td id=\"T_b9ecb_row40_col17\" class=\"data row40 col17\" >Likely BOLD</td>\n",
       "    </tr>\n",
       "    <tr>\n",
       "      <th id=\"T_b9ecb_level0_row41\" class=\"row_heading level0 row41\" >41</th>\n",
       "      <td id=\"T_b9ecb_row41_col0\" class=\"data row41 col0\" >ICA_41</td>\n",
       "      <td id=\"T_b9ecb_row41_col1\" class=\"data row41 col1\" >23.375198</td>\n",
       "      <td id=\"T_b9ecb_row41_col2\" class=\"data row41 col2\" >26.718345</td>\n",
       "      <td id=\"T_b9ecb_row41_col3\" class=\"data row41 col3\" >0.362100</td>\n",
       "      <td id=\"T_b9ecb_row41_col4\" class=\"data row41 col4\" >0.004123</td>\n",
       "      <td id=\"T_b9ecb_row41_col5\" class=\"data row41 col5\" >650</td>\n",
       "      <td id=\"T_b9ecb_row41_col6\" class=\"data row41 col6\" >917</td>\n",
       "      <td id=\"T_b9ecb_row41_col7\" class=\"data row41 col7\" >0.306011</td>\n",
       "      <td id=\"T_b9ecb_row41_col8\" class=\"data row41 col8\" >0.342210</td>\n",
       "      <td id=\"T_b9ecb_row41_col9\" class=\"data row41 col9\" >1413</td>\n",
       "      <td id=\"T_b9ecb_row41_col10\" class=\"data row41 col10\" >0.000000</td>\n",
       "      <td id=\"T_b9ecb_row41_col11\" class=\"data row41 col11\" >0.000000</td>\n",
       "      <td id=\"T_b9ecb_row41_col12\" class=\"data row41 col12\" >27.000000</td>\n",
       "      <td id=\"T_b9ecb_row41_col13\" class=\"data row41 col13\" >1</td>\n",
       "      <td id=\"T_b9ecb_row41_col14\" class=\"data row41 col14\" >1.171039</td>\n",
       "      <td id=\"T_b9ecb_row41_col15\" class=\"data row41 col15\" >nan</td>\n",
       "      <td id=\"T_b9ecb_row41_col16\" class=\"data row41 col16\" >rejected</td>\n",
       "      <td id=\"T_b9ecb_row41_col17\" class=\"data row41 col17\" >Unlikely BOLD</td>\n",
       "    </tr>\n",
       "    <tr>\n",
       "      <th id=\"T_b9ecb_level0_row42\" class=\"row_heading level0 row42\" >42</th>\n",
       "      <td id=\"T_b9ecb_row42_col0\" class=\"data row42 col0\" >ICA_42</td>\n",
       "      <td id=\"T_b9ecb_row42_col1\" class=\"data row42 col1\" >16.059835</td>\n",
       "      <td id=\"T_b9ecb_row42_col2\" class=\"data row42 col2\" >13.780728</td>\n",
       "      <td id=\"T_b9ecb_row42_col3\" class=\"data row42 col3\" >0.230014</td>\n",
       "      <td id=\"T_b9ecb_row42_col4\" class=\"data row42 col4\" >0.003542</td>\n",
       "      <td id=\"T_b9ecb_row42_col5\" class=\"data row42 col5\" >389</td>\n",
       "      <td id=\"T_b9ecb_row42_col6\" class=\"data row42 col6\" >432</td>\n",
       "      <td id=\"T_b9ecb_row42_col7\" class=\"data row42 col7\" >0.000000</td>\n",
       "      <td id=\"T_b9ecb_row42_col8\" class=\"data row42 col8\" >0.183746</td>\n",
       "      <td id=\"T_b9ecb_row42_col9\" class=\"data row42 col9\" >1453</td>\n",
       "      <td id=\"T_b9ecb_row42_col10\" class=\"data row42 col10\" >0.020190</td>\n",
       "      <td id=\"T_b9ecb_row42_col11\" class=\"data row42 col11\" >0.984082</td>\n",
       "      <td id=\"T_b9ecb_row42_col12\" class=\"data row42 col12\" >34.100000</td>\n",
       "      <td id=\"T_b9ecb_row42_col13\" class=\"data row42 col13\" >1</td>\n",
       "      <td id=\"T_b9ecb_row42_col14\" class=\"data row42 col14\" >1.082709</td>\n",
       "      <td id=\"T_b9ecb_row42_col15\" class=\"data row42 col15\" >nan</td>\n",
       "      <td id=\"T_b9ecb_row42_col16\" class=\"data row42 col16\" >rejected</td>\n",
       "      <td id=\"T_b9ecb_row42_col17\" class=\"data row42 col17\" >Unlikely BOLD</td>\n",
       "    </tr>\n",
       "    <tr>\n",
       "      <th id=\"T_b9ecb_level0_row43\" class=\"row_heading level0 row43\" >43</th>\n",
       "      <td id=\"T_b9ecb_row43_col0\" class=\"data row43 col0\" >ICA_43</td>\n",
       "      <td id=\"T_b9ecb_row43_col1\" class=\"data row43 col1\" >19.969520</td>\n",
       "      <td id=\"T_b9ecb_row43_col2\" class=\"data row43 col2\" >26.350039</td>\n",
       "      <td id=\"T_b9ecb_row43_col3\" class=\"data row43 col3\" >1.474532</td>\n",
       "      <td id=\"T_b9ecb_row43_col4\" class=\"data row43 col4\" >0.019476</td>\n",
       "      <td id=\"T_b9ecb_row43_col5\" class=\"data row43 col5\" >1271</td>\n",
       "      <td id=\"T_b9ecb_row43_col6\" class=\"data row43 col6\" >1962</td>\n",
       "      <td id=\"T_b9ecb_row43_col7\" class=\"data row43 col7\" >0.214968</td>\n",
       "      <td id=\"T_b9ecb_row43_col8\" class=\"data row43 col8\" >0.381823</td>\n",
       "      <td id=\"T_b9ecb_row43_col9\" class=\"data row43 col9\" >1286</td>\n",
       "      <td id=\"T_b9ecb_row43_col10\" class=\"data row43 col10\" >-10.795164</td>\n",
       "      <td id=\"T_b9ecb_row43_col11\" class=\"data row43 col11\" >0.000000</td>\n",
       "      <td id=\"T_b9ecb_row43_col12\" class=\"data row43 col12\" >30.200000</td>\n",
       "      <td id=\"T_b9ecb_row43_col13\" class=\"data row43 col13\" >-1</td>\n",
       "      <td id=\"T_b9ecb_row43_col14\" class=\"data row43 col14\" >5.581929</td>\n",
       "      <td id=\"T_b9ecb_row43_col15\" class=\"data row43 col15\" >nan</td>\n",
       "      <td id=\"T_b9ecb_row43_col16\" class=\"data row43 col16\" >rejected</td>\n",
       "      <td id=\"T_b9ecb_row43_col17\" class=\"data row43 col17\" >Unlikely BOLD</td>\n",
       "    </tr>\n",
       "    <tr>\n",
       "      <th id=\"T_b9ecb_level0_row44\" class=\"row_heading level0 row44\" >44</th>\n",
       "      <td id=\"T_b9ecb_row44_col0\" class=\"data row44 col0\" >ICA_44</td>\n",
       "      <td id=\"T_b9ecb_row44_col1\" class=\"data row44 col1\" >62.534449</td>\n",
       "      <td id=\"T_b9ecb_row44_col2\" class=\"data row44 col2\" >21.301163</td>\n",
       "      <td id=\"T_b9ecb_row44_col3\" class=\"data row44 col3\" >29.135408</td>\n",
       "      <td id=\"T_b9ecb_row44_col4\" class=\"data row44 col4\" >0.239624</td>\n",
       "      <td id=\"T_b9ecb_row44_col5\" class=\"data row44 col5\" >5593</td>\n",
       "      <td id=\"T_b9ecb_row44_col6\" class=\"data row44 col6\" >1668</td>\n",
       "      <td id=\"T_b9ecb_row44_col7\" class=\"data row44 col7\" >0.523363</td>\n",
       "      <td id=\"T_b9ecb_row44_col8\" class=\"data row44 col8\" >0.135520</td>\n",
       "      <td id=\"T_b9ecb_row44_col9\" class=\"data row44 col9\" >827</td>\n",
       "      <td id=\"T_b9ecb_row44_col10\" class=\"data row44 col10\" >-3.816457</td>\n",
       "      <td id=\"T_b9ecb_row44_col11\" class=\"data row44 col11\" >0.000686</td>\n",
       "      <td id=\"T_b9ecb_row44_col12\" class=\"data row44 col12\" >12.600000</td>\n",
       "      <td id=\"T_b9ecb_row44_col13\" class=\"data row44 col13\" >-1</td>\n",
       "      <td id=\"T_b9ecb_row44_col14\" class=\"data row44 col14\" >35.220824</td>\n",
       "      <td id=\"T_b9ecb_row44_col15\" class=\"data row44 col15\" >nan</td>\n",
       "      <td id=\"T_b9ecb_row44_col16\" class=\"data row44 col16\" >rejected</td>\n",
       "      <td id=\"T_b9ecb_row44_col17\" class=\"data row44 col17\" >Unlikely BOLD</td>\n",
       "    </tr>\n",
       "    <tr>\n",
       "      <th id=\"T_b9ecb_level0_row45\" class=\"row_heading level0 row45\" >45</th>\n",
       "      <td id=\"T_b9ecb_row45_col0\" class=\"data row45 col0\" >ICA_45</td>\n",
       "      <td id=\"T_b9ecb_row45_col1\" class=\"data row45 col1\" >15.952878</td>\n",
       "      <td id=\"T_b9ecb_row45_col2\" class=\"data row45 col2\" >13.987110</td>\n",
       "      <td id=\"T_b9ecb_row45_col3\" class=\"data row45 col3\" >0.353926</td>\n",
       "      <td id=\"T_b9ecb_row45_col4\" class=\"data row45 col4\" >0.005439</td>\n",
       "      <td id=\"T_b9ecb_row45_col5\" class=\"data row45 col5\" >248</td>\n",
       "      <td id=\"T_b9ecb_row45_col6\" class=\"data row45 col6\" >71</td>\n",
       "      <td id=\"T_b9ecb_row45_col7\" class=\"data row45 col7\" >0.373225</td>\n",
       "      <td id=\"T_b9ecb_row45_col8\" class=\"data row45 col8\" >0.000000</td>\n",
       "      <td id=\"T_b9ecb_row45_col9\" class=\"data row45 col9\" >1133</td>\n",
       "      <td id=\"T_b9ecb_row45_col10\" class=\"data row45 col10\" >4.849710</td>\n",
       "      <td id=\"T_b9ecb_row45_col11\" class=\"data row45 col11\" >0.000002</td>\n",
       "      <td id=\"T_b9ecb_row45_col12\" class=\"data row45 col12\" >23.800000</td>\n",
       "      <td id=\"T_b9ecb_row45_col13\" class=\"data row45 col13\" >-1</td>\n",
       "      <td id=\"T_b9ecb_row45_col14\" class=\"data row45 col14\" >1.677145</td>\n",
       "      <td id=\"T_b9ecb_row45_col15\" class=\"data row45 col15\" >11.400000</td>\n",
       "      <td id=\"T_b9ecb_row45_col16\" class=\"data row45 col16\" >accepted</td>\n",
       "      <td id=\"T_b9ecb_row45_col17\" class=\"data row45 col17\" >Accept borderline</td>\n",
       "    </tr>\n",
       "  </tbody>\n",
       "</table>\n"
      ],
      "text/plain": [
       "<pandas.io.formats.style.Styler at 0x7f15cc78caf0>"
      ]
     },
     "execution_count": 6,
     "metadata": {},
     "output_type": "execute_result"
    }
   ],
   "source": [
    "def color_rejected_red(series):\n",
    "    \"\"\"Color rejected components red.\"\"\"\n",
    "    return [\n",
    "        \"color: red\" if series[\"classification\"] == \"rejected\" else \"\" for v in series\n",
    "    ]\n",
    "\n",
    "\n",
    "metrics.style.apply(color_rejected_red, axis=1)"
   ]
  },
  {
   "cell_type": "code",
   "execution_count": 7,
   "id": "4f2473c0",
   "metadata": {},
   "outputs": [
    {
     "name": "stdout",
     "output_type": "stream",
     "text": [
      "{'Component': {'Description': 'The unique identifier of each component. This '\n",
      "                              'identifier matches column names in the mixing '\n",
      "                              'matrix TSV file.',\n",
      "               'LongName': 'Component identifier'},\n",
      " 'classification_tags': {'Description': 'A single tag or a comma separated '\n",
      "                                        'list of tags to describe why a '\n",
      "                                        'component received its classification',\n",
      "                         'LongName': 'Component classification tags'},\n",
      " 'countnoise': {'Description': \"Number of 'noise' voxels (voxels highly \"\n",
      "                               'weighted for component, but not from clusters) '\n",
      "                               'from each component.',\n",
      "                'LongName': 'Noise voxel count',\n",
      "                'Units': 'voxel'},\n",
      " 'countsigFS0': {'Description': 'Number of significant voxels from the '\n",
      "                                'cluster-extent thresholded S0 model '\n",
      "                                'F-statistic map for each component.',\n",
      "                 'LongName': 'S0 model F-statistic map significant voxel count',\n",
      "                 'Units': 'voxel'},\n",
      " 'countsigFT2': {'Description': 'Number of significant voxels from the '\n",
      "                                'cluster-extent thresholded T2 model '\n",
      "                                'F-statistic map for each component.',\n",
      "                 'LongName': 'T2 model F-statistic map significant voxel count',\n",
      "                 'Units': 'voxel'}}\n"
     ]
    }
   ],
   "source": [
    "with open(\n",
    "    os.path.join(out_dir, \"sub-04570_task-rest_space-scanner_desc-tedana_metrics.json\"),\n",
    "    \"r\",\n",
    ") as fo:\n",
    "    data = json.load(fo)\n",
    "\n",
    "first_five_keys = list(data.keys())[:5]\n",
    "reduced_data = {k: data[k] for k in first_five_keys}\n",
    "pprint(reduced_data)"
   ]
  },
  {
   "cell_type": "code",
   "execution_count": 8,
   "id": "a28c8949",
   "metadata": {
    "tags": [
     "output_scroll"
    ]
   },
   "outputs": [
    {
     "data": {
      "text/html": [
       "<table border=\"1\" class=\"dataframe\">\n",
       "  <thead>\n",
       "    <tr style=\"text-align: right;\">\n",
       "      <th></th>\n",
       "      <th>Description</th>\n",
       "      <th>LongName</th>\n",
       "      <th>Units</th>\n",
       "      <th>Levels</th>\n",
       "    </tr>\n",
       "  </thead>\n",
       "  <tbody>\n",
       "    <tr>\n",
       "      <th>Component</th>\n",
       "      <td>The unique identifier of each component. This identifier matches column names in the mixing matrix TSV file.</td>\n",
       "      <td>Component identifier</td>\n",
       "      <td>n/a</td>\n",
       "      <td>n/a</td>\n",
       "    </tr>\n",
       "    <tr>\n",
       "      <th>classification_tags</th>\n",
       "      <td>A single tag or a comma separated list of tags to describe why a component received its classification</td>\n",
       "      <td>Component classification tags</td>\n",
       "      <td>n/a</td>\n",
       "      <td>n/a</td>\n",
       "    </tr>\n",
       "    <tr>\n",
       "      <th>countnoise</th>\n",
       "      <td>Number of 'noise' voxels (voxels highly weighted for component, but not from clusters) from each component.</td>\n",
       "      <td>Noise voxel count</td>\n",
       "      <td>voxel</td>\n",
       "      <td>n/a</td>\n",
       "    </tr>\n",
       "    <tr>\n",
       "      <th>countsigFS0</th>\n",
       "      <td>Number of significant voxels from the cluster-extent thresholded S0 model F-statistic map for each component.</td>\n",
       "      <td>S0 model F-statistic map significant voxel count</td>\n",
       "      <td>voxel</td>\n",
       "      <td>n/a</td>\n",
       "    </tr>\n",
       "    <tr>\n",
       "      <th>countsigFT2</th>\n",
       "      <td>Number of significant voxels from the cluster-extent thresholded T2 model F-statistic map for each component.</td>\n",
       "      <td>T2 model F-statistic map significant voxel count</td>\n",
       "      <td>voxel</td>\n",
       "      <td>n/a</td>\n",
       "    </tr>\n",
       "    <tr>\n",
       "      <th>d_table_score</th>\n",
       "      <td>Summary score compiled from five metrics, with smaller values (i.e., higher ranks) indicating more BOLD dependence and less noise.</td>\n",
       "      <td>Decision table score</td>\n",
       "      <td>arbitrary</td>\n",
       "      <td>n/a</td>\n",
       "    </tr>\n",
       "    <tr>\n",
       "      <th>dice_FS0</th>\n",
       "      <td>Dice value of cluster-extent thresholded maps of S0-model betas and F-statistics.</td>\n",
       "      <td>S0 model beta map-F-statistic map Dice similarity index</td>\n",
       "      <td>arbitrary</td>\n",
       "      <td>n/a</td>\n",
       "    </tr>\n",
       "    <tr>\n",
       "      <th>dice_FT2</th>\n",
       "      <td>Dice value of cluster-extent thresholded maps of T2-model betas and F-statistics.</td>\n",
       "      <td>T2 model beta map-F-statistic map Dice similarity index</td>\n",
       "      <td>arbitrary</td>\n",
       "      <td>n/a</td>\n",
       "    </tr>\n",
       "    <tr>\n",
       "      <th>kappa</th>\n",
       "      <td>A pseudo-F-statistic indicating TE-dependence of the component. This metric is calculated by computing fit to the TE-dependence model at each voxel, and then performing a weighted average based on the voxel-wise weights of the component.</td>\n",
       "      <td>Kappa</td>\n",
       "      <td>arbitrary</td>\n",
       "      <td>n/a</td>\n",
       "    </tr>\n",
       "    <tr>\n",
       "      <th>normalized variance explained</th>\n",
       "      <td>Normalized variance explained in the optimally combined data of each component.On a scale from 0 to 1.</td>\n",
       "      <td>Normalized variance explained</td>\n",
       "      <td>arbitrary</td>\n",
       "      <td>n/a</td>\n",
       "    </tr>\n",
       "    <tr>\n",
       "      <th>optimal sign</th>\n",
       "      <td>Optimal sign determined based on skew direction of component parameter estimates across the brain. In cases where components were left-skewed (-1), the component time series is flipped prior to metric calculation.</td>\n",
       "      <td>Optimal component sign</td>\n",
       "      <td>n/a</td>\n",
       "      <td>{'-1': 'Component is flipped prior to metric calculation.', '1': 'Component is not flipped prior to metric calculation.'}</td>\n",
       "    </tr>\n",
       "    <tr>\n",
       "      <th>rho</th>\n",
       "      <td>A pseudo-F-statistic indicating TE-independence of the component. This metric is calculated by computing fit to the TE-independence model at each voxel, and then performing a weighted average based on the voxel-wise weights of the component.</td>\n",
       "      <td>Rho</td>\n",
       "      <td>arbitrary</td>\n",
       "      <td>n/a</td>\n",
       "    </tr>\n",
       "    <tr>\n",
       "      <th>signal-noise_p</th>\n",
       "      <td>P-value for two-sample t-test of F-statistics from 'signal' voxels (voxels in clusters) against 'noise' voxels (voxels not in clusters) for T2 model.</td>\n",
       "      <td>Signal &gt; noise p-value</td>\n",
       "      <td>arbitrary</td>\n",
       "      <td>n/a</td>\n",
       "    </tr>\n",
       "    <tr>\n",
       "      <th>signal-noise_t</th>\n",
       "      <td>T-statistic for two-sample t-test of F-statistics from 'signal' voxels (voxels in clusters) against 'noise' voxels (voxels not in clusters) for T2 model.</td>\n",
       "      <td>Signal &gt; noise t-statistic</td>\n",
       "      <td>arbitrary</td>\n",
       "      <td>n/a</td>\n",
       "    </tr>\n",
       "    <tr>\n",
       "      <th>variance explained</th>\n",
       "      <td>Variance explained in the optimally combined data of each component. On a scale from 0 to 100.</td>\n",
       "      <td>Variance explained</td>\n",
       "      <td>arbitrary</td>\n",
       "      <td>n/a</td>\n",
       "    </tr>\n",
       "  </tbody>\n",
       "</table>"
      ],
      "text/plain": [
       "<IPython.core.display.HTML object>"
      ]
     },
     "metadata": {},
     "output_type": "display_data"
    }
   ],
   "source": [
    "df = pd.DataFrame.from_dict(data, orient=\"index\")\n",
    "df = df.fillna(\"n/a\")\n",
    "display(HTML(df.to_html()))"
   ]
  },
  {
   "cell_type": "code",
   "execution_count": 9,
   "id": "a9309e7a",
   "metadata": {},
   "outputs": [
    {
     "ename": "FileNotFoundError",
     "evalue": "[Errno 2] No such file or directory: '/home/runner/work/multi-echo-data-analysis/multi-echo-data-analysis/data/multi-echo-data-analysis/tedana/tedana_report.html'",
     "output_type": "error",
     "traceback": [
      "\u001b[0;31m---------------------------------------------------------------------------\u001b[0m",
      "\u001b[0;31mFileNotFoundError\u001b[0m                         Traceback (most recent call last)",
      "Cell \u001b[0;32mIn[9], line 2\u001b[0m\n\u001b[1;32m      1\u001b[0m report \u001b[38;5;241m=\u001b[39m os\u001b[38;5;241m.\u001b[39mpath\u001b[38;5;241m.\u001b[39mjoin(out_dir, \u001b[38;5;124m\"\u001b[39m\u001b[38;5;124mtedana_report.html\u001b[39m\u001b[38;5;124m\"\u001b[39m)\n\u001b[0;32m----> 2\u001b[0m \u001b[38;5;28;01mwith\u001b[39;00m \u001b[38;5;28;43mopen\u001b[39;49m\u001b[43m(\u001b[49m\u001b[43mreport\u001b[49m\u001b[43m,\u001b[49m\u001b[43m \u001b[49m\u001b[38;5;124;43m\"\u001b[39;49m\u001b[38;5;124;43mr\u001b[39;49m\u001b[38;5;124;43m\"\u001b[39;49m\u001b[43m)\u001b[49m \u001b[38;5;28;01mas\u001b[39;00m fo:\n\u001b[1;32m      3\u001b[0m     report_data \u001b[38;5;241m=\u001b[39m fo\u001b[38;5;241m.\u001b[39mread()\n\u001b[1;32m      5\u001b[0m figures_dir \u001b[38;5;241m=\u001b[39m os\u001b[38;5;241m.\u001b[39mpath\u001b[38;5;241m.\u001b[39mrelpath(os\u001b[38;5;241m.\u001b[39mpath\u001b[38;5;241m.\u001b[39mjoin(out_dir, \u001b[38;5;124m\"\u001b[39m\u001b[38;5;124mfigures\u001b[39m\u001b[38;5;124m\"\u001b[39m), os\u001b[38;5;241m.\u001b[39mgetcwd())\n",
      "File \u001b[0;32m/opt/hostedtoolcache/Python/3.8.18/x64/lib/python3.8/site-packages/IPython/core/interactiveshell.py:284\u001b[0m, in \u001b[0;36m_modified_open\u001b[0;34m(file, *args, **kwargs)\u001b[0m\n\u001b[1;32m    277\u001b[0m \u001b[38;5;28;01mif\u001b[39;00m file \u001b[38;5;129;01min\u001b[39;00m {\u001b[38;5;241m0\u001b[39m, \u001b[38;5;241m1\u001b[39m, \u001b[38;5;241m2\u001b[39m}:\n\u001b[1;32m    278\u001b[0m     \u001b[38;5;28;01mraise\u001b[39;00m \u001b[38;5;167;01mValueError\u001b[39;00m(\n\u001b[1;32m    279\u001b[0m         \u001b[38;5;124mf\u001b[39m\u001b[38;5;124m\"\u001b[39m\u001b[38;5;124mIPython won\u001b[39m\u001b[38;5;124m'\u001b[39m\u001b[38;5;124mt let you open fd=\u001b[39m\u001b[38;5;132;01m{\u001b[39;00mfile\u001b[38;5;132;01m}\u001b[39;00m\u001b[38;5;124m by default \u001b[39m\u001b[38;5;124m\"\u001b[39m\n\u001b[1;32m    280\u001b[0m         \u001b[38;5;124m\"\u001b[39m\u001b[38;5;124mas it is likely to crash IPython. If you know what you are doing, \u001b[39m\u001b[38;5;124m\"\u001b[39m\n\u001b[1;32m    281\u001b[0m         \u001b[38;5;124m\"\u001b[39m\u001b[38;5;124myou can use builtins\u001b[39m\u001b[38;5;124m'\u001b[39m\u001b[38;5;124m open.\u001b[39m\u001b[38;5;124m\"\u001b[39m\n\u001b[1;32m    282\u001b[0m     )\n\u001b[0;32m--> 284\u001b[0m \u001b[38;5;28;01mreturn\u001b[39;00m \u001b[43mio_open\u001b[49m\u001b[43m(\u001b[49m\u001b[43mfile\u001b[49m\u001b[43m,\u001b[49m\u001b[43m \u001b[49m\u001b[38;5;241;43m*\u001b[39;49m\u001b[43margs\u001b[49m\u001b[43m,\u001b[49m\u001b[43m \u001b[49m\u001b[38;5;241;43m*\u001b[39;49m\u001b[38;5;241;43m*\u001b[39;49m\u001b[43mkwargs\u001b[49m\u001b[43m)\u001b[49m\n",
      "\u001b[0;31mFileNotFoundError\u001b[0m: [Errno 2] No such file or directory: '/home/runner/work/multi-echo-data-analysis/multi-echo-data-analysis/data/multi-echo-data-analysis/tedana/tedana_report.html'"
     ]
    }
   ],
   "source": [
    "report = os.path.join(out_dir, \"tedana_report.html\")\n",
    "with open(report, \"r\") as fo:\n",
    "    report_data = fo.read()\n",
    "\n",
    "figures_dir = os.path.relpath(os.path.join(out_dir, \"figures\"), os.getcwd())\n",
    "report_data = report_data.replace(\"./figures\", figures_dir)\n",
    "\n",
    "display(HTML(report_data))"
   ]
  }
 ],
 "metadata": {
  "jupytext": {
   "text_representation": {
    "extension": ".md",
    "format_name": "myst",
    "format_version": 0.13,
    "jupytext_version": "1.10.3"
   }
  },
  "kernelspec": {
   "display_name": "Python 3",
   "language": "python",
   "name": "python3"
  },
  "language_info": {
   "codemirror_mode": {
    "name": "ipython",
    "version": 3
   },
   "file_extension": ".py",
   "mimetype": "text/x-python",
   "name": "python",
   "nbconvert_exporter": "python",
   "pygments_lexer": "ipython3",
   "version": "3.8.18"
  },
  "source_map": [
   12,
   20,
   40,
   71,
   85,
   89,
   95,
   101,
   113,
   125,
   133
  ]
 },
 "nbformat": 4,
 "nbformat_minor": 5
}