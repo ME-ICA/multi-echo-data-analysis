{
 "cells": [
  {
   "cell_type": "markdown",
   "id": "3ad37252",
   "metadata": {},
   "source": [
    "# Multi-Echo Denoising with `tedana`\n",
    "\n",
    "In this analysis tutorial, we will use `tedana` {cite:p}`DuPre2021` to perform multi-echo denoising.\n",
    "\n",
    "Specifically, we will use {py:func}`tedana.workflows.tedana_workflow`."
   ]
  },
  {
   "cell_type": "code",
   "execution_count": 1,
   "id": "df2e7a35",
   "metadata": {},
   "outputs": [
    {
     "name": "stderr",
     "output_type": "stream",
     "text": [
      "/opt/hostedtoolcache/Python/3.12.11/x64/lib/python3.12/site-packages/tqdm/auto.py:21: TqdmWarning: IProgress not found. Please update jupyter and ipywidgets. See https://ipywidgets.readthedocs.io/en/stable/user_install.html\n",
      "  from .autonotebook import tqdm as notebook_tqdm\n"
     ]
    }
   ],
   "source": [
    "import json\n",
    "import os\n",
    "from glob import glob\n",
    "from pprint import pprint\n",
    "\n",
    "import nibabel as nb\n",
    "import pandas as pd\n",
    "from IPython.display import HTML, display\n",
    "from tedana import workflows\n",
    "\n",
    "data_path = os.path.abspath('../DATA')"
   ]
  },
  {
   "cell_type": "code",
   "execution_count": 2,
   "id": "8f7e970d",
   "metadata": {},
   "outputs": [],
   "source": [
    "func_dir = os.path.join(data_path, \"ds006185/sub-24053/ses-1/func/\")\n",
    "data_files = sorted(\n",
    "    glob(\n",
    "        os.path.join(\n",
    "            func_dir,\n",
    "            \"sub-24053_ses-1_task-rat_rec-nordic_dir-PA_run-01_echo-*_part-mag_desc-preproc_bold.nii.gz\",\n",
    "        ),\n",
    "    ),\n",
    ")\n",
    "echo_times = []\n",
    "for f in data_files:\n",
    "    json_file = f.replace('.nii.gz', '.json')\n",
    "    with open(json_file, 'r') as fo:\n",
    "        metadata = json.load(fo)\n",
    "    echo_times.append(metadata['EchoTime'] * 1000)\n",
    "mask_file = os.path.join(\n",
    "    func_dir,\n",
    "    \"sub-24053_ses-1_task-rat_rec-nordic_dir-PA_run-01_part-mag_desc-brain_mask.nii.gz\"\n",
    ")\n",
    "confounds_file = os.path.join(\n",
    "    func_dir,\n",
    "    \"sub-24053_ses-1_task-rat_rec-nordic_dir-PA_run-01_part-mag_desc-confounds_timeseries.tsv\",\n",
    ")\n",
    "\n",
    "out_dir = os.path.join(data_path, \"tedana\")"
   ]
  },
  {
   "cell_type": "code",
   "execution_count": 3,
   "id": "91423505",
   "metadata": {
    "tags": [
     "hide-output"
    ]
   },
   "outputs": [
    {
     "ename": "FileNotFoundError",
     "evalue": "[Errno 2] No such file or directory: '/home/runner/work/multi-echo-data-analysis/multi-echo-data-analysis/DATA/tedana'",
     "output_type": "error",
     "traceback": [
      "\u001b[31m---------------------------------------------------------------------------\u001b[39m",
      "\u001b[31mFileNotFoundError\u001b[39m                         Traceback (most recent call last)",
      "\u001b[36mCell\u001b[39m\u001b[36m \u001b[39m\u001b[32mIn[3]\u001b[39m\u001b[32m, line 1\u001b[39m\n\u001b[32m----> \u001b[39m\u001b[32m1\u001b[39m \u001b[43mworkflows\u001b[49m\u001b[43m.\u001b[49m\u001b[43mtedana_workflow\u001b[49m\u001b[43m(\u001b[49m\n\u001b[32m      2\u001b[39m \u001b[43m    \u001b[49m\u001b[43mdata_files\u001b[49m\u001b[43m,\u001b[49m\n\u001b[32m      3\u001b[39m \u001b[43m    \u001b[49m\u001b[43mecho_times\u001b[49m\u001b[43m,\u001b[49m\n\u001b[32m      4\u001b[39m \u001b[43m    \u001b[49m\u001b[43mout_dir\u001b[49m\u001b[43m=\u001b[49m\u001b[43mout_dir\u001b[49m\u001b[43m,\u001b[49m\n\u001b[32m      5\u001b[39m \u001b[43m    \u001b[49m\u001b[43mmask\u001b[49m\u001b[43m=\u001b[49m\u001b[43mmask_file\u001b[49m\u001b[43m,\u001b[49m\n\u001b[32m      6\u001b[39m \u001b[43m    \u001b[49m\u001b[43mprefix\u001b[49m\u001b[43m=\u001b[49m\u001b[33;43m\"\u001b[39;49m\u001b[33;43msub-24053_ses-1_task-rat_rec-nordic_dir-PA_run-01\u001b[39;49m\u001b[33;43m\"\u001b[39;49m\u001b[43m,\u001b[49m\n\u001b[32m      7\u001b[39m \u001b[43m    \u001b[49m\u001b[43mfittype\u001b[49m\u001b[43m=\u001b[49m\u001b[33;43m\"\u001b[39;49m\u001b[33;43mloglin\u001b[39;49m\u001b[33;43m\"\u001b[39;49m\u001b[43m,\u001b[49m\n\u001b[32m      8\u001b[39m \u001b[43m    \u001b[49m\u001b[43mtedpca\u001b[49m\u001b[43m=\u001b[49m\u001b[33;43m\"\u001b[39;49m\u001b[33;43mmdl\u001b[39;49m\u001b[33;43m\"\u001b[39;49m\u001b[43m,\u001b[49m\n\u001b[32m      9\u001b[39m \u001b[43m    \u001b[49m\u001b[43mverbose\u001b[49m\u001b[43m=\u001b[49m\u001b[38;5;28;43;01mTrue\u001b[39;49;00m\u001b[43m,\u001b[49m\n\u001b[32m     10\u001b[39m \u001b[43m    \u001b[49m\u001b[43mgscontrol\u001b[49m\u001b[43m=\u001b[49m\u001b[43m[\u001b[49m\u001b[33;43m\"\u001b[39;49m\u001b[33;43mmir\u001b[39;49m\u001b[33;43m\"\u001b[39;49m\u001b[43m]\u001b[49m\u001b[43m,\u001b[49m\n\u001b[32m     11\u001b[39m \u001b[43m)\u001b[49m\n",
      "\u001b[36mFile \u001b[39m\u001b[32m/opt/hostedtoolcache/Python/3.12.11/x64/lib/python3.12/site-packages/tedana/workflows/tedana.py:572\u001b[39m, in \u001b[36mtedana_workflow\u001b[39m\u001b[34m(data, tes, out_dir, mask, convention, prefix, dummy_scans, masktype, fittype, combmode, n_independent_echos, tree, external_regressors, ica_method, n_robust_runs, tedpca, fixed_seed, maxit, maxrestart, tedort, gscontrol, no_reports, png_cmap, verbose, low_mem, debug, quiet, overwrite, t2smap, mixing_file, tedana_command)\u001b[39m\n\u001b[32m    570\u001b[39m out_dir = op.abspath(out_dir)\n\u001b[32m    571\u001b[39m \u001b[38;5;28;01mif\u001b[39;00m \u001b[38;5;129;01mnot\u001b[39;00m op.isdir(out_dir):\n\u001b[32m--> \u001b[39m\u001b[32m572\u001b[39m     \u001b[43mos\u001b[49m\u001b[43m.\u001b[49m\u001b[43mmkdir\u001b[49m\u001b[43m(\u001b[49m\u001b[43mout_dir\u001b[49m\u001b[43m)\u001b[49m\n\u001b[32m    574\u001b[39m \u001b[38;5;66;03m# boilerplate\u001b[39;00m\n\u001b[32m    575\u001b[39m prefix = io._infer_prefix(prefix)\n",
      "\u001b[31mFileNotFoundError\u001b[39m: [Errno 2] No such file or directory: '/home/runner/work/multi-echo-data-analysis/multi-echo-data-analysis/DATA/tedana'"
     ]
    }
   ],
   "source": [
    "workflows.tedana_workflow(\n",
    "    data_files,\n",
    "    echo_times,\n",
    "    out_dir=out_dir,\n",
    "    mask=mask_file,\n",
    "    prefix=\"sub-24053_ses-1_task-rat_rec-nordic_dir-PA_run-01\",\n",
    "    fittype=\"loglin\",\n",
    "    tedpca=\"mdl\",\n",
    "    verbose=True,\n",
    "    gscontrol=[\"mir\"],\n",
    ")"
   ]
  },
  {
   "cell_type": "markdown",
   "id": "35ac9acd",
   "metadata": {},
   "source": [
    "The tedana workflow writes out a number of files."
   ]
  },
  {
   "cell_type": "code",
   "execution_count": null,
   "id": "e5f1b499",
   "metadata": {},
   "outputs": [],
   "source": [
    "out_files = sorted(glob(os.path.join(out_dir, \"*\")))\n",
    "out_files = [os.path.basename(f) for f in out_files]\n",
    "print(\"\\n\".join(out_files))"
   ]
  },
  {
   "cell_type": "code",
   "execution_count": null,
   "id": "f07af791",
   "metadata": {},
   "outputs": [],
   "source": [
    "metrics = pd.read_table(\n",
    "    os.path.join(out_dir, \"sub-24053_ses-1_task-rat_rec-nordic_dir-PA_run-01_desc-tedana_metrics.tsv\")\n",
    ")"
   ]
  },
  {
   "cell_type": "code",
   "execution_count": null,
   "id": "63810362",
   "metadata": {
    "tags": [
     "hide-input"
    ]
   },
   "outputs": [],
   "source": [
    "def color_rejected_red(series):\n",
    "    \"\"\"Color rejected components red.\"\"\"\n",
    "    return [\n",
    "        \"color: red\" if series[\"classification\"] == \"rejected\" else \"\" for v in series\n",
    "    ]\n",
    "\n",
    "\n",
    "metrics.style.apply(color_rejected_red, axis=1)"
   ]
  },
  {
   "cell_type": "code",
   "execution_count": null,
   "id": "d93da3f7",
   "metadata": {},
   "outputs": [],
   "source": [
    "with open(\n",
    "    os.path.join(out_dir, \"sub-24053_ses-1_task-rat_rec-nordic_dir-PA_run-01_desc-tedana_metrics.json\"),\n",
    "    \"r\",\n",
    ") as fo:\n",
    "    data = json.load(fo)\n",
    "\n",
    "first_five_keys = list(data.keys())[:5]\n",
    "reduced_data = {k: data[k] for k in first_five_keys}\n",
    "pprint(reduced_data)"
   ]
  },
  {
   "cell_type": "code",
   "execution_count": null,
   "id": "89ae67f3",
   "metadata": {
    "tags": [
     "output_scroll"
    ]
   },
   "outputs": [],
   "source": [
    "df = pd.DataFrame.from_dict(data, orient=\"index\")\n",
    "df = df.fillna(\"n/a\")\n",
    "display(HTML(df.to_html()))"
   ]
  },
  {
   "cell_type": "code",
   "execution_count": null,
   "id": "d3c376b7",
   "metadata": {},
   "outputs": [],
   "source": [
    "report = os.path.join(out_dir, \"sub-24053_ses-1_task-rat_rec-nordic_dir-PA_run-01_tedana_report.html\")\n",
    "with open(report, \"r\") as fo:\n",
    "    report_data = fo.read()\n",
    "\n",
    "figures_dir = os.path.relpath(os.path.join(out_dir, \"figures\"), os.getcwd())\n",
    "report_data = report_data.replace(\"./figures\", figures_dir)\n",
    "\n",
    "display(HTML(report_data))"
   ]
  }
 ],
 "metadata": {
  "jupytext": {
   "text_representation": {
    "extension": ".md",
    "format_name": "myst",
    "jupytext_version": "1.18.1"
   }
  },
  "kernelspec": {
   "display_name": "Python 3",
   "language": "python",
   "name": "python3"
  },
  "language_info": {
   "codemirror_mode": {
    "name": "ipython",
    "version": 3
   },
   "file_extension": ".py",
   "mimetype": "text/x-python",
   "name": "python",
   "nbconvert_exporter": "python",
   "pygments_lexer": "ipython3",
   "version": "3.12.11"
  },
  "source_map": [
   11,
   19,
   33,
   61,
   75,
   79,
   85,
   91,
   103,
   115,
   123
  ]
 },
 "nbformat": 4,
 "nbformat_minor": 5
}