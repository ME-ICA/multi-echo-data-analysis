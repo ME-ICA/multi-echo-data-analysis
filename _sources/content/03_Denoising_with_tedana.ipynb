{
 "cells": [
  {
   "cell_type": "markdown",
   "id": "4de8a26f",
   "metadata": {},
   "source": [
    "# Multi-Echo Denoising with `tedana`\n",
    "\n",
    "In this analysis tutorial, we will use `tedana` {cite:p}`DuPre2021` to perform multi-echo denoising.\n",
    "\n",
    "Specifically, we will use {py:func}`tedana.workflows.tedana_workflow`."
   ]
  },
  {
   "cell_type": "code",
   "execution_count": 1,
   "id": "90266082",
   "metadata": {},
   "outputs": [
    {
     "name": "stdout",
     "output_type": "stream",
     "text": [
      "---- repo2data starting ----\n",
      "/opt/hostedtoolcache/Python/3.10.14/x64/lib/python3.10/site-packages/repo2data\n",
      "Config from file :\n",
      "../binder/data_requirement.json\n",
      "Destination:\n",
      "./../data/multi-echo-data-analysis\n",
      "\n",
      "Info : ./../data/multi-echo-data-analysis already downloaded\n"
     ]
    },
    {
     "name": "stderr",
     "output_type": "stream",
     "text": [
      "/opt/hostedtoolcache/Python/3.10.14/x64/lib/python3.10/site-packages/tqdm/auto.py:21: TqdmWarning: IProgress not found. Please update jupyter and ipywidgets. See https://ipywidgets.readthedocs.io/en/stable/user_install.html\n",
      "  from .autonotebook import tqdm as notebook_tqdm\n"
     ]
    }
   ],
   "source": [
    "import json\n",
    "import os\n",
    "from glob import glob\n",
    "from pprint import pprint\n",
    "\n",
    "import pandas as pd\n",
    "from IPython.display import HTML, display\n",
    "from repo2data.repo2data import Repo2Data\n",
    "from tedana import workflows\n",
    "\n",
    "# Install the data if running locally, or point to cached data if running on neurolibre\n",
    "DATA_REQ_FILE = os.path.join(\"../binder/data_requirement.json\")\n",
    "\n",
    "# Download data\n",
    "repo2data = Repo2Data(DATA_REQ_FILE)\n",
    "data_path = repo2data.install()\n",
    "data_path = os.path.abspath(data_path[0])"
   ]
  },
  {
   "cell_type": "code",
   "execution_count": 2,
   "id": "4a907a76",
   "metadata": {},
   "outputs": [],
   "source": [
    "func_dir = os.path.join(data_path, \"func/\")\n",
    "data_files = [\n",
    "    os.path.join(\n",
    "        func_dir,\n",
    "        \"sub-04570_task-rest_echo-1_space-scanner_desc-partialPreproc_bold.nii.gz\",\n",
    "    ),\n",
    "    os.path.join(\n",
    "        func_dir,\n",
    "        \"sub-04570_task-rest_echo-2_space-scanner_desc-partialPreproc_bold.nii.gz\",\n",
    "    ),\n",
    "    os.path.join(\n",
    "        func_dir,\n",
    "        \"sub-04570_task-rest_echo-3_space-scanner_desc-partialPreproc_bold.nii.gz\",\n",
    "    ),\n",
    "    os.path.join(\n",
    "        func_dir,\n",
    "        \"sub-04570_task-rest_echo-4_space-scanner_desc-partialPreproc_bold.nii.gz\",\n",
    "    ),\n",
    "]\n",
    "echo_times = [12.0, 28.0, 44.0, 60.0]\n",
    "mask_file = os.path.join(\n",
    "    func_dir, \"sub-04570_task-rest_space-scanner_desc-brain_mask.nii.gz\"\n",
    ")\n",
    "confounds_file = os.path.join(\n",
    "    func_dir, \"sub-04570_task-rest_desc-confounds_timeseries.tsv\"\n",
    ")\n",
    "\n",
    "out_dir = os.path.join(data_path, \"tedana\")"
   ]
  },
  {
   "cell_type": "code",
   "execution_count": 3,
   "id": "54adf8c8",
   "metadata": {
    "tags": [
     "hide-output"
    ]
   },
   "outputs": [
    {
     "name": "stderr",
     "output_type": "stream",
     "text": [
      "INFO     tedana:tedana_workflow:501 Using output directory: /home/runner/work/multi-echo-data-analysis/multi-echo-data-analysis/data/multi-echo-data-analysis/tedana\n"
     ]
    },
    {
     "name": "stderr",
     "output_type": "stream",
     "text": [
      "INFO     tedana:tedana_workflow:519 Initializing and validating component selection tree\n"
     ]
    },
    {
     "name": "stderr",
     "output_type": "stream",
     "text": [
      "WARNING  component_selector:validate_tree:127 Decision tree includes fields that are not used or logged {'_comment'}\n"
     ]
    },
    {
     "name": "stderr",
     "output_type": "stream",
     "text": [
      "INFO     component_selector:__init__:250 Performing component selection with tedana_orig_decision_tree\n"
     ]
    },
    {
     "name": "stderr",
     "output_type": "stream",
     "text": [
      "INFO     component_selector:__init__:251 Very similar to the decision tree designed by Prantik Kundu\n"
     ]
    },
    {
     "name": "stderr",
     "output_type": "stream",
     "text": [
      "INFO     tedana:tedana_workflow:522 Loading input data: ['/home/runner/work/multi-echo-data-analysis/multi-echo-data-analysis/data/multi-echo-data-analysis/func/sub-04570_task-rest_echo-1_space-scanner_desc-partialPreproc_bold.nii.gz', '/home/runner/work/multi-echo-data-analysis/multi-echo-data-analysis/data/multi-echo-data-analysis/func/sub-04570_task-rest_echo-2_space-scanner_desc-partialPreproc_bold.nii.gz', '/home/runner/work/multi-echo-data-analysis/multi-echo-data-analysis/data/multi-echo-data-analysis/func/sub-04570_task-rest_echo-3_space-scanner_desc-partialPreproc_bold.nii.gz', '/home/runner/work/multi-echo-data-analysis/multi-echo-data-analysis/data/multi-echo-data-analysis/func/sub-04570_task-rest_echo-4_space-scanner_desc-partialPreproc_bold.nii.gz']\n"
     ]
    },
    {
     "name": "stderr",
     "output_type": "stream",
     "text": [
      "INFO     io:__init__:155 Generating figures directory: /home/runner/work/multi-echo-data-analysis/multi-echo-data-analysis/data/multi-echo-data-analysis/tedana/figures\n"
     ]
    },
    {
     "name": "stderr",
     "output_type": "stream",
     "text": [
      "INFO     tedana:tedana_workflow:585 Using user-defined mask\n"
     ]
    },
    {
     "name": "stderr",
     "output_type": "stream",
     "text": [
      "INFO     utils:make_adaptive_mask:193 Echo-wise intensity thresholds for adaptive mask: [258.33994278 180.98638476 134.6796175   91.51006253]\n"
     ]
    },
    {
     "name": "stderr",
     "output_type": "stream",
     "text": [
      "WARNING  utils:make_adaptive_mask:222 734 voxels in user-defined mask do not have good signal. Removing voxels from mask.\n"
     ]
    },
    {
     "name": "stderr",
     "output_type": "stream",
     "text": [
      "INFO     tedana:tedana_workflow:635 Computing T2* map\n"
     ]
    },
    {
     "name": "stderr",
     "output_type": "stream",
     "text": [
      "\r",
      "2-echo monoexponential:   0%|          | 0/2224 [00:00<?, ?it/s]"
     ]
    },
    {
     "name": "stderr",
     "output_type": "stream",
     "text": [
      "\r",
      "2-echo monoexponential:   3%|▎         | 57/2224 [00:00<00:03, 567.63it/s]"
     ]
    },
    {
     "name": "stderr",
     "output_type": "stream",
     "text": [
      "\r",
      "2-echo monoexponential:   6%|▌         | 137/2224 [00:00<00:02, 698.30it/s]"
     ]
    },
    {
     "name": "stderr",
     "output_type": "stream",
     "text": [
      "\r",
      "2-echo monoexponential:  10%|▉         | 215/2224 [00:00<00:02, 733.31it/s]"
     ]
    },
    {
     "name": "stderr",
     "output_type": "stream",
     "text": [
      "\r",
      "2-echo monoexponential:  13%|█▎        | 296/2224 [00:00<00:02, 760.00it/s]"
     ]
    },
    {
     "name": "stderr",
     "output_type": "stream",
     "text": [
      "\r",
      "2-echo monoexponential:  17%|█▋        | 374/2224 [00:00<00:02, 765.96it/s]"
     ]
    },
    {
     "name": "stderr",
     "output_type": "stream",
     "text": [
      "\r",
      "2-echo monoexponential:  20%|██        | 454/2224 [00:00<00:02, 777.11it/s]"
     ]
    },
    {
     "name": "stderr",
     "output_type": "stream",
     "text": [
      "\r",
      "2-echo monoexponential:  24%|██▍       | 535/2224 [00:00<00:02, 784.10it/s]"
     ]
    },
    {
     "name": "stderr",
     "output_type": "stream",
     "text": [
      "\r",
      "2-echo monoexponential:  28%|██▊       | 614/2224 [00:00<00:02, 777.36it/s]"
     ]
    },
    {
     "name": "stderr",
     "output_type": "stream",
     "text": [
      "\r",
      "2-echo monoexponential:  31%|███       | 692/2224 [00:00<00:01, 774.07it/s]"
     ]
    },
    {
     "name": "stderr",
     "output_type": "stream",
     "text": [
      "\r",
      "2-echo monoexponential:  35%|███▍      | 770/2224 [00:01<00:01, 771.75it/s]"
     ]
    },
    {
     "name": "stderr",
     "output_type": "stream",
     "text": [
      "\r",
      "2-echo monoexponential:  38%|███▊      | 848/2224 [00:01<00:01, 772.98it/s]"
     ]
    },
    {
     "name": "stderr",
     "output_type": "stream",
     "text": [
      "\r",
      "2-echo monoexponential:  42%|████▏     | 927/2224 [00:01<00:01, 777.51it/s]"
     ]
    },
    {
     "name": "stderr",
     "output_type": "stream",
     "text": [
      "\r",
      "2-echo monoexponential:  45%|████▌     | 1005/2224 [00:01<00:01, 774.07it/s]"
     ]
    },
    {
     "name": "stderr",
     "output_type": "stream",
     "text": [
      "\r",
      "2-echo monoexponential:  49%|████▉     | 1085/2224 [00:01<00:01, 778.71it/s]"
     ]
    },
    {
     "name": "stderr",
     "output_type": "stream",
     "text": [
      "\r",
      "2-echo monoexponential:  52%|█████▏    | 1163/2224 [00:01<00:01, 767.28it/s]"
     ]
    },
    {
     "name": "stderr",
     "output_type": "stream",
     "text": [
      "\r",
      "2-echo monoexponential:  56%|█████▌    | 1241/2224 [00:01<00:01, 769.07it/s]"
     ]
    },
    {
     "name": "stderr",
     "output_type": "stream",
     "text": [
      "\r",
      "2-echo monoexponential:  59%|█████▉    | 1318/2224 [00:01<00:01, 769.09it/s]"
     ]
    },
    {
     "name": "stderr",
     "output_type": "stream",
     "text": [
      "\r",
      "2-echo monoexponential:  63%|██████▎   | 1395/2224 [00:01<00:01, 765.17it/s]"
     ]
    },
    {
     "name": "stderr",
     "output_type": "stream",
     "text": [
      "\r",
      "2-echo monoexponential:  66%|██████▌   | 1473/2224 [00:01<00:00, 768.48it/s]"
     ]
    },
    {
     "name": "stderr",
     "output_type": "stream",
     "text": [
      "\r",
      "2-echo monoexponential:  70%|██████▉   | 1551/2224 [00:02<00:00, 771.68it/s]"
     ]
    },
    {
     "name": "stderr",
     "output_type": "stream",
     "text": [
      "\r",
      "2-echo monoexponential:  73%|███████▎  | 1630/2224 [00:02<00:00, 776.62it/s]"
     ]
    },
    {
     "name": "stderr",
     "output_type": "stream",
     "text": [
      "\r",
      "2-echo monoexponential:  77%|███████▋  | 1708/2224 [00:02<00:00, 775.82it/s]"
     ]
    },
    {
     "name": "stderr",
     "output_type": "stream",
     "text": [
      "\r",
      "2-echo monoexponential:  80%|████████  | 1787/2224 [00:02<00:00, 777.47it/s]"
     ]
    },
    {
     "name": "stderr",
     "output_type": "stream",
     "text": [
      "\r",
      "2-echo monoexponential:  84%|████████▍ | 1867/2224 [00:02<00:00, 783.43it/s]"
     ]
    },
    {
     "name": "stderr",
     "output_type": "stream",
     "text": [
      "\r",
      "2-echo monoexponential:  88%|████████▊ | 1948/2224 [00:02<00:00, 788.80it/s]"
     ]
    },
    {
     "name": "stderr",
     "output_type": "stream",
     "text": [
      "\r",
      "2-echo monoexponential:  91%|█████████ | 2029/2224 [00:02<00:00, 783.50it/s]"
     ]
    },
    {
     "name": "stderr",
     "output_type": "stream",
     "text": [
      "\r",
      "2-echo monoexponential:  95%|█████████▍| 2108/2224 [00:02<00:00, 776.93it/s]"
     ]
    },
    {
     "name": "stderr",
     "output_type": "stream",
     "text": [
      "\r",
      "2-echo monoexponential:  98%|█████████▊| 2186/2224 [00:02<00:00, 766.93it/s]"
     ]
    },
    {
     "name": "stderr",
     "output_type": "stream",
     "text": [
      "\r",
      "2-echo monoexponential: 100%|██████████| 2224/2224 [00:02<00:00, 768.60it/s]"
     ]
    },
    {
     "name": "stderr",
     "output_type": "stream",
     "text": [
      "\n"
     ]
    },
    {
     "name": "stderr",
     "output_type": "stream",
     "text": [
      "\r",
      "3-echo monoexponential:   0%|          | 0/1092 [00:00<?, ?it/s]"
     ]
    },
    {
     "name": "stderr",
     "output_type": "stream",
     "text": [
      "\r",
      "3-echo monoexponential:   4%|▍         | 48/1092 [00:00<00:02, 478.52it/s]"
     ]
    },
    {
     "name": "stderr",
     "output_type": "stream",
     "text": [
      "\r",
      "3-echo monoexponential:   9%|▉         | 99/1092 [00:00<00:02, 494.38it/s]"
     ]
    },
    {
     "name": "stderr",
     "output_type": "stream",
     "text": [
      "\r",
      "3-echo monoexponential:  14%|█▍        | 153/1092 [00:00<00:01, 511.96it/s]"
     ]
    },
    {
     "name": "stderr",
     "output_type": "stream",
     "text": [
      "\r",
      "3-echo monoexponential:  19%|█▉        | 205/1092 [00:00<00:01, 510.13it/s]"
     ]
    },
    {
     "name": "stderr",
     "output_type": "stream",
     "text": [
      "\r",
      "3-echo monoexponential:  24%|██▎       | 257/1092 [00:00<00:01, 511.75it/s]"
     ]
    },
    {
     "name": "stderr",
     "output_type": "stream",
     "text": [
      "\r",
      "3-echo monoexponential:  28%|██▊       | 309/1092 [00:00<00:01, 503.38it/s]"
     ]
    },
    {
     "name": "stderr",
     "output_type": "stream",
     "text": [
      "\r",
      "3-echo monoexponential:  33%|███▎      | 360/1092 [00:00<00:01, 500.70it/s]"
     ]
    },
    {
     "name": "stderr",
     "output_type": "stream",
     "text": [
      "\r",
      "3-echo monoexponential:  38%|███▊      | 411/1092 [00:00<00:01, 501.52it/s]"
     ]
    },
    {
     "name": "stderr",
     "output_type": "stream",
     "text": [
      "\r",
      "3-echo monoexponential:  42%|████▏     | 462/1092 [00:00<00:01, 499.39it/s]"
     ]
    },
    {
     "name": "stderr",
     "output_type": "stream",
     "text": [
      "\r",
      "3-echo monoexponential:  47%|████▋     | 513/1092 [00:01<00:01, 500.07it/s]"
     ]
    },
    {
     "name": "stderr",
     "output_type": "stream",
     "text": [
      "\r",
      "3-echo monoexponential:  52%|█████▏    | 564/1092 [00:01<00:01, 501.09it/s]"
     ]
    },
    {
     "name": "stderr",
     "output_type": "stream",
     "text": [
      "\r",
      "3-echo monoexponential:  56%|█████▋    | 615/1092 [00:01<00:00, 497.21it/s]"
     ]
    },
    {
     "name": "stderr",
     "output_type": "stream",
     "text": [
      "\r",
      "3-echo monoexponential:  61%|██████    | 668/1092 [00:01<00:00, 505.23it/s]"
     ]
    },
    {
     "name": "stderr",
     "output_type": "stream",
     "text": [
      "\r",
      "3-echo monoexponential:  66%|██████▌   | 719/1092 [00:01<00:00, 494.60it/s]"
     ]
    },
    {
     "name": "stderr",
     "output_type": "stream",
     "text": [
      "\r",
      "3-echo monoexponential:  70%|███████   | 769/1092 [00:01<00:00, 494.37it/s]"
     ]
    },
    {
     "name": "stderr",
     "output_type": "stream",
     "text": [
      "\r",
      "3-echo monoexponential:  75%|███████▌  | 819/1092 [00:01<00:00, 493.02it/s]"
     ]
    },
    {
     "name": "stderr",
     "output_type": "stream",
     "text": [
      "\r",
      "3-echo monoexponential:  80%|███████▉  | 869/1092 [00:01<00:00, 493.21it/s]"
     ]
    },
    {
     "name": "stderr",
     "output_type": "stream",
     "text": [
      "\r",
      "3-echo monoexponential:  84%|████████▍ | 922/1092 [00:01<00:00, 501.79it/s]"
     ]
    },
    {
     "name": "stderr",
     "output_type": "stream",
     "text": [
      "\r",
      "3-echo monoexponential:  89%|████████▉ | 974/1092 [00:01<00:00, 504.08it/s]"
     ]
    },
    {
     "name": "stderr",
     "output_type": "stream",
     "text": [
      "\r",
      "3-echo monoexponential:  94%|█████████▍| 1025/1092 [00:02<00:00, 505.18it/s]"
     ]
    },
    {
     "name": "stderr",
     "output_type": "stream",
     "text": [
      "\r",
      "3-echo monoexponential:  99%|█████████▊| 1076/1092 [00:02<00:00, 499.94it/s]"
     ]
    },
    {
     "name": "stderr",
     "output_type": "stream",
     "text": [
      "\r",
      "3-echo monoexponential: 100%|██████████| 1092/1092 [00:02<00:00, 500.72it/s]"
     ]
    },
    {
     "name": "stderr",
     "output_type": "stream",
     "text": [
      "\n"
     ]
    },
    {
     "name": "stderr",
     "output_type": "stream",
     "text": [
      "\r",
      "4-echo monoexponential:   0%|          | 0/20176 [00:00<?, ?it/s]"
     ]
    },
    {
     "name": "stderr",
     "output_type": "stream",
     "text": [
      "\r",
      "4-echo monoexponential:   0%|          | 51/20176 [00:00<00:39, 505.96it/s]"
     ]
    },
    {
     "name": "stderr",
     "output_type": "stream",
     "text": [
      "\r",
      "4-echo monoexponential:   1%|          | 105/20176 [00:00<00:38, 524.79it/s]"
     ]
    },
    {
     "name": "stderr",
     "output_type": "stream",
     "text": [
      "\r",
      "4-echo monoexponential:   1%|          | 163/20176 [00:00<00:36, 545.93it/s]"
     ]
    },
    {
     "name": "stderr",
     "output_type": "stream",
     "text": [
      "\r",
      "4-echo monoexponential:   1%|          | 223/20176 [00:00<00:35, 565.91it/s]"
     ]
    },
    {
     "name": "stderr",
     "output_type": "stream",
     "text": [
      "\r",
      "4-echo monoexponential:   1%|▏         | 280/20176 [00:00<00:35, 560.17it/s]"
     ]
    },
    {
     "name": "stderr",
     "output_type": "stream",
     "text": [
      "\r",
      "4-echo monoexponential:   2%|▏         | 339/20176 [00:00<00:34, 567.32it/s]"
     ]
    },
    {
     "name": "stderr",
     "output_type": "stream",
     "text": [
      "\r",
      "4-echo monoexponential:   2%|▏         | 397/20176 [00:00<00:34, 570.88it/s]"
     ]
    },
    {
     "name": "stderr",
     "output_type": "stream",
     "text": [
      "\r",
      "4-echo monoexponential:   2%|▏         | 455/20176 [00:00<00:34, 566.50it/s]"
     ]
    },
    {
     "name": "stderr",
     "output_type": "stream",
     "text": [
      "\r",
      "4-echo monoexponential:   3%|▎         | 515/20176 [00:00<00:34, 573.96it/s]"
     ]
    },
    {
     "name": "stderr",
     "output_type": "stream",
     "text": [
      "\r",
      "4-echo monoexponential:   3%|▎         | 573/20176 [00:01<00:34, 573.44it/s]"
     ]
    },
    {
     "name": "stderr",
     "output_type": "stream",
     "text": [
      "\r",
      "4-echo monoexponential:   3%|▎         | 631/20176 [00:01<00:34, 564.10it/s]"
     ]
    },
    {
     "name": "stderr",
     "output_type": "stream",
     "text": [
      "\r",
      "4-echo monoexponential:   3%|▎         | 688/20176 [00:01<00:34, 565.05it/s]"
     ]
    },
    {
     "name": "stderr",
     "output_type": "stream",
     "text": [
      "\r",
      "4-echo monoexponential:   4%|▎         | 747/20176 [00:01<00:34, 569.41it/s]"
     ]
    },
    {
     "name": "stderr",
     "output_type": "stream",
     "text": [
      "\r",
      "4-echo monoexponential:   4%|▍         | 805/20176 [00:01<00:33, 572.21it/s]"
     ]
    },
    {
     "name": "stderr",
     "output_type": "stream",
     "text": [
      "\r",
      "4-echo monoexponential:   4%|▍         | 863/20176 [00:01<00:33, 572.15it/s]"
     ]
    },
    {
     "name": "stderr",
     "output_type": "stream",
     "text": [
      "\r",
      "4-echo monoexponential:   5%|▍         | 922/20176 [00:01<00:33, 575.96it/s]"
     ]
    },
    {
     "name": "stderr",
     "output_type": "stream",
     "text": [
      "\r",
      "4-echo monoexponential:   5%|▍         | 980/20176 [00:01<00:33, 564.95it/s]"
     ]
    },
    {
     "name": "stderr",
     "output_type": "stream",
     "text": [
      "\r",
      "4-echo monoexponential:   5%|▌         | 1037/20176 [00:01<00:34, 547.12it/s]"
     ]
    },
    {
     "name": "stderr",
     "output_type": "stream",
     "text": [
      "\r",
      "4-echo monoexponential:   5%|▌         | 1093/20176 [00:01<00:34, 550.53it/s]"
     ]
    },
    {
     "name": "stderr",
     "output_type": "stream",
     "text": [
      "\r",
      "4-echo monoexponential:   6%|▌         | 1151/20176 [00:02<00:34, 557.65it/s]"
     ]
    },
    {
     "name": "stderr",
     "output_type": "stream",
     "text": [
      "\r",
      "4-echo monoexponential:   6%|▌         | 1210/20176 [00:02<00:33, 564.35it/s]"
     ]
    },
    {
     "name": "stderr",
     "output_type": "stream",
     "text": [
      "\r",
      "4-echo monoexponential:   6%|▋         | 1270/20176 [00:02<00:33, 572.34it/s]"
     ]
    },
    {
     "name": "stderr",
     "output_type": "stream",
     "text": [
      "\r",
      "4-echo monoexponential:   7%|▋         | 1331/20176 [00:02<00:32, 582.19it/s]"
     ]
    },
    {
     "name": "stderr",
     "output_type": "stream",
     "text": [
      "\r",
      "4-echo monoexponential:   7%|▋         | 1393/20176 [00:02<00:31, 593.11it/s]"
     ]
    },
    {
     "name": "stderr",
     "output_type": "stream",
     "text": [
      "\r",
      "4-echo monoexponential:   7%|▋         | 1453/20176 [00:02<00:32, 575.40it/s]"
     ]
    },
    {
     "name": "stderr",
     "output_type": "stream",
     "text": [
      "\r",
      "4-echo monoexponential:   7%|▋         | 1511/20176 [00:02<00:33, 562.65it/s]"
     ]
    },
    {
     "name": "stderr",
     "output_type": "stream",
     "text": [
      "\r",
      "4-echo monoexponential:   8%|▊         | 1572/20176 [00:02<00:32, 574.41it/s]"
     ]
    },
    {
     "name": "stderr",
     "output_type": "stream",
     "text": [
      "\r",
      "4-echo monoexponential:   8%|▊         | 1631/20176 [00:02<00:32, 578.83it/s]"
     ]
    },
    {
     "name": "stderr",
     "output_type": "stream",
     "text": [
      "\r",
      "4-echo monoexponential:   8%|▊         | 1693/20176 [00:02<00:31, 590.52it/s]"
     ]
    },
    {
     "name": "stderr",
     "output_type": "stream",
     "text": [
      "\r",
      "4-echo monoexponential:   9%|▊         | 1754/20176 [00:03<00:30, 595.36it/s]"
     ]
    },
    {
     "name": "stderr",
     "output_type": "stream",
     "text": [
      "\r",
      "4-echo monoexponential:   9%|▉         | 1814/20176 [00:03<00:30, 595.51it/s]"
     ]
    },
    {
     "name": "stderr",
     "output_type": "stream",
     "text": [
      "\r",
      "4-echo monoexponential:   9%|▉         | 1875/20176 [00:03<00:30, 598.80it/s]"
     ]
    },
    {
     "name": "stderr",
     "output_type": "stream",
     "text": [
      "\r",
      "4-echo monoexponential:  10%|▉         | 1935/20176 [00:03<00:30, 596.65it/s]"
     ]
    },
    {
     "name": "stderr",
     "output_type": "stream",
     "text": [
      "\r",
      "4-echo monoexponential:  10%|▉         | 1995/20176 [00:03<00:32, 565.24it/s]"
     ]
    },
    {
     "name": "stderr",
     "output_type": "stream",
     "text": [
      "\r",
      "4-echo monoexponential:  10%|█         | 2054/20176 [00:03<00:31, 571.91it/s]"
     ]
    },
    {
     "name": "stderr",
     "output_type": "stream",
     "text": [
      "\r",
      "4-echo monoexponential:  10%|█         | 2112/20176 [00:03<00:31, 573.60it/s]"
     ]
    },
    {
     "name": "stderr",
     "output_type": "stream",
     "text": [
      "\r",
      "4-echo monoexponential:  11%|█         | 2172/20176 [00:03<00:31, 580.71it/s]"
     ]
    },
    {
     "name": "stderr",
     "output_type": "stream",
     "text": [
      "\r",
      "4-echo monoexponential:  11%|█         | 2235/20176 [00:03<00:30, 593.73it/s]"
     ]
    },
    {
     "name": "stderr",
     "output_type": "stream",
     "text": [
      "\r",
      "4-echo monoexponential:  11%|█▏        | 2299/20176 [00:03<00:29, 605.35it/s]"
     ]
    },
    {
     "name": "stderr",
     "output_type": "stream",
     "text": [
      "\r",
      "4-echo monoexponential:  12%|█▏        | 2362/20176 [00:04<00:29, 609.30it/s]"
     ]
    },
    {
     "name": "stderr",
     "output_type": "stream",
     "text": [
      "\r",
      "4-echo monoexponential:  12%|█▏        | 2424/20176 [00:04<00:29, 611.03it/s]"
     ]
    },
    {
     "name": "stderr",
     "output_type": "stream",
     "text": [
      "\r",
      "4-echo monoexponential:  12%|█▏        | 2487/20176 [00:04<00:28, 616.35it/s]"
     ]
    },
    {
     "name": "stderr",
     "output_type": "stream",
     "text": [
      "\r",
      "4-echo monoexponential:  13%|█▎        | 2549/20176 [00:04<00:29, 604.66it/s]"
     ]
    },
    {
     "name": "stderr",
     "output_type": "stream",
     "text": [
      "\r",
      "4-echo monoexponential:  13%|█▎        | 2610/20176 [00:04<00:30, 578.07it/s]"
     ]
    },
    {
     "name": "stderr",
     "output_type": "stream",
     "text": [
      "\r",
      "4-echo monoexponential:  13%|█▎        | 2669/20176 [00:04<00:30, 578.59it/s]"
     ]
    },
    {
     "name": "stderr",
     "output_type": "stream",
     "text": [
      "\r",
      "4-echo monoexponential:  14%|█▎        | 2731/20176 [00:04<00:29, 588.17it/s]"
     ]
    },
    {
     "name": "stderr",
     "output_type": "stream",
     "text": [
      "\r",
      "4-echo monoexponential:  14%|█▍        | 2791/20176 [00:04<00:29, 589.40it/s]"
     ]
    },
    {
     "name": "stderr",
     "output_type": "stream",
     "text": [
      "\r",
      "4-echo monoexponential:  14%|█▍        | 2855/20176 [00:04<00:28, 601.65it/s]"
     ]
    },
    {
     "name": "stderr",
     "output_type": "stream",
     "text": [
      "\r",
      "4-echo monoexponential:  14%|█▍        | 2917/20176 [00:05<00:28, 605.79it/s]"
     ]
    },
    {
     "name": "stderr",
     "output_type": "stream",
     "text": [
      "\r",
      "4-echo monoexponential:  15%|█▍        | 2979/20176 [00:05<00:28, 608.48it/s]"
     ]
    },
    {
     "name": "stderr",
     "output_type": "stream",
     "text": [
      "\r",
      "4-echo monoexponential:  15%|█▌        | 3042/20176 [00:05<00:27, 613.17it/s]"
     ]
    },
    {
     "name": "stderr",
     "output_type": "stream",
     "text": [
      "\r",
      "4-echo monoexponential:  15%|█▌        | 3105/20176 [00:05<00:27, 615.42it/s]"
     ]
    },
    {
     "name": "stderr",
     "output_type": "stream",
     "text": [
      "\r",
      "4-echo monoexponential:  16%|█▌        | 3167/20176 [00:05<00:27, 615.65it/s]"
     ]
    },
    {
     "name": "stderr",
     "output_type": "stream",
     "text": [
      "\r",
      "4-echo monoexponential:  16%|█▌        | 3229/20176 [00:05<00:28, 586.09it/s]"
     ]
    },
    {
     "name": "stderr",
     "output_type": "stream",
     "text": [
      "\r",
      "4-echo monoexponential:  16%|█▋        | 3291/20176 [00:05<00:28, 592.47it/s]"
     ]
    },
    {
     "name": "stderr",
     "output_type": "stream",
     "text": [
      "\r",
      "4-echo monoexponential:  17%|█▋        | 3353/20176 [00:05<00:28, 598.57it/s]"
     ]
    },
    {
     "name": "stderr",
     "output_type": "stream",
     "text": [
      "\r",
      "4-echo monoexponential:  17%|█▋        | 3414/20176 [00:05<00:28, 598.35it/s]"
     ]
    },
    {
     "name": "stderr",
     "output_type": "stream",
     "text": [
      "\r",
      "4-echo monoexponential:  17%|█▋        | 3475/20176 [00:05<00:27, 601.17it/s]"
     ]
    },
    {
     "name": "stderr",
     "output_type": "stream",
     "text": [
      "\r",
      "4-echo monoexponential:  18%|█▊        | 3539/20176 [00:06<00:27, 611.37it/s]"
     ]
    },
    {
     "name": "stderr",
     "output_type": "stream",
     "text": [
      "\r",
      "4-echo monoexponential:  18%|█▊        | 3601/20176 [00:06<00:27, 612.42it/s]"
     ]
    },
    {
     "name": "stderr",
     "output_type": "stream",
     "text": [
      "\r",
      "4-echo monoexponential:  18%|█▊        | 3663/20176 [00:06<00:27, 609.61it/s]"
     ]
    },
    {
     "name": "stderr",
     "output_type": "stream",
     "text": [
      "\r",
      "4-echo monoexponential:  18%|█▊        | 3725/20176 [00:06<00:26, 609.75it/s]"
     ]
    },
    {
     "name": "stderr",
     "output_type": "stream",
     "text": [
      "\r",
      "4-echo monoexponential:  19%|█▉        | 3787/20176 [00:06<00:26, 612.66it/s]"
     ]
    },
    {
     "name": "stderr",
     "output_type": "stream",
     "text": [
      "\r",
      "4-echo monoexponential:  19%|█▉        | 3849/20176 [00:06<00:26, 605.02it/s]"
     ]
    },
    {
     "name": "stderr",
     "output_type": "stream",
     "text": [
      "\r",
      "4-echo monoexponential:  19%|█▉        | 3910/20176 [00:06<00:27, 596.25it/s]"
     ]
    },
    {
     "name": "stderr",
     "output_type": "stream",
     "text": [
      "\r",
      "4-echo monoexponential:  20%|█▉        | 3970/20176 [00:06<00:27, 588.61it/s]"
     ]
    },
    {
     "name": "stderr",
     "output_type": "stream",
     "text": [
      "\r",
      "4-echo monoexponential:  20%|█▉        | 4030/20176 [00:06<00:27, 590.20it/s]"
     ]
    },
    {
     "name": "stderr",
     "output_type": "stream",
     "text": [
      "\r",
      "4-echo monoexponential:  20%|██        | 4090/20176 [00:06<00:27, 584.72it/s]"
     ]
    },
    {
     "name": "stderr",
     "output_type": "stream",
     "text": [
      "\r",
      "4-echo monoexponential:  21%|██        | 4149/20176 [00:07<00:27, 583.98it/s]"
     ]
    },
    {
     "name": "stderr",
     "output_type": "stream",
     "text": [
      "\r",
      "4-echo monoexponential:  21%|██        | 4210/20176 [00:07<00:27, 589.65it/s]"
     ]
    },
    {
     "name": "stderr",
     "output_type": "stream",
     "text": [
      "\r",
      "4-echo monoexponential:  21%|██        | 4272/20176 [00:07<00:26, 597.46it/s]"
     ]
    },
    {
     "name": "stderr",
     "output_type": "stream",
     "text": [
      "\r",
      "4-echo monoexponential:  21%|██▏       | 4335/20176 [00:07<00:26, 604.75it/s]"
     ]
    },
    {
     "name": "stderr",
     "output_type": "stream",
     "text": [
      "\r",
      "4-echo monoexponential:  22%|██▏       | 4396/20176 [00:07<00:26, 602.72it/s]"
     ]
    },
    {
     "name": "stderr",
     "output_type": "stream",
     "text": [
      "\r",
      "4-echo monoexponential:  22%|██▏       | 4458/20176 [00:07<00:25, 607.01it/s]"
     ]
    },
    {
     "name": "stderr",
     "output_type": "stream",
     "text": [
      "\r",
      "4-echo monoexponential:  22%|██▏       | 4519/20176 [00:07<00:25, 607.50it/s]"
     ]
    },
    {
     "name": "stderr",
     "output_type": "stream",
     "text": [
      "\r",
      "4-echo monoexponential:  23%|██▎       | 4580/20176 [00:07<00:25, 607.24it/s]"
     ]
    },
    {
     "name": "stderr",
     "output_type": "stream",
     "text": [
      "\r",
      "4-echo monoexponential:  23%|██▎       | 4641/20176 [00:07<00:25, 604.23it/s]"
     ]
    },
    {
     "name": "stderr",
     "output_type": "stream",
     "text": [
      "\r",
      "4-echo monoexponential:  23%|██▎       | 4702/20176 [00:08<00:26, 587.31it/s]"
     ]
    },
    {
     "name": "stderr",
     "output_type": "stream",
     "text": [
      "\r",
      "4-echo monoexponential:  24%|██▎       | 4763/20176 [00:08<00:25, 593.16it/s]"
     ]
    },
    {
     "name": "stderr",
     "output_type": "stream",
     "text": [
      "\r",
      "4-echo monoexponential:  24%|██▍       | 4823/20176 [00:08<00:25, 593.79it/s]"
     ]
    },
    {
     "name": "stderr",
     "output_type": "stream",
     "text": [
      "\r",
      "4-echo monoexponential:  24%|██▍       | 4883/20176 [00:08<00:25, 589.89it/s]"
     ]
    },
    {
     "name": "stderr",
     "output_type": "stream",
     "text": [
      "\r",
      "4-echo monoexponential:  25%|██▍       | 4944/20176 [00:08<00:25, 594.68it/s]"
     ]
    },
    {
     "name": "stderr",
     "output_type": "stream",
     "text": [
      "\r",
      "4-echo monoexponential:  25%|██▍       | 5005/20176 [00:08<00:25, 595.32it/s]"
     ]
    },
    {
     "name": "stderr",
     "output_type": "stream",
     "text": [
      "\r",
      "4-echo monoexponential:  25%|██▌       | 5068/20176 [00:08<00:25, 603.50it/s]"
     ]
    },
    {
     "name": "stderr",
     "output_type": "stream",
     "text": [
      "\r",
      "4-echo monoexponential:  25%|██▌       | 5132/20176 [00:08<00:24, 612.48it/s]"
     ]
    },
    {
     "name": "stderr",
     "output_type": "stream",
     "text": [
      "\r",
      "4-echo monoexponential:  26%|██▌       | 5195/20176 [00:08<00:24, 614.90it/s]"
     ]
    },
    {
     "name": "stderr",
     "output_type": "stream",
     "text": [
      "\r",
      "4-echo monoexponential:  26%|██▌       | 5258/20176 [00:08<00:24, 619.02it/s]"
     ]
    },
    {
     "name": "stderr",
     "output_type": "stream",
     "text": [
      "\r",
      "4-echo monoexponential:  26%|██▋       | 5320/20176 [00:09<00:24, 616.45it/s]"
     ]
    },
    {
     "name": "stderr",
     "output_type": "stream",
     "text": [
      "\r",
      "4-echo monoexponential:  27%|██▋       | 5382/20176 [00:09<00:24, 611.78it/s]"
     ]
    },
    {
     "name": "stderr",
     "output_type": "stream",
     "text": [
      "\r",
      "4-echo monoexponential:  27%|██▋       | 5444/20176 [00:09<00:25, 587.18it/s]"
     ]
    },
    {
     "name": "stderr",
     "output_type": "stream",
     "text": [
      "\r",
      "4-echo monoexponential:  27%|██▋       | 5503/20176 [00:09<00:24, 586.96it/s]"
     ]
    },
    {
     "name": "stderr",
     "output_type": "stream",
     "text": [
      "\r",
      "4-echo monoexponential:  28%|██▊       | 5564/20176 [00:09<00:24, 591.70it/s]"
     ]
    },
    {
     "name": "stderr",
     "output_type": "stream",
     "text": [
      "\r",
      "4-echo monoexponential:  28%|██▊       | 5624/20176 [00:09<00:24, 587.09it/s]"
     ]
    },
    {
     "name": "stderr",
     "output_type": "stream",
     "text": [
      "\r",
      "4-echo monoexponential:  28%|██▊       | 5686/20176 [00:09<00:24, 595.51it/s]"
     ]
    },
    {
     "name": "stderr",
     "output_type": "stream",
     "text": [
      "\r",
      "4-echo monoexponential:  28%|██▊       | 5749/20176 [00:09<00:23, 603.90it/s]"
     ]
    },
    {
     "name": "stderr",
     "output_type": "stream",
     "text": [
      "\r",
      "4-echo monoexponential:  29%|██▉       | 5813/20176 [00:09<00:23, 613.16it/s]"
     ]
    },
    {
     "name": "stderr",
     "output_type": "stream",
     "text": [
      "\r",
      "4-echo monoexponential:  29%|██▉       | 5875/20176 [00:09<00:23, 613.54it/s]"
     ]
    },
    {
     "name": "stderr",
     "output_type": "stream",
     "text": [
      "\r",
      "4-echo monoexponential:  29%|██▉       | 5937/20176 [00:10<00:23, 613.36it/s]"
     ]
    },
    {
     "name": "stderr",
     "output_type": "stream",
     "text": [
      "\r",
      "4-echo monoexponential:  30%|██▉       | 5999/20176 [00:10<00:23, 605.00it/s]"
     ]
    },
    {
     "name": "stderr",
     "output_type": "stream",
     "text": [
      "\r",
      "4-echo monoexponential:  30%|███       | 6060/20176 [00:10<00:23, 604.61it/s]"
     ]
    },
    {
     "name": "stderr",
     "output_type": "stream",
     "text": [
      "\r",
      "4-echo monoexponential:  30%|███       | 6122/20176 [00:10<00:23, 606.67it/s]"
     ]
    },
    {
     "name": "stderr",
     "output_type": "stream",
     "text": [
      "\r",
      "4-echo monoexponential:  31%|███       | 6183/20176 [00:10<00:23, 595.75it/s]"
     ]
    },
    {
     "name": "stderr",
     "output_type": "stream",
     "text": [
      "\r",
      "4-echo monoexponential:  31%|███       | 6243/20176 [00:10<00:24, 573.70it/s]"
     ]
    },
    {
     "name": "stderr",
     "output_type": "stream",
     "text": [
      "\r",
      "4-echo monoexponential:  31%|███       | 6302/20176 [00:10<00:24, 576.58it/s]"
     ]
    },
    {
     "name": "stderr",
     "output_type": "stream",
     "text": [
      "\r",
      "4-echo monoexponential:  32%|███▏      | 6360/20176 [00:10<00:24, 575.02it/s]"
     ]
    },
    {
     "name": "stderr",
     "output_type": "stream",
     "text": [
      "\r",
      "4-echo monoexponential:  32%|███▏      | 6419/20176 [00:10<00:23, 579.07it/s]"
     ]
    },
    {
     "name": "stderr",
     "output_type": "stream",
     "text": [
      "\r",
      "4-echo monoexponential:  32%|███▏      | 6482/20176 [00:10<00:23, 593.93it/s]"
     ]
    },
    {
     "name": "stderr",
     "output_type": "stream",
     "text": [
      "\r",
      "4-echo monoexponential:  32%|███▏      | 6546/20176 [00:11<00:22, 604.19it/s]"
     ]
    },
    {
     "name": "stderr",
     "output_type": "stream",
     "text": [
      "\r",
      "4-echo monoexponential:  33%|███▎      | 6609/20176 [00:11<00:22, 610.27it/s]"
     ]
    },
    {
     "name": "stderr",
     "output_type": "stream",
     "text": [
      "\r",
      "4-echo monoexponential:  33%|███▎      | 6671/20176 [00:11<00:22, 608.86it/s]"
     ]
    },
    {
     "name": "stderr",
     "output_type": "stream",
     "text": [
      "\r",
      "4-echo monoexponential:  33%|███▎      | 6732/20176 [00:11<00:22, 608.37it/s]"
     ]
    },
    {
     "name": "stderr",
     "output_type": "stream",
     "text": [
      "\r",
      "4-echo monoexponential:  34%|███▎      | 6795/20176 [00:11<00:21, 613.91it/s]"
     ]
    },
    {
     "name": "stderr",
     "output_type": "stream",
     "text": [
      "\r",
      "4-echo monoexponential:  34%|███▍      | 6857/20176 [00:11<00:22, 603.09it/s]"
     ]
    },
    {
     "name": "stderr",
     "output_type": "stream",
     "text": [
      "\r",
      "4-echo monoexponential:  34%|███▍      | 6918/20176 [00:11<00:22, 602.26it/s]"
     ]
    },
    {
     "name": "stderr",
     "output_type": "stream",
     "text": [
      "\r",
      "4-echo monoexponential:  35%|███▍      | 6979/20176 [00:11<00:23, 573.07it/s]"
     ]
    },
    {
     "name": "stderr",
     "output_type": "stream",
     "text": [
      "\r",
      "4-echo monoexponential:  35%|███▍      | 7039/20176 [00:11<00:22, 579.98it/s]"
     ]
    },
    {
     "name": "stderr",
     "output_type": "stream",
     "text": [
      "\r",
      "4-echo monoexponential:  35%|███▌      | 7099/20176 [00:12<00:22, 584.12it/s]"
     ]
    },
    {
     "name": "stderr",
     "output_type": "stream",
     "text": [
      "\r",
      "4-echo monoexponential:  35%|███▌      | 7161/20176 [00:12<00:21, 592.93it/s]"
     ]
    },
    {
     "name": "stderr",
     "output_type": "stream",
     "text": [
      "\r",
      "4-echo monoexponential:  36%|███▌      | 7221/20176 [00:12<00:22, 584.78it/s]"
     ]
    },
    {
     "name": "stderr",
     "output_type": "stream",
     "text": [
      "\r",
      "4-echo monoexponential:  36%|███▌      | 7286/20176 [00:12<00:21, 601.25it/s]"
     ]
    },
    {
     "name": "stderr",
     "output_type": "stream",
     "text": [
      "\r",
      "4-echo monoexponential:  36%|███▋      | 7349/20176 [00:12<00:21, 609.65it/s]"
     ]
    },
    {
     "name": "stderr",
     "output_type": "stream",
     "text": [
      "\r",
      "4-echo monoexponential:  37%|███▋      | 7412/20176 [00:12<00:20, 613.45it/s]"
     ]
    },
    {
     "name": "stderr",
     "output_type": "stream",
     "text": [
      "\r",
      "4-echo monoexponential:  37%|███▋      | 7474/20176 [00:12<00:21, 598.90it/s]"
     ]
    },
    {
     "name": "stderr",
     "output_type": "stream",
     "text": [
      "\r",
      "4-echo monoexponential:  37%|███▋      | 7535/20176 [00:12<00:21, 599.29it/s]"
     ]
    },
    {
     "name": "stderr",
     "output_type": "stream",
     "text": [
      "\r",
      "4-echo monoexponential:  38%|███▊      | 7597/20176 [00:12<00:20, 604.60it/s]"
     ]
    },
    {
     "name": "stderr",
     "output_type": "stream",
     "text": [
      "\r",
      "4-echo monoexponential:  38%|███▊      | 7660/20176 [00:12<00:20, 609.64it/s]"
     ]
    },
    {
     "name": "stderr",
     "output_type": "stream",
     "text": [
      "\r",
      "4-echo monoexponential:  38%|███▊      | 7722/20176 [00:13<00:20, 597.63it/s]"
     ]
    },
    {
     "name": "stderr",
     "output_type": "stream",
     "text": [
      "\r",
      "4-echo monoexponential:  39%|███▊      | 7782/20176 [00:13<00:21, 583.15it/s]"
     ]
    },
    {
     "name": "stderr",
     "output_type": "stream",
     "text": [
      "\r",
      "4-echo monoexponential:  39%|███▉      | 7841/20176 [00:13<00:21, 583.27it/s]"
     ]
    },
    {
     "name": "stderr",
     "output_type": "stream",
     "text": [
      "\r",
      "4-echo monoexponential:  39%|███▉      | 7900/20176 [00:13<00:21, 583.31it/s]"
     ]
    },
    {
     "name": "stderr",
     "output_type": "stream",
     "text": [
      "\r",
      "4-echo monoexponential:  39%|███▉      | 7960/20176 [00:13<00:20, 587.43it/s]"
     ]
    },
    {
     "name": "stderr",
     "output_type": "stream",
     "text": [
      "\r",
      "4-echo monoexponential:  40%|███▉      | 8019/20176 [00:13<00:20, 586.60it/s]"
     ]
    },
    {
     "name": "stderr",
     "output_type": "stream",
     "text": [
      "\r",
      "4-echo monoexponential:  40%|████      | 8081/20176 [00:13<00:20, 594.37it/s]"
     ]
    },
    {
     "name": "stderr",
     "output_type": "stream",
     "text": [
      "\r",
      "4-echo monoexponential:  40%|████      | 8144/20176 [00:13<00:19, 603.80it/s]"
     ]
    },
    {
     "name": "stderr",
     "output_type": "stream",
     "text": [
      "\r",
      "4-echo monoexponential:  41%|████      | 8206/20176 [00:13<00:19, 607.39it/s]"
     ]
    },
    {
     "name": "stderr",
     "output_type": "stream",
     "text": [
      "\r",
      "4-echo monoexponential:  41%|████      | 8268/20176 [00:13<00:19, 610.07it/s]"
     ]
    },
    {
     "name": "stderr",
     "output_type": "stream",
     "text": [
      "\r",
      "4-echo monoexponential:  41%|████▏     | 8330/20176 [00:14<00:19, 611.47it/s]"
     ]
    },
    {
     "name": "stderr",
     "output_type": "stream",
     "text": [
      "\r",
      "4-echo monoexponential:  42%|████▏     | 8392/20176 [00:14<00:19, 609.26it/s]"
     ]
    },
    {
     "name": "stderr",
     "output_type": "stream",
     "text": [
      "\r",
      "4-echo monoexponential:  42%|████▏     | 8454/20176 [00:14<00:19, 611.30it/s]"
     ]
    },
    {
     "name": "stderr",
     "output_type": "stream",
     "text": [
      "\r",
      "4-echo monoexponential:  42%|████▏     | 8516/20176 [00:14<00:19, 611.35it/s]"
     ]
    },
    {
     "name": "stderr",
     "output_type": "stream",
     "text": [
      "\r",
      "4-echo monoexponential:  43%|████▎     | 8578/20176 [00:14<00:19, 590.82it/s]"
     ]
    },
    {
     "name": "stderr",
     "output_type": "stream",
     "text": [
      "\r",
      "4-echo monoexponential:  43%|████▎     | 8638/20176 [00:14<00:19, 577.86it/s]"
     ]
    },
    {
     "name": "stderr",
     "output_type": "stream",
     "text": [
      "\r",
      "4-echo monoexponential:  43%|████▎     | 8697/20176 [00:14<00:19, 577.12it/s]"
     ]
    },
    {
     "name": "stderr",
     "output_type": "stream",
     "text": [
      "\r",
      "4-echo monoexponential:  43%|████▎     | 8756/20176 [00:14<00:19, 578.83it/s]"
     ]
    },
    {
     "name": "stderr",
     "output_type": "stream",
     "text": [
      "\r",
      "4-echo monoexponential:  44%|████▎     | 8819/20176 [00:14<00:19, 591.41it/s]"
     ]
    },
    {
     "name": "stderr",
     "output_type": "stream",
     "text": [
      "\r",
      "4-echo monoexponential:  44%|████▍     | 8879/20176 [00:14<00:19, 590.42it/s]"
     ]
    },
    {
     "name": "stderr",
     "output_type": "stream",
     "text": [
      "\r",
      "4-echo monoexponential:  44%|████▍     | 8939/20176 [00:15<00:18, 591.91it/s]"
     ]
    },
    {
     "name": "stderr",
     "output_type": "stream",
     "text": [
      "\r",
      "4-echo monoexponential:  45%|████▍     | 9002/20176 [00:15<00:18, 601.09it/s]"
     ]
    },
    {
     "name": "stderr",
     "output_type": "stream",
     "text": [
      "\r",
      "4-echo monoexponential:  45%|████▍     | 9063/20176 [00:15<00:18, 600.16it/s]"
     ]
    },
    {
     "name": "stderr",
     "output_type": "stream",
     "text": [
      "\r",
      "4-echo monoexponential:  45%|████▌     | 9125/20176 [00:15<00:18, 604.22it/s]"
     ]
    },
    {
     "name": "stderr",
     "output_type": "stream",
     "text": [
      "\r",
      "4-echo monoexponential:  46%|████▌     | 9186/20176 [00:15<00:19, 561.98it/s]"
     ]
    },
    {
     "name": "stderr",
     "output_type": "stream",
     "text": [
      "\r",
      "4-echo monoexponential:  46%|████▌     | 9243/20176 [00:15<00:19, 562.43it/s]"
     ]
    },
    {
     "name": "stderr",
     "output_type": "stream",
     "text": [
      "\r",
      "4-echo monoexponential:  46%|████▌     | 9304/20176 [00:15<00:18, 573.89it/s]"
     ]
    },
    {
     "name": "stderr",
     "output_type": "stream",
     "text": [
      "\r",
      "4-echo monoexponential:  46%|████▋     | 9363/20176 [00:15<00:18, 576.11it/s]"
     ]
    },
    {
     "name": "stderr",
     "output_type": "stream",
     "text": [
      "\r",
      "4-echo monoexponential:  47%|████▋     | 9421/20176 [00:15<00:18, 576.50it/s]"
     ]
    },
    {
     "name": "stderr",
     "output_type": "stream",
     "text": [
      "\r",
      "4-echo monoexponential:  47%|████▋     | 9479/20176 [00:16<00:18, 576.46it/s]"
     ]
    },
    {
     "name": "stderr",
     "output_type": "stream",
     "text": [
      "\r",
      "4-echo monoexponential:  47%|████▋     | 9537/20176 [00:16<00:18, 575.19it/s]"
     ]
    },
    {
     "name": "stderr",
     "output_type": "stream",
     "text": [
      "\r",
      "4-echo monoexponential:  48%|████▊     | 9599/20176 [00:16<00:18, 585.49it/s]"
     ]
    },
    {
     "name": "stderr",
     "output_type": "stream",
     "text": [
      "\r",
      "4-echo monoexponential:  48%|████▊     | 9658/20176 [00:16<00:18, 581.92it/s]"
     ]
    },
    {
     "name": "stderr",
     "output_type": "stream",
     "text": [
      "\r",
      "4-echo monoexponential:  48%|████▊     | 9721/20176 [00:16<00:17, 593.65it/s]"
     ]
    },
    {
     "name": "stderr",
     "output_type": "stream",
     "text": [
      "\r",
      "4-echo monoexponential:  48%|████▊     | 9781/20176 [00:16<00:17, 593.41it/s]"
     ]
    },
    {
     "name": "stderr",
     "output_type": "stream",
     "text": [
      "\r",
      "4-echo monoexponential:  49%|████▉     | 9841/20176 [00:16<00:17, 587.66it/s]"
     ]
    },
    {
     "name": "stderr",
     "output_type": "stream",
     "text": [
      "\r",
      "4-echo monoexponential:  49%|████▉     | 9904/20176 [00:16<00:17, 598.02it/s]"
     ]
    },
    {
     "name": "stderr",
     "output_type": "stream",
     "text": [
      "\r",
      "4-echo monoexponential:  49%|████▉     | 9968/20176 [00:16<00:16, 610.25it/s]"
     ]
    },
    {
     "name": "stderr",
     "output_type": "stream",
     "text": [
      "\r",
      "4-echo monoexponential:  50%|████▉     | 10032/20176 [00:16<00:16, 618.32it/s]"
     ]
    },
    {
     "name": "stderr",
     "output_type": "stream",
     "text": [
      "\r",
      "4-echo monoexponential:  50%|█████     | 10094/20176 [00:17<00:16, 607.72it/s]"
     ]
    },
    {
     "name": "stderr",
     "output_type": "stream",
     "text": [
      "\r",
      "4-echo monoexponential:  50%|█████     | 10155/20176 [00:17<00:16, 604.43it/s]"
     ]
    },
    {
     "name": "stderr",
     "output_type": "stream",
     "text": [
      "\r",
      "4-echo monoexponential:  51%|█████     | 10216/20176 [00:17<00:17, 582.61it/s]"
     ]
    },
    {
     "name": "stderr",
     "output_type": "stream",
     "text": [
      "\r",
      "4-echo monoexponential:  51%|█████     | 10277/20176 [00:17<00:16, 587.91it/s]"
     ]
    },
    {
     "name": "stderr",
     "output_type": "stream",
     "text": [
      "\r",
      "4-echo monoexponential:  51%|█████     | 10336/20176 [00:17<00:16, 585.26it/s]"
     ]
    },
    {
     "name": "stderr",
     "output_type": "stream",
     "text": [
      "\r",
      "4-echo monoexponential:  52%|█████▏    | 10397/20176 [00:17<00:16, 591.00it/s]"
     ]
    },
    {
     "name": "stderr",
     "output_type": "stream",
     "text": [
      "\r",
      "4-echo monoexponential:  52%|█████▏    | 10457/20176 [00:17<00:16, 589.71it/s]"
     ]
    },
    {
     "name": "stderr",
     "output_type": "stream",
     "text": [
      "\r",
      "4-echo monoexponential:  52%|█████▏    | 10519/20176 [00:17<00:16, 598.11it/s]"
     ]
    },
    {
     "name": "stderr",
     "output_type": "stream",
     "text": [
      "\r",
      "4-echo monoexponential:  52%|█████▏    | 10583/20176 [00:17<00:15, 609.99it/s]"
     ]
    },
    {
     "name": "stderr",
     "output_type": "stream",
     "text": [
      "\r",
      "4-echo monoexponential:  53%|█████▎    | 10645/20176 [00:17<00:15, 601.23it/s]"
     ]
    },
    {
     "name": "stderr",
     "output_type": "stream",
     "text": [
      "\r",
      "4-echo monoexponential:  53%|█████▎    | 10707/20176 [00:18<00:15, 604.75it/s]"
     ]
    },
    {
     "name": "stderr",
     "output_type": "stream",
     "text": [
      "\r",
      "4-echo monoexponential:  53%|█████▎    | 10770/20176 [00:18<00:15, 611.10it/s]"
     ]
    },
    {
     "name": "stderr",
     "output_type": "stream",
     "text": [
      "\r",
      "4-echo monoexponential:  54%|█████▎    | 10833/20176 [00:18<00:15, 613.89it/s]"
     ]
    },
    {
     "name": "stderr",
     "output_type": "stream",
     "text": [
      "\r",
      "4-echo monoexponential:  54%|█████▍    | 10895/20176 [00:18<00:15, 609.00it/s]"
     ]
    },
    {
     "name": "stderr",
     "output_type": "stream",
     "text": [
      "\r",
      "4-echo monoexponential:  54%|█████▍    | 10956/20176 [00:18<00:15, 601.89it/s]"
     ]
    },
    {
     "name": "stderr",
     "output_type": "stream",
     "text": [
      "\r",
      "4-echo monoexponential:  55%|█████▍    | 11017/20176 [00:18<00:15, 573.93it/s]"
     ]
    },
    {
     "name": "stderr",
     "output_type": "stream",
     "text": [
      "\r",
      "4-echo monoexponential:  55%|█████▍    | 11076/20176 [00:18<00:15, 576.69it/s]"
     ]
    },
    {
     "name": "stderr",
     "output_type": "stream",
     "text": [
      "\r",
      "4-echo monoexponential:  55%|█████▌    | 11134/20176 [00:18<00:15, 575.56it/s]"
     ]
    },
    {
     "name": "stderr",
     "output_type": "stream",
     "text": [
      "\r",
      "4-echo monoexponential:  55%|█████▌    | 11197/20176 [00:18<00:15, 589.87it/s]"
     ]
    },
    {
     "name": "stderr",
     "output_type": "stream",
     "text": [
      "\r",
      "4-echo monoexponential:  56%|█████▌    | 11263/20176 [00:19<00:14, 607.14it/s]"
     ]
    },
    {
     "name": "stderr",
     "output_type": "stream",
     "text": [
      "\r",
      "4-echo monoexponential:  56%|█████▌    | 11325/20176 [00:19<00:14, 608.85it/s]"
     ]
    },
    {
     "name": "stderr",
     "output_type": "stream",
     "text": [
      "\r",
      "4-echo monoexponential:  56%|█████▋    | 11388/20176 [00:19<00:14, 613.39it/s]"
     ]
    },
    {
     "name": "stderr",
     "output_type": "stream",
     "text": [
      "\r",
      "4-echo monoexponential:  57%|█████▋    | 11450/20176 [00:19<00:14, 611.21it/s]"
     ]
    },
    {
     "name": "stderr",
     "output_type": "stream",
     "text": [
      "\r",
      "4-echo monoexponential:  57%|█████▋    | 11513/20176 [00:19<00:14, 614.20it/s]"
     ]
    },
    {
     "name": "stderr",
     "output_type": "stream",
     "text": [
      "\r",
      "4-echo monoexponential:  57%|█████▋    | 11577/20176 [00:19<00:13, 619.06it/s]"
     ]
    },
    {
     "name": "stderr",
     "output_type": "stream",
     "text": [
      "\r",
      "4-echo monoexponential:  58%|█████▊    | 11639/20176 [00:19<00:13, 616.60it/s]"
     ]
    },
    {
     "name": "stderr",
     "output_type": "stream",
     "text": [
      "\r",
      "4-echo monoexponential:  58%|█████▊    | 11701/20176 [00:19<00:13, 616.73it/s]"
     ]
    },
    {
     "name": "stderr",
     "output_type": "stream",
     "text": [
      "\r",
      "4-echo monoexponential:  58%|█████▊    | 11763/20176 [00:19<00:14, 566.10it/s]"
     ]
    },
    {
     "name": "stderr",
     "output_type": "stream",
     "text": [
      "\r",
      "4-echo monoexponential:  59%|█████▊    | 11821/20176 [00:19<00:14, 562.71it/s]"
     ]
    },
    {
     "name": "stderr",
     "output_type": "stream",
     "text": [
      "\r",
      "4-echo monoexponential:  59%|█████▉    | 11879/20176 [00:20<00:14, 567.44it/s]"
     ]
    },
    {
     "name": "stderr",
     "output_type": "stream",
     "text": [
      "\r",
      "4-echo monoexponential:  59%|█████▉    | 11939/20176 [00:20<00:14, 574.55it/s]"
     ]
    },
    {
     "name": "stderr",
     "output_type": "stream",
     "text": [
      "\r",
      "4-echo monoexponential:  59%|█████▉    | 11997/20176 [00:20<00:14, 567.41it/s]"
     ]
    },
    {
     "name": "stderr",
     "output_type": "stream",
     "text": [
      "\r",
      "4-echo monoexponential:  60%|█████▉    | 12058/20176 [00:20<00:14, 579.17it/s]"
     ]
    },
    {
     "name": "stderr",
     "output_type": "stream",
     "text": [
      "\r",
      "4-echo monoexponential:  60%|██████    | 12119/20176 [00:20<00:13, 587.08it/s]"
     ]
    },
    {
     "name": "stderr",
     "output_type": "stream",
     "text": [
      "\r",
      "4-echo monoexponential:  60%|██████    | 12181/20176 [00:20<00:13, 596.49it/s]"
     ]
    },
    {
     "name": "stderr",
     "output_type": "stream",
     "text": [
      "\r",
      "4-echo monoexponential:  61%|██████    | 12244/20176 [00:20<00:13, 606.14it/s]"
     ]
    },
    {
     "name": "stderr",
     "output_type": "stream",
     "text": [
      "\r",
      "4-echo monoexponential:  61%|██████    | 12307/20176 [00:20<00:12, 610.42it/s]"
     ]
    },
    {
     "name": "stderr",
     "output_type": "stream",
     "text": [
      "\r",
      "4-echo monoexponential:  61%|██████▏   | 12371/20176 [00:20<00:12, 614.61it/s]"
     ]
    },
    {
     "name": "stderr",
     "output_type": "stream",
     "text": [
      "\r",
      "4-echo monoexponential:  62%|██████▏   | 12434/20176 [00:20<00:12, 616.65it/s]"
     ]
    },
    {
     "name": "stderr",
     "output_type": "stream",
     "text": [
      "\r",
      "4-echo monoexponential:  62%|██████▏   | 12496/20176 [00:21<00:12, 616.78it/s]"
     ]
    },
    {
     "name": "stderr",
     "output_type": "stream",
     "text": [
      "\r",
      "4-echo monoexponential:  62%|██████▏   | 12558/20176 [00:21<00:13, 580.58it/s]"
     ]
    },
    {
     "name": "stderr",
     "output_type": "stream",
     "text": [
      "\r",
      "4-echo monoexponential:  63%|██████▎   | 12617/20176 [00:21<00:13, 570.40it/s]"
     ]
    },
    {
     "name": "stderr",
     "output_type": "stream",
     "text": [
      "\r",
      "4-echo monoexponential:  63%|██████▎   | 12681/20176 [00:21<00:12, 589.94it/s]"
     ]
    },
    {
     "name": "stderr",
     "output_type": "stream",
     "text": [
      "\r",
      "4-echo monoexponential:  63%|██████▎   | 12742/20176 [00:21<00:12, 594.97it/s]"
     ]
    },
    {
     "name": "stderr",
     "output_type": "stream",
     "text": [
      "\r",
      "4-echo monoexponential:  63%|██████▎   | 12805/20176 [00:21<00:12, 605.07it/s]"
     ]
    },
    {
     "name": "stderr",
     "output_type": "stream",
     "text": [
      "\r",
      "4-echo monoexponential:  64%|██████▍   | 12868/20176 [00:21<00:11, 611.14it/s]"
     ]
    },
    {
     "name": "stderr",
     "output_type": "stream",
     "text": [
      "\r",
      "4-echo monoexponential:  64%|██████▍   | 12931/20176 [00:21<00:11, 615.31it/s]"
     ]
    },
    {
     "name": "stderr",
     "output_type": "stream",
     "text": [
      "\r",
      "4-echo monoexponential:  64%|██████▍   | 12993/20176 [00:21<00:11, 613.49it/s]"
     ]
    },
    {
     "name": "stderr",
     "output_type": "stream",
     "text": [
      "\r",
      "4-echo monoexponential:  65%|██████▍   | 13057/20176 [00:22<00:11, 619.39it/s]"
     ]
    },
    {
     "name": "stderr",
     "output_type": "stream",
     "text": [
      "\r",
      "4-echo monoexponential:  65%|██████▌   | 13119/20176 [00:22<00:11, 617.98it/s]"
     ]
    },
    {
     "name": "stderr",
     "output_type": "stream",
     "text": [
      "\r",
      "4-echo monoexponential:  65%|██████▌   | 13181/20176 [00:22<00:11, 610.31it/s]"
     ]
    },
    {
     "name": "stderr",
     "output_type": "stream",
     "text": [
      "\r",
      "4-echo monoexponential:  66%|██████▌   | 13243/20176 [00:22<00:11, 610.16it/s]"
     ]
    },
    {
     "name": "stderr",
     "output_type": "stream",
     "text": [
      "\r",
      "4-echo monoexponential:  66%|██████▌   | 13305/20176 [00:22<00:11, 603.12it/s]"
     ]
    },
    {
     "name": "stderr",
     "output_type": "stream",
     "text": [
      "\r",
      "4-echo monoexponential:  66%|██████▌   | 13366/20176 [00:22<00:11, 574.58it/s]"
     ]
    },
    {
     "name": "stderr",
     "output_type": "stream",
     "text": [
      "\r",
      "4-echo monoexponential:  67%|██████▋   | 13427/20176 [00:22<00:11, 583.46it/s]"
     ]
    },
    {
     "name": "stderr",
     "output_type": "stream",
     "text": [
      "\r",
      "4-echo monoexponential:  67%|██████▋   | 13486/20176 [00:22<00:11, 584.84it/s]"
     ]
    },
    {
     "name": "stderr",
     "output_type": "stream",
     "text": [
      "\r",
      "4-echo monoexponential:  67%|██████▋   | 13546/20176 [00:22<00:11, 588.41it/s]"
     ]
    },
    {
     "name": "stderr",
     "output_type": "stream",
     "text": [
      "\r",
      "4-echo monoexponential:  67%|██████▋   | 13608/20176 [00:22<00:11, 595.93it/s]"
     ]
    },
    {
     "name": "stderr",
     "output_type": "stream",
     "text": [
      "\r",
      "4-echo monoexponential:  68%|██████▊   | 13673/20176 [00:23<00:10, 608.95it/s]"
     ]
    },
    {
     "name": "stderr",
     "output_type": "stream",
     "text": [
      "\r",
      "4-echo monoexponential:  68%|██████▊   | 13737/20176 [00:23<00:10, 617.16it/s]"
     ]
    },
    {
     "name": "stderr",
     "output_type": "stream",
     "text": [
      "\r",
      "4-echo monoexponential:  68%|██████▊   | 13799/20176 [00:23<00:10, 616.62it/s]"
     ]
    },
    {
     "name": "stderr",
     "output_type": "stream",
     "text": [
      "\r",
      "4-echo monoexponential:  69%|██████▊   | 13861/20176 [00:23<00:10, 616.00it/s]"
     ]
    },
    {
     "name": "stderr",
     "output_type": "stream",
     "text": [
      "\r",
      "4-echo monoexponential:  69%|██████▉   | 13923/20176 [00:23<00:10, 614.61it/s]"
     ]
    },
    {
     "name": "stderr",
     "output_type": "stream",
     "text": [
      "\r",
      "4-echo monoexponential:  69%|██████▉   | 13987/20176 [00:23<00:09, 619.84it/s]"
     ]
    },
    {
     "name": "stderr",
     "output_type": "stream",
     "text": [
      "\r",
      "4-echo monoexponential:  70%|██████▉   | 14049/20176 [00:23<00:09, 615.34it/s]"
     ]
    },
    {
     "name": "stderr",
     "output_type": "stream",
     "text": [
      "\r",
      "4-echo monoexponential:  70%|██████▉   | 14111/20176 [00:23<00:10, 601.20it/s]"
     ]
    },
    {
     "name": "stderr",
     "output_type": "stream",
     "text": [
      "\r",
      "4-echo monoexponential:  70%|███████   | 14172/20176 [00:23<00:10, 586.32it/s]"
     ]
    },
    {
     "name": "stderr",
     "output_type": "stream",
     "text": [
      "\r",
      "4-echo monoexponential:  71%|███████   | 14231/20176 [00:23<00:10, 580.12it/s]"
     ]
    },
    {
     "name": "stderr",
     "output_type": "stream",
     "text": [
      "\r",
      "4-echo monoexponential:  71%|███████   | 14292/20176 [00:24<00:10, 587.86it/s]"
     ]
    },
    {
     "name": "stderr",
     "output_type": "stream",
     "text": [
      "\r",
      "4-echo monoexponential:  71%|███████   | 14353/20176 [00:24<00:09, 594.18it/s]"
     ]
    },
    {
     "name": "stderr",
     "output_type": "stream",
     "text": [
      "\r",
      "4-echo monoexponential:  71%|███████▏  | 14417/20176 [00:24<00:09, 605.84it/s]"
     ]
    },
    {
     "name": "stderr",
     "output_type": "stream",
     "text": [
      "\r",
      "4-echo monoexponential:  72%|███████▏  | 14484/20176 [00:24<00:09, 624.06it/s]"
     ]
    },
    {
     "name": "stderr",
     "output_type": "stream",
     "text": [
      "\r",
      "4-echo monoexponential:  72%|███████▏  | 14548/20176 [00:24<00:08, 626.44it/s]"
     ]
    },
    {
     "name": "stderr",
     "output_type": "stream",
     "text": [
      "\r",
      "4-echo monoexponential:  72%|███████▏  | 14611/20176 [00:24<00:08, 627.29it/s]"
     ]
    },
    {
     "name": "stderr",
     "output_type": "stream",
     "text": [
      "\r",
      "4-echo monoexponential:  73%|███████▎  | 14674/20176 [00:24<00:08, 616.78it/s]"
     ]
    },
    {
     "name": "stderr",
     "output_type": "stream",
     "text": [
      "\r",
      "4-echo monoexponential:  73%|███████▎  | 14736/20176 [00:24<00:08, 607.36it/s]"
     ]
    },
    {
     "name": "stderr",
     "output_type": "stream",
     "text": [
      "\r",
      "4-echo monoexponential:  73%|███████▎  | 14797/20176 [00:24<00:08, 607.23it/s]"
     ]
    },
    {
     "name": "stderr",
     "output_type": "stream",
     "text": [
      "\r",
      "4-echo monoexponential:  74%|███████▎  | 14858/20176 [00:25<00:09, 588.59it/s]"
     ]
    },
    {
     "name": "stderr",
     "output_type": "stream",
     "text": [
      "\r",
      "4-echo monoexponential:  74%|███████▍  | 14917/20176 [00:25<00:08, 587.91it/s]"
     ]
    },
    {
     "name": "stderr",
     "output_type": "stream",
     "text": [
      "\r",
      "4-echo monoexponential:  74%|███████▍  | 14977/20176 [00:25<00:08, 590.20it/s]"
     ]
    },
    {
     "name": "stderr",
     "output_type": "stream",
     "text": [
      "\r",
      "4-echo monoexponential:  75%|███████▍  | 15039/20176 [00:25<00:08, 596.45it/s]"
     ]
    },
    {
     "name": "stderr",
     "output_type": "stream",
     "text": [
      "\r",
      "4-echo monoexponential:  75%|███████▍  | 15100/20176 [00:25<00:08, 598.64it/s]"
     ]
    },
    {
     "name": "stderr",
     "output_type": "stream",
     "text": [
      "\r",
      "4-echo monoexponential:  75%|███████▌  | 15163/20176 [00:25<00:08, 605.93it/s]"
     ]
    },
    {
     "name": "stderr",
     "output_type": "stream",
     "text": [
      "\r",
      "4-echo monoexponential:  75%|███████▌  | 15224/20176 [00:25<00:08, 602.48it/s]"
     ]
    },
    {
     "name": "stderr",
     "output_type": "stream",
     "text": [
      "\r",
      "4-echo monoexponential:  76%|███████▌  | 15288/20176 [00:25<00:08, 611.00it/s]"
     ]
    },
    {
     "name": "stderr",
     "output_type": "stream",
     "text": [
      "\r",
      "4-echo monoexponential:  76%|███████▌  | 15352/20176 [00:25<00:07, 616.90it/s]"
     ]
    },
    {
     "name": "stderr",
     "output_type": "stream",
     "text": [
      "\r",
      "4-echo monoexponential:  76%|███████▋  | 15414/20176 [00:25<00:07, 612.01it/s]"
     ]
    },
    {
     "name": "stderr",
     "output_type": "stream",
     "text": [
      "\r",
      "4-echo monoexponential:  77%|███████▋  | 15476/20176 [00:26<00:07, 613.03it/s]"
     ]
    },
    {
     "name": "stderr",
     "output_type": "stream",
     "text": [
      "\r",
      "4-echo monoexponential:  77%|███████▋  | 15538/20176 [00:26<00:07, 610.59it/s]"
     ]
    },
    {
     "name": "stderr",
     "output_type": "stream",
     "text": [
      "\r",
      "4-echo monoexponential:  77%|███████▋  | 15600/20176 [00:26<00:07, 586.51it/s]"
     ]
    },
    {
     "name": "stderr",
     "output_type": "stream",
     "text": [
      "\r",
      "4-echo monoexponential:  78%|███████▊  | 15662/20176 [00:26<00:07, 594.11it/s]"
     ]
    },
    {
     "name": "stderr",
     "output_type": "stream",
     "text": [
      "\r",
      "4-echo monoexponential:  78%|███████▊  | 15723/20176 [00:26<00:07, 597.07it/s]"
     ]
    },
    {
     "name": "stderr",
     "output_type": "stream",
     "text": [
      "\r",
      "4-echo monoexponential:  78%|███████▊  | 15783/20176 [00:26<00:07, 589.75it/s]"
     ]
    },
    {
     "name": "stderr",
     "output_type": "stream",
     "text": [
      "\r",
      "4-echo monoexponential:  79%|███████▊  | 15843/20176 [00:26<00:07, 582.07it/s]"
     ]
    },
    {
     "name": "stderr",
     "output_type": "stream",
     "text": [
      "\r",
      "4-echo monoexponential:  79%|███████▉  | 15904/20176 [00:26<00:07, 589.00it/s]"
     ]
    },
    {
     "name": "stderr",
     "output_type": "stream",
     "text": [
      "\r",
      "4-echo monoexponential:  79%|███████▉  | 15966/20176 [00:26<00:07, 596.71it/s]"
     ]
    },
    {
     "name": "stderr",
     "output_type": "stream",
     "text": [
      "\r",
      "4-echo monoexponential:  79%|███████▉  | 16031/20176 [00:26<00:06, 611.96it/s]"
     ]
    },
    {
     "name": "stderr",
     "output_type": "stream",
     "text": [
      "\r",
      "4-echo monoexponential:  80%|███████▉  | 16093/20176 [00:27<00:06, 613.46it/s]"
     ]
    },
    {
     "name": "stderr",
     "output_type": "stream",
     "text": [
      "\r",
      "4-echo monoexponential:  80%|████████  | 16155/20176 [00:27<00:06, 607.08it/s]"
     ]
    },
    {
     "name": "stderr",
     "output_type": "stream",
     "text": [
      "\r",
      "4-echo monoexponential:  80%|████████  | 16216/20176 [00:27<00:06, 605.29it/s]"
     ]
    },
    {
     "name": "stderr",
     "output_type": "stream",
     "text": [
      "\r",
      "4-echo monoexponential:  81%|████████  | 16277/20176 [00:27<00:06, 604.59it/s]"
     ]
    },
    {
     "name": "stderr",
     "output_type": "stream",
     "text": [
      "\r",
      "4-echo monoexponential:  81%|████████  | 16338/20176 [00:27<00:06, 579.01it/s]"
     ]
    },
    {
     "name": "stderr",
     "output_type": "stream",
     "text": [
      "\r",
      "4-echo monoexponential:  81%|████████▏ | 16397/20176 [00:27<00:06, 580.67it/s]"
     ]
    },
    {
     "name": "stderr",
     "output_type": "stream",
     "text": [
      "\r",
      "4-echo monoexponential:  82%|████████▏ | 16456/20176 [00:27<00:06, 581.14it/s]"
     ]
    },
    {
     "name": "stderr",
     "output_type": "stream",
     "text": [
      "\r",
      "4-echo monoexponential:  82%|████████▏ | 16515/20176 [00:27<00:06, 570.99it/s]"
     ]
    },
    {
     "name": "stderr",
     "output_type": "stream",
     "text": [
      "\r",
      "4-echo monoexponential:  82%|████████▏ | 16575/20176 [00:27<00:06, 579.36it/s]"
     ]
    },
    {
     "name": "stderr",
     "output_type": "stream",
     "text": [
      "\r",
      "4-echo monoexponential:  82%|████████▏ | 16637/20176 [00:27<00:06, 589.03it/s]"
     ]
    },
    {
     "name": "stderr",
     "output_type": "stream",
     "text": [
      "\r",
      "4-echo monoexponential:  83%|████████▎ | 16701/20176 [00:28<00:05, 602.69it/s]"
     ]
    },
    {
     "name": "stderr",
     "output_type": "stream",
     "text": [
      "\r",
      "4-echo monoexponential:  83%|████████▎ | 16765/20176 [00:28<00:05, 612.62it/s]"
     ]
    },
    {
     "name": "stderr",
     "output_type": "stream",
     "text": [
      "\r",
      "4-echo monoexponential:  83%|████████▎ | 16827/20176 [00:28<00:05, 608.13it/s]"
     ]
    },
    {
     "name": "stderr",
     "output_type": "stream",
     "text": [
      "\r",
      "4-echo monoexponential:  84%|████████▎ | 16888/20176 [00:28<00:05, 604.71it/s]"
     ]
    },
    {
     "name": "stderr",
     "output_type": "stream",
     "text": [
      "\r",
      "4-echo monoexponential:  84%|████████▍ | 16949/20176 [00:28<00:05, 604.88it/s]"
     ]
    },
    {
     "name": "stderr",
     "output_type": "stream",
     "text": [
      "\r",
      "4-echo monoexponential:  84%|████████▍ | 17010/20176 [00:28<00:05, 574.94it/s]"
     ]
    },
    {
     "name": "stderr",
     "output_type": "stream",
     "text": [
      "\r",
      "4-echo monoexponential:  85%|████████▍ | 17068/20176 [00:28<00:05, 571.45it/s]"
     ]
    },
    {
     "name": "stderr",
     "output_type": "stream",
     "text": [
      "\r",
      "4-echo monoexponential:  85%|████████▍ | 17128/20176 [00:28<00:05, 578.27it/s]"
     ]
    },
    {
     "name": "stderr",
     "output_type": "stream",
     "text": [
      "\r",
      "4-echo monoexponential:  85%|████████▌ | 17186/20176 [00:28<00:05, 569.37it/s]"
     ]
    },
    {
     "name": "stderr",
     "output_type": "stream",
     "text": [
      "\r",
      "4-echo monoexponential:  85%|████████▌ | 17246/20176 [00:29<00:05, 576.11it/s]"
     ]
    },
    {
     "name": "stderr",
     "output_type": "stream",
     "text": [
      "\r",
      "4-echo monoexponential:  86%|████████▌ | 17304/20176 [00:29<00:04, 575.95it/s]"
     ]
    },
    {
     "name": "stderr",
     "output_type": "stream",
     "text": [
      "\r",
      "4-echo monoexponential:  86%|████████▌ | 17367/20176 [00:29<00:04, 589.72it/s]"
     ]
    },
    {
     "name": "stderr",
     "output_type": "stream",
     "text": [
      "\r",
      "4-echo monoexponential:  86%|████████▋ | 17430/20176 [00:29<00:04, 598.63it/s]"
     ]
    },
    {
     "name": "stderr",
     "output_type": "stream",
     "text": [
      "\r",
      "4-echo monoexponential:  87%|████████▋ | 17490/20176 [00:29<00:04, 596.84it/s]"
     ]
    },
    {
     "name": "stderr",
     "output_type": "stream",
     "text": [
      "\r",
      "4-echo monoexponential:  87%|████████▋ | 17550/20176 [00:29<00:04, 593.87it/s]"
     ]
    },
    {
     "name": "stderr",
     "output_type": "stream",
     "text": [
      "\r",
      "4-echo monoexponential:  87%|████████▋ | 17610/20176 [00:29<00:04, 591.35it/s]"
     ]
    },
    {
     "name": "stderr",
     "output_type": "stream",
     "text": [
      "\r",
      "4-echo monoexponential:  88%|████████▊ | 17670/20176 [00:29<00:04, 567.42it/s]"
     ]
    },
    {
     "name": "stderr",
     "output_type": "stream",
     "text": [
      "\r",
      "4-echo monoexponential:  88%|████████▊ | 17728/20176 [00:29<00:04, 567.99it/s]"
     ]
    },
    {
     "name": "stderr",
     "output_type": "stream",
     "text": [
      "\r",
      "4-echo monoexponential:  88%|████████▊ | 17785/20176 [00:29<00:04, 565.89it/s]"
     ]
    },
    {
     "name": "stderr",
     "output_type": "stream",
     "text": [
      "\r",
      "4-echo monoexponential:  88%|████████▊ | 17845/20176 [00:30<00:04, 574.26it/s]"
     ]
    },
    {
     "name": "stderr",
     "output_type": "stream",
     "text": [
      "\r",
      "4-echo monoexponential:  89%|████████▊ | 17905/20176 [00:30<00:03, 579.98it/s]"
     ]
    },
    {
     "name": "stderr",
     "output_type": "stream",
     "text": [
      "\r",
      "4-echo monoexponential:  89%|████████▉ | 17968/20176 [00:30<00:03, 593.75it/s]"
     ]
    },
    {
     "name": "stderr",
     "output_type": "stream",
     "text": [
      "\r",
      "4-echo monoexponential:  89%|████████▉ | 18034/20176 [00:30<00:03, 611.21it/s]"
     ]
    },
    {
     "name": "stderr",
     "output_type": "stream",
     "text": [
      "\r",
      "4-echo monoexponential:  90%|████████▉ | 18096/20176 [00:30<00:03, 605.62it/s]"
     ]
    },
    {
     "name": "stderr",
     "output_type": "stream",
     "text": [
      "\r",
      "4-echo monoexponential:  90%|████████▉ | 18157/20176 [00:30<00:03, 598.40it/s]"
     ]
    },
    {
     "name": "stderr",
     "output_type": "stream",
     "text": [
      "\r",
      "4-echo monoexponential:  90%|█████████ | 18217/20176 [00:30<00:03, 577.81it/s]"
     ]
    },
    {
     "name": "stderr",
     "output_type": "stream",
     "text": [
      "\r",
      "4-echo monoexponential:  91%|█████████ | 18275/20176 [00:30<00:03, 562.20it/s]"
     ]
    },
    {
     "name": "stderr",
     "output_type": "stream",
     "text": [
      "\r",
      "4-echo monoexponential:  91%|█████████ | 18333/20176 [00:30<00:03, 566.42it/s]"
     ]
    },
    {
     "name": "stderr",
     "output_type": "stream",
     "text": [
      "\r",
      "4-echo monoexponential:  91%|█████████ | 18390/20176 [00:30<00:03, 558.64it/s]"
     ]
    },
    {
     "name": "stderr",
     "output_type": "stream",
     "text": [
      "\r",
      "4-echo monoexponential:  91%|█████████▏| 18450/20176 [00:31<00:03, 570.03it/s]"
     ]
    },
    {
     "name": "stderr",
     "output_type": "stream",
     "text": [
      "\r",
      "4-echo monoexponential:  92%|█████████▏| 18509/20176 [00:31<00:02, 574.29it/s]"
     ]
    },
    {
     "name": "stderr",
     "output_type": "stream",
     "text": [
      "\r",
      "4-echo monoexponential:  92%|█████████▏| 18569/20176 [00:31<00:02, 581.75it/s]"
     ]
    },
    {
     "name": "stderr",
     "output_type": "stream",
     "text": [
      "\r",
      "4-echo monoexponential:  92%|█████████▏| 18631/20176 [00:31<00:02, 592.79it/s]"
     ]
    },
    {
     "name": "stderr",
     "output_type": "stream",
     "text": [
      "\r",
      "4-echo monoexponential:  93%|█████████▎| 18691/20176 [00:31<00:02, 586.44it/s]"
     ]
    },
    {
     "name": "stderr",
     "output_type": "stream",
     "text": [
      "\r",
      "4-echo monoexponential:  93%|█████████▎| 18750/20176 [00:31<00:02, 571.88it/s]"
     ]
    },
    {
     "name": "stderr",
     "output_type": "stream",
     "text": [
      "\r",
      "4-echo monoexponential:  93%|█████████▎| 18808/20176 [00:31<00:02, 572.38it/s]"
     ]
    },
    {
     "name": "stderr",
     "output_type": "stream",
     "text": [
      "\r",
      "4-echo monoexponential:  94%|█████████▎| 18866/20176 [00:31<00:02, 568.36it/s]"
     ]
    },
    {
     "name": "stderr",
     "output_type": "stream",
     "text": [
      "\r",
      "4-echo monoexponential:  94%|█████████▍| 18925/20176 [00:31<00:02, 572.97it/s]"
     ]
    },
    {
     "name": "stderr",
     "output_type": "stream",
     "text": [
      "\r",
      "4-echo monoexponential:  94%|█████████▍| 18986/20176 [00:32<00:02, 583.06it/s]"
     ]
    },
    {
     "name": "stderr",
     "output_type": "stream",
     "text": [
      "\r",
      "4-echo monoexponential:  94%|█████████▍| 19050/20176 [00:32<00:01, 597.47it/s]"
     ]
    },
    {
     "name": "stderr",
     "output_type": "stream",
     "text": [
      "\r",
      "4-echo monoexponential:  95%|█████████▍| 19112/20176 [00:32<00:01, 603.78it/s]"
     ]
    },
    {
     "name": "stderr",
     "output_type": "stream",
     "text": [
      "\r",
      "4-echo monoexponential:  95%|█████████▌| 19173/20176 [00:32<00:01, 590.90it/s]"
     ]
    },
    {
     "name": "stderr",
     "output_type": "stream",
     "text": [
      "\r",
      "4-echo monoexponential:  95%|█████████▌| 19233/20176 [00:32<00:01, 573.61it/s]"
     ]
    },
    {
     "name": "stderr",
     "output_type": "stream",
     "text": [
      "\r",
      "4-echo monoexponential:  96%|█████████▌| 19291/20176 [00:32<00:01, 567.99it/s]"
     ]
    },
    {
     "name": "stderr",
     "output_type": "stream",
     "text": [
      "\r",
      "4-echo monoexponential:  96%|█████████▌| 19348/20176 [00:32<00:01, 561.31it/s]"
     ]
    },
    {
     "name": "stderr",
     "output_type": "stream",
     "text": [
      "\r",
      "4-echo monoexponential:  96%|█████████▌| 19405/20176 [00:32<00:01, 559.21it/s]"
     ]
    },
    {
     "name": "stderr",
     "output_type": "stream",
     "text": [
      "\r",
      "4-echo monoexponential:  96%|█████████▋| 19463/20176 [00:32<00:01, 564.58it/s]"
     ]
    },
    {
     "name": "stderr",
     "output_type": "stream",
     "text": [
      "\r",
      "4-echo monoexponential:  97%|█████████▋| 19524/20176 [00:32<00:01, 576.69it/s]"
     ]
    },
    {
     "name": "stderr",
     "output_type": "stream",
     "text": [
      "\r",
      "4-echo monoexponential:  97%|█████████▋| 19582/20176 [00:33<00:01, 567.76it/s]"
     ]
    },
    {
     "name": "stderr",
     "output_type": "stream",
     "text": [
      "\r",
      "4-echo monoexponential:  97%|█████████▋| 19642/20176 [00:33<00:00, 575.53it/s]"
     ]
    },
    {
     "name": "stderr",
     "output_type": "stream",
     "text": [
      "\r",
      "4-echo monoexponential:  98%|█████████▊| 19704/20176 [00:33<00:00, 586.16it/s]"
     ]
    },
    {
     "name": "stderr",
     "output_type": "stream",
     "text": [
      "\r",
      "4-echo monoexponential:  98%|█████████▊| 19769/20176 [00:33<00:00, 601.91it/s]"
     ]
    },
    {
     "name": "stderr",
     "output_type": "stream",
     "text": [
      "\r",
      "4-echo monoexponential:  98%|█████████▊| 19830/20176 [00:33<00:00, 597.28it/s]"
     ]
    },
    {
     "name": "stderr",
     "output_type": "stream",
     "text": [
      "\r",
      "4-echo monoexponential:  99%|█████████▊| 19890/20176 [00:33<00:00, 578.23it/s]"
     ]
    },
    {
     "name": "stderr",
     "output_type": "stream",
     "text": [
      "\r",
      "4-echo monoexponential:  99%|█████████▉| 19948/20176 [00:33<00:00, 573.64it/s]"
     ]
    },
    {
     "name": "stderr",
     "output_type": "stream",
     "text": [
      "\r",
      "4-echo monoexponential:  99%|█████████▉| 20006/20176 [00:33<00:00, 559.17it/s]"
     ]
    },
    {
     "name": "stderr",
     "output_type": "stream",
     "text": [
      "\r",
      "4-echo monoexponential:  99%|█████████▉| 20063/20176 [00:33<00:00, 561.31it/s]"
     ]
    },
    {
     "name": "stderr",
     "output_type": "stream",
     "text": [
      "\r",
      "4-echo monoexponential: 100%|█████████▉| 20120/20176 [00:33<00:00, 560.38it/s]"
     ]
    },
    {
     "name": "stderr",
     "output_type": "stream",
     "text": [
      "\r",
      "4-echo monoexponential: 100%|██████████| 20176/20176 [00:34<00:00, 591.74it/s]"
     ]
    },
    {
     "name": "stderr",
     "output_type": "stream",
     "text": [
      "\n"
     ]
    },
    {
     "name": "stderr",
     "output_type": "stream",
     "text": [
      "/opt/hostedtoolcache/Python/3.10.14/x64/lib/python3.10/site-packages/tedana/decay.py:541: RuntimeWarning: Mean of empty slice\n",
      "  rmse_map = np.nanmean(rmse, axis=1)\n"
     ]
    },
    {
     "name": "stderr",
     "output_type": "stream",
     "text": [
      "INFO     combine:make_optcom:192 Optimally combining data with voxel-wise T2* estimates\n"
     ]
    },
    {
     "name": "stderr",
     "output_type": "stream",
     "text": [
      "INFO     tedana:tedana_workflow:672 Writing optimally combined data set: /home/runner/work/multi-echo-data-analysis/multi-echo-data-analysis/data/multi-echo-data-analysis/tedana/sub-04570_task-rest_space-scanner_desc-optcom_bold.nii.gz\n"
     ]
    },
    {
     "name": "stderr",
     "output_type": "stream",
     "text": [
      "INFO     pca:tedpca:203 Computing PCA of optimally combined multi-echo data with selection criteria: mdl\n"
     ]
    },
    {
     "name": "stderr",
     "output_type": "stream",
     "text": [
      "/opt/hostedtoolcache/Python/3.10.14/x64/lib/python3.10/site-packages/tedana/io.py:833: UserWarning: Data array used to create a new image contains 64-bit ints. This is likely due to creating the array with numpy and passing `int` as the `dtype`. Many tools such as FSL and SPM cannot deal with int64 in Nifti images, so for compatibility the data has been converted to int32.\n",
      "  nii = new_img_like(ref_img, newdata, affine=affine, copy_header=copy_header)\n"
     ]
    },
    {
     "name": "stderr",
     "output_type": "stream",
     "text": [
      "INFO     pca:tedpca:243 Optimal number of components based on different criteria:\n"
     ]
    },
    {
     "name": "stderr",
     "output_type": "stream",
     "text": [
      "INFO     pca:tedpca:244 AIC: 77 | KIC: 67 | MDL: 43 | 90% varexp: 141 | 95% varexp: 186\n"
     ]
    },
    {
     "name": "stderr",
     "output_type": "stream",
     "text": [
      "INFO     pca:tedpca:249 Explained variance based on different criteria:\n"
     ]
    },
    {
     "name": "stderr",
     "output_type": "stream",
     "text": [
      "INFO     pca:tedpca:250 AIC: 0.816% | KIC: 0.801% | MDL: 0.757% | 90% varexp: 0.9% | 95% varexp: 0.95%\n"
     ]
    },
    {
     "name": "stderr",
     "output_type": "stream",
     "text": [
      "INFO     pca:tedpca:267 Plotting maPCA optimization curves\n"
     ]
    },
    {
     "name": "stderr",
     "output_type": "stream",
     "text": [
      "INFO     collect:generate_metrics:121 Calculating weight maps\n"
     ]
    },
    {
     "name": "stderr",
     "output_type": "stream",
     "text": [
      "INFO     collect:generate_metrics:130 Calculating parameter estimate maps for optimally combined data\n"
     ]
    },
    {
     "name": "stderr",
     "output_type": "stream",
     "text": [
      "INFO     collect:generate_metrics:143 Calculating z-statistic maps\n"
     ]
    },
    {
     "name": "stderr",
     "output_type": "stream",
     "text": [
      "INFO     collect:generate_metrics:153 Calculating F-statistic maps\n"
     ]
    },
    {
     "name": "stderr",
     "output_type": "stream",
     "text": [
      "INFO     collect:generate_metrics:173 Thresholding z-statistic maps\n"
     ]
    },
    {
     "name": "stderr",
     "output_type": "stream",
     "text": [
      "INFO     collect:generate_metrics:180 Calculating T2* F-statistic maps\n"
     ]
    },
    {
     "name": "stderr",
     "output_type": "stream",
     "text": [
      "INFO     collect:generate_metrics:187 Calculating S0 F-statistic maps\n"
     ]
    },
    {
     "name": "stderr",
     "output_type": "stream",
     "text": [
      "INFO     collect:generate_metrics:195 Counting significant voxels in T2* F-statistic maps\n"
     ]
    },
    {
     "name": "stderr",
     "output_type": "stream",
     "text": [
      "INFO     collect:generate_metrics:201 Counting significant voxels in S0 F-statistic maps\n"
     ]
    },
    {
     "name": "stderr",
     "output_type": "stream",
     "text": [
      "INFO     collect:generate_metrics:208 Thresholding optimal combination beta maps to match T2* F-statistic maps\n"
     ]
    },
    {
     "name": "stderr",
     "output_type": "stream",
     "text": [
      "INFO     collect:generate_metrics:214 Thresholding optimal combination beta maps to match S0 F-statistic maps\n"
     ]
    },
    {
     "name": "stderr",
     "output_type": "stream",
     "text": [
      "INFO     collect:generate_metrics:221 Calculating kappa and rho\n"
     ]
    },
    {
     "name": "stderr",
     "output_type": "stream",
     "text": [
      "INFO     collect:generate_metrics:230 Calculating variance explained\n"
     ]
    },
    {
     "name": "stderr",
     "output_type": "stream",
     "text": [
      "INFO     collect:generate_metrics:236 Calculating normalized variance explained\n"
     ]
    },
    {
     "name": "stderr",
     "output_type": "stream",
     "text": [
      "INFO     collect:generate_metrics:243 Calculating DSI between thresholded T2* F-statistic and optimal combination beta maps\n"
     ]
    },
    {
     "name": "stderr",
     "output_type": "stream",
     "text": [
      "INFO     collect:generate_metrics:254 Calculating DSI between thresholded S0 F-statistic and optimal combination beta maps\n"
     ]
    },
    {
     "name": "stderr",
     "output_type": "stream",
     "text": [
      "INFO     collect:generate_metrics:265 Calculating signal-noise t-statistics\n"
     ]
    },
    {
     "name": "stderr",
     "output_type": "stream",
     "text": [
      "INFO     collect:generate_metrics:303 Counting significant noise voxels from z-statistic maps\n"
     ]
    },
    {
     "name": "stderr",
     "output_type": "stream",
     "text": [
      "INFO     collect:generate_metrics:314 Calculating decision table score\n"
     ]
    },
    {
     "name": "stderr",
     "output_type": "stream",
     "text": [
      "INFO     pca:tedpca:397 Selected 43 components with 75.69% normalized variance explained using mdl dimensionality estimate\n"
     ]
    },
    {
     "name": "stderr",
     "output_type": "stream",
     "text": [
      "/opt/hostedtoolcache/Python/3.10.14/x64/lib/python3.10/site-packages/tedana/io.py:354: FutureWarning: Downcasting behavior in `replace` is deprecated and will be removed in a future version. To retain the old behavior, explicitly call `result.infer_objects(copy=False)`. To opt-in to the future behavior, set `pd.set_option('future.no_silent_downcasting', True)`\n",
      "  deblanked = data.replace(\"\", np.nan)\n"
     ]
    },
    {
     "name": "stderr",
     "output_type": "stream",
     "text": [
      "INFO     ica:tedica:80 ICA with random seed 42 converged in 62 iterations\n"
     ]
    },
    {
     "name": "stderr",
     "output_type": "stream",
     "text": [
      "INFO     collect:generate_metrics:121 Calculating weight maps\n"
     ]
    },
    {
     "name": "stderr",
     "output_type": "stream",
     "text": [
      "INFO     collect:generate_metrics:130 Calculating parameter estimate maps for optimally combined data\n"
     ]
    },
    {
     "name": "stderr",
     "output_type": "stream",
     "text": [
      "INFO     collect:generate_metrics:143 Calculating z-statistic maps\n"
     ]
    },
    {
     "name": "stderr",
     "output_type": "stream",
     "text": [
      "INFO     collect:generate_metrics:153 Calculating F-statistic maps\n"
     ]
    },
    {
     "name": "stderr",
     "output_type": "stream",
     "text": [
      "INFO     collect:generate_metrics:173 Thresholding z-statistic maps\n"
     ]
    },
    {
     "name": "stderr",
     "output_type": "stream",
     "text": [
      "INFO     collect:generate_metrics:180 Calculating T2* F-statistic maps\n"
     ]
    },
    {
     "name": "stderr",
     "output_type": "stream",
     "text": [
      "INFO     collect:generate_metrics:187 Calculating S0 F-statistic maps\n"
     ]
    },
    {
     "name": "stderr",
     "output_type": "stream",
     "text": [
      "INFO     collect:generate_metrics:195 Counting significant voxels in T2* F-statistic maps\n"
     ]
    },
    {
     "name": "stderr",
     "output_type": "stream",
     "text": [
      "INFO     collect:generate_metrics:201 Counting significant voxels in S0 F-statistic maps\n"
     ]
    },
    {
     "name": "stderr",
     "output_type": "stream",
     "text": [
      "INFO     collect:generate_metrics:208 Thresholding optimal combination beta maps to match T2* F-statistic maps\n"
     ]
    },
    {
     "name": "stderr",
     "output_type": "stream",
     "text": [
      "INFO     collect:generate_metrics:214 Thresholding optimal combination beta maps to match S0 F-statistic maps\n"
     ]
    },
    {
     "name": "stderr",
     "output_type": "stream",
     "text": [
      "INFO     collect:generate_metrics:221 Calculating kappa and rho\n"
     ]
    },
    {
     "name": "stderr",
     "output_type": "stream",
     "text": [
      "INFO     collect:generate_metrics:230 Calculating variance explained\n"
     ]
    },
    {
     "name": "stderr",
     "output_type": "stream",
     "text": [
      "INFO     collect:generate_metrics:236 Calculating normalized variance explained\n"
     ]
    },
    {
     "name": "stderr",
     "output_type": "stream",
     "text": [
      "INFO     collect:generate_metrics:243 Calculating DSI between thresholded T2* F-statistic and optimal combination beta maps\n"
     ]
    },
    {
     "name": "stderr",
     "output_type": "stream",
     "text": [
      "INFO     collect:generate_metrics:254 Calculating DSI between thresholded S0 F-statistic and optimal combination beta maps\n"
     ]
    },
    {
     "name": "stderr",
     "output_type": "stream",
     "text": [
      "INFO     collect:generate_metrics:265 Calculating signal-noise t-statistics\n"
     ]
    },
    {
     "name": "stderr",
     "output_type": "stream",
     "text": [
      "INFO     collect:generate_metrics:303 Counting significant noise voxels from z-statistic maps\n"
     ]
    },
    {
     "name": "stderr",
     "output_type": "stream",
     "text": [
      "INFO     collect:generate_metrics:314 Calculating decision table score\n"
     ]
    },
    {
     "name": "stderr",
     "output_type": "stream",
     "text": [
      "INFO     tedana:tedana_workflow:721 Selecting components from ICA results\n"
     ]
    },
    {
     "name": "stderr",
     "output_type": "stream",
     "text": [
      "INFO     tedica:automatic_selection:55 Performing ICA component selection\n"
     ]
    },
    {
     "name": "stderr",
     "output_type": "stream",
     "text": [
      "INFO     selection_nodes:manual_classify:104 Step 0: manual_classify: Set all to unclassified \n"
     ]
    },
    {
     "name": "stderr",
     "output_type": "stream",
     "text": [
      "INFO     selection_utils:log_decision_tree_step:406 Step 0: manual_classify applied to 43 components. 43 True -> unclassified. 0 False -> nochange.\n"
     ]
    },
    {
     "name": "stderr",
     "output_type": "stream",
     "text": [
      "INFO     selection_nodes:manual_classify:136 Step 0: manual_classify component classification tags are cleared\n"
     ]
    },
    {
     "name": "stderr",
     "output_type": "stream",
     "text": [
      "INFO     selection_utils:log_classification_counts:451 Step 0: Total component classifications: 43 unclassified\n"
     ]
    },
    {
     "name": "stderr",
     "output_type": "stream",
     "text": [
      "INFO     selection_nodes:dec_left_op_right:389 Step 1: left_op_right: rejected if rho>kappa, else nochange\n"
     ]
    },
    {
     "name": "stderr",
     "output_type": "stream",
     "text": [
      "INFO     selection_utils:log_decision_tree_step:406 Step 1: left_op_right applied to 43 components. 15 True -> rejected. 28 False -> nochange.\n"
     ]
    },
    {
     "name": "stderr",
     "output_type": "stream",
     "text": [
      "INFO     selection_utils:log_classification_counts:451 Step 1: Total component classifications: 15 rejected, 28 unclassified\n"
     ]
    },
    {
     "name": "stderr",
     "output_type": "stream",
     "text": [
      "INFO     selection_nodes:dec_left_op_right:389 Step 2: left_op_right: rejected if ['countsigFS0>countsigFT2 & countsigFT2>0'], else nochange\n"
     ]
    },
    {
     "name": "stderr",
     "output_type": "stream",
     "text": [
      "INFO     selection_utils:log_decision_tree_step:406 Step 2: left_op_right applied to 43 components. 15 True -> rejected. 28 False -> nochange.\n"
     ]
    },
    {
     "name": "stderr",
     "output_type": "stream",
     "text": [
      "INFO     selection_utils:log_classification_counts:451 Step 2: Total component classifications: 16 rejected, 27 unclassified\n"
     ]
    },
    {
     "name": "stderr",
     "output_type": "stream",
     "text": [
      "INFO     selection_nodes:calc_median:653 Step 3: calc_median: Median(median_varex)\n"
     ]
    },
    {
     "name": "stderr",
     "output_type": "stream",
     "text": [
      "INFO     selection_utils:log_decision_tree_step:418 Step 3: calc_median calculated: median_varex=0.636900830648422\n"
     ]
    },
    {
     "name": "stderr",
     "output_type": "stream",
     "text": [
      "INFO     selection_utils:log_classification_counts:451 Step 3: Total component classifications: 16 rejected, 27 unclassified\n"
     ]
    },
    {
     "name": "stderr",
     "output_type": "stream",
     "text": [
      "INFO     selection_nodes:dec_left_op_right:389 Step 4: left_op_right: rejected if ['dice_FS0>dice_FT2 & variance explained>0.64'], else nochange\n"
     ]
    },
    {
     "name": "stderr",
     "output_type": "stream",
     "text": [
      "INFO     selection_utils:log_decision_tree_step:406 Step 4: left_op_right applied to 43 components. 4 True -> rejected. 39 False -> nochange.\n"
     ]
    },
    {
     "name": "stderr",
     "output_type": "stream",
     "text": [
      "INFO     selection_utils:log_classification_counts:451 Step 4: Total component classifications: 16 rejected, 27 unclassified\n"
     ]
    },
    {
     "name": "stderr",
     "output_type": "stream",
     "text": [
      "INFO     selection_nodes:dec_left_op_right:389 Step 5: left_op_right: rejected if ['0>signal-noise_t & variance explained>0.64'], else nochange\n"
     ]
    },
    {
     "name": "stderr",
     "output_type": "stream",
     "text": [
      "INFO     selection_utils:log_decision_tree_step:406 Step 5: left_op_right applied to 43 components. 2 True -> rejected. 41 False -> nochange.\n"
     ]
    },
    {
     "name": "stderr",
     "output_type": "stream",
     "text": [
      "INFO     selection_utils:log_classification_counts:451 Step 5: Total component classifications: 18 rejected, 25 unclassified\n"
     ]
    },
    {
     "name": "stderr",
     "output_type": "stream",
     "text": [
      "INFO     selection_nodes:calc_kappa_elbow:757 Step 6: calc_kappa_elbow: Calc Kappa Elbow\n"
     ]
    },
    {
     "name": "stderr",
     "output_type": "stream",
     "text": [
      "INFO     selection_utils:kappa_elbow_kundu:621 Calculating kappa elbow based on min of all and nonsig components.\n"
     ]
    },
    {
     "name": "stderr",
     "output_type": "stream",
     "text": [
      "INFO     selection_utils:log_decision_tree_step:418 Step 6: calc_kappa_elbow calculated: kappa_elbow_kundu=24.00648297660876, kappa_allcomps_elbow=37.562890393711754, kappa_nonsig_elbow=24.00648297660876, varex_upper_p=0.8089089913339068\n"
     ]
    },
    {
     "name": "stderr",
     "output_type": "stream",
     "text": [
      "INFO     selection_utils:log_classification_counts:451 Step 6: Total component classifications: 18 rejected, 25 unclassified\n"
     ]
    },
    {
     "name": "stderr",
     "output_type": "stream",
     "text": [
      "INFO     selection_nodes:dec_reclassify_high_var_comps:1120 Step 7: reclassify_high_var_comps: Change unclassified to unclass_highvar for the top couple of components with the highest jumps in variance\n"
     ]
    },
    {
     "name": "stderr",
     "output_type": "stream",
     "text": [
      "INFO     selection_utils:log_decision_tree_step:406 Step 7: reclassify_high_var_comps applied to 25 components. 3 True -> unclass_highvar. 22 False -> nochange.\n"
     ]
    },
    {
     "name": "stderr",
     "output_type": "stream",
     "text": [
      "INFO     selection_utils:log_classification_counts:451 Step 7: Total component classifications: 18 rejected, 3 unclass_highvar, 22 unclassified\n"
     ]
    },
    {
     "name": "stderr",
     "output_type": "stream",
     "text": [
      "INFO     selection_nodes:calc_rho_elbow:882 Step 8: calc_rho_elbow: Calc Rho Elbow\n"
     ]
    },
    {
     "name": "stderr",
     "output_type": "stream",
     "text": [
      "INFO     selection_utils:log_decision_tree_step:418 Step 8: calc_rho_elbow calculated: rho_elbow_kundu=16.593474162932207, rho_allcomps_elbow=24.547042487264658, rho_unclassified_elbow=15.10541551551804, elbow_f05=10.127964486013928\n"
     ]
    },
    {
     "name": "stderr",
     "output_type": "stream",
     "text": [
      "INFO     selection_utils:log_classification_counts:451 Step 8: Total component classifications: 18 rejected, 3 unclass_highvar, 22 unclassified\n"
     ]
    },
    {
     "name": "stderr",
     "output_type": "stream",
     "text": [
      "INFO     selection_nodes:dec_left_op_right:389 Step 9: left_op_right: provisionalaccept if kappa>=24.01, else nochange\n"
     ]
    },
    {
     "name": "stderr",
     "output_type": "stream",
     "text": [
      "INFO     selection_utils:log_decision_tree_step:406 Step 9: left_op_right applied to 22 components. 16 True -> provisionalaccept. 6 False -> nochange.\n"
     ]
    },
    {
     "name": "stderr",
     "output_type": "stream",
     "text": [
      "INFO     selection_utils:log_classification_counts:451 Step 9: Total component classifications: 16 provisionalaccept, 18 rejected, 3 unclass_highvar, 6 unclassified\n"
     ]
    },
    {
     "name": "stderr",
     "output_type": "stream",
     "text": [
      "INFO     selection_nodes:dec_left_op_right:389 Step 10: left_op_right: unclassified if rho>16.59, else nochange\n"
     ]
    },
    {
     "name": "stderr",
     "output_type": "stream",
     "text": [
      "INFO     selection_utils:log_decision_tree_step:406 Step 10: left_op_right applied to 16 components. 6 True -> unclassified. 10 False -> nochange.\n"
     ]
    },
    {
     "name": "stderr",
     "output_type": "stream",
     "text": [
      "INFO     selection_utils:log_classification_counts:451 Step 10: Total component classifications: 10 provisionalaccept, 18 rejected, 3 unclass_highvar, 12 unclassified\n"
     ]
    },
    {
     "name": "stderr",
     "output_type": "stream",
     "text": [
      "INFO     selection_nodes:dec_classification_doesnt_exist:1009 Step 11: classification_doesnt_exist: Change ['provisionalaccept', 'unclassified', 'unclass_highvar'] to accepted if less than 2 components with provisionalaccept exist\n"
     ]
    },
    {
     "name": "stderr",
     "output_type": "stream",
     "text": [
      "INFO     selection_nodes:dec_classification_doesnt_exist:1011 Step 11: classification_doesnt_exist If nothing is provisionally accepted by this point, then rerun ICA & selection. If max iterations of rerunning done, then accept everything not already rejected\n"
     ]
    },
    {
     "name": "stderr",
     "output_type": "stream",
     "text": [
      "INFO     selection_utils:log_decision_tree_step:406 Step 11: classification_doesnt_exist applied to 25 components. None True -> 0. None False -> 25.\n"
     ]
    },
    {
     "name": "stderr",
     "output_type": "stream",
     "text": [
      "INFO     selection_utils:log_classification_counts:451 Step 11: Total component classifications: 10 provisionalaccept, 18 rejected, 3 unclass_highvar, 12 unclassified\n"
     ]
    },
    {
     "name": "stderr",
     "output_type": "stream",
     "text": [
      "INFO     selection_nodes:calc_varex_thresh:1308 Step 12: calc_varex_thresh: Calc varex_upper_thresh, 90th percentile threshold\n"
     ]
    },
    {
     "name": "stderr",
     "output_type": "stream",
     "text": [
      "INFO     selection_utils:log_decision_tree_step:418 Step 12: calc_varex_thresh calculated: varex_upper_thresh=1.059928225570154, upper_perc=90\n"
     ]
    },
    {
     "name": "stderr",
     "output_type": "stream",
     "text": [
      "INFO     selection_utils:log_classification_counts:451 Step 12: Total component classifications: 10 provisionalaccept, 18 rejected, 3 unclass_highvar, 12 unclassified\n"
     ]
    },
    {
     "name": "stderr",
     "output_type": "stream",
     "text": [
      "INFO     selection_nodes:calc_varex_thresh:1308 Step 13: calc_varex_thresh: Calc varex_lower_thresh, 25th percentile threshold\n"
     ]
    },
    {
     "name": "stderr",
     "output_type": "stream",
     "text": [
      "INFO     selection_utils:log_decision_tree_step:418 Step 13: calc_varex_thresh calculated: varex_lower_thresh=0.4036028541471611, lower_perc=25\n"
     ]
    },
    {
     "name": "stderr",
     "output_type": "stream",
     "text": [
      "INFO     selection_utils:log_classification_counts:451 Step 13: Total component classifications: 10 provisionalaccept, 18 rejected, 3 unclass_highvar, 12 unclassified\n"
     ]
    },
    {
     "name": "stderr",
     "output_type": "stream",
     "text": [
      "INFO     selection_utils:get_extend_factor:798 extend_factor=2.0, based on number of fMRI volumes\n"
     ]
    },
    {
     "name": "stderr",
     "output_type": "stream",
     "text": [
      "INFO     selection_utils:log_decision_tree_step:418 Step 14: calc_extend_factor calculated: extend_factor=2.0\n"
     ]
    },
    {
     "name": "stderr",
     "output_type": "stream",
     "text": [
      "INFO     selection_utils:log_classification_counts:451 Step 14: Total component classifications: 10 provisionalaccept, 18 rejected, 3 unclass_highvar, 12 unclassified\n"
     ]
    },
    {
     "name": "stderr",
     "output_type": "stream",
     "text": [
      "INFO     selection_utils:log_decision_tree_step:418 Step 15: calc_max_good_meanmetricrank calculated: max_good_meanmetricrank=20.0\n"
     ]
    },
    {
     "name": "stderr",
     "output_type": "stream",
     "text": [
      "INFO     selection_utils:log_classification_counts:451 Step 15: Total component classifications: 10 provisionalaccept, 18 rejected, 3 unclass_highvar, 12 unclassified\n"
     ]
    },
    {
     "name": "stderr",
     "output_type": "stream",
     "text": [
      "INFO     selection_utils:log_decision_tree_step:418 Step 16: calc_varex_kappa_ratio calculated: kappa_rate=76.84859750446638\n"
     ]
    },
    {
     "name": "stderr",
     "output_type": "stream",
     "text": [
      "INFO     selection_utils:log_classification_counts:451 Step 16: Total component classifications: 10 provisionalaccept, 18 rejected, 3 unclass_highvar, 12 unclassified\n"
     ]
    },
    {
     "name": "stderr",
     "output_type": "stream",
     "text": [
      "INFO     selection_nodes:dec_left_op_right:389 Step 17: left_op_right: rejected if ['d_table_score>20.0 & variance explained>2.0*1.06'], else nochange\n"
     ]
    },
    {
     "name": "stderr",
     "output_type": "stream",
     "text": [
      "INFO     selection_nodes:dec_left_op_right:391 Step 17: left_op_right If variance and d_table_scores are high, then reject\n"
     ]
    },
    {
     "name": "stderr",
     "output_type": "stream",
     "text": [
      "INFO     selection_utils:comptable_classification_changer:277 Step 17: No components fit criterion True to change classification\n"
     ]
    },
    {
     "name": "stderr",
     "output_type": "stream",
     "text": [
      "INFO     selection_utils:log_decision_tree_step:406 Step 17: left_op_right applied to 25 components. 0 True -> rejected. 25 False -> nochange.\n"
     ]
    },
    {
     "name": "stderr",
     "output_type": "stream",
     "text": [
      "INFO     selection_utils:log_classification_counts:451 Step 17: Total component classifications: 10 provisionalaccept, 18 rejected, 3 unclass_highvar, 12 unclassified\n"
     ]
    },
    {
     "name": "stderr",
     "output_type": "stream",
     "text": [
      "INFO     selection_nodes:dec_left_op_right:389 Step 18: left_op_right: accepted if ['d_table_score>20.0 & variance explained<=0.4 & kappa<=24.01'], else nochange\n"
     ]
    },
    {
     "name": "stderr",
     "output_type": "stream",
     "text": [
      "INFO     selection_nodes:dec_left_op_right:391 Step 18: left_op_right If low variance, accept even if bad kappa & d_table_scores\n"
     ]
    },
    {
     "name": "stderr",
     "output_type": "stream",
     "text": [
      "INFO     selection_utils:log_decision_tree_step:406 Step 18: left_op_right applied to 25 components. 6 True -> accepted. 19 False -> nochange.\n"
     ]
    },
    {
     "name": "stderr",
     "output_type": "stream",
     "text": [
      "INFO     selection_utils:log_classification_counts:451 Step 18: Total component classifications: 6 accepted, 9 provisionalaccept, 18 rejected, 3 unclass_highvar, 7 unclassified\n"
     ]
    },
    {
     "name": "stderr",
     "output_type": "stream",
     "text": [
      "INFO     selection_nodes:dec_classification_doesnt_exist:1009 Step 19: classification_doesnt_exist: Change ['provisionalaccept', 'unclassified', 'unclass_highvar'] to accepted if ['unclassified', 'unclass_highvar'] doesn't exist\n"
     ]
    },
    {
     "name": "stderr",
     "output_type": "stream",
     "text": [
      "INFO     selection_nodes:dec_classification_doesnt_exist:1011 Step 19: classification_doesnt_exist If nothing left is unclassified, then accept all\n"
     ]
    },
    {
     "name": "stderr",
     "output_type": "stream",
     "text": [
      "INFO     selection_utils:log_decision_tree_step:406 Step 19: classification_doesnt_exist applied to 19 components. None True -> 0. None False -> 19.\n"
     ]
    },
    {
     "name": "stderr",
     "output_type": "stream",
     "text": [
      "INFO     selection_utils:log_classification_counts:451 Step 19: Total component classifications: 6 accepted, 9 provisionalaccept, 18 rejected, 3 unclass_highvar, 7 unclassified\n"
     ]
    },
    {
     "name": "stderr",
     "output_type": "stream",
     "text": [
      "INFO     selection_nodes:calc_revised_meanmetricrank_guesses:1768 Step 20: calc_revised_meanmetricrank_guesses: Calc revised d_table_score & num accepted component guesses\n"
     ]
    },
    {
     "name": "stderr",
     "output_type": "stream",
     "text": [
      "INFO     selection_utils:log_decision_tree_step:418 Step 20: calc_revised_meanmetricrank_guesses calculated: num_acc_guess=13, conservative_guess=6.5, restrict_factor=2\n"
     ]
    },
    {
     "name": "stderr",
     "output_type": "stream",
     "text": [
      "INFO     selection_utils:log_classification_counts:451 Step 20: Total component classifications: 6 accepted, 9 provisionalaccept, 18 rejected, 3 unclass_highvar, 7 unclassified\n"
     ]
    },
    {
     "name": "stderr",
     "output_type": "stream",
     "text": [
      "INFO     selection_nodes:dec_left_op_right:389 Step 21: left_op_right: rejected if ['d_table_score_node20>6.5 & varex kappa ratio>2*2.0 & variance explained>2.0*1.06'], else nochange\n"
     ]
    },
    {
     "name": "stderr",
     "output_type": "stream",
     "text": [
      "INFO     selection_nodes:dec_left_op_right:391 Step 21: left_op_right Reject if a combination of kappa, variance, and other factors are ranked worse than others\n"
     ]
    },
    {
     "name": "stderr",
     "output_type": "stream",
     "text": [
      "INFO     selection_utils:log_decision_tree_step:406 Step 21: left_op_right applied to 19 components. 2 True -> rejected. 17 False -> nochange.\n"
     ]
    },
    {
     "name": "stderr",
     "output_type": "stream",
     "text": [
      "INFO     selection_utils:log_classification_counts:451 Step 21: Total component classifications: 6 accepted, 9 provisionalaccept, 20 rejected, 1 unclass_highvar, 7 unclassified\n"
     ]
    },
    {
     "name": "stderr",
     "output_type": "stream",
     "text": [
      "INFO     selection_nodes:dec_left_op_right:389 Step 22: left_op_right: rejected if ['d_table_score_node20>0.9*13 & variance explained>2.0*0.4'], else nochange\n"
     ]
    },
    {
     "name": "stderr",
     "output_type": "stream",
     "text": [
      "INFO     selection_nodes:dec_left_op_right:391 Step 22: left_op_right Reject if a combination of variance and ranks of other metrics are worse than others\n"
     ]
    },
    {
     "name": "stderr",
     "output_type": "stream",
     "text": [
      "INFO     selection_utils:log_decision_tree_step:406 Step 22: left_op_right applied to 17 components. 5 True -> rejected. 12 False -> nochange.\n"
     ]
    },
    {
     "name": "stderr",
     "output_type": "stream",
     "text": [
      "INFO     selection_utils:log_classification_counts:451 Step 22: Total component classifications: 6 accepted, 8 provisionalaccept, 25 rejected, 1 unclass_highvar, 3 unclassified\n"
     ]
    },
    {
     "name": "stderr",
     "output_type": "stream",
     "text": [
      "INFO     selection_nodes:calc_varex_thresh:1308 Step 23: calc_varex_thresh: Calc varex_new_lower_thresh, 25th percentile threshold\n"
     ]
    },
    {
     "name": "stderr",
     "output_type": "stream",
     "text": [
      "INFO     selection_nodes:calc_varex_thresh:1332 Step 23: calc_varex_thresh: num_highest_var_comps (13) > len(comps2use) (12). Setting to equal len(comps2use) since selection should not use more components than exist\n"
     ]
    },
    {
     "name": "stderr",
     "output_type": "stream",
     "text": [
      "INFO     selection_utils:log_decision_tree_step:418 Step 23: calc_varex_thresh calculated: varex_new_lower_thresh=0.5074016845951125, new_lower_perc=25\n"
     ]
    },
    {
     "name": "stderr",
     "output_type": "stream",
     "text": [
      "INFO     selection_utils:log_classification_counts:451 Step 23: Total component classifications: 6 accepted, 8 provisionalaccept, 25 rejected, 1 unclass_highvar, 3 unclassified\n"
     ]
    },
    {
     "name": "stderr",
     "output_type": "stream",
     "text": [
      "INFO     selection_nodes:dec_left_op_right:389 Step 24: left_op_right: accepted if ['d_table_score_node20>13 & variance explained>0.51'], else nochange\n"
     ]
    },
    {
     "name": "stderr",
     "output_type": "stream",
     "text": [
      "INFO     selection_nodes:dec_left_op_right:391 Step 24: left_op_right Accept components with a bad d_table_score, but are at the higher end of the remaining variance so more cautious to not remove\n"
     ]
    },
    {
     "name": "stderr",
     "output_type": "stream",
     "text": [
      "INFO     selection_utils:log_decision_tree_step:406 Step 24: left_op_right applied to 12 components. 1 True -> accepted. 11 False -> nochange.\n"
     ]
    },
    {
     "name": "stderr",
     "output_type": "stream",
     "text": [
      "INFO     selection_utils:log_classification_counts:451 Step 24: Total component classifications: 7 accepted, 8 provisionalaccept, 25 rejected, 1 unclass_highvar, 2 unclassified\n"
     ]
    },
    {
     "name": "stderr",
     "output_type": "stream",
     "text": [
      "INFO     selection_nodes:dec_left_op_right:389 Step 25: left_op_right: accepted if ['kappa<=24.01 & variance explained>0.51'], else nochange\n"
     ]
    },
    {
     "name": "stderr",
     "output_type": "stream",
     "text": [
      "INFO     selection_nodes:dec_left_op_right:391 Step 25: left_op_right For not already rejected components, accept ones below the kappa elbow, but at the higher end of the remaining variance so more cautious to not remove\n"
     ]
    },
    {
     "name": "stderr",
     "output_type": "stream",
     "text": [
      "INFO     selection_utils:comptable_classification_changer:277 Step 25: No components fit criterion True to change classification\n"
     ]
    },
    {
     "name": "stderr",
     "output_type": "stream",
     "text": [
      "INFO     selection_utils:log_decision_tree_step:406 Step 25: left_op_right applied to 11 components. 0 True -> accepted. 11 False -> nochange.\n"
     ]
    },
    {
     "name": "stderr",
     "output_type": "stream",
     "text": [
      "INFO     selection_utils:log_classification_counts:451 Step 25: Total component classifications: 7 accepted, 8 provisionalaccept, 25 rejected, 1 unclass_highvar, 2 unclassified\n"
     ]
    },
    {
     "name": "stderr",
     "output_type": "stream",
     "text": [
      "INFO     selection_nodes:manual_classify:104 Step 26: manual_classify: Set ['provisionalaccept', 'unclassified', 'unclass_highvar'] to accepted \n"
     ]
    },
    {
     "name": "stderr",
     "output_type": "stream",
     "text": [
      "INFO     selection_nodes:manual_classify:106 Step 26: manual_classify Anything still provisional (accepted or rejected) or unclassified should be accepted\n"
     ]
    },
    {
     "name": "stderr",
     "output_type": "stream",
     "text": [
      "INFO     selection_utils:log_decision_tree_step:406 Step 26: manual_classify applied to 11 components. 11 True -> accepted. 0 False -> nochange.\n"
     ]
    },
    {
     "name": "stderr",
     "output_type": "stream",
     "text": [
      "INFO     selection_utils:log_classification_counts:451 Step 26: Total component classifications: 18 accepted, 25 rejected\n"
     ]
    },
    {
     "name": "stderr",
     "output_type": "stream",
     "text": [
      "INFO     io:denoise_ts:560 Variance explained by decomposition: 91.66%\n"
     ]
    },
    {
     "name": "stderr",
     "output_type": "stream",
     "text": [
      "INFO     io:write_split_ts:632 Writing high-Kappa time series: /home/runner/work/multi-echo-data-analysis/multi-echo-data-analysis/data/multi-echo-data-analysis/tedana/sub-04570_task-rest_space-scanner_desc-optcomAccepted_bold.nii.gz\n"
     ]
    },
    {
     "name": "stderr",
     "output_type": "stream",
     "text": [
      "INFO     io:write_split_ts:640 Writing low-Kappa time series: /home/runner/work/multi-echo-data-analysis/multi-echo-data-analysis/data/multi-echo-data-analysis/tedana/sub-04570_task-rest_space-scanner_desc-optcomRejected_bold.nii.gz\n"
     ]
    },
    {
     "name": "stderr",
     "output_type": "stream",
     "text": [
      "INFO     io:write_split_ts:647 Writing denoised time series: /home/runner/work/multi-echo-data-analysis/multi-echo-data-analysis/data/multi-echo-data-analysis/tedana/sub-04570_task-rest_space-scanner_desc-denoised_bold.nii.gz\n"
     ]
    },
    {
     "name": "stderr",
     "output_type": "stream",
     "text": [
      "INFO     io:writeresults:696 Writing full ICA coefficient feature set: /home/runner/work/multi-echo-data-analysis/multi-echo-data-analysis/data/multi-echo-data-analysis/tedana/sub-04570_task-rest_space-scanner_desc-ICA_components.nii.gz\n"
     ]
    },
    {
     "name": "stderr",
     "output_type": "stream",
     "text": [
      "INFO     io:writeresults:700 Writing denoised ICA coefficient feature set: /home/runner/work/multi-echo-data-analysis/multi-echo-data-analysis/data/multi-echo-data-analysis/tedana/sub-04570_task-rest_space-scanner_desc-ICAAccepted_components.nii.gz\n"
     ]
    },
    {
     "name": "stderr",
     "output_type": "stream",
     "text": [
      "INFO     io:writeresults:706 Writing Z-normalized spatial component maps: /home/runner/work/multi-echo-data-analysis/multi-echo-data-analysis/data/multi-echo-data-analysis/tedana/sub-04570_task-rest_space-scanner_desc-ICAAccepted_stat-z_components.nii.gz\n"
     ]
    },
    {
     "name": "stderr",
     "output_type": "stream",
     "text": [
      "INFO     gscontrol:minimum_image_regression:167 Performing minimum image regression to remove spatially-diffuse noise\n"
     ]
    },
    {
     "name": "stderr",
     "output_type": "stream",
     "text": [
      "INFO     io:writeresults_echoes:746 Writing Kappa-filtered echo #1 timeseries\n"
     ]
    },
    {
     "name": "stderr",
     "output_type": "stream",
     "text": [
      "INFO     io:denoise_ts:560 Variance explained by decomposition: 83.21%\n"
     ]
    },
    {
     "name": "stderr",
     "output_type": "stream",
     "text": [
      "INFO     io:write_split_ts:629 Writing high-Kappa time series: /home/runner/work/multi-echo-data-analysis/multi-echo-data-analysis/data/multi-echo-data-analysis/tedana/sub-04570_task-rest_space-scanner_echo-1_desc-Accepted_bold.nii.gz\n"
     ]
    },
    {
     "name": "stderr",
     "output_type": "stream",
     "text": [
      "INFO     io:write_split_ts:637 Writing low-Kappa time series: /home/runner/work/multi-echo-data-analysis/multi-echo-data-analysis/data/multi-echo-data-analysis/tedana/sub-04570_task-rest_space-scanner_echo-1_desc-Rejected_bold.nii.gz\n"
     ]
    },
    {
     "name": "stderr",
     "output_type": "stream",
     "text": [
      "INFO     io:write_split_ts:647 Writing denoised time series: /home/runner/work/multi-echo-data-analysis/multi-echo-data-analysis/data/multi-echo-data-analysis/tedana/sub-04570_task-rest_space-scanner_echo-1_desc-Denoised_bold.nii.gz\n"
     ]
    },
    {
     "name": "stderr",
     "output_type": "stream",
     "text": [
      "INFO     io:writeresults_echoes:746 Writing Kappa-filtered echo #2 timeseries\n"
     ]
    },
    {
     "name": "stderr",
     "output_type": "stream",
     "text": [
      "INFO     io:denoise_ts:560 Variance explained by decomposition: 84.82%\n"
     ]
    },
    {
     "name": "stderr",
     "output_type": "stream",
     "text": [
      "INFO     io:write_split_ts:629 Writing high-Kappa time series: /home/runner/work/multi-echo-data-analysis/multi-echo-data-analysis/data/multi-echo-data-analysis/tedana/sub-04570_task-rest_space-scanner_echo-2_desc-Accepted_bold.nii.gz\n"
     ]
    },
    {
     "name": "stderr",
     "output_type": "stream",
     "text": [
      "INFO     io:write_split_ts:637 Writing low-Kappa time series: /home/runner/work/multi-echo-data-analysis/multi-echo-data-analysis/data/multi-echo-data-analysis/tedana/sub-04570_task-rest_space-scanner_echo-2_desc-Rejected_bold.nii.gz\n"
     ]
    },
    {
     "name": "stderr",
     "output_type": "stream",
     "text": [
      "INFO     io:write_split_ts:647 Writing denoised time series: /home/runner/work/multi-echo-data-analysis/multi-echo-data-analysis/data/multi-echo-data-analysis/tedana/sub-04570_task-rest_space-scanner_echo-2_desc-Denoised_bold.nii.gz\n"
     ]
    },
    {
     "name": "stderr",
     "output_type": "stream",
     "text": [
      "INFO     io:writeresults_echoes:746 Writing Kappa-filtered echo #3 timeseries\n"
     ]
    },
    {
     "name": "stderr",
     "output_type": "stream",
     "text": [
      "INFO     io:denoise_ts:560 Variance explained by decomposition: 85.41%\n"
     ]
    },
    {
     "name": "stderr",
     "output_type": "stream",
     "text": [
      "INFO     io:write_split_ts:629 Writing high-Kappa time series: /home/runner/work/multi-echo-data-analysis/multi-echo-data-analysis/data/multi-echo-data-analysis/tedana/sub-04570_task-rest_space-scanner_echo-3_desc-Accepted_bold.nii.gz\n"
     ]
    },
    {
     "name": "stderr",
     "output_type": "stream",
     "text": [
      "INFO     io:write_split_ts:637 Writing low-Kappa time series: /home/runner/work/multi-echo-data-analysis/multi-echo-data-analysis/data/multi-echo-data-analysis/tedana/sub-04570_task-rest_space-scanner_echo-3_desc-Rejected_bold.nii.gz\n"
     ]
    },
    {
     "name": "stderr",
     "output_type": "stream",
     "text": [
      "INFO     io:write_split_ts:647 Writing denoised time series: /home/runner/work/multi-echo-data-analysis/multi-echo-data-analysis/data/multi-echo-data-analysis/tedana/sub-04570_task-rest_space-scanner_echo-3_desc-Denoised_bold.nii.gz\n"
     ]
    },
    {
     "name": "stderr",
     "output_type": "stream",
     "text": [
      "INFO     io:writeresults_echoes:746 Writing Kappa-filtered echo #4 timeseries\n"
     ]
    },
    {
     "name": "stderr",
     "output_type": "stream",
     "text": [
      "INFO     io:denoise_ts:560 Variance explained by decomposition: 85.34%\n"
     ]
    },
    {
     "name": "stderr",
     "output_type": "stream",
     "text": [
      "INFO     io:write_split_ts:629 Writing high-Kappa time series: /home/runner/work/multi-echo-data-analysis/multi-echo-data-analysis/data/multi-echo-data-analysis/tedana/sub-04570_task-rest_space-scanner_echo-4_desc-Accepted_bold.nii.gz\n"
     ]
    },
    {
     "name": "stderr",
     "output_type": "stream",
     "text": [
      "INFO     io:write_split_ts:637 Writing low-Kappa time series: /home/runner/work/multi-echo-data-analysis/multi-echo-data-analysis/data/multi-echo-data-analysis/tedana/sub-04570_task-rest_space-scanner_echo-4_desc-Rejected_bold.nii.gz\n"
     ]
    },
    {
     "name": "stderr",
     "output_type": "stream",
     "text": [
      "INFO     io:write_split_ts:647 Writing denoised time series: /home/runner/work/multi-echo-data-analysis/multi-echo-data-analysis/data/multi-echo-data-analysis/tedana/sub-04570_task-rest_space-scanner_echo-4_desc-Denoised_bold.nii.gz\n"
     ]
    },
    {
     "name": "stderr",
     "output_type": "stream",
     "text": [
      "INFO     tedana:tedana_workflow:912 Making figures folder with static component maps and timecourse plots.\n"
     ]
    },
    {
     "name": "stderr",
     "output_type": "stream",
     "text": [
      "INFO     io:denoise_ts:560 Variance explained by decomposition: 91.66%\n"
     ]
    },
    {
     "name": "stderr",
     "output_type": "stream",
     "text": [
      "/opt/hostedtoolcache/Python/3.10.14/x64/lib/python3.10/site-packages/tedana/io.py:833: UserWarning: Data array used to create a new image contains 64-bit ints. This is likely due to creating the array with numpy and passing `int` as the `dtype`. Many tools such as FSL and SPM cannot deal with int64 in Nifti images, so for compatibility the data has been converted to int32.\n",
      "  nii = new_img_like(ref_img, newdata, affine=affine, copy_header=copy_header)\n"
     ]
    },
    {
     "name": "stderr",
     "output_type": "stream",
     "text": [
      "/opt/hostedtoolcache/Python/3.10.14/x64/lib/python3.10/site-packages/tedana/io.py:833: UserWarning: Data array used to create a new image contains 64-bit ints. This is likely due to creating the array with numpy and passing `int` as the `dtype`. Many tools such as FSL and SPM cannot deal with int64 in Nifti images, so for compatibility the data has been converted to int32.\n",
      "  nii = new_img_like(ref_img, newdata, affine=affine, copy_header=copy_header)\n"
     ]
    },
    {
     "name": "stderr",
     "output_type": "stream",
     "text": [
      "/opt/hostedtoolcache/Python/3.10.14/x64/lib/python3.10/site-packages/tedana/io.py:833: UserWarning: Data array used to create a new image contains 64-bit ints. This is likely due to creating the array with numpy and passing `int` as the `dtype`. Many tools such as FSL and SPM cannot deal with int64 in Nifti images, so for compatibility the data has been converted to int32.\n",
      "  nii = new_img_like(ref_img, newdata, affine=affine, copy_header=copy_header)\n"
     ]
    },
    {
     "name": "stderr",
     "output_type": "stream",
     "text": [
      "/opt/hostedtoolcache/Python/3.10.14/x64/lib/python3.10/site-packages/nilearn/plotting/img_plotting.py:1317: UserWarning: Non-finite values detected. These values will be replaced with zeros.\n",
      "  safe_get_data(stat_map_img, ensure_finite=True),\n"
     ]
    },
    {
     "name": "stderr",
     "output_type": "stream",
     "text": [
      "INFO     tedana:tedana_workflow:945 Generating dynamic report\n"
     ]
    },
    {
     "name": "stderr",
     "output_type": "stream",
     "text": [
      "INFO     tedana:tedana_workflow:948 Workflow completed\n"
     ]
    }
   ],
   "source": [
    "workflows.tedana_workflow(\n",
    "    data_files,\n",
    "    echo_times,\n",
    "    out_dir=out_dir,\n",
    "    mask=mask_file,\n",
    "    prefix=\"sub-04570_task-rest_space-scanner\",\n",
    "    fittype=\"curvefit\",\n",
    "    tedpca=\"mdl\",\n",
    "    verbose=True,\n",
    "    gscontrol=[\"mir\"],\n",
    ")"
   ]
  },
  {
   "cell_type": "markdown",
   "id": "f5e159be",
   "metadata": {},
   "source": [
    "The tedana workflow writes out a number of files."
   ]
  },
  {
   "cell_type": "code",
   "execution_count": 4,
   "id": "377c58a6",
   "metadata": {},
   "outputs": [
    {
     "name": "stdout",
     "output_type": "stream",
     "text": [
      "figures\n",
      "sub-04570_task-rest_space-scanner_S0map.nii.gz\n",
      "sub-04570_task-rest_space-scanner_T2starmap.nii.gz\n",
      "sub-04570_task-rest_space-scanner_dataset_description.json\n",
      "sub-04570_task-rest_space-scanner_desc-ICAAcceptedMIRDenoised_components.nii.gz\n",
      "sub-04570_task-rest_space-scanner_desc-ICAAccepted_components.nii.gz\n",
      "sub-04570_task-rest_space-scanner_desc-ICAAccepted_stat-z_components.nii.gz\n",
      "sub-04570_task-rest_space-scanner_desc-ICAAveragingWeights_components.nii.gz\n",
      "sub-04570_task-rest_space-scanner_desc-ICACrossComponent_metrics.json\n",
      "sub-04570_task-rest_space-scanner_desc-ICAMIRDenoised_mixing.tsv\n",
      "sub-04570_task-rest_space-scanner_desc-ICAS0_stat-F_statmap.nii.gz\n",
      "sub-04570_task-rest_space-scanner_desc-ICAT2_stat-F_statmap.nii.gz\n",
      "sub-04570_task-rest_space-scanner_desc-ICA_components.nii.gz\n",
      "sub-04570_task-rest_space-scanner_desc-ICA_decision_tree.json\n",
      "sub-04570_task-rest_space-scanner_desc-ICA_decomposition.json\n",
      "sub-04570_task-rest_space-scanner_desc-ICA_mixing.tsv\n",
      "sub-04570_task-rest_space-scanner_desc-ICA_stat-z_components.nii.gz\n",
      "sub-04570_task-rest_space-scanner_desc-ICA_status_table.tsv\n",
      "sub-04570_task-rest_space-scanner_desc-PCAAveragingWeights_components.nii.gz\n",
      "sub-04570_task-rest_space-scanner_desc-PCACrossComponent_metrics.json\n",
      "sub-04570_task-rest_space-scanner_desc-PCAS0_stat-F_statmap.nii.gz\n",
      "sub-04570_task-rest_space-scanner_desc-PCAT2_stat-F_statmap.nii.gz\n",
      "sub-04570_task-rest_space-scanner_desc-PCA_decomposition.json\n",
      "sub-04570_task-rest_space-scanner_desc-PCA_metrics.json\n",
      "sub-04570_task-rest_space-scanner_desc-PCA_metrics.tsv\n",
      "sub-04570_task-rest_space-scanner_desc-PCA_mixing.tsv\n",
      "sub-04570_task-rest_space-scanner_desc-PCA_stat-z_components.nii.gz\n",
      "sub-04570_task-rest_space-scanner_desc-T1likeEffect_min.nii.gz\n",
      "sub-04570_task-rest_space-scanner_desc-adaptiveGoodSignal_mask.nii.gz\n",
      "sub-04570_task-rest_space-scanner_desc-confounds_timeseries.tsv\n",
      "sub-04570_task-rest_space-scanner_desc-denoised_bold.nii.gz\n",
      "sub-04570_task-rest_space-scanner_desc-limited_S0map.nii.gz\n",
      "sub-04570_task-rest_space-scanner_desc-limited_T2starmap.nii.gz\n",
      "sub-04570_task-rest_space-scanner_desc-optcomAcceptedMIRDenoised_bold.nii.gz\n",
      "sub-04570_task-rest_space-scanner_desc-optcomAccepted_bold.nii.gz\n",
      "sub-04570_task-rest_space-scanner_desc-optcomMIRDenoised_bold.nii.gz\n",
      "sub-04570_task-rest_space-scanner_desc-optcomRejected_bold.nii.gz\n",
      "sub-04570_task-rest_space-scanner_desc-optcom_bold.nii.gz\n",
      "sub-04570_task-rest_space-scanner_desc-optcom_whitened_bold.nii.gz\n",
      "sub-04570_task-rest_space-scanner_desc-rmse_statmap.nii.gz\n",
      "sub-04570_task-rest_space-scanner_desc-tedana_metrics.json\n",
      "sub-04570_task-rest_space-scanner_desc-tedana_metrics.tsv\n",
      "sub-04570_task-rest_space-scanner_desc-tedana_registry.json\n",
      "sub-04570_task-rest_space-scanner_echo-1_desc-Accepted_bold.nii.gz\n",
      "sub-04570_task-rest_space-scanner_echo-1_desc-Denoised_bold.nii.gz\n",
      "sub-04570_task-rest_space-scanner_echo-1_desc-ICAS0ModelPredictions_components.nii.gz\n",
      "sub-04570_task-rest_space-scanner_echo-1_desc-ICAT2ModelPredictions_components.nii.gz\n",
      "sub-04570_task-rest_space-scanner_echo-1_desc-ICA_components.nii.gz\n",
      "sub-04570_task-rest_space-scanner_echo-1_desc-PCAS0ModelPredictions_components.nii.gz\n",
      "sub-04570_task-rest_space-scanner_echo-1_desc-PCAT2ModelPredictions_components.nii.gz\n",
      "sub-04570_task-rest_space-scanner_echo-1_desc-PCA_components.nii.gz\n",
      "sub-04570_task-rest_space-scanner_echo-1_desc-Rejected_bold.nii.gz\n",
      "sub-04570_task-rest_space-scanner_echo-2_desc-Accepted_bold.nii.gz\n",
      "sub-04570_task-rest_space-scanner_echo-2_desc-Denoised_bold.nii.gz\n",
      "sub-04570_task-rest_space-scanner_echo-2_desc-ICAS0ModelPredictions_components.nii.gz\n",
      "sub-04570_task-rest_space-scanner_echo-2_desc-ICAT2ModelPredictions_components.nii.gz\n",
      "sub-04570_task-rest_space-scanner_echo-2_desc-ICA_components.nii.gz\n",
      "sub-04570_task-rest_space-scanner_echo-2_desc-PCAS0ModelPredictions_components.nii.gz\n",
      "sub-04570_task-rest_space-scanner_echo-2_desc-PCAT2ModelPredictions_components.nii.gz\n",
      "sub-04570_task-rest_space-scanner_echo-2_desc-PCA_components.nii.gz\n",
      "sub-04570_task-rest_space-scanner_echo-2_desc-Rejected_bold.nii.gz\n",
      "sub-04570_task-rest_space-scanner_echo-3_desc-Accepted_bold.nii.gz\n",
      "sub-04570_task-rest_space-scanner_echo-3_desc-Denoised_bold.nii.gz\n",
      "sub-04570_task-rest_space-scanner_echo-3_desc-ICAS0ModelPredictions_components.nii.gz\n",
      "sub-04570_task-rest_space-scanner_echo-3_desc-ICAT2ModelPredictions_components.nii.gz\n",
      "sub-04570_task-rest_space-scanner_echo-3_desc-ICA_components.nii.gz\n",
      "sub-04570_task-rest_space-scanner_echo-3_desc-PCAS0ModelPredictions_components.nii.gz\n",
      "sub-04570_task-rest_space-scanner_echo-3_desc-PCAT2ModelPredictions_components.nii.gz\n",
      "sub-04570_task-rest_space-scanner_echo-3_desc-PCA_components.nii.gz\n",
      "sub-04570_task-rest_space-scanner_echo-3_desc-Rejected_bold.nii.gz\n",
      "sub-04570_task-rest_space-scanner_echo-4_desc-Accepted_bold.nii.gz\n",
      "sub-04570_task-rest_space-scanner_echo-4_desc-Denoised_bold.nii.gz\n",
      "sub-04570_task-rest_space-scanner_echo-4_desc-ICAS0ModelPredictions_components.nii.gz\n",
      "sub-04570_task-rest_space-scanner_echo-4_desc-ICAT2ModelPredictions_components.nii.gz\n",
      "sub-04570_task-rest_space-scanner_echo-4_desc-ICA_components.nii.gz\n",
      "sub-04570_task-rest_space-scanner_echo-4_desc-PCAS0ModelPredictions_components.nii.gz\n",
      "sub-04570_task-rest_space-scanner_echo-4_desc-PCAT2ModelPredictions_components.nii.gz\n",
      "sub-04570_task-rest_space-scanner_echo-4_desc-PCA_components.nii.gz\n",
      "sub-04570_task-rest_space-scanner_echo-4_desc-Rejected_bold.nii.gz\n",
      "sub-04570_task-rest_space-scanner_references.bib\n",
      "sub-04570_task-rest_space-scanner_report.txt\n",
      "sub-04570_task-rest_space-scanner_tedana_report.html\n",
      "tedana_2024-08-12T232423.tsv\n"
     ]
    }
   ],
   "source": [
    "out_files = sorted(glob(os.path.join(out_dir, \"*\")))\n",
    "out_files = [os.path.basename(f) for f in out_files]\n",
    "print(\"\\n\".join(out_files))"
   ]
  },
  {
   "cell_type": "code",
   "execution_count": 5,
   "id": "f8b48396",
   "metadata": {},
   "outputs": [],
   "source": [
    "metrics = pd.read_table(\n",
    "    os.path.join(out_dir, \"sub-04570_task-rest_space-scanner_desc-tedana_metrics.tsv\")\n",
    ")"
   ]
  },
  {
   "cell_type": "code",
   "execution_count": 6,
   "id": "8354c0b7",
   "metadata": {
    "tags": [
     "hide-input"
    ]
   },
   "outputs": [
    {
     "data": {
      "text/html": [
       "<style type=\"text/css\">\n",
       "#T_5f7f0_row0_col0, #T_5f7f0_row0_col1, #T_5f7f0_row0_col2, #T_5f7f0_row0_col3, #T_5f7f0_row0_col4, #T_5f7f0_row0_col5, #T_5f7f0_row0_col6, #T_5f7f0_row0_col7, #T_5f7f0_row0_col8, #T_5f7f0_row0_col9, #T_5f7f0_row0_col10, #T_5f7f0_row0_col11, #T_5f7f0_row0_col12, #T_5f7f0_row0_col13, #T_5f7f0_row0_col14, #T_5f7f0_row0_col15, #T_5f7f0_row0_col16, #T_5f7f0_row0_col17, #T_5f7f0_row3_col0, #T_5f7f0_row3_col1, #T_5f7f0_row3_col2, #T_5f7f0_row3_col3, #T_5f7f0_row3_col4, #T_5f7f0_row3_col5, #T_5f7f0_row3_col6, #T_5f7f0_row3_col7, #T_5f7f0_row3_col8, #T_5f7f0_row3_col9, #T_5f7f0_row3_col10, #T_5f7f0_row3_col11, #T_5f7f0_row3_col12, #T_5f7f0_row3_col13, #T_5f7f0_row3_col14, #T_5f7f0_row3_col15, #T_5f7f0_row3_col16, #T_5f7f0_row3_col17, #T_5f7f0_row4_col0, #T_5f7f0_row4_col1, #T_5f7f0_row4_col2, #T_5f7f0_row4_col3, #T_5f7f0_row4_col4, #T_5f7f0_row4_col5, #T_5f7f0_row4_col6, #T_5f7f0_row4_col7, #T_5f7f0_row4_col8, #T_5f7f0_row4_col9, #T_5f7f0_row4_col10, #T_5f7f0_row4_col11, #T_5f7f0_row4_col12, #T_5f7f0_row4_col13, #T_5f7f0_row4_col14, #T_5f7f0_row4_col15, #T_5f7f0_row4_col16, #T_5f7f0_row4_col17, #T_5f7f0_row5_col0, #T_5f7f0_row5_col1, #T_5f7f0_row5_col2, #T_5f7f0_row5_col3, #T_5f7f0_row5_col4, #T_5f7f0_row5_col5, #T_5f7f0_row5_col6, #T_5f7f0_row5_col7, #T_5f7f0_row5_col8, #T_5f7f0_row5_col9, #T_5f7f0_row5_col10, #T_5f7f0_row5_col11, #T_5f7f0_row5_col12, #T_5f7f0_row5_col13, #T_5f7f0_row5_col14, #T_5f7f0_row5_col15, #T_5f7f0_row5_col16, #T_5f7f0_row5_col17, #T_5f7f0_row6_col0, #T_5f7f0_row6_col1, #T_5f7f0_row6_col2, #T_5f7f0_row6_col3, #T_5f7f0_row6_col4, #T_5f7f0_row6_col5, #T_5f7f0_row6_col6, #T_5f7f0_row6_col7, #T_5f7f0_row6_col8, #T_5f7f0_row6_col9, #T_5f7f0_row6_col10, #T_5f7f0_row6_col11, #T_5f7f0_row6_col12, #T_5f7f0_row6_col13, #T_5f7f0_row6_col14, #T_5f7f0_row6_col15, #T_5f7f0_row6_col16, #T_5f7f0_row6_col17, #T_5f7f0_row8_col0, #T_5f7f0_row8_col1, #T_5f7f0_row8_col2, #T_5f7f0_row8_col3, #T_5f7f0_row8_col4, #T_5f7f0_row8_col5, #T_5f7f0_row8_col6, #T_5f7f0_row8_col7, #T_5f7f0_row8_col8, #T_5f7f0_row8_col9, #T_5f7f0_row8_col10, #T_5f7f0_row8_col11, #T_5f7f0_row8_col12, #T_5f7f0_row8_col13, #T_5f7f0_row8_col14, #T_5f7f0_row8_col15, #T_5f7f0_row8_col16, #T_5f7f0_row8_col17, #T_5f7f0_row10_col0, #T_5f7f0_row10_col1, #T_5f7f0_row10_col2, #T_5f7f0_row10_col3, #T_5f7f0_row10_col4, #T_5f7f0_row10_col5, #T_5f7f0_row10_col6, #T_5f7f0_row10_col7, #T_5f7f0_row10_col8, #T_5f7f0_row10_col9, #T_5f7f0_row10_col10, #T_5f7f0_row10_col11, #T_5f7f0_row10_col12, #T_5f7f0_row10_col13, #T_5f7f0_row10_col14, #T_5f7f0_row10_col15, #T_5f7f0_row10_col16, #T_5f7f0_row10_col17, #T_5f7f0_row11_col0, #T_5f7f0_row11_col1, #T_5f7f0_row11_col2, #T_5f7f0_row11_col3, #T_5f7f0_row11_col4, #T_5f7f0_row11_col5, #T_5f7f0_row11_col6, #T_5f7f0_row11_col7, #T_5f7f0_row11_col8, #T_5f7f0_row11_col9, #T_5f7f0_row11_col10, #T_5f7f0_row11_col11, #T_5f7f0_row11_col12, #T_5f7f0_row11_col13, #T_5f7f0_row11_col14, #T_5f7f0_row11_col15, #T_5f7f0_row11_col16, #T_5f7f0_row11_col17, #T_5f7f0_row15_col0, #T_5f7f0_row15_col1, #T_5f7f0_row15_col2, #T_5f7f0_row15_col3, #T_5f7f0_row15_col4, #T_5f7f0_row15_col5, #T_5f7f0_row15_col6, #T_5f7f0_row15_col7, #T_5f7f0_row15_col8, #T_5f7f0_row15_col9, #T_5f7f0_row15_col10, #T_5f7f0_row15_col11, #T_5f7f0_row15_col12, #T_5f7f0_row15_col13, #T_5f7f0_row15_col14, #T_5f7f0_row15_col15, #T_5f7f0_row15_col16, #T_5f7f0_row15_col17, #T_5f7f0_row16_col0, #T_5f7f0_row16_col1, #T_5f7f0_row16_col2, #T_5f7f0_row16_col3, #T_5f7f0_row16_col4, #T_5f7f0_row16_col5, #T_5f7f0_row16_col6, #T_5f7f0_row16_col7, #T_5f7f0_row16_col8, #T_5f7f0_row16_col9, #T_5f7f0_row16_col10, #T_5f7f0_row16_col11, #T_5f7f0_row16_col12, #T_5f7f0_row16_col13, #T_5f7f0_row16_col14, #T_5f7f0_row16_col15, #T_5f7f0_row16_col16, #T_5f7f0_row16_col17, #T_5f7f0_row17_col0, #T_5f7f0_row17_col1, #T_5f7f0_row17_col2, #T_5f7f0_row17_col3, #T_5f7f0_row17_col4, #T_5f7f0_row17_col5, #T_5f7f0_row17_col6, #T_5f7f0_row17_col7, #T_5f7f0_row17_col8, #T_5f7f0_row17_col9, #T_5f7f0_row17_col10, #T_5f7f0_row17_col11, #T_5f7f0_row17_col12, #T_5f7f0_row17_col13, #T_5f7f0_row17_col14, #T_5f7f0_row17_col15, #T_5f7f0_row17_col16, #T_5f7f0_row17_col17, #T_5f7f0_row19_col0, #T_5f7f0_row19_col1, #T_5f7f0_row19_col2, #T_5f7f0_row19_col3, #T_5f7f0_row19_col4, #T_5f7f0_row19_col5, #T_5f7f0_row19_col6, #T_5f7f0_row19_col7, #T_5f7f0_row19_col8, #T_5f7f0_row19_col9, #T_5f7f0_row19_col10, #T_5f7f0_row19_col11, #T_5f7f0_row19_col12, #T_5f7f0_row19_col13, #T_5f7f0_row19_col14, #T_5f7f0_row19_col15, #T_5f7f0_row19_col16, #T_5f7f0_row19_col17, #T_5f7f0_row20_col0, #T_5f7f0_row20_col1, #T_5f7f0_row20_col2, #T_5f7f0_row20_col3, #T_5f7f0_row20_col4, #T_5f7f0_row20_col5, #T_5f7f0_row20_col6, #T_5f7f0_row20_col7, #T_5f7f0_row20_col8, #T_5f7f0_row20_col9, #T_5f7f0_row20_col10, #T_5f7f0_row20_col11, #T_5f7f0_row20_col12, #T_5f7f0_row20_col13, #T_5f7f0_row20_col14, #T_5f7f0_row20_col15, #T_5f7f0_row20_col16, #T_5f7f0_row20_col17, #T_5f7f0_row22_col0, #T_5f7f0_row22_col1, #T_5f7f0_row22_col2, #T_5f7f0_row22_col3, #T_5f7f0_row22_col4, #T_5f7f0_row22_col5, #T_5f7f0_row22_col6, #T_5f7f0_row22_col7, #T_5f7f0_row22_col8, #T_5f7f0_row22_col9, #T_5f7f0_row22_col10, #T_5f7f0_row22_col11, #T_5f7f0_row22_col12, #T_5f7f0_row22_col13, #T_5f7f0_row22_col14, #T_5f7f0_row22_col15, #T_5f7f0_row22_col16, #T_5f7f0_row22_col17, #T_5f7f0_row23_col0, #T_5f7f0_row23_col1, #T_5f7f0_row23_col2, #T_5f7f0_row23_col3, #T_5f7f0_row23_col4, #T_5f7f0_row23_col5, #T_5f7f0_row23_col6, #T_5f7f0_row23_col7, #T_5f7f0_row23_col8, #T_5f7f0_row23_col9, #T_5f7f0_row23_col10, #T_5f7f0_row23_col11, #T_5f7f0_row23_col12, #T_5f7f0_row23_col13, #T_5f7f0_row23_col14, #T_5f7f0_row23_col15, #T_5f7f0_row23_col16, #T_5f7f0_row23_col17, #T_5f7f0_row24_col0, #T_5f7f0_row24_col1, #T_5f7f0_row24_col2, #T_5f7f0_row24_col3, #T_5f7f0_row24_col4, #T_5f7f0_row24_col5, #T_5f7f0_row24_col6, #T_5f7f0_row24_col7, #T_5f7f0_row24_col8, #T_5f7f0_row24_col9, #T_5f7f0_row24_col10, #T_5f7f0_row24_col11, #T_5f7f0_row24_col12, #T_5f7f0_row24_col13, #T_5f7f0_row24_col14, #T_5f7f0_row24_col15, #T_5f7f0_row24_col16, #T_5f7f0_row24_col17, #T_5f7f0_row25_col0, #T_5f7f0_row25_col1, #T_5f7f0_row25_col2, #T_5f7f0_row25_col3, #T_5f7f0_row25_col4, #T_5f7f0_row25_col5, #T_5f7f0_row25_col6, #T_5f7f0_row25_col7, #T_5f7f0_row25_col8, #T_5f7f0_row25_col9, #T_5f7f0_row25_col10, #T_5f7f0_row25_col11, #T_5f7f0_row25_col12, #T_5f7f0_row25_col13, #T_5f7f0_row25_col14, #T_5f7f0_row25_col15, #T_5f7f0_row25_col16, #T_5f7f0_row25_col17, #T_5f7f0_row27_col0, #T_5f7f0_row27_col1, #T_5f7f0_row27_col2, #T_5f7f0_row27_col3, #T_5f7f0_row27_col4, #T_5f7f0_row27_col5, #T_5f7f0_row27_col6, #T_5f7f0_row27_col7, #T_5f7f0_row27_col8, #T_5f7f0_row27_col9, #T_5f7f0_row27_col10, #T_5f7f0_row27_col11, #T_5f7f0_row27_col12, #T_5f7f0_row27_col13, #T_5f7f0_row27_col14, #T_5f7f0_row27_col15, #T_5f7f0_row27_col16, #T_5f7f0_row27_col17, #T_5f7f0_row28_col0, #T_5f7f0_row28_col1, #T_5f7f0_row28_col2, #T_5f7f0_row28_col3, #T_5f7f0_row28_col4, #T_5f7f0_row28_col5, #T_5f7f0_row28_col6, #T_5f7f0_row28_col7, #T_5f7f0_row28_col8, #T_5f7f0_row28_col9, #T_5f7f0_row28_col10, #T_5f7f0_row28_col11, #T_5f7f0_row28_col12, #T_5f7f0_row28_col13, #T_5f7f0_row28_col14, #T_5f7f0_row28_col15, #T_5f7f0_row28_col16, #T_5f7f0_row28_col17, #T_5f7f0_row32_col0, #T_5f7f0_row32_col1, #T_5f7f0_row32_col2, #T_5f7f0_row32_col3, #T_5f7f0_row32_col4, #T_5f7f0_row32_col5, #T_5f7f0_row32_col6, #T_5f7f0_row32_col7, #T_5f7f0_row32_col8, #T_5f7f0_row32_col9, #T_5f7f0_row32_col10, #T_5f7f0_row32_col11, #T_5f7f0_row32_col12, #T_5f7f0_row32_col13, #T_5f7f0_row32_col14, #T_5f7f0_row32_col15, #T_5f7f0_row32_col16, #T_5f7f0_row32_col17, #T_5f7f0_row36_col0, #T_5f7f0_row36_col1, #T_5f7f0_row36_col2, #T_5f7f0_row36_col3, #T_5f7f0_row36_col4, #T_5f7f0_row36_col5, #T_5f7f0_row36_col6, #T_5f7f0_row36_col7, #T_5f7f0_row36_col8, #T_5f7f0_row36_col9, #T_5f7f0_row36_col10, #T_5f7f0_row36_col11, #T_5f7f0_row36_col12, #T_5f7f0_row36_col13, #T_5f7f0_row36_col14, #T_5f7f0_row36_col15, #T_5f7f0_row36_col16, #T_5f7f0_row36_col17, #T_5f7f0_row38_col0, #T_5f7f0_row38_col1, #T_5f7f0_row38_col2, #T_5f7f0_row38_col3, #T_5f7f0_row38_col4, #T_5f7f0_row38_col5, #T_5f7f0_row38_col6, #T_5f7f0_row38_col7, #T_5f7f0_row38_col8, #T_5f7f0_row38_col9, #T_5f7f0_row38_col10, #T_5f7f0_row38_col11, #T_5f7f0_row38_col12, #T_5f7f0_row38_col13, #T_5f7f0_row38_col14, #T_5f7f0_row38_col15, #T_5f7f0_row38_col16, #T_5f7f0_row38_col17, #T_5f7f0_row39_col0, #T_5f7f0_row39_col1, #T_5f7f0_row39_col2, #T_5f7f0_row39_col3, #T_5f7f0_row39_col4, #T_5f7f0_row39_col5, #T_5f7f0_row39_col6, #T_5f7f0_row39_col7, #T_5f7f0_row39_col8, #T_5f7f0_row39_col9, #T_5f7f0_row39_col10, #T_5f7f0_row39_col11, #T_5f7f0_row39_col12, #T_5f7f0_row39_col13, #T_5f7f0_row39_col14, #T_5f7f0_row39_col15, #T_5f7f0_row39_col16, #T_5f7f0_row39_col17, #T_5f7f0_row40_col0, #T_5f7f0_row40_col1, #T_5f7f0_row40_col2, #T_5f7f0_row40_col3, #T_5f7f0_row40_col4, #T_5f7f0_row40_col5, #T_5f7f0_row40_col6, #T_5f7f0_row40_col7, #T_5f7f0_row40_col8, #T_5f7f0_row40_col9, #T_5f7f0_row40_col10, #T_5f7f0_row40_col11, #T_5f7f0_row40_col12, #T_5f7f0_row40_col13, #T_5f7f0_row40_col14, #T_5f7f0_row40_col15, #T_5f7f0_row40_col16, #T_5f7f0_row40_col17, #T_5f7f0_row41_col0, #T_5f7f0_row41_col1, #T_5f7f0_row41_col2, #T_5f7f0_row41_col3, #T_5f7f0_row41_col4, #T_5f7f0_row41_col5, #T_5f7f0_row41_col6, #T_5f7f0_row41_col7, #T_5f7f0_row41_col8, #T_5f7f0_row41_col9, #T_5f7f0_row41_col10, #T_5f7f0_row41_col11, #T_5f7f0_row41_col12, #T_5f7f0_row41_col13, #T_5f7f0_row41_col14, #T_5f7f0_row41_col15, #T_5f7f0_row41_col16, #T_5f7f0_row41_col17 {\n",
       "  color: red;\n",
       "}\n",
       "</style>\n",
       "<table id=\"T_5f7f0\">\n",
       "  <thead>\n",
       "    <tr>\n",
       "      <th class=\"blank level0\" >&nbsp;</th>\n",
       "      <th id=\"T_5f7f0_level0_col0\" class=\"col_heading level0 col0\" >Component</th>\n",
       "      <th id=\"T_5f7f0_level0_col1\" class=\"col_heading level0 col1\" >kappa</th>\n",
       "      <th id=\"T_5f7f0_level0_col2\" class=\"col_heading level0 col2\" >rho</th>\n",
       "      <th id=\"T_5f7f0_level0_col3\" class=\"col_heading level0 col3\" >variance explained</th>\n",
       "      <th id=\"T_5f7f0_level0_col4\" class=\"col_heading level0 col4\" >normalized variance explained</th>\n",
       "      <th id=\"T_5f7f0_level0_col5\" class=\"col_heading level0 col5\" >countsigFT2</th>\n",
       "      <th id=\"T_5f7f0_level0_col6\" class=\"col_heading level0 col6\" >countsigFS0</th>\n",
       "      <th id=\"T_5f7f0_level0_col7\" class=\"col_heading level0 col7\" >dice_FT2</th>\n",
       "      <th id=\"T_5f7f0_level0_col8\" class=\"col_heading level0 col8\" >dice_FS0</th>\n",
       "      <th id=\"T_5f7f0_level0_col9\" class=\"col_heading level0 col9\" >countnoise</th>\n",
       "      <th id=\"T_5f7f0_level0_col10\" class=\"col_heading level0 col10\" >signal-noise_t</th>\n",
       "      <th id=\"T_5f7f0_level0_col11\" class=\"col_heading level0 col11\" >signal-noise_p</th>\n",
       "      <th id=\"T_5f7f0_level0_col12\" class=\"col_heading level0 col12\" >d_table_score</th>\n",
       "      <th id=\"T_5f7f0_level0_col13\" class=\"col_heading level0 col13\" >optimal sign</th>\n",
       "      <th id=\"T_5f7f0_level0_col14\" class=\"col_heading level0 col14\" >varex kappa ratio</th>\n",
       "      <th id=\"T_5f7f0_level0_col15\" class=\"col_heading level0 col15\" >d_table_score_node20</th>\n",
       "      <th id=\"T_5f7f0_level0_col16\" class=\"col_heading level0 col16\" >classification</th>\n",
       "      <th id=\"T_5f7f0_level0_col17\" class=\"col_heading level0 col17\" >classification_tags</th>\n",
       "    </tr>\n",
       "  </thead>\n",
       "  <tbody>\n",
       "    <tr>\n",
       "      <th id=\"T_5f7f0_level0_row0\" class=\"row_heading level0 row0\" >0</th>\n",
       "      <td id=\"T_5f7f0_row0_col0\" class=\"data row0 col0\" >ICA_00</td>\n",
       "      <td id=\"T_5f7f0_row0_col1\" class=\"data row0 col1\" >23.963910</td>\n",
       "      <td id=\"T_5f7f0_row0_col2\" class=\"data row0 col2\" >18.845160</td>\n",
       "      <td id=\"T_5f7f0_row0_col3\" class=\"data row0 col3\" >0.974387</td>\n",
       "      <td id=\"T_5f7f0_row0_col4\" class=\"data row0 col4\" >0.014406</td>\n",
       "      <td id=\"T_5f7f0_row0_col5\" class=\"data row0 col5\" >813</td>\n",
       "      <td id=\"T_5f7f0_row0_col6\" class=\"data row0 col6\" >766</td>\n",
       "      <td id=\"T_5f7f0_row0_col7\" class=\"data row0 col7\" >0.000000</td>\n",
       "      <td id=\"T_5f7f0_row0_col8\" class=\"data row0 col8\" >0.000000</td>\n",
       "      <td id=\"T_5f7f0_row0_col9\" class=\"data row0 col9\" >1223</td>\n",
       "      <td id=\"T_5f7f0_row0_col10\" class=\"data row0 col10\" >-2.264125</td>\n",
       "      <td id=\"T_5f7f0_row0_col11\" class=\"data row0 col11\" >0.025652</td>\n",
       "      <td id=\"T_5f7f0_row0_col12\" class=\"data row0 col12\" >31.200000</td>\n",
       "      <td id=\"T_5f7f0_row0_col13\" class=\"data row0 col13\" >1</td>\n",
       "      <td id=\"T_5f7f0_row0_col14\" class=\"data row0 col14\" >3.124711</td>\n",
       "      <td id=\"T_5f7f0_row0_col15\" class=\"data row0 col15\" >nan</td>\n",
       "      <td id=\"T_5f7f0_row0_col16\" class=\"data row0 col16\" >rejected</td>\n",
       "      <td id=\"T_5f7f0_row0_col17\" class=\"data row0 col17\" >Unlikely BOLD</td>\n",
       "    </tr>\n",
       "    <tr>\n",
       "      <th id=\"T_5f7f0_level0_row1\" class=\"row_heading level0 row1\" >1</th>\n",
       "      <td id=\"T_5f7f0_row1_col0\" class=\"data row1 col0\" >ICA_01</td>\n",
       "      <td id=\"T_5f7f0_row1_col1\" class=\"data row1 col1\" >18.386390</td>\n",
       "      <td id=\"T_5f7f0_row1_col2\" class=\"data row1 col2\" >15.105416</td>\n",
       "      <td id=\"T_5f7f0_row1_col3\" class=\"data row1 col3\" >0.209236</td>\n",
       "      <td id=\"T_5f7f0_row1_col4\" class=\"data row1 col4\" >0.002638</td>\n",
       "      <td id=\"T_5f7f0_row1_col5\" class=\"data row1 col5\" >322</td>\n",
       "      <td id=\"T_5f7f0_row1_col6\" class=\"data row1 col6\" >163</td>\n",
       "      <td id=\"T_5f7f0_row1_col7\" class=\"data row1 col7\" >0.243200</td>\n",
       "      <td id=\"T_5f7f0_row1_col8\" class=\"data row1 col8\" >0.000000</td>\n",
       "      <td id=\"T_5f7f0_row1_col9\" class=\"data row1 col9\" >1228</td>\n",
       "      <td id=\"T_5f7f0_row1_col10\" class=\"data row1 col10\" >0.000000</td>\n",
       "      <td id=\"T_5f7f0_row1_col11\" class=\"data row1 col11\" >0.000000</td>\n",
       "      <td id=\"T_5f7f0_row1_col12\" class=\"data row1 col12\" >31.200000</td>\n",
       "      <td id=\"T_5f7f0_row1_col13\" class=\"data row1 col13\" >1</td>\n",
       "      <td id=\"T_5f7f0_row1_col14\" class=\"data row1 col14\" >0.874533</td>\n",
       "      <td id=\"T_5f7f0_row1_col15\" class=\"data row1 col15\" >nan</td>\n",
       "      <td id=\"T_5f7f0_row1_col16\" class=\"data row1 col16\" >accepted</td>\n",
       "      <td id=\"T_5f7f0_row1_col17\" class=\"data row1 col17\" >Low variance</td>\n",
       "    </tr>\n",
       "    <tr>\n",
       "      <th id=\"T_5f7f0_level0_row2\" class=\"row_heading level0 row2\" >2</th>\n",
       "      <td id=\"T_5f7f0_row2_col0\" class=\"data row2 col0\" >ICA_02</td>\n",
       "      <td id=\"T_5f7f0_row2_col1\" class=\"data row2 col1\" >53.904796</td>\n",
       "      <td id=\"T_5f7f0_row2_col2\" class=\"data row2 col2\" >11.570936</td>\n",
       "      <td id=\"T_5f7f0_row2_col3\" class=\"data row2 col3\" >0.365079</td>\n",
       "      <td id=\"T_5f7f0_row2_col4\" class=\"data row2 col4\" >0.004694</td>\n",
       "      <td id=\"T_5f7f0_row2_col5\" class=\"data row2 col5\" >1849</td>\n",
       "      <td id=\"T_5f7f0_row2_col6\" class=\"data row2 col6\" >375</td>\n",
       "      <td id=\"T_5f7f0_row2_col7\" class=\"data row2 col7\" >0.621872</td>\n",
       "      <td id=\"T_5f7f0_row2_col8\" class=\"data row2 col8\" >0.252033</td>\n",
       "      <td id=\"T_5f7f0_row2_col9\" class=\"data row2 col9\" >880</td>\n",
       "      <td id=\"T_5f7f0_row2_col10\" class=\"data row2 col10\" >10.298052</td>\n",
       "      <td id=\"T_5f7f0_row2_col11\" class=\"data row2 col11\" >0.000000</td>\n",
       "      <td id=\"T_5f7f0_row2_col12\" class=\"data row2 col12\" >7.600000</td>\n",
       "      <td id=\"T_5f7f0_row2_col13\" class=\"data row2 col13\" >-1</td>\n",
       "      <td id=\"T_5f7f0_row2_col14\" class=\"data row2 col14\" >0.520470</td>\n",
       "      <td id=\"T_5f7f0_row2_col15\" class=\"data row2 col15\" >6.600000</td>\n",
       "      <td id=\"T_5f7f0_row2_col16\" class=\"data row2 col16\" >accepted</td>\n",
       "      <td id=\"T_5f7f0_row2_col17\" class=\"data row2 col17\" >Likely BOLD</td>\n",
       "    </tr>\n",
       "    <tr>\n",
       "      <th id=\"T_5f7f0_level0_row3\" class=\"row_heading level0 row3\" >3</th>\n",
       "      <td id=\"T_5f7f0_row3_col0\" class=\"data row3 col0\" >ICA_03</td>\n",
       "      <td id=\"T_5f7f0_row3_col1\" class=\"data row3 col1\" >22.443964</td>\n",
       "      <td id=\"T_5f7f0_row3_col2\" class=\"data row3 col2\" >29.659039</td>\n",
       "      <td id=\"T_5f7f0_row3_col3\" class=\"data row3 col3\" >0.394177</td>\n",
       "      <td id=\"T_5f7f0_row3_col4\" class=\"data row3 col4\" >0.005023</td>\n",
       "      <td id=\"T_5f7f0_row3_col5\" class=\"data row3 col5\" >840</td>\n",
       "      <td id=\"T_5f7f0_row3_col6\" class=\"data row3 col6\" >1175</td>\n",
       "      <td id=\"T_5f7f0_row3_col7\" class=\"data row3 col7\" >0.336829</td>\n",
       "      <td id=\"T_5f7f0_row3_col8\" class=\"data row3 col8\" >0.364685</td>\n",
       "      <td id=\"T_5f7f0_row3_col9\" class=\"data row3 col9\" >1183</td>\n",
       "      <td id=\"T_5f7f0_row3_col10\" class=\"data row3 col10\" >0.000000</td>\n",
       "      <td id=\"T_5f7f0_row3_col11\" class=\"data row3 col11\" >0.000000</td>\n",
       "      <td id=\"T_5f7f0_row3_col12\" class=\"data row3 col12\" >25.800000</td>\n",
       "      <td id=\"T_5f7f0_row3_col13\" class=\"data row3 col13\" >1</td>\n",
       "      <td id=\"T_5f7f0_row3_col14\" class=\"data row3 col14\" >1.349670</td>\n",
       "      <td id=\"T_5f7f0_row3_col15\" class=\"data row3 col15\" >nan</td>\n",
       "      <td id=\"T_5f7f0_row3_col16\" class=\"data row3 col16\" >rejected</td>\n",
       "      <td id=\"T_5f7f0_row3_col17\" class=\"data row3 col17\" >Unlikely BOLD</td>\n",
       "    </tr>\n",
       "    <tr>\n",
       "      <th id=\"T_5f7f0_level0_row4\" class=\"row_heading level0 row4\" >4</th>\n",
       "      <td id=\"T_5f7f0_row4_col0\" class=\"data row4 col0\" >ICA_04</td>\n",
       "      <td id=\"T_5f7f0_row4_col1\" class=\"data row4 col1\" >36.402447</td>\n",
       "      <td id=\"T_5f7f0_row4_col2\" class=\"data row4 col2\" >36.417731</td>\n",
       "      <td id=\"T_5f7f0_row4_col3\" class=\"data row4 col3\" >1.079447</td>\n",
       "      <td id=\"T_5f7f0_row4_col4\" class=\"data row4 col4\" >0.010505</td>\n",
       "      <td id=\"T_5f7f0_row4_col5\" class=\"data row4 col5\" >2030</td>\n",
       "      <td id=\"T_5f7f0_row4_col6\" class=\"data row4 col6\" >1616</td>\n",
       "      <td id=\"T_5f7f0_row4_col7\" class=\"data row4 col7\" >0.447545</td>\n",
       "      <td id=\"T_5f7f0_row4_col8\" class=\"data row4 col8\" >0.424479</td>\n",
       "      <td id=\"T_5f7f0_row4_col9\" class=\"data row4 col9\" >1136</td>\n",
       "      <td id=\"T_5f7f0_row4_col10\" class=\"data row4 col10\" >7.114071</td>\n",
       "      <td id=\"T_5f7f0_row4_col11\" class=\"data row4 col11\" >0.000000</td>\n",
       "      <td id=\"T_5f7f0_row4_col12\" class=\"data row4 col12\" >14.400000</td>\n",
       "      <td id=\"T_5f7f0_row4_col13\" class=\"data row4 col13\" >-1</td>\n",
       "      <td id=\"T_5f7f0_row4_col14\" class=\"data row4 col14\" >2.278803</td>\n",
       "      <td id=\"T_5f7f0_row4_col15\" class=\"data row4 col15\" >nan</td>\n",
       "      <td id=\"T_5f7f0_row4_col16\" class=\"data row4 col16\" >rejected</td>\n",
       "      <td id=\"T_5f7f0_row4_col17\" class=\"data row4 col17\" >Unlikely BOLD</td>\n",
       "    </tr>\n",
       "    <tr>\n",
       "      <th id=\"T_5f7f0_level0_row5\" class=\"row_heading level0 row5\" >5</th>\n",
       "      <td id=\"T_5f7f0_row5_col0\" class=\"data row5 col0\" >ICA_05</td>\n",
       "      <td id=\"T_5f7f0_row5_col1\" class=\"data row5 col1\" >14.776330</td>\n",
       "      <td id=\"T_5f7f0_row5_col2\" class=\"data row5 col2\" >53.185372</td>\n",
       "      <td id=\"T_5f7f0_row5_col3\" class=\"data row5 col3\" >0.539564</td>\n",
       "      <td id=\"T_5f7f0_row5_col4\" class=\"data row5 col4\" >0.012173</td>\n",
       "      <td id=\"T_5f7f0_row5_col5\" class=\"data row5 col5\" >280</td>\n",
       "      <td id=\"T_5f7f0_row5_col6\" class=\"data row5 col6\" >786</td>\n",
       "      <td id=\"T_5f7f0_row5_col7\" class=\"data row5 col7\" >0.000000</td>\n",
       "      <td id=\"T_5f7f0_row5_col8\" class=\"data row5 col8\" >0.362080</td>\n",
       "      <td id=\"T_5f7f0_row5_col9\" class=\"data row5 col9\" >509</td>\n",
       "      <td id=\"T_5f7f0_row5_col10\" class=\"data row5 col10\" >-8.452758</td>\n",
       "      <td id=\"T_5f7f0_row5_col11\" class=\"data row5 col11\" >0.000000</td>\n",
       "      <td id=\"T_5f7f0_row5_col12\" class=\"data row5 col12\" >31.000000</td>\n",
       "      <td id=\"T_5f7f0_row5_col13\" class=\"data row5 col13\" >-1</td>\n",
       "      <td id=\"T_5f7f0_row5_col14\" class=\"data row5 col14\" >2.806160</td>\n",
       "      <td id=\"T_5f7f0_row5_col15\" class=\"data row5 col15\" >nan</td>\n",
       "      <td id=\"T_5f7f0_row5_col16\" class=\"data row5 col16\" >rejected</td>\n",
       "      <td id=\"T_5f7f0_row5_col17\" class=\"data row5 col17\" >Unlikely BOLD</td>\n",
       "    </tr>\n",
       "    <tr>\n",
       "      <th id=\"T_5f7f0_level0_row6\" class=\"row_heading level0 row6\" >6</th>\n",
       "      <td id=\"T_5f7f0_row6_col0\" class=\"data row6 col0\" >ICA_06</td>\n",
       "      <td id=\"T_5f7f0_row6_col1\" class=\"data row6 col1\" >35.682686</td>\n",
       "      <td id=\"T_5f7f0_row6_col2\" class=\"data row6 col2\" >41.152975</td>\n",
       "      <td id=\"T_5f7f0_row6_col3\" class=\"data row6 col3\" >1.411969</td>\n",
       "      <td id=\"T_5f7f0_row6_col4\" class=\"data row6 col4\" >0.016422</td>\n",
       "      <td id=\"T_5f7f0_row6_col5\" class=\"data row6 col5\" >722</td>\n",
       "      <td id=\"T_5f7f0_row6_col6\" class=\"data row6 col6\" >729</td>\n",
       "      <td id=\"T_5f7f0_row6_col7\" class=\"data row6 col7\" >0.268085</td>\n",
       "      <td id=\"T_5f7f0_row6_col8\" class=\"data row6 col8\" >0.332160</td>\n",
       "      <td id=\"T_5f7f0_row6_col9\" class=\"data row6 col9\" >1050</td>\n",
       "      <td id=\"T_5f7f0_row6_col10\" class=\"data row6 col10\" >6.150607</td>\n",
       "      <td id=\"T_5f7f0_row6_col11\" class=\"data row6 col11\" >0.000002</td>\n",
       "      <td id=\"T_5f7f0_row6_col12\" class=\"data row6 col12\" >19.000000</td>\n",
       "      <td id=\"T_5f7f0_row6_col13\" class=\"data row6 col13\" >-1</td>\n",
       "      <td id=\"T_5f7f0_row6_col14\" class=\"data row6 col14\" >3.040910</td>\n",
       "      <td id=\"T_5f7f0_row6_col15\" class=\"data row6 col15\" >nan</td>\n",
       "      <td id=\"T_5f7f0_row6_col16\" class=\"data row6 col16\" >rejected</td>\n",
       "      <td id=\"T_5f7f0_row6_col17\" class=\"data row6 col17\" >Unlikely BOLD</td>\n",
       "    </tr>\n",
       "    <tr>\n",
       "      <th id=\"T_5f7f0_level0_row7\" class=\"row_heading level0 row7\" >7</th>\n",
       "      <td id=\"T_5f7f0_row7_col0\" class=\"data row7 col0\" >ICA_07</td>\n",
       "      <td id=\"T_5f7f0_row7_col1\" class=\"data row7 col1\" >102.876143</td>\n",
       "      <td id=\"T_5f7f0_row7_col2\" class=\"data row7 col2\" >10.929019</td>\n",
       "      <td id=\"T_5f7f0_row7_col3\" class=\"data row7 col3\" >0.754819</td>\n",
       "      <td id=\"T_5f7f0_row7_col4\" class=\"data row7 col4\" >0.009029</td>\n",
       "      <td id=\"T_5f7f0_row7_col5\" class=\"data row7 col5\" >3277</td>\n",
       "      <td id=\"T_5f7f0_row7_col6\" class=\"data row7 col6\" >362</td>\n",
       "      <td id=\"T_5f7f0_row7_col7\" class=\"data row7 col7\" >0.669988</td>\n",
       "      <td id=\"T_5f7f0_row7_col8\" class=\"data row7 col8\" >0.166436</td>\n",
       "      <td id=\"T_5f7f0_row7_col9\" class=\"data row7 col9\" >613</td>\n",
       "      <td id=\"T_5f7f0_row7_col10\" class=\"data row7 col10\" >6.615788</td>\n",
       "      <td id=\"T_5f7f0_row7_col11\" class=\"data row7 col11\" >0.000000</td>\n",
       "      <td id=\"T_5f7f0_row7_col12\" class=\"data row7 col12\" >2.800000</td>\n",
       "      <td id=\"T_5f7f0_row7_col13\" class=\"data row7 col13\" >-1</td>\n",
       "      <td id=\"T_5f7f0_row7_col14\" class=\"data row7 col14\" >0.563851</td>\n",
       "      <td id=\"T_5f7f0_row7_col15\" class=\"data row7 col15\" >2.400000</td>\n",
       "      <td id=\"T_5f7f0_row7_col16\" class=\"data row7 col16\" >accepted</td>\n",
       "      <td id=\"T_5f7f0_row7_col17\" class=\"data row7 col17\" >Likely BOLD</td>\n",
       "    </tr>\n",
       "    <tr>\n",
       "      <th id=\"T_5f7f0_level0_row8\" class=\"row_heading level0 row8\" >8</th>\n",
       "      <td id=\"T_5f7f0_row8_col0\" class=\"data row8 col0\" >ICA_08</td>\n",
       "      <td id=\"T_5f7f0_row8_col1\" class=\"data row8 col1\" >14.768110</td>\n",
       "      <td id=\"T_5f7f0_row8_col2\" class=\"data row8 col2\" >20.934533</td>\n",
       "      <td id=\"T_5f7f0_row8_col3\" class=\"data row8 col3\" >0.273712</td>\n",
       "      <td id=\"T_5f7f0_row8_col4\" class=\"data row8 col4\" >0.003667</td>\n",
       "      <td id=\"T_5f7f0_row8_col5\" class=\"data row8 col5\" >226</td>\n",
       "      <td id=\"T_5f7f0_row8_col6\" class=\"data row8 col6\" >300</td>\n",
       "      <td id=\"T_5f7f0_row8_col7\" class=\"data row8 col7\" >0.059908</td>\n",
       "      <td id=\"T_5f7f0_row8_col8\" class=\"data row8 col8\" >0.384615</td>\n",
       "      <td id=\"T_5f7f0_row8_col9\" class=\"data row8 col9\" >997</td>\n",
       "      <td id=\"T_5f7f0_row8_col10\" class=\"data row8 col10\" >-6.963965</td>\n",
       "      <td id=\"T_5f7f0_row8_col11\" class=\"data row8 col11\" >0.000000</td>\n",
       "      <td id=\"T_5f7f0_row8_col12\" class=\"data row8 col12\" >34.200000</td>\n",
       "      <td id=\"T_5f7f0_row8_col13\" class=\"data row8 col13\" >-1</td>\n",
       "      <td id=\"T_5f7f0_row8_col14\" class=\"data row8 col14\" >1.424309</td>\n",
       "      <td id=\"T_5f7f0_row8_col15\" class=\"data row8 col15\" >nan</td>\n",
       "      <td id=\"T_5f7f0_row8_col16\" class=\"data row8 col16\" >rejected</td>\n",
       "      <td id=\"T_5f7f0_row8_col17\" class=\"data row8 col17\" >Unlikely BOLD</td>\n",
       "    </tr>\n",
       "    <tr>\n",
       "      <th id=\"T_5f7f0_level0_row9\" class=\"row_heading level0 row9\" >9</th>\n",
       "      <td id=\"T_5f7f0_row9_col0\" class=\"data row9 col0\" >ICA_09</td>\n",
       "      <td id=\"T_5f7f0_row9_col1\" class=\"data row9 col1\" >21.605372</td>\n",
       "      <td id=\"T_5f7f0_row9_col2\" class=\"data row9 col2\" >17.761140</td>\n",
       "      <td id=\"T_5f7f0_row9_col3\" class=\"data row9 col3\" >0.307787</td>\n",
       "      <td id=\"T_5f7f0_row9_col4\" class=\"data row9 col4\" >0.004137</td>\n",
       "      <td id=\"T_5f7f0_row9_col5\" class=\"data row9 col5\" >388</td>\n",
       "      <td id=\"T_5f7f0_row9_col6\" class=\"data row9 col6\" >282</td>\n",
       "      <td id=\"T_5f7f0_row9_col7\" class=\"data row9 col7\" >0.000000</td>\n",
       "      <td id=\"T_5f7f0_row9_col8\" class=\"data row9 col8\" >0.000000</td>\n",
       "      <td id=\"T_5f7f0_row9_col9\" class=\"data row9 col9\" >1225</td>\n",
       "      <td id=\"T_5f7f0_row9_col10\" class=\"data row9 col10\" >0.000000</td>\n",
       "      <td id=\"T_5f7f0_row9_col11\" class=\"data row9 col11\" >0.000000</td>\n",
       "      <td id=\"T_5f7f0_row9_col12\" class=\"data row9 col12\" >32.000000</td>\n",
       "      <td id=\"T_5f7f0_row9_col13\" class=\"data row9 col13\" >1</td>\n",
       "      <td id=\"T_5f7f0_row9_col14\" class=\"data row9 col14\" >1.094775</td>\n",
       "      <td id=\"T_5f7f0_row9_col15\" class=\"data row9 col15\" >nan</td>\n",
       "      <td id=\"T_5f7f0_row9_col16\" class=\"data row9 col16\" >accepted</td>\n",
       "      <td id=\"T_5f7f0_row9_col17\" class=\"data row9 col17\" >Low variance</td>\n",
       "    </tr>\n",
       "    <tr>\n",
       "      <th id=\"T_5f7f0_level0_row10\" class=\"row_heading level0 row10\" >10</th>\n",
       "      <td id=\"T_5f7f0_row10_col0\" class=\"data row10 col0\" >ICA_10</td>\n",
       "      <td id=\"T_5f7f0_row10_col1\" class=\"data row10 col1\" >49.297713</td>\n",
       "      <td id=\"T_5f7f0_row10_col2\" class=\"data row10 col2\" >30.183255</td>\n",
       "      <td id=\"T_5f7f0_row10_col3\" class=\"data row10 col3\" >0.940788</td>\n",
       "      <td id=\"T_5f7f0_row10_col4\" class=\"data row10 col4\" >0.012705</td>\n",
       "      <td id=\"T_5f7f0_row10_col5\" class=\"data row10 col5\" >3215</td>\n",
       "      <td id=\"T_5f7f0_row10_col6\" class=\"data row10 col6\" >1499</td>\n",
       "      <td id=\"T_5f7f0_row10_col7\" class=\"data row10 col7\" >0.515872</td>\n",
       "      <td id=\"T_5f7f0_row10_col8\" class=\"data row10 col8\" >0.268544</td>\n",
       "      <td id=\"T_5f7f0_row10_col9\" class=\"data row10 col9\" >1121</td>\n",
       "      <td id=\"T_5f7f0_row10_col10\" class=\"data row10 col10\" >-1.525198</td>\n",
       "      <td id=\"T_5f7f0_row10_col11\" class=\"data row10 col11\" >0.131335</td>\n",
       "      <td id=\"T_5f7f0_row10_col12\" class=\"data row10 col12\" >16.400000</td>\n",
       "      <td id=\"T_5f7f0_row10_col13\" class=\"data row10 col13\" >1</td>\n",
       "      <td id=\"T_5f7f0_row10_col14\" class=\"data row10 col14\" >1.466563</td>\n",
       "      <td id=\"T_5f7f0_row10_col15\" class=\"data row10 col15\" >nan</td>\n",
       "      <td id=\"T_5f7f0_row10_col16\" class=\"data row10 col16\" >rejected</td>\n",
       "      <td id=\"T_5f7f0_row10_col17\" class=\"data row10 col17\" >Unlikely BOLD</td>\n",
       "    </tr>\n",
       "    <tr>\n",
       "      <th id=\"T_5f7f0_level0_row11\" class=\"row_heading level0 row11\" >11</th>\n",
       "      <td id=\"T_5f7f0_row11_col0\" class=\"data row11 col0\" >ICA_11</td>\n",
       "      <td id=\"T_5f7f0_row11_col1\" class=\"data row11 col1\" >22.601135</td>\n",
       "      <td id=\"T_5f7f0_row11_col2\" class=\"data row11 col2\" >36.298328</td>\n",
       "      <td id=\"T_5f7f0_row11_col3\" class=\"data row11 col3\" >0.453209</td>\n",
       "      <td id=\"T_5f7f0_row11_col4\" class=\"data row11 col4\" >0.004387</td>\n",
       "      <td id=\"T_5f7f0_row11_col5\" class=\"data row11 col5\" >470</td>\n",
       "      <td id=\"T_5f7f0_row11_col6\" class=\"data row11 col6\" >538</td>\n",
       "      <td id=\"T_5f7f0_row11_col7\" class=\"data row11 col7\" >0.341151</td>\n",
       "      <td id=\"T_5f7f0_row11_col8\" class=\"data row11 col8\" >0.458527</td>\n",
       "      <td id=\"T_5f7f0_row11_col9\" class=\"data row11 col9\" >1089</td>\n",
       "      <td id=\"T_5f7f0_row11_col10\" class=\"data row11 col10\" >1.325181</td>\n",
       "      <td id=\"T_5f7f0_row11_col11\" class=\"data row11 col11\" >0.197289</td>\n",
       "      <td id=\"T_5f7f0_row11_col12\" class=\"data row11 col12\" >23.400000</td>\n",
       "      <td id=\"T_5f7f0_row11_col13\" class=\"data row11 col13\" >-1</td>\n",
       "      <td id=\"T_5f7f0_row11_col14\" class=\"data row11 col14\" >1.541007</td>\n",
       "      <td id=\"T_5f7f0_row11_col15\" class=\"data row11 col15\" >nan</td>\n",
       "      <td id=\"T_5f7f0_row11_col16\" class=\"data row11 col16\" >rejected</td>\n",
       "      <td id=\"T_5f7f0_row11_col17\" class=\"data row11 col17\" >Unlikely BOLD</td>\n",
       "    </tr>\n",
       "    <tr>\n",
       "      <th id=\"T_5f7f0_level0_row12\" class=\"row_heading level0 row12\" >12</th>\n",
       "      <td id=\"T_5f7f0_row12_col0\" class=\"data row12 col0\" >ICA_12</td>\n",
       "      <td id=\"T_5f7f0_row12_col1\" class=\"data row12 col1\" >23.968036</td>\n",
       "      <td id=\"T_5f7f0_row12_col2\" class=\"data row12 col2\" >20.341244</td>\n",
       "      <td id=\"T_5f7f0_row12_col3\" class=\"data row12 col3\" >0.472085</td>\n",
       "      <td id=\"T_5f7f0_row12_col4\" class=\"data row12 col4\" >0.004739</td>\n",
       "      <td id=\"T_5f7f0_row12_col5\" class=\"data row12 col5\" >570</td>\n",
       "      <td id=\"T_5f7f0_row12_col6\" class=\"data row12 col6\" >377</td>\n",
       "      <td id=\"T_5f7f0_row12_col7\" class=\"data row12 col7\" >0.255958</td>\n",
       "      <td id=\"T_5f7f0_row12_col8\" class=\"data row12 col8\" >0.176471</td>\n",
       "      <td id=\"T_5f7f0_row12_col9\" class=\"data row12 col9\" >1148</td>\n",
       "      <td id=\"T_5f7f0_row12_col10\" class=\"data row12 col10\" >-3.632142</td>\n",
       "      <td id=\"T_5f7f0_row12_col11\" class=\"data row12 col11\" >0.000857</td>\n",
       "      <td id=\"T_5f7f0_row12_col12\" class=\"data row12 col12\" >29.000000</td>\n",
       "      <td id=\"T_5f7f0_row12_col13\" class=\"data row12 col13\" >-1</td>\n",
       "      <td id=\"T_5f7f0_row12_col14\" class=\"data row12 col14\" >1.513643</td>\n",
       "      <td id=\"T_5f7f0_row12_col15\" class=\"data row12 col15\" >17.000000</td>\n",
       "      <td id=\"T_5f7f0_row12_col16\" class=\"data row12 col16\" >accepted</td>\n",
       "      <td id=\"T_5f7f0_row12_col17\" class=\"data row12 col17\" >Likely BOLD</td>\n",
       "    </tr>\n",
       "    <tr>\n",
       "      <th id=\"T_5f7f0_level0_row13\" class=\"row_heading level0 row13\" >13</th>\n",
       "      <td id=\"T_5f7f0_row13_col0\" class=\"data row13 col0\" >ICA_13</td>\n",
       "      <td id=\"T_5f7f0_row13_col1\" class=\"data row13 col1\" >24.006483</td>\n",
       "      <td id=\"T_5f7f0_row13_col2\" class=\"data row13 col2\" >14.921336</td>\n",
       "      <td id=\"T_5f7f0_row13_col3\" class=\"data row13 col3\" >0.218386</td>\n",
       "      <td id=\"T_5f7f0_row13_col4\" class=\"data row13 col4\" >0.003102</td>\n",
       "      <td id=\"T_5f7f0_row13_col5\" class=\"data row13 col5\" >1128</td>\n",
       "      <td id=\"T_5f7f0_row13_col6\" class=\"data row13 col6\" >630</td>\n",
       "      <td id=\"T_5f7f0_row13_col7\" class=\"data row13 col7\" >0.319091</td>\n",
       "      <td id=\"T_5f7f0_row13_col8\" class=\"data row13 col8\" >0.296675</td>\n",
       "      <td id=\"T_5f7f0_row13_col9\" class=\"data row13 col9\" >1231</td>\n",
       "      <td id=\"T_5f7f0_row13_col10\" class=\"data row13 col10\" >0.000000</td>\n",
       "      <td id=\"T_5f7f0_row13_col11\" class=\"data row13 col11\" >0.000000</td>\n",
       "      <td id=\"T_5f7f0_row13_col12\" class=\"data row13 col12\" >26.000000</td>\n",
       "      <td id=\"T_5f7f0_row13_col13\" class=\"data row13 col13\" >-1</td>\n",
       "      <td id=\"T_5f7f0_row13_col14\" class=\"data row13 col14\" >0.699088</td>\n",
       "      <td id=\"T_5f7f0_row13_col15\" class=\"data row13 col15\" >nan</td>\n",
       "      <td id=\"T_5f7f0_row13_col16\" class=\"data row13 col16\" >accepted</td>\n",
       "      <td id=\"T_5f7f0_row13_col17\" class=\"data row13 col17\" >Low variance</td>\n",
       "    </tr>\n",
       "    <tr>\n",
       "      <th id=\"T_5f7f0_level0_row14\" class=\"row_heading level0 row14\" >14</th>\n",
       "      <td id=\"T_5f7f0_row14_col0\" class=\"data row14 col0\" >ICA_14</td>\n",
       "      <td id=\"T_5f7f0_row14_col1\" class=\"data row14 col1\" >52.863978</td>\n",
       "      <td id=\"T_5f7f0_row14_col2\" class=\"data row14 col2\" >11.030685</td>\n",
       "      <td id=\"T_5f7f0_row14_col3\" class=\"data row14 col3\" >0.808909</td>\n",
       "      <td id=\"T_5f7f0_row14_col4\" class=\"data row14 col4\" >0.009880</td>\n",
       "      <td id=\"T_5f7f0_row14_col5\" class=\"data row14 col5\" >2942</td>\n",
       "      <td id=\"T_5f7f0_row14_col6\" class=\"data row14 col6\" >188</td>\n",
       "      <td id=\"T_5f7f0_row14_col7\" class=\"data row14 col7\" >0.563806</td>\n",
       "      <td id=\"T_5f7f0_row14_col8\" class=\"data row14 col8\" >0.000000</td>\n",
       "      <td id=\"T_5f7f0_row14_col9\" class=\"data row14 col9\" >929</td>\n",
       "      <td id=\"T_5f7f0_row14_col10\" class=\"data row14 col10\" >12.391319</td>\n",
       "      <td id=\"T_5f7f0_row14_col11\" class=\"data row14 col11\" >0.000000</td>\n",
       "      <td id=\"T_5f7f0_row14_col12\" class=\"data row14 col12\" >7.600000</td>\n",
       "      <td id=\"T_5f7f0_row14_col13\" class=\"data row14 col13\" >-1</td>\n",
       "      <td id=\"T_5f7f0_row14_col14\" class=\"data row14 col14\" >1.175915</td>\n",
       "      <td id=\"T_5f7f0_row14_col15\" class=\"data row14 col15\" >6.600000</td>\n",
       "      <td id=\"T_5f7f0_row14_col16\" class=\"data row14 col16\" >accepted</td>\n",
       "      <td id=\"T_5f7f0_row14_col17\" class=\"data row14 col17\" >Likely BOLD</td>\n",
       "    </tr>\n",
       "    <tr>\n",
       "      <th id=\"T_5f7f0_level0_row15\" class=\"row_heading level0 row15\" >15</th>\n",
       "      <td id=\"T_5f7f0_row15_col0\" class=\"data row15 col0\" >ICA_15</td>\n",
       "      <td id=\"T_5f7f0_row15_col1\" class=\"data row15 col1\" >28.881649</td>\n",
       "      <td id=\"T_5f7f0_row15_col2\" class=\"data row15 col2\" >23.392165</td>\n",
       "      <td id=\"T_5f7f0_row15_col3\" class=\"data row15 col3\" >1.202041</td>\n",
       "      <td id=\"T_5f7f0_row15_col4\" class=\"data row15 col4\" >0.011165</td>\n",
       "      <td id=\"T_5f7f0_row15_col5\" class=\"data row15 col5\" >1297</td>\n",
       "      <td id=\"T_5f7f0_row15_col6\" class=\"data row15 col6\" >433</td>\n",
       "      <td id=\"T_5f7f0_row15_col7\" class=\"data row15 col7\" >0.313320</td>\n",
       "      <td id=\"T_5f7f0_row15_col8\" class=\"data row15 col8\" >0.163170</td>\n",
       "      <td id=\"T_5f7f0_row15_col9\" class=\"data row15 col9\" >1233</td>\n",
       "      <td id=\"T_5f7f0_row15_col10\" class=\"data row15 col10\" >0.000000</td>\n",
       "      <td id=\"T_5f7f0_row15_col11\" class=\"data row15 col11\" >0.000000</td>\n",
       "      <td id=\"T_5f7f0_row15_col12\" class=\"data row15 col12\" >25.200000</td>\n",
       "      <td id=\"T_5f7f0_row15_col13\" class=\"data row15 col13\" >1</td>\n",
       "      <td id=\"T_5f7f0_row15_col14\" class=\"data row15 col14\" >3.198404</td>\n",
       "      <td id=\"T_5f7f0_row15_col15\" class=\"data row15 col15\" >15.200000</td>\n",
       "      <td id=\"T_5f7f0_row15_col16\" class=\"data row15 col16\" >rejected</td>\n",
       "      <td id=\"T_5f7f0_row15_col17\" class=\"data row15 col17\" >Less likely BOLD</td>\n",
       "    </tr>\n",
       "    <tr>\n",
       "      <th id=\"T_5f7f0_level0_row16\" class=\"row_heading level0 row16\" >16</th>\n",
       "      <td id=\"T_5f7f0_row16_col0\" class=\"data row16 col0\" >ICA_16</td>\n",
       "      <td id=\"T_5f7f0_row16_col1\" class=\"data row16 col1\" >25.912802</td>\n",
       "      <td id=\"T_5f7f0_row16_col2\" class=\"data row16 col2\" >31.719562</td>\n",
       "      <td id=\"T_5f7f0_row16_col3\" class=\"data row16 col3\" >0.420603</td>\n",
       "      <td id=\"T_5f7f0_row16_col4\" class=\"data row16 col4\" >0.004614</td>\n",
       "      <td id=\"T_5f7f0_row16_col5\" class=\"data row16 col5\" >392</td>\n",
       "      <td id=\"T_5f7f0_row16_col6\" class=\"data row16 col6\" >463</td>\n",
       "      <td id=\"T_5f7f0_row16_col7\" class=\"data row16 col7\" >0.304124</td>\n",
       "      <td id=\"T_5f7f0_row16_col8\" class=\"data row16 col8\" >0.282916</td>\n",
       "      <td id=\"T_5f7f0_row16_col9\" class=\"data row16 col9\" >1099</td>\n",
       "      <td id=\"T_5f7f0_row16_col10\" class=\"data row16 col10\" >0.000000</td>\n",
       "      <td id=\"T_5f7f0_row16_col11\" class=\"data row16 col11\" >0.000000</td>\n",
       "      <td id=\"T_5f7f0_row16_col12\" class=\"data row16 col12\" >26.400000</td>\n",
       "      <td id=\"T_5f7f0_row16_col13\" class=\"data row16 col13\" >1</td>\n",
       "      <td id=\"T_5f7f0_row16_col14\" class=\"data row16 col14\" >1.247365</td>\n",
       "      <td id=\"T_5f7f0_row16_col15\" class=\"data row16 col15\" >nan</td>\n",
       "      <td id=\"T_5f7f0_row16_col16\" class=\"data row16 col16\" >rejected</td>\n",
       "      <td id=\"T_5f7f0_row16_col17\" class=\"data row16 col17\" >Unlikely BOLD</td>\n",
       "    </tr>\n",
       "    <tr>\n",
       "      <th id=\"T_5f7f0_level0_row17\" class=\"row_heading level0 row17\" >17</th>\n",
       "      <td id=\"T_5f7f0_row17_col0\" class=\"data row17 col0\" >ICA_17</td>\n",
       "      <td id=\"T_5f7f0_row17_col1\" class=\"data row17 col1\" >16.999247</td>\n",
       "      <td id=\"T_5f7f0_row17_col2\" class=\"data row17 col2\" >19.297453</td>\n",
       "      <td id=\"T_5f7f0_row17_col3\" class=\"data row17 col3\" >0.278863</td>\n",
       "      <td id=\"T_5f7f0_row17_col4\" class=\"data row17 col4\" >0.003151</td>\n",
       "      <td id=\"T_5f7f0_row17_col5\" class=\"data row17 col5\" >420</td>\n",
       "      <td id=\"T_5f7f0_row17_col6\" class=\"data row17 col6\" >655</td>\n",
       "      <td id=\"T_5f7f0_row17_col7\" class=\"data row17 col7\" >0.203593</td>\n",
       "      <td id=\"T_5f7f0_row17_col8\" class=\"data row17 col8\" >0.222566</td>\n",
       "      <td id=\"T_5f7f0_row17_col9\" class=\"data row17 col9\" >1230</td>\n",
       "      <td id=\"T_5f7f0_row17_col10\" class=\"data row17 col10\" >0.000000</td>\n",
       "      <td id=\"T_5f7f0_row17_col11\" class=\"data row17 col11\" >0.000000</td>\n",
       "      <td id=\"T_5f7f0_row17_col12\" class=\"data row17 col12\" >31.800000</td>\n",
       "      <td id=\"T_5f7f0_row17_col13\" class=\"data row17 col13\" >-1</td>\n",
       "      <td id=\"T_5f7f0_row17_col14\" class=\"data row17 col14\" >1.260659</td>\n",
       "      <td id=\"T_5f7f0_row17_col15\" class=\"data row17 col15\" >nan</td>\n",
       "      <td id=\"T_5f7f0_row17_col16\" class=\"data row17 col16\" >rejected</td>\n",
       "      <td id=\"T_5f7f0_row17_col17\" class=\"data row17 col17\" >Unlikely BOLD</td>\n",
       "    </tr>\n",
       "    <tr>\n",
       "      <th id=\"T_5f7f0_level0_row18\" class=\"row_heading level0 row18\" >18</th>\n",
       "      <td id=\"T_5f7f0_row18_col0\" class=\"data row18 col0\" >ICA_18</td>\n",
       "      <td id=\"T_5f7f0_row18_col1\" class=\"data row18 col1\" >66.799022</td>\n",
       "      <td id=\"T_5f7f0_row18_col2\" class=\"data row18 col2\" >11.946827</td>\n",
       "      <td id=\"T_5f7f0_row18_col3\" class=\"data row18 col3\" >0.683821</td>\n",
       "      <td id=\"T_5f7f0_row18_col4\" class=\"data row18 col4\" >0.006818</td>\n",
       "      <td id=\"T_5f7f0_row18_col5\" class=\"data row18 col5\" >2054</td>\n",
       "      <td id=\"T_5f7f0_row18_col6\" class=\"data row18 col6\" >421</td>\n",
       "      <td id=\"T_5f7f0_row18_col7\" class=\"data row18 col7\" >0.645953</td>\n",
       "      <td id=\"T_5f7f0_row18_col8\" class=\"data row18 col8\" >0.255696</td>\n",
       "      <td id=\"T_5f7f0_row18_col9\" class=\"data row18 col9\" >689</td>\n",
       "      <td id=\"T_5f7f0_row18_col10\" class=\"data row18 col10\" >14.985958</td>\n",
       "      <td id=\"T_5f7f0_row18_col11\" class=\"data row18 col11\" >0.000000</td>\n",
       "      <td id=\"T_5f7f0_row18_col12\" class=\"data row18 col12\" >4.400000</td>\n",
       "      <td id=\"T_5f7f0_row18_col13\" class=\"data row18 col13\" >-1</td>\n",
       "      <td id=\"T_5f7f0_row18_col14\" class=\"data row18 col14\" >0.786699</td>\n",
       "      <td id=\"T_5f7f0_row18_col15\" class=\"data row18 col15\" >3.800000</td>\n",
       "      <td id=\"T_5f7f0_row18_col16\" class=\"data row18 col16\" >accepted</td>\n",
       "      <td id=\"T_5f7f0_row18_col17\" class=\"data row18 col17\" >Likely BOLD</td>\n",
       "    </tr>\n",
       "    <tr>\n",
       "      <th id=\"T_5f7f0_level0_row19\" class=\"row_heading level0 row19\" >19</th>\n",
       "      <td id=\"T_5f7f0_row19_col0\" class=\"data row19 col0\" >ICA_19</td>\n",
       "      <td id=\"T_5f7f0_row19_col1\" class=\"data row19 col1\" >37.562890</td>\n",
       "      <td id=\"T_5f7f0_row19_col2\" class=\"data row19 col2\" >40.905321</td>\n",
       "      <td id=\"T_5f7f0_row19_col3\" class=\"data row19 col3\" >1.464678</td>\n",
       "      <td id=\"T_5f7f0_row19_col4\" class=\"data row19 col4\" >0.015207</td>\n",
       "      <td id=\"T_5f7f0_row19_col5\" class=\"data row19 col5\" >547</td>\n",
       "      <td id=\"T_5f7f0_row19_col6\" class=\"data row19 col6\" >710</td>\n",
       "      <td id=\"T_5f7f0_row19_col7\" class=\"data row19 col7\" >0.389199</td>\n",
       "      <td id=\"T_5f7f0_row19_col8\" class=\"data row19 col8\" >0.400868</td>\n",
       "      <td id=\"T_5f7f0_row19_col9\" class=\"data row19 col9\" >1001</td>\n",
       "      <td id=\"T_5f7f0_row19_col10\" class=\"data row19 col10\" >3.334854</td>\n",
       "      <td id=\"T_5f7f0_row19_col11\" class=\"data row19 col11\" >0.002702</td>\n",
       "      <td id=\"T_5f7f0_row19_col12\" class=\"data row19 col12\" >17.000000</td>\n",
       "      <td id=\"T_5f7f0_row19_col13\" class=\"data row19 col13\" >1</td>\n",
       "      <td id=\"T_5f7f0_row19_col14\" class=\"data row19 col14\" >2.996533</td>\n",
       "      <td id=\"T_5f7f0_row19_col15\" class=\"data row19 col15\" >nan</td>\n",
       "      <td id=\"T_5f7f0_row19_col16\" class=\"data row19 col16\" >rejected</td>\n",
       "      <td id=\"T_5f7f0_row19_col17\" class=\"data row19 col17\" >Unlikely BOLD</td>\n",
       "    </tr>\n",
       "    <tr>\n",
       "      <th id=\"T_5f7f0_level0_row20\" class=\"row_heading level0 row20\" >20</th>\n",
       "      <td id=\"T_5f7f0_row20_col0\" class=\"data row20 col0\" >ICA_20</td>\n",
       "      <td id=\"T_5f7f0_row20_col1\" class=\"data row20 col1\" >15.305864</td>\n",
       "      <td id=\"T_5f7f0_row20_col2\" class=\"data row20 col2\" >21.290880</td>\n",
       "      <td id=\"T_5f7f0_row20_col3\" class=\"data row20 col3\" >0.407149</td>\n",
       "      <td id=\"T_5f7f0_row20_col4\" class=\"data row20 col4\" >0.006202</td>\n",
       "      <td id=\"T_5f7f0_row20_col5\" class=\"data row20 col5\" >45</td>\n",
       "      <td id=\"T_5f7f0_row20_col6\" class=\"data row20 col6\" >192</td>\n",
       "      <td id=\"T_5f7f0_row20_col7\" class=\"data row20 col7\" >0.000000</td>\n",
       "      <td id=\"T_5f7f0_row20_col8\" class=\"data row20 col8\" >0.317708</td>\n",
       "      <td id=\"T_5f7f0_row20_col9\" class=\"data row20 col9\" >831</td>\n",
       "      <td id=\"T_5f7f0_row20_col10\" class=\"data row20 col10\" >-2.145011</td>\n",
       "      <td id=\"T_5f7f0_row20_col11\" class=\"data row20 col11\" >0.032462</td>\n",
       "      <td id=\"T_5f7f0_row20_col12\" class=\"data row20 col12\" >33.200000</td>\n",
       "      <td id=\"T_5f7f0_row20_col13\" class=\"data row20 col13\" >-1</td>\n",
       "      <td id=\"T_5f7f0_row20_col14\" class=\"data row20 col14\" >2.044238</td>\n",
       "      <td id=\"T_5f7f0_row20_col15\" class=\"data row20 col15\" >nan</td>\n",
       "      <td id=\"T_5f7f0_row20_col16\" class=\"data row20 col16\" >rejected</td>\n",
       "      <td id=\"T_5f7f0_row20_col17\" class=\"data row20 col17\" >Unlikely BOLD</td>\n",
       "    </tr>\n",
       "    <tr>\n",
       "      <th id=\"T_5f7f0_level0_row21\" class=\"row_heading level0 row21\" >21</th>\n",
       "      <td id=\"T_5f7f0_row21_col0\" class=\"data row21 col0\" >ICA_21</td>\n",
       "      <td id=\"T_5f7f0_row21_col1\" class=\"data row21 col1\" >84.952283</td>\n",
       "      <td id=\"T_5f7f0_row21_col2\" class=\"data row21 col2\" >11.250273</td>\n",
       "      <td id=\"T_5f7f0_row21_col3\" class=\"data row21 col3\" >1.244685</td>\n",
       "      <td id=\"T_5f7f0_row21_col4\" class=\"data row21 col4\" >0.008481</td>\n",
       "      <td id=\"T_5f7f0_row21_col5\" class=\"data row21 col5\" >2580</td>\n",
       "      <td id=\"T_5f7f0_row21_col6\" class=\"data row21 col6\" >288</td>\n",
       "      <td id=\"T_5f7f0_row21_col7\" class=\"data row21 col7\" >0.658527</td>\n",
       "      <td id=\"T_5f7f0_row21_col8\" class=\"data row21 col8\" >0.117647</td>\n",
       "      <td id=\"T_5f7f0_row21_col9\" class=\"data row21 col9\" >628</td>\n",
       "      <td id=\"T_5f7f0_row21_col10\" class=\"data row21 col10\" >10.338983</td>\n",
       "      <td id=\"T_5f7f0_row21_col11\" class=\"data row21 col11\" >0.000000</td>\n",
       "      <td id=\"T_5f7f0_row21_col12\" class=\"data row21 col12\" >3.400000</td>\n",
       "      <td id=\"T_5f7f0_row21_col13\" class=\"data row21 col13\" >1</td>\n",
       "      <td id=\"T_5f7f0_row21_col14\" class=\"data row21 col14\" >1.125953</td>\n",
       "      <td id=\"T_5f7f0_row21_col15\" class=\"data row21 col15\" >3.000000</td>\n",
       "      <td id=\"T_5f7f0_row21_col16\" class=\"data row21 col16\" >accepted</td>\n",
       "      <td id=\"T_5f7f0_row21_col17\" class=\"data row21 col17\" >Likely BOLD</td>\n",
       "    </tr>\n",
       "    <tr>\n",
       "      <th id=\"T_5f7f0_level0_row22\" class=\"row_heading level0 row22\" >22</th>\n",
       "      <td id=\"T_5f7f0_row22_col0\" class=\"data row22 col0\" >ICA_22</td>\n",
       "      <td id=\"T_5f7f0_row22_col1\" class=\"data row22 col1\" >47.428357</td>\n",
       "      <td id=\"T_5f7f0_row22_col2\" class=\"data row22 col2\" >22.884456</td>\n",
       "      <td id=\"T_5f7f0_row22_col3\" class=\"data row22 col3\" >18.118683</td>\n",
       "      <td id=\"T_5f7f0_row22_col4\" class=\"data row22 col4\" >0.147507</td>\n",
       "      <td id=\"T_5f7f0_row22_col5\" class=\"data row22 col5\" >5043</td>\n",
       "      <td id=\"T_5f7f0_row22_col6\" class=\"data row22 col6\" >2404</td>\n",
       "      <td id=\"T_5f7f0_row22_col7\" class=\"data row22 col7\" >0.457943</td>\n",
       "      <td id=\"T_5f7f0_row22_col8\" class=\"data row22 col8\" >0.179092</td>\n",
       "      <td id=\"T_5f7f0_row22_col9\" class=\"data row22 col9\" >1041</td>\n",
       "      <td id=\"T_5f7f0_row22_col10\" class=\"data row22 col10\" >0.000000</td>\n",
       "      <td id=\"T_5f7f0_row22_col11\" class=\"data row22 col11\" >0.000000</td>\n",
       "      <td id=\"T_5f7f0_row22_col12\" class=\"data row22 col12\" >13.600000</td>\n",
       "      <td id=\"T_5f7f0_row22_col13\" class=\"data row22 col13\" >-1</td>\n",
       "      <td id=\"T_5f7f0_row22_col14\" class=\"data row22 col14\" >29.357867</td>\n",
       "      <td id=\"T_5f7f0_row22_col15\" class=\"data row22 col15\" >9.400000</td>\n",
       "      <td id=\"T_5f7f0_row22_col16\" class=\"data row22 col16\" >rejected</td>\n",
       "      <td id=\"T_5f7f0_row22_col17\" class=\"data row22 col17\" >Less likely BOLD</td>\n",
       "    </tr>\n",
       "    <tr>\n",
       "      <th id=\"T_5f7f0_level0_row23\" class=\"row_heading level0 row23\" >23</th>\n",
       "      <td id=\"T_5f7f0_row23_col0\" class=\"data row23 col0\" >ICA_23</td>\n",
       "      <td id=\"T_5f7f0_row23_col1\" class=\"data row23 col1\" >12.120251</td>\n",
       "      <td id=\"T_5f7f0_row23_col2\" class=\"data row23 col2\" >29.573528</td>\n",
       "      <td id=\"T_5f7f0_row23_col3\" class=\"data row23 col3\" >0.326093</td>\n",
       "      <td id=\"T_5f7f0_row23_col4\" class=\"data row23 col4\" >0.004685</td>\n",
       "      <td id=\"T_5f7f0_row23_col5\" class=\"data row23 col5\" >94</td>\n",
       "      <td id=\"T_5f7f0_row23_col6\" class=\"data row23 col6\" >214</td>\n",
       "      <td id=\"T_5f7f0_row23_col7\" class=\"data row23 col7\" >0.000000</td>\n",
       "      <td id=\"T_5f7f0_row23_col8\" class=\"data row23 col8\" >0.503529</td>\n",
       "      <td id=\"T_5f7f0_row23_col9\" class=\"data row23 col9\" >650</td>\n",
       "      <td id=\"T_5f7f0_row23_col10\" class=\"data row23 col10\" >-8.669511</td>\n",
       "      <td id=\"T_5f7f0_row23_col11\" class=\"data row23 col11\" >0.000000</td>\n",
       "      <td id=\"T_5f7f0_row23_col12\" class=\"data row23 col12\" >33.600000</td>\n",
       "      <td id=\"T_5f7f0_row23_col13\" class=\"data row23 col13\" >1</td>\n",
       "      <td id=\"T_5f7f0_row23_col14\" class=\"data row23 col14\" >2.067595</td>\n",
       "      <td id=\"T_5f7f0_row23_col15\" class=\"data row23 col15\" >nan</td>\n",
       "      <td id=\"T_5f7f0_row23_col16\" class=\"data row23 col16\" >rejected</td>\n",
       "      <td id=\"T_5f7f0_row23_col17\" class=\"data row23 col17\" >Unlikely BOLD</td>\n",
       "    </tr>\n",
       "    <tr>\n",
       "      <th id=\"T_5f7f0_level0_row24\" class=\"row_heading level0 row24\" >24</th>\n",
       "      <td id=\"T_5f7f0_row24_col0\" class=\"data row24 col0\" >ICA_24</td>\n",
       "      <td id=\"T_5f7f0_row24_col1\" class=\"data row24 col1\" >34.286932</td>\n",
       "      <td id=\"T_5f7f0_row24_col2\" class=\"data row24 col2\" >24.547042</td>\n",
       "      <td id=\"T_5f7f0_row24_col3\" class=\"data row24 col3\" >0.972365</td>\n",
       "      <td id=\"T_5f7f0_row24_col4\" class=\"data row24 col4\" >0.010708</td>\n",
       "      <td id=\"T_5f7f0_row24_col5\" class=\"data row24 col5\" >1262</td>\n",
       "      <td id=\"T_5f7f0_row24_col6\" class=\"data row24 col6\" >419</td>\n",
       "      <td id=\"T_5f7f0_row24_col7\" class=\"data row24 col7\" >0.400000</td>\n",
       "      <td id=\"T_5f7f0_row24_col8\" class=\"data row24 col8\" >0.000000</td>\n",
       "      <td id=\"T_5f7f0_row24_col9\" class=\"data row24 col9\" >1251</td>\n",
       "      <td id=\"T_5f7f0_row24_col10\" class=\"data row24 col10\" >0.000000</td>\n",
       "      <td id=\"T_5f7f0_row24_col11\" class=\"data row24 col11\" >0.000000</td>\n",
       "      <td id=\"T_5f7f0_row24_col12\" class=\"data row24 col12\" >22.800000</td>\n",
       "      <td id=\"T_5f7f0_row24_col13\" class=\"data row24 col13\" >1</td>\n",
       "      <td id=\"T_5f7f0_row24_col14\" class=\"data row24 col14\" >2.179397</td>\n",
       "      <td id=\"T_5f7f0_row24_col15\" class=\"data row24 col15\" >13.800000</td>\n",
       "      <td id=\"T_5f7f0_row24_col16\" class=\"data row24 col16\" >rejected</td>\n",
       "      <td id=\"T_5f7f0_row24_col17\" class=\"data row24 col17\" >Less likely BOLD</td>\n",
       "    </tr>\n",
       "    <tr>\n",
       "      <th id=\"T_5f7f0_level0_row25\" class=\"row_heading level0 row25\" >25</th>\n",
       "      <td id=\"T_5f7f0_row25_col0\" class=\"data row25 col0\" >ICA_25</td>\n",
       "      <td id=\"T_5f7f0_row25_col1\" class=\"data row25 col1\" >16.953422</td>\n",
       "      <td id=\"T_5f7f0_row25_col2\" class=\"data row25 col2\" >16.732650</td>\n",
       "      <td id=\"T_5f7f0_row25_col3\" class=\"data row25 col3\" >0.211095</td>\n",
       "      <td id=\"T_5f7f0_row25_col4\" class=\"data row25 col4\" >0.002731</td>\n",
       "      <td id=\"T_5f7f0_row25_col5\" class=\"data row25 col5\" >260</td>\n",
       "      <td id=\"T_5f7f0_row25_col6\" class=\"data row25 col6\" >459</td>\n",
       "      <td id=\"T_5f7f0_row25_col7\" class=\"data row25 col7\" >0.000000</td>\n",
       "      <td id=\"T_5f7f0_row25_col8\" class=\"data row25 col8\" >0.317181</td>\n",
       "      <td id=\"T_5f7f0_row25_col9\" class=\"data row25 col9\" >1270</td>\n",
       "      <td id=\"T_5f7f0_row25_col10\" class=\"data row25 col10\" >0.000000</td>\n",
       "      <td id=\"T_5f7f0_row25_col11\" class=\"data row25 col11\" >0.000000</td>\n",
       "      <td id=\"T_5f7f0_row25_col12\" class=\"data row25 col12\" >36.400000</td>\n",
       "      <td id=\"T_5f7f0_row25_col13\" class=\"data row25 col13\" >1</td>\n",
       "      <td id=\"T_5f7f0_row25_col14\" class=\"data row25 col14\" >0.956880</td>\n",
       "      <td id=\"T_5f7f0_row25_col15\" class=\"data row25 col15\" >nan</td>\n",
       "      <td id=\"T_5f7f0_row25_col16\" class=\"data row25 col16\" >rejected</td>\n",
       "      <td id=\"T_5f7f0_row25_col17\" class=\"data row25 col17\" >Unlikely BOLD</td>\n",
       "    </tr>\n",
       "    <tr>\n",
       "      <th id=\"T_5f7f0_level0_row26\" class=\"row_heading level0 row26\" >26</th>\n",
       "      <td id=\"T_5f7f0_row26_col0\" class=\"data row26 col0\" >ICA_26</td>\n",
       "      <td id=\"T_5f7f0_row26_col1\" class=\"data row26 col1\" >20.361392</td>\n",
       "      <td id=\"T_5f7f0_row26_col2\" class=\"data row26 col2\" >14.432911</td>\n",
       "      <td id=\"T_5f7f0_row26_col3\" class=\"data row26 col3\" >0.176224</td>\n",
       "      <td id=\"T_5f7f0_row26_col4\" class=\"data row26 col4\" >0.002748</td>\n",
       "      <td id=\"T_5f7f0_row26_col5\" class=\"data row26 col5\" >500</td>\n",
       "      <td id=\"T_5f7f0_row26_col6\" class=\"data row26 col6\" >235</td>\n",
       "      <td id=\"T_5f7f0_row26_col7\" class=\"data row26 col7\" >0.377510</td>\n",
       "      <td id=\"T_5f7f0_row26_col8\" class=\"data row26 col8\" >0.186147</td>\n",
       "      <td id=\"T_5f7f0_row26_col9\" class=\"data row26 col9\" >1203</td>\n",
       "      <td id=\"T_5f7f0_row26_col10\" class=\"data row26 col10\" >3.117638</td>\n",
       "      <td id=\"T_5f7f0_row26_col11\" class=\"data row26 col11\" >0.002406</td>\n",
       "      <td id=\"T_5f7f0_row26_col12\" class=\"data row26 col12\" >24.200000</td>\n",
       "      <td id=\"T_5f7f0_row26_col13\" class=\"data row26 col13\" >1</td>\n",
       "      <td id=\"T_5f7f0_row26_col14\" class=\"data row26 col14\" >0.665110</td>\n",
       "      <td id=\"T_5f7f0_row26_col15\" class=\"data row26 col15\" >nan</td>\n",
       "      <td id=\"T_5f7f0_row26_col16\" class=\"data row26 col16\" >accepted</td>\n",
       "      <td id=\"T_5f7f0_row26_col17\" class=\"data row26 col17\" >Low variance</td>\n",
       "    </tr>\n",
       "    <tr>\n",
       "      <th id=\"T_5f7f0_level0_row27\" class=\"row_heading level0 row27\" >27</th>\n",
       "      <td id=\"T_5f7f0_row27_col0\" class=\"data row27 col0\" >ICA_27</td>\n",
       "      <td id=\"T_5f7f0_row27_col1\" class=\"data row27 col1\" >33.321036</td>\n",
       "      <td id=\"T_5f7f0_row27_col2\" class=\"data row27 col2\" >32.060287</td>\n",
       "      <td id=\"T_5f7f0_row27_col3\" class=\"data row27 col3\" >0.865706</td>\n",
       "      <td id=\"T_5f7f0_row27_col4\" class=\"data row27 col4\" >0.010818</td>\n",
       "      <td id=\"T_5f7f0_row27_col5\" class=\"data row27 col5\" >492</td>\n",
       "      <td id=\"T_5f7f0_row27_col6\" class=\"data row27 col6\" >365</td>\n",
       "      <td id=\"T_5f7f0_row27_col7\" class=\"data row27 col7\" >0.357895</td>\n",
       "      <td id=\"T_5f7f0_row27_col8\" class=\"data row27 col8\" >0.000000</td>\n",
       "      <td id=\"T_5f7f0_row27_col9\" class=\"data row27 col9\" >1084</td>\n",
       "      <td id=\"T_5f7f0_row27_col10\" class=\"data row27 col10\" >0.000000</td>\n",
       "      <td id=\"T_5f7f0_row27_col11\" class=\"data row27 col11\" >0.000000</td>\n",
       "      <td id=\"T_5f7f0_row27_col12\" class=\"data row27 col12\" >22.800000</td>\n",
       "      <td id=\"T_5f7f0_row27_col13\" class=\"data row27 col13\" >1</td>\n",
       "      <td id=\"T_5f7f0_row27_col14\" class=\"data row27 col14\" >1.996586</td>\n",
       "      <td id=\"T_5f7f0_row27_col15\" class=\"data row27 col15\" >14.600000</td>\n",
       "      <td id=\"T_5f7f0_row27_col16\" class=\"data row27 col16\" >rejected</td>\n",
       "      <td id=\"T_5f7f0_row27_col17\" class=\"data row27 col17\" >Less likely BOLD</td>\n",
       "    </tr>\n",
       "    <tr>\n",
       "      <th id=\"T_5f7f0_level0_row28\" class=\"row_heading level0 row28\" >28</th>\n",
       "      <td id=\"T_5f7f0_row28_col0\" class=\"data row28 col0\" >ICA_28</td>\n",
       "      <td id=\"T_5f7f0_row28_col1\" class=\"data row28 col1\" >30.108351</td>\n",
       "      <td id=\"T_5f7f0_row28_col2\" class=\"data row28 col2\" >12.927686</td>\n",
       "      <td id=\"T_5f7f0_row28_col3\" class=\"data row28 col3\" >1.039400</td>\n",
       "      <td id=\"T_5f7f0_row28_col4\" class=\"data row28 col4\" >0.007045</td>\n",
       "      <td id=\"T_5f7f0_row28_col5\" class=\"data row28 col5\" >1158</td>\n",
       "      <td id=\"T_5f7f0_row28_col6\" class=\"data row28 col6\" >121</td>\n",
       "      <td id=\"T_5f7f0_row28_col7\" class=\"data row28 col7\" >0.388220</td>\n",
       "      <td id=\"T_5f7f0_row28_col8\" class=\"data row28 col8\" >0.000000</td>\n",
       "      <td id=\"T_5f7f0_row28_col9\" class=\"data row28 col9\" >1155</td>\n",
       "      <td id=\"T_5f7f0_row28_col10\" class=\"data row28 col10\" >0.000000</td>\n",
       "      <td id=\"T_5f7f0_row28_col11\" class=\"data row28 col11\" >0.000000</td>\n",
       "      <td id=\"T_5f7f0_row28_col12\" class=\"data row28 col12\" >22.200000</td>\n",
       "      <td id=\"T_5f7f0_row28_col13\" class=\"data row28 col13\" >1</td>\n",
       "      <td id=\"T_5f7f0_row28_col14\" class=\"data row28 col14\" >2.652965</td>\n",
       "      <td id=\"T_5f7f0_row28_col15\" class=\"data row28 col15\" >14.400000</td>\n",
       "      <td id=\"T_5f7f0_row28_col16\" class=\"data row28 col16\" >rejected</td>\n",
       "      <td id=\"T_5f7f0_row28_col17\" class=\"data row28 col17\" >Less likely BOLD</td>\n",
       "    </tr>\n",
       "    <tr>\n",
       "      <th id=\"T_5f7f0_level0_row29\" class=\"row_heading level0 row29\" >29</th>\n",
       "      <td id=\"T_5f7f0_row29_col0\" class=\"data row29 col0\" >ICA_29</td>\n",
       "      <td id=\"T_5f7f0_row29_col1\" class=\"data row29 col1\" >80.883760</td>\n",
       "      <td id=\"T_5f7f0_row29_col2\" class=\"data row29 col2\" >12.626881</td>\n",
       "      <td id=\"T_5f7f0_row29_col3\" class=\"data row29 col3\" >0.636901</td>\n",
       "      <td id=\"T_5f7f0_row29_col4\" class=\"data row29 col4\" >0.010566</td>\n",
       "      <td id=\"T_5f7f0_row29_col5\" class=\"data row29 col5\" >2945</td>\n",
       "      <td id=\"T_5f7f0_row29_col6\" class=\"data row29 col6\" >465</td>\n",
       "      <td id=\"T_5f7f0_row29_col7\" class=\"data row29 col7\" >0.581311</td>\n",
       "      <td id=\"T_5f7f0_row29_col8\" class=\"data row29 col8\" >0.026287</td>\n",
       "      <td id=\"T_5f7f0_row29_col9\" class=\"data row29 col9\" >601</td>\n",
       "      <td id=\"T_5f7f0_row29_col10\" class=\"data row29 col10\" >8.423694</td>\n",
       "      <td id=\"T_5f7f0_row29_col11\" class=\"data row29 col11\" >0.000000</td>\n",
       "      <td id=\"T_5f7f0_row29_col12\" class=\"data row29 col12\" >4.000000</td>\n",
       "      <td id=\"T_5f7f0_row29_col13\" class=\"data row29 col13\" >-1</td>\n",
       "      <td id=\"T_5f7f0_row29_col14\" class=\"data row29 col14\" >0.605127</td>\n",
       "      <td id=\"T_5f7f0_row29_col15\" class=\"data row29 col15\" >3.600000</td>\n",
       "      <td id=\"T_5f7f0_row29_col16\" class=\"data row29 col16\" >accepted</td>\n",
       "      <td id=\"T_5f7f0_row29_col17\" class=\"data row29 col17\" >Likely BOLD</td>\n",
       "    </tr>\n",
       "    <tr>\n",
       "      <th id=\"T_5f7f0_level0_row30\" class=\"row_heading level0 row30\" >30</th>\n",
       "      <td id=\"T_5f7f0_row30_col0\" class=\"data row30 col0\" >ICA_30</td>\n",
       "      <td id=\"T_5f7f0_row30_col1\" class=\"data row30 col1\" >43.827473</td>\n",
       "      <td id=\"T_5f7f0_row30_col2\" class=\"data row30 col2\" >11.578461</td>\n",
       "      <td id=\"T_5f7f0_row30_col3\" class=\"data row30 col3\" >0.519174</td>\n",
       "      <td id=\"T_5f7f0_row30_col4\" class=\"data row30 col4\" >0.005640</td>\n",
       "      <td id=\"T_5f7f0_row30_col5\" class=\"data row30 col5\" >1534</td>\n",
       "      <td id=\"T_5f7f0_row30_col6\" class=\"data row30 col6\" >313</td>\n",
       "      <td id=\"T_5f7f0_row30_col7\" class=\"data row30 col7\" >0.566335</td>\n",
       "      <td id=\"T_5f7f0_row30_col8\" class=\"data row30 col8\" >0.130081</td>\n",
       "      <td id=\"T_5f7f0_row30_col9\" class=\"data row30 col9\" >819</td>\n",
       "      <td id=\"T_5f7f0_row30_col10\" class=\"data row30 col10\" >14.342942</td>\n",
       "      <td id=\"T_5f7f0_row30_col11\" class=\"data row30 col11\" >0.000000</td>\n",
       "      <td id=\"T_5f7f0_row30_col12\" class=\"data row30 col12\" >9.000000</td>\n",
       "      <td id=\"T_5f7f0_row30_col13\" class=\"data row30 col13\" >1</td>\n",
       "      <td id=\"T_5f7f0_row30_col14\" class=\"data row30 col14\" >0.910338</td>\n",
       "      <td id=\"T_5f7f0_row30_col15\" class=\"data row30 col15\" >8.000000</td>\n",
       "      <td id=\"T_5f7f0_row30_col16\" class=\"data row30 col16\" >accepted</td>\n",
       "      <td id=\"T_5f7f0_row30_col17\" class=\"data row30 col17\" >Likely BOLD</td>\n",
       "    </tr>\n",
       "    <tr>\n",
       "      <th id=\"T_5f7f0_level0_row31\" class=\"row_heading level0 row31\" >31</th>\n",
       "      <td id=\"T_5f7f0_row31_col0\" class=\"data row31 col0\" >ICA_31</td>\n",
       "      <td id=\"T_5f7f0_row31_col1\" class=\"data row31 col1\" >29.139108</td>\n",
       "      <td id=\"T_5f7f0_row31_col2\" class=\"data row31 col2\" >23.873300</td>\n",
       "      <td id=\"T_5f7f0_row31_col3\" class=\"data row31 col3\" >0.759698</td>\n",
       "      <td id=\"T_5f7f0_row31_col4\" class=\"data row31 col4\" >0.011004</td>\n",
       "      <td id=\"T_5f7f0_row31_col5\" class=\"data row31 col5\" >1720</td>\n",
       "      <td id=\"T_5f7f0_row31_col6\" class=\"data row31 col6\" >1160</td>\n",
       "      <td id=\"T_5f7f0_row31_col7\" class=\"data row31 col7\" >0.207729</td>\n",
       "      <td id=\"T_5f7f0_row31_col8\" class=\"data row31 col8\" >0.188510</td>\n",
       "      <td id=\"T_5f7f0_row31_col9\" class=\"data row31 col9\" >1255</td>\n",
       "      <td id=\"T_5f7f0_row31_col10\" class=\"data row31 col10\" >0.000000</td>\n",
       "      <td id=\"T_5f7f0_row31_col11\" class=\"data row31 col11\" >0.000000</td>\n",
       "      <td id=\"T_5f7f0_row31_col12\" class=\"data row31 col12\" >26.600000</td>\n",
       "      <td id=\"T_5f7f0_row31_col13\" class=\"data row31 col13\" >-1</td>\n",
       "      <td id=\"T_5f7f0_row31_col14\" class=\"data row31 col14\" >2.003553</td>\n",
       "      <td id=\"T_5f7f0_row31_col15\" class=\"data row31 col15\" >15.400000</td>\n",
       "      <td id=\"T_5f7f0_row31_col16\" class=\"data row31 col16\" >accepted</td>\n",
       "      <td id=\"T_5f7f0_row31_col17\" class=\"data row31 col17\" >Accept borderline</td>\n",
       "    </tr>\n",
       "    <tr>\n",
       "      <th id=\"T_5f7f0_level0_row32\" class=\"row_heading level0 row32\" >32</th>\n",
       "      <td id=\"T_5f7f0_row32_col0\" class=\"data row32 col0\" >ICA_32</td>\n",
       "      <td id=\"T_5f7f0_row32_col1\" class=\"data row32 col1\" >14.755411</td>\n",
       "      <td id=\"T_5f7f0_row32_col2\" class=\"data row32 col2\" >17.029743</td>\n",
       "      <td id=\"T_5f7f0_row32_col3\" class=\"data row32 col3\" >0.269894</td>\n",
       "      <td id=\"T_5f7f0_row32_col4\" class=\"data row32 col4\" >0.003557</td>\n",
       "      <td id=\"T_5f7f0_row32_col5\" class=\"data row32 col5\" >401</td>\n",
       "      <td id=\"T_5f7f0_row32_col6\" class=\"data row32 col6\" >440</td>\n",
       "      <td id=\"T_5f7f0_row32_col7\" class=\"data row32 col7\" >0.000000</td>\n",
       "      <td id=\"T_5f7f0_row32_col8\" class=\"data row32 col8\" >0.000000</td>\n",
       "      <td id=\"T_5f7f0_row32_col9\" class=\"data row32 col9\" >1239</td>\n",
       "      <td id=\"T_5f7f0_row32_col10\" class=\"data row32 col10\" >0.000000</td>\n",
       "      <td id=\"T_5f7f0_row32_col11\" class=\"data row32 col11\" >0.000000</td>\n",
       "      <td id=\"T_5f7f0_row32_col12\" class=\"data row32 col12\" >35.000000</td>\n",
       "      <td id=\"T_5f7f0_row32_col13\" class=\"data row32 col13\" >1</td>\n",
       "      <td id=\"T_5f7f0_row32_col14\" class=\"data row32 col14\" >1.405653</td>\n",
       "      <td id=\"T_5f7f0_row32_col15\" class=\"data row32 col15\" >nan</td>\n",
       "      <td id=\"T_5f7f0_row32_col16\" class=\"data row32 col16\" >rejected</td>\n",
       "      <td id=\"T_5f7f0_row32_col17\" class=\"data row32 col17\" >Unlikely BOLD</td>\n",
       "    </tr>\n",
       "    <tr>\n",
       "      <th id=\"T_5f7f0_level0_row33\" class=\"row_heading level0 row33\" >33</th>\n",
       "      <td id=\"T_5f7f0_row33_col0\" class=\"data row33 col0\" >ICA_33</td>\n",
       "      <td id=\"T_5f7f0_row33_col1\" class=\"data row33 col1\" >44.086324</td>\n",
       "      <td id=\"T_5f7f0_row33_col2\" class=\"data row33 col2\" >18.077004</td>\n",
       "      <td id=\"T_5f7f0_row33_col3\" class=\"data row33 col3\" >1.513722</td>\n",
       "      <td id=\"T_5f7f0_row33_col4\" class=\"data row33 col4\" >0.009673</td>\n",
       "      <td id=\"T_5f7f0_row33_col5\" class=\"data row33 col5\" >2119</td>\n",
       "      <td id=\"T_5f7f0_row33_col6\" class=\"data row33 col6\" >408</td>\n",
       "      <td id=\"T_5f7f0_row33_col7\" class=\"data row33 col7\" >0.523480</td>\n",
       "      <td id=\"T_5f7f0_row33_col8\" class=\"data row33 col8\" >0.037783</td>\n",
       "      <td id=\"T_5f7f0_row33_col9\" class=\"data row33 col9\" >777</td>\n",
       "      <td id=\"T_5f7f0_row33_col10\" class=\"data row33 col10\" >1.150975</td>\n",
       "      <td id=\"T_5f7f0_row33_col11\" class=\"data row33 col11\" >0.250259</td>\n",
       "      <td id=\"T_5f7f0_row33_col12\" class=\"data row33 col12\" >10.600000</td>\n",
       "      <td id=\"T_5f7f0_row33_col13\" class=\"data row33 col13\" >-1</td>\n",
       "      <td id=\"T_5f7f0_row33_col14\" class=\"data row33 col14\" >2.638628</td>\n",
       "      <td id=\"T_5f7f0_row33_col15\" class=\"data row33 col15\" >8.400000</td>\n",
       "      <td id=\"T_5f7f0_row33_col16\" class=\"data row33 col16\" >accepted</td>\n",
       "      <td id=\"T_5f7f0_row33_col17\" class=\"data row33 col17\" >Likely BOLD</td>\n",
       "    </tr>\n",
       "    <tr>\n",
       "      <th id=\"T_5f7f0_level0_row34\" class=\"row_heading level0 row34\" >34</th>\n",
       "      <td id=\"T_5f7f0_row34_col0\" class=\"data row34 col0\" >ICA_34</td>\n",
       "      <td id=\"T_5f7f0_row34_col1\" class=\"data row34 col1\" >56.429382</td>\n",
       "      <td id=\"T_5f7f0_row34_col2\" class=\"data row34 col2\" >10.814910</td>\n",
       "      <td id=\"T_5f7f0_row34_col3\" class=\"data row34 col3\" >0.247334</td>\n",
       "      <td id=\"T_5f7f0_row34_col4\" class=\"data row34 col4\" >0.004278</td>\n",
       "      <td id=\"T_5f7f0_row34_col5\" class=\"data row34 col5\" >1781</td>\n",
       "      <td id=\"T_5f7f0_row34_col6\" class=\"data row34 col6\" >95</td>\n",
       "      <td id=\"T_5f7f0_row34_col7\" class=\"data row34 col7\" >0.617319</td>\n",
       "      <td id=\"T_5f7f0_row34_col8\" class=\"data row34 col8\" >0.000000</td>\n",
       "      <td id=\"T_5f7f0_row34_col9\" class=\"data row34 col9\" >666</td>\n",
       "      <td id=\"T_5f7f0_row34_col10\" class=\"data row34 col10\" >11.382307</td>\n",
       "      <td id=\"T_5f7f0_row34_col11\" class=\"data row34 col11\" >0.000000</td>\n",
       "      <td id=\"T_5f7f0_row34_col12\" class=\"data row34 col12\" >6.000000</td>\n",
       "      <td id=\"T_5f7f0_row34_col13\" class=\"data row34 col13\" >1</td>\n",
       "      <td id=\"T_5f7f0_row34_col14\" class=\"data row34 col14\" >0.336833</td>\n",
       "      <td id=\"T_5f7f0_row34_col15\" class=\"data row34 col15\" >5.200000</td>\n",
       "      <td id=\"T_5f7f0_row34_col16\" class=\"data row34 col16\" >accepted</td>\n",
       "      <td id=\"T_5f7f0_row34_col17\" class=\"data row34 col17\" >Likely BOLD</td>\n",
       "    </tr>\n",
       "    <tr>\n",
       "      <th id=\"T_5f7f0_level0_row35\" class=\"row_heading level0 row35\" >35</th>\n",
       "      <td id=\"T_5f7f0_row35_col0\" class=\"data row35 col0\" >ICA_35</td>\n",
       "      <td id=\"T_5f7f0_row35_col1\" class=\"data row35 col1\" >17.790500</td>\n",
       "      <td id=\"T_5f7f0_row35_col2\" class=\"data row35 col2\" >12.597793</td>\n",
       "      <td id=\"T_5f7f0_row35_col3\" class=\"data row35 col3\" >0.232961</td>\n",
       "      <td id=\"T_5f7f0_row35_col4\" class=\"data row35 col4\" >0.003241</td>\n",
       "      <td id=\"T_5f7f0_row35_col5\" class=\"data row35 col5\" >285</td>\n",
       "      <td id=\"T_5f7f0_row35_col6\" class=\"data row35 col6\" >51</td>\n",
       "      <td id=\"T_5f7f0_row35_col7\" class=\"data row35 col7\" >0.352113</td>\n",
       "      <td id=\"T_5f7f0_row35_col8\" class=\"data row35 col8\" >0.000000</td>\n",
       "      <td id=\"T_5f7f0_row35_col9\" class=\"data row35 col9\" >1242</td>\n",
       "      <td id=\"T_5f7f0_row35_col10\" class=\"data row35 col10\" >-5.030514</td>\n",
       "      <td id=\"T_5f7f0_row35_col11\" class=\"data row35 col11\" >0.000018</td>\n",
       "      <td id=\"T_5f7f0_row35_col12\" class=\"data row35 col12\" >33.600000</td>\n",
       "      <td id=\"T_5f7f0_row35_col13\" class=\"data row35 col13\" >-1</td>\n",
       "      <td id=\"T_5f7f0_row35_col14\" class=\"data row35 col14\" >1.006310</td>\n",
       "      <td id=\"T_5f7f0_row35_col15\" class=\"data row35 col15\" >nan</td>\n",
       "      <td id=\"T_5f7f0_row35_col16\" class=\"data row35 col16\" >accepted</td>\n",
       "      <td id=\"T_5f7f0_row35_col17\" class=\"data row35 col17\" >Low variance</td>\n",
       "    </tr>\n",
       "    <tr>\n",
       "      <th id=\"T_5f7f0_level0_row36\" class=\"row_heading level0 row36\" >36</th>\n",
       "      <td id=\"T_5f7f0_row36_col0\" class=\"data row36 col0\" >ICA_36</td>\n",
       "      <td id=\"T_5f7f0_row36_col1\" class=\"data row36 col1\" >32.499106</td>\n",
       "      <td id=\"T_5f7f0_row36_col2\" class=\"data row36 col2\" >34.934669</td>\n",
       "      <td id=\"T_5f7f0_row36_col3\" class=\"data row36 col3\" >0.689722</td>\n",
       "      <td id=\"T_5f7f0_row36_col4\" class=\"data row36 col4\" >0.007488</td>\n",
       "      <td id=\"T_5f7f0_row36_col5\" class=\"data row36 col5\" >1095</td>\n",
       "      <td id=\"T_5f7f0_row36_col6\" class=\"data row36 col6\" >1807</td>\n",
       "      <td id=\"T_5f7f0_row36_col7\" class=\"data row36 col7\" >0.434334</td>\n",
       "      <td id=\"T_5f7f0_row36_col8\" class=\"data row36 col8\" >0.462183</td>\n",
       "      <td id=\"T_5f7f0_row36_col9\" class=\"data row36 col9\" >1082</td>\n",
       "      <td id=\"T_5f7f0_row36_col10\" class=\"data row36 col10\" >0.153060</td>\n",
       "      <td id=\"T_5f7f0_row36_col11\" class=\"data row36 col11\" >0.878607</td>\n",
       "      <td id=\"T_5f7f0_row36_col12\" class=\"data row36 col12\" >18.200000</td>\n",
       "      <td id=\"T_5f7f0_row36_col13\" class=\"data row36 col13\" >1</td>\n",
       "      <td id=\"T_5f7f0_row36_col14\" class=\"data row36 col14\" >1.630942</td>\n",
       "      <td id=\"T_5f7f0_row36_col15\" class=\"data row36 col15\" >nan</td>\n",
       "      <td id=\"T_5f7f0_row36_col16\" class=\"data row36 col16\" >rejected</td>\n",
       "      <td id=\"T_5f7f0_row36_col17\" class=\"data row36 col17\" >Unlikely BOLD</td>\n",
       "    </tr>\n",
       "    <tr>\n",
       "      <th id=\"T_5f7f0_level0_row37\" class=\"row_heading level0 row37\" >37</th>\n",
       "      <td id=\"T_5f7f0_row37_col0\" class=\"data row37 col0\" >ICA_37</td>\n",
       "      <td id=\"T_5f7f0_row37_col1\" class=\"data row37 col1\" >70.548540</td>\n",
       "      <td id=\"T_5f7f0_row37_col2\" class=\"data row37 col2\" >17.969418</td>\n",
       "      <td id=\"T_5f7f0_row37_col3\" class=\"data row37 col3\" >29.229082</td>\n",
       "      <td id=\"T_5f7f0_row37_col4\" class=\"data row37 col4\" >0.233936</td>\n",
       "      <td id=\"T_5f7f0_row37_col5\" class=\"data row37 col5\" >5731</td>\n",
       "      <td id=\"T_5f7f0_row37_col6\" class=\"data row37 col6\" >1645</td>\n",
       "      <td id=\"T_5f7f0_row37_col7\" class=\"data row37 col7\" >0.566419</td>\n",
       "      <td id=\"T_5f7f0_row37_col8\" class=\"data row37 col8\" >0.110131</td>\n",
       "      <td id=\"T_5f7f0_row37_col9\" class=\"data row37 col9\" >709</td>\n",
       "      <td id=\"T_5f7f0_row37_col10\" class=\"data row37 col10\" >0.000000</td>\n",
       "      <td id=\"T_5f7f0_row37_col11\" class=\"data row37 col11\" >0.000000</td>\n",
       "      <td id=\"T_5f7f0_row37_col12\" class=\"data row37 col12\" >8.600000</td>\n",
       "      <td id=\"T_5f7f0_row37_col13\" class=\"data row37 col13\" >-1</td>\n",
       "      <td id=\"T_5f7f0_row37_col14\" class=\"data row37 col14\" >31.839269</td>\n",
       "      <td id=\"T_5f7f0_row37_col15\" class=\"data row37 col15\" >5.800000</td>\n",
       "      <td id=\"T_5f7f0_row37_col16\" class=\"data row37 col16\" >accepted</td>\n",
       "      <td id=\"T_5f7f0_row37_col17\" class=\"data row37 col17\" >Likely BOLD</td>\n",
       "    </tr>\n",
       "    <tr>\n",
       "      <th id=\"T_5f7f0_level0_row38\" class=\"row_heading level0 row38\" >38</th>\n",
       "      <td id=\"T_5f7f0_row38_col0\" class=\"data row38 col0\" >ICA_38</td>\n",
       "      <td id=\"T_5f7f0_row38_col1\" class=\"data row38 col1\" >21.288556</td>\n",
       "      <td id=\"T_5f7f0_row38_col2\" class=\"data row38 col2\" >23.449890</td>\n",
       "      <td id=\"T_5f7f0_row38_col3\" class=\"data row38 col3\" >1.429819</td>\n",
       "      <td id=\"T_5f7f0_row38_col4\" class=\"data row38 col4\" >0.018098</td>\n",
       "      <td id=\"T_5f7f0_row38_col5\" class=\"data row38 col5\" >1218</td>\n",
       "      <td id=\"T_5f7f0_row38_col6\" class=\"data row38 col6\" >1285</td>\n",
       "      <td id=\"T_5f7f0_row38_col7\" class=\"data row38 col7\" >0.240820</td>\n",
       "      <td id=\"T_5f7f0_row38_col8\" class=\"data row38 col8\" >0.334156</td>\n",
       "      <td id=\"T_5f7f0_row38_col9\" class=\"data row38 col9\" >1131</td>\n",
       "      <td id=\"T_5f7f0_row38_col10\" class=\"data row38 col10\" >2.114198</td>\n",
       "      <td id=\"T_5f7f0_row38_col11\" class=\"data row38 col11\" >0.037227</td>\n",
       "      <td id=\"T_5f7f0_row38_col12\" class=\"data row38 col12\" >23.600000</td>\n",
       "      <td id=\"T_5f7f0_row38_col13\" class=\"data row38 col13\" >-1</td>\n",
       "      <td id=\"T_5f7f0_row38_col14\" class=\"data row38 col14\" >5.161439</td>\n",
       "      <td id=\"T_5f7f0_row38_col15\" class=\"data row38 col15\" >nan</td>\n",
       "      <td id=\"T_5f7f0_row38_col16\" class=\"data row38 col16\" >rejected</td>\n",
       "      <td id=\"T_5f7f0_row38_col17\" class=\"data row38 col17\" >Unlikely BOLD</td>\n",
       "    </tr>\n",
       "    <tr>\n",
       "      <th id=\"T_5f7f0_level0_row39\" class=\"row_heading level0 row39\" >39</th>\n",
       "      <td id=\"T_5f7f0_row39_col0\" class=\"data row39 col0\" >ICA_39</td>\n",
       "      <td id=\"T_5f7f0_row39_col1\" class=\"data row39 col1\" >32.808892</td>\n",
       "      <td id=\"T_5f7f0_row39_col2\" class=\"data row39 col2\" >32.459510</td>\n",
       "      <td id=\"T_5f7f0_row39_col3\" class=\"data row39 col3\" >1.024512</td>\n",
       "      <td id=\"T_5f7f0_row39_col4\" class=\"data row39 col4\" >0.010649</td>\n",
       "      <td id=\"T_5f7f0_row39_col5\" class=\"data row39 col5\" >683</td>\n",
       "      <td id=\"T_5f7f0_row39_col6\" class=\"data row39 col6\" >544</td>\n",
       "      <td id=\"T_5f7f0_row39_col7\" class=\"data row39 col7\" >0.362297</td>\n",
       "      <td id=\"T_5f7f0_row39_col8\" class=\"data row39 col8\" >0.336725</td>\n",
       "      <td id=\"T_5f7f0_row39_col9\" class=\"data row39 col9\" >1065</td>\n",
       "      <td id=\"T_5f7f0_row39_col10\" class=\"data row39 col10\" >0.000000</td>\n",
       "      <td id=\"T_5f7f0_row39_col11\" class=\"data row39 col11\" >0.000000</td>\n",
       "      <td id=\"T_5f7f0_row39_col12\" class=\"data row39 col12\" >21.600000</td>\n",
       "      <td id=\"T_5f7f0_row39_col13\" class=\"data row39 col13\" >1</td>\n",
       "      <td id=\"T_5f7f0_row39_col14\" class=\"data row39 col14\" >2.399724</td>\n",
       "      <td id=\"T_5f7f0_row39_col15\" class=\"data row39 col15\" >14.000000</td>\n",
       "      <td id=\"T_5f7f0_row39_col16\" class=\"data row39 col16\" >rejected</td>\n",
       "      <td id=\"T_5f7f0_row39_col17\" class=\"data row39 col17\" >Less likely BOLD</td>\n",
       "    </tr>\n",
       "    <tr>\n",
       "      <th id=\"T_5f7f0_level0_row40\" class=\"row_heading level0 row40\" >40</th>\n",
       "      <td id=\"T_5f7f0_row40_col0\" class=\"data row40 col0\" >ICA_40</td>\n",
       "      <td id=\"T_5f7f0_row40_col1\" class=\"data row40 col1\" >16.606237</td>\n",
       "      <td id=\"T_5f7f0_row40_col2\" class=\"data row40 col2\" >18.724607</td>\n",
       "      <td id=\"T_5f7f0_row40_col3\" class=\"data row40 col3\" >0.389232</td>\n",
       "      <td id=\"T_5f7f0_row40_col4\" class=\"data row40 col4\" >0.005196</td>\n",
       "      <td id=\"T_5f7f0_row40_col5\" class=\"data row40 col5\" >270</td>\n",
       "      <td id=\"T_5f7f0_row40_col6\" class=\"data row40 col6\" >307</td>\n",
       "      <td id=\"T_5f7f0_row40_col7\" class=\"data row40 col7\" >0.172084</td>\n",
       "      <td id=\"T_5f7f0_row40_col8\" class=\"data row40 col8\" >0.164204</td>\n",
       "      <td id=\"T_5f7f0_row40_col9\" class=\"data row40 col9\" >920</td>\n",
       "      <td id=\"T_5f7f0_row40_col10\" class=\"data row40 col10\" >-10.839641</td>\n",
       "      <td id=\"T_5f7f0_row40_col11\" class=\"data row40 col11\" >0.000000</td>\n",
       "      <td id=\"T_5f7f0_row40_col12\" class=\"data row40 col12\" >32.800000</td>\n",
       "      <td id=\"T_5f7f0_row40_col13\" class=\"data row40 col13\" >1</td>\n",
       "      <td id=\"T_5f7f0_row40_col14\" class=\"data row40 col14\" >1.801246</td>\n",
       "      <td id=\"T_5f7f0_row40_col15\" class=\"data row40 col15\" >nan</td>\n",
       "      <td id=\"T_5f7f0_row40_col16\" class=\"data row40 col16\" >rejected</td>\n",
       "      <td id=\"T_5f7f0_row40_col17\" class=\"data row40 col17\" >Unlikely BOLD</td>\n",
       "    </tr>\n",
       "    <tr>\n",
       "      <th id=\"T_5f7f0_level0_row41\" class=\"row_heading level0 row41\" >41</th>\n",
       "      <td id=\"T_5f7f0_row41_col0\" class=\"data row41 col0\" >ICA_41</td>\n",
       "      <td id=\"T_5f7f0_row41_col1\" class=\"data row41 col1\" >48.017993</td>\n",
       "      <td id=\"T_5f7f0_row41_col2\" class=\"data row41 col2\" >36.938387</td>\n",
       "      <td id=\"T_5f7f0_row41_col3\" class=\"data row41 col3\" >26.082638</td>\n",
       "      <td id=\"T_5f7f0_row41_col4\" class=\"data row41 col4\" >0.311829</td>\n",
       "      <td id=\"T_5f7f0_row41_col5\" class=\"data row41 col5\" >6059</td>\n",
       "      <td id=\"T_5f7f0_row41_col6\" class=\"data row41 col6\" >5930</td>\n",
       "      <td id=\"T_5f7f0_row41_col7\" class=\"data row41 col7\" >0.515417</td>\n",
       "      <td id=\"T_5f7f0_row41_col8\" class=\"data row41 col8\" >0.356028</td>\n",
       "      <td id=\"T_5f7f0_row41_col9\" class=\"data row41 col9\" >719</td>\n",
       "      <td id=\"T_5f7f0_row41_col10\" class=\"data row41 col10\" >0.000000</td>\n",
       "      <td id=\"T_5f7f0_row41_col11\" class=\"data row41 col11\" >0.000000</td>\n",
       "      <td id=\"T_5f7f0_row41_col12\" class=\"data row41 col12\" >10.800000</td>\n",
       "      <td id=\"T_5f7f0_row41_col13\" class=\"data row41 col13\" >1</td>\n",
       "      <td id=\"T_5f7f0_row41_col14\" class=\"data row41 col14\" >41.742980</td>\n",
       "      <td id=\"T_5f7f0_row41_col15\" class=\"data row41 col15\" >7.600000</td>\n",
       "      <td id=\"T_5f7f0_row41_col16\" class=\"data row41 col16\" >rejected</td>\n",
       "      <td id=\"T_5f7f0_row41_col17\" class=\"data row41 col17\" >Less likely BOLD</td>\n",
       "    </tr>\n",
       "    <tr>\n",
       "      <th id=\"T_5f7f0_level0_row42\" class=\"row_heading level0 row42\" >42</th>\n",
       "      <td id=\"T_5f7f0_row42_col0\" class=\"data row42 col0\" >ICA_42</td>\n",
       "      <td id=\"T_5f7f0_row42_col1\" class=\"data row42 col1\" >17.346959</td>\n",
       "      <td id=\"T_5f7f0_row42_col2\" class=\"data row42 col2\" >15.014701</td>\n",
       "      <td id=\"T_5f7f0_row42_col3\" class=\"data row42 col3\" >0.360350</td>\n",
       "      <td id=\"T_5f7f0_row42_col4\" class=\"data row42 col4\" >0.005460</td>\n",
       "      <td id=\"T_5f7f0_row42_col5\" class=\"data row42 col5\" >268</td>\n",
       "      <td id=\"T_5f7f0_row42_col6\" class=\"data row42 col6\" >68</td>\n",
       "      <td id=\"T_5f7f0_row42_col7\" class=\"data row42 col7\" >0.434263</td>\n",
       "      <td id=\"T_5f7f0_row42_col8\" class=\"data row42 col8\" >0.135338</td>\n",
       "      <td id=\"T_5f7f0_row42_col9\" class=\"data row42 col9\" >956</td>\n",
       "      <td id=\"T_5f7f0_row42_col10\" class=\"data row42 col10\" >5.441800</td>\n",
       "      <td id=\"T_5f7f0_row42_col11\" class=\"data row42 col11\" >0.000000</td>\n",
       "      <td id=\"T_5f7f0_row42_col12\" class=\"data row42 col12\" >22.600000</td>\n",
       "      <td id=\"T_5f7f0_row42_col13\" class=\"data row42 col13\" >-1</td>\n",
       "      <td id=\"T_5f7f0_row42_col14\" class=\"data row42 col14\" >1.596382</td>\n",
       "      <td id=\"T_5f7f0_row42_col15\" class=\"data row42 col15\" >nan</td>\n",
       "      <td id=\"T_5f7f0_row42_col16\" class=\"data row42 col16\" >accepted</td>\n",
       "      <td id=\"T_5f7f0_row42_col17\" class=\"data row42 col17\" >Low variance</td>\n",
       "    </tr>\n",
       "  </tbody>\n",
       "</table>\n"
      ],
      "text/plain": [
       "<pandas.io.formats.style.Styler at 0x7ffa01999870>"
      ]
     },
     "execution_count": 6,
     "metadata": {},
     "output_type": "execute_result"
    }
   ],
   "source": [
    "def color_rejected_red(series):\n",
    "    \"\"\"Color rejected components red.\"\"\"\n",
    "    return [\n",
    "        \"color: red\" if series[\"classification\"] == \"rejected\" else \"\" for v in series\n",
    "    ]\n",
    "\n",
    "\n",
    "metrics.style.apply(color_rejected_red, axis=1)"
   ]
  },
  {
   "cell_type": "code",
   "execution_count": 7,
   "id": "0b5786fe",
   "metadata": {},
   "outputs": [
    {
     "name": "stdout",
     "output_type": "stream",
     "text": [
      "{'Component': {'Description': 'The unique identifier of each component. This '\n",
      "                              'identifier matches column names in the mixing '\n",
      "                              'matrix TSV file.',\n",
      "               'LongName': 'Component identifier'},\n",
      " 'classification_tags': {'Description': 'A single tag or a comma separated '\n",
      "                                        'list of tags to describe why a '\n",
      "                                        'component received its classification',\n",
      "                         'LongName': 'Component classification tags'},\n",
      " 'countnoise': {'Description': \"Number of 'noise' voxels (voxels highly \"\n",
      "                               'weighted for component, but not from clusters) '\n",
      "                               'from each component.',\n",
      "                'LongName': 'Noise voxel count',\n",
      "                'Units': 'voxel'},\n",
      " 'countsigFS0': {'Description': 'Number of significant voxels from the '\n",
      "                                'cluster-extent thresholded S0 model '\n",
      "                                'F-statistic map for each component.',\n",
      "                 'LongName': 'S0 model F-statistic map significant voxel count',\n",
      "                 'Units': 'voxel'},\n",
      " 'countsigFT2': {'Description': 'Number of significant voxels from the '\n",
      "                                'cluster-extent thresholded T2 model '\n",
      "                                'F-statistic map for each component.',\n",
      "                 'LongName': 'T2 model F-statistic map significant voxel count',\n",
      "                 'Units': 'voxel'}}\n"
     ]
    }
   ],
   "source": [
    "with open(\n",
    "    os.path.join(out_dir, \"sub-04570_task-rest_space-scanner_desc-tedana_metrics.json\"),\n",
    "    \"r\",\n",
    ") as fo:\n",
    "    data = json.load(fo)\n",
    "\n",
    "first_five_keys = list(data.keys())[:5]\n",
    "reduced_data = {k: data[k] for k in first_five_keys}\n",
    "pprint(reduced_data)"
   ]
  },
  {
   "cell_type": "code",
   "execution_count": 8,
   "id": "209dcbc1",
   "metadata": {
    "tags": [
     "output_scroll"
    ]
   },
   "outputs": [
    {
     "data": {
      "text/html": [
       "<table border=\"1\" class=\"dataframe\">\n",
       "  <thead>\n",
       "    <tr style=\"text-align: right;\">\n",
       "      <th></th>\n",
       "      <th>Description</th>\n",
       "      <th>LongName</th>\n",
       "      <th>Units</th>\n",
       "      <th>Levels</th>\n",
       "    </tr>\n",
       "  </thead>\n",
       "  <tbody>\n",
       "    <tr>\n",
       "      <th>Component</th>\n",
       "      <td>The unique identifier of each component. This identifier matches column names in the mixing matrix TSV file.</td>\n",
       "      <td>Component identifier</td>\n",
       "      <td>n/a</td>\n",
       "      <td>n/a</td>\n",
       "    </tr>\n",
       "    <tr>\n",
       "      <th>classification_tags</th>\n",
       "      <td>A single tag or a comma separated list of tags to describe why a component received its classification</td>\n",
       "      <td>Component classification tags</td>\n",
       "      <td>n/a</td>\n",
       "      <td>n/a</td>\n",
       "    </tr>\n",
       "    <tr>\n",
       "      <th>countnoise</th>\n",
       "      <td>Number of 'noise' voxels (voxels highly weighted for component, but not from clusters) from each component.</td>\n",
       "      <td>Noise voxel count</td>\n",
       "      <td>voxel</td>\n",
       "      <td>n/a</td>\n",
       "    </tr>\n",
       "    <tr>\n",
       "      <th>countsigFS0</th>\n",
       "      <td>Number of significant voxels from the cluster-extent thresholded S0 model F-statistic map for each component.</td>\n",
       "      <td>S0 model F-statistic map significant voxel count</td>\n",
       "      <td>voxel</td>\n",
       "      <td>n/a</td>\n",
       "    </tr>\n",
       "    <tr>\n",
       "      <th>countsigFT2</th>\n",
       "      <td>Number of significant voxels from the cluster-extent thresholded T2 model F-statistic map for each component.</td>\n",
       "      <td>T2 model F-statistic map significant voxel count</td>\n",
       "      <td>voxel</td>\n",
       "      <td>n/a</td>\n",
       "    </tr>\n",
       "    <tr>\n",
       "      <th>d_table_score</th>\n",
       "      <td>Summary score compiled from five metrics, with smaller values (i.e., higher ranks) indicating more BOLD dependence and less noise.</td>\n",
       "      <td>Decision table score</td>\n",
       "      <td>arbitrary</td>\n",
       "      <td>n/a</td>\n",
       "    </tr>\n",
       "    <tr>\n",
       "      <th>dice_FS0</th>\n",
       "      <td>Dice value of cluster-extent thresholded maps of S0-model betas and F-statistics.</td>\n",
       "      <td>S0 model beta map-F-statistic map Dice similarity index</td>\n",
       "      <td>arbitrary</td>\n",
       "      <td>n/a</td>\n",
       "    </tr>\n",
       "    <tr>\n",
       "      <th>dice_FT2</th>\n",
       "      <td>Dice value of cluster-extent thresholded maps of T2-model betas and F-statistics.</td>\n",
       "      <td>T2 model beta map-F-statistic map Dice similarity index</td>\n",
       "      <td>arbitrary</td>\n",
       "      <td>n/a</td>\n",
       "    </tr>\n",
       "    <tr>\n",
       "      <th>kappa</th>\n",
       "      <td>A pseudo-F-statistic indicating TE-dependence of the component. This metric is calculated by computing fit to the TE-dependence model at each voxel, and then performing a weighted average based on the voxel-wise weights of the component.</td>\n",
       "      <td>Kappa</td>\n",
       "      <td>arbitrary</td>\n",
       "      <td>n/a</td>\n",
       "    </tr>\n",
       "    <tr>\n",
       "      <th>normalized variance explained</th>\n",
       "      <td>Normalized variance explained in the optimally combined data of each component.On a scale from 0 to 1.</td>\n",
       "      <td>Normalized variance explained</td>\n",
       "      <td>arbitrary</td>\n",
       "      <td>n/a</td>\n",
       "    </tr>\n",
       "    <tr>\n",
       "      <th>optimal sign</th>\n",
       "      <td>Optimal sign determined based on skew direction of component parameter estimates across the brain. In cases where components were left-skewed (-1), the component time series is flipped prior to metric calculation.</td>\n",
       "      <td>Optimal component sign</td>\n",
       "      <td>n/a</td>\n",
       "      <td>{'-1': 'Component is flipped prior to metric calculation.', '1': 'Component is not flipped prior to metric calculation.'}</td>\n",
       "    </tr>\n",
       "    <tr>\n",
       "      <th>rho</th>\n",
       "      <td>A pseudo-F-statistic indicating TE-independence of the component. This metric is calculated by computing fit to the TE-independence model at each voxel, and then performing a weighted average based on the voxel-wise weights of the component.</td>\n",
       "      <td>Rho</td>\n",
       "      <td>arbitrary</td>\n",
       "      <td>n/a</td>\n",
       "    </tr>\n",
       "    <tr>\n",
       "      <th>signal-noise_p</th>\n",
       "      <td>P-value for two-sample t-test of F-statistics from 'signal' voxels (voxels in clusters) against 'noise' voxels (voxels not in clusters) for T2 model.</td>\n",
       "      <td>Signal &gt; noise p-value</td>\n",
       "      <td>arbitrary</td>\n",
       "      <td>n/a</td>\n",
       "    </tr>\n",
       "    <tr>\n",
       "      <th>signal-noise_t</th>\n",
       "      <td>T-statistic for two-sample t-test of F-statistics from 'signal' voxels (voxels in clusters) against 'noise' voxels (voxels not in clusters) for T2 model.</td>\n",
       "      <td>Signal &gt; noise t-statistic</td>\n",
       "      <td>arbitrary</td>\n",
       "      <td>n/a</td>\n",
       "    </tr>\n",
       "    <tr>\n",
       "      <th>variance explained</th>\n",
       "      <td>Variance explained in the optimally combined data of each component. On a scale from 0 to 100.</td>\n",
       "      <td>Variance explained</td>\n",
       "      <td>arbitrary</td>\n",
       "      <td>n/a</td>\n",
       "    </tr>\n",
       "  </tbody>\n",
       "</table>"
      ],
      "text/plain": [
       "<IPython.core.display.HTML object>"
      ]
     },
     "metadata": {},
     "output_type": "display_data"
    }
   ],
   "source": [
    "df = pd.DataFrame.from_dict(data, orient=\"index\")\n",
    "df = df.fillna(\"n/a\")\n",
    "display(HTML(df.to_html()))"
   ]
  },
  {
   "cell_type": "code",
   "execution_count": 9,
   "id": "aeba1cea",
   "metadata": {},
   "outputs": [
    {
     "ename": "FileNotFoundError",
     "evalue": "[Errno 2] No such file or directory: '/home/runner/work/multi-echo-data-analysis/multi-echo-data-analysis/data/multi-echo-data-analysis/tedana/tedana_report.html'",
     "output_type": "error",
     "traceback": [
      "\u001b[0;31m---------------------------------------------------------------------------\u001b[0m",
      "\u001b[0;31mFileNotFoundError\u001b[0m                         Traceback (most recent call last)",
      "Cell \u001b[0;32mIn[9], line 2\u001b[0m\n\u001b[1;32m      1\u001b[0m report \u001b[38;5;241m=\u001b[39m os\u001b[38;5;241m.\u001b[39mpath\u001b[38;5;241m.\u001b[39mjoin(out_dir, \u001b[38;5;124m\"\u001b[39m\u001b[38;5;124mtedana_report.html\u001b[39m\u001b[38;5;124m\"\u001b[39m)\n\u001b[0;32m----> 2\u001b[0m \u001b[38;5;28;01mwith\u001b[39;00m \u001b[38;5;28;43mopen\u001b[39;49m\u001b[43m(\u001b[49m\u001b[43mreport\u001b[49m\u001b[43m,\u001b[49m\u001b[43m \u001b[49m\u001b[38;5;124;43m\"\u001b[39;49m\u001b[38;5;124;43mr\u001b[39;49m\u001b[38;5;124;43m\"\u001b[39;49m\u001b[43m)\u001b[49m \u001b[38;5;28;01mas\u001b[39;00m fo:\n\u001b[1;32m      3\u001b[0m     report_data \u001b[38;5;241m=\u001b[39m fo\u001b[38;5;241m.\u001b[39mread()\n\u001b[1;32m      5\u001b[0m figures_dir \u001b[38;5;241m=\u001b[39m os\u001b[38;5;241m.\u001b[39mpath\u001b[38;5;241m.\u001b[39mrelpath(os\u001b[38;5;241m.\u001b[39mpath\u001b[38;5;241m.\u001b[39mjoin(out_dir, \u001b[38;5;124m\"\u001b[39m\u001b[38;5;124mfigures\u001b[39m\u001b[38;5;124m\"\u001b[39m), os\u001b[38;5;241m.\u001b[39mgetcwd())\n",
      "File \u001b[0;32m/opt/hostedtoolcache/Python/3.10.14/x64/lib/python3.10/site-packages/IPython/core/interactiveshell.py:324\u001b[0m, in \u001b[0;36m_modified_open\u001b[0;34m(file, *args, **kwargs)\u001b[0m\n\u001b[1;32m    317\u001b[0m \u001b[38;5;28;01mif\u001b[39;00m file \u001b[38;5;129;01min\u001b[39;00m {\u001b[38;5;241m0\u001b[39m, \u001b[38;5;241m1\u001b[39m, \u001b[38;5;241m2\u001b[39m}:\n\u001b[1;32m    318\u001b[0m     \u001b[38;5;28;01mraise\u001b[39;00m \u001b[38;5;167;01mValueError\u001b[39;00m(\n\u001b[1;32m    319\u001b[0m         \u001b[38;5;124mf\u001b[39m\u001b[38;5;124m\"\u001b[39m\u001b[38;5;124mIPython won\u001b[39m\u001b[38;5;124m'\u001b[39m\u001b[38;5;124mt let you open fd=\u001b[39m\u001b[38;5;132;01m{\u001b[39;00mfile\u001b[38;5;132;01m}\u001b[39;00m\u001b[38;5;124m by default \u001b[39m\u001b[38;5;124m\"\u001b[39m\n\u001b[1;32m    320\u001b[0m         \u001b[38;5;124m\"\u001b[39m\u001b[38;5;124mas it is likely to crash IPython. If you know what you are doing, \u001b[39m\u001b[38;5;124m\"\u001b[39m\n\u001b[1;32m    321\u001b[0m         \u001b[38;5;124m\"\u001b[39m\u001b[38;5;124myou can use builtins\u001b[39m\u001b[38;5;124m'\u001b[39m\u001b[38;5;124m open.\u001b[39m\u001b[38;5;124m\"\u001b[39m\n\u001b[1;32m    322\u001b[0m     )\n\u001b[0;32m--> 324\u001b[0m \u001b[38;5;28;01mreturn\u001b[39;00m \u001b[43mio_open\u001b[49m\u001b[43m(\u001b[49m\u001b[43mfile\u001b[49m\u001b[43m,\u001b[49m\u001b[43m \u001b[49m\u001b[38;5;241;43m*\u001b[39;49m\u001b[43margs\u001b[49m\u001b[43m,\u001b[49m\u001b[43m \u001b[49m\u001b[38;5;241;43m*\u001b[39;49m\u001b[38;5;241;43m*\u001b[39;49m\u001b[43mkwargs\u001b[49m\u001b[43m)\u001b[49m\n",
      "\u001b[0;31mFileNotFoundError\u001b[0m: [Errno 2] No such file or directory: '/home/runner/work/multi-echo-data-analysis/multi-echo-data-analysis/data/multi-echo-data-analysis/tedana/tedana_report.html'"
     ]
    }
   ],
   "source": [
    "report = os.path.join(out_dir, \"tedana_report.html\")\n",
    "with open(report, \"r\") as fo:\n",
    "    report_data = fo.read()\n",
    "\n",
    "figures_dir = os.path.relpath(os.path.join(out_dir, \"figures\"), os.getcwd())\n",
    "report_data = report_data.replace(\"./figures\", figures_dir)\n",
    "\n",
    "display(HTML(report_data))"
   ]
  }
 ],
 "metadata": {
  "jupytext": {
   "text_representation": {
    "extension": ".md",
    "format_name": "myst",
    "format_version": 0.13,
    "jupytext_version": "1.10.3"
   }
  },
  "kernelspec": {
   "display_name": "Python 3",
   "language": "python",
   "name": "python3"
  },
  "language_info": {
   "codemirror_mode": {
    "name": "ipython",
    "version": 3
   },
   "file_extension": ".py",
   "mimetype": "text/x-python",
   "name": "python",
   "nbconvert_exporter": "python",
   "pygments_lexer": "ipython3",
   "version": "3.10.14"
  },
  "source_map": [
   12,
   20,
   40,
   71,
   85,
   89,
   95,
   101,
   113,
   125,
   133
  ]
 },
 "nbformat": 4,
 "nbformat_minor": 5
}