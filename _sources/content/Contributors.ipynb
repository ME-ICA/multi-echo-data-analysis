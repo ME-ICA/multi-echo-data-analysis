{
 "cells": [
  {
   "cell_type": "markdown",
   "id": "23784077",
   "metadata": {},
   "source": [
    "# Contributors\n",
    "\n",
    "Taylor Salo ([@tsalo](https://github.com/tsalo/)) created this book by setting up the the initial repository,\n",
    "designing the overall framework that builds into an html Jupyter book,\n",
    "and wrote a substantial portion of the text.\n",
    "\n",
    "Daniel Handwerker ([@handwerkerd](https://github.com/handwerkerd)) led a project to expand and update this book at the [OHBM 2025 BrainHack](https://ohbm.github.io/hackathon2025).\n",
    "Mélanie Garcia ([@garciaml](https://github.com/garciaml)) made many substantial contributions.\n",
    "\n",
    "Additional contributors at the hackathon include\n",
    "\n",
    "- Merel van der Thiel [@merelvdthiel](https://github.com/merelvdthiel)\n",
    "- Korbinian Eckstein [@korbinian90](https://github.com/korbinian90)"
   ]
  }
 ],
 "metadata": {
  "jupytext": {
   "text_representation": {
    "extension": ".md",
    "format_name": "myst",
    "jupytext_version": "1.18.1"
   }
  },
  "kernelspec": {
   "display_name": "Python 3",
   "language": "python",
   "name": "python3"
  },
  "source_map": [
   11
  ]
 },
 "nbformat": 4,
 "nbformat_minor": 5
}