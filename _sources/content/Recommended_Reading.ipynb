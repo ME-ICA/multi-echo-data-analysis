{
 "cells": [
  {
   "cell_type": "markdown",
   "id": "3389589b",
   "metadata": {},
   "source": [
    "# Recommended Reading\n",
    "\n",
    "## Journal articles describing multi-echo methods\n",
    "\n",
    "{cite:t}`POSSE2012665` includes an historical overview of multi-echo acquisition and research.\n",
    "{cite:t}`KUNDU201759` is a review of multi-echo denoising with a focus on the MEICA algorithm.\n",
    "The appendix of {cite:t}`OLAFSSON201543` includes a good explanation of the math underlying MEICA denoising.\n",
    "The appendix of {cite:t}`10.1371/journal.pone.0173289` includes some recommendations for multi-echo acquisition."
   ]
  }
 ],
 "metadata": {
  "jupytext": {
   "text_representation": {
    "extension": ".md",
    "format_name": "myst",
    "format_version": 0.13,
    "jupytext_version": "1.10.3"
   }
  },
  "kernelspec": {
   "display_name": "Python 3",
   "language": "python",
   "name": "python3"
  },
  "language_info": {
   "codemirror_mode": {
    "name": "ipython",
    "version": 3
   },
   "file_extension": ".py",
   "mimetype": "text/x-python",
   "name": "python",
   "nbconvert_exporter": "python",
   "pygments_lexer": "ipython3",
   "version": "3.7.12"
  },
  "source_map": [
   12
  ]
 },
 "nbformat": 4,
 "nbformat_minor": 5
}