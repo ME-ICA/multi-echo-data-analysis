{
 "cells": [
  {
   "cell_type": "markdown",
   "id": "3d38b84e",
   "metadata": {},
   "source": [
    "# Optimal combination with `t2smap`\n",
    "\n",
    "Use `t2smap` {cite:p}`DuPre2021` to combine data."
   ]
  },
  {
   "cell_type": "code",
   "execution_count": 1,
   "id": "99916d42",
   "metadata": {},
   "outputs": [
    {
     "name": "stderr",
     "output_type": "stream",
     "text": [
      "/opt/hostedtoolcache/Python/3.7.12/x64/lib/python3.7/site-packages/nilearn/datasets/__init__.py:96: FutureWarning: Fetchers from the nilearn.datasets module will be updated in version 0.9 to return python strings instead of bytes and Pandas dataframes instead of Numpy arrays.\n",
      "  \"Numpy arrays.\", FutureWarning)\n",
      "Module `duecredit` not successfully imported due to \"No module named 'duecredit'\". Package functionality unaffected.\n"
     ]
    },
    {
     "name": "stderr",
     "output_type": "stream",
     "text": [
      "Failed to import duecredit due to No module named 'duecredit'\n"
     ]
    },
    {
     "name": "stdout",
     "output_type": "stream",
     "text": [
      "---- repo2data starting ----\n",
      "/opt/hostedtoolcache/Python/3.7.12/x64/lib/python3.7/site-packages/repo2data\n",
      "Config from file :\n",
      "../binder/data_requirement.json\n",
      "Destination:\n",
      "./../data/multi-echo-data-analysis\n",
      "\n",
      "Info : Starting to download from Google drive https://drive.google.com/uc?id=1t98v7EiEKsV8q8mT-uMRgoYeHaVL2JWx ...\n"
     ]
    },
    {
     "name": "stderr",
     "output_type": "stream",
     "text": [
      "Downloading...\n",
      "From: https://drive.google.com/uc?id=1t98v7EiEKsV8q8mT-uMRgoYeHaVL2JWx\n",
      "To: /home/runner/work/multi-echo-data-analysis/multi-echo-data-analysis/data/multi-echo-data-analysis/multi-echo-data-analysis.zip\n",
      "\r",
      "  0%|          | 0.00/309M [00:00<?, ?B/s]\r",
      "  1%|          | 3.15M/309M [00:00<00:09, 31.0MB/s]"
     ]
    },
    {
     "name": "stderr",
     "output_type": "stream",
     "text": [
      "\r",
      "  6%|▌         | 17.3M/309M [00:00<00:03, 89.2MB/s]\r",
      " 12%|█▏        | 38.3M/309M [00:00<00:01, 140MB/s] "
     ]
    },
    {
     "name": "stderr",
     "output_type": "stream",
     "text": [
      "\r",
      " 17%|█▋        | 54.0M/309M [00:00<00:01, 145MB/s]\r",
      " 22%|██▏       | 68.7M/309M [00:00<00:01, 145MB/s]"
     ]
    },
    {
     "name": "stderr",
     "output_type": "stream",
     "text": [
      "\r",
      " 29%|██▊       | 88.1M/309M [00:00<00:01, 161MB/s]\r",
      " 34%|███▍      | 105M/309M [00:00<00:01, 164MB/s] \r",
      " 40%|████      | 124M/309M [00:00<00:01, 171MB/s]"
     ]
    },
    {
     "name": "stderr",
     "output_type": "stream",
     "text": [
      "\r",
      " 46%|████▌     | 142M/309M [00:00<00:00, 173MB/s]\r",
      " 52%|█████▏    | 160M/309M [00:01<00:00, 156MB/s]"
     ]
    },
    {
     "name": "stderr",
     "output_type": "stream",
     "text": [
      "\r",
      " 58%|█████▊    | 178M/309M [00:01<00:00, 163MB/s]\r",
      " 64%|██████▍   | 197M/309M [00:01<00:00, 170MB/s]"
     ]
    },
    {
     "name": "stderr",
     "output_type": "stream",
     "text": [
      "\r",
      " 69%|██████▉   | 214M/309M [00:01<00:00, 164MB/s]\r",
      " 76%|███████▌  | 234M/309M [00:01<00:00, 174MB/s]"
     ]
    },
    {
     "name": "stderr",
     "output_type": "stream",
     "text": [
      "\r",
      " 82%|████████▏ | 252M/309M [00:01<00:00, 171MB/s]\r",
      " 88%|████████▊ | 273M/309M [00:01<00:00, 180MB/s]"
     ]
    },
    {
     "name": "stderr",
     "output_type": "stream",
     "text": [
      "\r",
      " 94%|█████████▍| 291M/309M [00:01<00:00, 170MB/s]\r",
      "100%|██████████| 309M/309M [00:01<00:00, 162MB/s]\n"
     ]
    },
    {
     "name": "stdout",
     "output_type": "stream",
     "text": [
      "patool: Extracting ./../data/multi-echo-data-analysis/multi-echo-data-analysis.zip ...\n",
      "patool: running /usr/bin/7z x -y -o./../data/multi-echo-data-analysis -- ./../data/multi-echo-data-analysis/multi-echo-data-analysis.zip\n"
     ]
    },
    {
     "name": "stdout",
     "output_type": "stream",
     "text": [
      "patool: ... ./../data/multi-echo-data-analysis/multi-echo-data-analysis.zip extracted to `./../data/multi-echo-data-analysis'.\n"
     ]
    },
    {
     "name": "stdout",
     "output_type": "stream",
     "text": [
      "Info : multi-echo-data-analysis.zip Decompressed\n"
     ]
    }
   ],
   "source": [
    "import os\n",
    "import matplotlib.pyplot as plt\n",
    "from glob import glob\n",
    "\n",
    "import numpy as np\n",
    "import pandas as pd\n",
    "from nilearn import image, plotting\n",
    "from tedana import workflows\n",
    "\n",
    "from repo2data.repo2data import Repo2Data\n",
    "\n",
    "# Install the data if running locally, or points to cached data if running on neurolibre\n",
    "DATA_REQ_FILE = os.path.join(\"../binder/data_requirement.json\")\n",
    "\n",
    "# Download data\n",
    "repo2data = Repo2Data(DATA_REQ_FILE)\n",
    "data_path = repo2data.install()\n",
    "data_path = os.path.abspath(os.path.join(data_path[0], \"data\"))"
   ]
  },
  {
   "cell_type": "code",
   "execution_count": 2,
   "id": "f1ee33cc",
   "metadata": {},
   "outputs": [],
   "source": [
    "func_dir = os.path.join(data_path, \"sub-04570/func/\")\n",
    "data_files = [\n",
    "    os.path.join(func_dir, \"sub-04570_task-rest_echo-1_space-scanner_desc-partialPreproc_bold.nii.gz\"),\n",
    "    os.path.join(func_dir, \"sub-04570_task-rest_echo-2_space-scanner_desc-partialPreproc_bold.nii.gz\"),\n",
    "    os.path.join(func_dir, \"sub-04570_task-rest_echo-3_space-scanner_desc-partialPreproc_bold.nii.gz\"),\n",
    "    os.path.join(func_dir, \"sub-04570_task-rest_echo-4_space-scanner_desc-partialPreproc_bold.nii.gz\"),\n",
    "]\n",
    "echo_times = [12., 28., 44., 60.]\n",
    "mask_file = os.path.join(func_dir, \"sub-04570_task-rest_space-scanner_desc-brain_mask.nii.gz\")\n",
    "confounds_file = os.path.join(func_dir, \"sub-04570_task-rest_desc-confounds_timeseries.tsv\")\n",
    "\n",
    "out_dir = os.path.join(data_path, \"t2smap\")"
   ]
  },
  {
   "cell_type": "code",
   "execution_count": 3,
   "id": "4c70e998",
   "metadata": {},
   "outputs": [
    {
     "name": "stderr",
     "output_type": "stream",
     "text": [
      "INFO     t2smap:t2smap_workflow:229 Using output directory: /home/runner/work/multi-echo-data-analysis/multi-echo-data-analysis/data/multi-echo-data-analysis/data/t2smap\n"
     ]
    },
    {
     "name": "stderr",
     "output_type": "stream",
     "text": [
      "INFO     t2smap:t2smap_workflow:239 Loading input data: ['/home/runner/work/multi-echo-data-analysis/multi-echo-data-analysis/data/multi-echo-data-analysis/data/sub-04570/func/sub-04570_task-rest_echo-1_space-scanner_desc-partialPreproc_bold.nii.gz', '/home/runner/work/multi-echo-data-analysis/multi-echo-data-analysis/data/multi-echo-data-analysis/data/sub-04570/func/sub-04570_task-rest_echo-2_space-scanner_desc-partialPreproc_bold.nii.gz', '/home/runner/work/multi-echo-data-analysis/multi-echo-data-analysis/data/multi-echo-data-analysis/data/sub-04570/func/sub-04570_task-rest_echo-3_space-scanner_desc-partialPreproc_bold.nii.gz', '/home/runner/work/multi-echo-data-analysis/multi-echo-data-analysis/data/multi-echo-data-analysis/data/sub-04570/func/sub-04570_task-rest_echo-4_space-scanner_desc-partialPreproc_bold.nii.gz']\n"
     ]
    },
    {
     "name": "stderr",
     "output_type": "stream",
     "text": [
      "INFO     t2smap:t2smap_workflow:255 Using user-defined mask\n"
     ]
    },
    {
     "name": "stderr",
     "output_type": "stream",
     "text": [
      "INFO     t2smap:t2smap_workflow:258 Computing adaptive T2* map\n"
     ]
    },
    {
     "name": "stderr",
     "output_type": "stream",
     "text": [
      "INFO     t2smap:t2smap_workflow:275 Computing optimal combination\n"
     ]
    },
    {
     "name": "stderr",
     "output_type": "stream",
     "text": [
      "INFO     combine:make_optcom:242 Optimally combining data with voxel-wise T2* estimates\n"
     ]
    },
    {
     "name": "stderr",
     "output_type": "stream",
     "text": [
      "INFO     t2smap:t2smap_workflow:320 Workflow completed\n"
     ]
    }
   ],
   "source": [
    "workflows.t2smap_workflow(\n",
    "    data_files,\n",
    "    echo_times,\n",
    "    out_dir=out_dir,\n",
    "    mask=mask_file,\n",
    "    prefix=\"sub-04570_task-rest_space-scanner\",\n",
    "    fittype=\"curvefit\",\n",
    ")"
   ]
  },
  {
   "cell_type": "code",
   "execution_count": 4,
   "id": "bb766501",
   "metadata": {},
   "outputs": [
    {
     "name": "stdout",
     "output_type": "stream",
     "text": [
      "sub-04570_task-rest_space-scanner_S0map.nii.gz\n",
      "sub-04570_task-rest_space-scanner_T2starmap.nii.gz\n",
      "sub-04570_task-rest_space-scanner_dataset_description.json\n",
      "sub-04570_task-rest_space-scanner_desc-limited_S0map.nii.gz\n",
      "sub-04570_task-rest_space-scanner_desc-limited_T2starmap.nii.gz\n",
      "sub-04570_task-rest_space-scanner_desc-optcom_bold.nii.gz\n"
     ]
    }
   ],
   "source": [
    "out_files = sorted(glob(os.path.join(out_dir, \"*\")))\n",
    "out_files = [os.path.basename(f) for f in out_files]\n",
    "print(\"\\n\".join(out_files))"
   ]
  },
  {
   "cell_type": "code",
   "execution_count": 5,
   "id": "c96c453d",
   "metadata": {},
   "outputs": [
    {
     "ename": "NameError",
     "evalue": "name 'glue' is not defined",
     "output_type": "error",
     "traceback": [
      "\u001b[0;31m---------------------------------------------------------------------------\u001b[0m",
      "\u001b[0;31mNameError\u001b[0m                                 Traceback (most recent call last)",
      "\u001b[0;32m/tmp/ipykernel_1656/3295998770.py\u001b[0m in \u001b[0;36m<module>\u001b[0;34m\u001b[0m\n\u001b[1;32m      8\u001b[0m     \u001b[0maxes\u001b[0m\u001b[0;34m=\u001b[0m\u001b[0max\u001b[0m\u001b[0;34m,\u001b[0m\u001b[0;34m\u001b[0m\u001b[0;34m\u001b[0m\u001b[0m\n\u001b[1;32m      9\u001b[0m )\n\u001b[0;32m---> 10\u001b[0;31m \u001b[0mglue\u001b[0m\u001b[0;34m(\u001b[0m\u001b[0;34m\"figure_t2starmap\"\u001b[0m\u001b[0;34m,\u001b[0m \u001b[0mfig\u001b[0m\u001b[0;34m,\u001b[0m \u001b[0mdisplay\u001b[0m\u001b[0;34m=\u001b[0m\u001b[0;32mFalse\u001b[0m\u001b[0;34m)\u001b[0m\u001b[0;34m\u001b[0m\u001b[0;34m\u001b[0m\u001b[0m\n\u001b[0m",
      "\u001b[0;31mNameError\u001b[0m: name 'glue' is not defined"
     ]
    }
   ],
   "source": [
    "fig, ax = plt.subplots(figsize=(16, 8))\n",
    "plotting.plot_stat_map(\n",
    "    os.path.join(out_dir, \"sub-04570_task-rest_space-scanner_T2starmap.nii.gz\"),\n",
    "    vmax=0.6,\n",
    "    draw_cross=False,\n",
    "    bg_img=None,\n",
    "    figure=fig,\n",
    "    axes=ax,\n",
    ")\n",
    "glue(\"figure_t2starmap\", fig, display=False)"
   ]
  },
  {
   "cell_type": "markdown",
   "id": "b1a15cfc",
   "metadata": {},
   "source": [
    "```{glue:figure} figure_t2starmap\n",
    ":name: \"figure_t2starmap\"\n",
    ":align: center\n",
    "\n",
    "T2* map estimated from multi-echo data using tedana's :func:`~tedana.workflows.t2smap_workflow`.\n",
    "```"
   ]
  },
  {
   "cell_type": "code",
   "execution_count": null,
   "id": "d76c7eaf",
   "metadata": {},
   "outputs": [],
   "source": [
    "fig, ax = plt.subplots(figsize=(16, 8))\n",
    "plotting.plot_stat_map(\n",
    "    os.path.join(out_dir, \"sub-04570_task-rest_space-scanner_S0map.nii.gz\"),\n",
    "    vmax=8000,\n",
    "    draw_cross=False,\n",
    "    bg_img=None,\n",
    "    figure=fig,\n",
    "    axes=ax,\n",
    ")\n",
    "glue(\"figure_s0map\", fig, display=False)"
   ]
  },
  {
   "cell_type": "markdown",
   "id": "4344f825",
   "metadata": {},
   "source": [
    "```{glue:figure} figure_s0map\n",
    ":name: \"figure_s0map\"\n",
    ":align: center\n",
    "\n",
    "S0 map estimated from multi-echo data using tedana's :func:`~tedana.workflows.t2smap_workflow`.\n",
    "```"
   ]
  },
  {
   "cell_type": "code",
   "execution_count": null,
   "id": "f8a308f9",
   "metadata": {},
   "outputs": [],
   "source": [
    "fig, axes = plt.subplots(figsize=(16, 15), nrows=5)\n",
    "plotting.plot_epi(\n",
    "    image.mean_img(data_files[0]),\n",
    "    draw_cross=False,\n",
    "    bg_img=None,\n",
    "    cut_coords=[-10, 0, 10, 20, 30, 40, 50, 60, 70],\n",
    "    display_mode=\"z\",\n",
    "    figure=fig,\n",
    "    axes=axes[0],\n",
    ")\n",
    "plotting.plot_epi(\n",
    "    image.mean_img(data_files[1]),\n",
    "    draw_cross=False,\n",
    "    bg_img=None,\n",
    "    cut_coords=[-10, 0, 10, 20, 30, 40, 50, 60, 70],\n",
    "    display_mode=\"z\",\n",
    "    figure=fig,\n",
    "    axes=axes[1],\n",
    ")\n",
    "plotting.plot_epi(\n",
    "    image.mean_img(data_files[2]),\n",
    "    draw_cross=False,\n",
    "    bg_img=None,\n",
    "    cut_coords=[-10, 0, 10, 20, 30, 40, 50, 60, 70],\n",
    "    display_mode=\"z\",\n",
    "    figure=fig,\n",
    "    axes=axes[2],\n",
    ")\n",
    "plotting.plot_epi(\n",
    "    image.mean_img(data_files[3]),\n",
    "    draw_cross=False,\n",
    "    bg_img=None,\n",
    "    cut_coords=[-10, 0, 10, 20, 30, 40, 50, 60, 70],\n",
    "    display_mode=\"z\",\n",
    "    figure=fig,\n",
    "    axes=axes[3],\n",
    ")\n",
    "plotting.plot_epi(\n",
    "    image.mean_img(os.path.join(out_dir, \"sub-04570_task-rest_space-scanner_desc-optcom_bold.nii.gz\")),\n",
    "    draw_cross=False,\n",
    "    bg_img=None,\n",
    "    cut_coords=[-10, 0, 10, 20, 30, 40, 50, 60, 70],\n",
    "    display_mode=\"z\",\n",
    "    figure=fig,\n",
    "    axes=axes[4],\n",
    ")\n",
    "glue(\"figure_t2smap_epi_plots\", fig, display=False)"
   ]
  },
  {
   "cell_type": "markdown",
   "id": "be38e959",
   "metadata": {},
   "source": [
    "```{glue:figure} figure_t2smap_epi_plots\n",
    ":name: \"figure_t2smap_epi_plots\"\n",
    ":align: center\n",
    "\n",
    "Mean map of each of the echoes in the original data, along with the mean map of the optimally combined data.\n",
    "```"
   ]
  },
  {
   "cell_type": "code",
   "execution_count": null,
   "id": "0b66642d",
   "metadata": {},
   "outputs": [],
   "source": [
    "te30_tsnr = image.math_img(\n",
    "    '(np.nanmean(img, axis=3) / np.nanstd(img, axis=3)) * mask',\n",
    "    img=data_files[1],\n",
    "    mask=mask_file,\n",
    ")\n",
    "oc_tsnr = image.math_img(\n",
    "    '(np.nanmean(img, axis=3) / np.nanstd(img, axis=3)) * mask',\n",
    "    img=os.path.join(out_dir, \"sub-04570_task-rest_space-scanner_desc-optcom_bold.nii.gz\"),\n",
    "    mask=mask_file,\n",
    ")\n",
    "vmax = np.nanmax(np.abs(oc_tsnr.get_fdata()))\n",
    "\n",
    "fig, axes = plt.subplots(figsize=(10, 8), nrows=2)\n",
    "plotting.plot_stat_map(\n",
    "    te30_tsnr,\n",
    "    draw_cross=False,\n",
    "    bg_img=None,\n",
    "    threshold=0.1,\n",
    "    cut_coords=[0, 10, 10],\n",
    "    vmax=vmax,\n",
    "    symmetric_cbar=False,\n",
    "    figure=fig,\n",
    "    axes=axes[0],\n",
    ")\n",
    "axes[0].set_title(\"TE30 TSNR\", fontsize=16)\n",
    "plotting.plot_stat_map(\n",
    "    oc_tsnr,\n",
    "    draw_cross=False,\n",
    "    bg_img=None,\n",
    "    threshold=0.1,\n",
    "    cut_coords=[0, 10, 10],\n",
    "    vmax=vmax,\n",
    "    symmetric_cbar=False,\n",
    "    figure=fig,\n",
    "    axes=axes[1],\n",
    ")\n",
    "axes[1].set_title(\"Optimal Combination TSNR\", fontsize=16)\n",
    "glue(\"figure_t2smap_t2snr\", fig, display=False)"
   ]
  },
  {
   "cell_type": "markdown",
   "id": "da7ba5f2",
   "metadata": {},
   "source": [
    "```{glue:figure} figure_t2smap_t2snr\n",
    ":name: \"figure_t2smap_t2snr\"\n",
    ":align: center\n",
    "\n",
    "TSNR map of each of the echoes in the original data, along with the TSNR map of the optimally combined data.\n",
    "```"
   ]
  },
  {
   "cell_type": "code",
   "execution_count": null,
   "id": "d11816a9",
   "metadata": {},
   "outputs": [],
   "source": [
    "fig, ax = plt.subplots(figsize=(16, 8))\n",
    "plotting.plot_carpet(\n",
    "    data_files[1],\n",
    "    figure=fig,\n",
    "    axes=ax,\n",
    ")\n",
    "glue(\"figure_echo2_carpet\", fig, display=False)"
   ]
  },
  {
   "cell_type": "markdown",
   "id": "7f1b6cc0",
   "metadata": {},
   "source": [
    "```{glue:figure} figure_echo2_carpet\n",
    ":name: \"figure_echo2_carpet\"\n",
    ":align: center\n",
    "\n",
    "Carpet plot of the second echo's data.\n",
    "```"
   ]
  },
  {
   "cell_type": "code",
   "execution_count": null,
   "id": "57564d70",
   "metadata": {},
   "outputs": [],
   "source": [
    "fig, ax = plt.subplots(figsize=(16, 8))\n",
    "plotting.plot_carpet(\n",
    "    os.path.join(out_dir, \"sub-04570_task-rest_space-scanner_desc-optcom_bold.nii.gz\"),\n",
    "    axes=ax,\n",
    ")\n",
    "glue(\"figure_optcom_carpet\", fig, display=False)"
   ]
  },
  {
   "cell_type": "markdown",
   "id": "fae211fa",
   "metadata": {},
   "source": [
    "```{glue:figure} figure_optcom_carpet\n",
    ":name: \"figure_optcom_carpet\"\n",
    ":align: center\n",
    "\n",
    "Carpet plot of the optimally combined data.\n",
    "```"
   ]
  }
 ],
 "metadata": {
  "jupytext": {
   "text_representation": {
    "extension": ".md",
    "format_name": "myst",
    "format_version": 0.13,
    "jupytext_version": "1.10.3"
   }
  },
  "kernelspec": {
   "display_name": "Python 3",
   "language": "python",
   "name": "python3"
  },
  "language_info": {
   "codemirror_mode": {
    "name": "ipython",
    "version": 3
   },
   "file_extension": ".py",
   "mimetype": "text/x-python",
   "name": "python",
   "nbconvert_exporter": "python",
   "pygments_lexer": "ipython3",
   "version": "3.7.12"
  },
  "source_map": [
   12,
   18,
   39,
   54,
   65,
   71,
   82,
   91,
   102,
   111,
   159,
   168,
   207,
   216,
   224,
   233,
   240
  ]
 },
 "nbformat": 4,
 "nbformat_minor": 5
}