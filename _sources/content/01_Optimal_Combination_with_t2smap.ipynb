{
 "cells": [
  {
   "cell_type": "markdown",
   "id": "e5bec988",
   "metadata": {},
   "source": [
    "# Optimal combination with `t2smap`\n",
    "\n",
    "Use `t2smap` {cite:p}`DuPre2021` to combine data."
   ]
  },
  {
   "cell_type": "code",
   "execution_count": 1,
   "id": "737a9c82",
   "metadata": {},
   "outputs": [
    {
     "name": "stdout",
     "output_type": "stream",
     "text": [
      "---- repo2data starting ----\n",
      "/opt/hostedtoolcache/Python/3.10.15/x64/lib/python3.10/site-packages/repo2data\n",
      "Config from file :\n",
      "../binder/data_requirement.json\n",
      "Destination:\n",
      "./../data/multi-echo-data-analysis\n",
      "\n",
      "Info : ./../data/multi-echo-data-analysis already downloaded\n"
     ]
    },
    {
     "name": "stderr",
     "output_type": "stream",
     "text": [
      "/opt/hostedtoolcache/Python/3.10.15/x64/lib/python3.10/site-packages/tqdm/auto.py:21: TqdmWarning: IProgress not found. Please update jupyter and ipywidgets. See https://ipywidgets.readthedocs.io/en/stable/user_install.html\n",
      "  from .autonotebook import tqdm as notebook_tqdm\n"
     ]
    }
   ],
   "source": [
    "import os\n",
    "from glob import glob\n",
    "\n",
    "import matplotlib.pyplot as plt\n",
    "import numpy as np\n",
    "from myst_nb import glue\n",
    "from nilearn import image, plotting\n",
    "from repo2data.repo2data import Repo2Data\n",
    "from tedana import workflows\n",
    "\n",
    "# Install the data if running locally, or point to cached data if running on neurolibre\n",
    "DATA_REQ_FILE = os.path.join(\"../binder/data_requirement.json\")\n",
    "\n",
    "# Download data\n",
    "repo2data = Repo2Data(DATA_REQ_FILE)\n",
    "data_path = repo2data.install()\n",
    "data_path = os.path.abspath(data_path[0])"
   ]
  },
  {
   "cell_type": "code",
   "execution_count": 2,
   "id": "8d415f16",
   "metadata": {},
   "outputs": [],
   "source": [
    "func_dir = os.path.join(data_path, \"func/\")\n",
    "data_files = [\n",
    "    os.path.join(\n",
    "        func_dir,\n",
    "        \"sub-04570_task-rest_echo-1_space-scanner_desc-partialPreproc_bold.nii.gz\",\n",
    "    ),\n",
    "    os.path.join(\n",
    "        func_dir,\n",
    "        \"sub-04570_task-rest_echo-2_space-scanner_desc-partialPreproc_bold.nii.gz\",\n",
    "    ),\n",
    "    os.path.join(\n",
    "        func_dir,\n",
    "        \"sub-04570_task-rest_echo-3_space-scanner_desc-partialPreproc_bold.nii.gz\",\n",
    "    ),\n",
    "    os.path.join(\n",
    "        func_dir,\n",
    "        \"sub-04570_task-rest_echo-4_space-scanner_desc-partialPreproc_bold.nii.gz\",\n",
    "    ),\n",
    "]\n",
    "echo_times = [12.0, 28.0, 44.0, 60.0]\n",
    "mask_file = os.path.join(\n",
    "    func_dir, \"sub-04570_task-rest_space-scanner_desc-brain_mask.nii.gz\"\n",
    ")\n",
    "confounds_file = os.path.join(\n",
    "    func_dir, \"sub-04570_task-rest_desc-confounds_timeseries.tsv\"\n",
    ")\n",
    "\n",
    "out_dir = os.path.join(data_path, \"t2smap\")"
   ]
  },
  {
   "cell_type": "code",
   "execution_count": 3,
   "id": "69421990",
   "metadata": {},
   "outputs": [
    {
     "name": "stderr",
     "output_type": "stream",
     "text": [
      "INFO     t2smap:t2smap_workflow:252 Using output directory: /home/runner/work/multi-echo-data-analysis/multi-echo-data-analysis/data/multi-echo-data-analysis/t2smap\n"
     ]
    },
    {
     "name": "stderr",
     "output_type": "stream",
     "text": [
      "INFO     t2smap:t2smap_workflow:278 Loading input data: ['/home/runner/work/multi-echo-data-analysis/multi-echo-data-analysis/data/multi-echo-data-analysis/func/sub-04570_task-rest_echo-1_space-scanner_desc-partialPreproc_bold.nii.gz', '/home/runner/work/multi-echo-data-analysis/multi-echo-data-analysis/data/multi-echo-data-analysis/func/sub-04570_task-rest_echo-2_space-scanner_desc-partialPreproc_bold.nii.gz', '/home/runner/work/multi-echo-data-analysis/multi-echo-data-analysis/data/multi-echo-data-analysis/func/sub-04570_task-rest_echo-3_space-scanner_desc-partialPreproc_bold.nii.gz', '/home/runner/work/multi-echo-data-analysis/multi-echo-data-analysis/data/multi-echo-data-analysis/func/sub-04570_task-rest_echo-4_space-scanner_desc-partialPreproc_bold.nii.gz']\n"
     ]
    },
    {
     "name": "stderr",
     "output_type": "stream",
     "text": [
      "INFO     t2smap:t2smap_workflow:298 Using user-defined mask\n"
     ]
    },
    {
     "name": "stderr",
     "output_type": "stream",
     "text": [
      "INFO     utils:make_adaptive_mask:198 Echo-wise intensity thresholds for adaptive mask: [258.33994278 180.98638476 134.6796175   91.51006253]\n"
     ]
    },
    {
     "name": "stderr",
     "output_type": "stream",
     "text": [
      "WARNING  utils:make_adaptive_mask:227 734 voxels in user-defined mask do not have good signal. Removing voxels from mask.\n"
     ]
    },
    {
     "name": "stderr",
     "output_type": "stream",
     "text": [
      "INFO     t2smap:t2smap_workflow:306 Computing adaptive T2* map\n"
     ]
    },
    {
     "name": "stderr",
     "output_type": "stream",
     "text": [
      "\r",
      "2-echo monoexponential:   0%|          | 0/2224 [00:00<?, ?it/s]"
     ]
    },
    {
     "name": "stderr",
     "output_type": "stream",
     "text": [
      "\r",
      "2-echo monoexponential:   3%|▎         | 57/2224 [00:00<00:03, 568.98it/s]"
     ]
    },
    {
     "name": "stderr",
     "output_type": "stream",
     "text": [
      "\r",
      "2-echo monoexponential:   6%|▌         | 135/2224 [00:00<00:03, 692.82it/s]"
     ]
    },
    {
     "name": "stderr",
     "output_type": "stream",
     "text": [
      "\r",
      "2-echo monoexponential:  10%|▉         | 215/2224 [00:00<00:02, 741.32it/s]"
     ]
    },
    {
     "name": "stderr",
     "output_type": "stream",
     "text": [
      "\r",
      "2-echo monoexponential:  13%|█▎        | 296/2224 [00:00<00:02, 766.47it/s]"
     ]
    },
    {
     "name": "stderr",
     "output_type": "stream",
     "text": [
      "\r",
      "2-echo monoexponential:  17%|█▋        | 374/2224 [00:00<00:02, 769.78it/s]"
     ]
    },
    {
     "name": "stderr",
     "output_type": "stream",
     "text": [
      "\r",
      "2-echo monoexponential:  20%|██        | 455/2224 [00:00<00:02, 782.02it/s]"
     ]
    },
    {
     "name": "stderr",
     "output_type": "stream",
     "text": [
      "\r",
      "2-echo monoexponential:  24%|██▍       | 535/2224 [00:00<00:02, 785.00it/s]"
     ]
    },
    {
     "name": "stderr",
     "output_type": "stream",
     "text": [
      "\r",
      "2-echo monoexponential:  28%|██▊       | 614/2224 [00:00<00:02, 777.28it/s]"
     ]
    },
    {
     "name": "stderr",
     "output_type": "stream",
     "text": [
      "\r",
      "2-echo monoexponential:  31%|███       | 692/2224 [00:00<00:01, 774.32it/s]"
     ]
    },
    {
     "name": "stderr",
     "output_type": "stream",
     "text": [
      "\r",
      "2-echo monoexponential:  35%|███▍      | 770/2224 [00:01<00:01, 766.49it/s]"
     ]
    },
    {
     "name": "stderr",
     "output_type": "stream",
     "text": [
      "\r",
      "2-echo monoexponential:  38%|███▊      | 848/2224 [00:01<00:01, 768.96it/s]"
     ]
    },
    {
     "name": "stderr",
     "output_type": "stream",
     "text": [
      "\r",
      "2-echo monoexponential:  42%|████▏     | 926/2224 [00:01<00:01, 770.00it/s]"
     ]
    },
    {
     "name": "stderr",
     "output_type": "stream",
     "text": [
      "\r",
      "2-echo monoexponential:  45%|████▌     | 1004/2224 [00:01<00:01, 768.86it/s]"
     ]
    },
    {
     "name": "stderr",
     "output_type": "stream",
     "text": [
      "\r",
      "2-echo monoexponential:  49%|████▊     | 1084/2224 [00:01<00:01, 776.46it/s]"
     ]
    },
    {
     "name": "stderr",
     "output_type": "stream",
     "text": [
      "\r",
      "2-echo monoexponential:  52%|█████▏    | 1162/2224 [00:01<00:01, 768.33it/s]"
     ]
    },
    {
     "name": "stderr",
     "output_type": "stream",
     "text": [
      "\r",
      "2-echo monoexponential:  56%|█████▌    | 1241/2224 [00:01<00:01, 772.86it/s]"
     ]
    },
    {
     "name": "stderr",
     "output_type": "stream",
     "text": [
      "\r",
      "2-echo monoexponential:  59%|█████▉    | 1319/2224 [00:01<00:01, 773.26it/s]"
     ]
    },
    {
     "name": "stderr",
     "output_type": "stream",
     "text": [
      "\r",
      "2-echo monoexponential:  63%|██████▎   | 1397/2224 [00:01<00:01, 771.84it/s]"
     ]
    },
    {
     "name": "stderr",
     "output_type": "stream",
     "text": [
      "\r",
      "2-echo monoexponential:  66%|██████▋   | 1475/2224 [00:01<00:00, 772.90it/s]"
     ]
    },
    {
     "name": "stderr",
     "output_type": "stream",
     "text": [
      "\r",
      "2-echo monoexponential:  70%|██████▉   | 1553/2224 [00:02<00:00, 765.46it/s]"
     ]
    },
    {
     "name": "stderr",
     "output_type": "stream",
     "text": [
      "\r",
      "2-echo monoexponential:  73%|███████▎  | 1632/2224 [00:02<00:00, 771.66it/s]"
     ]
    },
    {
     "name": "stderr",
     "output_type": "stream",
     "text": [
      "\r",
      "2-echo monoexponential:  77%|███████▋  | 1710/2224 [00:02<00:00, 769.59it/s]"
     ]
    },
    {
     "name": "stderr",
     "output_type": "stream",
     "text": [
      "\r",
      "2-echo monoexponential:  80%|████████  | 1788/2224 [00:02<00:00, 771.92it/s]"
     ]
    },
    {
     "name": "stderr",
     "output_type": "stream",
     "text": [
      "\r",
      "2-echo monoexponential:  84%|████████▍ | 1869/2224 [00:02<00:00, 780.59it/s]"
     ]
    },
    {
     "name": "stderr",
     "output_type": "stream",
     "text": [
      "\r",
      "2-echo monoexponential:  88%|████████▊ | 1950/2224 [00:02<00:00, 786.98it/s]"
     ]
    },
    {
     "name": "stderr",
     "output_type": "stream",
     "text": [
      "\r",
      "2-echo monoexponential:  91%|█████████ | 2029/2224 [00:02<00:00, 781.29it/s]"
     ]
    },
    {
     "name": "stderr",
     "output_type": "stream",
     "text": [
      "\r",
      "2-echo monoexponential:  95%|█████████▍| 2108/2224 [00:02<00:00, 779.48it/s]"
     ]
    },
    {
     "name": "stderr",
     "output_type": "stream",
     "text": [
      "\r",
      "2-echo monoexponential:  98%|█████████▊| 2186/2224 [00:02<00:00, 765.70it/s]"
     ]
    },
    {
     "name": "stderr",
     "output_type": "stream",
     "text": [
      "\r",
      "2-echo monoexponential: 100%|██████████| 2224/2224 [00:02<00:00, 767.85it/s]"
     ]
    },
    {
     "name": "stderr",
     "output_type": "stream",
     "text": [
      "\n"
     ]
    },
    {
     "name": "stderr",
     "output_type": "stream",
     "text": [
      "\r",
      "3-echo monoexponential:   0%|          | 0/1092 [00:00<?, ?it/s]"
     ]
    },
    {
     "name": "stderr",
     "output_type": "stream",
     "text": [
      "\r",
      "3-echo monoexponential:   4%|▍         | 48/1092 [00:00<00:02, 473.50it/s]"
     ]
    },
    {
     "name": "stderr",
     "output_type": "stream",
     "text": [
      "\r",
      "3-echo monoexponential:   9%|▉         | 98/1092 [00:00<00:02, 484.00it/s]"
     ]
    },
    {
     "name": "stderr",
     "output_type": "stream",
     "text": [
      "\r",
      "3-echo monoexponential:  14%|█▎        | 150/1092 [00:00<00:01, 500.23it/s]"
     ]
    },
    {
     "name": "stderr",
     "output_type": "stream",
     "text": [
      "\r",
      "3-echo monoexponential:  19%|█▊        | 203/1092 [00:00<00:01, 506.27it/s]"
     ]
    },
    {
     "name": "stderr",
     "output_type": "stream",
     "text": [
      "\r",
      "3-echo monoexponential:  23%|██▎       | 255/1092 [00:00<00:01, 508.12it/s]"
     ]
    },
    {
     "name": "stderr",
     "output_type": "stream",
     "text": [
      "\r",
      "3-echo monoexponential:  28%|██▊       | 306/1092 [00:00<00:01, 503.98it/s]"
     ]
    },
    {
     "name": "stderr",
     "output_type": "stream",
     "text": [
      "\r",
      "3-echo monoexponential:  33%|███▎      | 357/1092 [00:00<00:01, 501.42it/s]"
     ]
    },
    {
     "name": "stderr",
     "output_type": "stream",
     "text": [
      "\r",
      "3-echo monoexponential:  37%|███▋      | 408/1092 [00:00<00:01, 493.54it/s]"
     ]
    },
    {
     "name": "stderr",
     "output_type": "stream",
     "text": [
      "\r",
      "3-echo monoexponential:  42%|████▏     | 459/1092 [00:00<00:01, 494.58it/s]"
     ]
    },
    {
     "name": "stderr",
     "output_type": "stream",
     "text": [
      "\r",
      "3-echo monoexponential:  47%|████▋     | 510/1092 [00:01<00:01, 496.85it/s]"
     ]
    },
    {
     "name": "stderr",
     "output_type": "stream",
     "text": [
      "\r",
      "3-echo monoexponential:  51%|█████▏    | 561/1092 [00:01<00:01, 497.86it/s]"
     ]
    },
    {
     "name": "stderr",
     "output_type": "stream",
     "text": [
      "\r",
      "3-echo monoexponential:  56%|█████▌    | 611/1092 [00:01<00:00, 490.78it/s]"
     ]
    },
    {
     "name": "stderr",
     "output_type": "stream",
     "text": [
      "\r",
      "3-echo monoexponential:  61%|██████    | 664/1092 [00:01<00:00, 500.32it/s]"
     ]
    },
    {
     "name": "stderr",
     "output_type": "stream",
     "text": [
      "\r",
      "3-echo monoexponential:  65%|██████▌   | 715/1092 [00:01<00:00, 492.44it/s]"
     ]
    },
    {
     "name": "stderr",
     "output_type": "stream",
     "text": [
      "\r",
      "3-echo monoexponential:  70%|███████   | 765/1092 [00:01<00:00, 490.45it/s]"
     ]
    },
    {
     "name": "stderr",
     "output_type": "stream",
     "text": [
      "\r",
      "3-echo monoexponential:  75%|███████▍  | 815/1092 [00:01<00:00, 490.66it/s]"
     ]
    },
    {
     "name": "stderr",
     "output_type": "stream",
     "text": [
      "\r",
      "3-echo monoexponential:  79%|███████▉  | 865/1092 [00:01<00:00, 491.48it/s]"
     ]
    },
    {
     "name": "stderr",
     "output_type": "stream",
     "text": [
      "\r",
      "3-echo monoexponential:  84%|████████▍ | 918/1092 [00:01<00:00, 501.43it/s]"
     ]
    },
    {
     "name": "stderr",
     "output_type": "stream",
     "text": [
      "\r",
      "3-echo monoexponential:  89%|████████▉ | 970/1092 [00:01<00:00, 505.52it/s]"
     ]
    },
    {
     "name": "stderr",
     "output_type": "stream",
     "text": [
      "\r",
      "3-echo monoexponential:  93%|█████████▎| 1021/1092 [00:02<00:00, 506.02it/s]"
     ]
    },
    {
     "name": "stderr",
     "output_type": "stream",
     "text": [
      "\r",
      "3-echo monoexponential:  98%|█████████▊| 1072/1092 [00:02<00:00, 499.11it/s]"
     ]
    },
    {
     "name": "stderr",
     "output_type": "stream",
     "text": [
      "\r",
      "3-echo monoexponential: 100%|██████████| 1092/1092 [00:02<00:00, 498.05it/s]"
     ]
    },
    {
     "name": "stderr",
     "output_type": "stream",
     "text": [
      "\n"
     ]
    },
    {
     "name": "stderr",
     "output_type": "stream",
     "text": [
      "\r",
      "4-echo monoexponential:   0%|          | 0/20176 [00:00<?, ?it/s]"
     ]
    },
    {
     "name": "stderr",
     "output_type": "stream",
     "text": [
      "\r",
      "4-echo monoexponential:   0%|          | 50/20176 [00:00<00:40, 499.65it/s]"
     ]
    },
    {
     "name": "stderr",
     "output_type": "stream",
     "text": [
      "\r",
      "4-echo monoexponential:   1%|          | 104/20176 [00:00<00:38, 520.68it/s]"
     ]
    },
    {
     "name": "stderr",
     "output_type": "stream",
     "text": [
      "\r",
      "4-echo monoexponential:   1%|          | 161/20176 [00:00<00:37, 539.27it/s]"
     ]
    },
    {
     "name": "stderr",
     "output_type": "stream",
     "text": [
      "\r",
      "4-echo monoexponential:   1%|          | 220/20176 [00:00<00:35, 558.75it/s]"
     ]
    },
    {
     "name": "stderr",
     "output_type": "stream",
     "text": [
      "\r",
      "4-echo monoexponential:   1%|▏         | 277/20176 [00:00<00:35, 559.76it/s]"
     ]
    },
    {
     "name": "stderr",
     "output_type": "stream",
     "text": [
      "\r",
      "4-echo monoexponential:   2%|▏         | 336/20176 [00:00<00:34, 567.11it/s]"
     ]
    },
    {
     "name": "stderr",
     "output_type": "stream",
     "text": [
      "\r",
      "4-echo monoexponential:   2%|▏         | 395/20176 [00:00<00:34, 573.91it/s]"
     ]
    },
    {
     "name": "stderr",
     "output_type": "stream",
     "text": [
      "\r",
      "4-echo monoexponential:   2%|▏         | 453/20176 [00:00<00:34, 569.62it/s]"
     ]
    },
    {
     "name": "stderr",
     "output_type": "stream",
     "text": [
      "\r",
      "4-echo monoexponential:   3%|▎         | 513/20176 [00:00<00:34, 577.63it/s]"
     ]
    },
    {
     "name": "stderr",
     "output_type": "stream",
     "text": [
      "\r",
      "4-echo monoexponential:   3%|▎         | 571/20176 [00:01<00:34, 575.42it/s]"
     ]
    },
    {
     "name": "stderr",
     "output_type": "stream",
     "text": [
      "\r",
      "4-echo monoexponential:   3%|▎         | 629/20176 [00:01<00:34, 567.77it/s]"
     ]
    },
    {
     "name": "stderr",
     "output_type": "stream",
     "text": [
      "\r",
      "4-echo monoexponential:   3%|▎         | 686/20176 [00:01<00:34, 567.09it/s]"
     ]
    },
    {
     "name": "stderr",
     "output_type": "stream",
     "text": [
      "\r",
      "4-echo monoexponential:   4%|▎         | 744/20176 [00:01<00:34, 570.34it/s]"
     ]
    },
    {
     "name": "stderr",
     "output_type": "stream",
     "text": [
      "\r",
      "4-echo monoexponential:   4%|▍         | 802/20176 [00:01<00:33, 572.12it/s]"
     ]
    },
    {
     "name": "stderr",
     "output_type": "stream",
     "text": [
      "\r",
      "4-echo monoexponential:   4%|▍         | 860/20176 [00:01<00:33, 573.69it/s]"
     ]
    },
    {
     "name": "stderr",
     "output_type": "stream",
     "text": [
      "\r",
      "4-echo monoexponential:   5%|▍         | 920/20176 [00:01<00:33, 579.30it/s]"
     ]
    },
    {
     "name": "stderr",
     "output_type": "stream",
     "text": [
      "\r",
      "4-echo monoexponential:   5%|▍         | 978/20176 [00:01<00:33, 569.86it/s]"
     ]
    },
    {
     "name": "stderr",
     "output_type": "stream",
     "text": [
      "\r",
      "4-echo monoexponential:   5%|▌         | 1036/20176 [00:01<00:34, 550.61it/s]"
     ]
    },
    {
     "name": "stderr",
     "output_type": "stream",
     "text": [
      "\r",
      "4-echo monoexponential:   5%|▌         | 1092/20176 [00:01<00:34, 548.10it/s]"
     ]
    },
    {
     "name": "stderr",
     "output_type": "stream",
     "text": [
      "\r",
      "4-echo monoexponential:   6%|▌         | 1148/20176 [00:02<00:34, 550.79it/s]"
     ]
    },
    {
     "name": "stderr",
     "output_type": "stream",
     "text": [
      "\r",
      "4-echo monoexponential:   6%|▌         | 1207/20176 [00:02<00:33, 561.82it/s]"
     ]
    },
    {
     "name": "stderr",
     "output_type": "stream",
     "text": [
      "\r",
      "4-echo monoexponential:   6%|▋         | 1267/20176 [00:02<00:33, 571.51it/s]"
     ]
    },
    {
     "name": "stderr",
     "output_type": "stream",
     "text": [
      "\r",
      "4-echo monoexponential:   7%|▋         | 1328/20176 [00:02<00:32, 582.04it/s]"
     ]
    },
    {
     "name": "stderr",
     "output_type": "stream",
     "text": [
      "\r",
      "4-echo monoexponential:   7%|▋         | 1391/20176 [00:02<00:31, 593.88it/s]"
     ]
    },
    {
     "name": "stderr",
     "output_type": "stream",
     "text": [
      "\r",
      "4-echo monoexponential:   7%|▋         | 1451/20176 [00:02<00:32, 576.35it/s]"
     ]
    },
    {
     "name": "stderr",
     "output_type": "stream",
     "text": [
      "\r",
      "4-echo monoexponential:   7%|▋         | 1509/20176 [00:02<00:33, 563.90it/s]"
     ]
    },
    {
     "name": "stderr",
     "output_type": "stream",
     "text": [
      "\r",
      "4-echo monoexponential:   8%|▊         | 1569/20176 [00:02<00:32, 573.84it/s]"
     ]
    },
    {
     "name": "stderr",
     "output_type": "stream",
     "text": [
      "\r",
      "4-echo monoexponential:   8%|▊         | 1629/20176 [00:02<00:32, 579.53it/s]"
     ]
    },
    {
     "name": "stderr",
     "output_type": "stream",
     "text": [
      "\r",
      "4-echo monoexponential:   8%|▊         | 1690/20176 [00:02<00:31, 586.85it/s]"
     ]
    },
    {
     "name": "stderr",
     "output_type": "stream",
     "text": [
      "\r",
      "4-echo monoexponential:   9%|▊         | 1751/20176 [00:03<00:31, 591.72it/s]"
     ]
    },
    {
     "name": "stderr",
     "output_type": "stream",
     "text": [
      "\r",
      "4-echo monoexponential:   9%|▉         | 1811/20176 [00:03<00:30, 593.53it/s]"
     ]
    },
    {
     "name": "stderr",
     "output_type": "stream",
     "text": [
      "\r",
      "4-echo monoexponential:   9%|▉         | 1872/20176 [00:03<00:30, 598.31it/s]"
     ]
    },
    {
     "name": "stderr",
     "output_type": "stream",
     "text": [
      "\r",
      "4-echo monoexponential:  10%|▉         | 1932/20176 [00:03<00:30, 598.60it/s]"
     ]
    },
    {
     "name": "stderr",
     "output_type": "stream",
     "text": [
      "\r",
      "4-echo monoexponential:  10%|▉         | 1992/20176 [00:03<00:31, 574.63it/s]"
     ]
    },
    {
     "name": "stderr",
     "output_type": "stream",
     "text": [
      "\r",
      "4-echo monoexponential:  10%|█         | 2050/20176 [00:03<00:31, 576.15it/s]"
     ]
    },
    {
     "name": "stderr",
     "output_type": "stream",
     "text": [
      "\r",
      "4-echo monoexponential:  10%|█         | 2109/20176 [00:03<00:31, 578.49it/s]"
     ]
    },
    {
     "name": "stderr",
     "output_type": "stream",
     "text": [
      "\r",
      "4-echo monoexponential:  11%|█         | 2169/20176 [00:03<00:30, 582.98it/s]"
     ]
    },
    {
     "name": "stderr",
     "output_type": "stream",
     "text": [
      "\r",
      "4-echo monoexponential:  11%|█         | 2232/20176 [00:03<00:30, 596.80it/s]"
     ]
    },
    {
     "name": "stderr",
     "output_type": "stream",
     "text": [
      "\r",
      "4-echo monoexponential:  11%|█▏        | 2294/20176 [00:03<00:29, 601.59it/s]"
     ]
    },
    {
     "name": "stderr",
     "output_type": "stream",
     "text": [
      "\r",
      "4-echo monoexponential:  12%|█▏        | 2356/20176 [00:04<00:29, 604.05it/s]"
     ]
    },
    {
     "name": "stderr",
     "output_type": "stream",
     "text": [
      "\r",
      "4-echo monoexponential:  12%|█▏        | 2418/20176 [00:04<00:29, 607.18it/s]"
     ]
    },
    {
     "name": "stderr",
     "output_type": "stream",
     "text": [
      "\r",
      "4-echo monoexponential:  12%|█▏        | 2481/20176 [00:04<00:28, 613.55it/s]"
     ]
    },
    {
     "name": "stderr",
     "output_type": "stream",
     "text": [
      "\r",
      "4-echo monoexponential:  13%|█▎        | 2543/20176 [00:04<00:28, 610.06it/s]"
     ]
    },
    {
     "name": "stderr",
     "output_type": "stream",
     "text": [
      "\r",
      "4-echo monoexponential:  13%|█▎        | 2605/20176 [00:04<00:30, 576.98it/s]"
     ]
    },
    {
     "name": "stderr",
     "output_type": "stream",
     "text": [
      "\r",
      "4-echo monoexponential:  13%|█▎        | 2664/20176 [00:04<00:30, 577.14it/s]"
     ]
    },
    {
     "name": "stderr",
     "output_type": "stream",
     "text": [
      "\r",
      "4-echo monoexponential:  14%|█▎        | 2726/20176 [00:04<00:29, 587.98it/s]"
     ]
    },
    {
     "name": "stderr",
     "output_type": "stream",
     "text": [
      "\r",
      "4-echo monoexponential:  14%|█▍        | 2786/20176 [00:04<00:29, 588.97it/s]"
     ]
    },
    {
     "name": "stderr",
     "output_type": "stream",
     "text": [
      "\r",
      "4-echo monoexponential:  14%|█▍        | 2849/20176 [00:04<00:28, 600.10it/s]"
     ]
    },
    {
     "name": "stderr",
     "output_type": "stream",
     "text": [
      "\r",
      "4-echo monoexponential:  14%|█▍        | 2911/20176 [00:05<00:28, 603.52it/s]"
     ]
    },
    {
     "name": "stderr",
     "output_type": "stream",
     "text": [
      "\r",
      "4-echo monoexponential:  15%|█▍        | 2972/20176 [00:05<00:28, 605.06it/s]"
     ]
    },
    {
     "name": "stderr",
     "output_type": "stream",
     "text": [
      "\r",
      "4-echo monoexponential:  15%|█▌        | 3035/20176 [00:05<00:27, 612.23it/s]"
     ]
    },
    {
     "name": "stderr",
     "output_type": "stream",
     "text": [
      "\r",
      "4-echo monoexponential:  15%|█▌        | 3098/20176 [00:05<00:27, 614.50it/s]"
     ]
    },
    {
     "name": "stderr",
     "output_type": "stream",
     "text": [
      "\r",
      "4-echo monoexponential:  16%|█▌        | 3160/20176 [00:05<00:27, 615.83it/s]"
     ]
    },
    {
     "name": "stderr",
     "output_type": "stream",
     "text": [
      "\r",
      "4-echo monoexponential:  16%|█▌        | 3222/20176 [00:05<00:28, 596.24it/s]"
     ]
    },
    {
     "name": "stderr",
     "output_type": "stream",
     "text": [
      "\r",
      "4-echo monoexponential:  16%|█▋        | 3282/20176 [00:05<00:28, 593.75it/s]"
     ]
    },
    {
     "name": "stderr",
     "output_type": "stream",
     "text": [
      "\r",
      "4-echo monoexponential:  17%|█▋        | 3342/20176 [00:05<00:28, 595.06it/s]"
     ]
    },
    {
     "name": "stderr",
     "output_type": "stream",
     "text": [
      "\r",
      "4-echo monoexponential:  17%|█▋        | 3403/20176 [00:05<00:28, 596.20it/s]"
     ]
    },
    {
     "name": "stderr",
     "output_type": "stream",
     "text": [
      "\r",
      "4-echo monoexponential:  17%|█▋        | 3464/20176 [00:05<00:27, 597.70it/s]"
     ]
    },
    {
     "name": "stderr",
     "output_type": "stream",
     "text": [
      "\r",
      "4-echo monoexponential:  17%|█▋        | 3527/20176 [00:06<00:27, 606.59it/s]"
     ]
    },
    {
     "name": "stderr",
     "output_type": "stream",
     "text": [
      "\r",
      "4-echo monoexponential:  18%|█▊        | 3590/20176 [00:06<00:27, 611.99it/s]"
     ]
    },
    {
     "name": "stderr",
     "output_type": "stream",
     "text": [
      "\r",
      "4-echo monoexponential:  18%|█▊        | 3652/20176 [00:06<00:27, 609.63it/s]"
     ]
    },
    {
     "name": "stderr",
     "output_type": "stream",
     "text": [
      "\r",
      "4-echo monoexponential:  18%|█▊        | 3713/20176 [00:06<00:27, 607.16it/s]"
     ]
    },
    {
     "name": "stderr",
     "output_type": "stream",
     "text": [
      "\r",
      "4-echo monoexponential:  19%|█▊        | 3777/20176 [00:06<00:26, 613.38it/s]"
     ]
    },
    {
     "name": "stderr",
     "output_type": "stream",
     "text": [
      "\r",
      "4-echo monoexponential:  19%|█▉        | 3839/20176 [00:06<00:26, 608.41it/s]"
     ]
    },
    {
     "name": "stderr",
     "output_type": "stream",
     "text": [
      "\r",
      "4-echo monoexponential:  19%|█▉        | 3900/20176 [00:06<00:27, 602.31it/s]"
     ]
    },
    {
     "name": "stderr",
     "output_type": "stream",
     "text": [
      "\r",
      "4-echo monoexponential:  20%|█▉        | 3961/20176 [00:06<00:27, 590.17it/s]"
     ]
    },
    {
     "name": "stderr",
     "output_type": "stream",
     "text": [
      "\r",
      "4-echo monoexponential:  20%|█▉        | 4021/20176 [00:06<00:27, 592.35it/s]"
     ]
    },
    {
     "name": "stderr",
     "output_type": "stream",
     "text": [
      "\r",
      "4-echo monoexponential:  20%|██        | 4082/20176 [00:06<00:27, 595.01it/s]"
     ]
    },
    {
     "name": "stderr",
     "output_type": "stream",
     "text": [
      "\r",
      "4-echo monoexponential:  21%|██        | 4142/20176 [00:07<00:27, 589.22it/s]"
     ]
    },
    {
     "name": "stderr",
     "output_type": "stream",
     "text": [
      "\r",
      "4-echo monoexponential:  21%|██        | 4202/20176 [00:07<00:27, 590.50it/s]"
     ]
    },
    {
     "name": "stderr",
     "output_type": "stream",
     "text": [
      "\r",
      "4-echo monoexponential:  21%|██        | 4264/20176 [00:07<00:26, 598.73it/s]"
     ]
    },
    {
     "name": "stderr",
     "output_type": "stream",
     "text": [
      "\r",
      "4-echo monoexponential:  21%|██▏       | 4328/20176 [00:07<00:26, 608.85it/s]"
     ]
    },
    {
     "name": "stderr",
     "output_type": "stream",
     "text": [
      "\r",
      "4-echo monoexponential:  22%|██▏       | 4389/20176 [00:07<00:26, 602.10it/s]"
     ]
    },
    {
     "name": "stderr",
     "output_type": "stream",
     "text": [
      "\r",
      "4-echo monoexponential:  22%|██▏       | 4452/20176 [00:07<00:25, 607.64it/s]"
     ]
    },
    {
     "name": "stderr",
     "output_type": "stream",
     "text": [
      "\r",
      "4-echo monoexponential:  22%|██▏       | 4514/20176 [00:07<00:25, 609.72it/s]"
     ]
    },
    {
     "name": "stderr",
     "output_type": "stream",
     "text": [
      "\r",
      "4-echo monoexponential:  23%|██▎       | 4575/20176 [00:07<00:25, 609.79it/s]"
     ]
    },
    {
     "name": "stderr",
     "output_type": "stream",
     "text": [
      "\r",
      "4-echo monoexponential:  23%|██▎       | 4636/20176 [00:07<00:25, 605.39it/s]"
     ]
    },
    {
     "name": "stderr",
     "output_type": "stream",
     "text": [
      "\r",
      "4-echo monoexponential:  23%|██▎       | 4697/20176 [00:07<00:26, 588.29it/s]"
     ]
    },
    {
     "name": "stderr",
     "output_type": "stream",
     "text": [
      "\r",
      "4-echo monoexponential:  24%|██▎       | 4756/20176 [00:08<00:26, 586.56it/s]"
     ]
    },
    {
     "name": "stderr",
     "output_type": "stream",
     "text": [
      "\r",
      "4-echo monoexponential:  24%|██▍       | 4817/20176 [00:08<00:25, 591.07it/s]"
     ]
    },
    {
     "name": "stderr",
     "output_type": "stream",
     "text": [
      "\r",
      "4-echo monoexponential:  24%|██▍       | 4877/20176 [00:08<00:25, 591.32it/s]"
     ]
    },
    {
     "name": "stderr",
     "output_type": "stream",
     "text": [
      "\r",
      "4-echo monoexponential:  24%|██▍       | 4938/20176 [00:08<00:25, 595.39it/s]"
     ]
    },
    {
     "name": "stderr",
     "output_type": "stream",
     "text": [
      "\r",
      "4-echo monoexponential:  25%|██▍       | 5001/20176 [00:08<00:25, 603.55it/s]"
     ]
    },
    {
     "name": "stderr",
     "output_type": "stream",
     "text": [
      "\r",
      "4-echo monoexponential:  25%|██▌       | 5064/20176 [00:08<00:24, 609.42it/s]"
     ]
    },
    {
     "name": "stderr",
     "output_type": "stream",
     "text": [
      "\r",
      "4-echo monoexponential:  25%|██▌       | 5129/20176 [00:08<00:24, 619.04it/s]"
     ]
    },
    {
     "name": "stderr",
     "output_type": "stream",
     "text": [
      "\r",
      "4-echo monoexponential:  26%|██▌       | 5192/20176 [00:08<00:24, 620.94it/s]"
     ]
    },
    {
     "name": "stderr",
     "output_type": "stream",
     "text": [
      "\r",
      "4-echo monoexponential:  26%|██▌       | 5255/20176 [00:08<00:24, 621.31it/s]"
     ]
    },
    {
     "name": "stderr",
     "output_type": "stream",
     "text": [
      "\r",
      "4-echo monoexponential:  26%|██▋       | 5318/20176 [00:09<00:23, 620.71it/s]"
     ]
    },
    {
     "name": "stderr",
     "output_type": "stream",
     "text": [
      "\r",
      "4-echo monoexponential:  27%|██▋       | 5381/20176 [00:09<00:24, 613.70it/s]"
     ]
    },
    {
     "name": "stderr",
     "output_type": "stream",
     "text": [
      "\r",
      "4-echo monoexponential:  27%|██▋       | 5443/20176 [00:09<00:24, 589.64it/s]"
     ]
    },
    {
     "name": "stderr",
     "output_type": "stream",
     "text": [
      "\r",
      "4-echo monoexponential:  27%|██▋       | 5503/20176 [00:09<00:24, 589.98it/s]"
     ]
    },
    {
     "name": "stderr",
     "output_type": "stream",
     "text": [
      "\r",
      "4-echo monoexponential:  28%|██▊       | 5564/20176 [00:09<00:24, 593.92it/s]"
     ]
    },
    {
     "name": "stderr",
     "output_type": "stream",
     "text": [
      "\r",
      "4-echo monoexponential:  28%|██▊       | 5624/20176 [00:09<00:24, 591.07it/s]"
     ]
    },
    {
     "name": "stderr",
     "output_type": "stream",
     "text": [
      "\r",
      "4-echo monoexponential:  28%|██▊       | 5686/20176 [00:09<00:24, 597.61it/s]"
     ]
    },
    {
     "name": "stderr",
     "output_type": "stream",
     "text": [
      "\r",
      "4-echo monoexponential:  29%|██▊       | 5751/20176 [00:09<00:23, 610.93it/s]"
     ]
    },
    {
     "name": "stderr",
     "output_type": "stream",
     "text": [
      "\r",
      "4-echo monoexponential:  29%|██▉       | 5815/20176 [00:09<00:23, 618.72it/s]"
     ]
    },
    {
     "name": "stderr",
     "output_type": "stream",
     "text": [
      "\r",
      "4-echo monoexponential:  29%|██▉       | 5877/20176 [00:09<00:23, 615.05it/s]"
     ]
    },
    {
     "name": "stderr",
     "output_type": "stream",
     "text": [
      "\r",
      "4-echo monoexponential:  29%|██▉       | 5939/20176 [00:10<00:23, 616.06it/s]"
     ]
    },
    {
     "name": "stderr",
     "output_type": "stream",
     "text": [
      "\r",
      "4-echo monoexponential:  30%|██▉       | 6001/20176 [00:10<00:23, 607.03it/s]"
     ]
    },
    {
     "name": "stderr",
     "output_type": "stream",
     "text": [
      "\r",
      "4-echo monoexponential:  30%|███       | 6062/20176 [00:10<00:23, 606.60it/s]"
     ]
    },
    {
     "name": "stderr",
     "output_type": "stream",
     "text": [
      "\r",
      "4-echo monoexponential:  30%|███       | 6123/20176 [00:10<00:23, 604.37it/s]"
     ]
    },
    {
     "name": "stderr",
     "output_type": "stream",
     "text": [
      "\r",
      "4-echo monoexponential:  31%|███       | 6184/20176 [00:10<00:23, 594.81it/s]"
     ]
    },
    {
     "name": "stderr",
     "output_type": "stream",
     "text": [
      "\r",
      "4-echo monoexponential:  31%|███       | 6244/20176 [00:10<00:24, 574.65it/s]"
     ]
    },
    {
     "name": "stderr",
     "output_type": "stream",
     "text": [
      "\r",
      "4-echo monoexponential:  31%|███       | 6303/20176 [00:10<00:23, 578.51it/s]"
     ]
    },
    {
     "name": "stderr",
     "output_type": "stream",
     "text": [
      "\r",
      "4-echo monoexponential:  32%|███▏      | 6361/20176 [00:10<00:23, 576.35it/s]"
     ]
    },
    {
     "name": "stderr",
     "output_type": "stream",
     "text": [
      "\r",
      "4-echo monoexponential:  32%|███▏      | 6420/20176 [00:10<00:23, 578.92it/s]"
     ]
    },
    {
     "name": "stderr",
     "output_type": "stream",
     "text": [
      "\r",
      "4-echo monoexponential:  32%|███▏      | 6482/20176 [00:10<00:23, 588.91it/s]"
     ]
    },
    {
     "name": "stderr",
     "output_type": "stream",
     "text": [
      "\r",
      "4-echo monoexponential:  32%|███▏      | 6544/20176 [00:11<00:22, 596.80it/s]"
     ]
    },
    {
     "name": "stderr",
     "output_type": "stream",
     "text": [
      "\r",
      "4-echo monoexponential:  33%|███▎      | 6606/20176 [00:11<00:22, 602.25it/s]"
     ]
    },
    {
     "name": "stderr",
     "output_type": "stream",
     "text": [
      "\r",
      "4-echo monoexponential:  33%|███▎      | 6667/20176 [00:11<00:22, 598.55it/s]"
     ]
    },
    {
     "name": "stderr",
     "output_type": "stream",
     "text": [
      "\r",
      "4-echo monoexponential:  33%|███▎      | 6727/20176 [00:11<00:22, 596.96it/s]"
     ]
    },
    {
     "name": "stderr",
     "output_type": "stream",
     "text": [
      "\r",
      "4-echo monoexponential:  34%|███▎      | 6790/20176 [00:11<00:22, 603.51it/s]"
     ]
    },
    {
     "name": "stderr",
     "output_type": "stream",
     "text": [
      "\r",
      "4-echo monoexponential:  34%|███▍      | 6851/20176 [00:11<00:22, 597.94it/s]"
     ]
    },
    {
     "name": "stderr",
     "output_type": "stream",
     "text": [
      "\r",
      "4-echo monoexponential:  34%|███▍      | 6911/20176 [00:11<00:22, 597.39it/s]"
     ]
    },
    {
     "name": "stderr",
     "output_type": "stream",
     "text": [
      "\r",
      "4-echo monoexponential:  35%|███▍      | 6971/20176 [00:11<00:22, 574.40it/s]"
     ]
    },
    {
     "name": "stderr",
     "output_type": "stream",
     "text": [
      "\r",
      "4-echo monoexponential:  35%|███▍      | 7029/20176 [00:11<00:23, 569.48it/s]"
     ]
    },
    {
     "name": "stderr",
     "output_type": "stream",
     "text": [
      "\r",
      "4-echo monoexponential:  35%|███▌      | 7090/20176 [00:11<00:22, 578.81it/s]"
     ]
    },
    {
     "name": "stderr",
     "output_type": "stream",
     "text": [
      "\r",
      "4-echo monoexponential:  35%|███▌      | 7149/20176 [00:12<00:22, 580.24it/s]"
     ]
    },
    {
     "name": "stderr",
     "output_type": "stream",
     "text": [
      "\r",
      "4-echo monoexponential:  36%|███▌      | 7208/20176 [00:12<00:22, 576.71it/s]"
     ]
    },
    {
     "name": "stderr",
     "output_type": "stream",
     "text": [
      "\r",
      "4-echo monoexponential:  36%|███▌      | 7270/20176 [00:12<00:21, 588.49it/s]"
     ]
    },
    {
     "name": "stderr",
     "output_type": "stream",
     "text": [
      "\r",
      "4-echo monoexponential:  36%|███▋      | 7332/20176 [00:12<00:21, 594.96it/s]"
     ]
    },
    {
     "name": "stderr",
     "output_type": "stream",
     "text": [
      "\r",
      "4-echo monoexponential:  37%|███▋      | 7394/20176 [00:12<00:21, 600.49it/s]"
     ]
    },
    {
     "name": "stderr",
     "output_type": "stream",
     "text": [
      "\r",
      "4-echo monoexponential:  37%|███▋      | 7455/20176 [00:12<00:21, 592.14it/s]"
     ]
    },
    {
     "name": "stderr",
     "output_type": "stream",
     "text": [
      "\r",
      "4-echo monoexponential:  37%|███▋      | 7515/20176 [00:12<00:21, 591.75it/s]"
     ]
    },
    {
     "name": "stderr",
     "output_type": "stream",
     "text": [
      "\r",
      "4-echo monoexponential:  38%|███▊      | 7575/20176 [00:12<00:21, 591.28it/s]"
     ]
    },
    {
     "name": "stderr",
     "output_type": "stream",
     "text": [
      "\r",
      "4-echo monoexponential:  38%|███▊      | 7636/20176 [00:12<00:21, 595.13it/s]"
     ]
    },
    {
     "name": "stderr",
     "output_type": "stream",
     "text": [
      "\r",
      "4-echo monoexponential:  38%|███▊      | 7696/20176 [00:13<00:21, 591.27it/s]"
     ]
    },
    {
     "name": "stderr",
     "output_type": "stream",
     "text": [
      "\r",
      "4-echo monoexponential:  38%|███▊      | 7756/20176 [00:13<00:21, 573.71it/s]"
     ]
    },
    {
     "name": "stderr",
     "output_type": "stream",
     "text": [
      "\r",
      "4-echo monoexponential:  39%|███▊      | 7814/20176 [00:13<00:21, 571.06it/s]"
     ]
    },
    {
     "name": "stderr",
     "output_type": "stream",
     "text": [
      "\r",
      "4-echo monoexponential:  39%|███▉      | 7872/20176 [00:13<00:21, 568.97it/s]"
     ]
    },
    {
     "name": "stderr",
     "output_type": "stream",
     "text": [
      "\r",
      "4-echo monoexponential:  39%|███▉      | 7931/20176 [00:13<00:21, 573.81it/s]"
     ]
    },
    {
     "name": "stderr",
     "output_type": "stream",
     "text": [
      "\r",
      "4-echo monoexponential:  40%|███▉      | 7990/20176 [00:13<00:21, 577.83it/s]"
     ]
    },
    {
     "name": "stderr",
     "output_type": "stream",
     "text": [
      "\r",
      "4-echo monoexponential:  40%|███▉      | 8048/20176 [00:13<00:21, 575.68it/s]"
     ]
    },
    {
     "name": "stderr",
     "output_type": "stream",
     "text": [
      "\r",
      "4-echo monoexponential:  40%|████      | 8111/20176 [00:13<00:20, 591.60it/s]"
     ]
    },
    {
     "name": "stderr",
     "output_type": "stream",
     "text": [
      "\r",
      "4-echo monoexponential:  41%|████      | 8173/20176 [00:13<00:20, 597.31it/s]"
     ]
    },
    {
     "name": "stderr",
     "output_type": "stream",
     "text": [
      "\r",
      "4-echo monoexponential:  41%|████      | 8233/20176 [00:13<00:20, 592.85it/s]"
     ]
    },
    {
     "name": "stderr",
     "output_type": "stream",
     "text": [
      "\r",
      "4-echo monoexponential:  41%|████      | 8295/20176 [00:14<00:19, 600.41it/s]"
     ]
    },
    {
     "name": "stderr",
     "output_type": "stream",
     "text": [
      "\r",
      "4-echo monoexponential:  41%|████▏     | 8356/20176 [00:14<00:19, 597.32it/s]"
     ]
    },
    {
     "name": "stderr",
     "output_type": "stream",
     "text": [
      "\r",
      "4-echo monoexponential:  42%|████▏     | 8416/20176 [00:14<00:19, 592.49it/s]"
     ]
    },
    {
     "name": "stderr",
     "output_type": "stream",
     "text": [
      "\r",
      "4-echo monoexponential:  42%|████▏     | 8478/20176 [00:14<00:19, 599.97it/s]"
     ]
    },
    {
     "name": "stderr",
     "output_type": "stream",
     "text": [
      "\r",
      "4-echo monoexponential:  42%|████▏     | 8539/20176 [00:14<00:19, 590.76it/s]"
     ]
    },
    {
     "name": "stderr",
     "output_type": "stream",
     "text": [
      "\r",
      "4-echo monoexponential:  43%|████▎     | 8599/20176 [00:14<00:20, 577.43it/s]"
     ]
    },
    {
     "name": "stderr",
     "output_type": "stream",
     "text": [
      "\r",
      "4-echo monoexponential:  43%|████▎     | 8657/20176 [00:14<00:19, 577.18it/s]"
     ]
    },
    {
     "name": "stderr",
     "output_type": "stream",
     "text": [
      "\r",
      "4-echo monoexponential:  43%|████▎     | 8715/20176 [00:14<00:20, 570.42it/s]"
     ]
    },
    {
     "name": "stderr",
     "output_type": "stream",
     "text": [
      "\r",
      "4-echo monoexponential:  43%|████▎     | 8775/20176 [00:14<00:19, 577.44it/s]"
     ]
    },
    {
     "name": "stderr",
     "output_type": "stream",
     "text": [
      "\r",
      "4-echo monoexponential:  44%|████▍     | 8836/20176 [00:14<00:19, 586.56it/s]"
     ]
    },
    {
     "name": "stderr",
     "output_type": "stream",
     "text": [
      "\r",
      "4-echo monoexponential:  44%|████▍     | 8895/20176 [00:15<00:19, 587.32it/s]"
     ]
    },
    {
     "name": "stderr",
     "output_type": "stream",
     "text": [
      "\r",
      "4-echo monoexponential:  44%|████▍     | 8954/20176 [00:15<00:19, 586.08it/s]"
     ]
    },
    {
     "name": "stderr",
     "output_type": "stream",
     "text": [
      "\r",
      "4-echo monoexponential:  45%|████▍     | 9017/20176 [00:15<00:18, 598.30it/s]"
     ]
    },
    {
     "name": "stderr",
     "output_type": "stream",
     "text": [
      "\r",
      "4-echo monoexponential:  45%|████▍     | 9077/20176 [00:15<00:18, 596.09it/s]"
     ]
    },
    {
     "name": "stderr",
     "output_type": "stream",
     "text": [
      "\r",
      "4-echo monoexponential:  45%|████▌     | 9139/20176 [00:15<00:18, 602.09it/s]"
     ]
    },
    {
     "name": "stderr",
     "output_type": "stream",
     "text": [
      "\r",
      "4-echo monoexponential:  46%|████▌     | 9203/20176 [00:15<00:17, 612.97it/s]"
     ]
    },
    {
     "name": "stderr",
     "output_type": "stream",
     "text": [
      "\r",
      "4-echo monoexponential:  46%|████▌     | 9265/20176 [00:15<00:17, 614.45it/s]"
     ]
    },
    {
     "name": "stderr",
     "output_type": "stream",
     "text": [
      "\r",
      "4-echo monoexponential:  46%|████▌     | 9327/20176 [00:15<00:17, 615.57it/s]"
     ]
    },
    {
     "name": "stderr",
     "output_type": "stream",
     "text": [
      "\r",
      "4-echo monoexponential:  47%|████▋     | 9389/20176 [00:15<00:18, 585.75it/s]"
     ]
    },
    {
     "name": "stderr",
     "output_type": "stream",
     "text": [
      "\r",
      "4-echo monoexponential:  47%|████▋     | 9449/20176 [00:16<00:18, 582.20it/s]"
     ]
    },
    {
     "name": "stderr",
     "output_type": "stream",
     "text": [
      "\r",
      "4-echo monoexponential:  47%|████▋     | 9508/20176 [00:16<00:18, 575.78it/s]"
     ]
    },
    {
     "name": "stderr",
     "output_type": "stream",
     "text": [
      "\r",
      "4-echo monoexponential:  47%|████▋     | 9567/20176 [00:16<00:18, 578.85it/s]"
     ]
    },
    {
     "name": "stderr",
     "output_type": "stream",
     "text": [
      "\r",
      "4-echo monoexponential:  48%|████▊     | 9628/20176 [00:16<00:18, 585.81it/s]"
     ]
    },
    {
     "name": "stderr",
     "output_type": "stream",
     "text": [
      "\r",
      "4-echo monoexponential:  48%|████▊     | 9687/20176 [00:16<00:17, 586.11it/s]"
     ]
    },
    {
     "name": "stderr",
     "output_type": "stream",
     "text": [
      "\r",
      "4-echo monoexponential:  48%|████▊     | 9749/20176 [00:16<00:17, 594.28it/s]"
     ]
    },
    {
     "name": "stderr",
     "output_type": "stream",
     "text": [
      "\r",
      "4-echo monoexponential:  49%|████▊     | 9810/20176 [00:16<00:17, 596.06it/s]"
     ]
    },
    {
     "name": "stderr",
     "output_type": "stream",
     "text": [
      "\r",
      "4-echo monoexponential:  49%|████▉     | 9871/20176 [00:16<00:17, 597.25it/s]"
     ]
    },
    {
     "name": "stderr",
     "output_type": "stream",
     "text": [
      "\r",
      "4-echo monoexponential:  49%|████▉     | 9935/20176 [00:16<00:16, 607.41it/s]"
     ]
    },
    {
     "name": "stderr",
     "output_type": "stream",
     "text": [
      "\r",
      "4-echo monoexponential:  50%|████▉     | 10000/20176 [00:16<00:16, 619.86it/s]"
     ]
    },
    {
     "name": "stderr",
     "output_type": "stream",
     "text": [
      "\r",
      "4-echo monoexponential:  50%|████▉     | 10063/20176 [00:17<00:16, 619.26it/s]"
     ]
    },
    {
     "name": "stderr",
     "output_type": "stream",
     "text": [
      "\r",
      "4-echo monoexponential:  50%|█████     | 10125/20176 [00:17<00:16, 609.22it/s]"
     ]
    },
    {
     "name": "stderr",
     "output_type": "stream",
     "text": [
      "\r",
      "4-echo monoexponential:  50%|█████     | 10186/20176 [00:17<00:17, 574.85it/s]"
     ]
    },
    {
     "name": "stderr",
     "output_type": "stream",
     "text": [
      "\r",
      "4-echo monoexponential:  51%|█████     | 10244/20176 [00:17<00:17, 573.10it/s]"
     ]
    },
    {
     "name": "stderr",
     "output_type": "stream",
     "text": [
      "\r",
      "4-echo monoexponential:  51%|█████     | 10304/20176 [00:17<00:17, 578.40it/s]"
     ]
    },
    {
     "name": "stderr",
     "output_type": "stream",
     "text": [
      "\r",
      "4-echo monoexponential:  51%|█████▏    | 10364/20176 [00:17<00:16, 584.21it/s]"
     ]
    },
    {
     "name": "stderr",
     "output_type": "stream",
     "text": [
      "\r",
      "4-echo monoexponential:  52%|█████▏    | 10423/20176 [00:17<00:16, 584.47it/s]"
     ]
    },
    {
     "name": "stderr",
     "output_type": "stream",
     "text": [
      "\r",
      "4-echo monoexponential:  52%|█████▏    | 10487/20176 [00:17<00:16, 597.88it/s]"
     ]
    },
    {
     "name": "stderr",
     "output_type": "stream",
     "text": [
      "\r",
      "4-echo monoexponential:  52%|█████▏    | 10549/20176 [00:17<00:15, 603.82it/s]"
     ]
    },
    {
     "name": "stderr",
     "output_type": "stream",
     "text": [
      "\r",
      "4-echo monoexponential:  53%|█████▎    | 10610/20176 [00:17<00:15, 605.27it/s]"
     ]
    },
    {
     "name": "stderr",
     "output_type": "stream",
     "text": [
      "\r",
      "4-echo monoexponential:  53%|█████▎    | 10671/20176 [00:18<00:15, 596.06it/s]"
     ]
    },
    {
     "name": "stderr",
     "output_type": "stream",
     "text": [
      "\r",
      "4-echo monoexponential:  53%|█████▎    | 10733/20176 [00:18<00:15, 601.86it/s]"
     ]
    },
    {
     "name": "stderr",
     "output_type": "stream",
     "text": [
      "\r",
      "4-echo monoexponential:  54%|█████▎    | 10797/20176 [00:18<00:15, 611.40it/s]"
     ]
    },
    {
     "name": "stderr",
     "output_type": "stream",
     "text": [
      "\r",
      "4-echo monoexponential:  54%|█████▍    | 10859/20176 [00:18<00:15, 607.13it/s]"
     ]
    },
    {
     "name": "stderr",
     "output_type": "stream",
     "text": [
      "\r",
      "4-echo monoexponential:  54%|█████▍    | 10921/20176 [00:18<00:15, 609.28it/s]"
     ]
    },
    {
     "name": "stderr",
     "output_type": "stream",
     "text": [
      "\r",
      "4-echo monoexponential:  54%|█████▍    | 10982/20176 [00:18<00:15, 585.90it/s]"
     ]
    },
    {
     "name": "stderr",
     "output_type": "stream",
     "text": [
      "\r",
      "4-echo monoexponential:  55%|█████▍    | 11041/20176 [00:18<00:15, 578.14it/s]"
     ]
    },
    {
     "name": "stderr",
     "output_type": "stream",
     "text": [
      "\r",
      "4-echo monoexponential:  55%|█████▌    | 11099/20176 [00:18<00:15, 578.25it/s]"
     ]
    },
    {
     "name": "stderr",
     "output_type": "stream",
     "text": [
      "\r",
      "4-echo monoexponential:  55%|█████▌    | 11157/20176 [00:18<00:15, 576.51it/s]"
     ]
    },
    {
     "name": "stderr",
     "output_type": "stream",
     "text": [
      "\r",
      "4-echo monoexponential:  56%|█████▌    | 11223/20176 [00:18<00:14, 598.64it/s]"
     ]
    },
    {
     "name": "stderr",
     "output_type": "stream",
     "text": [
      "\r",
      "4-echo monoexponential:  56%|█████▌    | 11284/20176 [00:19<00:14, 599.85it/s]"
     ]
    },
    {
     "name": "stderr",
     "output_type": "stream",
     "text": [
      "\r",
      "4-echo monoexponential:  56%|█████▌    | 11345/20176 [00:19<00:14, 591.85it/s]"
     ]
    },
    {
     "name": "stderr",
     "output_type": "stream",
     "text": [
      "\r",
      "4-echo monoexponential:  57%|█████▋    | 11405/20176 [00:19<00:14, 589.33it/s]"
     ]
    },
    {
     "name": "stderr",
     "output_type": "stream",
     "text": [
      "\r",
      "4-echo monoexponential:  57%|█████▋    | 11465/20176 [00:19<00:14, 590.82it/s]"
     ]
    },
    {
     "name": "stderr",
     "output_type": "stream",
     "text": [
      "\r",
      "4-echo monoexponential:  57%|█████▋    | 11526/20176 [00:19<00:14, 593.67it/s]"
     ]
    },
    {
     "name": "stderr",
     "output_type": "stream",
     "text": [
      "\r",
      "4-echo monoexponential:  57%|█████▋    | 11589/20176 [00:19<00:14, 601.43it/s]"
     ]
    },
    {
     "name": "stderr",
     "output_type": "stream",
     "text": [
      "\r",
      "4-echo monoexponential:  58%|█████▊    | 11652/20176 [00:19<00:14, 606.62it/s]"
     ]
    },
    {
     "name": "stderr",
     "output_type": "stream",
     "text": [
      "\r",
      "4-echo monoexponential:  58%|█████▊    | 11713/20176 [00:19<00:13, 606.93it/s]"
     ]
    },
    {
     "name": "stderr",
     "output_type": "stream",
     "text": [
      "\r",
      "4-echo monoexponential:  58%|█████▊    | 11774/20176 [00:19<00:15, 549.70it/s]"
     ]
    },
    {
     "name": "stderr",
     "output_type": "stream",
     "text": [
      "\r",
      "4-echo monoexponential:  59%|█████▊    | 11833/20176 [00:20<00:14, 558.64it/s]"
     ]
    },
    {
     "name": "stderr",
     "output_type": "stream",
     "text": [
      "\r",
      "4-echo monoexponential:  59%|█████▉    | 11892/20176 [00:20<00:14, 564.84it/s]"
     ]
    },
    {
     "name": "stderr",
     "output_type": "stream",
     "text": [
      "\r",
      "4-echo monoexponential:  59%|█████▉    | 11952/20176 [00:20<00:14, 573.71it/s]"
     ]
    },
    {
     "name": "stderr",
     "output_type": "stream",
     "text": [
      "\r",
      "4-echo monoexponential:  60%|█████▉    | 12013/20176 [00:20<00:13, 583.35it/s]"
     ]
    },
    {
     "name": "stderr",
     "output_type": "stream",
     "text": [
      "\r",
      "4-echo monoexponential:  60%|█████▉    | 12073/20176 [00:20<00:13, 585.70it/s]"
     ]
    },
    {
     "name": "stderr",
     "output_type": "stream",
     "text": [
      "\r",
      "4-echo monoexponential:  60%|██████    | 12135/20176 [00:20<00:13, 595.77it/s]"
     ]
    },
    {
     "name": "stderr",
     "output_type": "stream",
     "text": [
      "\r",
      "4-echo monoexponential:  60%|██████    | 12198/20176 [00:20<00:13, 605.50it/s]"
     ]
    },
    {
     "name": "stderr",
     "output_type": "stream",
     "text": [
      "\r",
      "4-echo monoexponential:  61%|██████    | 12261/20176 [00:20<00:12, 612.26it/s]"
     ]
    },
    {
     "name": "stderr",
     "output_type": "stream",
     "text": [
      "\r",
      "4-echo monoexponential:  61%|██████    | 12324/20176 [00:20<00:12, 616.10it/s]"
     ]
    },
    {
     "name": "stderr",
     "output_type": "stream",
     "text": [
      "\r",
      "4-echo monoexponential:  61%|██████▏   | 12386/20176 [00:20<00:12, 614.86it/s]"
     ]
    },
    {
     "name": "stderr",
     "output_type": "stream",
     "text": [
      "\r",
      "4-echo monoexponential:  62%|██████▏   | 12448/20176 [00:21<00:12, 615.73it/s]"
     ]
    },
    {
     "name": "stderr",
     "output_type": "stream",
     "text": [
      "\r",
      "4-echo monoexponential:  62%|██████▏   | 12510/20176 [00:21<00:12, 612.87it/s]"
     ]
    },
    {
     "name": "stderr",
     "output_type": "stream",
     "text": [
      "\r",
      "4-echo monoexponential:  62%|██████▏   | 12572/20176 [00:21<00:13, 566.15it/s]"
     ]
    },
    {
     "name": "stderr",
     "output_type": "stream",
     "text": [
      "\r",
      "4-echo monoexponential:  63%|██████▎   | 12633/20176 [00:21<00:13, 576.49it/s]"
     ]
    },
    {
     "name": "stderr",
     "output_type": "stream",
     "text": [
      "\r",
      "4-echo monoexponential:  63%|██████▎   | 12696/20176 [00:21<00:12, 590.29it/s]"
     ]
    },
    {
     "name": "stderr",
     "output_type": "stream",
     "text": [
      "\r",
      "4-echo monoexponential:  63%|██████▎   | 12757/20176 [00:21<00:12, 595.90it/s]"
     ]
    },
    {
     "name": "stderr",
     "output_type": "stream",
     "text": [
      "\r",
      "4-echo monoexponential:  64%|██████▎   | 12820/20176 [00:21<00:12, 604.37it/s]"
     ]
    },
    {
     "name": "stderr",
     "output_type": "stream",
     "text": [
      "\r",
      "4-echo monoexponential:  64%|██████▍   | 12883/20176 [00:21<00:11, 611.77it/s]"
     ]
    },
    {
     "name": "stderr",
     "output_type": "stream",
     "text": [
      "\r",
      "4-echo monoexponential:  64%|██████▍   | 12945/20176 [00:21<00:11, 611.99it/s]"
     ]
    },
    {
     "name": "stderr",
     "output_type": "stream",
     "text": [
      "\r",
      "4-echo monoexponential:  64%|██████▍   | 13007/20176 [00:21<00:11, 613.41it/s]"
     ]
    },
    {
     "name": "stderr",
     "output_type": "stream",
     "text": [
      "\r",
      "4-echo monoexponential:  65%|██████▍   | 13070/20176 [00:22<00:11, 615.79it/s]"
     ]
    },
    {
     "name": "stderr",
     "output_type": "stream",
     "text": [
      "\r",
      "4-echo monoexponential:  65%|██████▌   | 13132/20176 [00:22<00:11, 611.92it/s]"
     ]
    },
    {
     "name": "stderr",
     "output_type": "stream",
     "text": [
      "\r",
      "4-echo monoexponential:  65%|██████▌   | 13194/20176 [00:22<00:11, 608.30it/s]"
     ]
    },
    {
     "name": "stderr",
     "output_type": "stream",
     "text": [
      "\r",
      "4-echo monoexponential:  66%|██████▌   | 13255/20176 [00:22<00:11, 604.32it/s]"
     ]
    },
    {
     "name": "stderr",
     "output_type": "stream",
     "text": [
      "\r",
      "4-echo monoexponential:  66%|██████▌   | 13316/20176 [00:22<00:11, 597.31it/s]"
     ]
    },
    {
     "name": "stderr",
     "output_type": "stream",
     "text": [
      "\r",
      "4-echo monoexponential:  66%|██████▋   | 13376/20176 [00:22<00:11, 571.65it/s]"
     ]
    },
    {
     "name": "stderr",
     "output_type": "stream",
     "text": [
      "\r",
      "4-echo monoexponential:  67%|██████▋   | 13437/20176 [00:22<00:11, 580.55it/s]"
     ]
    },
    {
     "name": "stderr",
     "output_type": "stream",
     "text": [
      "\r",
      "4-echo monoexponential:  67%|██████▋   | 13497/20176 [00:22<00:11, 585.43it/s]"
     ]
    },
    {
     "name": "stderr",
     "output_type": "stream",
     "text": [
      "\r",
      "4-echo monoexponential:  67%|██████▋   | 13557/20176 [00:22<00:11, 589.08it/s]"
     ]
    },
    {
     "name": "stderr",
     "output_type": "stream",
     "text": [
      "\r",
      "4-echo monoexponential:  68%|██████▊   | 13619/20176 [00:23<00:10, 597.70it/s]"
     ]
    },
    {
     "name": "stderr",
     "output_type": "stream",
     "text": [
      "\r",
      "4-echo monoexponential:  68%|██████▊   | 13682/20176 [00:23<00:10, 605.48it/s]"
     ]
    },
    {
     "name": "stderr",
     "output_type": "stream",
     "text": [
      "\r",
      "4-echo monoexponential:  68%|██████▊   | 13745/20176 [00:23<00:10, 611.35it/s]"
     ]
    },
    {
     "name": "stderr",
     "output_type": "stream",
     "text": [
      "\r",
      "4-echo monoexponential:  68%|██████▊   | 13808/20176 [00:23<00:10, 614.55it/s]"
     ]
    },
    {
     "name": "stderr",
     "output_type": "stream",
     "text": [
      "\r",
      "4-echo monoexponential:  69%|██████▊   | 13870/20176 [00:23<00:10, 614.97it/s]"
     ]
    },
    {
     "name": "stderr",
     "output_type": "stream",
     "text": [
      "\r",
      "4-echo monoexponential:  69%|██████▉   | 13932/20176 [00:23<00:10, 611.95it/s]"
     ]
    },
    {
     "name": "stderr",
     "output_type": "stream",
     "text": [
      "\r",
      "4-echo monoexponential:  69%|██████▉   | 13995/20176 [00:23<00:10, 615.57it/s]"
     ]
    },
    {
     "name": "stderr",
     "output_type": "stream",
     "text": [
      "\r",
      "4-echo monoexponential:  70%|██████▉   | 14057/20176 [00:23<00:10, 610.84it/s]"
     ]
    },
    {
     "name": "stderr",
     "output_type": "stream",
     "text": [
      "\r",
      "4-echo monoexponential:  70%|██████▉   | 14119/20176 [00:23<00:10, 596.34it/s]"
     ]
    },
    {
     "name": "stderr",
     "output_type": "stream",
     "text": [
      "\r",
      "4-echo monoexponential:  70%|███████   | 14179/20176 [00:23<00:10, 584.41it/s]"
     ]
    },
    {
     "name": "stderr",
     "output_type": "stream",
     "text": [
      "\r",
      "4-echo monoexponential:  71%|███████   | 14238/20176 [00:24<00:10, 575.81it/s]"
     ]
    },
    {
     "name": "stderr",
     "output_type": "stream",
     "text": [
      "\r",
      "4-echo monoexponential:  71%|███████   | 14300/20176 [00:24<00:10, 586.22it/s]"
     ]
    },
    {
     "name": "stderr",
     "output_type": "stream",
     "text": [
      "\r",
      "4-echo monoexponential:  71%|███████   | 14361/20176 [00:24<00:09, 590.76it/s]"
     ]
    },
    {
     "name": "stderr",
     "output_type": "stream",
     "text": [
      "\r",
      "4-echo monoexponential:  71%|███████▏  | 14425/20176 [00:24<00:09, 604.53it/s]"
     ]
    },
    {
     "name": "stderr",
     "output_type": "stream",
     "text": [
      "\r",
      "4-echo monoexponential:  72%|███████▏  | 14492/20176 [00:24<00:09, 619.79it/s]"
     ]
    },
    {
     "name": "stderr",
     "output_type": "stream",
     "text": [
      "\r",
      "4-echo monoexponential:  72%|███████▏  | 14555/20176 [00:24<00:09, 621.33it/s]"
     ]
    },
    {
     "name": "stderr",
     "output_type": "stream",
     "text": [
      "\r",
      "4-echo monoexponential:  72%|███████▏  | 14618/20176 [00:24<00:08, 621.99it/s]"
     ]
    },
    {
     "name": "stderr",
     "output_type": "stream",
     "text": [
      "\r",
      "4-echo monoexponential:  73%|███████▎  | 14681/20176 [00:24<00:08, 616.96it/s]"
     ]
    },
    {
     "name": "stderr",
     "output_type": "stream",
     "text": [
      "\r",
      "4-echo monoexponential:  73%|███████▎  | 14743/20176 [00:24<00:08, 609.02it/s]"
     ]
    },
    {
     "name": "stderr",
     "output_type": "stream",
     "text": [
      "\r",
      "4-echo monoexponential:  73%|███████▎  | 14804/20176 [00:24<00:08, 607.74it/s]"
     ]
    },
    {
     "name": "stderr",
     "output_type": "stream",
     "text": [
      "\r",
      "4-echo monoexponential:  74%|███████▎  | 14865/20176 [00:25<00:09, 584.26it/s]"
     ]
    },
    {
     "name": "stderr",
     "output_type": "stream",
     "text": [
      "\r",
      "4-echo monoexponential:  74%|███████▍  | 14925/20176 [00:25<00:08, 588.03it/s]"
     ]
    },
    {
     "name": "stderr",
     "output_type": "stream",
     "text": [
      "\r",
      "4-echo monoexponential:  74%|███████▍  | 14985/20176 [00:25<00:08, 591.17it/s]"
     ]
    },
    {
     "name": "stderr",
     "output_type": "stream",
     "text": [
      "\r",
      "4-echo monoexponential:  75%|███████▍  | 15046/20176 [00:25<00:08, 593.20it/s]"
     ]
    },
    {
     "name": "stderr",
     "output_type": "stream",
     "text": [
      "\r",
      "4-echo monoexponential:  75%|███████▍  | 15108/20176 [00:25<00:08, 600.53it/s]"
     ]
    },
    {
     "name": "stderr",
     "output_type": "stream",
     "text": [
      "\r",
      "4-echo monoexponential:  75%|███████▌  | 15172/20176 [00:25<00:08, 609.77it/s]"
     ]
    },
    {
     "name": "stderr",
     "output_type": "stream",
     "text": [
      "\r",
      "4-echo monoexponential:  76%|███████▌  | 15234/20176 [00:25<00:08, 606.00it/s]"
     ]
    },
    {
     "name": "stderr",
     "output_type": "stream",
     "text": [
      "\r",
      "4-echo monoexponential:  76%|███████▌  | 15296/20176 [00:25<00:07, 610.05it/s]"
     ]
    },
    {
     "name": "stderr",
     "output_type": "stream",
     "text": [
      "\r",
      "4-echo monoexponential:  76%|███████▌  | 15360/20176 [00:25<00:07, 616.58it/s]"
     ]
    },
    {
     "name": "stderr",
     "output_type": "stream",
     "text": [
      "\r",
      "4-echo monoexponential:  76%|███████▋  | 15422/20176 [00:25<00:07, 609.18it/s]"
     ]
    },
    {
     "name": "stderr",
     "output_type": "stream",
     "text": [
      "\r",
      "4-echo monoexponential:  77%|███████▋  | 15485/20176 [00:26<00:07, 612.11it/s]"
     ]
    },
    {
     "name": "stderr",
     "output_type": "stream",
     "text": [
      "\r",
      "4-echo monoexponential:  77%|███████▋  | 15547/20176 [00:26<00:07, 608.70it/s]"
     ]
    },
    {
     "name": "stderr",
     "output_type": "stream",
     "text": [
      "\r",
      "4-echo monoexponential:  77%|███████▋  | 15608/20176 [00:26<00:07, 584.36it/s]"
     ]
    },
    {
     "name": "stderr",
     "output_type": "stream",
     "text": [
      "\r",
      "4-echo monoexponential:  78%|███████▊  | 15670/20176 [00:26<00:07, 591.74it/s]"
     ]
    },
    {
     "name": "stderr",
     "output_type": "stream",
     "text": [
      "\r",
      "4-echo monoexponential:  78%|███████▊  | 15734/20176 [00:26<00:07, 605.56it/s]"
     ]
    },
    {
     "name": "stderr",
     "output_type": "stream",
     "text": [
      "\r",
      "4-echo monoexponential:  78%|███████▊  | 15795/20176 [00:26<00:07, 584.53it/s]"
     ]
    },
    {
     "name": "stderr",
     "output_type": "stream",
     "text": [
      "\r",
      "4-echo monoexponential:  79%|███████▊  | 15855/20176 [00:26<00:07, 588.56it/s]"
     ]
    },
    {
     "name": "stderr",
     "output_type": "stream",
     "text": [
      "\r",
      "4-echo monoexponential:  79%|███████▉  | 15919/20176 [00:26<00:07, 601.82it/s]"
     ]
    },
    {
     "name": "stderr",
     "output_type": "stream",
     "text": [
      "\r",
      "4-echo monoexponential:  79%|███████▉  | 15983/20176 [00:26<00:06, 610.33it/s]"
     ]
    },
    {
     "name": "stderr",
     "output_type": "stream",
     "text": [
      "\r",
      "4-echo monoexponential:  80%|███████▉  | 16048/20176 [00:27<00:06, 619.82it/s]"
     ]
    },
    {
     "name": "stderr",
     "output_type": "stream",
     "text": [
      "\r",
      "4-echo monoexponential:  80%|███████▉  | 16111/20176 [00:27<00:06, 620.94it/s]"
     ]
    },
    {
     "name": "stderr",
     "output_type": "stream",
     "text": [
      "\r",
      "4-echo monoexponential:  80%|████████  | 16174/20176 [00:27<00:06, 608.20it/s]"
     ]
    },
    {
     "name": "stderr",
     "output_type": "stream",
     "text": [
      "\r",
      "4-echo monoexponential:  80%|████████  | 16236/20176 [00:27<00:06, 608.51it/s]"
     ]
    },
    {
     "name": "stderr",
     "output_type": "stream",
     "text": [
      "\r",
      "4-echo monoexponential:  81%|████████  | 16297/20176 [00:27<00:06, 591.94it/s]"
     ]
    },
    {
     "name": "stderr",
     "output_type": "stream",
     "text": [
      "\r",
      "4-echo monoexponential:  81%|████████  | 16357/20176 [00:27<00:06, 578.13it/s]"
     ]
    },
    {
     "name": "stderr",
     "output_type": "stream",
     "text": [
      "\r",
      "4-echo monoexponential:  81%|████████▏ | 16418/20176 [00:27<00:06, 584.51it/s]"
     ]
    },
    {
     "name": "stderr",
     "output_type": "stream",
     "text": [
      "\r",
      "4-echo monoexponential:  82%|████████▏ | 16477/20176 [00:27<00:06, 575.47it/s]"
     ]
    },
    {
     "name": "stderr",
     "output_type": "stream",
     "text": [
      "\r",
      "4-echo monoexponential:  82%|████████▏ | 16537/20176 [00:27<00:06, 581.00it/s]"
     ]
    },
    {
     "name": "stderr",
     "output_type": "stream",
     "text": [
      "\r",
      "4-echo monoexponential:  82%|████████▏ | 16598/20176 [00:27<00:06, 589.25it/s]"
     ]
    },
    {
     "name": "stderr",
     "output_type": "stream",
     "text": [
      "\r",
      "4-echo monoexponential:  83%|████████▎ | 16659/20176 [00:28<00:05, 595.07it/s]"
     ]
    },
    {
     "name": "stderr",
     "output_type": "stream",
     "text": [
      "\r",
      "4-echo monoexponential:  83%|████████▎ | 16725/20176 [00:28<00:05, 612.21it/s]"
     ]
    },
    {
     "name": "stderr",
     "output_type": "stream",
     "text": [
      "\r",
      "4-echo monoexponential:  83%|████████▎ | 16788/20176 [00:28<00:05, 615.71it/s]"
     ]
    },
    {
     "name": "stderr",
     "output_type": "stream",
     "text": [
      "\r",
      "4-echo monoexponential:  84%|████████▎ | 16850/20176 [00:28<00:05, 613.21it/s]"
     ]
    },
    {
     "name": "stderr",
     "output_type": "stream",
     "text": [
      "\r",
      "4-echo monoexponential:  84%|████████▍ | 16912/20176 [00:28<00:05, 606.15it/s]"
     ]
    },
    {
     "name": "stderr",
     "output_type": "stream",
     "text": [
      "\r",
      "4-echo monoexponential:  84%|████████▍ | 16973/20176 [00:28<00:05, 603.43it/s]"
     ]
    },
    {
     "name": "stderr",
     "output_type": "stream",
     "text": [
      "\r",
      "4-echo monoexponential:  84%|████████▍ | 17034/20176 [00:28<00:05, 572.15it/s]"
     ]
    },
    {
     "name": "stderr",
     "output_type": "stream",
     "text": [
      "\r",
      "4-echo monoexponential:  85%|████████▍ | 17097/20176 [00:28<00:05, 587.80it/s]"
     ]
    },
    {
     "name": "stderr",
     "output_type": "stream",
     "text": [
      "\r",
      "4-echo monoexponential:  85%|████████▌ | 17157/20176 [00:28<00:05, 576.48it/s]"
     ]
    },
    {
     "name": "stderr",
     "output_type": "stream",
     "text": [
      "\r",
      "4-echo monoexponential:  85%|████████▌ | 17215/20176 [00:29<00:05, 575.03it/s]"
     ]
    },
    {
     "name": "stderr",
     "output_type": "stream",
     "text": [
      "\r",
      "4-echo monoexponential:  86%|████████▌ | 17275/20176 [00:29<00:04, 581.26it/s]"
     ]
    },
    {
     "name": "stderr",
     "output_type": "stream",
     "text": [
      "\r",
      "4-echo monoexponential:  86%|████████▌ | 17335/20176 [00:29<00:04, 586.09it/s]"
     ]
    },
    {
     "name": "stderr",
     "output_type": "stream",
     "text": [
      "\r",
      "4-echo monoexponential:  86%|████████▌ | 17399/20176 [00:29<00:04, 601.65it/s]"
     ]
    },
    {
     "name": "stderr",
     "output_type": "stream",
     "text": [
      "\r",
      "4-echo monoexponential:  87%|████████▋ | 17460/20176 [00:29<00:04, 603.47it/s]"
     ]
    },
    {
     "name": "stderr",
     "output_type": "stream",
     "text": [
      "\r",
      "4-echo monoexponential:  87%|████████▋ | 17521/20176 [00:29<00:04, 595.31it/s]"
     ]
    },
    {
     "name": "stderr",
     "output_type": "stream",
     "text": [
      "\r",
      "4-echo monoexponential:  87%|████████▋ | 17583/20176 [00:29<00:04, 600.97it/s]"
     ]
    },
    {
     "name": "stderr",
     "output_type": "stream",
     "text": [
      "\r",
      "4-echo monoexponential:  87%|████████▋ | 17644/20176 [00:29<00:04, 578.03it/s]"
     ]
    },
    {
     "name": "stderr",
     "output_type": "stream",
     "text": [
      "\r",
      "4-echo monoexponential:  88%|████████▊ | 17703/20176 [00:29<00:04, 573.27it/s]"
     ]
    },
    {
     "name": "stderr",
     "output_type": "stream",
     "text": [
      "\r",
      "4-echo monoexponential:  88%|████████▊ | 17761/20176 [00:29<00:04, 570.61it/s]"
     ]
    },
    {
     "name": "stderr",
     "output_type": "stream",
     "text": [
      "\r",
      "4-echo monoexponential:  88%|████████▊ | 17820/20176 [00:30<00:04, 575.21it/s]"
     ]
    },
    {
     "name": "stderr",
     "output_type": "stream",
     "text": [
      "\r",
      "4-echo monoexponential:  89%|████████▊ | 17880/20176 [00:30<00:03, 581.11it/s]"
     ]
    },
    {
     "name": "stderr",
     "output_type": "stream",
     "text": [
      "\r",
      "4-echo monoexponential:  89%|████████▉ | 17942/20176 [00:30<00:03, 590.19it/s]"
     ]
    },
    {
     "name": "stderr",
     "output_type": "stream",
     "text": [
      "\r",
      "4-echo monoexponential:  89%|████████▉ | 18007/20176 [00:30<00:03, 605.66it/s]"
     ]
    },
    {
     "name": "stderr",
     "output_type": "stream",
     "text": [
      "\r",
      "4-echo monoexponential:  90%|████████▉ | 18070/20176 [00:30<00:03, 609.81it/s]"
     ]
    },
    {
     "name": "stderr",
     "output_type": "stream",
     "text": [
      "\r",
      "4-echo monoexponential:  90%|████████▉ | 18132/20176 [00:30<00:03, 606.12it/s]"
     ]
    },
    {
     "name": "stderr",
     "output_type": "stream",
     "text": [
      "\r",
      "4-echo monoexponential:  90%|█████████ | 18193/20176 [00:30<00:03, 594.44it/s]"
     ]
    },
    {
     "name": "stderr",
     "output_type": "stream",
     "text": [
      "\r",
      "4-echo monoexponential:  90%|█████████ | 18253/20176 [00:30<00:03, 571.54it/s]"
     ]
    },
    {
     "name": "stderr",
     "output_type": "stream",
     "text": [
      "\r",
      "4-echo monoexponential:  91%|█████████ | 18311/20176 [00:30<00:03, 568.27it/s]"
     ]
    },
    {
     "name": "stderr",
     "output_type": "stream",
     "text": [
      "\r",
      "4-echo monoexponential:  91%|█████████ | 18368/20176 [00:30<00:03, 568.59it/s]"
     ]
    },
    {
     "name": "stderr",
     "output_type": "stream",
     "text": [
      "\r",
      "4-echo monoexponential:  91%|█████████▏| 18425/20176 [00:31<00:03, 567.12it/s]"
     ]
    },
    {
     "name": "stderr",
     "output_type": "stream",
     "text": [
      "\r",
      "4-echo monoexponential:  92%|█████████▏| 18485/20176 [00:31<00:02, 576.48it/s]"
     ]
    },
    {
     "name": "stderr",
     "output_type": "stream",
     "text": [
      "\r",
      "4-echo monoexponential:  92%|█████████▏| 18544/20176 [00:31<00:02, 577.20it/s]"
     ]
    },
    {
     "name": "stderr",
     "output_type": "stream",
     "text": [
      "\r",
      "4-echo monoexponential:  92%|█████████▏| 18606/20176 [00:31<00:02, 589.07it/s]"
     ]
    },
    {
     "name": "stderr",
     "output_type": "stream",
     "text": [
      "\r",
      "4-echo monoexponential:  93%|█████████▎| 18666/20176 [00:31<00:02, 589.83it/s]"
     ]
    },
    {
     "name": "stderr",
     "output_type": "stream",
     "text": [
      "\r",
      "4-echo monoexponential:  93%|█████████▎| 18726/20176 [00:31<00:02, 575.40it/s]"
     ]
    },
    {
     "name": "stderr",
     "output_type": "stream",
     "text": [
      "\r",
      "4-echo monoexponential:  93%|█████████▎| 18784/20176 [00:31<00:02, 569.87it/s]"
     ]
    },
    {
     "name": "stderr",
     "output_type": "stream",
     "text": [
      "\r",
      "4-echo monoexponential:  93%|█████████▎| 18843/20176 [00:31<00:02, 574.25it/s]"
     ]
    },
    {
     "name": "stderr",
     "output_type": "stream",
     "text": [
      "\r",
      "4-echo monoexponential:  94%|█████████▎| 18901/20176 [00:31<00:02, 571.28it/s]"
     ]
    },
    {
     "name": "stderr",
     "output_type": "stream",
     "text": [
      "\r",
      "4-echo monoexponential:  94%|█████████▍| 18961/20176 [00:32<00:02, 577.26it/s]"
     ]
    },
    {
     "name": "stderr",
     "output_type": "stream",
     "text": [
      "\r",
      "4-echo monoexponential:  94%|█████████▍| 19023/20176 [00:32<00:01, 587.91it/s]"
     ]
    },
    {
     "name": "stderr",
     "output_type": "stream",
     "text": [
      "\r",
      "4-echo monoexponential:  95%|█████████▍| 19088/20176 [00:32<00:01, 603.89it/s]"
     ]
    },
    {
     "name": "stderr",
     "output_type": "stream",
     "text": [
      "\r",
      "4-echo monoexponential:  95%|█████████▍| 19149/20176 [00:32<00:01, 592.75it/s]"
     ]
    },
    {
     "name": "stderr",
     "output_type": "stream",
     "text": [
      "\r",
      "4-echo monoexponential:  95%|█████████▌| 19209/20176 [00:32<00:01, 573.97it/s]"
     ]
    },
    {
     "name": "stderr",
     "output_type": "stream",
     "text": [
      "\r",
      "4-echo monoexponential:  95%|█████████▌| 19267/20176 [00:32<00:01, 567.12it/s]"
     ]
    },
    {
     "name": "stderr",
     "output_type": "stream",
     "text": [
      "\r",
      "4-echo monoexponential:  96%|█████████▌| 19324/20176 [00:32<00:01, 567.71it/s]"
     ]
    },
    {
     "name": "stderr",
     "output_type": "stream",
     "text": [
      "\r",
      "4-echo monoexponential:  96%|█████████▌| 19381/20176 [00:32<00:01, 556.94it/s]"
     ]
    },
    {
     "name": "stderr",
     "output_type": "stream",
     "text": [
      "\r",
      "4-echo monoexponential:  96%|█████████▋| 19440/20176 [00:32<00:01, 566.34it/s]"
     ]
    },
    {
     "name": "stderr",
     "output_type": "stream",
     "text": [
      "\r",
      "4-echo monoexponential:  97%|█████████▋| 19502/20176 [00:32<00:01, 580.53it/s]"
     ]
    },
    {
     "name": "stderr",
     "output_type": "stream",
     "text": [
      "\r",
      "4-echo monoexponential:  97%|█████████▋| 19561/20176 [00:33<00:01, 571.12it/s]"
     ]
    },
    {
     "name": "stderr",
     "output_type": "stream",
     "text": [
      "\r",
      "4-echo monoexponential:  97%|█████████▋| 19621/20176 [00:33<00:00, 578.28it/s]"
     ]
    },
    {
     "name": "stderr",
     "output_type": "stream",
     "text": [
      "\r",
      "4-echo monoexponential:  98%|█████████▊| 19680/20176 [00:33<00:00, 580.18it/s]"
     ]
    },
    {
     "name": "stderr",
     "output_type": "stream",
     "text": [
      "\r",
      "4-echo monoexponential:  98%|█████████▊| 19744/20176 [00:33<00:00, 597.02it/s]"
     ]
    },
    {
     "name": "stderr",
     "output_type": "stream",
     "text": [
      "\r",
      "4-echo monoexponential:  98%|█████████▊| 19807/20176 [00:33<00:00, 605.09it/s]"
     ]
    },
    {
     "name": "stderr",
     "output_type": "stream",
     "text": [
      "\r",
      "4-echo monoexponential:  98%|█████████▊| 19868/20176 [00:33<00:00, 587.44it/s]"
     ]
    },
    {
     "name": "stderr",
     "output_type": "stream",
     "text": [
      "\r",
      "4-echo monoexponential:  99%|█████████▉| 19927/20176 [00:33<00:00, 577.53it/s]"
     ]
    },
    {
     "name": "stderr",
     "output_type": "stream",
     "text": [
      "\r",
      "4-echo monoexponential:  99%|█████████▉| 19985/20176 [00:33<00:00, 573.70it/s]"
     ]
    },
    {
     "name": "stderr",
     "output_type": "stream",
     "text": [
      "\r",
      "4-echo monoexponential:  99%|█████████▉| 20043/20176 [00:33<00:00, 571.10it/s]"
     ]
    },
    {
     "name": "stderr",
     "output_type": "stream",
     "text": [
      "\r",
      "4-echo monoexponential: 100%|█████████▉| 20101/20176 [00:33<00:00, 566.21it/s]"
     ]
    },
    {
     "name": "stderr",
     "output_type": "stream",
     "text": [
      "\r",
      "4-echo monoexponential: 100%|█████████▉| 20158/20176 [00:34<00:00, 563.61it/s]"
     ]
    },
    {
     "name": "stderr",
     "output_type": "stream",
     "text": [
      "\r",
      "4-echo monoexponential: 100%|██████████| 20176/20176 [00:34<00:00, 591.39it/s]"
     ]
    },
    {
     "name": "stderr",
     "output_type": "stream",
     "text": [
      "\n",
      "INFO     t2smap:t2smap_workflow:319 Calculating model fit quality metrics\n"
     ]
    },
    {
     "name": "stderr",
     "output_type": "stream",
     "text": [
      "/opt/hostedtoolcache/Python/3.10.15/x64/lib/python3.10/site-packages/tedana/decay.py:541: RuntimeWarning: Mean of empty slice\n",
      "  rmse_map = np.nanmean(rmse, axis=1)\n"
     ]
    },
    {
     "name": "stderr",
     "output_type": "stream",
     "text": [
      "INFO     t2smap:t2smap_workflow:331 Computing optimal combination\n"
     ]
    },
    {
     "name": "stderr",
     "output_type": "stream",
     "text": [
      "INFO     combine:make_optcom:192 Optimally combining data with voxel-wise T2* estimates\n"
     ]
    },
    {
     "name": "stderr",
     "output_type": "stream",
     "text": [
      "INFO     t2smap:t2smap_workflow:389 Workflow completed\n"
     ]
    }
   ],
   "source": [
    "workflows.t2smap_workflow(\n",
    "    data_files,\n",
    "    echo_times,\n",
    "    out_dir=out_dir,\n",
    "    mask=mask_file,\n",
    "    prefix=\"sub-04570_task-rest_space-scanner\",\n",
    "    fittype=\"curvefit\",\n",
    ")"
   ]
  },
  {
   "cell_type": "code",
   "execution_count": 4,
   "id": "86b9f7d4",
   "metadata": {},
   "outputs": [
    {
     "name": "stdout",
     "output_type": "stream",
     "text": [
      "sub-04570_task-rest_space-scanner_S0map.nii.gz\n",
      "sub-04570_task-rest_space-scanner_T2starmap.nii.gz\n",
      "sub-04570_task-rest_space-scanner_dataset_description.json\n",
      "sub-04570_task-rest_space-scanner_desc-confounds_timeseries.tsv\n",
      "sub-04570_task-rest_space-scanner_desc-limited_S0map.nii.gz\n",
      "sub-04570_task-rest_space-scanner_desc-limited_T2starmap.nii.gz\n",
      "sub-04570_task-rest_space-scanner_desc-optcom_bold.nii.gz\n",
      "sub-04570_task-rest_space-scanner_desc-rmse_statmap.nii.gz\n",
      "sub-04570_task-rest_space-scanner_desc-tedana_registry.json\n"
     ]
    }
   ],
   "source": [
    "out_files = sorted(glob(os.path.join(out_dir, \"*\")))\n",
    "out_files = [os.path.basename(f) for f in out_files]\n",
    "print(\"\\n\".join(out_files))"
   ]
  },
  {
   "cell_type": "code",
   "execution_count": 5,
   "id": "b608191c",
   "metadata": {},
   "outputs": [],
   "source": [
    "fig, ax = plt.subplots(figsize=(16, 8))\n",
    "plotting.plot_stat_map(\n",
    "    os.path.join(out_dir, \"sub-04570_task-rest_space-scanner_T2starmap.nii.gz\"),\n",
    "    vmax=0.6,\n",
    "    draw_cross=False,\n",
    "    bg_img=None,\n",
    "    figure=fig,\n",
    "    axes=ax,\n",
    ")\n",
    "glue(\"figure_t2starmap\", fig, display=False)"
   ]
  },
  {
   "cell_type": "markdown",
   "id": "35321f28",
   "metadata": {},
   "source": [
    "```{glue:figure} figure_t2starmap\n",
    ":name: \"figure_t2starmap\"\n",
    ":align: center\n",
    "\n",
    "T2* map estimated from multi-echo data using tedana's {py:func}`~tedana.workflows.t2smap_workflow`.\n",
    "```"
   ]
  },
  {
   "cell_type": "code",
   "execution_count": 6,
   "id": "21e38e64",
   "metadata": {},
   "outputs": [],
   "source": [
    "fig, ax = plt.subplots(figsize=(16, 8))\n",
    "plotting.plot_stat_map(\n",
    "    os.path.join(out_dir, \"sub-04570_task-rest_space-scanner_S0map.nii.gz\"),\n",
    "    vmax=8000,\n",
    "    draw_cross=False,\n",
    "    bg_img=None,\n",
    "    figure=fig,\n",
    "    axes=ax,\n",
    ")\n",
    "glue(\"figure_s0map\", fig, display=False)"
   ]
  },
  {
   "cell_type": "markdown",
   "id": "3b298cdf",
   "metadata": {},
   "source": [
    "```{glue:figure} figure_s0map\n",
    ":name: \"figure_s0map\"\n",
    ":align: center\n",
    "\n",
    "S0 map estimated from multi-echo data using tedana's {py:func}`~tedana.workflows.t2smap_workflow`.\n",
    "```"
   ]
  },
  {
   "cell_type": "code",
   "execution_count": 7,
   "id": "870e20dd",
   "metadata": {},
   "outputs": [],
   "source": [
    "fig, axes = plt.subplots(figsize=(16, 15), nrows=5)\n",
    "plotting.plot_epi(\n",
    "    image.mean_img(data_files[0]),\n",
    "    draw_cross=False,\n",
    "    bg_img=None,\n",
    "    cut_coords=[-10, 0, 10, 20, 30, 40, 50, 60, 70],\n",
    "    display_mode=\"z\",\n",
    "    figure=fig,\n",
    "    axes=axes[0],\n",
    ")\n",
    "plotting.plot_epi(\n",
    "    image.mean_img(data_files[1]),\n",
    "    draw_cross=False,\n",
    "    bg_img=None,\n",
    "    cut_coords=[-10, 0, 10, 20, 30, 40, 50, 60, 70],\n",
    "    display_mode=\"z\",\n",
    "    figure=fig,\n",
    "    axes=axes[1],\n",
    ")\n",
    "plotting.plot_epi(\n",
    "    image.mean_img(data_files[2]),\n",
    "    draw_cross=False,\n",
    "    bg_img=None,\n",
    "    cut_coords=[-10, 0, 10, 20, 30, 40, 50, 60, 70],\n",
    "    display_mode=\"z\",\n",
    "    figure=fig,\n",
    "    axes=axes[2],\n",
    ")\n",
    "plotting.plot_epi(\n",
    "    image.mean_img(data_files[3]),\n",
    "    draw_cross=False,\n",
    "    bg_img=None,\n",
    "    cut_coords=[-10, 0, 10, 20, 30, 40, 50, 60, 70],\n",
    "    display_mode=\"z\",\n",
    "    figure=fig,\n",
    "    axes=axes[3],\n",
    ")\n",
    "plotting.plot_epi(\n",
    "    image.mean_img(\n",
    "        os.path.join(\n",
    "            out_dir, \"sub-04570_task-rest_space-scanner_desc-optcom_bold.nii.gz\"\n",
    "        )\n",
    "    ),\n",
    "    draw_cross=False,\n",
    "    bg_img=None,\n",
    "    cut_coords=[-10, 0, 10, 20, 30, 40, 50, 60, 70],\n",
    "    display_mode=\"z\",\n",
    "    figure=fig,\n",
    "    axes=axes[4],\n",
    ")\n",
    "glue(\"figure_t2smap_epi_plots\", fig, display=False)"
   ]
  },
  {
   "cell_type": "markdown",
   "id": "7b7b9c99",
   "metadata": {},
   "source": [
    "```{glue:figure} figure_t2smap_epi_plots\n",
    ":name: \"figure_t2smap_epi_plots\"\n",
    ":align: center\n",
    "\n",
    "Mean map of each of the echoes in the original data, along with the mean map of the optimally combined data.\n",
    "```"
   ]
  },
  {
   "cell_type": "code",
   "execution_count": 8,
   "id": "d4764793",
   "metadata": {},
   "outputs": [
    {
     "name": "stderr",
     "output_type": "stream",
     "text": [
      "<string>:1: RuntimeWarning: invalid value encountered in divide\n"
     ]
    },
    {
     "name": "stderr",
     "output_type": "stream",
     "text": [
      "/opt/hostedtoolcache/Python/3.10.15/x64/lib/python3.10/site-packages/nilearn/plotting/img_plotting.py:1317: UserWarning: Non-finite values detected. These values will be replaced with zeros.\n",
      "  safe_get_data(stat_map_img, ensure_finite=True),\n"
     ]
    }
   ],
   "source": [
    "te30_tsnr = image.math_img(\n",
    "    \"(np.nanmean(img, axis=3) / np.nanstd(img, axis=3)) * mask\",\n",
    "    img=data_files[1],\n",
    "    mask=mask_file,\n",
    ")\n",
    "oc_tsnr = image.math_img(\n",
    "    \"(np.nanmean(img, axis=3) / np.nanstd(img, axis=3)) * mask\",\n",
    "    img=os.path.join(\n",
    "        out_dir, \"sub-04570_task-rest_space-scanner_desc-optcom_bold.nii.gz\"\n",
    "    ),\n",
    "    mask=mask_file,\n",
    ")\n",
    "vmax = np.nanmax(np.abs(oc_tsnr.get_fdata()))\n",
    "\n",
    "fig, axes = plt.subplots(figsize=(10, 8), nrows=2)\n",
    "plotting.plot_stat_map(\n",
    "    te30_tsnr,\n",
    "    draw_cross=False,\n",
    "    bg_img=None,\n",
    "    threshold=0.1,\n",
    "    cut_coords=[0, 10, 10],\n",
    "    vmax=vmax,\n",
    "    symmetric_cbar=False,\n",
    "    figure=fig,\n",
    "    axes=axes[0],\n",
    ")\n",
    "axes[0].set_title(\"TE30 TSNR\", fontsize=16)\n",
    "plotting.plot_stat_map(\n",
    "    oc_tsnr,\n",
    "    draw_cross=False,\n",
    "    bg_img=None,\n",
    "    threshold=0.1,\n",
    "    cut_coords=[0, 10, 10],\n",
    "    vmax=vmax,\n",
    "    symmetric_cbar=False,\n",
    "    figure=fig,\n",
    "    axes=axes[1],\n",
    ")\n",
    "axes[1].set_title(\"Optimal Combination TSNR\", fontsize=16)\n",
    "glue(\"figure_t2smap_t2snr\", fig, display=False)"
   ]
  },
  {
   "cell_type": "markdown",
   "id": "7ebe3619",
   "metadata": {},
   "source": [
    "```{glue:figure} figure_t2smap_t2snr\n",
    ":name: \"figure_t2smap_t2snr\"\n",
    ":align: center\n",
    "\n",
    "TSNR map of each of the echoes in the original data, along with the TSNR map of the optimally combined data.\n",
    "```"
   ]
  },
  {
   "cell_type": "code",
   "execution_count": 9,
   "id": "47513f2f",
   "metadata": {},
   "outputs": [],
   "source": [
    "fig, ax = plt.subplots(figsize=(16, 8))\n",
    "plotting.plot_carpet(\n",
    "    data_files[1],\n",
    "    figure=fig,\n",
    "    axes=ax,\n",
    ")\n",
    "glue(\"figure_echo2_carpet\", fig, display=False)"
   ]
  },
  {
   "cell_type": "markdown",
   "id": "14b9ceb9",
   "metadata": {},
   "source": [
    "```{glue:figure} figure_echo2_carpet\n",
    ":name: \"figure_echo2_carpet\"\n",
    ":align: center\n",
    "\n",
    "Carpet plot of the second echo's data.\n",
    "```"
   ]
  },
  {
   "cell_type": "code",
   "execution_count": 10,
   "id": "bb74d504",
   "metadata": {},
   "outputs": [],
   "source": [
    "fig, ax = plt.subplots(figsize=(16, 8))\n",
    "plotting.plot_carpet(\n",
    "    os.path.join(out_dir, \"sub-04570_task-rest_space-scanner_desc-optcom_bold.nii.gz\"),\n",
    "    axes=ax,\n",
    ")\n",
    "glue(\"figure_optcom_carpet\", fig, display=False)"
   ]
  },
  {
   "cell_type": "markdown",
   "id": "5610ad44",
   "metadata": {},
   "source": [
    "```{glue:figure} figure_optcom_carpet\n",
    ":name: \"figure_optcom_carpet\"\n",
    ":align: center\n",
    "\n",
    "Carpet plot of the optimally combined data.\n",
    "```"
   ]
  }
 ],
 "metadata": {
  "jupytext": {
   "text_representation": {
    "extension": ".md",
    "format_name": "myst",
    "format_version": 0.13,
    "jupytext_version": "1.10.3"
   }
  },
  "kernelspec": {
   "display_name": "Python 3",
   "language": "python",
   "name": "python3"
  },
  "language_info": {
   "codemirror_mode": {
    "name": "ipython",
    "version": 3
   },
   "file_extension": ".py",
   "mimetype": "text/x-python",
   "name": "python",
   "nbconvert_exporter": "python",
   "pygments_lexer": "ipython3",
   "version": "3.10.15"
  },
  "source_map": [
   12,
   18,
   38,
   69,
   80,
   86,
   97,
   106,
   117,
   126,
   178,
   187,
   228,
   237,
   245,
   254,
   261
  ]
 },
 "nbformat": 4,
 "nbformat_minor": 5
}